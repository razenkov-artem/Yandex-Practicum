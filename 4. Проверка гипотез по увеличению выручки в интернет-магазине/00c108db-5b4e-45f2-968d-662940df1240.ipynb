{
 "cells": [
  {
   "cell_type": "markdown",
   "metadata": {},
   "source": [
    "# Принятие решений в бизнесе на основе данных - \"Проверка гипотез по увеличению выручки в интернет-магазине — оценика результатов A/B теста\""
   ]
  },
  {
   "cell_type": "markdown",
   "metadata": {},
   "source": [
    "Вы — аналитик крупного интернет-магазина. Вместе с отделом маркетинга вы подготовили список гипотез для увеличения выручки. Приоритизируйте гипотезы, запустите A/B-тест и проанализируйте результаты."
   ]
  },
  {
   "cell_type": "markdown",
   "metadata": {},
   "source": [
    "<b>Описание данных:</b>\n",
    "\n",
    "Данные для первой части.\n",
    "\n",
    "В файле 9 гипотез по увеличению выручки интернет-магазина с указанными параметрами Reach, Impact, Confidence, Effort.\n",
    "\n",
    "1. Hypothesis — краткое описание гипотезы;\n",
    "2. Reach — охват пользователей по 10-балльной шкале;\n",
    "3. Impact — влияние на пользователей по 10-балльной шкале;\n",
    "4. Confidence — уверенность в гипотезе по 10-балльной шкале;\n",
    "5.Efforts — затраты ресурсов на проверку гипотезы по 10-балльной шкале. Чем больше значение Efforts, тем дороже проверка гипотезы.\n",
    "\n",
    "Данные для второй части.\n",
    "\n",
    "Файле с данными о заказах пользователей.\n",
    "\n",
    "1. transactionId — идентификатор заказа;\n",
    "2. visitorId — идентификатор пользователя, совершившего заказ;\n",
    "3. date — дата, когда был совершён заказ;\n",
    "4. revenue — выручка заказа;\n",
    "5. group — группа A/B-теста, в которую попал заказ.\n",
    "\n",
    "Файл о пользователях интернет-магазина\n",
    "\n",
    "1. date — дата;\n",
    "2. group — группа A/B-теста;\n",
    "3. visitors — количество пользователей в указанную дату в указанной группе A/B-теста"
   ]
  },
  {
   "cell_type": "markdown",
   "metadata": {},
   "source": [
    "<b>Задача:</b> В данной работе нам предстоит приоритезировать список гипотез для увеличения выручки, применив фреймворки ICE и RICE, и проанализировать результаты проведенного А/В теста с помощью средств визуализации и статистических расчетов."
   ]
  },
  {
   "cell_type": "markdown",
   "metadata": {},
   "source": [
    "### Приоритизация гипотез."
   ]
  },
  {
   "cell_type": "code",
   "execution_count": 1,
   "metadata": {},
   "outputs": [],
   "source": [
    "import pandas as pd\n",
    "import scipy.stats as stats\n",
    "import datetime as dt\n",
    "import numpy as np\n",
    "import matplotlib.pyplot as plt\n",
    "import warnings\n",
    "warnings.filterwarnings('ignore')\n",
    "pd.options.display.max_colwidth = 150"
   ]
  },
  {
   "cell_type": "code",
   "execution_count": 2,
   "metadata": {
    "scrolled": true
   },
   "outputs": [
    {
     "data": {
      "text/html": [
       "<div>\n",
       "<style scoped>\n",
       "    .dataframe tbody tr th:only-of-type {\n",
       "        vertical-align: middle;\n",
       "    }\n",
       "\n",
       "    .dataframe tbody tr th {\n",
       "        vertical-align: top;\n",
       "    }\n",
       "\n",
       "    .dataframe thead th {\n",
       "        text-align: right;\n",
       "    }\n",
       "</style>\n",
       "<table border=\"1\" class=\"dataframe\">\n",
       "  <thead>\n",
       "    <tr style=\"text-align: right;\">\n",
       "      <th></th>\n",
       "      <th>Hypothesis</th>\n",
       "      <th>Reach</th>\n",
       "      <th>Impact</th>\n",
       "      <th>Confidence</th>\n",
       "      <th>Efforts</th>\n",
       "    </tr>\n",
       "  </thead>\n",
       "  <tbody>\n",
       "    <tr>\n",
       "      <th>0</th>\n",
       "      <td>Добавить два новых канала привлечения трафика,...</td>\n",
       "      <td>3</td>\n",
       "      <td>10</td>\n",
       "      <td>8</td>\n",
       "      <td>6</td>\n",
       "    </tr>\n",
       "    <tr>\n",
       "      <th>1</th>\n",
       "      <td>Запустить собственную службу доставки, что сок...</td>\n",
       "      <td>2</td>\n",
       "      <td>5</td>\n",
       "      <td>4</td>\n",
       "      <td>10</td>\n",
       "    </tr>\n",
       "    <tr>\n",
       "      <th>2</th>\n",
       "      <td>Добавить блоки рекомендаций товаров на сайт ин...</td>\n",
       "      <td>8</td>\n",
       "      <td>3</td>\n",
       "      <td>7</td>\n",
       "      <td>3</td>\n",
       "    </tr>\n",
       "    <tr>\n",
       "      <th>3</th>\n",
       "      <td>Изменить структура категорий, что увеличит кон...</td>\n",
       "      <td>8</td>\n",
       "      <td>3</td>\n",
       "      <td>3</td>\n",
       "      <td>8</td>\n",
       "    </tr>\n",
       "    <tr>\n",
       "      <th>4</th>\n",
       "      <td>Изменить цвет фона главной страницы, чтобы уве...</td>\n",
       "      <td>3</td>\n",
       "      <td>1</td>\n",
       "      <td>1</td>\n",
       "      <td>1</td>\n",
       "    </tr>\n",
       "    <tr>\n",
       "      <th>5</th>\n",
       "      <td>Добавить страницу отзывов клиентов о магазине,...</td>\n",
       "      <td>3</td>\n",
       "      <td>2</td>\n",
       "      <td>2</td>\n",
       "      <td>3</td>\n",
       "    </tr>\n",
       "    <tr>\n",
       "      <th>6</th>\n",
       "      <td>Показать на главной странице баннеры с актуаль...</td>\n",
       "      <td>5</td>\n",
       "      <td>3</td>\n",
       "      <td>8</td>\n",
       "      <td>3</td>\n",
       "    </tr>\n",
       "    <tr>\n",
       "      <th>7</th>\n",
       "      <td>Добавить форму подписки на все основные страни...</td>\n",
       "      <td>10</td>\n",
       "      <td>7</td>\n",
       "      <td>8</td>\n",
       "      <td>5</td>\n",
       "    </tr>\n",
       "    <tr>\n",
       "      <th>8</th>\n",
       "      <td>Запустить акцию, дающую скидку на товар в день...</td>\n",
       "      <td>1</td>\n",
       "      <td>9</td>\n",
       "      <td>9</td>\n",
       "      <td>5</td>\n",
       "    </tr>\n",
       "  </tbody>\n",
       "</table>\n",
       "</div>"
      ],
      "text/plain": [
       "                                          Hypothesis  Reach  Impact  \\\n",
       "0  Добавить два новых канала привлечения трафика,...      3      10   \n",
       "1  Запустить собственную службу доставки, что сок...      2       5   \n",
       "2  Добавить блоки рекомендаций товаров на сайт ин...      8       3   \n",
       "3  Изменить структура категорий, что увеличит кон...      8       3   \n",
       "4  Изменить цвет фона главной страницы, чтобы уве...      3       1   \n",
       "5  Добавить страницу отзывов клиентов о магазине,...      3       2   \n",
       "6  Показать на главной странице баннеры с актуаль...      5       3   \n",
       "7  Добавить форму подписки на все основные страни...     10       7   \n",
       "8  Запустить акцию, дающую скидку на товар в день...      1       9   \n",
       "\n",
       "   Confidence  Efforts  \n",
       "0           8        6  \n",
       "1           4       10  \n",
       "2           7        3  \n",
       "3           3        8  \n",
       "4           1        1  \n",
       "5           2        3  \n",
       "6           8        3  \n",
       "7           8        5  \n",
       "8           9        5  "
      ]
     },
     "execution_count": 2,
     "metadata": {},
     "output_type": "execute_result"
    }
   ],
   "source": [
    "hypothesis = pd.read_csv('hypothesis.csv')\n",
    "pd.options.display.max_colwidth = 50\n",
    "hypothesis"
   ]
  },
  {
   "cell_type": "code",
   "execution_count": 3,
   "metadata": {},
   "outputs": [],
   "source": [
    "hypothesis.columns = hypothesis.columns.str.lower()"
   ]
  },
  {
   "cell_type": "markdown",
   "metadata": {},
   "source": [
    "Применим фреймворки:"
   ]
  },
  {
   "cell_type": "code",
   "execution_count": 41,
   "metadata": {},
   "outputs": [
    {
     "data": {
      "text/html": [
       "<div>\n",
       "<style scoped>\n",
       "    .dataframe tbody tr th:only-of-type {\n",
       "        vertical-align: middle;\n",
       "    }\n",
       "\n",
       "    .dataframe tbody tr th {\n",
       "        vertical-align: top;\n",
       "    }\n",
       "\n",
       "    .dataframe thead th {\n",
       "        text-align: right;\n",
       "    }\n",
       "</style>\n",
       "<table border=\"1\" class=\"dataframe\">\n",
       "  <thead>\n",
       "    <tr style=\"text-align: right;\">\n",
       "      <th></th>\n",
       "      <th>hypothesis</th>\n",
       "      <th>ICE</th>\n",
       "    </tr>\n",
       "  </thead>\n",
       "  <tbody>\n",
       "    <tr>\n",
       "      <th>8</th>\n",
       "      <td>Запустить акцию, дающую скидку на товар в день...</td>\n",
       "      <td>16.20</td>\n",
       "    </tr>\n",
       "    <tr>\n",
       "      <th>0</th>\n",
       "      <td>Добавить два новых канала привлечения трафика,...</td>\n",
       "      <td>13.33</td>\n",
       "    </tr>\n",
       "    <tr>\n",
       "      <th>7</th>\n",
       "      <td>Добавить форму подписки на все основные страни...</td>\n",
       "      <td>11.20</td>\n",
       "    </tr>\n",
       "    <tr>\n",
       "      <th>6</th>\n",
       "      <td>Показать на главной странице баннеры с актуаль...</td>\n",
       "      <td>8.00</td>\n",
       "    </tr>\n",
       "    <tr>\n",
       "      <th>2</th>\n",
       "      <td>Добавить блоки рекомендаций товаров на сайт ин...</td>\n",
       "      <td>7.00</td>\n",
       "    </tr>\n",
       "    <tr>\n",
       "      <th>1</th>\n",
       "      <td>Запустить собственную службу доставки, что сок...</td>\n",
       "      <td>2.00</td>\n",
       "    </tr>\n",
       "    <tr>\n",
       "      <th>5</th>\n",
       "      <td>Добавить страницу отзывов клиентов о магазине,...</td>\n",
       "      <td>1.33</td>\n",
       "    </tr>\n",
       "    <tr>\n",
       "      <th>3</th>\n",
       "      <td>Изменить структура категорий, что увеличит кон...</td>\n",
       "      <td>1.12</td>\n",
       "    </tr>\n",
       "    <tr>\n",
       "      <th>4</th>\n",
       "      <td>Изменить цвет фона главной страницы, чтобы уве...</td>\n",
       "      <td>1.00</td>\n",
       "    </tr>\n",
       "  </tbody>\n",
       "</table>\n",
       "</div>"
      ],
      "text/plain": [
       "                                          hypothesis    ICE\n",
       "8  Запустить акцию, дающую скидку на товар в день...  16.20\n",
       "0  Добавить два новых канала привлечения трафика,...  13.33\n",
       "7  Добавить форму подписки на все основные страни...  11.20\n",
       "6  Показать на главной странице баннеры с актуаль...   8.00\n",
       "2  Добавить блоки рекомендаций товаров на сайт ин...   7.00\n",
       "1  Запустить собственную службу доставки, что сок...   2.00\n",
       "5  Добавить страницу отзывов клиентов о магазине,...   1.33\n",
       "3  Изменить структура категорий, что увеличит кон...   1.12\n",
       "4  Изменить цвет фона главной страницы, чтобы уве...   1.00"
      ]
     },
     "metadata": {},
     "output_type": "display_data"
    }
   ],
   "source": [
    "hypothesis['ICE'] = np.round(hypothesis['impact'] * hypothesis['confidence'] \n",
    "                             / hypothesis['efforts'], 2)\n",
    "\n",
    "display(hypothesis[['hypothesis', 'ICE']].sort_values(by='ICE', ascending=False))"
   ]
  },
  {
   "cell_type": "code",
   "execution_count": 39,
   "metadata": {},
   "outputs": [
    {
     "data": {
      "text/html": [
       "<div>\n",
       "<style scoped>\n",
       "    .dataframe tbody tr th:only-of-type {\n",
       "        vertical-align: middle;\n",
       "    }\n",
       "\n",
       "    .dataframe tbody tr th {\n",
       "        vertical-align: top;\n",
       "    }\n",
       "\n",
       "    .dataframe thead th {\n",
       "        text-align: right;\n",
       "    }\n",
       "</style>\n",
       "<table border=\"1\" class=\"dataframe\">\n",
       "  <thead>\n",
       "    <tr style=\"text-align: right;\">\n",
       "      <th></th>\n",
       "      <th>hypothesis</th>\n",
       "      <th>RICE</th>\n",
       "    </tr>\n",
       "  </thead>\n",
       "  <tbody>\n",
       "    <tr>\n",
       "      <th>7</th>\n",
       "      <td>Добавить форму подписки на все основные страни...</td>\n",
       "      <td>112.0</td>\n",
       "    </tr>\n",
       "    <tr>\n",
       "      <th>2</th>\n",
       "      <td>Добавить блоки рекомендаций товаров на сайт ин...</td>\n",
       "      <td>56.0</td>\n",
       "    </tr>\n",
       "    <tr>\n",
       "      <th>0</th>\n",
       "      <td>Добавить два новых канала привлечения трафика,...</td>\n",
       "      <td>40.0</td>\n",
       "    </tr>\n",
       "    <tr>\n",
       "      <th>6</th>\n",
       "      <td>Показать на главной странице баннеры с актуаль...</td>\n",
       "      <td>40.0</td>\n",
       "    </tr>\n",
       "    <tr>\n",
       "      <th>8</th>\n",
       "      <td>Запустить акцию, дающую скидку на товар в день...</td>\n",
       "      <td>16.2</td>\n",
       "    </tr>\n",
       "    <tr>\n",
       "      <th>3</th>\n",
       "      <td>Изменить структура категорий, что увеличит кон...</td>\n",
       "      <td>9.0</td>\n",
       "    </tr>\n",
       "    <tr>\n",
       "      <th>1</th>\n",
       "      <td>Запустить собственную службу доставки, что сок...</td>\n",
       "      <td>4.0</td>\n",
       "    </tr>\n",
       "    <tr>\n",
       "      <th>5</th>\n",
       "      <td>Добавить страницу отзывов клиентов о магазине,...</td>\n",
       "      <td>4.0</td>\n",
       "    </tr>\n",
       "    <tr>\n",
       "      <th>4</th>\n",
       "      <td>Изменить цвет фона главной страницы, чтобы уве...</td>\n",
       "      <td>3.0</td>\n",
       "    </tr>\n",
       "  </tbody>\n",
       "</table>\n",
       "</div>"
      ],
      "text/plain": [
       "                                          hypothesis   RICE\n",
       "7  Добавить форму подписки на все основные страни...  112.0\n",
       "2  Добавить блоки рекомендаций товаров на сайт ин...   56.0\n",
       "0  Добавить два новых канала привлечения трафика,...   40.0\n",
       "6  Показать на главной странице баннеры с актуаль...   40.0\n",
       "8  Запустить акцию, дающую скидку на товар в день...   16.2\n",
       "3  Изменить структура категорий, что увеличит кон...    9.0\n",
       "1  Запустить собственную службу доставки, что сок...    4.0\n",
       "5  Добавить страницу отзывов клиентов о магазине,...    4.0\n",
       "4  Изменить цвет фона главной страницы, чтобы уве...    3.0"
      ]
     },
     "metadata": {},
     "output_type": "display_data"
    }
   ],
   "source": [
    "hypothesis['RICE'] = (hypothesis['reach'] * hypothesis['impact'] *\n",
    "               hypothesis['confidence'] / hypothesis['efforts'])\n",
    "\n",
    "display(hypothesis[['hypothesis', 'RICE']].sort_values(by='RICE', ascending=False))"
   ]
  },
  {
   "cell_type": "markdown",
   "metadata": {},
   "source": [
    "После использования фреймоврка ICE выделяем топ-3 гипотезы - c акцией на день рождения, два новых канала, добавление формы подписки; после RICE - добавление формы подписки, добавление блока рекомендаций, два новых канала привлечения (плюс гипотеза с баннерами имеет такой же приоритет, что и последняя). Первые две гипотезы \"вырвались вперед\" из-за высокого параметра Reach - 10 и 8 соответственно. Фреймворк RICE показывает, как много пользователей затронет изменение."
   ]
  },
  {
   "cell_type": "markdown",
   "metadata": {},
   "source": [
    "###  Анализ A/B-теста."
   ]
  },
  {
   "cell_type": "code",
   "execution_count": 6,
   "metadata": {},
   "outputs": [
    {
     "data": {
      "text/html": [
       "<div>\n",
       "<style scoped>\n",
       "    .dataframe tbody tr th:only-of-type {\n",
       "        vertical-align: middle;\n",
       "    }\n",
       "\n",
       "    .dataframe tbody tr th {\n",
       "        vertical-align: top;\n",
       "    }\n",
       "\n",
       "    .dataframe thead th {\n",
       "        text-align: right;\n",
       "    }\n",
       "</style>\n",
       "<table border=\"1\" class=\"dataframe\">\n",
       "  <thead>\n",
       "    <tr style=\"text-align: right;\">\n",
       "      <th></th>\n",
       "      <th>transactionId</th>\n",
       "      <th>visitorId</th>\n",
       "      <th>date</th>\n",
       "      <th>revenue</th>\n",
       "      <th>group</th>\n",
       "    </tr>\n",
       "  </thead>\n",
       "  <tbody>\n",
       "    <tr>\n",
       "      <th>0</th>\n",
       "      <td>3667963787</td>\n",
       "      <td>3312258926</td>\n",
       "      <td>2019-08-15</td>\n",
       "      <td>1650</td>\n",
       "      <td>B</td>\n",
       "    </tr>\n",
       "    <tr>\n",
       "      <th>1</th>\n",
       "      <td>2804400009</td>\n",
       "      <td>3642806036</td>\n",
       "      <td>2019-08-15</td>\n",
       "      <td>730</td>\n",
       "      <td>B</td>\n",
       "    </tr>\n",
       "    <tr>\n",
       "      <th>2</th>\n",
       "      <td>2961555356</td>\n",
       "      <td>4069496402</td>\n",
       "      <td>2019-08-15</td>\n",
       "      <td>400</td>\n",
       "      <td>A</td>\n",
       "    </tr>\n",
       "    <tr>\n",
       "      <th>3</th>\n",
       "      <td>3797467345</td>\n",
       "      <td>1196621759</td>\n",
       "      <td>2019-08-15</td>\n",
       "      <td>9759</td>\n",
       "      <td>B</td>\n",
       "    </tr>\n",
       "    <tr>\n",
       "      <th>4</th>\n",
       "      <td>2282983706</td>\n",
       "      <td>2322279887</td>\n",
       "      <td>2019-08-15</td>\n",
       "      <td>2308</td>\n",
       "      <td>B</td>\n",
       "    </tr>\n",
       "  </tbody>\n",
       "</table>\n",
       "</div>"
      ],
      "text/plain": [
       "   transactionId   visitorId        date  revenue group\n",
       "0     3667963787  3312258926  2019-08-15     1650     B\n",
       "1     2804400009  3642806036  2019-08-15      730     B\n",
       "2     2961555356  4069496402  2019-08-15      400     A\n",
       "3     3797467345  1196621759  2019-08-15     9759     B\n",
       "4     2282983706  2322279887  2019-08-15     2308     B"
      ]
     },
     "execution_count": 6,
     "metadata": {},
     "output_type": "execute_result"
    }
   ],
   "source": [
    "orders = pd.read_csv('orders.csv')\n",
    "orders.head(5)"
   ]
  },
  {
   "cell_type": "code",
   "execution_count": 7,
   "metadata": {},
   "outputs": [
    {
     "name": "stdout",
     "output_type": "stream",
     "text": [
      "<class 'pandas.core.frame.DataFrame'>\n",
      "RangeIndex: 1197 entries, 0 to 1196\n",
      "Data columns (total 5 columns):\n",
      " #   Column         Non-Null Count  Dtype \n",
      "---  ------         --------------  ----- \n",
      " 0   transactionId  1197 non-null   int64 \n",
      " 1   visitorId      1197 non-null   int64 \n",
      " 2   date           1197 non-null   object\n",
      " 3   revenue        1197 non-null   int64 \n",
      " 4   group          1197 non-null   object\n",
      "dtypes: int64(3), object(2)\n",
      "memory usage: 46.9+ KB\n"
     ]
    }
   ],
   "source": [
    "orders.info()"
   ]
  },
  {
   "cell_type": "markdown",
   "metadata": {},
   "source": [
    "Можно подготовить данные и проверить на дубликаты идентификаторы заказа:"
   ]
  },
  {
   "cell_type": "code",
   "execution_count": 8,
   "metadata": {},
   "outputs": [],
   "source": [
    "orders['date'] = orders['date'].map(\n",
    "    lambda x: dt.datetime.strptime(x, '%Y-%m-%d')\n",
    ")"
   ]
  },
  {
   "cell_type": "markdown",
   "metadata": {},
   "source": [
    "Поищем пользователей, которые находятся сразу в двух группах:"
   ]
  },
  {
   "cell_type": "code",
   "execution_count": 9,
   "metadata": {},
   "outputs": [
    {
     "data": {
      "text/plain": [
       "5.63"
      ]
     },
     "execution_count": 9,
     "metadata": {},
     "output_type": "execute_result"
    }
   ],
   "source": [
    "dup = list(orders.groupby('visitorId')\n",
    "             .nunique()\n",
    "             .query('group == 2')\n",
    "             .index)\n",
    "np.round(len(dup) / orders['visitorId'].nunique() * 100, 2)"
   ]
  },
  {
   "cell_type": "markdown",
   "metadata": {},
   "source": [
    "Процент пользователей, находящихся в обоих группах, составляет 5,63%, что не критическим значением, поэтому их учитывать не будем."
   ]
  },
  {
   "cell_type": "code",
   "execution_count": 10,
   "metadata": {},
   "outputs": [],
   "source": [
    "orders = orders.query('visitorId not in @dup')"
   ]
  },
  {
   "cell_type": "code",
   "execution_count": 11,
   "metadata": {},
   "outputs": [
    {
     "data": {
      "text/html": [
       "<div>\n",
       "<style scoped>\n",
       "    .dataframe tbody tr th:only-of-type {\n",
       "        vertical-align: middle;\n",
       "    }\n",
       "\n",
       "    .dataframe tbody tr th {\n",
       "        vertical-align: top;\n",
       "    }\n",
       "\n",
       "    .dataframe thead th {\n",
       "        text-align: right;\n",
       "    }\n",
       "</style>\n",
       "<table border=\"1\" class=\"dataframe\">\n",
       "  <thead>\n",
       "    <tr style=\"text-align: right;\">\n",
       "      <th></th>\n",
       "      <th>date</th>\n",
       "      <th>group</th>\n",
       "      <th>visitors</th>\n",
       "    </tr>\n",
       "  </thead>\n",
       "  <tbody>\n",
       "    <tr>\n",
       "      <th>0</th>\n",
       "      <td>2019-08-01</td>\n",
       "      <td>A</td>\n",
       "      <td>719</td>\n",
       "    </tr>\n",
       "    <tr>\n",
       "      <th>1</th>\n",
       "      <td>2019-08-02</td>\n",
       "      <td>A</td>\n",
       "      <td>619</td>\n",
       "    </tr>\n",
       "    <tr>\n",
       "      <th>2</th>\n",
       "      <td>2019-08-03</td>\n",
       "      <td>A</td>\n",
       "      <td>507</td>\n",
       "    </tr>\n",
       "    <tr>\n",
       "      <th>3</th>\n",
       "      <td>2019-08-04</td>\n",
       "      <td>A</td>\n",
       "      <td>717</td>\n",
       "    </tr>\n",
       "    <tr>\n",
       "      <th>4</th>\n",
       "      <td>2019-08-05</td>\n",
       "      <td>A</td>\n",
       "      <td>756</td>\n",
       "    </tr>\n",
       "  </tbody>\n",
       "</table>\n",
       "</div>"
      ],
      "text/plain": [
       "         date group  visitors\n",
       "0  2019-08-01     A       719\n",
       "1  2019-08-02     A       619\n",
       "2  2019-08-03     A       507\n",
       "3  2019-08-04     A       717\n",
       "4  2019-08-05     A       756"
      ]
     },
     "execution_count": 11,
     "metadata": {},
     "output_type": "execute_result"
    }
   ],
   "source": [
    "visitors = pd.read_csv('visitors.csv')\n",
    "visitors.head(5)"
   ]
  },
  {
   "cell_type": "code",
   "execution_count": 12,
   "metadata": {},
   "outputs": [
    {
     "name": "stdout",
     "output_type": "stream",
     "text": [
      "<class 'pandas.core.frame.DataFrame'>\n",
      "RangeIndex: 62 entries, 0 to 61\n",
      "Data columns (total 3 columns):\n",
      " #   Column    Non-Null Count  Dtype \n",
      "---  ------    --------------  ----- \n",
      " 0   date      62 non-null     object\n",
      " 1   group     62 non-null     object\n",
      " 2   visitors  62 non-null     int64 \n",
      "dtypes: int64(1), object(2)\n",
      "memory usage: 1.6+ KB\n"
     ]
    }
   ],
   "source": [
    "visitors.info()"
   ]
  },
  {
   "cell_type": "code",
   "execution_count": 13,
   "metadata": {},
   "outputs": [],
   "source": [
    "visitors['date'] = visitors['date'].map(\n",
    "    lambda x: dt.datetime.strptime(x, '%Y-%m-%d')\n",
    ")"
   ]
  },
  {
   "cell_type": "code",
   "execution_count": 14,
   "metadata": {},
   "outputs": [
    {
     "data": {
      "text/html": [
       "<div>\n",
       "<style scoped>\n",
       "    .dataframe tbody tr th:only-of-type {\n",
       "        vertical-align: middle;\n",
       "    }\n",
       "\n",
       "    .dataframe tbody tr th {\n",
       "        vertical-align: top;\n",
       "    }\n",
       "\n",
       "    .dataframe thead th {\n",
       "        text-align: right;\n",
       "    }\n",
       "</style>\n",
       "<table border=\"1\" class=\"dataframe\">\n",
       "  <thead>\n",
       "    <tr style=\"text-align: right;\">\n",
       "      <th></th>\n",
       "      <th>date</th>\n",
       "      <th>group</th>\n",
       "      <th>orders</th>\n",
       "      <th>buyers</th>\n",
       "      <th>revenue</th>\n",
       "      <th>visitors</th>\n",
       "    </tr>\n",
       "  </thead>\n",
       "  <tbody>\n",
       "    <tr>\n",
       "      <th>0</th>\n",
       "      <td>2019-08-01</td>\n",
       "      <td>A</td>\n",
       "      <td>23</td>\n",
       "      <td>19</td>\n",
       "      <td>142779</td>\n",
       "      <td>719</td>\n",
       "    </tr>\n",
       "    <tr>\n",
       "      <th>1</th>\n",
       "      <td>2019-08-01</td>\n",
       "      <td>B</td>\n",
       "      <td>17</td>\n",
       "      <td>17</td>\n",
       "      <td>59758</td>\n",
       "      <td>713</td>\n",
       "    </tr>\n",
       "    <tr>\n",
       "      <th>2</th>\n",
       "      <td>2019-08-02</td>\n",
       "      <td>A</td>\n",
       "      <td>42</td>\n",
       "      <td>36</td>\n",
       "      <td>234381</td>\n",
       "      <td>1338</td>\n",
       "    </tr>\n",
       "    <tr>\n",
       "      <th>3</th>\n",
       "      <td>2019-08-02</td>\n",
       "      <td>B</td>\n",
       "      <td>40</td>\n",
       "      <td>39</td>\n",
       "      <td>221801</td>\n",
       "      <td>1294</td>\n",
       "    </tr>\n",
       "    <tr>\n",
       "      <th>4</th>\n",
       "      <td>2019-08-03</td>\n",
       "      <td>A</td>\n",
       "      <td>66</td>\n",
       "      <td>60</td>\n",
       "      <td>346854</td>\n",
       "      <td>1845</td>\n",
       "    </tr>\n",
       "    <tr>\n",
       "      <th>5</th>\n",
       "      <td>2019-08-03</td>\n",
       "      <td>B</td>\n",
       "      <td>54</td>\n",
       "      <td>53</td>\n",
       "      <td>288850</td>\n",
       "      <td>1803</td>\n",
       "    </tr>\n",
       "    <tr>\n",
       "      <th>6</th>\n",
       "      <td>2019-08-04</td>\n",
       "      <td>A</td>\n",
       "      <td>77</td>\n",
       "      <td>71</td>\n",
       "      <td>388030</td>\n",
       "      <td>2562</td>\n",
       "    </tr>\n",
       "    <tr>\n",
       "      <th>7</th>\n",
       "      <td>2019-08-04</td>\n",
       "      <td>B</td>\n",
       "      <td>68</td>\n",
       "      <td>66</td>\n",
       "      <td>385740</td>\n",
       "      <td>2573</td>\n",
       "    </tr>\n",
       "    <tr>\n",
       "      <th>8</th>\n",
       "      <td>2019-08-05</td>\n",
       "      <td>A</td>\n",
       "      <td>99</td>\n",
       "      <td>92</td>\n",
       "      <td>474413</td>\n",
       "      <td>3318</td>\n",
       "    </tr>\n",
       "    <tr>\n",
       "      <th>9</th>\n",
       "      <td>2019-08-05</td>\n",
       "      <td>B</td>\n",
       "      <td>89</td>\n",
       "      <td>87</td>\n",
       "      <td>475648</td>\n",
       "      <td>3280</td>\n",
       "    </tr>\n",
       "  </tbody>\n",
       "</table>\n",
       "</div>"
      ],
      "text/plain": [
       "        date group  orders  buyers  revenue  visitors\n",
       "0 2019-08-01     A      23      19   142779       719\n",
       "1 2019-08-01     B      17      17    59758       713\n",
       "2 2019-08-02     A      42      36   234381      1338\n",
       "3 2019-08-02     B      40      39   221801      1294\n",
       "4 2019-08-03     A      66      60   346854      1845\n",
       "5 2019-08-03     B      54      53   288850      1803\n",
       "6 2019-08-04     A      77      71   388030      2562\n",
       "7 2019-08-04     B      68      66   385740      2573\n",
       "8 2019-08-05     A      99      92   474413      3318\n",
       "9 2019-08-05     B      89      87   475648      3280"
      ]
     },
     "execution_count": 14,
     "metadata": {},
     "output_type": "execute_result"
    }
   ],
   "source": [
    "datesGroups = orders[['date','group']].drop_duplicates()\n",
    "\n",
    "ordersAggregated = datesGroups.apply(lambda x: orders[np.logical_and(orders['date'] <= x['date'],\n",
    "                                                                     orders['group'] == x['group'])]. \\\n",
    "                                     agg({'date' : 'max', \n",
    "                                          'group' : 'max', \n",
    "                                          'transactionId' : pd.Series.nunique, \n",
    "                                          'visitorId' : pd.Series.nunique, \n",
    "                                          'revenue' : 'sum'}), axis=1).sort_values(by=['date','group'])\n",
    "\n",
    "visitorsAggregated = datesGroups.apply(lambda x: visitors[np.logical_and(visitors['date'] <= x['date'],\n",
    "                                                                         visitors['group'] == x['group'])]. \\\n",
    "                                       agg({'date' : 'max', \n",
    "                                            'group' : 'max', \n",
    "                                            'visitors' : 'sum'}), axis=1).sort_values(by=['date','group'])\n",
    "\n",
    "cumulativeData = ordersAggregated.merge(visitorsAggregated, left_on=['date', 'group'], right_on=['date', 'group'])\n",
    "cumulativeData.columns = ['date', 'group', 'orders', 'buyers', 'revenue', 'visitors']\n",
    "\n",
    "cumulativeData.head(10)"
   ]
  },
  {
   "cell_type": "markdown",
   "metadata": {},
   "source": [
    "1. Построим график кумулятивной выручки по группам"
   ]
  },
  {
   "cell_type": "code",
   "execution_count": 15,
   "metadata": {},
   "outputs": [
    {
     "data": {
      "image/png": "[encoded data removed]",
      "text/plain": [
       "<Figure size 1080x360 with 1 Axes>"
      ]
     },
     "metadata": {
      "needs_background": "light"
     },
     "output_type": "display_data"
    }
   ],
   "source": [
    "cumulativeRevenueA = cumulativeData[cumulativeData['group']=='A'][['date','revenue', 'orders']]\n",
    "cumulativeRevenueB = cumulativeData[cumulativeData['group']=='B'][['date','revenue', 'orders']]\n",
    "\n",
    "plt.figure(figsize=(15,5))\n",
    "plt.plot(cumulativeRevenueA['date'], cumulativeRevenueA['revenue'], label='A')\n",
    "plt.plot(cumulativeRevenueB['date'], cumulativeRevenueB['revenue'], label='B')\n",
    "\n",
    "plt.title('График кумулятивной выручки по группам')\n",
    "plt.ylabel('Выручка')\n",
    "\n",
    "\n",
    "plt.xticks(rotation=45)\n",
    "plt.legend()\n",
    "plt.grid()\n",
    "plt.show()"
   ]
  },
  {
   "cell_type": "markdown",
   "metadata": {},
   "source": [
    "<b>Вывод:</b> До 05.08.2019 выручка росла примерно одинаково, от 05.08.2019 до 13.08.2019 выручка группа В росла быстрее, но к концу периода значения сравнялись. После 13.08.2013 выручка группы В начала расти быстрее и больше значения не сравнивались (особенно заметен скачок 19.08.2019, его можно рассмотреть отдельно)."
   ]
  },
  {
   "cell_type": "code",
   "execution_count": 16,
   "metadata": {},
   "outputs": [
    {
     "data": {
      "text/html": [
       "<div>\n",
       "<style scoped>\n",
       "    .dataframe tbody tr th:only-of-type {\n",
       "        vertical-align: middle;\n",
       "    }\n",
       "\n",
       "    .dataframe tbody tr th {\n",
       "        vertical-align: top;\n",
       "    }\n",
       "\n",
       "    .dataframe thead th {\n",
       "        text-align: right;\n",
       "    }\n",
       "</style>\n",
       "<table border=\"1\" class=\"dataframe\">\n",
       "  <thead>\n",
       "    <tr style=\"text-align: right;\">\n",
       "      <th></th>\n",
       "      <th>transactionId</th>\n",
       "      <th>visitorId</th>\n",
       "      <th>date</th>\n",
       "      <th>revenue</th>\n",
       "      <th>group</th>\n",
       "    </tr>\n",
       "  </thead>\n",
       "  <tbody>\n",
       "    <tr>\n",
       "      <th>425</th>\n",
       "      <td>590470918</td>\n",
       "      <td>1920142716</td>\n",
       "      <td>2019-08-19</td>\n",
       "      <td>1294500</td>\n",
       "      <td>B</td>\n",
       "    </tr>\n",
       "    <tr>\n",
       "      <th>530</th>\n",
       "      <td>3970235543</td>\n",
       "      <td>2912540959</td>\n",
       "      <td>2019-08-19</td>\n",
       "      <td>43990</td>\n",
       "      <td>A</td>\n",
       "    </tr>\n",
       "    <tr>\n",
       "      <th>527</th>\n",
       "      <td>1570513684</td>\n",
       "      <td>2837914161</td>\n",
       "      <td>2019-08-19</td>\n",
       "      <td>33405</td>\n",
       "      <td>B</td>\n",
       "    </tr>\n",
       "    <tr>\n",
       "      <th>421</th>\n",
       "      <td>3765974140</td>\n",
       "      <td>1357170471</td>\n",
       "      <td>2019-08-19</td>\n",
       "      <td>31680</td>\n",
       "      <td>A</td>\n",
       "    </tr>\n",
       "    <tr>\n",
       "      <th>461</th>\n",
       "      <td>2683113224</td>\n",
       "      <td>154576532</td>\n",
       "      <td>2019-08-19</td>\n",
       "      <td>26550</td>\n",
       "      <td>B</td>\n",
       "    </tr>\n",
       "    <tr>\n",
       "      <th>368</th>\n",
       "      <td>3268879337</td>\n",
       "      <td>2536252163</td>\n",
       "      <td>2019-08-19</td>\n",
       "      <td>20026</td>\n",
       "      <td>B</td>\n",
       "    </tr>\n",
       "  </tbody>\n",
       "</table>\n",
       "</div>"
      ],
      "text/plain": [
       "     transactionId   visitorId       date  revenue group\n",
       "425      590470918  1920142716 2019-08-19  1294500     B\n",
       "530     3970235543  2912540959 2019-08-19    43990     A\n",
       "527     1570513684  2837914161 2019-08-19    33405     B\n",
       "421     3765974140  1357170471 2019-08-19    31680     A\n",
       "461     2683113224   154576532 2019-08-19    26550     B\n",
       "368     3268879337  2536252163 2019-08-19    20026     B"
      ]
     },
     "execution_count": 16,
     "metadata": {},
     "output_type": "execute_result"
    }
   ],
   "source": [
    "orders.query('date == \"2019-08-19\"').sort_values(by='revenue', ascending=False).head(6)"
   ]
  },
  {
   "cell_type": "markdown",
   "metadata": {},
   "source": [
    "Так и есть, видим крупный заказ на 1294500. Дальше по ходу исследования, мы будем \"очищать\" данные, и можно будет построить новые графики по новым данным."
   ]
  },
  {
   "cell_type": "markdown",
   "metadata": {},
   "source": [
    "2. Построим график кумулятивного среднего чека по группам."
   ]
  },
  {
   "cell_type": "code",
   "execution_count": 17,
   "metadata": {},
   "outputs": [
    {
     "data": {
      "image/png": "[encoded data removed]",
      "text/plain": [
       "<Figure size 1080x360 with 1 Axes>"
      ]
     },
     "metadata": {
      "needs_background": "light"
     },
     "output_type": "display_data"
    }
   ],
   "source": [
    "plt.figure(figsize=(15,5))\n",
    "plt.grid()\n",
    "\n",
    "plt.plot(cumulativeRevenueA['date'], \n",
    "         cumulativeRevenueA['revenue']/cumulativeRevenueA['orders'], \n",
    "         label='средний кумулятивный чек группы A')\n",
    "\n",
    "plt.plot(cumulativeRevenueB['date'], \n",
    "         cumulativeRevenueB['revenue']/cumulativeRevenueB['orders'], \n",
    "         label='средний кумулятивный чек группы B')\n",
    "\n",
    "plt.title('Средний кумулятивный чек группы')\n",
    "plt.ylabel('Размер чека')\n",
    "\n",
    "plt.legend() ;"
   ]
  },
  {
   "cell_type": "markdown",
   "metadata": {},
   "source": [
    "<b>Вывод:</b> Видим сходство с графиком выручки. До скачка 19.08.2019 сначала лидирует группа В, затем А, после скачка чек группы В постепенно снижается, а чек группы А остается примерно на том же уровне. Из-за плавного снижения в группе В еще рано говорить, что значения остаются на том же уровне. "
   ]
  },
  {
   "cell_type": "markdown",
   "metadata": {},
   "source": [
    "3. Построим график относительного изменения кумулятивного среднего чека."
   ]
  },
  {
   "cell_type": "code",
   "execution_count": 44,
   "metadata": {},
   "outputs": [
    {
     "data": {
      "image/png": "[encoded data removed]",
      "text/plain": [
       "<Figure size 1080x360 with 1 Axes>"
      ]
     },
     "metadata": {
      "needs_background": "light"
     },
     "output_type": "display_data"
    }
   ],
   "source": [
    "mergedCumulativeRevenue = cumulativeRevenueA.merge(cumulativeRevenueB, \n",
    "                                                   left_on='date', right_on='date', \n",
    "                                                   how='left', suffixes=['A', 'B'])\n",
    "\n",
    "plt.figure(figsize=(15,5))\n",
    "plt.grid()\n",
    "\n",
    "plt.plot(mergedCumulativeRevenue['date'], \n",
    "         (mergedCumulativeRevenue['revenueB']/mergedCumulativeRevenue['ordersB'])/ \n",
    "         (mergedCumulativeRevenue['revenueA']/mergedCumulativeRevenue['ordersA'])-1)\n",
    "\n",
    "plt.title('Относительное изменение кумулятивного среднего чека группы B к А')\n",
    "\n",
    "plt.axhline(y=0, color='black', linestyle='--') \n",
    "plt.show()"
   ]
  },
  {
   "cell_type": "markdown",
   "metadata": {},
   "source": [
    "<b>Вывод:</b> Так как график зависит от значений из предыдущего пункта, выводы можно сделать аналогичные. Сначала \"перевес\" на стороне группы В, но после 06.08.2019 идет обратный процесс в пользу А до 13.08.2019, потом изменение движется к 0 до скачка. После скачка, отношение опять спадает в сторону А."
   ]
  },
  {
   "cell_type": "markdown",
   "metadata": {},
   "source": [
    "4. Построим график кумулятивного среднего количества заказов на посетителя."
   ]
  },
  {
   "cell_type": "code",
   "execution_count": 19,
   "metadata": {},
   "outputs": [
    {
     "data": {
      "text/plain": [
       "0       719\n",
       "1       713\n",
       "2      1338\n",
       "3      1294\n",
       "4      1845\n",
       "      ...  \n",
       "57    17708\n",
       "58    18037\n",
       "59    18198\n",
       "60    18736\n",
       "61    18916\n",
       "Name: visitors, Length: 62, dtype: int64"
      ]
     },
     "execution_count": 19,
     "metadata": {},
     "output_type": "execute_result"
    }
   ],
   "source": [
    "cumulativeData['visitors']"
   ]
  },
  {
   "cell_type": "code",
   "execution_count": 45,
   "metadata": {},
   "outputs": [
    {
     "data": {
      "image/png": "[encoded data removed]",
      "text/plain": [
       "<Figure size 1080x360 with 1 Axes>"
      ]
     },
     "metadata": {
      "needs_background": "light"
     },
     "output_type": "display_data"
    }
   ],
   "source": [
    "cumulativeData['conversion'] = cumulativeData['orders']/cumulativeData['visitors']\n",
    "\n",
    "cumulativeDataA = cumulativeData[cumulativeData['group']=='A']\n",
    "cumulativeDataB = cumulativeData[cumulativeData['group']=='B']\n",
    "\n",
    "plt.figure(figsize=(15,5))\n",
    "plt.grid()\n",
    "\n",
    "plt.plot(cumulativeDataA['date'], cumulativeDataA['conversion'], \n",
    "         label='кумулятивная конверсия A')\n",
    "\n",
    "plt.plot(cumulativeDataB['date'], cumulativeDataB['conversion'], \n",
    "         label='кумулятивная конверсия B')\n",
    "\n",
    "plt.title('Кумулятивная конверсия')\n",
    "plt.legend()\n",
    "plt.show()"
   ]
  },
  {
   "cell_type": "markdown",
   "metadata": {},
   "source": [
    "<b>Вывод:</b> В начале теста группа А имела больщую конверсию, после 13.08.2019 снизалась и зафиксировалась на одном уровне ниже 0.026. У группы В на графике видна обратная ситуация и после пересечения 06.08.2019 значения выше группы А."
   ]
  },
  {
   "cell_type": "markdown",
   "metadata": {},
   "source": [
    "5. Построим график относительного изменения кумулятивного среднего количества заказов"
   ]
  },
  {
   "cell_type": "code",
   "execution_count": 43,
   "metadata": {},
   "outputs": [
    {
     "data": {
      "image/png": "[encoded data removed]",
      "text/plain": [
       "<Figure size 1080x360 with 1 Axes>"
      ]
     },
     "metadata": {
      "needs_background": "light"
     },
     "output_type": "display_data"
    }
   ],
   "source": [
    "mergedCumulativeConversions = (cumulativeDataA[['date','conversion']]\n",
    "                               .merge(cumulativeDataB[['date','conversion']], \n",
    "                                left_on='date', right_on='date', how='left', suffixes=['A', 'B']))\n",
    "plt.figure(figsize=(15,5))\n",
    "plt.grid()\n",
    "plt.plot(mergedCumulativeConversions['date'], \n",
    "         mergedCumulativeConversions['conversionB']/mergedCumulativeConversions['conversionA']-1, \n",
    "         label=\"Относительный прирост конверсии группы B относительно группы A\")\n",
    "\n",
    "plt.title('Относительное изменение кумулятивной конверсии группы B к группе A')\n",
    "\n",
    "plt.axhline(y=0, color='black', linestyle='--')\n",
    "plt.axhline(y=0.1, color='red', linestyle='--')\n",
    "plt.show()"
   ]
  },
  {
   "cell_type": "markdown",
   "metadata": {},
   "source": [
    "<b>Вывод:</b> Конверсия группы В показывает себя лучше группы А. После 03.08.2019 виден сильный рост, который прекращается только 10.08.2019, и после этого времени изменение не падает ниже 0.1"
   ]
  },
  {
   "cell_type": "markdown",
   "metadata": {},
   "source": [
    "6. Построим точечный график количества заказов по пользователям."
   ]
  },
  {
   "cell_type": "code",
   "execution_count": 49,
   "metadata": {},
   "outputs": [
    {
     "name": "stdout",
     "output_type": "stream",
     "text": [
      "Таблица количества заказов \n",
      " каждого пользователя \n",
      "\n",
      "        user_id  orders\n",
      "908  3967698036       3\n",
      "55    249864742       3\n",
      "478  2108163459       3\n",
      "687  2988190573       3\n",
      "890  3908431265       3\n",
      "138   611059232       3\n",
      "632  2742574263       3\n",
      "157   678354126       2\n",
      "323  1404560065       2\n",
      "452  1985475298       2\n"
     ]
    }
   ],
   "source": [
    "ordersByUsers = (orders.drop(['group', 'revenue', 'date'], axis=1)\n",
    "                      .groupby('visitorId', as_index=False)\n",
    "                      .agg({'transactionId' : pd.Series.nunique}))\n",
    "\n",
    "ordersByUsers.columns = ['user_id','orders']\n",
    "\n",
    "print('Таблица количества заказов \\n каждого пользователя \\n')\n",
    "print(ordersByUsers.sort_values(by='orders',ascending=False).head(10))"
   ]
  },
  {
   "cell_type": "code",
   "execution_count": 51,
   "metadata": {},
   "outputs": [
    {
     "data": {
      "image/png": "[encoded data removed]",
      "text/plain": [
       "<Figure size 1080x360 with 1 Axes>"
      ]
     },
     "metadata": {
      "needs_background": "light"
     },
     "output_type": "display_data"
    }
   ],
   "source": [
    "x_values = pd.Series(range(0,len(ordersByUsers)))\n",
    "\n",
    "plt.figure(figsize=(15,5))\n",
    "plt.grid()\n",
    "plt.title('График количества заказов по пользователям')\n",
    "plt.scatter(x_values, ordersByUsers['orders'], alpha=0.5) \n",
    "plt.show()"
   ]
  },
  {
   "cell_type": "markdown",
   "metadata": {},
   "source": [
    "<b>Вывод:</b> По графику видно, что большая часть людей совершает покупку один раз. Иногда число доходит до 2-ух, очень редко - до 3-х. Следующим шагом посчитаем перцентили."
   ]
  },
  {
   "cell_type": "markdown",
   "metadata": {},
   "source": [
    "7. Посчитаем 95-й и 99-й перцентили количества заказов на пользователя и выберем границу для определения аномальных пользователей."
   ]
  },
  {
   "cell_type": "code",
   "execution_count": 23,
   "metadata": {},
   "outputs": [
    {
     "name": "stdout",
     "output_type": "stream",
     "text": [
      "[1. 2.]\n"
     ]
    }
   ],
   "source": [
    "print(np.percentile(ordersByUsers['orders'], [95, 99]))"
   ]
  },
  {
   "cell_type": "markdown",
   "metadata": {},
   "source": [
    "<b>Вывод:</b> Видно, что большинство (99%) пользователей делают 1 или 2 заказа. Всё что выше - можно убрать."
   ]
  },
  {
   "cell_type": "markdown",
   "metadata": {},
   "source": [
    "8. Построим точечный график стоимостей заказов. "
   ]
  },
  {
   "cell_type": "code",
   "execution_count": 55,
   "metadata": {},
   "outputs": [
    {
     "data": {
      "image/png": "[encoded data removed]",
      "text/plain": [
       "<Figure size 1080x360 with 1 Axes>"
      ]
     },
     "metadata": {
      "needs_background": "light"
     },
     "output_type": "display_data"
    }
   ],
   "source": [
    "x_values = pd.Series(range(0,len(orders['revenue'])))\n",
    "plt.figure(figsize=(15,5))\n",
    "plt.grid()\n",
    "plt.title('График стоимостей заказов')\n",
    "plt.scatter(x_values, orders['revenue'], alpha=0.5)\n",
    "plt.show()"
   ]
  },
  {
   "cell_type": "markdown",
   "metadata": {},
   "source": [
    "Построим более наглядный график, убрав аномально большие значения:"
   ]
  },
  {
   "cell_type": "code",
   "execution_count": 52,
   "metadata": {},
   "outputs": [
    {
     "data": {
      "image/png": "[encoded data removed]",
      "text/plain": [
       "<Figure size 1080x360 with 1 Axes>"
      ]
     },
     "metadata": {
      "needs_background": "light"
     },
     "output_type": "display_data"
    }
   ],
   "source": [
    "new_orders = orders[orders['revenue']<=200000]['revenue']\n",
    "xn_values = pd.Series(range(0,len(new_orders)))\n",
    "plt.figure(figsize=(15,5))\n",
    "plt.grid()\n",
    "plt.title('График стоимостей заказов')\n",
    "plt.scatter(xn_values, new_orders, alpha=0.5)\n",
    "plt.show()"
   ]
  },
  {
   "cell_type": "markdown",
   "metadata": {},
   "source": [
    "<b>Вывод:</b> Видно два аномальных значения, большинство же заказов не превышает 20000."
   ]
  },
  {
   "cell_type": "markdown",
   "metadata": {},
   "source": [
    "9. Посчитаем 95-й и 99-й перцентили стоимости заказов и выберем границу для определения аномальных заказов."
   ]
  },
  {
   "cell_type": "code",
   "execution_count": 26,
   "metadata": {},
   "outputs": [
    {
     "name": "stdout",
     "output_type": "stream",
     "text": [
      "Рассчитаем 95 и 99 перцентили по выручке заказов :  [26785. 53904.]\n"
     ]
    }
   ],
   "source": [
    "print('Рассчитаем 95 и 99 перцентили по выручке заказов : ', np.percentile(orders['revenue'], [95, 99])) "
   ]
  },
  {
   "cell_type": "markdown",
   "metadata": {},
   "source": [
    "<b>Вывод: </b>Не более 5% пользователей совершили заказ на сумму больше 26785. 99% заказов меньше суммы 53904, установим её в качестве границы для аномалий."
   ]
  },
  {
   "cell_type": "markdown",
   "metadata": {},
   "source": [
    "10. Посчитаем статистическую значимость различий в среднем количестве заказов на посетителя между группами по «сырым» данным."
   ]
  },
  {
   "cell_type": "code",
   "execution_count": 27,
   "metadata": {},
   "outputs": [],
   "source": [
    "#создадим вспомогательные таблицы\n",
    "visitorsADaily = visitors[visitors['group']=='A'][['date', 'visitors']]\n",
    "visitorsADaily.columns = ['date', 'visitorsPerDateA']\n",
    "\n",
    "visitorsBDaily = visitors[visitors['group']=='B'][['date', 'visitors']]\n",
    "visitorsBDaily.columns = ['date', 'visitorsPerDateB']"
   ]
  },
  {
   "cell_type": "markdown",
   "metadata": {},
   "source": [
    "Установим нулевую гипотезу Н0 как: \"статистически значимых различий в конверсии между группами нет\"; альтернативная гипотеза Н1 звучит : \"существует статистически значимые различия между группами\"."
   ]
  },
  {
   "cell_type": "code",
   "execution_count": 28,
   "metadata": {},
   "outputs": [
    {
     "name": "stdout",
     "output_type": "stream",
     "text": [
      "alpha = 0.05\n",
      "p-value =  0.011018084110014696\n",
      "Относительный показатель 'B' и 'A' = 0.160\n"
     ]
    }
   ],
   "source": [
    "ordersByUsersA = (orders[orders['group']=='A']\n",
    "                        .groupby('visitorId', as_index=False)\n",
    "                        .agg({'transactionId' : pd.Series.nunique}))\n",
    "ordersByUsersA.columns = ['userId', 'orders']\n",
    "\n",
    "ordersByUsersB = (orders[orders['group']=='B']\n",
    "                       .groupby('visitorId', as_index=False)\n",
    "                       .agg({'transactionId' : pd.Series.nunique}))\n",
    "ordersByUsersB.columns = ['userId', 'orders']\n",
    "\n",
    "sampleA = pd.concat([ordersByUsersA['orders'],\n",
    "                     pd.Series(0, index=np.arange(visitorsADaily['visitorsPerDateA']\n",
    "                     .sum() - len(ordersByUsersA['orders'])), name='orders')],axis=0)\n",
    "\n",
    "sampleB = pd.concat([ordersByUsersB['orders'],\n",
    "                     pd.Series(0, index=np.arange(visitorsBDaily['visitorsPerDateB']\n",
    "                     .sum() - len(ordersByUsersB['orders'])), name='orders')],axis=0)\n",
    "\n",
    "print(\"alpha =\",0.05)\n",
    "\n",
    "print(\"p-value = \",\n",
    "    stats.mannwhitneyu(sampleA, sampleB, alternative = 'two-sided')[1])\n",
    "\n",
    "print(\"Относительный показатель 'B' и 'A' = {0:.3f}\"\n",
    "      .format(sampleB.mean()/sampleA.mean()-1)) "
   ]
  },
  {
   "cell_type": "markdown",
   "metadata": {},
   "source": [
    "<b>Вывод:</b> p-value = 0.011 меньше 0.05. Значит, нулевую гипотезу о том, что статистически значимых различий в конверсии между группами нет, - отвергаем. Это значит: по «сырым» данным различия в конверсии групп A и B есть."
   ]
  },
  {
   "cell_type": "markdown",
   "metadata": {},
   "source": [
    "11. Посчитаем статистическую значимость различий в среднем чеке заказа между группами по «сырым» данным."
   ]
  },
  {
   "cell_type": "markdown",
   "metadata": {},
   "source": [
    "Чтобы рассчитать статистическую значимость различий в среднем чеке между группами, передадим критерию mannwhitneyu() данные о выручке с заказов (пороговое значение возьмём равное 5%). И найдём относительные различия в среднем чеке между группами.\n",
    "\n",
    "Установим нулевую гипотезу Н0 как: \"статистически значимых различий в средних чеках между группами нет\"; альтернативная гипотеза Н1 звучит : \"статистически значимые различия есть\"."
   ]
  },
  {
   "cell_type": "code",
   "execution_count": 29,
   "metadata": {},
   "outputs": [
    {
     "name": "stdout",
     "output_type": "stream",
     "text": [
      "alpha = 0.05\n",
      "p-value =  0.8294908998149533\n",
      "Относительный показатель 'B' и 'A' = 0.287\n"
     ]
    }
   ],
   "source": [
    "print(\"alpha =\",0.05)\n",
    "print(\"p-value = \", stats.mannwhitneyu(orders[orders['group']=='A']['revenue'], \n",
    "                                                    orders[orders['group']=='B']['revenue'], \n",
    "                                                    alternative = 'two-sided')[1])\n",
    "print(\"Относительный показатель 'B' и 'A' = {0:.3f}\".format(orders[orders['group']=='B']['revenue']\n",
    "                                                            .mean()/orders[orders['group']=='A']['revenue']\n",
    "                                                            .mean()-1)) "
   ]
  },
  {
   "cell_type": "markdown",
   "metadata": {},
   "source": [
    "<b>Вывод:</b> Видим, что p-value больше 0.05. Значит, причин отвергать нулевую гипотезу и считать, что в среднем чеке есть различия, нет. То есть средние чеки по \"сырым\" данным схожи. Удивительно, ведь средний чек группы B значительно выше среднего чека группы A."
   ]
  },
  {
   "cell_type": "markdown",
   "metadata": {},
   "source": [
    "12. Посчитаем статистическую значимость различий в среднем количестве заказов на посетителя между группами по «очищенным» данным. "
   ]
  },
  {
   "cell_type": "code",
   "execution_count": 56,
   "metadata": {},
   "outputs": [],
   "source": [
    "usersWithManyOrders = pd.concat([ordersByUsersA[ordersByUsersA['orders'] >\n",
    "                                                np.percentile(ordersByUsers['orders'],  99)]['userId'], \n",
    "                                 ordersByUsersB[ordersByUsersB['orders'] >\n",
    "                                                np.percentile(ordersByUsers['orders'],  99)]['userId']], axis = 0)\n",
    "\n",
    "usersWithExpensiveOrders = orders[orders['revenue'] > np.percentile(orders['revenue'],  99)]['visitorId']\n",
    "\n",
    "abnormalUsers = (pd.concat([usersWithManyOrders, usersWithExpensiveOrders], axis = 0)\n",
    "                  .drop_duplicates()\n",
    "                  .sort_values())"
   ]
  },
  {
   "cell_type": "markdown",
   "metadata": {},
   "source": [
    "Очистим данные заказа, и еще раз построим графики:"
   ]
  },
  {
   "cell_type": "code",
   "execution_count": 57,
   "metadata": {},
   "outputs": [
    {
     "data": {
      "image/png": "[encoded data removed]",
      "text/plain": [
       "<Figure size 1080x360 with 1 Axes>"
      ]
     },
     "metadata": {
      "needs_background": "light"
     },
     "output_type": "display_data"
    }
   ],
   "source": [
    "new_orders = orders.query('visitorId not in @abnormalUsers.tolist()')\n",
    "datesGroups = new_orders[['date','group']]\n",
    "\n",
    "ordersAggregated = datesGroups.apply(lambda x: \n",
    "                                     new_orders[np.logical_and(new_orders['date'] \n",
    "                                     <= x['date'], orders['group'] == x['group'])]. \n",
    "                                     agg({'date' : 'max', \n",
    "                                          'group' : 'max', \n",
    "                                          'transactionId' : pd.Series.nunique, \n",
    "                                          'visitorId' : pd.Series.nunique, \n",
    "                                          'revenue' : 'sum'}), axis=1).sort_values(by=['date','group'])\n",
    "                                          \n",
    "\n",
    "visitorsAggregated = datesGroups.apply(lambda x: visitors[np.logical_and(visitors['date']\n",
    "                                       <= x['date'], visitors['group'] == x['group'])]. \\\n",
    "                                       agg({'date' : 'max', \n",
    "                                            'group' : 'max', \n",
    "                                            'visitors' : 'sum'}), axis=1).sort_values(by=['date','group'])\n",
    "                                            \n",
    "\n",
    "cumulativeData = ordersAggregated.merge(visitorsAggregated, \n",
    "                                        left_on=['date', 'group'], right_on=['date', 'group'])\n",
    "cumulativeData.columns = ['date', 'group', 'orders', 'buyers', 'revenue', 'visitors']\n",
    "\n",
    "cumulativeRevenueA = cumulativeData[cumulativeData['group']=='A'][['date','revenue', 'orders']]\n",
    "cumulativeRevenueB = cumulativeData[cumulativeData['group']=='B'][['date','revenue', 'orders']]\n",
    "\n",
    "plt.figure(figsize=(15,5))\n",
    "plt.plot(cumulativeRevenueA['date'], cumulativeRevenueA['revenue'], label='A')\n",
    "plt.plot(cumulativeRevenueB['date'], cumulativeRevenueB['revenue'], label='B')\n",
    "\n",
    "plt.title('График кумулятивной выручки по группам')\n",
    "plt.ylabel('Выручка')\n",
    "\n",
    "plt.xticks(rotation=45)\n",
    "plt.legend()\n",
    "plt.grid()\n",
    "plt.show()"
   ]
  },
  {
   "cell_type": "code",
   "execution_count": 53,
   "metadata": {},
   "outputs": [
    {
     "data": {
      "image/png": "[encoded data removed]",
      "text/plain": [
       "<Figure size 1080x360 with 1 Axes>"
      ]
     },
     "metadata": {
      "needs_background": "light"
     },
     "output_type": "display_data"
    }
   ],
   "source": [
    "plt.figure(figsize=(15,5))\n",
    "plt.grid()\n",
    "\n",
    "plt.plot(cumulativeRevenueA['date'], \n",
    "         cumulativeRevenueA['revenue']/cumulativeRevenueA['orders'], \n",
    "         label='средний кумулятивный чек группы A')\n",
    "\n",
    "plt.plot(cumulativeRevenueB['date'], \n",
    "         cumulativeRevenueB['revenue']/cumulativeRevenueB['orders'], \n",
    "         label='средний кумулятивный чек группы B')\n",
    "\n",
    "plt.title('Средний кумулятивный чек группы')\n",
    "plt.ylabel('Размер чека')\n",
    "\n",
    "plt.legend()\n",
    "plt.show()"
   ]
  },
  {
   "cell_type": "code",
   "execution_count": 54,
   "metadata": {},
   "outputs": [
    {
     "data": {
      "image/png": "[encoded data removed]",
      "text/plain": [
       "<Figure size 1080x360 with 1 Axes>"
      ]
     },
     "metadata": {
      "needs_background": "light"
     },
     "output_type": "display_data"
    }
   ],
   "source": [
    "mergedCumulativeRevenue = cumulativeRevenueA.merge(cumulativeRevenueB, \n",
    "                                                   left_on='date', right_on='date', \n",
    "                                                   how='left', suffixes=['A', 'B'])\n",
    "\n",
    "plt.figure(figsize=(15,5))\n",
    "plt.grid()\n",
    "\n",
    "plt.plot(mergedCumulativeRevenue['date'], \n",
    "         (mergedCumulativeRevenue['revenueB']/mergedCumulativeRevenue['ordersB'])/ \n",
    "         (mergedCumulativeRevenue['revenueA']/mergedCumulativeRevenue['ordersA'])-1)\n",
    "\n",
    "plt.title('Относительное изменение кумулятивного среднего чека групп \"B\" к \"А\"')\n",
    "\n",
    "plt.axhline(y=0, color='black', linestyle='--') \n",
    "plt.show()"
   ]
  },
  {
   "cell_type": "markdown",
   "metadata": {},
   "source": [
    "Без аномальных значений графики стали почти равными. Посмотрим, что покажут статистические тесты."
   ]
  },
  {
   "cell_type": "code",
   "execution_count": 34,
   "metadata": {},
   "outputs": [],
   "source": [
    "sampleAFiltered = pd.concat([ordersByUsersA[np.logical_not(ordersByUsersA['userId']\n",
    "                                                         .isin(abnormalUsers))]['orders'], \\\n",
    "                             pd.Series(0, index=np.arange(visitorsADaily['visitorsPerDateA']\n",
    "                                       .sum() - len(ordersByUsersA['orders'])), \\\n",
    "                                       name='orders')],axis=0)\n",
    "\n",
    "sampleBFiltered = pd.concat([ordersByUsersB[np.logical_not(ordersByUsersB['userId']\n",
    "                                                           .isin(abnormalUsers))]['orders'], \\\n",
    "                             pd.Series(0, index=np.arange(visitorsBDaily['visitorsPerDateB']\n",
    "                                       .sum() - len(ordersByUsersB['orders'])), \\\n",
    "                                       name='orders')],axis=0) "
   ]
  },
  {
   "cell_type": "markdown",
   "metadata": {},
   "source": [
    "Установим нулевую гипотезу Н0 как: \"статистически значимых различий в конверсии между группами нет\"; альтернативная гипотеза Н1 звучит : \"существует статистически значимые различия между группами\"."
   ]
  },
  {
   "cell_type": "code",
   "execution_count": 35,
   "metadata": {},
   "outputs": [
    {
     "name": "stdout",
     "output_type": "stream",
     "text": [
      "alpha = 0.05\n",
      "p-value =  0.007021302207652193\n",
      "Относительный показатель 'B' и 'A' = 0.189\n"
     ]
    }
   ],
   "source": [
    "print(\"alpha =\",0.05)\n",
    "print(\"p-value = \", stats.mannwhitneyu(sampleAFiltered, \n",
    "                                                    sampleBFiltered, \n",
    "                                                    alternative = 'two-sided')[1])\n",
    "print(\"Относительный показатель 'B' и 'A' = {0:.3f}\"\n",
    "      .format(sampleBFiltered.mean()/sampleAFiltered.mean()-1)) "
   ]
  },
  {
   "cell_type": "markdown",
   "metadata": {},
   "source": [
    "<b>Вывод:</b> p-value = 0.007 что меньше 0.05. Значит, нулевую гипотезу о том, что статистически значимых различий в конверсии между группами нет, - отвергаем. Это значит, что и по «очищенным» данным различия в конверсии групп A и B есть. "
   ]
  },
  {
   "cell_type": "markdown",
   "metadata": {},
   "source": [
    "13. Посчитаем статистическую значимость различий в среднем чеке заказа между группами по «очищенным» данным."
   ]
  },
  {
   "cell_type": "markdown",
   "metadata": {},
   "source": [
    "Установим нулевую гипотезу Н0 как: \"статистически значимых различий в средних чеках между группами нет\"; альтернативная гипотеза Н1 звучит : \"статистически значимые различия есть\"."
   ]
  },
  {
   "cell_type": "code",
   "execution_count": 36,
   "metadata": {},
   "outputs": [
    {
     "name": "stdout",
     "output_type": "stream",
     "text": [
      "alpha = 0.05\n",
      "p-value =  0.7877044862440841\n",
      "Относительный показатель 'B' и 'A' = -0.032\n"
     ]
    }
   ],
   "source": [
    "\n",
    "print(\"alpha =\",0.05)\n",
    "print(\"p-value = \", format(stats.mannwhitneyu(\n",
    "    orders[np.logical_and(\n",
    "        orders['group']=='A',\n",
    "        np.logical_not(orders['visitorId'].isin(abnormalUsers)))]['revenue'],\n",
    "    orders[np.logical_and(\n",
    "        orders['group']=='B',\n",
    "        np.logical_not(orders['visitorId'].isin(abnormalUsers)))]['revenue'], \n",
    "                                          alternative = 'two-sided')[1]))\n",
    "\n",
    "print(\"Относительный показатель 'B' и 'A' = {0:.3f}\".format(\n",
    "    orders[np.logical_and(orders['group']=='B',np.logical_not(orders['visitorId']\n",
    "                                                              .isin(abnormalUsers)))]['revenue']\n",
    "                                                              .mean()/\n",
    "    orders[np.logical_and(\n",
    "        orders['group']=='A',\n",
    "        np.logical_not(orders['visitorId'].isin(abnormalUsers)))]['revenue'].mean() - 1)) "
   ]
  },
  {
   "cell_type": "markdown",
   "metadata": {},
   "source": [
    "<b>Вывод:</b> P-value значительно больше 0.05, и причин отвергать нулевую гипотезу нет, то есть можно считать, что в среднем чеке различия нет, что повторяет выводы по \"сырым\" данным."
   ]
  },
  {
   "cell_type": "markdown",
   "metadata": {},
   "source": [
    "### 14. Принятие решения и выводы."
   ]
  },
  {
   "cell_type": "markdown",
   "metadata": {},
   "source": [
    "Тест можно остановить и считать успешно пройденным.\n",
    "\n",
    "Конверсия в группе A не равна группе B (между выборками имеется статистическая значимость) по сырым и по очищенным данным.\n",
    "Средний чек в группе A равен группе B (статистическая значимость не значительна и сделать вывод о различии нельзя) по сырым и по очищенным данным.\n",
    "\n",
    "После анализа видно, что группа В показывает лучше результат в конверсии.\n",
    "Среднемий чек не имеет значимых различий между группами.\n",
    "\n",
    "Графики после обработки данных колеблются в нешироком диапазоне и сильных колебаний не показывают."
   ]
  }
 ],
 "metadata": {
  "ExecuteTimeLog": [
   {
    "duration": 71,
    "start_time": "2023-01-07T15:20:34.234Z"
   },
   {
    "duration": 412,
    "start_time": "2023-01-07T15:20:46.307Z"
   },
   {
    "duration": 46,
    "start_time": "2023-01-07T15:20:46.923Z"
   },
   {
    "duration": 8,
    "start_time": "2023-01-07T15:20:50.970Z"
   },
   {
    "duration": 90,
    "start_time": "2023-01-07T15:20:55.942Z"
   },
   {
    "duration": 58,
    "start_time": "2023-01-07T15:21:11.478Z"
   },
   {
    "duration": 7,
    "start_time": "2023-01-07T15:22:45.600Z"
   },
   {
    "duration": 16,
    "start_time": "2023-01-07T15:22:49.507Z"
   },
   {
    "duration": 13,
    "start_time": "2023-01-07T15:26:17.424Z"
   },
   {
    "duration": 8,
    "start_time": "2023-01-07T15:26:20.109Z"
   },
   {
    "duration": 32,
    "start_time": "2023-01-07T15:28:04.215Z"
   },
   {
    "duration": 47,
    "start_time": "2023-01-07T15:28:15.843Z"
   },
   {
    "duration": 32,
    "start_time": "2023-01-07T15:28:23.615Z"
   },
   {
    "duration": 109,
    "start_time": "2023-01-07T15:28:43.531Z"
   },
   {
    "duration": 37,
    "start_time": "2023-01-07T15:28:48.706Z"
   },
   {
    "duration": 31,
    "start_time": "2023-01-07T15:29:06.136Z"
   },
   {
    "duration": 3,
    "start_time": "2023-01-07T15:35:17.142Z"
   },
   {
    "duration": 4,
    "start_time": "2023-01-07T15:35:46.577Z"
   },
   {
    "duration": 93,
    "start_time": "2023-01-07T15:37:00.258Z"
   },
   {
    "duration": 90,
    "start_time": "2023-01-07T15:37:15.929Z"
   },
   {
    "duration": 58,
    "start_time": "2023-01-07T15:37:22.306Z"
   },
   {
    "duration": 35,
    "start_time": "2023-01-07T15:37:30.819Z"
   },
   {
    "duration": 13,
    "start_time": "2023-01-07T15:51:51.801Z"
   },
   {
    "duration": 17,
    "start_time": "2023-01-07T15:52:19.278Z"
   },
   {
    "duration": 15,
    "start_time": "2023-01-07T15:52:43.874Z"
   },
   {
    "duration": 312,
    "start_time": "2023-01-07T15:54:07.922Z"
   },
   {
    "duration": 469,
    "start_time": "2023-01-07T15:54:26.938Z"
   },
   {
    "duration": 15,
    "start_time": "2023-01-07T15:54:31.332Z"
   },
   {
    "duration": 11,
    "start_time": "2023-01-07T15:54:34.757Z"
   },
   {
    "duration": 4,
    "start_time": "2023-01-07T15:54:55.109Z"
   },
   {
    "duration": 10,
    "start_time": "2023-01-07T15:54:58.198Z"
   },
   {
    "duration": 398,
    "start_time": "2023-01-07T15:56:29.545Z"
   },
   {
    "duration": 1301,
    "start_time": "2023-01-07T15:56:44.298Z"
   },
   {
    "duration": 857,
    "start_time": "2023-01-07T15:56:55.661Z"
   },
   {
    "duration": 38,
    "start_time": "2023-01-07T15:56:56.520Z"
   },
   {
    "duration": 3,
    "start_time": "2023-01-07T15:56:56.560Z"
   },
   {
    "duration": 12,
    "start_time": "2023-01-07T15:56:56.566Z"
   },
   {
    "duration": 15,
    "start_time": "2023-01-07T15:56:56.581Z"
   },
   {
    "duration": 50,
    "start_time": "2023-01-07T15:56:56.597Z"
   },
   {
    "duration": 13,
    "start_time": "2023-01-07T15:56:56.649Z"
   },
   {
    "duration": 44,
    "start_time": "2023-01-07T15:56:56.663Z"
   },
   {
    "duration": 1317,
    "start_time": "2023-01-07T15:56:56.709Z"
   },
   {
    "duration": 0,
    "start_time": "2023-01-07T15:56:58.028Z"
   },
   {
    "duration": 0,
    "start_time": "2023-01-07T15:56:58.030Z"
   },
   {
    "duration": 0,
    "start_time": "2023-01-07T15:56:58.031Z"
   },
   {
    "duration": 1280,
    "start_time": "2023-01-07T15:58:25.262Z"
   },
   {
    "duration": 57,
    "start_time": "2023-01-07T15:58:32.430Z"
   },
   {
    "duration": 11,
    "start_time": "2023-01-07T15:58:35.998Z"
   },
   {
    "duration": 17,
    "start_time": "2023-01-07T15:58:41.550Z"
   },
   {
    "duration": 12,
    "start_time": "2023-01-07T15:58:44.366Z"
   },
   {
    "duration": 4,
    "start_time": "2023-01-07T15:58:47.094Z"
   },
   {
    "duration": 33,
    "start_time": "2023-01-07T16:00:30.939Z"
   },
   {
    "duration": 11,
    "start_time": "2023-01-07T16:00:34.289Z"
   },
   {
    "duration": 5,
    "start_time": "2023-01-07T16:00:36.681Z"
   },
   {
    "duration": 139,
    "start_time": "2023-01-07T16:06:40.925Z"
   },
   {
    "duration": 113,
    "start_time": "2023-01-07T16:09:05.701Z"
   },
   {
    "duration": 882,
    "start_time": "2023-01-07T16:09:14.858Z"
   },
   {
    "duration": 44,
    "start_time": "2023-01-07T16:09:15.743Z"
   },
   {
    "duration": 4,
    "start_time": "2023-01-07T16:09:15.789Z"
   },
   {
    "duration": 16,
    "start_time": "2023-01-07T16:09:15.795Z"
   },
   {
    "duration": 12,
    "start_time": "2023-01-07T16:09:15.813Z"
   },
   {
    "duration": 47,
    "start_time": "2023-01-07T16:09:15.827Z"
   },
   {
    "duration": 13,
    "start_time": "2023-01-07T16:09:15.877Z"
   },
   {
    "duration": 18,
    "start_time": "2023-01-07T16:09:15.892Z"
   },
   {
    "duration": 1231,
    "start_time": "2023-01-07T16:09:15.912Z"
   },
   {
    "duration": 0,
    "start_time": "2023-01-07T16:09:17.145Z"
   },
   {
    "duration": 0,
    "start_time": "2023-01-07T16:09:17.146Z"
   },
   {
    "duration": 0,
    "start_time": "2023-01-07T16:09:17.147Z"
   },
   {
    "duration": 0,
    "start_time": "2023-01-07T16:09:17.148Z"
   },
   {
    "duration": 5,
    "start_time": "2023-01-07T16:09:27.513Z"
   },
   {
    "duration": 31,
    "start_time": "2023-01-07T16:09:28.453Z"
   },
   {
    "duration": 10,
    "start_time": "2023-01-07T16:09:28.881Z"
   },
   {
    "duration": 5,
    "start_time": "2023-01-07T16:09:29.257Z"
   },
   {
    "duration": 102,
    "start_time": "2023-01-07T16:09:30.301Z"
   },
   {
    "duration": 102,
    "start_time": "2023-01-07T16:10:41.318Z"
   },
   {
    "duration": 109,
    "start_time": "2023-01-07T16:12:32.070Z"
   },
   {
    "duration": 140,
    "start_time": "2023-01-07T16:12:43.063Z"
   },
   {
    "duration": 127,
    "start_time": "2023-01-07T16:13:06.262Z"
   },
   {
    "duration": 6,
    "start_time": "2023-01-07T16:20:21.298Z"
   },
   {
    "duration": 9,
    "start_time": "2023-01-07T16:20:33.465Z"
   },
   {
    "duration": 70,
    "start_time": "2023-01-07T16:21:21.911Z"
   },
   {
    "duration": 5,
    "start_time": "2023-01-07T16:21:25.606Z"
   },
   {
    "duration": 9,
    "start_time": "2023-01-07T16:21:29.275Z"
   },
   {
    "duration": 7,
    "start_time": "2023-01-07T16:22:37.750Z"
   },
   {
    "duration": 8,
    "start_time": "2023-01-07T16:22:49.502Z"
   },
   {
    "duration": 10,
    "start_time": "2023-01-07T16:22:56.994Z"
   },
   {
    "duration": 5,
    "start_time": "2023-01-07T16:26:55.498Z"
   },
   {
    "duration": 7,
    "start_time": "2023-01-07T16:27:00.826Z"
   },
   {
    "duration": 8,
    "start_time": "2023-01-07T16:27:04.290Z"
   },
   {
    "duration": 8,
    "start_time": "2023-01-07T16:27:42.382Z"
   },
   {
    "duration": 21,
    "start_time": "2023-01-07T16:30:13.911Z"
   },
   {
    "duration": 9,
    "start_time": "2023-01-07T16:30:18.086Z"
   },
   {
    "duration": 67,
    "start_time": "2023-01-07T16:31:48.546Z"
   },
   {
    "duration": 7,
    "start_time": "2023-01-07T16:31:56.010Z"
   },
   {
    "duration": 10,
    "start_time": "2023-01-07T16:32:21.819Z"
   },
   {
    "duration": 3,
    "start_time": "2023-01-07T16:32:47.085Z"
   },
   {
    "duration": 8,
    "start_time": "2023-01-07T16:32:53.481Z"
   },
   {
    "duration": 8,
    "start_time": "2023-01-07T16:35:18.320Z"
   },
   {
    "duration": 7,
    "start_time": "2023-01-07T16:35:23.616Z"
   },
   {
    "duration": 10,
    "start_time": "2023-01-07T16:37:18.422Z"
   },
   {
    "duration": 31,
    "start_time": "2023-01-07T16:38:48.322Z"
   },
   {
    "duration": 32,
    "start_time": "2023-01-07T16:39:49.782Z"
   },
   {
    "duration": 28,
    "start_time": "2023-01-07T16:40:13.874Z"
   },
   {
    "duration": 27,
    "start_time": "2023-01-07T16:40:21.698Z"
   },
   {
    "duration": 27,
    "start_time": "2023-01-07T16:41:00.165Z"
   },
   {
    "duration": 29,
    "start_time": "2023-01-07T17:05:12.285Z"
   },
   {
    "duration": 476,
    "start_time": "2023-01-07T17:05:28.353Z"
   },
   {
    "duration": 32,
    "start_time": "2023-01-07T17:05:39.277Z"
   },
   {
    "duration": 29,
    "start_time": "2023-01-07T17:07:50.750Z"
   },
   {
    "duration": 31,
    "start_time": "2023-01-07T17:07:54.114Z"
   },
   {
    "duration": 28,
    "start_time": "2023-01-07T17:08:09.594Z"
   },
   {
    "duration": 26,
    "start_time": "2023-01-07T17:08:41.278Z"
   },
   {
    "duration": 30,
    "start_time": "2023-01-07T17:08:46.969Z"
   },
   {
    "duration": 32,
    "start_time": "2023-01-07T17:08:50.449Z"
   },
   {
    "duration": 25,
    "start_time": "2023-01-07T17:09:18.766Z"
   },
   {
    "duration": 799,
    "start_time": "2023-01-07T17:09:45.841Z"
   },
   {
    "duration": 38,
    "start_time": "2023-01-07T17:09:46.643Z"
   },
   {
    "duration": 3,
    "start_time": "2023-01-07T17:09:46.683Z"
   },
   {
    "duration": 20,
    "start_time": "2023-01-07T17:09:46.687Z"
   },
   {
    "duration": 9,
    "start_time": "2023-01-07T17:09:46.709Z"
   },
   {
    "duration": 65,
    "start_time": "2023-01-07T17:09:46.719Z"
   },
   {
    "duration": 11,
    "start_time": "2023-01-07T17:09:46.786Z"
   },
   {
    "duration": 16,
    "start_time": "2023-01-07T17:09:46.799Z"
   },
   {
    "duration": 10,
    "start_time": "2023-01-07T17:09:46.816Z"
   },
   {
    "duration": 23,
    "start_time": "2023-01-07T17:09:46.827Z"
   },
   {
    "duration": 10,
    "start_time": "2023-01-07T17:09:46.852Z"
   },
   {
    "duration": 18,
    "start_time": "2023-01-07T17:09:46.863Z"
   },
   {
    "duration": 45,
    "start_time": "2023-01-07T17:09:46.883Z"
   },
   {
    "duration": 47,
    "start_time": "2023-01-07T17:09:46.931Z"
   },
   {
    "duration": 86,
    "start_time": "2023-01-07T17:09:46.980Z"
   },
   {
    "duration": 33,
    "start_time": "2023-01-07T17:10:02.945Z"
   },
   {
    "duration": 37,
    "start_time": "2023-01-07T17:10:43.498Z"
   },
   {
    "duration": 21,
    "start_time": "2023-01-07T17:10:48.421Z"
   },
   {
    "duration": 27,
    "start_time": "2023-01-07T17:10:50.353Z"
   },
   {
    "duration": 26,
    "start_time": "2023-01-07T17:12:03.237Z"
   },
   {
    "duration": 25,
    "start_time": "2023-01-07T17:12:20.429Z"
   },
   {
    "duration": 27,
    "start_time": "2023-01-07T17:13:14.317Z"
   },
   {
    "duration": 36,
    "start_time": "2023-01-07T18:13:48.293Z"
   },
   {
    "duration": 28,
    "start_time": "2023-01-07T18:14:07.646Z"
   },
   {
    "duration": 1077,
    "start_time": "2023-01-07T18:32:48.755Z"
   },
   {
    "duration": 174,
    "start_time": "2023-01-07T18:33:01.184Z"
   },
   {
    "duration": 21,
    "start_time": "2023-01-07T18:35:44.128Z"
   },
   {
    "duration": 1642,
    "start_time": "2023-01-07T18:36:03.315Z"
   },
   {
    "duration": 139,
    "start_time": "2023-01-07T18:36:35.163Z"
   },
   {
    "duration": 8,
    "start_time": "2023-01-07T18:53:34.427Z"
   },
   {
    "duration": 6,
    "start_time": "2023-01-07T18:53:41.815Z"
   },
   {
    "duration": 4,
    "start_time": "2023-01-07T18:54:09.443Z"
   },
   {
    "duration": 6,
    "start_time": "2023-01-07T18:54:21.947Z"
   },
   {
    "duration": 5,
    "start_time": "2023-01-07T18:54:31.623Z"
   },
   {
    "duration": 5,
    "start_time": "2023-01-07T18:54:35.879Z"
   },
   {
    "duration": 9,
    "start_time": "2023-01-07T18:55:17.527Z"
   },
   {
    "duration": 6,
    "start_time": "2023-01-07T18:55:21.759Z"
   },
   {
    "duration": 5,
    "start_time": "2023-01-07T18:56:12.407Z"
   },
   {
    "duration": 6,
    "start_time": "2023-01-07T18:56:16.359Z"
   },
   {
    "duration": 4,
    "start_time": "2023-01-07T19:01:43.471Z"
   },
   {
    "duration": 15,
    "start_time": "2023-01-07T19:01:50.526Z"
   },
   {
    "duration": 11,
    "start_time": "2023-01-07T19:02:02.050Z"
   },
   {
    "duration": 15,
    "start_time": "2023-01-07T19:02:06.614Z"
   },
   {
    "duration": 10,
    "start_time": "2023-01-07T19:02:08.526Z"
   },
   {
    "duration": 11,
    "start_time": "2023-01-07T19:02:11.774Z"
   },
   {
    "duration": 6,
    "start_time": "2023-01-07T19:04:12.018Z"
   },
   {
    "duration": 70,
    "start_time": "2023-01-07T19:04:15.782Z"
   },
   {
    "duration": 23,
    "start_time": "2023-01-07T19:04:33.909Z"
   },
   {
    "duration": 14,
    "start_time": "2023-01-07T19:04:46.758Z"
   },
   {
    "duration": 98,
    "start_time": "2023-01-07T19:09:23.786Z"
   },
   {
    "duration": 69,
    "start_time": "2023-01-07T19:09:25.606Z"
   },
   {
    "duration": 10,
    "start_time": "2023-01-07T19:09:32.729Z"
   },
   {
    "duration": 8,
    "start_time": "2023-01-07T19:09:45.349Z"
   },
   {
    "duration": 71,
    "start_time": "2023-01-07T19:09:50.441Z"
   },
   {
    "duration": 8,
    "start_time": "2023-01-07T19:14:27.305Z"
   },
   {
    "duration": 8,
    "start_time": "2023-01-07T19:14:31.661Z"
   },
   {
    "duration": 67,
    "start_time": "2023-01-07T19:14:37.526Z"
   },
   {
    "duration": 65,
    "start_time": "2023-01-07T19:15:10.321Z"
   },
   {
    "duration": 315,
    "start_time": "2023-01-07T19:15:14.997Z"
   },
   {
    "duration": 4,
    "start_time": "2023-01-07T19:16:04.891Z"
   },
   {
    "duration": 9,
    "start_time": "2023-01-07T19:16:42.665Z"
   },
   {
    "duration": 4,
    "start_time": "2023-01-07T19:17:32.861Z"
   },
   {
    "duration": 90,
    "start_time": "2023-01-07T19:17:36.885Z"
   },
   {
    "duration": 12,
    "start_time": "2023-01-07T19:18:02.677Z"
   },
   {
    "duration": 12,
    "start_time": "2023-01-07T19:18:53.921Z"
   },
   {
    "duration": 72,
    "start_time": "2023-01-07T19:18:56.017Z"
   },
   {
    "duration": 14,
    "start_time": "2023-01-07T19:19:27.373Z"
   },
   {
    "duration": 8,
    "start_time": "2023-01-07T19:19:34.357Z"
   },
   {
    "duration": 13,
    "start_time": "2023-01-07T19:19:39.877Z"
   },
   {
    "duration": 13,
    "start_time": "2023-01-07T19:20:00.861Z"
   },
   {
    "duration": 14,
    "start_time": "2023-01-07T19:20:07.489Z"
   },
   {
    "duration": 16,
    "start_time": "2023-01-07T19:20:22.050Z"
   },
   {
    "duration": 15,
    "start_time": "2023-01-07T19:20:38.853Z"
   },
   {
    "duration": 14,
    "start_time": "2023-01-07T19:28:02.257Z"
   },
   {
    "duration": 19,
    "start_time": "2023-01-07T19:28:51.760Z"
   },
   {
    "duration": 15,
    "start_time": "2023-01-07T19:28:59.956Z"
   },
   {
    "duration": 19,
    "start_time": "2023-01-07T19:29:34.045Z"
   },
   {
    "duration": 21,
    "start_time": "2023-01-07T19:29:55.780Z"
   },
   {
    "duration": 35,
    "start_time": "2023-01-07T19:30:25.376Z"
   },
   {
    "duration": 15,
    "start_time": "2023-01-07T19:30:27.840Z"
   },
   {
    "duration": 16,
    "start_time": "2023-01-07T19:30:38.932Z"
   },
   {
    "duration": 15,
    "start_time": "2023-01-07T19:30:56.892Z"
   },
   {
    "duration": 11,
    "start_time": "2023-01-07T19:31:06.192Z"
   },
   {
    "duration": 11,
    "start_time": "2023-01-07T19:31:12.088Z"
   },
   {
    "duration": 10,
    "start_time": "2023-01-07T19:31:59.644Z"
   },
   {
    "duration": 6,
    "start_time": "2023-01-07T19:33:15.136Z"
   },
   {
    "duration": 16,
    "start_time": "2023-01-07T19:36:46.991Z"
   },
   {
    "duration": 18,
    "start_time": "2023-01-07T19:37:11.716Z"
   },
   {
    "duration": 2,
    "start_time": "2023-01-07T19:37:55.880Z"
   },
   {
    "duration": 359,
    "start_time": "2023-01-07T19:48:51.691Z"
   },
   {
    "duration": 917,
    "start_time": "2023-01-08T10:37:45.453Z"
   },
   {
    "duration": 81,
    "start_time": "2023-01-08T10:37:46.373Z"
   },
   {
    "duration": 3,
    "start_time": "2023-01-08T10:37:46.470Z"
   },
   {
    "duration": 27,
    "start_time": "2023-01-08T10:37:46.476Z"
   },
   {
    "duration": 11,
    "start_time": "2023-01-08T10:37:46.505Z"
   },
   {
    "duration": 90,
    "start_time": "2023-01-08T10:37:46.517Z"
   },
   {
    "duration": 10,
    "start_time": "2023-01-08T10:37:46.609Z"
   },
   {
    "duration": 15,
    "start_time": "2023-01-08T10:37:46.621Z"
   },
   {
    "duration": 12,
    "start_time": "2023-01-08T10:37:46.637Z"
   },
   {
    "duration": 5,
    "start_time": "2023-01-08T10:37:46.651Z"
   },
   {
    "duration": 61,
    "start_time": "2023-01-08T10:37:46.657Z"
   },
   {
    "duration": 9,
    "start_time": "2023-01-08T10:37:46.719Z"
   },
   {
    "duration": 11,
    "start_time": "2023-01-08T10:37:46.729Z"
   },
   {
    "duration": 6,
    "start_time": "2023-01-08T10:37:46.741Z"
   },
   {
    "duration": 289,
    "start_time": "2023-01-08T10:37:46.749Z"
   },
   {
    "duration": 31,
    "start_time": "2023-01-08T10:37:47.039Z"
   },
   {
    "duration": 40,
    "start_time": "2023-01-08T10:37:47.072Z"
   },
   {
    "duration": 90,
    "start_time": "2023-01-08T10:37:47.113Z"
   },
   {
    "duration": 277,
    "start_time": "2023-01-08T10:40:33.520Z"
   },
   {
    "duration": 13,
    "start_time": "2023-01-08T10:41:29.968Z"
   },
   {
    "duration": 403,
    "start_time": "2023-01-08T10:41:54.972Z"
   },
   {
    "duration": 306,
    "start_time": "2023-01-08T10:42:00.206Z"
   },
   {
    "duration": 326,
    "start_time": "2023-01-08T10:44:49.012Z"
   },
   {
    "duration": 199,
    "start_time": "2023-01-08T10:45:11.132Z"
   },
   {
    "duration": 283,
    "start_time": "2023-01-08T10:45:52.418Z"
   },
   {
    "duration": 363,
    "start_time": "2023-01-08T10:47:45.952Z"
   },
   {
    "duration": 5,
    "start_time": "2023-01-08T10:56:51.724Z"
   },
   {
    "duration": 143,
    "start_time": "2023-01-08T10:57:47.276Z"
   },
   {
    "duration": 141,
    "start_time": "2023-01-08T10:57:58.020Z"
   },
   {
    "duration": 5,
    "start_time": "2023-01-08T10:58:17.424Z"
   },
   {
    "duration": 180,
    "start_time": "2023-01-08T10:58:45.611Z"
   },
   {
    "duration": 28,
    "start_time": "2023-01-08T10:58:51.984Z"
   },
   {
    "duration": 150,
    "start_time": "2023-01-08T10:59:05.680Z"
   },
   {
    "duration": 11,
    "start_time": "2023-01-08T10:59:29.672Z"
   },
   {
    "duration": 9,
    "start_time": "2023-01-08T10:59:51.032Z"
   },
   {
    "duration": 7,
    "start_time": "2023-01-08T10:59:58.805Z"
   },
   {
    "duration": 20,
    "start_time": "2023-01-08T11:00:05.220Z"
   },
   {
    "duration": 13,
    "start_time": "2023-01-08T11:01:29.353Z"
   },
   {
    "duration": 13,
    "start_time": "2023-01-08T11:04:25.176Z"
   },
   {
    "duration": 287,
    "start_time": "2023-01-08T11:09:18.116Z"
   },
   {
    "duration": 358,
    "start_time": "2023-01-08T11:09:21.044Z"
   },
   {
    "duration": 257,
    "start_time": "2023-01-08T11:09:24.832Z"
   },
   {
    "duration": 254,
    "start_time": "2023-01-08T11:09:28.056Z"
   },
   {
    "duration": 247,
    "start_time": "2023-01-08T11:09:30.537Z"
   },
   {
    "duration": 265,
    "start_time": "2023-01-08T11:10:01.544Z"
   },
   {
    "duration": 183,
    "start_time": "2023-01-08T11:11:23.476Z"
   },
   {
    "duration": 235,
    "start_time": "2023-01-08T11:11:46.172Z"
   },
   {
    "duration": 202,
    "start_time": "2023-01-08T11:14:10.506Z"
   },
   {
    "duration": 288,
    "start_time": "2023-01-08T11:15:19.033Z"
   },
   {
    "duration": 313,
    "start_time": "2023-01-08T11:15:37.672Z"
   },
   {
    "duration": 283,
    "start_time": "2023-01-08T11:15:47.036Z"
   },
   {
    "duration": 338,
    "start_time": "2023-01-08T11:16:04.974Z"
   },
   {
    "duration": 60,
    "start_time": "2023-01-08T11:17:00.080Z"
   },
   {
    "duration": 10,
    "start_time": "2023-01-08T11:30:06.436Z"
   },
   {
    "duration": 41,
    "start_time": "2023-01-08T11:35:24.322Z"
   },
   {
    "duration": 36,
    "start_time": "2023-01-08T11:36:03.163Z"
   },
   {
    "duration": 459,
    "start_time": "2023-01-08T11:36:38.142Z"
   },
   {
    "duration": 496,
    "start_time": "2023-01-08T11:37:09.370Z"
   },
   {
    "duration": 210,
    "start_time": "2023-01-08T11:38:06.946Z"
   },
   {
    "duration": 215,
    "start_time": "2023-01-08T11:38:42.254Z"
   },
   {
    "duration": 13,
    "start_time": "2023-01-08T11:40:18.338Z"
   },
   {
    "duration": 15,
    "start_time": "2023-01-08T11:40:34.402Z"
   },
   {
    "duration": 338,
    "start_time": "2023-01-08T11:57:19.990Z"
   },
   {
    "duration": 275,
    "start_time": "2023-01-08T11:59:08.146Z"
   },
   {
    "duration": 214,
    "start_time": "2023-01-08T12:00:41.322Z"
   },
   {
    "duration": 47,
    "start_time": "2023-01-08T12:01:02.444Z"
   },
   {
    "duration": 281,
    "start_time": "2023-01-08T12:01:38.423Z"
   },
   {
    "duration": 286,
    "start_time": "2023-01-08T12:02:28.849Z"
   },
   {
    "duration": 6,
    "start_time": "2023-01-08T12:05:25.037Z"
   },
   {
    "duration": 44,
    "start_time": "2023-01-08T12:06:52.976Z"
   },
   {
    "duration": 267,
    "start_time": "2023-01-08T12:07:04.729Z"
   },
   {
    "duration": 5,
    "start_time": "2023-01-08T12:22:00.587Z"
   },
   {
    "duration": 187,
    "start_time": "2023-01-08T12:22:33.363Z"
   },
   {
    "duration": 36,
    "start_time": "2023-01-08T12:22:35.243Z"
   },
   {
    "duration": 1028,
    "start_time": "2023-01-08T12:47:31.849Z"
   },
   {
    "duration": 93,
    "start_time": "2023-01-08T12:47:32.879Z"
   },
   {
    "duration": 3,
    "start_time": "2023-01-08T12:47:32.974Z"
   },
   {
    "duration": 13,
    "start_time": "2023-01-08T12:47:32.980Z"
   },
   {
    "duration": 8,
    "start_time": "2023-01-08T12:47:32.996Z"
   },
   {
    "duration": 50,
    "start_time": "2023-01-08T12:47:33.006Z"
   },
   {
    "duration": 13,
    "start_time": "2023-01-08T12:47:33.058Z"
   },
   {
    "duration": 35,
    "start_time": "2023-01-08T12:47:33.073Z"
   },
   {
    "duration": 18,
    "start_time": "2023-01-08T12:47:33.110Z"
   },
   {
    "duration": 6,
    "start_time": "2023-01-08T12:47:33.131Z"
   },
   {
    "duration": 26,
    "start_time": "2023-01-08T12:47:33.139Z"
   },
   {
    "duration": 21,
    "start_time": "2023-01-08T12:47:33.167Z"
   },
   {
    "duration": 15,
    "start_time": "2023-01-08T12:47:33.190Z"
   },
   {
    "duration": 10,
    "start_time": "2023-01-08T12:47:33.207Z"
   },
   {
    "duration": 6,
    "start_time": "2023-01-08T12:47:33.219Z"
   },
   {
    "duration": 320,
    "start_time": "2023-01-08T12:47:33.227Z"
   },
   {
    "duration": 316,
    "start_time": "2023-01-08T12:47:33.549Z"
   },
   {
    "duration": 12,
    "start_time": "2023-01-08T12:47:33.866Z"
   },
   {
    "duration": 245,
    "start_time": "2023-01-08T12:47:33.880Z"
   },
   {
    "duration": 282,
    "start_time": "2023-01-08T12:47:34.127Z"
   },
   {
    "duration": 231,
    "start_time": "2023-01-08T12:47:34.411Z"
   },
   {
    "duration": 287,
    "start_time": "2023-01-08T12:47:34.644Z"
   },
   {
    "duration": 296,
    "start_time": "2023-01-08T12:47:34.933Z"
   },
   {
    "duration": 5,
    "start_time": "2023-01-08T12:47:35.231Z"
   },
   {
    "duration": 159,
    "start_time": "2023-01-08T12:47:35.237Z"
   },
   {
    "duration": 163,
    "start_time": "2023-01-08T12:47:35.398Z"
   },
   {
    "duration": 5,
    "start_time": "2023-01-08T12:47:35.563Z"
   },
   {
    "duration": 228,
    "start_time": "2023-01-08T12:47:35.571Z"
   },
   {
    "duration": 302,
    "start_time": "2023-01-08T12:47:35.801Z"
   },
   {
    "duration": 414,
    "start_time": "2023-01-08T12:47:36.106Z"
   },
   {
    "duration": 36,
    "start_time": "2023-01-08T12:47:36.521Z"
   },
   {
    "duration": 159,
    "start_time": "2023-01-08T12:47:36.559Z"
   },
   {
    "duration": 15,
    "start_time": "2023-01-08T12:47:36.721Z"
   },
   {
    "duration": 12,
    "start_time": "2023-01-08T12:47:36.738Z"
   },
   {
    "duration": 20,
    "start_time": "2023-01-08T12:47:36.752Z"
   },
   {
    "duration": 536,
    "start_time": "2023-01-08T12:47:36.774Z"
   },
   {
    "duration": 30,
    "start_time": "2023-01-08T12:47:37.312Z"
   },
   {
    "duration": 16,
    "start_time": "2023-01-08T12:47:37.344Z"
   },
   {
    "duration": 220,
    "start_time": "2023-01-08T12:59:48.380Z"
   },
   {
    "duration": 306,
    "start_time": "2023-01-08T13:00:18.236Z"
   },
   {
    "duration": 164,
    "start_time": "2023-01-08T17:16:31.094Z"
   },
   {
    "duration": 128,
    "start_time": "2023-01-08T17:16:37.650Z"
   },
   {
    "duration": 133,
    "start_time": "2023-01-08T17:16:40.829Z"
   },
   {
    "duration": 141,
    "start_time": "2023-01-08T17:17:06.262Z"
   },
   {
    "duration": 481,
    "start_time": "2023-01-08T17:21:19.401Z"
   },
   {
    "duration": 211,
    "start_time": "2023-01-08T17:21:43.441Z"
   },
   {
    "duration": 309,
    "start_time": "2023-01-08T17:21:59.661Z"
   },
   {
    "duration": 273,
    "start_time": "2023-01-08T17:22:11.493Z"
   },
   {
    "duration": 233,
    "start_time": "2023-01-08T17:22:14.566Z"
   },
   {
    "duration": 345,
    "start_time": "2023-01-08T17:22:23.397Z"
   },
   {
    "duration": 187,
    "start_time": "2023-01-08T17:22:40.681Z"
   },
   {
    "duration": 276,
    "start_time": "2023-01-08T17:22:43.534Z"
   },
   {
    "duration": 1051,
    "start_time": "2023-01-08T17:25:49.094Z"
   },
   {
    "duration": 87,
    "start_time": "2023-01-08T17:25:50.147Z"
   },
   {
    "duration": 4,
    "start_time": "2023-01-08T17:25:50.236Z"
   },
   {
    "duration": 10,
    "start_time": "2023-01-08T17:25:50.243Z"
   },
   {
    "duration": 8,
    "start_time": "2023-01-08T17:25:50.255Z"
   },
   {
    "duration": 50,
    "start_time": "2023-01-08T17:25:50.265Z"
   },
   {
    "duration": 13,
    "start_time": "2023-01-08T17:25:50.317Z"
   },
   {
    "duration": 19,
    "start_time": "2023-01-08T17:25:50.332Z"
   },
   {
    "duration": 14,
    "start_time": "2023-01-08T17:25:50.353Z"
   },
   {
    "duration": 5,
    "start_time": "2023-01-08T17:25:50.370Z"
   },
   {
    "duration": 25,
    "start_time": "2023-01-08T17:25:50.376Z"
   },
   {
    "duration": 19,
    "start_time": "2023-01-08T17:25:50.402Z"
   },
   {
    "duration": 10,
    "start_time": "2023-01-08T17:25:50.423Z"
   },
   {
    "duration": 5,
    "start_time": "2023-01-08T17:25:50.435Z"
   },
   {
    "duration": 5,
    "start_time": "2023-01-08T17:25:50.442Z"
   },
   {
    "duration": 336,
    "start_time": "2023-01-08T17:25:50.449Z"
   },
   {
    "duration": 292,
    "start_time": "2023-01-08T17:25:50.787Z"
   },
   {
    "duration": 24,
    "start_time": "2023-01-08T17:25:51.081Z"
   },
   {
    "duration": 215,
    "start_time": "2023-01-08T17:25:51.106Z"
   },
   {
    "duration": 276,
    "start_time": "2023-01-08T17:25:51.323Z"
   },
   {
    "duration": 286,
    "start_time": "2023-01-08T17:25:51.601Z"
   },
   {
    "duration": 349,
    "start_time": "2023-01-08T17:25:51.890Z"
   },
   {
    "duration": 305,
    "start_time": "2023-01-08T17:25:52.241Z"
   },
   {
    "duration": 5,
    "start_time": "2023-01-08T17:25:52.547Z"
   },
   {
    "duration": 174,
    "start_time": "2023-01-08T17:25:52.554Z"
   },
   {
    "duration": 159,
    "start_time": "2023-01-08T17:25:52.730Z"
   },
   {
    "duration": 10,
    "start_time": "2023-01-08T17:25:52.891Z"
   },
   {
    "duration": 220,
    "start_time": "2023-01-08T17:25:52.905Z"
   },
   {
    "duration": 26,
    "start_time": "2023-01-08T17:25:53.127Z"
   },
   {
    "duration": 143,
    "start_time": "2023-01-08T17:25:53.154Z"
   },
   {
    "duration": 10,
    "start_time": "2023-01-08T17:25:53.299Z"
   },
   {
    "duration": 10,
    "start_time": "2023-01-08T17:25:53.310Z"
   },
   {
    "duration": 9,
    "start_time": "2023-01-08T17:25:53.322Z"
   },
   {
    "duration": 620,
    "start_time": "2023-01-08T17:25:53.332Z"
   },
   {
    "duration": 222,
    "start_time": "2023-01-08T17:25:53.953Z"
   },
   {
    "duration": 334,
    "start_time": "2023-01-08T17:25:54.177Z"
   },
   {
    "duration": 21,
    "start_time": "2023-01-08T17:25:54.512Z"
   },
   {
    "duration": 13,
    "start_time": "2023-01-08T17:25:54.535Z"
   },
   {
    "duration": 65,
    "start_time": "2023-01-08T17:33:34.425Z"
   },
   {
    "duration": 64,
    "start_time": "2023-01-08T17:41:58.064Z"
   },
   {
    "duration": 300,
    "start_time": "2023-01-08T18:00:56.414Z"
   },
   {
    "duration": 277,
    "start_time": "2023-01-08T18:07:35.970Z"
   },
   {
    "duration": 279,
    "start_time": "2023-01-08T18:07:57.178Z"
   },
   {
    "duration": 174,
    "start_time": "2023-01-08T18:40:56.033Z"
   },
   {
    "duration": 954,
    "start_time": "2023-01-08T18:41:02.858Z"
   },
   {
    "duration": 83,
    "start_time": "2023-01-08T18:41:03.814Z"
   },
   {
    "duration": 4,
    "start_time": "2023-01-08T18:41:03.899Z"
   },
   {
    "duration": 24,
    "start_time": "2023-01-08T18:41:03.905Z"
   },
   {
    "duration": 31,
    "start_time": "2023-01-08T18:41:03.931Z"
   },
   {
    "duration": 51,
    "start_time": "2023-01-08T18:41:03.964Z"
   },
   {
    "duration": 10,
    "start_time": "2023-01-08T18:41:04.017Z"
   },
   {
    "duration": 28,
    "start_time": "2023-01-08T18:41:04.029Z"
   },
   {
    "duration": 31,
    "start_time": "2023-01-08T18:41:04.059Z"
   },
   {
    "duration": 5,
    "start_time": "2023-01-08T18:41:04.092Z"
   },
   {
    "duration": 34,
    "start_time": "2023-01-08T18:41:04.099Z"
   },
   {
    "duration": 26,
    "start_time": "2023-01-08T18:41:04.134Z"
   },
   {
    "duration": 9,
    "start_time": "2023-01-08T18:41:04.161Z"
   },
   {
    "duration": 22,
    "start_time": "2023-01-08T18:41:04.171Z"
   },
   {
    "duration": 10,
    "start_time": "2023-01-08T18:41:04.195Z"
   },
   {
    "duration": 283,
    "start_time": "2023-01-08T18:41:04.207Z"
   },
   {
    "duration": 280,
    "start_time": "2023-01-08T18:41:04.492Z"
   },
   {
    "duration": 11,
    "start_time": "2023-01-08T18:41:04.774Z"
   },
   {
    "duration": 234,
    "start_time": "2023-01-08T18:41:04.796Z"
   },
   {
    "duration": 271,
    "start_time": "2023-01-08T18:41:05.032Z"
   },
   {
    "duration": 211,
    "start_time": "2023-01-08T18:41:05.305Z"
   },
   {
    "duration": 294,
    "start_time": "2023-01-08T18:41:05.518Z"
   },
   {
    "duration": 298,
    "start_time": "2023-01-08T18:41:05.813Z"
   },
   {
    "duration": 171,
    "start_time": "2023-01-08T18:41:06.113Z"
   },
   {
    "duration": 11,
    "start_time": "2023-01-08T18:41:06.286Z"
   },
   {
    "duration": 180,
    "start_time": "2023-01-08T18:41:06.299Z"
   },
   {
    "duration": 159,
    "start_time": "2023-01-08T18:41:06.481Z"
   },
   {
    "duration": 4,
    "start_time": "2023-01-08T18:41:06.645Z"
   },
   {
    "duration": 215,
    "start_time": "2023-01-08T18:41:06.651Z"
   },
   {
    "duration": 44,
    "start_time": "2023-01-08T18:41:06.868Z"
   },
   {
    "duration": 154,
    "start_time": "2023-01-08T18:41:06.914Z"
   },
   {
    "duration": 9,
    "start_time": "2023-01-08T18:41:07.069Z"
   },
   {
    "duration": 19,
    "start_time": "2023-01-08T18:41:07.079Z"
   },
   {
    "duration": 7,
    "start_time": "2023-01-08T18:41:07.100Z"
   },
   {
    "duration": 578,
    "start_time": "2023-01-08T18:41:07.109Z"
   },
   {
    "duration": 204,
    "start_time": "2023-01-08T18:41:07.689Z"
   },
   {
    "duration": 307,
    "start_time": "2023-01-08T18:41:07.896Z"
   },
   {
    "duration": 20,
    "start_time": "2023-01-08T18:41:08.205Z"
   },
   {
    "duration": 12,
    "start_time": "2023-01-08T18:41:08.227Z"
   },
   {
    "duration": 3,
    "start_time": "2023-01-08T18:50:43.759Z"
   },
   {
    "duration": 6,
    "start_time": "2023-01-08T18:50:47.838Z"
   },
   {
    "duration": 5,
    "start_time": "2023-01-08T18:51:00.326Z"
   },
   {
    "duration": 49,
    "start_time": "2023-01-08T18:56:31.974Z"
   },
   {
    "duration": 152,
    "start_time": "2023-01-08T18:57:36.241Z"
   },
   {
    "duration": 140,
    "start_time": "2023-01-08T18:57:56.402Z"
   },
   {
    "duration": 147,
    "start_time": "2023-01-08T18:58:00.186Z"
   },
   {
    "duration": 44,
    "start_time": "2023-01-08T18:58:43.178Z"
   },
   {
    "duration": 1001,
    "start_time": "2023-01-08T19:11:08.014Z"
   },
   {
    "duration": 83,
    "start_time": "2023-01-08T19:11:09.017Z"
   },
   {
    "duration": 3,
    "start_time": "2023-01-08T19:11:09.102Z"
   },
   {
    "duration": 10,
    "start_time": "2023-01-08T19:11:09.107Z"
   },
   {
    "duration": 8,
    "start_time": "2023-01-08T19:11:09.118Z"
   },
   {
    "duration": 46,
    "start_time": "2023-01-08T19:11:09.127Z"
   },
   {
    "duration": 11,
    "start_time": "2023-01-08T19:11:09.175Z"
   },
   {
    "duration": 32,
    "start_time": "2023-01-08T19:11:09.188Z"
   },
   {
    "duration": 20,
    "start_time": "2023-01-08T19:11:09.222Z"
   },
   {
    "duration": 5,
    "start_time": "2023-01-08T19:11:09.244Z"
   },
   {
    "duration": 23,
    "start_time": "2023-01-08T19:11:09.250Z"
   },
   {
    "duration": 10,
    "start_time": "2023-01-08T19:11:09.274Z"
   },
   {
    "duration": 10,
    "start_time": "2023-01-08T19:11:09.286Z"
   },
   {
    "duration": 9,
    "start_time": "2023-01-08T19:11:09.298Z"
   },
   {
    "duration": 324,
    "start_time": "2023-01-08T19:11:09.309Z"
   },
   {
    "duration": 282,
    "start_time": "2023-01-08T19:11:09.635Z"
   },
   {
    "duration": 11,
    "start_time": "2023-01-08T19:11:09.919Z"
   },
   {
    "duration": 226,
    "start_time": "2023-01-08T19:11:09.932Z"
   },
   {
    "duration": 325,
    "start_time": "2023-01-08T19:11:10.160Z"
   },
   {
    "duration": 243,
    "start_time": "2023-01-08T19:11:10.486Z"
   },
   {
    "duration": 311,
    "start_time": "2023-01-08T19:11:10.730Z"
   },
   {
    "duration": 306,
    "start_time": "2023-01-08T19:11:11.043Z"
   },
   {
    "duration": 4,
    "start_time": "2023-01-08T19:11:11.351Z"
   },
   {
    "duration": 172,
    "start_time": "2023-01-08T19:11:11.356Z"
   },
   {
    "duration": 156,
    "start_time": "2023-01-08T19:11:11.530Z"
   },
   {
    "duration": 9,
    "start_time": "2023-01-08T19:11:11.688Z"
   },
   {
    "duration": 222,
    "start_time": "2023-01-08T19:11:11.699Z"
   },
   {
    "duration": 40,
    "start_time": "2023-01-08T19:11:11.926Z"
   },
   {
    "duration": 172,
    "start_time": "2023-01-08T19:11:11.968Z"
   },
   {
    "duration": 11,
    "start_time": "2023-01-08T19:11:12.142Z"
   },
   {
    "duration": 12,
    "start_time": "2023-01-08T19:11:12.154Z"
   },
   {
    "duration": 11,
    "start_time": "2023-01-08T19:11:12.168Z"
   },
   {
    "duration": 615,
    "start_time": "2023-01-08T19:11:12.196Z"
   },
   {
    "duration": 210,
    "start_time": "2023-01-08T19:11:12.812Z"
   },
   {
    "duration": 294,
    "start_time": "2023-01-08T19:11:13.023Z"
   },
   {
    "duration": 30,
    "start_time": "2023-01-08T19:11:13.318Z"
   },
   {
    "duration": 14,
    "start_time": "2023-01-08T19:11:13.350Z"
   },
   {
    "duration": 59,
    "start_time": "2023-01-09T07:56:01.282Z"
   },
   {
    "duration": 8,
    "start_time": "2023-01-09T07:56:08.574Z"
   },
   {
    "duration": 1249,
    "start_time": "2023-01-09T07:56:20.431Z"
   },
   {
    "duration": 137,
    "start_time": "2023-01-09T07:56:21.682Z"
   },
   {
    "duration": 3,
    "start_time": "2023-01-09T07:56:21.821Z"
   },
   {
    "duration": 13,
    "start_time": "2023-01-09T07:56:21.825Z"
   },
   {
    "duration": 14,
    "start_time": "2023-01-09T07:56:21.840Z"
   },
   {
    "duration": 100,
    "start_time": "2023-01-09T07:56:21.856Z"
   },
   {
    "duration": 12,
    "start_time": "2023-01-09T07:56:21.958Z"
   },
   {
    "duration": 22,
    "start_time": "2023-01-09T07:56:21.972Z"
   },
   {
    "duration": 27,
    "start_time": "2023-01-09T07:56:21.996Z"
   },
   {
    "duration": 6,
    "start_time": "2023-01-09T07:56:22.025Z"
   },
   {
    "duration": 62,
    "start_time": "2023-01-09T07:56:22.033Z"
   },
   {
    "duration": 12,
    "start_time": "2023-01-09T07:56:22.097Z"
   },
   {
    "duration": 11,
    "start_time": "2023-01-09T07:56:22.110Z"
   },
   {
    "duration": 11,
    "start_time": "2023-01-09T07:56:22.124Z"
   },
   {
    "duration": 311,
    "start_time": "2023-01-09T07:56:22.137Z"
   },
   {
    "duration": 311,
    "start_time": "2023-01-09T07:56:22.450Z"
   },
   {
    "duration": 12,
    "start_time": "2023-01-09T07:56:22.762Z"
   },
   {
    "duration": 243,
    "start_time": "2023-01-09T07:56:22.776Z"
   },
   {
    "duration": 340,
    "start_time": "2023-01-09T07:56:23.021Z"
   },
   {
    "duration": 260,
    "start_time": "2023-01-09T07:56:23.363Z"
   },
   {
    "duration": 314,
    "start_time": "2023-01-09T07:56:23.625Z"
   },
   {
    "duration": 317,
    "start_time": "2023-01-09T07:56:23.941Z"
   },
   {
    "duration": 5,
    "start_time": "2023-01-09T07:56:24.259Z"
   },
   {
    "duration": 185,
    "start_time": "2023-01-09T07:56:24.266Z"
   },
   {
    "duration": 166,
    "start_time": "2023-01-09T07:56:24.453Z"
   },
   {
    "duration": 5,
    "start_time": "2023-01-09T07:56:24.621Z"
   },
   {
    "duration": 217,
    "start_time": "2023-01-09T07:56:24.628Z"
   },
   {
    "duration": 24,
    "start_time": "2023-01-09T07:56:24.846Z"
   },
   {
    "duration": 178,
    "start_time": "2023-01-09T07:56:24.872Z"
   },
   {
    "duration": 13,
    "start_time": "2023-01-09T07:56:25.051Z"
   },
   {
    "duration": 39,
    "start_time": "2023-01-09T07:56:25.065Z"
   },
   {
    "duration": 19,
    "start_time": "2023-01-09T07:56:25.106Z"
   },
   {
    "duration": 664,
    "start_time": "2023-01-09T07:56:25.127Z"
   },
   {
    "duration": 258,
    "start_time": "2023-01-09T07:56:25.793Z"
   },
   {
    "duration": 308,
    "start_time": "2023-01-09T07:56:26.053Z"
   },
   {
    "duration": 42,
    "start_time": "2023-01-09T07:56:26.363Z"
   },
   {
    "duration": 20,
    "start_time": "2023-01-09T07:56:26.408Z"
   },
   {
    "duration": 56,
    "start_time": "2023-01-09T07:59:02.641Z"
   },
   {
    "duration": 183,
    "start_time": "2023-01-09T08:07:59.638Z"
   },
   {
    "duration": 60,
    "start_time": "2023-01-09T12:12:38.158Z"
   },
   {
    "duration": 10,
    "start_time": "2023-01-09T12:12:41.482Z"
   },
   {
    "duration": 1325,
    "start_time": "2023-01-09T12:12:49.785Z"
   },
   {
    "duration": 160,
    "start_time": "2023-01-09T12:12:51.113Z"
   },
   {
    "duration": 3,
    "start_time": "2023-01-09T12:12:51.275Z"
   },
   {
    "duration": 16,
    "start_time": "2023-01-09T12:12:51.281Z"
   },
   {
    "duration": 10,
    "start_time": "2023-01-09T12:12:51.299Z"
   },
   {
    "duration": 103,
    "start_time": "2023-01-09T12:12:51.311Z"
   },
   {
    "duration": 13,
    "start_time": "2023-01-09T12:12:51.416Z"
   },
   {
    "duration": 16,
    "start_time": "2023-01-09T12:12:51.431Z"
   },
   {
    "duration": 24,
    "start_time": "2023-01-09T12:12:51.449Z"
   },
   {
    "duration": 6,
    "start_time": "2023-01-09T12:12:51.476Z"
   },
   {
    "duration": 85,
    "start_time": "2023-01-09T12:12:51.484Z"
   },
   {
    "duration": 13,
    "start_time": "2023-01-09T12:12:51.570Z"
   },
   {
    "duration": 14,
    "start_time": "2023-01-09T12:12:51.586Z"
   },
   {
    "duration": 7,
    "start_time": "2023-01-09T12:12:51.603Z"
   },
   {
    "duration": 329,
    "start_time": "2023-01-09T12:12:51.611Z"
   },
   {
    "duration": 322,
    "start_time": "2023-01-09T12:12:51.942Z"
   },
   {
    "duration": 15,
    "start_time": "2023-01-09T12:12:52.266Z"
   },
   {
    "duration": 253,
    "start_time": "2023-01-09T12:12:52.283Z"
   },
   {
    "duration": 376,
    "start_time": "2023-01-09T12:12:52.539Z"
   },
   {
    "duration": 236,
    "start_time": "2023-01-09T12:12:52.918Z"
   },
   {
    "duration": 332,
    "start_time": "2023-01-09T12:12:53.160Z"
   },
   {
    "duration": 334,
    "start_time": "2023-01-09T12:12:53.493Z"
   },
   {
    "duration": 6,
    "start_time": "2023-01-09T12:12:53.829Z"
   },
   {
    "duration": 203,
    "start_time": "2023-01-09T12:12:53.851Z"
   },
   {
    "duration": 181,
    "start_time": "2023-01-09T12:12:54.056Z"
   },
   {
    "duration": 13,
    "start_time": "2023-01-09T12:12:54.238Z"
   },
   {
    "duration": 225,
    "start_time": "2023-01-09T12:12:54.253Z"
   },
   {
    "duration": 26,
    "start_time": "2023-01-09T12:12:54.481Z"
   },
   {
    "duration": 184,
    "start_time": "2023-01-09T12:12:54.508Z"
   },
   {
    "duration": 13,
    "start_time": "2023-01-09T12:12:54.694Z"
   },
   {
    "duration": 11,
    "start_time": "2023-01-09T12:12:54.708Z"
   },
   {
    "duration": 39,
    "start_time": "2023-01-09T12:12:54.720Z"
   },
   {
    "duration": 14,
    "start_time": "2023-01-09T12:12:54.761Z"
   },
   {
    "duration": 701,
    "start_time": "2023-01-09T12:12:54.777Z"
   },
   {
    "duration": 267,
    "start_time": "2023-01-09T12:12:55.480Z"
   },
   {
    "duration": 344,
    "start_time": "2023-01-09T12:12:55.750Z"
   },
   {
    "duration": 26,
    "start_time": "2023-01-09T12:12:56.096Z"
   },
   {
    "duration": 31,
    "start_time": "2023-01-09T12:12:56.124Z"
   },
   {
    "duration": 5,
    "start_time": "2023-01-09T12:13:59.569Z"
   },
   {
    "duration": 8,
    "start_time": "2023-01-09T12:14:51.561Z"
   },
   {
    "duration": 4,
    "start_time": "2023-01-09T12:16:00.737Z"
   },
   {
    "duration": 106,
    "start_time": "2023-01-09T12:16:15.431Z"
   },
   {
    "duration": 11,
    "start_time": "2023-01-09T12:16:20.794Z"
   },
   {
    "duration": 8,
    "start_time": "2023-01-09T12:16:29.693Z"
   },
   {
    "duration": 5,
    "start_time": "2023-01-09T12:17:01.789Z"
   },
   {
    "duration": 52,
    "start_time": "2023-01-09T12:17:59.853Z"
   },
   {
    "duration": 36,
    "start_time": "2023-01-09T12:19:00.458Z"
   },
   {
    "duration": 5825,
    "start_time": "2023-01-09T12:19:44.962Z"
   },
   {
    "duration": 77,
    "start_time": "2023-01-09T12:20:58.210Z"
   },
   {
    "duration": 5505,
    "start_time": "2023-01-09T12:21:10.130Z"
   },
   {
    "duration": 263,
    "start_time": "2023-01-09T12:21:25.062Z"
   },
   {
    "duration": 841,
    "start_time": "2023-01-09T12:21:28.910Z"
   },
   {
    "duration": 10,
    "start_time": "2023-01-09T12:22:16.098Z"
   },
   {
    "duration": 25,
    "start_time": "2023-01-09T12:22:18.766Z"
   },
   {
    "duration": 25,
    "start_time": "2023-01-09T12:22:35.758Z"
   },
   {
    "duration": 9,
    "start_time": "2023-01-09T12:24:20.005Z"
   },
   {
    "duration": 13,
    "start_time": "2023-01-09T12:24:53.750Z"
   },
   {
    "duration": 12,
    "start_time": "2023-01-09T12:24:55.298Z"
   },
   {
    "duration": 9,
    "start_time": "2023-01-09T12:25:05.214Z"
   },
   {
    "duration": 11,
    "start_time": "2023-01-09T12:36:44.802Z"
   },
   {
    "duration": 74,
    "start_time": "2023-01-09T12:39:05.346Z"
   },
   {
    "duration": 4,
    "start_time": "2023-01-09T12:42:53.701Z"
   },
   {
    "duration": 1148,
    "start_time": "2023-01-09T12:42:59.410Z"
   },
   {
    "duration": 103,
    "start_time": "2023-01-09T12:43:00.560Z"
   },
   {
    "duration": 5,
    "start_time": "2023-01-09T12:43:00.665Z"
   },
   {
    "duration": 43,
    "start_time": "2023-01-09T12:43:00.672Z"
   },
   {
    "duration": 39,
    "start_time": "2023-01-09T12:43:00.717Z"
   },
   {
    "duration": 76,
    "start_time": "2023-01-09T12:43:00.757Z"
   },
   {
    "duration": 17,
    "start_time": "2023-01-09T12:43:00.835Z"
   },
   {
    "duration": 50,
    "start_time": "2023-01-09T12:43:00.854Z"
   },
   {
    "duration": 71,
    "start_time": "2023-01-09T12:43:00.906Z"
   },
   {
    "duration": 62,
    "start_time": "2023-01-09T12:43:00.981Z"
   },
   {
    "duration": 57,
    "start_time": "2023-01-09T12:43:01.045Z"
   },
   {
    "duration": 12,
    "start_time": "2023-01-09T12:43:01.104Z"
   },
   {
    "duration": 24,
    "start_time": "2023-01-09T12:43:01.120Z"
   },
   {
    "duration": 18,
    "start_time": "2023-01-09T12:43:01.146Z"
   },
   {
    "duration": 346,
    "start_time": "2023-01-09T12:43:01.166Z"
   },
   {
    "duration": 320,
    "start_time": "2023-01-09T12:43:01.515Z"
   },
   {
    "duration": 20,
    "start_time": "2023-01-09T12:43:01.837Z"
   },
   {
    "duration": 253,
    "start_time": "2023-01-09T12:43:01.859Z"
   },
   {
    "duration": 339,
    "start_time": "2023-01-09T12:43:02.114Z"
   },
   {
    "duration": 243,
    "start_time": "2023-01-09T12:43:02.455Z"
   },
   {
    "duration": 320,
    "start_time": "2023-01-09T12:43:02.700Z"
   },
   {
    "duration": 331,
    "start_time": "2023-01-09T12:43:03.022Z"
   },
   {
    "duration": 5,
    "start_time": "2023-01-09T12:43:03.355Z"
   },
   {
    "duration": 180,
    "start_time": "2023-01-09T12:43:03.362Z"
   },
   {
    "duration": 157,
    "start_time": "2023-01-09T12:43:03.550Z"
   },
   {
    "duration": 5,
    "start_time": "2023-01-09T12:43:03.709Z"
   },
   {
    "duration": 225,
    "start_time": "2023-01-09T12:43:03.716Z"
   },
   {
    "duration": 25,
    "start_time": "2023-01-09T12:43:03.950Z"
   },
   {
    "duration": 176,
    "start_time": "2023-01-09T12:43:03.977Z"
   },
   {
    "duration": 12,
    "start_time": "2023-01-09T12:43:04.156Z"
   },
   {
    "duration": 9,
    "start_time": "2023-01-09T12:43:04.170Z"
   },
   {
    "duration": 5608,
    "start_time": "2023-01-09T12:43:04.181Z"
   },
   {
    "duration": 296,
    "start_time": "2023-01-09T12:43:09.792Z"
   },
   {
    "duration": 832,
    "start_time": "2023-01-09T12:43:10.090Z"
   },
   {
    "duration": 9,
    "start_time": "2023-01-09T12:43:10.923Z"
   },
   {
    "duration": 61,
    "start_time": "2023-01-09T12:43:10.934Z"
   },
   {
    "duration": 46,
    "start_time": "2023-01-09T12:43:10.997Z"
   },
   {
    "duration": 1222,
    "start_time": "2023-01-10T07:35:27.914Z"
   },
   {
    "duration": 142,
    "start_time": "2023-01-10T07:35:29.139Z"
   },
   {
    "duration": 3,
    "start_time": "2023-01-10T07:35:29.282Z"
   },
   {
    "duration": 22,
    "start_time": "2023-01-10T07:35:29.287Z"
   },
   {
    "duration": 12,
    "start_time": "2023-01-10T07:35:29.311Z"
   },
   {
    "duration": 124,
    "start_time": "2023-01-10T07:35:29.325Z"
   },
   {
    "duration": 10,
    "start_time": "2023-01-10T07:35:29.450Z"
   },
   {
    "duration": 25,
    "start_time": "2023-01-10T07:35:29.462Z"
   },
   {
    "duration": 17,
    "start_time": "2023-01-10T07:35:29.488Z"
   },
   {
    "duration": 8,
    "start_time": "2023-01-10T07:35:29.508Z"
   },
   {
    "duration": 70,
    "start_time": "2023-01-10T07:35:29.518Z"
   },
   {
    "duration": 11,
    "start_time": "2023-01-10T07:35:29.589Z"
   },
   {
    "duration": 14,
    "start_time": "2023-01-10T07:35:29.602Z"
   },
   {
    "duration": 295,
    "start_time": "2023-01-10T07:35:29.618Z"
   },
   {
    "duration": 320,
    "start_time": "2023-01-10T07:35:29.915Z"
   },
   {
    "duration": 10,
    "start_time": "2023-01-10T07:35:30.237Z"
   },
   {
    "duration": 221,
    "start_time": "2023-01-10T07:35:30.249Z"
   },
   {
    "duration": 355,
    "start_time": "2023-01-10T07:35:30.472Z"
   },
   {
    "duration": 201,
    "start_time": "2023-01-10T07:35:30.828Z"
   },
   {
    "duration": 296,
    "start_time": "2023-01-10T07:35:31.031Z"
   },
   {
    "duration": 243,
    "start_time": "2023-01-10T07:35:31.329Z"
   },
   {
    "duration": 4,
    "start_time": "2023-01-10T07:35:31.574Z"
   },
   {
    "duration": 148,
    "start_time": "2023-01-10T07:35:31.580Z"
   },
   {
    "duration": 147,
    "start_time": "2023-01-10T07:35:31.730Z"
   },
   {
    "duration": 4,
    "start_time": "2023-01-10T07:35:31.879Z"
   },
   {
    "duration": 203,
    "start_time": "2023-01-10T07:35:31.884Z"
   },
   {
    "duration": 26,
    "start_time": "2023-01-10T07:35:32.089Z"
   },
   {
    "duration": 148,
    "start_time": "2023-01-10T07:35:32.118Z"
   },
   {
    "duration": 10,
    "start_time": "2023-01-10T07:35:32.267Z"
   },
   {
    "duration": 21,
    "start_time": "2023-01-10T07:35:32.279Z"
   },
   {
    "duration": 5209,
    "start_time": "2023-01-10T07:35:32.302Z"
   },
   {
    "duration": 261,
    "start_time": "2023-01-10T07:35:37.513Z"
   },
   {
    "duration": 756,
    "start_time": "2023-01-10T07:35:37.775Z"
   },
   {
    "duration": 8,
    "start_time": "2023-01-10T07:35:38.533Z"
   },
   {
    "duration": 25,
    "start_time": "2023-01-10T07:35:38.542Z"
   },
   {
    "duration": 12,
    "start_time": "2023-01-10T07:35:38.568Z"
   },
   {
    "duration": 68,
    "start_time": "2023-01-10T11:05:59.331Z"
   },
   {
    "duration": 49,
    "start_time": "2023-01-10T11:06:03.791Z"
   },
   {
    "duration": 1174,
    "start_time": "2023-01-10T11:06:10.094Z"
   },
   {
    "duration": 137,
    "start_time": "2023-01-10T11:06:11.270Z"
   },
   {
    "duration": 3,
    "start_time": "2023-01-10T11:06:11.409Z"
   },
   {
    "duration": 22,
    "start_time": "2023-01-10T11:06:11.414Z"
   },
   {
    "duration": 8,
    "start_time": "2023-01-10T11:06:11.437Z"
   },
   {
    "duration": 88,
    "start_time": "2023-01-10T11:06:11.446Z"
   },
   {
    "duration": 14,
    "start_time": "2023-01-10T11:06:11.535Z"
   },
   {
    "duration": 19,
    "start_time": "2023-01-10T11:06:11.551Z"
   },
   {
    "duration": 15,
    "start_time": "2023-01-10T11:06:11.571Z"
   },
   {
    "duration": 5,
    "start_time": "2023-01-10T11:06:11.589Z"
   },
   {
    "duration": 83,
    "start_time": "2023-01-10T11:06:11.597Z"
   },
   {
    "duration": 11,
    "start_time": "2023-01-10T11:06:11.682Z"
   },
   {
    "duration": 6,
    "start_time": "2023-01-10T11:06:11.695Z"
   },
   {
    "duration": 291,
    "start_time": "2023-01-10T11:06:11.702Z"
   },
   {
    "duration": 272,
    "start_time": "2023-01-10T11:06:11.994Z"
   },
   {
    "duration": 11,
    "start_time": "2023-01-10T11:06:12.268Z"
   },
   {
    "duration": 201,
    "start_time": "2023-01-10T11:06:12.281Z"
   },
   {
    "duration": 360,
    "start_time": "2023-01-10T11:06:12.483Z"
   },
   {
    "duration": 206,
    "start_time": "2023-01-10T11:06:12.845Z"
   },
   {
    "duration": 275,
    "start_time": "2023-01-10T11:06:13.053Z"
   },
   {
    "duration": 253,
    "start_time": "2023-01-10T11:06:13.329Z"
   },
   {
    "duration": 4,
    "start_time": "2023-01-10T11:06:13.583Z"
   },
   {
    "duration": 140,
    "start_time": "2023-01-10T11:06:13.588Z"
   },
   {
    "duration": 156,
    "start_time": "2023-01-10T11:06:13.730Z"
   },
   {
    "duration": 5,
    "start_time": "2023-01-10T11:06:13.887Z"
   },
   {
    "duration": 192,
    "start_time": "2023-01-10T11:06:13.893Z"
   },
   {
    "duration": 23,
    "start_time": "2023-01-10T11:06:14.086Z"
   },
   {
    "duration": 153,
    "start_time": "2023-01-10T11:06:14.111Z"
   },
   {
    "duration": 9,
    "start_time": "2023-01-10T11:06:14.265Z"
   },
   {
    "duration": 19,
    "start_time": "2023-01-10T11:06:14.276Z"
   },
   {
    "duration": 4837,
    "start_time": "2023-01-10T11:06:14.296Z"
   },
   {
    "duration": 229,
    "start_time": "2023-01-10T11:06:19.135Z"
   },
   {
    "duration": 723,
    "start_time": "2023-01-10T11:06:19.366Z"
   },
   {
    "duration": 8,
    "start_time": "2023-01-10T11:06:20.091Z"
   },
   {
    "duration": 32,
    "start_time": "2023-01-10T11:06:20.101Z"
   },
   {
    "duration": 15,
    "start_time": "2023-01-10T11:06:20.134Z"
   },
   {
    "duration": 7,
    "start_time": "2023-01-10T11:08:10.755Z"
   },
   {
    "duration": 90,
    "start_time": "2023-01-10T11:08:17.039Z"
   },
   {
    "duration": 11,
    "start_time": "2023-01-10T11:08:21.715Z"
   },
   {
    "duration": 9,
    "start_time": "2023-01-10T11:08:23.471Z"
   },
   {
    "duration": 1014,
    "start_time": "2023-01-10T11:08:39.227Z"
   },
   {
    "duration": 80,
    "start_time": "2023-01-10T11:08:40.243Z"
   },
   {
    "duration": 4,
    "start_time": "2023-01-10T11:08:40.325Z"
   },
   {
    "duration": 31,
    "start_time": "2023-01-10T11:08:40.331Z"
   },
   {
    "duration": 18,
    "start_time": "2023-01-10T11:08:40.364Z"
   },
   {
    "duration": 60,
    "start_time": "2023-01-10T11:08:40.384Z"
   },
   {
    "duration": 10,
    "start_time": "2023-01-10T11:08:40.446Z"
   },
   {
    "duration": 37,
    "start_time": "2023-01-10T11:08:40.457Z"
   },
   {
    "duration": 19,
    "start_time": "2023-01-10T11:08:40.496Z"
   },
   {
    "duration": 17,
    "start_time": "2023-01-10T11:08:40.518Z"
   },
   {
    "duration": 8,
    "start_time": "2023-01-10T11:08:40.536Z"
   },
   {
    "duration": 27,
    "start_time": "2023-01-10T11:08:40.545Z"
   },
   {
    "duration": 9,
    "start_time": "2023-01-10T11:08:40.573Z"
   },
   {
    "duration": 8,
    "start_time": "2023-01-10T11:08:40.584Z"
   },
   {
    "duration": 290,
    "start_time": "2023-01-10T11:08:40.594Z"
   },
   {
    "duration": 290,
    "start_time": "2023-01-10T11:08:40.885Z"
   },
   {
    "duration": 11,
    "start_time": "2023-01-10T11:08:41.176Z"
   },
   {
    "duration": 218,
    "start_time": "2023-01-10T11:08:41.189Z"
   },
   {
    "duration": 310,
    "start_time": "2023-01-10T11:08:41.408Z"
   },
   {
    "duration": 219,
    "start_time": "2023-01-10T11:08:41.725Z"
   },
   {
    "duration": 290,
    "start_time": "2023-01-10T11:08:41.946Z"
   },
   {
    "duration": 287,
    "start_time": "2023-01-10T11:08:42.237Z"
   },
   {
    "duration": 4,
    "start_time": "2023-01-10T11:08:42.525Z"
   },
   {
    "duration": 139,
    "start_time": "2023-01-10T11:08:42.530Z"
   },
   {
    "duration": 143,
    "start_time": "2023-01-10T11:08:42.671Z"
   },
   {
    "duration": 9,
    "start_time": "2023-01-10T11:08:42.816Z"
   },
   {
    "duration": 199,
    "start_time": "2023-01-10T11:08:42.827Z"
   },
   {
    "duration": 22,
    "start_time": "2023-01-10T11:08:43.029Z"
   },
   {
    "duration": 183,
    "start_time": "2023-01-10T11:08:43.053Z"
   },
   {
    "duration": 9,
    "start_time": "2023-01-10T11:08:43.238Z"
   },
   {
    "duration": 17,
    "start_time": "2023-01-10T11:08:43.249Z"
   },
   {
    "duration": 4831,
    "start_time": "2023-01-10T11:08:43.267Z"
   },
   {
    "duration": 242,
    "start_time": "2023-01-10T11:08:48.099Z"
   },
   {
    "duration": 724,
    "start_time": "2023-01-10T11:08:48.343Z"
   },
   {
    "duration": 9,
    "start_time": "2023-01-10T11:08:49.069Z"
   },
   {
    "duration": 23,
    "start_time": "2023-01-10T11:08:49.079Z"
   },
   {
    "duration": 31,
    "start_time": "2023-01-10T11:08:49.104Z"
   },
   {
    "duration": 8,
    "start_time": "2023-01-10T11:09:13.959Z"
   },
   {
    "duration": 978,
    "start_time": "2023-01-10T11:09:31.560Z"
   },
   {
    "duration": 90,
    "start_time": "2023-01-10T11:09:32.540Z"
   },
   {
    "duration": 3,
    "start_time": "2023-01-10T11:09:32.632Z"
   },
   {
    "duration": 14,
    "start_time": "2023-01-10T11:09:32.636Z"
   },
   {
    "duration": 12,
    "start_time": "2023-01-10T11:09:32.651Z"
   },
   {
    "duration": 43,
    "start_time": "2023-01-10T11:09:32.664Z"
   },
   {
    "duration": 10,
    "start_time": "2023-01-10T11:09:32.708Z"
   },
   {
    "duration": 16,
    "start_time": "2023-01-10T11:09:32.720Z"
   },
   {
    "duration": 14,
    "start_time": "2023-01-10T11:09:32.738Z"
   },
   {
    "duration": 95,
    "start_time": "2023-01-10T11:09:32.754Z"
   },
   {
    "duration": 0,
    "start_time": "2023-01-10T11:09:32.851Z"
   },
   {
    "duration": 0,
    "start_time": "2023-01-10T11:09:32.852Z"
   },
   {
    "duration": 0,
    "start_time": "2023-01-10T11:09:32.854Z"
   },
   {
    "duration": 0,
    "start_time": "2023-01-10T11:09:32.855Z"
   },
   {
    "duration": 0,
    "start_time": "2023-01-10T11:09:32.856Z"
   },
   {
    "duration": 0,
    "start_time": "2023-01-10T11:09:32.858Z"
   },
   {
    "duration": 0,
    "start_time": "2023-01-10T11:09:32.859Z"
   },
   {
    "duration": 0,
    "start_time": "2023-01-10T11:09:32.860Z"
   },
   {
    "duration": 0,
    "start_time": "2023-01-10T11:09:32.861Z"
   },
   {
    "duration": 0,
    "start_time": "2023-01-10T11:09:32.862Z"
   },
   {
    "duration": 0,
    "start_time": "2023-01-10T11:09:32.863Z"
   },
   {
    "duration": 0,
    "start_time": "2023-01-10T11:09:32.864Z"
   },
   {
    "duration": 0,
    "start_time": "2023-01-10T11:09:32.865Z"
   },
   {
    "duration": 0,
    "start_time": "2023-01-10T11:09:32.866Z"
   },
   {
    "duration": 0,
    "start_time": "2023-01-10T11:09:32.867Z"
   },
   {
    "duration": 0,
    "start_time": "2023-01-10T11:09:32.868Z"
   },
   {
    "duration": 0,
    "start_time": "2023-01-10T11:09:32.870Z"
   },
   {
    "duration": 0,
    "start_time": "2023-01-10T11:09:32.871Z"
   },
   {
    "duration": 0,
    "start_time": "2023-01-10T11:09:32.872Z"
   },
   {
    "duration": 0,
    "start_time": "2023-01-10T11:09:32.872Z"
   },
   {
    "duration": 0,
    "start_time": "2023-01-10T11:09:32.873Z"
   },
   {
    "duration": 0,
    "start_time": "2023-01-10T11:09:32.875Z"
   },
   {
    "duration": 0,
    "start_time": "2023-01-10T11:09:32.875Z"
   },
   {
    "duration": 0,
    "start_time": "2023-01-10T11:09:32.876Z"
   },
   {
    "duration": 0,
    "start_time": "2023-01-10T11:09:32.877Z"
   },
   {
    "duration": 0,
    "start_time": "2023-01-10T11:09:32.878Z"
   },
   {
    "duration": 0,
    "start_time": "2023-01-10T11:09:32.879Z"
   },
   {
    "duration": 7,
    "start_time": "2023-01-10T11:09:50.502Z"
   },
   {
    "duration": 11,
    "start_time": "2023-01-10T11:10:03.487Z"
   },
   {
    "duration": 7,
    "start_time": "2023-01-10T11:10:06.103Z"
   },
   {
    "duration": 6,
    "start_time": "2023-01-10T11:10:11.371Z"
   },
   {
    "duration": 125,
    "start_time": "2023-01-10T11:12:23.683Z"
   },
   {
    "duration": 1018,
    "start_time": "2023-01-10T11:12:30.331Z"
   },
   {
    "duration": 88,
    "start_time": "2023-01-10T11:12:31.352Z"
   },
   {
    "duration": 3,
    "start_time": "2023-01-10T11:12:31.441Z"
   },
   {
    "duration": 38,
    "start_time": "2023-01-10T11:12:31.446Z"
   },
   {
    "duration": 11,
    "start_time": "2023-01-10T11:12:31.486Z"
   },
   {
    "duration": 53,
    "start_time": "2023-01-10T11:12:31.499Z"
   },
   {
    "duration": 12,
    "start_time": "2023-01-10T11:12:31.553Z"
   },
   {
    "duration": 90,
    "start_time": "2023-01-10T11:12:31.566Z"
   },
   {
    "duration": 93,
    "start_time": "2023-01-10T11:12:31.658Z"
   },
   {
    "duration": 44,
    "start_time": "2023-01-10T11:12:31.755Z"
   },
   {
    "duration": 49,
    "start_time": "2023-01-10T11:12:31.800Z"
   },
   {
    "duration": 22,
    "start_time": "2023-01-10T11:12:31.851Z"
   },
   {
    "duration": 20,
    "start_time": "2023-01-10T11:12:31.874Z"
   },
   {
    "duration": 307,
    "start_time": "2023-01-10T11:12:31.896Z"
   },
   {
    "duration": 289,
    "start_time": "2023-01-10T11:12:32.205Z"
   },
   {
    "duration": 11,
    "start_time": "2023-01-10T11:12:32.496Z"
   },
   {
    "duration": 223,
    "start_time": "2023-01-10T11:12:32.509Z"
   },
   {
    "duration": 292,
    "start_time": "2023-01-10T11:12:32.734Z"
   },
   {
    "duration": 225,
    "start_time": "2023-01-10T11:12:33.028Z"
   },
   {
    "duration": 285,
    "start_time": "2023-01-10T11:12:33.255Z"
   },
   {
    "duration": 321,
    "start_time": "2023-01-10T11:12:33.542Z"
   },
   {
    "duration": 5,
    "start_time": "2023-01-10T11:12:33.865Z"
   },
   {
    "duration": 165,
    "start_time": "2023-01-10T11:12:33.872Z"
   },
   {
    "duration": 157,
    "start_time": "2023-01-10T11:12:34.039Z"
   },
   {
    "duration": 4,
    "start_time": "2023-01-10T11:12:34.198Z"
   },
   {
    "duration": 206,
    "start_time": "2023-01-10T11:12:34.204Z"
   },
   {
    "duration": 30,
    "start_time": "2023-01-10T11:12:34.412Z"
   },
   {
    "duration": 143,
    "start_time": "2023-01-10T11:12:34.445Z"
   },
   {
    "duration": 10,
    "start_time": "2023-01-10T11:12:34.590Z"
   },
   {
    "duration": 25,
    "start_time": "2023-01-10T11:12:34.602Z"
   },
   {
    "duration": 5110,
    "start_time": "2023-01-10T11:12:34.628Z"
   },
   {
    "duration": 241,
    "start_time": "2023-01-10T11:12:39.740Z"
   },
   {
    "duration": 748,
    "start_time": "2023-01-10T11:12:39.983Z"
   },
   {
    "duration": 7,
    "start_time": "2023-01-10T11:12:40.733Z"
   },
   {
    "duration": 31,
    "start_time": "2023-01-10T11:12:40.741Z"
   },
   {
    "duration": 13,
    "start_time": "2023-01-10T11:12:40.773Z"
   },
   {
    "duration": 5,
    "start_time": "2023-01-10T11:14:46.869Z"
   },
   {
    "duration": 8,
    "start_time": "2023-01-10T11:15:04.685Z"
   },
   {
    "duration": 8,
    "start_time": "2023-01-10T11:15:48.859Z"
   },
   {
    "duration": 964,
    "start_time": "2023-01-10T11:15:57.059Z"
   },
   {
    "duration": 80,
    "start_time": "2023-01-10T11:15:58.025Z"
   },
   {
    "duration": 3,
    "start_time": "2023-01-10T11:15:58.107Z"
   },
   {
    "duration": 13,
    "start_time": "2023-01-10T11:15:58.112Z"
   },
   {
    "duration": 7,
    "start_time": "2023-01-10T11:15:58.127Z"
   },
   {
    "duration": 39,
    "start_time": "2023-01-10T11:15:58.135Z"
   },
   {
    "duration": 10,
    "start_time": "2023-01-10T11:15:58.175Z"
   },
   {
    "duration": 13,
    "start_time": "2023-01-10T11:15:58.187Z"
   },
   {
    "duration": 12,
    "start_time": "2023-01-10T11:15:58.202Z"
   },
   {
    "duration": 4,
    "start_time": "2023-01-10T11:15:58.217Z"
   },
   {
    "duration": 19,
    "start_time": "2023-01-10T11:15:58.223Z"
   },
   {
    "duration": 9,
    "start_time": "2023-01-10T11:15:58.244Z"
   },
   {
    "duration": 8,
    "start_time": "2023-01-10T11:15:58.254Z"
   },
   {
    "duration": 283,
    "start_time": "2023-01-10T11:15:58.263Z"
   },
   {
    "duration": 272,
    "start_time": "2023-01-10T11:15:58.548Z"
   },
   {
    "duration": 13,
    "start_time": "2023-01-10T11:15:58.822Z"
   },
   {
    "duration": 213,
    "start_time": "2023-01-10T11:15:58.837Z"
   },
   {
    "duration": 279,
    "start_time": "2023-01-10T11:15:59.052Z"
   },
   {
    "duration": 204,
    "start_time": "2023-01-10T11:15:59.333Z"
   },
   {
    "duration": 280,
    "start_time": "2023-01-10T11:15:59.539Z"
   },
   {
    "duration": 284,
    "start_time": "2023-01-10T11:15:59.825Z"
   },
   {
    "duration": 4,
    "start_time": "2023-01-10T11:16:00.111Z"
   },
   {
    "duration": 154,
    "start_time": "2023-01-10T11:16:00.117Z"
   },
   {
    "duration": 148,
    "start_time": "2023-01-10T11:16:00.273Z"
   },
   {
    "duration": 5,
    "start_time": "2023-01-10T11:16:00.423Z"
   },
   {
    "duration": 197,
    "start_time": "2023-01-10T11:16:00.430Z"
   },
   {
    "duration": 23,
    "start_time": "2023-01-10T11:16:00.628Z"
   },
   {
    "duration": 147,
    "start_time": "2023-01-10T11:16:00.654Z"
   },
   {
    "duration": 24,
    "start_time": "2023-01-10T11:16:00.802Z"
   },
   {
    "duration": 13,
    "start_time": "2023-01-10T11:16:00.828Z"
   },
   {
    "duration": 4909,
    "start_time": "2023-01-10T11:16:00.842Z"
   },
   {
    "duration": 242,
    "start_time": "2023-01-10T11:16:05.753Z"
   },
   {
    "duration": 708,
    "start_time": "2023-01-10T11:16:05.997Z"
   },
   {
    "duration": 7,
    "start_time": "2023-01-10T11:16:06.707Z"
   },
   {
    "duration": 28,
    "start_time": "2023-01-10T11:16:06.715Z"
   },
   {
    "duration": 13,
    "start_time": "2023-01-10T11:16:06.744Z"
   },
   {
    "duration": 127,
    "start_time": "2023-01-10T11:16:41.875Z"
   },
   {
    "duration": 10,
    "start_time": "2023-01-10T11:17:08.140Z"
   },
   {
    "duration": 290,
    "start_time": "2023-01-10T11:19:06.229Z"
   },
   {
    "duration": 3,
    "start_time": "2023-01-10T11:19:36.589Z"
   },
   {
    "duration": 31,
    "start_time": "2023-01-10T11:19:38.260Z"
   },
   {
    "duration": 1362,
    "start_time": "2023-01-10T11:19:47.908Z"
   },
   {
    "duration": 980,
    "start_time": "2023-01-10T11:20:00.374Z"
   },
   {
    "duration": 81,
    "start_time": "2023-01-10T11:20:01.356Z"
   },
   {
    "duration": 2,
    "start_time": "2023-01-10T11:20:01.439Z"
   },
   {
    "duration": 34,
    "start_time": "2023-01-10T11:20:01.443Z"
   },
   {
    "duration": 34,
    "start_time": "2023-01-10T11:20:01.478Z"
   },
   {
    "duration": 94,
    "start_time": "2023-01-10T11:20:01.514Z"
   },
   {
    "duration": 19,
    "start_time": "2023-01-10T11:20:01.610Z"
   },
   {
    "duration": 36,
    "start_time": "2023-01-10T11:20:01.631Z"
   },
   {
    "duration": 38,
    "start_time": "2023-01-10T11:20:01.668Z"
   },
   {
    "duration": 28,
    "start_time": "2023-01-10T11:20:01.708Z"
   },
   {
    "duration": 62,
    "start_time": "2023-01-10T11:20:01.738Z"
   },
   {
    "duration": 18,
    "start_time": "2023-01-10T11:20:01.802Z"
   },
   {
    "duration": 51,
    "start_time": "2023-01-10T11:20:01.822Z"
   },
   {
    "duration": 297,
    "start_time": "2023-01-10T11:20:01.874Z"
   },
   {
    "duration": 278,
    "start_time": "2023-01-10T11:20:02.172Z"
   },
   {
    "duration": 11,
    "start_time": "2023-01-10T11:20:02.452Z"
   },
   {
    "duration": 211,
    "start_time": "2023-01-10T11:20:02.465Z"
   },
   {
    "duration": 270,
    "start_time": "2023-01-10T11:20:02.678Z"
   },
   {
    "duration": 203,
    "start_time": "2023-01-10T11:20:02.950Z"
   },
   {
    "duration": 275,
    "start_time": "2023-01-10T11:20:03.155Z"
   },
   {
    "duration": 258,
    "start_time": "2023-01-10T11:20:03.432Z"
   },
   {
    "duration": 4,
    "start_time": "2023-01-10T11:20:03.691Z"
   },
   {
    "duration": 174,
    "start_time": "2023-01-10T11:20:03.697Z"
   },
   {
    "duration": 140,
    "start_time": "2023-01-10T11:20:03.872Z"
   },
   {
    "duration": 13,
    "start_time": "2023-01-10T11:20:04.013Z"
   },
   {
    "duration": 201,
    "start_time": "2023-01-10T11:20:04.027Z"
   },
   {
    "duration": 21,
    "start_time": "2023-01-10T11:20:04.230Z"
   },
   {
    "duration": 156,
    "start_time": "2023-01-10T11:20:04.254Z"
   },
   {
    "duration": 21,
    "start_time": "2023-01-10T11:20:04.412Z"
   },
   {
    "duration": 37,
    "start_time": "2023-01-10T11:20:04.435Z"
   },
   {
    "duration": 4937,
    "start_time": "2023-01-10T11:20:04.474Z"
   },
   {
    "duration": 221,
    "start_time": "2023-01-10T11:20:09.413Z"
   },
   {
    "duration": 716,
    "start_time": "2023-01-10T11:20:09.636Z"
   },
   {
    "duration": 7,
    "start_time": "2023-01-10T11:20:10.354Z"
   },
   {
    "duration": 35,
    "start_time": "2023-01-10T11:20:10.363Z"
   },
   {
    "duration": 16,
    "start_time": "2023-01-10T11:20:10.400Z"
   },
   {
    "duration": 11,
    "start_time": "2023-01-10T11:20:16.809Z"
   },
   {
    "duration": 11,
    "start_time": "2023-01-10T11:20:26.926Z"
   },
   {
    "duration": 979,
    "start_time": "2023-01-10T11:25:12.866Z"
   },
   {
    "duration": 88,
    "start_time": "2023-01-10T11:25:13.847Z"
   },
   {
    "duration": 4,
    "start_time": "2023-01-10T11:25:13.937Z"
   },
   {
    "duration": 31,
    "start_time": "2023-01-10T11:25:13.943Z"
   },
   {
    "duration": 25,
    "start_time": "2023-01-10T11:25:13.975Z"
   },
   {
    "duration": 78,
    "start_time": "2023-01-10T11:25:14.002Z"
   },
   {
    "duration": 11,
    "start_time": "2023-01-10T11:25:14.082Z"
   },
   {
    "duration": 29,
    "start_time": "2023-01-10T11:25:14.095Z"
   },
   {
    "duration": 27,
    "start_time": "2023-01-10T11:25:14.126Z"
   },
   {
    "duration": 22,
    "start_time": "2023-01-10T11:25:14.155Z"
   },
   {
    "duration": 46,
    "start_time": "2023-01-10T11:25:14.178Z"
   },
   {
    "duration": 29,
    "start_time": "2023-01-10T11:25:14.225Z"
   },
   {
    "duration": 17,
    "start_time": "2023-01-10T11:25:14.255Z"
   },
   {
    "duration": 322,
    "start_time": "2023-01-10T11:25:14.274Z"
   },
   {
    "duration": 277,
    "start_time": "2023-01-10T11:25:14.597Z"
   },
   {
    "duration": 11,
    "start_time": "2023-01-10T11:25:14.876Z"
   },
   {
    "duration": 223,
    "start_time": "2023-01-10T11:25:14.889Z"
   },
   {
    "duration": 316,
    "start_time": "2023-01-10T11:25:15.113Z"
   },
   {
    "duration": 258,
    "start_time": "2023-01-10T11:25:15.431Z"
   },
   {
    "duration": 339,
    "start_time": "2023-01-10T11:25:15.691Z"
   },
   {
    "duration": 288,
    "start_time": "2023-01-10T11:25:16.032Z"
   },
   {
    "duration": 7,
    "start_time": "2023-01-10T11:25:16.321Z"
   },
   {
    "duration": 138,
    "start_time": "2023-01-10T11:25:16.329Z"
   },
   {
    "duration": 143,
    "start_time": "2023-01-10T11:25:16.468Z"
   },
   {
    "duration": 4,
    "start_time": "2023-01-10T11:25:16.613Z"
   },
   {
    "duration": 211,
    "start_time": "2023-01-10T11:25:16.618Z"
   },
   {
    "duration": 0,
    "start_time": "2023-01-10T11:25:16.830Z"
   },
   {
    "duration": 0,
    "start_time": "2023-01-10T11:25:16.832Z"
   },
   {
    "duration": 0,
    "start_time": "2023-01-10T11:25:16.833Z"
   },
   {
    "duration": 0,
    "start_time": "2023-01-10T11:25:16.834Z"
   },
   {
    "duration": 0,
    "start_time": "2023-01-10T11:25:16.836Z"
   },
   {
    "duration": 0,
    "start_time": "2023-01-10T11:25:16.837Z"
   },
   {
    "duration": 0,
    "start_time": "2023-01-10T11:25:16.838Z"
   },
   {
    "duration": 0,
    "start_time": "2023-01-10T11:25:16.839Z"
   },
   {
    "duration": 177,
    "start_time": "2023-01-10T11:26:35.559Z"
   },
   {
    "duration": 185,
    "start_time": "2023-01-10T11:26:38.419Z"
   },
   {
    "duration": 23,
    "start_time": "2023-01-10T11:26:39.615Z"
   },
   {
    "duration": 26,
    "start_time": "2023-01-10T11:27:08.332Z"
   },
   {
    "duration": 947,
    "start_time": "2023-01-10T11:28:00.088Z"
   },
   {
    "duration": 89,
    "start_time": "2023-01-10T11:28:01.037Z"
   },
   {
    "duration": 3,
    "start_time": "2023-01-10T11:28:01.127Z"
   },
   {
    "duration": 41,
    "start_time": "2023-01-10T11:28:01.132Z"
   },
   {
    "duration": 30,
    "start_time": "2023-01-10T11:28:01.175Z"
   },
   {
    "duration": 94,
    "start_time": "2023-01-10T11:28:01.207Z"
   },
   {
    "duration": 11,
    "start_time": "2023-01-10T11:28:01.302Z"
   },
   {
    "duration": 29,
    "start_time": "2023-01-10T11:28:01.314Z"
   },
   {
    "duration": 29,
    "start_time": "2023-01-10T11:28:01.345Z"
   },
   {
    "duration": 16,
    "start_time": "2023-01-10T11:28:01.376Z"
   },
   {
    "duration": 41,
    "start_time": "2023-01-10T11:28:01.393Z"
   },
   {
    "duration": 18,
    "start_time": "2023-01-10T11:28:01.436Z"
   },
   {
    "duration": 25,
    "start_time": "2023-01-10T11:28:01.455Z"
   },
   {
    "duration": 303,
    "start_time": "2023-01-10T11:28:01.481Z"
   },
   {
    "duration": 282,
    "start_time": "2023-01-10T11:28:01.786Z"
   },
   {
    "duration": 12,
    "start_time": "2023-01-10T11:28:02.070Z"
   },
   {
    "duration": 213,
    "start_time": "2023-01-10T11:28:02.084Z"
   },
   {
    "duration": 297,
    "start_time": "2023-01-10T11:28:02.299Z"
   },
   {
    "duration": 201,
    "start_time": "2023-01-10T11:28:02.597Z"
   },
   {
    "duration": 321,
    "start_time": "2023-01-10T11:28:02.799Z"
   },
   {
    "duration": 269,
    "start_time": "2023-01-10T11:28:03.122Z"
   },
   {
    "duration": 4,
    "start_time": "2023-01-10T11:28:03.393Z"
   },
   {
    "duration": 160,
    "start_time": "2023-01-10T11:28:03.398Z"
   },
   {
    "duration": 149,
    "start_time": "2023-01-10T11:28:03.559Z"
   },
   {
    "duration": 4,
    "start_time": "2023-01-10T11:28:03.710Z"
   },
   {
    "duration": 210,
    "start_time": "2023-01-10T11:28:03.726Z"
   },
   {
    "duration": 25,
    "start_time": "2023-01-10T11:28:03.937Z"
   },
   {
    "duration": 142,
    "start_time": "2023-01-10T11:28:03.965Z"
   },
   {
    "duration": 10,
    "start_time": "2023-01-10T11:28:04.109Z"
   },
   {
    "duration": 8,
    "start_time": "2023-01-10T11:28:04.126Z"
   },
   {
    "duration": 4914,
    "start_time": "2023-01-10T11:28:04.136Z"
   },
   {
    "duration": 232,
    "start_time": "2023-01-10T11:28:09.052Z"
   },
   {
    "duration": 741,
    "start_time": "2023-01-10T11:28:09.285Z"
   },
   {
    "duration": 8,
    "start_time": "2023-01-10T11:28:10.028Z"
   },
   {
    "duration": 51,
    "start_time": "2023-01-10T11:28:10.037Z"
   },
   {
    "duration": 13,
    "start_time": "2023-01-10T11:28:10.090Z"
   },
   {
    "duration": 31,
    "start_time": "2023-01-10T11:30:14.941Z"
   },
   {
    "duration": 36,
    "start_time": "2023-01-10T11:30:48.852Z"
   },
   {
    "duration": 966,
    "start_time": "2023-01-10T11:34:13.080Z"
   },
   {
    "duration": 81,
    "start_time": "2023-01-10T11:34:14.048Z"
   },
   {
    "duration": 3,
    "start_time": "2023-01-10T11:34:14.130Z"
   },
   {
    "duration": 18,
    "start_time": "2023-01-10T11:34:14.135Z"
   },
   {
    "duration": 10,
    "start_time": "2023-01-10T11:34:14.155Z"
   },
   {
    "duration": 45,
    "start_time": "2023-01-10T11:34:14.166Z"
   },
   {
    "duration": 10,
    "start_time": "2023-01-10T11:34:14.213Z"
   },
   {
    "duration": 14,
    "start_time": "2023-01-10T11:34:14.224Z"
   },
   {
    "duration": 11,
    "start_time": "2023-01-10T11:34:14.240Z"
   },
   {
    "duration": 4,
    "start_time": "2023-01-10T11:34:14.255Z"
   },
   {
    "duration": 20,
    "start_time": "2023-01-10T11:34:14.261Z"
   },
   {
    "duration": 10,
    "start_time": "2023-01-10T11:34:14.282Z"
   },
   {
    "duration": 8,
    "start_time": "2023-01-10T11:34:14.293Z"
   },
   {
    "duration": 296,
    "start_time": "2023-01-10T11:34:14.303Z"
   },
   {
    "duration": 275,
    "start_time": "2023-01-10T11:34:14.601Z"
   },
   {
    "duration": 12,
    "start_time": "2023-01-10T11:34:14.878Z"
   },
   {
    "duration": 238,
    "start_time": "2023-01-10T11:34:14.892Z"
   },
   {
    "duration": 299,
    "start_time": "2023-01-10T11:34:15.132Z"
   },
   {
    "duration": 219,
    "start_time": "2023-01-10T11:34:15.433Z"
   },
   {
    "duration": 314,
    "start_time": "2023-01-10T11:34:15.654Z"
   },
   {
    "duration": 268,
    "start_time": "2023-01-10T11:34:15.970Z"
   },
   {
    "duration": 4,
    "start_time": "2023-01-10T11:34:16.240Z"
   },
   {
    "duration": 161,
    "start_time": "2023-01-10T11:34:16.245Z"
   },
   {
    "duration": 160,
    "start_time": "2023-01-10T11:34:16.408Z"
   },
   {
    "duration": 4,
    "start_time": "2023-01-10T11:34:16.570Z"
   },
   {
    "duration": 218,
    "start_time": "2023-01-10T11:34:16.575Z"
   },
   {
    "duration": 0,
    "start_time": "2023-01-10T11:34:16.794Z"
   },
   {
    "duration": 0,
    "start_time": "2023-01-10T11:34:16.796Z"
   },
   {
    "duration": 0,
    "start_time": "2023-01-10T11:34:16.797Z"
   },
   {
    "duration": 0,
    "start_time": "2023-01-10T11:34:16.799Z"
   },
   {
    "duration": 0,
    "start_time": "2023-01-10T11:34:16.800Z"
   },
   {
    "duration": 0,
    "start_time": "2023-01-10T11:34:16.801Z"
   },
   {
    "duration": 0,
    "start_time": "2023-01-10T11:34:16.803Z"
   },
   {
    "duration": 0,
    "start_time": "2023-01-10T11:34:16.826Z"
   },
   {
    "duration": 197,
    "start_time": "2023-01-10T11:35:14.681Z"
   },
   {
    "duration": 35,
    "start_time": "2023-01-10T11:35:16.877Z"
   },
   {
    "duration": 19,
    "start_time": "2023-01-10T11:37:31.027Z"
   },
   {
    "duration": 5,
    "start_time": "2023-01-10T11:38:28.962Z"
   },
   {
    "duration": 35,
    "start_time": "2023-01-10T11:38:49.056Z"
   },
   {
    "duration": 5,
    "start_time": "2023-01-10T11:38:54.129Z"
   },
   {
    "duration": 36,
    "start_time": "2023-01-10T11:39:15.838Z"
   },
   {
    "duration": 6,
    "start_time": "2023-01-10T11:44:45.652Z"
   },
   {
    "duration": 10,
    "start_time": "2023-01-10T11:46:20.606Z"
   },
   {
    "duration": 9,
    "start_time": "2023-01-10T11:46:26.852Z"
   },
   {
    "duration": 15,
    "start_time": "2023-01-10T11:48:18.186Z"
   },
   {
    "duration": 9,
    "start_time": "2023-01-10T11:48:34.343Z"
   },
   {
    "duration": 14,
    "start_time": "2023-01-10T11:48:41.571Z"
   },
   {
    "duration": 13,
    "start_time": "2023-01-10T11:49:01.468Z"
   },
   {
    "duration": 13,
    "start_time": "2023-01-10T11:49:11.167Z"
   },
   {
    "duration": 29,
    "start_time": "2023-01-10T11:50:56.690Z"
   },
   {
    "duration": 23,
    "start_time": "2023-01-10T11:51:01.477Z"
   },
   {
    "duration": 9,
    "start_time": "2023-01-10T11:51:21.377Z"
   },
   {
    "duration": 126,
    "start_time": "2023-01-10T11:52:22.585Z"
   },
   {
    "duration": 11,
    "start_time": "2023-01-10T11:54:11.665Z"
   },
   {
    "duration": 6,
    "start_time": "2023-01-10T11:54:51.867Z"
   },
   {
    "duration": 1034,
    "start_time": "2023-01-10T11:54:57.524Z"
   },
   {
    "duration": 89,
    "start_time": "2023-01-10T11:54:58.560Z"
   },
   {
    "duration": 3,
    "start_time": "2023-01-10T11:54:58.651Z"
   },
   {
    "duration": 37,
    "start_time": "2023-01-10T11:54:58.656Z"
   },
   {
    "duration": 30,
    "start_time": "2023-01-10T11:54:58.695Z"
   },
   {
    "duration": 58,
    "start_time": "2023-01-10T11:54:58.726Z"
   },
   {
    "duration": 11,
    "start_time": "2023-01-10T11:54:58.786Z"
   },
   {
    "duration": 48,
    "start_time": "2023-01-10T11:54:58.799Z"
   },
   {
    "duration": 31,
    "start_time": "2023-01-10T11:54:58.848Z"
   },
   {
    "duration": 13,
    "start_time": "2023-01-10T11:54:58.881Z"
   },
   {
    "duration": 41,
    "start_time": "2023-01-10T11:54:58.896Z"
   },
   {
    "duration": 18,
    "start_time": "2023-01-10T11:54:58.939Z"
   },
   {
    "duration": 15,
    "start_time": "2023-01-10T11:54:58.958Z"
   },
   {
    "duration": 294,
    "start_time": "2023-01-10T11:54:58.975Z"
   },
   {
    "duration": 287,
    "start_time": "2023-01-10T11:54:59.271Z"
   },
   {
    "duration": 12,
    "start_time": "2023-01-10T11:54:59.560Z"
   },
   {
    "duration": 230,
    "start_time": "2023-01-10T11:54:59.573Z"
   },
   {
    "duration": 322,
    "start_time": "2023-01-10T11:54:59.804Z"
   },
   {
    "duration": 5,
    "start_time": "2023-01-10T11:55:00.128Z"
   },
   {
    "duration": 224,
    "start_time": "2023-01-10T11:55:00.135Z"
   },
   {
    "duration": 279,
    "start_time": "2023-01-10T11:55:00.361Z"
   },
   {
    "duration": 264,
    "start_time": "2023-01-10T11:55:00.642Z"
   },
   {
    "duration": 4,
    "start_time": "2023-01-10T11:55:00.908Z"
   },
   {
    "duration": 174,
    "start_time": "2023-01-10T11:55:00.913Z"
   },
   {
    "duration": 159,
    "start_time": "2023-01-10T11:55:01.089Z"
   },
   {
    "duration": 5,
    "start_time": "2023-01-10T11:55:01.250Z"
   },
   {
    "duration": 41,
    "start_time": "2023-01-10T11:55:01.257Z"
   },
   {
    "duration": 203,
    "start_time": "2023-01-10T11:55:01.302Z"
   },
   {
    "duration": 22,
    "start_time": "2023-01-10T11:55:01.507Z"
   },
   {
    "duration": 71,
    "start_time": "2023-01-10T11:55:01.532Z"
   },
   {
    "duration": 5136,
    "start_time": "2023-01-10T11:55:01.606Z"
   },
   {
    "duration": 239,
    "start_time": "2023-01-10T11:55:06.744Z"
   },
   {
    "duration": 767,
    "start_time": "2023-01-10T11:55:06.985Z"
   },
   {
    "duration": 8,
    "start_time": "2023-01-10T11:55:07.754Z"
   },
   {
    "duration": 25,
    "start_time": "2023-01-10T11:55:07.764Z"
   },
   {
    "duration": 15,
    "start_time": "2023-01-10T11:55:07.791Z"
   },
   {
    "duration": 19,
    "start_time": "2023-01-10T11:56:08.019Z"
   },
   {
    "duration": 12,
    "start_time": "2023-01-10T11:56:29.903Z"
   },
   {
    "duration": 1114,
    "start_time": "2023-01-11T08:43:53.466Z"
   },
   {
    "duration": 147,
    "start_time": "2023-01-11T08:43:54.582Z"
   },
   {
    "duration": 3,
    "start_time": "2023-01-11T08:43:54.731Z"
   },
   {
    "duration": 28,
    "start_time": "2023-01-11T08:43:54.737Z"
   },
   {
    "duration": 11,
    "start_time": "2023-01-11T08:43:54.766Z"
   },
   {
    "duration": 90,
    "start_time": "2023-01-11T08:43:54.779Z"
   },
   {
    "duration": 11,
    "start_time": "2023-01-11T08:43:54.871Z"
   },
   {
    "duration": 14,
    "start_time": "2023-01-11T08:43:54.884Z"
   },
   {
    "duration": 20,
    "start_time": "2023-01-11T08:43:54.899Z"
   },
   {
    "duration": 5,
    "start_time": "2023-01-11T08:43:54.921Z"
   },
   {
    "duration": 87,
    "start_time": "2023-01-11T08:43:54.928Z"
   },
   {
    "duration": 11,
    "start_time": "2023-01-11T08:43:55.017Z"
   },
   {
    "duration": 9,
    "start_time": "2023-01-11T08:43:55.030Z"
   },
   {
    "duration": 307,
    "start_time": "2023-01-11T08:43:55.042Z"
   },
   {
    "duration": 308,
    "start_time": "2023-01-11T08:43:55.350Z"
   },
   {
    "duration": 12,
    "start_time": "2023-01-11T08:43:55.660Z"
   },
   {
    "duration": 253,
    "start_time": "2023-01-11T08:43:55.673Z"
   },
   {
    "duration": 315,
    "start_time": "2023-01-11T08:43:55.928Z"
   },
   {
    "duration": 5,
    "start_time": "2023-01-11T08:43:56.244Z"
   },
   {
    "duration": 228,
    "start_time": "2023-01-11T08:43:56.251Z"
   },
   {
    "duration": 298,
    "start_time": "2023-01-11T08:43:56.481Z"
   },
   {
    "duration": 316,
    "start_time": "2023-01-11T08:43:56.781Z"
   },
   {
    "duration": 5,
    "start_time": "2023-01-11T08:43:57.100Z"
   },
   {
    "duration": 183,
    "start_time": "2023-01-11T08:43:57.107Z"
   },
   {
    "duration": 166,
    "start_time": "2023-01-11T08:43:57.292Z"
   },
   {
    "duration": 4,
    "start_time": "2023-01-11T08:43:57.461Z"
   },
   {
    "duration": 25,
    "start_time": "2023-01-11T08:43:57.466Z"
   },
   {
    "duration": 187,
    "start_time": "2023-01-11T08:43:57.494Z"
   },
   {
    "duration": 12,
    "start_time": "2023-01-11T08:43:57.683Z"
   },
   {
    "duration": 35,
    "start_time": "2023-01-11T08:43:57.697Z"
   },
   {
    "duration": 5652,
    "start_time": "2023-01-11T08:43:57.734Z"
   },
   {
    "duration": 265,
    "start_time": "2023-01-11T08:44:03.388Z"
   },
   {
    "duration": 848,
    "start_time": "2023-01-11T08:44:03.656Z"
   },
   {
    "duration": 10,
    "start_time": "2023-01-11T08:44:04.506Z"
   },
   {
    "duration": 50,
    "start_time": "2023-01-11T08:44:04.518Z"
   },
   {
    "duration": 15,
    "start_time": "2023-01-11T08:44:04.570Z"
   }
  ],
  "kernelspec": {
   "display_name": "Python 3 (ipykernel)",
   "language": "python",
   "name": "python3"
  },
  "language_info": {
   "codemirror_mode": {
    "name": "ipython",
    "version": 3
   },
   "file_extension": ".py",
   "mimetype": "text/x-python",
   "name": "python",
   "nbconvert_exporter": "python",
   "pygments_lexer": "ipython3",
   "version": "3.9.12"
  },
  "toc": {
   "base_numbering": 1,
   "nav_menu": {},
   "number_sections": true,
   "sideBar": true,
   "skip_h1_title": true,
   "title_cell": "Table of Contents",
   "title_sidebar": "Contents",
   "toc_cell": false,
   "toc_position": {},
   "toc_section_display": true,
   "toc_window_display": false
  }
 },
 "nbformat": 4,
 "nbformat_minor": 2
}
