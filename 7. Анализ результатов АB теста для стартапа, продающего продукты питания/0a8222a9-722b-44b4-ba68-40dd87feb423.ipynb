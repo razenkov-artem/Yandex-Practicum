{
 "cells": [
  {
   "cell_type": "markdown",
   "metadata": {},
   "source": [
    "# Сборный проект №2"
   ]
  },
  {
   "cell_type": "markdown",
   "metadata": {},
   "source": [
    "<b>Описание проекта:</b>\n",
    "\n",
    "Перед нами данные, предоставленные стартапом, который продаёт продукты питания. Нужно разобраться, как ведут себя пользователи мобильного приложения.\n",
    "\n",
    "В частности нам предстоит изучить воронку продаж и выяснить как пользователи доходят до покупки. Сколько пользователей доходит до покупки, а сколько — «застревает» на предыдущих шагах. И какие именно это шаги.\n",
    "\n",
    "Далее исследуем результаты А/А/В эксперимента по введению новых шрифтов в приложении. Пользователей разбили на 3 группы: 2 контрольные со старыми шрифтами и одну экспериментальную — с новыми. Выясним, какой шрифт лучше."
   ]
  },
  {
   "cell_type": "markdown",
   "metadata": {},
   "source": [
    "<b>Описание данных:</b>\n",
    "\n",
    "Каждая запись в логе — это действие пользователя, или событие.   \n",
    "1. EventName — название события;\n",
    "2. DeviceIDHash — уникальный идентификатор пользователя;\n",
    "3. EventTimestamp — время события\n",
    "4. ExpId — номер эксперимента: 246 и 247 — контрольные группы, а 248 — экспериментальная."
   ]
  },
  {
   "cell_type": "code",
   "execution_count": 1,
   "metadata": {},
   "outputs": [],
   "source": [
    "import pandas as pd\n",
    "import numpy as np\n",
    "import matplotlib.pyplot as plt\n",
    "import seaborn as sns\n",
    "import plotly.express as px\n",
    "from plotly import graph_objects as go\n",
    "import math as mth\n",
    "from scipy import stats as st"
   ]
  },
  {
   "cell_type": "code",
   "execution_count": 2,
   "metadata": {},
   "outputs": [
    {
     "data": {
      "application/javascript": [
       "IPython.OutputArea.auto_scroll_threshold = 9999;\n"
      ],
      "text/plain": [
       "<IPython.core.display.Javascript object>"
      ]
     },
     "metadata": {},
     "output_type": "display_data"
    }
   ],
   "source": [
    "%%javascript\n",
    "IPython.OutputArea.auto_scroll_threshold = 9999;"
   ]
  },
  {
   "cell_type": "markdown",
   "metadata": {},
   "source": [
    "###  Выгрузим данные."
   ]
  },
  {
   "cell_type": "code",
   "execution_count": 3,
   "metadata": {},
   "outputs": [],
   "source": [
    "data = pd.read_csv('logs_exp.csv', sep='\\t')"
   ]
  },
  {
   "cell_type": "code",
   "execution_count": 4,
   "metadata": {},
   "outputs": [
    {
     "data": {
      "text/html": [
       "<div>\n",
       "<style scoped>\n",
       "    .dataframe tbody tr th:only-of-type {\n",
       "        vertical-align: middle;\n",
       "    }\n",
       "\n",
       "    .dataframe tbody tr th {\n",
       "        vertical-align: top;\n",
       "    }\n",
       "\n",
       "    .dataframe thead th {\n",
       "        text-align: right;\n",
       "    }\n",
       "</style>\n",
       "<table border=\"1\" class=\"dataframe\">\n",
       "  <thead>\n",
       "    <tr style=\"text-align: right;\">\n",
       "      <th></th>\n",
       "      <th>EventName</th>\n",
       "      <th>DeviceIDHash</th>\n",
       "      <th>EventTimestamp</th>\n",
       "      <th>ExpId</th>\n",
       "    </tr>\n",
       "  </thead>\n",
       "  <tbody>\n",
       "    <tr>\n",
       "      <th>0</th>\n",
       "      <td>MainScreenAppear</td>\n",
       "      <td>4575588528974610257</td>\n",
       "      <td>1564029816</td>\n",
       "      <td>246</td>\n",
       "    </tr>\n",
       "    <tr>\n",
       "      <th>1</th>\n",
       "      <td>MainScreenAppear</td>\n",
       "      <td>7416695313311560658</td>\n",
       "      <td>1564053102</td>\n",
       "      <td>246</td>\n",
       "    </tr>\n",
       "    <tr>\n",
       "      <th>2</th>\n",
       "      <td>PaymentScreenSuccessful</td>\n",
       "      <td>3518123091307005509</td>\n",
       "      <td>1564054127</td>\n",
       "      <td>248</td>\n",
       "    </tr>\n",
       "    <tr>\n",
       "      <th>3</th>\n",
       "      <td>CartScreenAppear</td>\n",
       "      <td>3518123091307005509</td>\n",
       "      <td>1564054127</td>\n",
       "      <td>248</td>\n",
       "    </tr>\n",
       "    <tr>\n",
       "      <th>4</th>\n",
       "      <td>PaymentScreenSuccessful</td>\n",
       "      <td>6217807653094995999</td>\n",
       "      <td>1564055322</td>\n",
       "      <td>248</td>\n",
       "    </tr>\n",
       "  </tbody>\n",
       "</table>\n",
       "</div>"
      ],
      "text/plain": [
       "                 EventName         DeviceIDHash  EventTimestamp  ExpId\n",
       "0         MainScreenAppear  4575588528974610257      1564029816    246\n",
       "1         MainScreenAppear  7416695313311560658      1564053102    246\n",
       "2  PaymentScreenSuccessful  3518123091307005509      1564054127    248\n",
       "3         CartScreenAppear  3518123091307005509      1564054127    248\n",
       "4  PaymentScreenSuccessful  6217807653094995999      1564055322    248"
      ]
     },
     "execution_count": 4,
     "metadata": {},
     "output_type": "execute_result"
    }
   ],
   "source": [
    "data.head()"
   ]
  },
  {
   "cell_type": "code",
   "execution_count": 5,
   "metadata": {},
   "outputs": [
    {
     "name": "stdout",
     "output_type": "stream",
     "text": [
      "<class 'pandas.core.frame.DataFrame'>\n",
      "RangeIndex: 244126 entries, 0 to 244125\n",
      "Data columns (total 4 columns):\n",
      " #   Column          Non-Null Count   Dtype \n",
      "---  ------          --------------   ----- \n",
      " 0   EventName       244126 non-null  object\n",
      " 1   DeviceIDHash    244126 non-null  int64 \n",
      " 2   EventTimestamp  244126 non-null  int64 \n",
      " 3   ExpId           244126 non-null  int64 \n",
      "dtypes: int64(3), object(1)\n",
      "memory usage: 7.5+ MB\n"
     ]
    }
   ],
   "source": [
    "data.info()"
   ]
  },
  {
   "cell_type": "markdown",
   "metadata": {},
   "source": [
    "### Подготовка данных"
   ]
  },
  {
   "cell_type": "markdown",
   "metadata": {},
   "source": [
    "Изменим названия столбцов, тип данных где это необходимо и проверим данные на дупликаты."
   ]
  },
  {
   "cell_type": "code",
   "execution_count": 6,
   "metadata": {},
   "outputs": [],
   "source": [
    "data.columns = ['event_name', 'user_id', 'datetime', 'group']\n",
    "data['datetime'] = pd.to_datetime(data['datetime'], unit='s')\n",
    "data['date'] = data['datetime'].dt.strftime('%Y-%m-%d')"
   ]
  },
  {
   "cell_type": "code",
   "execution_count": 7,
   "metadata": {},
   "outputs": [
    {
     "data": {
      "text/html": [
       "<div>\n",
       "<style scoped>\n",
       "    .dataframe tbody tr th:only-of-type {\n",
       "        vertical-align: middle;\n",
       "    }\n",
       "\n",
       "    .dataframe tbody tr th {\n",
       "        vertical-align: top;\n",
       "    }\n",
       "\n",
       "    .dataframe thead th {\n",
       "        text-align: right;\n",
       "    }\n",
       "</style>\n",
       "<table border=\"1\" class=\"dataframe\">\n",
       "  <thead>\n",
       "    <tr style=\"text-align: right;\">\n",
       "      <th></th>\n",
       "      <th>event_name</th>\n",
       "      <th>user_id</th>\n",
       "      <th>datetime</th>\n",
       "      <th>group</th>\n",
       "      <th>date</th>\n",
       "    </tr>\n",
       "  </thead>\n",
       "  <tbody>\n",
       "    <tr>\n",
       "      <th>0</th>\n",
       "      <td>MainScreenAppear</td>\n",
       "      <td>4575588528974610257</td>\n",
       "      <td>2019-07-25 04:43:36</td>\n",
       "      <td>246</td>\n",
       "      <td>2019-07-25</td>\n",
       "    </tr>\n",
       "    <tr>\n",
       "      <th>1</th>\n",
       "      <td>MainScreenAppear</td>\n",
       "      <td>7416695313311560658</td>\n",
       "      <td>2019-07-25 11:11:42</td>\n",
       "      <td>246</td>\n",
       "      <td>2019-07-25</td>\n",
       "    </tr>\n",
       "    <tr>\n",
       "      <th>2</th>\n",
       "      <td>PaymentScreenSuccessful</td>\n",
       "      <td>3518123091307005509</td>\n",
       "      <td>2019-07-25 11:28:47</td>\n",
       "      <td>248</td>\n",
       "      <td>2019-07-25</td>\n",
       "    </tr>\n",
       "    <tr>\n",
       "      <th>3</th>\n",
       "      <td>CartScreenAppear</td>\n",
       "      <td>3518123091307005509</td>\n",
       "      <td>2019-07-25 11:28:47</td>\n",
       "      <td>248</td>\n",
       "      <td>2019-07-25</td>\n",
       "    </tr>\n",
       "    <tr>\n",
       "      <th>4</th>\n",
       "      <td>PaymentScreenSuccessful</td>\n",
       "      <td>6217807653094995999</td>\n",
       "      <td>2019-07-25 11:48:42</td>\n",
       "      <td>248</td>\n",
       "      <td>2019-07-25</td>\n",
       "    </tr>\n",
       "  </tbody>\n",
       "</table>\n",
       "</div>"
      ],
      "text/plain": [
       "                event_name              user_id            datetime  group  \\\n",
       "0         MainScreenAppear  4575588528974610257 2019-07-25 04:43:36    246   \n",
       "1         MainScreenAppear  7416695313311560658 2019-07-25 11:11:42    246   \n",
       "2  PaymentScreenSuccessful  3518123091307005509 2019-07-25 11:28:47    248   \n",
       "3         CartScreenAppear  3518123091307005509 2019-07-25 11:28:47    248   \n",
       "4  PaymentScreenSuccessful  6217807653094995999 2019-07-25 11:48:42    248   \n",
       "\n",
       "         date  \n",
       "0  2019-07-25  \n",
       "1  2019-07-25  \n",
       "2  2019-07-25  \n",
       "3  2019-07-25  \n",
       "4  2019-07-25  "
      ]
     },
     "execution_count": 7,
     "metadata": {},
     "output_type": "execute_result"
    }
   ],
   "source": [
    "data.head()"
   ]
  },
  {
   "cell_type": "code",
   "execution_count": 8,
   "metadata": {},
   "outputs": [
    {
     "name": "stdout",
     "output_type": "stream",
     "text": [
      "0.17\n"
     ]
    }
   ],
   "source": [
    "print(np.round(data.duplicated().sum() / data.shape[0] * 100, 2))\n",
    "data = data.drop_duplicates().reset_index(drop=True)"
   ]
  },
  {
   "cell_type": "markdown",
   "metadata": {},
   "source": [
    "Количество дубликатов составляет 0.17% от общего числа записей, смело их удаляем."
   ]
  },
  {
   "cell_type": "markdown",
   "metadata": {},
   "source": [
    "### Изучение и проверка данных"
   ]
  },
  {
   "cell_type": "code",
   "execution_count": 9,
   "metadata": {},
   "outputs": [
    {
     "name": "stdout",
     "output_type": "stream",
     "text": [
      "Общее количество событий в логе: 243713\n",
      "Количество уникальных событий в логе: 5\n",
      "Количество уникальных пользователей в логе: 7551\n",
      "Среднее арифметическое количества событий на пользователя: 32.28\n",
      "Медиана количества событий на пользователя: 20.0\n"
     ]
    }
   ],
   "source": [
    "print('Общее количество событий в логе:', \n",
    "      data['event_name'].count())\n",
    "print('Количество уникальных событий в логе:',\n",
    "      data['event_name'].nunique())\n",
    "print('Количество уникальных пользователей в логе:',\n",
    "      data['user_id'].nunique())\n",
    "print('Среднее арифметическое количества событий на пользователя:',\n",
    "      np.round(data['event_name'].count() / data['user_id'].nunique(), 2))\n",
    "print('Медиана количества событий на пользователя:',\n",
    "      data.groupby('user_id')['event_name'].agg('count').median())"
   ]
  },
  {
   "cell_type": "code",
   "execution_count": 10,
   "metadata": {},
   "outputs": [
    {
     "name": "stdout",
     "output_type": "stream",
     "text": [
      "Период данных составляет с 2019-07-25 04:43:36 по 2019-08-07 21:15:17 или 13 days 16:31:41\n"
     ]
    }
   ],
   "source": [
    "print('Период данных составляет с {} по {}'\n",
    "      .format(data['datetime'].min(), data['datetime'].max()),\n",
    "       'или', data['datetime'].max() - data['datetime'].min())"
   ]
  },
  {
   "cell_type": "markdown",
   "metadata": {},
   "source": [
    "Построим гистограмму, за шаг возьмем 1 час:"
   ]
  },
  {
   "cell_type": "code",
   "execution_count": 11,
   "metadata": {},
   "outputs": [
    {
     "data": {
      "image/png": "[encoded data removed]",
      "text/plain": [
       "<Figure size 1080x432 with 1 Axes>"
      ]
     },
     "metadata": {
      "needs_background": "light"
     },
     "output_type": "display_data"
    }
   ],
   "source": [
    "dt_in_hours = data['datetime'].dt.round('h')\n",
    "\n",
    "plt.figure(figsize=(15, 6))\n",
    "plt.hist(dt_in_hours, bins = dt_in_hours.nunique())\n",
    "plt.xticks(rotation=45)\n",
    "plt.grid()\n",
    "plt.title('График количества от даты и времени')\n",
    "plt.ylabel('Количество событий')\n",
    "plt.xlabel('Дата');"
   ]
  },
  {
   "cell_type": "markdown",
   "metadata": {},
   "source": [
    "Рассмотрим внимательнее начало периода активности:"
   ]
  },
  {
   "cell_type": "code",
   "execution_count": 12,
   "metadata": {},
   "outputs": [
    {
     "data": {
      "image/png": "[encoded data removed]",
      "text/plain": [
       "<Figure size 1080x432 with 1 Axes>"
      ]
     },
     "metadata": {
      "needs_background": "light"
     },
     "output_type": "display_data"
    }
   ],
   "source": [
    "plt.figure(figsize=(15, 6))\n",
    "plt.hist(dt_in_hours[lambda x: (x > '2019-07-31 00:00:00') & (x < '2019-08-01 14:00:00')],\n",
    "         bins = 38)\n",
    "plt.xticks(rotation=45)\n",
    "plt.grid()\n",
    "plt.title('График количества от даты и времени')\n",
    "plt.ylabel('Количество событий')\n",
    "plt.xlabel('Дата');"
   ]
  },
  {
   "cell_type": "markdown",
   "metadata": {},
   "source": [
    "Глядя на первый график можно сказать, что реально мы располагаем данными за первые 7 дней августа (данные в июле ничтожно малы). Также можно отметить, что распределение событий в августе идет циклично - с утра количество событий нарастает, а к вечеру - падает.\n",
    "Можно предположить, что малое количество данных в начале периода обусловлены тестовым режимом или неправильным методом сбора. Для корректного анализа удалим данные за июль, возможно, данные начали правильно собирать именно с полуночи, такая граница является психологически логичной. "
   ]
  },
  {
   "cell_type": "code",
   "execution_count": 13,
   "metadata": {},
   "outputs": [],
   "source": [
    "df = data.loc[data['datetime'] >= '2019-08-01 00:00:00'].reset_index(drop=True)"
   ]
  },
  {
   "cell_type": "markdown",
   "metadata": {},
   "source": [
    "Теперь необходимо проверить, много ли мы отсекли. Проверим, сколько потерялось событий и пользователей."
   ]
  },
  {
   "cell_type": "code",
   "execution_count": 14,
   "metadata": {},
   "outputs": [
    {
     "name": "stdout",
     "output_type": "stream",
     "text": [
      "Процент потерянных пользователей: 0.23\n"
     ]
    }
   ],
   "source": [
    "print('Процент потерянных пользователей:',\n",
    "      np.round((data['user_id'].nunique() -  df['user_id'].nunique()) \n",
    "      / data['user_id'].nunique() * 100, 2))"
   ]
  },
  {
   "cell_type": "code",
   "execution_count": 15,
   "metadata": {},
   "outputs": [
    {
     "name": "stdout",
     "output_type": "stream",
     "text": [
      "Процент потерянных событий: 1.16\n"
     ]
    }
   ],
   "source": [
    "print('Процент потерянных событий:',\n",
    "    np.round((data['event_name'].count() - df['event_name'].count()) \n",
    "    / data['event_name'].count() * 100, 2))"
   ]
  },
  {
   "cell_type": "markdown",
   "metadata": {},
   "source": [
    "Всего 0.23% пользователей и 1.16% событий, величины статистически не значимы."
   ]
  },
  {
   "cell_type": "markdown",
   "metadata": {},
   "source": [
    "Проверим, что в данных присутствуют пользователи из всех трёх экспериментальных групп."
   ]
  },
  {
   "cell_type": "code",
   "execution_count": 16,
   "metadata": {},
   "outputs": [
    {
     "data": {
      "text/plain": [
       "group\n",
       "246    79302\n",
       "247    77022\n",
       "248    84563\n",
       "Name: user_id, dtype: int64"
      ]
     },
     "execution_count": 16,
     "metadata": {},
     "output_type": "execute_result"
    }
   ],
   "source": [
    "df.groupby('group').agg('count')['user_id']"
   ]
  },
  {
   "cell_type": "code",
   "execution_count": 17,
   "metadata": {},
   "outputs": [
    {
     "data": {
      "text/plain": [
       "group\n",
       "246    2484\n",
       "247    2513\n",
       "248    2537\n",
       "Name: user_id, dtype: int64"
      ]
     },
     "execution_count": 17,
     "metadata": {},
     "output_type": "execute_result"
    }
   ],
   "source": [
    "df.groupby('group')['user_id'].nunique()"
   ]
  },
  {
   "cell_type": "markdown",
   "metadata": {},
   "source": [
    "Все в порядке, и количество пользователей в каждой группе примерно равное."
   ]
  },
  {
   "cell_type": "markdown",
   "metadata": {},
   "source": [
    "<b>Вывод:</b> Мы ответили на вопросы и получили следующие результаты:\n",
    "\n",
    "Нашли общее количество событий, уникальное количество событий и количество уникальный пользователей.\n",
    "В среднем событий на пользователя (медианное значение): 20\n",
    "Построили гисторгамму по дате и времени.\n",
    "Определили необходимы промежуток данных для анализа: с 01.08.2022.\n",
    "\n",
    "После очистки данных мы потеряли около 1% событий и меньше процента пользователей.\n",
    "Проверили, что у нас есть пользователи из всех трёх экспериментальных групп."
   ]
  },
  {
   "cell_type": "markdown",
   "metadata": {},
   "source": [
    "### Изучаем воронку событий."
   ]
  },
  {
   "cell_type": "markdown",
   "metadata": {},
   "source": [
    "Посмотрим, какие события есть в логах и как часто они встречаются."
   ]
  },
  {
   "cell_type": "code",
   "execution_count": 18,
   "metadata": {},
   "outputs": [
    {
     "data": {
      "text/plain": [
       "MainScreenAppear           117328\n",
       "OffersScreenAppear          46333\n",
       "CartScreenAppear            42303\n",
       "PaymentScreenSuccessful     33918\n",
       "Tutorial                     1005\n",
       "Name: event_name, dtype: int64"
      ]
     },
     "execution_count": 18,
     "metadata": {},
     "output_type": "execute_result"
    }
   ],
   "source": [
    "df['event_name'].value_counts()"
   ]
  },
  {
   "cell_type": "markdown",
   "metadata": {},
   "source": [
    "Посчитаем, сколько пользователей совершали каждое из этих событий и долю пользователей, которые хоть раз совершали каждое событие."
   ]
  },
  {
   "cell_type": "code",
   "execution_count": 19,
   "metadata": {},
   "outputs": [
    {
     "data": {
      "text/html": [
       "<div>\n",
       "<style scoped>\n",
       "    .dataframe tbody tr th:only-of-type {\n",
       "        vertical-align: middle;\n",
       "    }\n",
       "\n",
       "    .dataframe tbody tr th {\n",
       "        vertical-align: top;\n",
       "    }\n",
       "\n",
       "    .dataframe thead th {\n",
       "        text-align: right;\n",
       "    }\n",
       "</style>\n",
       "<table border=\"1\" class=\"dataframe\">\n",
       "  <thead>\n",
       "    <tr style=\"text-align: right;\">\n",
       "      <th></th>\n",
       "      <th>event_name</th>\n",
       "      <th>count</th>\n",
       "      <th>users</th>\n",
       "      <th>percent</th>\n",
       "    </tr>\n",
       "  </thead>\n",
       "  <tbody>\n",
       "    <tr>\n",
       "      <th>0</th>\n",
       "      <td>MainScreenAppear</td>\n",
       "      <td>117328</td>\n",
       "      <td>7419</td>\n",
       "      <td>98.47</td>\n",
       "    </tr>\n",
       "    <tr>\n",
       "      <th>1</th>\n",
       "      <td>OffersScreenAppear</td>\n",
       "      <td>46333</td>\n",
       "      <td>4593</td>\n",
       "      <td>60.96</td>\n",
       "    </tr>\n",
       "    <tr>\n",
       "      <th>2</th>\n",
       "      <td>CartScreenAppear</td>\n",
       "      <td>42303</td>\n",
       "      <td>3734</td>\n",
       "      <td>49.56</td>\n",
       "    </tr>\n",
       "    <tr>\n",
       "      <th>3</th>\n",
       "      <td>PaymentScreenSuccessful</td>\n",
       "      <td>33918</td>\n",
       "      <td>3539</td>\n",
       "      <td>46.97</td>\n",
       "    </tr>\n",
       "    <tr>\n",
       "      <th>4</th>\n",
       "      <td>Tutorial</td>\n",
       "      <td>1005</td>\n",
       "      <td>840</td>\n",
       "      <td>11.15</td>\n",
       "    </tr>\n",
       "  </tbody>\n",
       "</table>\n",
       "</div>"
      ],
      "text/plain": [
       "                event_name   count  users  percent\n",
       "0         MainScreenAppear  117328   7419    98.47\n",
       "1       OffersScreenAppear   46333   4593    60.96\n",
       "2         CartScreenAppear   42303   3734    49.56\n",
       "3  PaymentScreenSuccessful   33918   3539    46.97\n",
       "4                 Tutorial    1005    840    11.15"
      ]
     },
     "execution_count": 19,
     "metadata": {},
     "output_type": "execute_result"
    }
   ],
   "source": [
    "events_by_users = (df.groupby('event_name')\n",
    "                  .agg({'event_name':'count', 'user_id':'nunique'})\n",
    "                  .sort_values(by='user_id', ascending=False))\n",
    "\n",
    "events_by_users.columns = ['count', 'users']\n",
    "\n",
    "events_by_users = events_by_users.reset_index()\n",
    "\n",
    "events_by_users['percent'] = np.round(\n",
    "    events_by_users['users'] / df['user_id'].nunique() * 100, 2)\n",
    "\n",
    "events_by_users"
   ]
  },
  {
   "cell_type": "code",
   "execution_count": 53,
   "metadata": {},
   "outputs": [
    {
     "data": {
      "text/html": [
       "<img src=\"https://downloader.disk.yandex.ru/preview/58d4e0da9bcd06d1e1005a149d33fed9e46b328b5173acc4fc1fe96b7888f4cd/643027ab/OELJ15SCdSg4ZMFoLlCzjXB8bpFQ1TKYL5tcI-9UCrnWwMPN2kQKmyhYCguPwbrbxqaAZR8MTEHNsZ3qCILrUw%3D%3D?uid=0&filename=newplot3.png&disposition=inline&hash=&limit=0&content_type=image%2Fpng&owner_uid=0&tknv=v2&size=2048x2048\"/>"
      ],
      "text/plain": [
       "<IPython.core.display.Image object>"
      ]
     },
     "metadata": {},
     "output_type": "display_data"
    }
   ],
   "source": [
    "#fig = go.Figure(data=[go.Pie(labels=df['event_name'].value_counts().index,\n",
    "#                             values=df['event_name'].value_counts(), \n",
    "#                             title='Доли событий')])\n",
    "#fig.show()\n",
    "\n",
    "# так как гитхаб не поддерживает графики plotly, выгрузил график картинкой\n",
    "\n",
    "from IPython.display import Image\n",
    "from IPython.core.display import HTML \n",
    "display(Image(url= \"https://downloader.disk.yandex.ru/preview/58d4e0da9bcd06d1e1005a149d33fed9e46b328b5173acc4fc1fe96b7888f4cd/643027ab/OELJ15SCdSg4ZMFoLlCzjXB8bpFQ1TKYL5tcI-9UCrnWwMPN2kQKmyhYCguPwbrbxqaAZR8MTEHNsZ3qCILrUw%3D%3D?uid=0&filename=newplot3.png&disposition=inline&hash=&limit=0&content_type=image%2Fpng&owner_uid=0&tknv=v2&size=2048x2048\"))"
   ]
  },
  {
   "cell_type": "markdown",
   "metadata": {},
   "source": [
    "Подсчитав частоту каждого события, можно предположить их следующий порядок:\n",
    "1. MainScreenAppear - Появление Главного экрана - Зашли на сайт\n",
    "2. OffersScreenAppear - Появление Экрана Предложений - Искали товар по каталогу\n",
    "3. CartScreenAppear - Появление Экрана Корзины - Добавили в корзину\n",
    "4. PaymentScreenSuccessful - Экран Платеж Успешен - Оплатили\n",
    "5. Tutorial - Руководство пользователя - Изучали инструкцию\n",
    "\n",
    "Цепочка выглядит логичной, например, нельзя оплатить товар, не добавив в корзину. Пункт Tutorial хоть и был добавлен в конец, как пункт с самим низким показателем, но пользователь мог изучить руководство в любой момент во время взаимодействия приложения. В дальнейшем, этот пункт мы опустим в исследованиях."
   ]
  },
  {
   "cell_type": "markdown",
   "metadata": {},
   "source": [
    "По воронке событий посчитаем, какая доля пользователей проходит на следующий шаг воронки (от числа пользователей на предыдущем)."
   ]
  },
  {
   "cell_type": "markdown",
   "metadata": {},
   "source": [
    "Построим наглядный график, пользуясь библиотекой:"
   ]
  },
  {
   "cell_type": "code",
   "execution_count": 52,
   "metadata": {},
   "outputs": [
    {
     "data": {
      "text/html": [
       "<img src=\"https://downloader.disk.yandex.ru/preview/991b83747a810b59f59cb0ed0a78c69ad531af02f8e52c418b22032f4e806159/643026e0/FYy86ba1aY1zAjgQ3gahQ8lQutFFPo9jtZsPSZe9lEWws81wWwDKEFubK9tfXNmqpIJPc74_XR3cHQ1JnvBc0Q%3D%3D?uid=0&filename=newplot2.png&disposition=inline&hash=&limit=0&content_type=image%2Fpng&owner_uid=0&tknv=v2&size=2048x2048\"/>"
      ],
      "text/plain": [
       "<IPython.core.display.Image object>"
      ]
     },
     "metadata": {},
     "output_type": "display_data"
    }
   ],
   "source": [
    "#fig = go.Figure(go.Funnel(x = events_by_users['users'], \n",
    "#                          y = events_by_users['event_name'], \n",
    "#                          textinfo = \"value+percent initial+percent previous\"))\n",
    "#fig.update_layout(title_text='Воронка событий', title_x=0.55)\n",
    "#fig.show();\n",
    "\n",
    "display(Image(url= \"https://downloader.disk.yandex.ru/preview/991b83747a810b59f59cb0ed0a78c69ad531af02f8e52c418b22032f4e806159/643026e0/FYy86ba1aY1zAjgQ3gahQ8lQutFFPo9jtZsPSZe9lEWws81wWwDKEFubK9tfXNmqpIJPc74_XR3cHQ1JnvBc0Q%3D%3D?uid=0&filename=newplot2.png&disposition=inline&hash=&limit=0&content_type=image%2Fpng&owner_uid=0&tknv=v2&size=2048x2048\"))"
   ]
  },
  {
   "cell_type": "markdown",
   "metadata": {},
   "source": [
    "Теперь создадим таблицу вручную:"
   ]
  },
  {
   "cell_type": "code",
   "execution_count": 22,
   "metadata": {},
   "outputs": [
    {
     "data": {
      "text/html": [
       "<div>\n",
       "<style scoped>\n",
       "    .dataframe tbody tr th:only-of-type {\n",
       "        vertical-align: middle;\n",
       "    }\n",
       "\n",
       "    .dataframe tbody tr th {\n",
       "        vertical-align: top;\n",
       "    }\n",
       "\n",
       "    .dataframe thead th {\n",
       "        text-align: right;\n",
       "    }\n",
       "</style>\n",
       "<table border=\"1\" class=\"dataframe\">\n",
       "  <thead>\n",
       "    <tr style=\"text-align: right;\">\n",
       "      <th></th>\n",
       "      <th>event_name</th>\n",
       "      <th>count</th>\n",
       "      <th>users</th>\n",
       "      <th>percent</th>\n",
       "      <th>from_previous</th>\n",
       "      <th>from_start</th>\n",
       "    </tr>\n",
       "  </thead>\n",
       "  <tbody>\n",
       "    <tr>\n",
       "      <th>0</th>\n",
       "      <td>MainScreenAppear</td>\n",
       "      <td>117328</td>\n",
       "      <td>7419</td>\n",
       "      <td>98.47</td>\n",
       "      <td>100.00</td>\n",
       "      <td>100.00</td>\n",
       "    </tr>\n",
       "    <tr>\n",
       "      <th>1</th>\n",
       "      <td>OffersScreenAppear</td>\n",
       "      <td>46333</td>\n",
       "      <td>4593</td>\n",
       "      <td>60.96</td>\n",
       "      <td>61.91</td>\n",
       "      <td>61.91</td>\n",
       "    </tr>\n",
       "    <tr>\n",
       "      <th>2</th>\n",
       "      <td>CartScreenAppear</td>\n",
       "      <td>42303</td>\n",
       "      <td>3734</td>\n",
       "      <td>49.56</td>\n",
       "      <td>81.30</td>\n",
       "      <td>50.33</td>\n",
       "    </tr>\n",
       "    <tr>\n",
       "      <th>3</th>\n",
       "      <td>PaymentScreenSuccessful</td>\n",
       "      <td>33918</td>\n",
       "      <td>3539</td>\n",
       "      <td>46.97</td>\n",
       "      <td>94.78</td>\n",
       "      <td>47.70</td>\n",
       "    </tr>\n",
       "    <tr>\n",
       "      <th>4</th>\n",
       "      <td>Tutorial</td>\n",
       "      <td>1005</td>\n",
       "      <td>840</td>\n",
       "      <td>11.15</td>\n",
       "      <td>23.74</td>\n",
       "      <td>11.32</td>\n",
       "    </tr>\n",
       "  </tbody>\n",
       "</table>\n",
       "</div>"
      ],
      "text/plain": [
       "                event_name   count  users  percent  from_previous  from_start\n",
       "0         MainScreenAppear  117328   7419    98.47         100.00      100.00\n",
       "1       OffersScreenAppear   46333   4593    60.96          61.91       61.91\n",
       "2         CartScreenAppear   42303   3734    49.56          81.30       50.33\n",
       "3  PaymentScreenSuccessful   33918   3539    46.97          94.78       47.70\n",
       "4                 Tutorial    1005    840    11.15          23.74       11.32"
      ]
     },
     "execution_count": 22,
     "metadata": {},
     "output_type": "execute_result"
    }
   ],
   "source": [
    "prev_users = events_by_users.loc[0,'users']\n",
    "start_users = prev_users\n",
    "\n",
    "for i in events_by_users.index:\n",
    "    events_by_users.loc[i,'from_previous'] = np.round(events_by_users.loc[i,'users'] /\n",
    "                                                      prev_users * 100, 2)\n",
    "    events_by_users.loc[i,'from_start'] = np.round(events_by_users.loc[i,'users'] /\n",
    "                                                   start_users * 100, 2)\n",
    "    prev_users = events_by_users.loc[i,'users']\n",
    "events_by_users"
   ]
  },
  {
   "cell_type": "markdown",
   "metadata": {},
   "source": [
    "Теперь \"честно\" проследим, как с учетом предполагаемой цепочки на самом деле меняется процент перешедших с предыдущего шага, для этого отследим пользователей, который прошли все этапы. "
   ]
  },
  {
   "cell_type": "code",
   "execution_count": 23,
   "metadata": {},
   "outputs": [],
   "source": [
    "users = df[df['event_name'] != 'Tutorial'].pivot_table(\n",
    "        index=['user_id'], \n",
    "        columns='event_name', \n",
    "        values='datetime',\n",
    "        aggfunc='min').reset_index()"
   ]
  },
  {
   "cell_type": "code",
   "execution_count": 24,
   "metadata": {},
   "outputs": [],
   "source": [
    "step_1 = (~users['MainScreenAppear'].isna())\n",
    "step_2 = step_1 & (users['OffersScreenAppear'] > users['MainScreenAppear'])\n",
    "step_3 = step_2 & (users['CartScreenAppear'] > users['OffersScreenAppear'])\n",
    "step_4 = step_3 & (users['PaymentScreenSuccessful'] > users['CartScreenAppear'])"
   ]
  },
  {
   "cell_type": "code",
   "execution_count": 25,
   "metadata": {},
   "outputs": [],
   "source": [
    "true_events =[]\n",
    "true_events.append(users[step_1].shape[0])\n",
    "true_events.append(users[step_2].shape[0])\n",
    "true_events.append(users[step_3].shape[0])\n",
    "true_events.append(users[step_4].shape[0])"
   ]
  },
  {
   "cell_type": "code",
   "execution_count": 48,
   "metadata": {},
   "outputs": [
    {
     "data": {
      "text/html": [
       "<img src=\"https://downloader.disk.yandex.ru/preview/4fdfac91a7f9be7b74ab2a141244a1ea03b6facdb85310edd980e8c5ff2be379/643023d6/pdh6LSGSZC3IDkEtBlCXV2-9NLpTQGPCqDvZtzbqBwfO7brRhIuexRhhAzOpvBThZDv_qFdkijoL6pA6C1bPGA%3D%3D?uid=0&filename=newplot.png&disposition=inline&hash=&limit=0&content_type=image%2Fpng&owner_uid=0&tknv=v2&size=2048x2048\"/>"
      ],
      "text/plain": [
       "<IPython.core.display.Image object>"
      ]
     },
     "metadata": {},
     "output_type": "display_data"
    }
   ],
   "source": [
    "#fig = go.Figure(go.Funnel(\n",
    "#    y = events_by_users['event_name'],\n",
    "#    x = true_events,\n",
    "#    hoverinfo = 'x + percent initial',\n",
    "#    textinfo = 'value+percent initial'\n",
    "#    ))\n",
    "#fig.update_layout(title_text='Последовательная воронка событий', title_x=0.55)\n",
    "#fig.show()\n",
    "\n",
    "display(Image(url= \"https://downloader.disk.yandex.ru/preview/4fdfac91a7f9be7b74ab2a141244a1ea03b6facdb85310edd980e8c5ff2be379/643023d6/pdh6LSGSZC3IDkEtBlCXV2-9NLpTQGPCqDvZtzbqBwfO7brRhIuexRhhAzOpvBThZDv_qFdkijoL6pA6C1bPGA%3D%3D?uid=0&filename=newplot.png&disposition=inline&hash=&limit=0&content_type=image%2Fpng&owner_uid=0&tknv=v2&size=2048x2048\"))"
   ]
  },
  {
   "cell_type": "markdown",
   "metadata": {},
   "source": [
    "Доля пользователей, которая доходит от первого события до оплаты, составляет всего 6%. Низкий показатель, но зато. реалистичный"
   ]
  },
  {
   "cell_type": "markdown",
   "metadata": {},
   "source": [
    "\n",
    "<b>Вывод:</b> Из первой воронки видно, что очень много (38%) пользователей не попадают даже на второй экран (OffersScreenAppear) с выбором товара. Возможно есть какая-то проблема на первом экране (MainScreenAppear), которая мешает, усложняет, отпугивает пользователей - надо об этом сообщить менеджменту и обязательно выснить причину. Если рассматривать события последовательно, также больше всего пользователей теряется на этом шаге. Скорее всего, дело в дизайне или неудобном иинтерфейсе."
   ]
  },
  {
   "cell_type": "markdown",
   "metadata": {},
   "source": [
    "### Изучаем результаты эксперимента"
   ]
  },
  {
   "cell_type": "markdown",
   "metadata": {},
   "source": [
    "Для начала, проверим, сколько пользователей в каждой экспериментальной группе и заменим числа на более удобные обозначения."
   ]
  },
  {
   "cell_type": "code",
   "execution_count": 27,
   "metadata": {},
   "outputs": [],
   "source": [
    "def rename_group(gr):\n",
    "    if gr==246:\n",
    "        return 'A1'\n",
    "    elif gr==247:\n",
    "        return 'A2'\n",
    "    elif gr==248:\n",
    "        return 'B'\n",
    "    else:\n",
    "        return 'ERROR'\n",
    "\n",
    "df['group'] = df['group'].apply(rename_group)"
   ]
  },
  {
   "cell_type": "code",
   "execution_count": 28,
   "metadata": {},
   "outputs": [
    {
     "name": "stdout",
     "output_type": "stream",
     "text": [
      "В группе 'A1' - 2484 пользователей\n",
      "В группе 'A2' - 2513 пользователей\n",
      "В группе 'B' - 2537 пользователей\n"
     ]
    }
   ],
   "source": [
    "for g in df['group'].unique():\n",
    "    print(f\"В группе '{g}' - {df[df['group']==g]['user_id'].nunique()} пользователей\")"
   ]
  },
  {
   "cell_type": "markdown",
   "metadata": {},
   "source": [
    "Проверим, что пользователи в группах не пересекаются:"
   ]
  },
  {
   "cell_type": "code",
   "execution_count": 29,
   "metadata": {},
   "outputs": [
    {
     "data": {
      "text/plain": [
       "[]"
      ]
     },
     "execution_count": 29,
     "metadata": {},
     "output_type": "execute_result"
    }
   ],
   "source": [
    "false_users = list(df.groupby('user_id')\n",
    "             .nunique()\n",
    "             .query('group != 1')\n",
    "             .index)\n",
    "false_users"
   ]
  },
  {
   "cell_type": "markdown",
   "metadata": {},
   "source": [
    "Отлично, повторов пользователей нет."
   ]
  },
  {
   "cell_type": "markdown",
   "metadata": {},
   "source": [
    "Есть 2 контрольные группы для А/А-эксперимента, чтобы проверить корректность всех механизмов и расчётов. Проверьте, находят ли статистические критерии разницу между выборками 246 и 247."
   ]
  },
  {
   "cell_type": "code",
   "execution_count": 30,
   "metadata": {},
   "outputs": [
    {
     "data": {
      "text/html": [
       "<div>\n",
       "<style scoped>\n",
       "    .dataframe tbody tr th:only-of-type {\n",
       "        vertical-align: middle;\n",
       "    }\n",
       "\n",
       "    .dataframe tbody tr th {\n",
       "        vertical-align: top;\n",
       "    }\n",
       "\n",
       "    .dataframe thead th {\n",
       "        text-align: right;\n",
       "    }\n",
       "</style>\n",
       "<table border=\"1\" class=\"dataframe\">\n",
       "  <thead>\n",
       "    <tr style=\"text-align: right;\">\n",
       "      <th>group</th>\n",
       "      <th>event_name</th>\n",
       "      <th>A1</th>\n",
       "      <th>A2</th>\n",
       "      <th>B</th>\n",
       "      <th>AA</th>\n",
       "      <th>all</th>\n",
       "      <th>part_A1</th>\n",
       "      <th>part_A2</th>\n",
       "      <th>part_B</th>\n",
       "      <th>part_AA</th>\n",
       "    </tr>\n",
       "  </thead>\n",
       "  <tbody>\n",
       "    <tr>\n",
       "      <th>0</th>\n",
       "      <td>MainScreenAppear</td>\n",
       "      <td>2450</td>\n",
       "      <td>2476</td>\n",
       "      <td>2493</td>\n",
       "      <td>4926</td>\n",
       "      <td>7419</td>\n",
       "      <td>98.67</td>\n",
       "      <td>98.57</td>\n",
       "      <td>98.34</td>\n",
       "      <td>98.62</td>\n",
       "    </tr>\n",
       "    <tr>\n",
       "      <th>1</th>\n",
       "      <td>OffersScreenAppear</td>\n",
       "      <td>1542</td>\n",
       "      <td>1520</td>\n",
       "      <td>1531</td>\n",
       "      <td>3062</td>\n",
       "      <td>4593</td>\n",
       "      <td>62.10</td>\n",
       "      <td>60.51</td>\n",
       "      <td>60.39</td>\n",
       "      <td>61.30</td>\n",
       "    </tr>\n",
       "    <tr>\n",
       "      <th>2</th>\n",
       "      <td>CartScreenAppear</td>\n",
       "      <td>1266</td>\n",
       "      <td>1238</td>\n",
       "      <td>1230</td>\n",
       "      <td>2504</td>\n",
       "      <td>3734</td>\n",
       "      <td>50.99</td>\n",
       "      <td>49.28</td>\n",
       "      <td>48.52</td>\n",
       "      <td>50.13</td>\n",
       "    </tr>\n",
       "    <tr>\n",
       "      <th>3</th>\n",
       "      <td>PaymentScreenSuccessful</td>\n",
       "      <td>1200</td>\n",
       "      <td>1158</td>\n",
       "      <td>1181</td>\n",
       "      <td>2358</td>\n",
       "      <td>3539</td>\n",
       "      <td>48.33</td>\n",
       "      <td>46.10</td>\n",
       "      <td>46.59</td>\n",
       "      <td>47.21</td>\n",
       "    </tr>\n",
       "  </tbody>\n",
       "</table>\n",
       "</div>"
      ],
      "text/plain": [
       "group               event_name    A1    A2     B    AA   all  part_A1  \\\n",
       "0             MainScreenAppear  2450  2476  2493  4926  7419    98.67   \n",
       "1           OffersScreenAppear  1542  1520  1531  3062  4593    62.10   \n",
       "2             CartScreenAppear  1266  1238  1230  2504  3734    50.99   \n",
       "3      PaymentScreenSuccessful  1200  1158  1181  2358  3539    48.33   \n",
       "\n",
       "group  part_A2  part_B  part_AA  \n",
       "0        98.57   98.34    98.62  \n",
       "1        60.51   60.39    61.30  \n",
       "2        49.28   48.52    50.13  \n",
       "3        46.10   46.59    47.21  "
      ]
     },
     "execution_count": 30,
     "metadata": {},
     "output_type": "execute_result"
    }
   ],
   "source": [
    "users_by_group = df[df['event_name'] != 'Tutorial'].groupby('group')['user_id'].nunique()\n",
    "users_by_group['AA'] = users_by_group['A1'] + users_by_group['A2']\n",
    "\n",
    "group_test = df[df['event_name'] != 'Tutorial'].pivot_table(\n",
    "    index='event_name', \n",
    "    columns='group', \n",
    "    values='user_id',\n",
    "    aggfunc='nunique').sort_values(by='A1', ascending=False).reset_index()\n",
    "\n",
    "\n",
    "group_test['AA'] = group_test['A1'] + group_test['A2']\n",
    "group_test['all'] = group_test['AA'] + group_test['B']\n",
    "\n",
    "group_test['part_A1'] = np.round(group_test['A1'] / users_by_group['A1'] * 100, 2)\n",
    "group_test['part_A2'] = np.round(group_test['A2'] / users_by_group['A2'] * 100, 2)\n",
    "group_test['part_B'] = np.round(group_test['B'] / users_by_group['B'] * 100, 2)\n",
    "group_test['part_AA'] = np.round((group_test['A1'] + group_test['A2']) / \n",
    "                                  (users_by_group['A1'] + users_by_group['A2']) * 100, 2)\n",
    "\n",
    "group_test"
   ]
  },
  {
   "cell_type": "markdown",
   "metadata": {},
   "source": [
    "Для статистического анализа напишем функцию \"z_test\" для проведения тестов, аргументами будут 3 параметра: первая группа, вторая группа, уровень статистической значимости. Затем проведем тесты между группами, во всех случаях гипотезы будут звучать так: H₀ - статистически значимых различий в конверсии между долями нет, альтернативная гипотеза H₁ - статистически значимые различия в конверсии между долями есть."
   ]
  },
  {
   "cell_type": "code",
   "execution_count": 31,
   "metadata": {},
   "outputs": [],
   "source": [
    "all_p_values = []\n",
    "def z_test(group1, group2, alpha):\n",
    "    \n",
    "    for i in group_test.index:\n",
    "        \n",
    "        p1 = group_test[group1][i] / users_by_group[group1]\n",
    "        p2 = group_test[group2][i] / users_by_group[group2]\n",
    "        p_combined = ((group_test[group1][i] + group_test[group2][i]) / \n",
    "                      (users_by_group[group1] + users_by_group[group2]))\n",
    "        difference = p1 - p2\n",
    "        \n",
    "        z_value = difference / mth.sqrt(p_combined * (1 - p_combined) * \n",
    "                                        (1/users_by_group[group1] + 1/users_by_group[group2]))\n",
    "        \n",
    "        distr = st.norm(0, 1) \n",
    "        \n",
    "        p_value = (1 - distr.cdf(abs(z_value))) * 2\n",
    "        \n",
    "        print('{} p-значение: {}'.format(group_test['event_name'][i], p_value))\n",
    "        if (p_value < alpha):\n",
    "            print(\"Отвергаем нулевую гипотезу: между долями есть значимая разница\")\n",
    "        else:\n",
    "            print(\"Не получилось отвергнуть нулевую гипотезу, нет оснований считать доли разными\")\n",
    "        print('')\n",
    "        all_p_values.append(p_value)"
   ]
  },
  {
   "cell_type": "code",
   "execution_count": 32,
   "metadata": {},
   "outputs": [
    {
     "name": "stdout",
     "output_type": "stream",
     "text": [
      "MainScreenAppear p-значение: 0.7526703436483038\n",
      "Не получилось отвергнуть нулевую гипотезу, нет оснований считать доли разными\n",
      "\n",
      "OffersScreenAppear p-значение: 0.24786096925282264\n",
      "Не получилось отвергнуть нулевую гипотезу, нет оснований считать доли разными\n",
      "\n",
      "CartScreenAppear p-значение: 0.22867643757335676\n",
      "Не получилось отвергнуть нулевую гипотезу, нет оснований считать доли разными\n",
      "\n",
      "PaymentScreenSuccessful p-значение: 0.11446627829276612\n",
      "Не получилось отвергнуть нулевую гипотезу, нет оснований считать доли разными\n",
      "\n"
     ]
    }
   ],
   "source": [
    "z_test(\"A1\", \"A2\", 0.01)"
   ]
  },
  {
   "cell_type": "markdown",
   "metadata": {},
   "source": [
    "В данном случае уровень статистической значимости установлен как 0.01, так как A/A тест требует  высокой точности. В остальных случаях ограничимся 0.05. \n",
    "Так как доли статистически равные, обе группы можно считать контрольными."
   ]
  },
  {
   "cell_type": "code",
   "execution_count": 33,
   "metadata": {},
   "outputs": [
    {
     "name": "stdout",
     "output_type": "stream",
     "text": [
      "MainScreenAppear p-значение: 0.3387114076159288\n",
      "Не получилось отвергнуть нулевую гипотезу, нет оснований считать доли разными\n",
      "\n",
      "OffersScreenAppear p-значение: 0.21442476639710506\n",
      "Не получилось отвергнуть нулевую гипотезу, нет оснований считать доли разными\n",
      "\n",
      "CartScreenAppear p-значение: 0.08067367598823139\n",
      "Не получилось отвергнуть нулевую гипотезу, нет оснований считать доли разными\n",
      "\n",
      "PaymentScreenSuccessful p-значение: 0.21693033984516674\n",
      "Не получилось отвергнуть нулевую гипотезу, нет оснований считать доли разными\n",
      "\n"
     ]
    }
   ],
   "source": [
    "z_test(\"A1\", \"B\", 0.05)"
   ]
  },
  {
   "cell_type": "code",
   "execution_count": 34,
   "metadata": {},
   "outputs": [
    {
     "name": "stdout",
     "output_type": "stream",
     "text": [
      "MainScreenAppear p-значение: 0.5194964354051703\n",
      "Не получилось отвергнуть нулевую гипотезу, нет оснований считать доли разными\n",
      "\n",
      "OffersScreenAppear p-значение: 0.9333751305879443\n",
      "Не получилось отвергнуть нулевую гипотезу, нет оснований считать доли разными\n",
      "\n",
      "CartScreenAppear p-значение: 0.5878284605111943\n",
      "Не получилось отвергнуть нулевую гипотезу, нет оснований считать доли разными\n",
      "\n",
      "PaymentScreenSuccessful p-значение: 0.7275718682261119\n",
      "Не получилось отвергнуть нулевую гипотезу, нет оснований считать доли разными\n",
      "\n"
     ]
    }
   ],
   "source": [
    "z_test(\"A2\", \"B\", 0.05)"
   ]
  },
  {
   "cell_type": "code",
   "execution_count": 35,
   "metadata": {},
   "outputs": [
    {
     "name": "stdout",
     "output_type": "stream",
     "text": [
      "MainScreenAppear p-значение: 0.3486684291093256\n",
      "Не получилось отвергнуть нулевую гипотезу, нет оснований считать доли разными\n",
      "\n",
      "OffersScreenAppear p-значение: 0.44582745409482394\n",
      "Не получилось отвергнуть нулевую гипотезу, нет оснований считать доли разными\n",
      "\n",
      "CartScreenAppear p-значение: 0.18683558686831558\n",
      "Не получилось отвергнуть нулевую гипотезу, нет оснований считать доли разными\n",
      "\n",
      "PaymentScreenSuccessful p-значение: 0.6107918742187335\n",
      "Не получилось отвергнуть нулевую гипотезу, нет оснований считать доли разными\n",
      "\n"
     ]
    }
   ],
   "source": [
    "z_test(\"AA\", \"B\", 0.05)"
   ]
  },
  {
   "cell_type": "markdown",
   "metadata": {},
   "source": [
    "Так как нам пришлось столкнуться с многократными проверками, воспользуемся поправкой Бонферрони:"
   ]
  },
  {
   "cell_type": "code",
   "execution_count": 36,
   "metadata": {},
   "outputs": [
    {
     "name": "stdout",
     "output_type": "stream",
     "text": [
      "MainScreenAppear\n",
      "[False False False False]\n",
      "OffersScreenAppear\n",
      "[False False False False]\n",
      "CartScreenAppear\n",
      "[False False False False]\n",
      "PaymentScreenSuccessful\n",
      "[False False False False]\n"
     ]
    }
   ],
   "source": [
    "from statsmodels.sandbox.stats.multicomp import multipletests\n",
    "for i in range(4):\n",
    "    print(group_test['event_name'][i])\n",
    "    print(multipletests(all_p_values[i::4], method='bonferroni', alpha=0.05)[0])"
   ]
  },
  {
   "cell_type": "markdown",
   "metadata": {},
   "source": [
    "Значения False означают, что гипотеза не может быть отвергнута, соответственно, для всех случаев подтверждаются результаты предыдущих тестов"
   ]
  },
  {
   "cell_type": "markdown",
   "metadata": {},
   "source": [
    "<b>Вывод:</b> Нами разработана функция, которая проводит статистический анализ. Проверены контрольные группы на А/А тесте. Тесты показали, что статистической разницы между долями группы В и А1, А2 нет. Сравнение результатов с объединенной контрольной группой также не показало значимой разницы."
   ]
  },
  {
   "cell_type": "markdown",
   "metadata": {},
   "source": [
    "### Итоговые выводы"
   ]
  },
  {
   "cell_type": "markdown",
   "metadata": {},
   "source": [
    "Анализируя данные и результаты A/A/B-эксперимента можно сделать следующие выводы:\n",
    "\n",
    "1. В исходном файле содержаться ненужные данные, было принято решение анализировать только августовские показатели.\n",
    "2. От первого события до оплаты доходит меньше половины пользователей, и эту проблему необходимо анализировать отдельно, необходима работа с другими отделами. Меньше всего пользователи находятся на этапе с ознакомлением с руководством.\n",
    "3.Были проверены статистические гипотезы с уровнем значимости 0.05 и ни одна из них не выявила значимой разницы. Были проверены контрольные группы с тестом с уровнем значимости 0.01. Ни один тест не выявил статистической разницы в конверсии\n",
    "\n",
    "Исходя из результатов данного A/A/B-эксперимента, мы можем судить, что на поведение пользователей изменение шрифта значимого эффекта не оказало. Что можно считать успехом, т.к. целью было узнать не отпугнут ли изменения пользователей. В то же время учитывая результаты эксперимента, если изменение шрифта не продиктовано проблемами в работе приложения, его можно не менять."
   ]
  }
 ],
 "metadata": {
  "ExecuteTimeLog": [
   {
    "duration": 411,
    "start_time": "2023-01-11T10:17:08.286Z"
   },
   {
    "duration": 91,
    "start_time": "2023-01-11T10:17:09.677Z"
   },
   {
    "duration": 416,
    "start_time": "2023-01-11T10:17:24.597Z"
   },
   {
    "duration": 13,
    "start_time": "2023-01-11T10:17:29.753Z"
   },
   {
    "duration": 687,
    "start_time": "2023-01-11T10:19:14.457Z"
   },
   {
    "duration": 349,
    "start_time": "2023-01-11T10:19:58.053Z"
   },
   {
    "duration": 598,
    "start_time": "2023-01-11T10:19:58.410Z"
   },
   {
    "duration": 11,
    "start_time": "2023-01-11T10:19:59.014Z"
   },
   {
    "duration": 166,
    "start_time": "2023-01-11T10:22:38.357Z"
   },
   {
    "duration": 19,
    "start_time": "2023-01-11T10:22:38.898Z"
   },
   {
    "duration": 20,
    "start_time": "2023-01-11T10:23:03.844Z"
   },
   {
    "duration": 30,
    "start_time": "2023-01-11T10:23:13.794Z"
   },
   {
    "duration": 8,
    "start_time": "2023-01-11T10:23:15.953Z"
   },
   {
    "duration": 3,
    "start_time": "2023-01-11T10:26:35.869Z"
   },
   {
    "duration": 959,
    "start_time": "2023-01-11T10:27:12.893Z"
   },
   {
    "duration": 9,
    "start_time": "2023-01-11T10:27:19.913Z"
   },
   {
    "duration": 65,
    "start_time": "2023-01-11T10:29:06.913Z"
   },
   {
    "duration": 72,
    "start_time": "2023-01-11T10:29:10.789Z"
   },
   {
    "duration": 68,
    "start_time": "2023-01-11T10:29:42.342Z"
   },
   {
    "duration": 7,
    "start_time": "2023-01-11T10:29:48.385Z"
   },
   {
    "duration": 4,
    "start_time": "2023-01-11T10:29:51.534Z"
   },
   {
    "duration": 73,
    "start_time": "2023-01-11T10:30:08.435Z"
   },
   {
    "duration": 155,
    "start_time": "2023-01-11T10:30:27.273Z"
   },
   {
    "duration": 9,
    "start_time": "2023-01-11T10:30:31.212Z"
   },
   {
    "duration": 75,
    "start_time": "2023-01-11T10:31:10.261Z"
   },
   {
    "duration": 12,
    "start_time": "2023-01-11T10:46:16.005Z"
   },
   {
    "duration": 4,
    "start_time": "2023-01-11T10:46:23.648Z"
   },
   {
    "duration": 4,
    "start_time": "2023-01-11T10:46:30.743Z"
   },
   {
    "duration": 7,
    "start_time": "2023-01-11T10:46:44.464Z"
   },
   {
    "duration": 9,
    "start_time": "2023-01-11T10:47:33.437Z"
   },
   {
    "duration": 7,
    "start_time": "2023-01-11T10:47:36.688Z"
   },
   {
    "duration": 38,
    "start_time": "2023-01-11T10:48:14.488Z"
   },
   {
    "duration": 9,
    "start_time": "2023-01-11T10:48:56.368Z"
   },
   {
    "duration": 48,
    "start_time": "2023-01-11T10:49:06.014Z"
   },
   {
    "duration": 39,
    "start_time": "2023-01-11T10:49:14.164Z"
   },
   {
    "duration": 5,
    "start_time": "2023-01-11T10:49:20.112Z"
   },
   {
    "duration": 41,
    "start_time": "2023-01-11T10:50:16.144Z"
   },
   {
    "duration": 41,
    "start_time": "2023-01-11T10:50:27.221Z"
   },
   {
    "duration": 52,
    "start_time": "2023-01-11T10:50:30.780Z"
   },
   {
    "duration": 50,
    "start_time": "2023-01-11T10:50:33.905Z"
   },
   {
    "duration": 87,
    "start_time": "2023-01-11T10:51:08.435Z"
   },
   {
    "duration": 50,
    "start_time": "2023-01-11T10:52:01.536Z"
   },
   {
    "duration": 23,
    "start_time": "2023-01-11T11:03:41.662Z"
   },
   {
    "duration": 70,
    "start_time": "2023-01-11T11:07:29.451Z"
   },
   {
    "duration": 71,
    "start_time": "2023-01-11T11:07:37.999Z"
   },
   {
    "duration": 73,
    "start_time": "2023-01-11T11:07:42.962Z"
   },
   {
    "duration": 67,
    "start_time": "2023-01-11T11:08:47.033Z"
   },
   {
    "duration": 72,
    "start_time": "2023-01-11T11:09:13.968Z"
   },
   {
    "duration": 46,
    "start_time": "2023-01-11T11:10:57.259Z"
   },
   {
    "duration": 3,
    "start_time": "2023-01-11T11:11:10.686Z"
   },
   {
    "duration": 61,
    "start_time": "2023-01-11T11:11:13.024Z"
   },
   {
    "duration": 75,
    "start_time": "2023-01-11T11:11:46.955Z"
   },
   {
    "duration": 61,
    "start_time": "2023-01-11T11:11:53.618Z"
   },
   {
    "duration": 73,
    "start_time": "2023-01-11T11:12:14.454Z"
   },
   {
    "duration": 74,
    "start_time": "2023-01-11T11:12:25.495Z"
   },
   {
    "duration": 63,
    "start_time": "2023-01-11T11:12:38.815Z"
   },
   {
    "duration": 65,
    "start_time": "2023-01-11T11:12:43.012Z"
   },
   {
    "duration": 64,
    "start_time": "2023-01-11T11:12:52.419Z"
   },
   {
    "duration": 66,
    "start_time": "2023-01-11T11:14:13.550Z"
   },
   {
    "duration": 65,
    "start_time": "2023-01-11T11:14:21.112Z"
   },
   {
    "duration": 49,
    "start_time": "2023-01-11T11:14:36.927Z"
   },
   {
    "duration": 66,
    "start_time": "2023-01-11T11:14:43.314Z"
   },
   {
    "duration": 49,
    "start_time": "2023-01-11T11:14:57.446Z"
   },
   {
    "duration": 76,
    "start_time": "2023-01-11T11:15:00.274Z"
   },
   {
    "duration": 74,
    "start_time": "2023-01-11T11:15:14.841Z"
   },
   {
    "duration": 74,
    "start_time": "2023-01-11T11:15:17.746Z"
   },
   {
    "duration": 61,
    "start_time": "2023-01-11T11:15:26.654Z"
   },
   {
    "duration": 62,
    "start_time": "2023-01-11T11:15:29.237Z"
   },
   {
    "duration": 5,
    "start_time": "2023-01-11T11:37:27.409Z"
   },
   {
    "duration": 51,
    "start_time": "2023-01-11T11:37:40.639Z"
   },
   {
    "duration": 666,
    "start_time": "2023-01-11T11:39:41.085Z"
   },
   {
    "duration": 16,
    "start_time": "2023-01-11T11:40:02.536Z"
   },
   {
    "duration": 9,
    "start_time": "2023-01-11T11:40:14.509Z"
   },
   {
    "duration": 8,
    "start_time": "2023-01-11T11:40:38.718Z"
   },
   {
    "duration": 2,
    "start_time": "2023-01-11T11:40:44.098Z"
   },
   {
    "duration": 9,
    "start_time": "2023-01-11T11:42:10.745Z"
   },
   {
    "duration": 7,
    "start_time": "2023-01-11T11:43:34.543Z"
   },
   {
    "duration": 14,
    "start_time": "2023-01-11T11:43:51.822Z"
   },
   {
    "duration": 9,
    "start_time": "2023-01-11T12:36:05.968Z"
   },
   {
    "duration": 85,
    "start_time": "2023-01-11T12:37:48.810Z"
   },
   {
    "duration": 39,
    "start_time": "2023-01-11T12:37:58.147Z"
   },
   {
    "duration": 45,
    "start_time": "2023-01-11T12:39:51.888Z"
   },
   {
    "duration": 46,
    "start_time": "2023-01-11T12:39:59.993Z"
   },
   {
    "duration": 68,
    "start_time": "2023-01-11T12:41:23.975Z"
   },
   {
    "duration": 8,
    "start_time": "2023-01-11T12:43:17.914Z"
   },
   {
    "duration": 458,
    "start_time": "2023-01-11T12:43:35.194Z"
   },
   {
    "duration": 899,
    "start_time": "2023-01-11T12:43:42.010Z"
   },
   {
    "duration": 779,
    "start_time": "2023-01-11T12:43:58.039Z"
   },
   {
    "duration": 48,
    "start_time": "2023-01-11T12:44:41.374Z"
   },
   {
    "duration": 28,
    "start_time": "2023-01-11T12:48:21.183Z"
   },
   {
    "duration": 6,
    "start_time": "2023-01-11T12:58:55.008Z"
   },
   {
    "duration": 12,
    "start_time": "2023-01-11T12:59:01.923Z"
   },
   {
    "duration": 17,
    "start_time": "2023-01-11T12:59:05.097Z"
   },
   {
    "duration": 9,
    "start_time": "2023-01-11T12:59:13.369Z"
   },
   {
    "duration": 10,
    "start_time": "2023-01-11T12:59:15.068Z"
   },
   {
    "duration": 10,
    "start_time": "2023-01-11T12:59:17.068Z"
   },
   {
    "duration": 5,
    "start_time": "2023-01-11T12:59:26.724Z"
   },
   {
    "duration": 8,
    "start_time": "2023-01-11T13:00:07.919Z"
   },
   {
    "duration": 7,
    "start_time": "2023-01-11T13:00:17.122Z"
   },
   {
    "duration": 48,
    "start_time": "2023-01-11T13:00:28.361Z"
   },
   {
    "duration": 6,
    "start_time": "2023-01-11T13:00:33.678Z"
   },
   {
    "duration": 7,
    "start_time": "2023-01-11T13:00:51.123Z"
   },
   {
    "duration": 6,
    "start_time": "2023-01-11T13:00:55.469Z"
   },
   {
    "duration": 12,
    "start_time": "2023-01-11T13:01:45.296Z"
   },
   {
    "duration": 7,
    "start_time": "2023-01-11T13:02:31.921Z"
   },
   {
    "duration": 6,
    "start_time": "2023-01-11T13:05:06.245Z"
   },
   {
    "duration": 9,
    "start_time": "2023-01-11T13:05:42.725Z"
   },
   {
    "duration": 63,
    "start_time": "2023-01-11T13:05:46.497Z"
   },
   {
    "duration": 10,
    "start_time": "2023-01-11T13:05:59.985Z"
   },
   {
    "duration": 58,
    "start_time": "2023-01-11T13:06:04.145Z"
   },
   {
    "duration": 561,
    "start_time": "2023-01-11T13:06:05.685Z"
   },
   {
    "duration": 66,
    "start_time": "2023-01-11T13:06:17.765Z"
   },
   {
    "duration": 1234,
    "start_time": "2023-01-11T13:06:24.685Z"
   },
   {
    "duration": 15,
    "start_time": "2023-01-11T13:09:14.814Z"
   },
   {
    "duration": 23,
    "start_time": "2023-01-11T13:10:13.586Z"
   },
   {
    "duration": 39,
    "start_time": "2023-01-11T13:10:27.311Z"
   },
   {
    "duration": 252,
    "start_time": "2023-01-11T13:14:33.285Z"
   },
   {
    "duration": 1124,
    "start_time": "2023-01-11T13:14:51.622Z"
   },
   {
    "duration": 1093,
    "start_time": "2023-01-11T13:15:36.290Z"
   },
   {
    "duration": 4,
    "start_time": "2023-01-11T13:16:05.886Z"
   },
   {
    "duration": 51,
    "start_time": "2023-01-11T13:16:12.634Z"
   },
   {
    "duration": 1131,
    "start_time": "2023-01-11T13:17:14.415Z"
   },
   {
    "duration": 176,
    "start_time": "2023-01-11T13:17:15.548Z"
   },
   {
    "duration": 10,
    "start_time": "2023-01-11T13:17:15.726Z"
   },
   {
    "duration": 20,
    "start_time": "2023-01-11T13:17:15.738Z"
   },
   {
    "duration": 874,
    "start_time": "2023-01-11T13:17:15.760Z"
   },
   {
    "duration": 20,
    "start_time": "2023-01-11T13:17:16.635Z"
   },
   {
    "duration": 203,
    "start_time": "2023-01-11T13:17:16.657Z"
   },
   {
    "duration": 4,
    "start_time": "2023-01-11T13:17:16.862Z"
   },
   {
    "duration": 87,
    "start_time": "2023-01-11T13:17:16.867Z"
   },
   {
    "duration": 6,
    "start_time": "2023-01-11T13:17:16.956Z"
   },
   {
    "duration": 12,
    "start_time": "2023-01-11T13:17:16.964Z"
   },
   {
    "duration": 80,
    "start_time": "2023-01-11T13:17:16.977Z"
   },
   {
    "duration": 98,
    "start_time": "2023-01-11T13:17:17.059Z"
   },
   {
    "duration": 0,
    "start_time": "2023-01-11T13:17:17.159Z"
   },
   {
    "duration": 0,
    "start_time": "2023-01-11T13:17:17.160Z"
   },
   {
    "duration": 0,
    "start_time": "2023-01-11T13:17:17.161Z"
   },
   {
    "duration": 0,
    "start_time": "2023-01-11T13:17:17.162Z"
   },
   {
    "duration": 0,
    "start_time": "2023-01-11T13:17:17.163Z"
   },
   {
    "duration": 1128,
    "start_time": "2023-01-11T13:17:45.050Z"
   },
   {
    "duration": 162,
    "start_time": "2023-01-11T13:17:46.180Z"
   },
   {
    "duration": 10,
    "start_time": "2023-01-11T13:17:46.344Z"
   },
   {
    "duration": 19,
    "start_time": "2023-01-11T13:17:46.355Z"
   },
   {
    "duration": 917,
    "start_time": "2023-01-11T13:17:46.375Z"
   },
   {
    "duration": 15,
    "start_time": "2023-01-11T13:17:47.297Z"
   },
   {
    "duration": 215,
    "start_time": "2023-01-11T13:17:47.314Z"
   },
   {
    "duration": 4,
    "start_time": "2023-01-11T13:17:47.531Z"
   },
   {
    "duration": 83,
    "start_time": "2023-01-11T13:17:47.537Z"
   },
   {
    "duration": 7,
    "start_time": "2023-01-11T13:17:47.623Z"
   },
   {
    "duration": 12,
    "start_time": "2023-01-11T13:17:47.632Z"
   },
   {
    "duration": 91,
    "start_time": "2023-01-11T13:17:47.646Z"
   },
   {
    "duration": 1057,
    "start_time": "2023-01-11T13:19:42.319Z"
   },
   {
    "duration": 173,
    "start_time": "2023-01-11T13:19:43.378Z"
   },
   {
    "duration": 10,
    "start_time": "2023-01-11T13:19:43.553Z"
   },
   {
    "duration": 46,
    "start_time": "2023-01-11T13:19:43.564Z"
   },
   {
    "duration": 951,
    "start_time": "2023-01-11T13:19:43.611Z"
   },
   {
    "duration": 8,
    "start_time": "2023-01-11T13:19:44.563Z"
   },
   {
    "duration": 220,
    "start_time": "2023-01-11T13:19:44.573Z"
   },
   {
    "duration": 13,
    "start_time": "2023-01-11T13:19:44.794Z"
   },
   {
    "duration": 118,
    "start_time": "2023-01-11T13:19:44.809Z"
   },
   {
    "duration": 7,
    "start_time": "2023-01-11T13:19:44.930Z"
   },
   {
    "duration": 40,
    "start_time": "2023-01-11T13:19:44.938Z"
   },
   {
    "duration": 74,
    "start_time": "2023-01-11T13:19:44.979Z"
   },
   {
    "duration": 112,
    "start_time": "2023-01-11T13:19:45.055Z"
   },
   {
    "duration": 0,
    "start_time": "2023-01-11T13:19:45.169Z"
   },
   {
    "duration": 0,
    "start_time": "2023-01-11T13:19:45.170Z"
   },
   {
    "duration": 0,
    "start_time": "2023-01-11T13:19:45.171Z"
   },
   {
    "duration": 0,
    "start_time": "2023-01-11T13:19:45.173Z"
   },
   {
    "duration": 0,
    "start_time": "2023-01-11T13:19:45.173Z"
   },
   {
    "duration": 24,
    "start_time": "2023-01-11T13:19:57.471Z"
   },
   {
    "duration": 39,
    "start_time": "2023-01-11T13:20:04.071Z"
   },
   {
    "duration": 28,
    "start_time": "2023-01-11T13:20:31.819Z"
   },
   {
    "duration": 389,
    "start_time": "2023-01-11T13:20:34.295Z"
   },
   {
    "duration": 39,
    "start_time": "2023-01-11T13:20:55.895Z"
   },
   {
    "duration": 44,
    "start_time": "2023-01-11T13:21:10.840Z"
   },
   {
    "duration": 243,
    "start_time": "2023-01-11T13:21:26.195Z"
   },
   {
    "duration": 34,
    "start_time": "2023-01-11T13:21:35.413Z"
   },
   {
    "duration": 47,
    "start_time": "2023-01-11T13:23:03.560Z"
   },
   {
    "duration": 30,
    "start_time": "2023-01-11T13:23:11.676Z"
   },
   {
    "duration": 8,
    "start_time": "2023-01-11T13:23:52.651Z"
   },
   {
    "duration": 3,
    "start_time": "2023-01-11T13:24:02.285Z"
   },
   {
    "duration": 35,
    "start_time": "2023-01-11T13:24:08.353Z"
   },
   {
    "duration": 36,
    "start_time": "2023-01-11T13:24:13.936Z"
   },
   {
    "duration": 9,
    "start_time": "2023-01-11T13:24:19.273Z"
   },
   {
    "duration": 12,
    "start_time": "2023-01-11T13:24:23.524Z"
   },
   {
    "duration": 919,
    "start_time": "2023-01-11T13:28:14.095Z"
   },
   {
    "duration": 14,
    "start_time": "2023-01-11T13:33:54.288Z"
   },
   {
    "duration": 9,
    "start_time": "2023-01-11T13:34:44.448Z"
   },
   {
    "duration": 4,
    "start_time": "2023-01-11T13:34:52.845Z"
   },
   {
    "duration": 5,
    "start_time": "2023-01-11T13:34:59.268Z"
   },
   {
    "duration": 10,
    "start_time": "2023-01-11T13:35:06.873Z"
   },
   {
    "duration": 55,
    "start_time": "2023-01-11T13:35:25.619Z"
   },
   {
    "duration": 9,
    "start_time": "2023-01-11T13:35:28.752Z"
   },
   {
    "duration": 10,
    "start_time": "2023-01-11T13:36:22.969Z"
   },
   {
    "duration": 11,
    "start_time": "2023-01-11T13:36:27.443Z"
   },
   {
    "duration": 52,
    "start_time": "2023-01-11T13:37:59.284Z"
   },
   {
    "duration": 11,
    "start_time": "2023-01-11T13:38:50.720Z"
   },
   {
    "duration": 449,
    "start_time": "2023-01-11T13:38:58.688Z"
   },
   {
    "duration": 1367,
    "start_time": "2023-01-11T13:42:29.560Z"
   },
   {
    "duration": 201,
    "start_time": "2023-01-11T13:42:30.929Z"
   },
   {
    "duration": 12,
    "start_time": "2023-01-11T13:42:31.132Z"
   },
   {
    "duration": 25,
    "start_time": "2023-01-11T13:42:31.146Z"
   },
   {
    "duration": 956,
    "start_time": "2023-01-11T13:42:31.173Z"
   },
   {
    "duration": 12,
    "start_time": "2023-01-11T13:42:32.134Z"
   },
   {
    "duration": 290,
    "start_time": "2023-01-11T13:42:32.147Z"
   },
   {
    "duration": 5,
    "start_time": "2023-01-11T13:42:32.439Z"
   },
   {
    "duration": 107,
    "start_time": "2023-01-11T13:42:32.445Z"
   },
   {
    "duration": 7,
    "start_time": "2023-01-11T13:42:32.555Z"
   },
   {
    "duration": 14,
    "start_time": "2023-01-11T13:42:32.564Z"
   },
   {
    "duration": 136,
    "start_time": "2023-01-11T13:42:32.579Z"
   },
   {
    "duration": 0,
    "start_time": "2023-01-11T13:42:32.717Z"
   },
   {
    "duration": 0,
    "start_time": "2023-01-11T13:42:32.719Z"
   },
   {
    "duration": 0,
    "start_time": "2023-01-11T13:42:32.720Z"
   },
   {
    "duration": 0,
    "start_time": "2023-01-11T13:42:32.722Z"
   },
   {
    "duration": 0,
    "start_time": "2023-01-11T13:42:32.723Z"
   },
   {
    "duration": 54,
    "start_time": "2023-01-11T13:42:59.619Z"
   },
   {
    "duration": 9,
    "start_time": "2023-01-11T13:43:05.933Z"
   },
   {
    "duration": 528,
    "start_time": "2023-01-11T13:43:07.968Z"
   },
   {
    "duration": 36826,
    "start_time": "2023-01-11T13:44:06.948Z"
   },
   {
    "duration": 1171,
    "start_time": "2023-01-11T13:49:00.777Z"
   },
   {
    "duration": 191,
    "start_time": "2023-01-11T13:49:01.950Z"
   },
   {
    "duration": 11,
    "start_time": "2023-01-11T13:49:02.143Z"
   },
   {
    "duration": 36,
    "start_time": "2023-01-11T13:49:02.155Z"
   },
   {
    "duration": 1074,
    "start_time": "2023-01-11T13:49:02.193Z"
   },
   {
    "duration": 9,
    "start_time": "2023-01-11T13:49:03.268Z"
   },
   {
    "duration": 237,
    "start_time": "2023-01-11T13:49:03.278Z"
   },
   {
    "duration": 6,
    "start_time": "2023-01-11T13:49:03.518Z"
   },
   {
    "duration": 65,
    "start_time": "2023-01-11T13:49:03.525Z"
   },
   {
    "duration": 14,
    "start_time": "2023-01-11T13:49:03.592Z"
   },
   {
    "duration": 64,
    "start_time": "2023-01-11T13:49:03.608Z"
   },
   {
    "duration": 143,
    "start_time": "2023-01-11T13:49:29.144Z"
   },
   {
    "duration": 0,
    "start_time": "2023-01-11T13:49:29.288Z"
   },
   {
    "duration": 0,
    "start_time": "2023-01-11T13:49:29.296Z"
   },
   {
    "duration": 0,
    "start_time": "2023-01-11T13:49:29.299Z"
   },
   {
    "duration": 0,
    "start_time": "2023-01-11T13:49:29.302Z"
   },
   {
    "duration": 0,
    "start_time": "2023-01-11T13:49:29.303Z"
   },
   {
    "duration": 85393,
    "start_time": "2023-01-11T13:49:32.234Z"
   },
   {
    "duration": 0,
    "start_time": "2023-01-11T13:50:57.632Z"
   },
   {
    "duration": 49,
    "start_time": "2023-01-11T13:51:02.767Z"
   },
   {
    "duration": 13,
    "start_time": "2023-01-11T13:51:32.329Z"
   },
   {
    "duration": 13,
    "start_time": "2023-01-11T13:51:52.572Z"
   },
   {
    "duration": 15,
    "start_time": "2023-01-11T13:51:55.040Z"
   },
   {
    "duration": 19,
    "start_time": "2023-01-11T13:52:03.532Z"
   },
   {
    "duration": 16,
    "start_time": "2023-01-11T13:52:09.121Z"
   },
   {
    "duration": 18,
    "start_time": "2023-01-11T13:52:13.004Z"
   },
   {
    "duration": 17,
    "start_time": "2023-01-11T13:53:07.176Z"
   },
   {
    "duration": 166,
    "start_time": "2023-01-11T13:53:19.247Z"
   },
   {
    "duration": 14,
    "start_time": "2023-01-11T13:53:23.580Z"
   },
   {
    "duration": 12,
    "start_time": "2023-01-11T13:54:40.759Z"
   },
   {
    "duration": 18,
    "start_time": "2023-01-11T13:54:49.125Z"
   },
   {
    "duration": 19,
    "start_time": "2023-01-11T13:55:55.317Z"
   },
   {
    "duration": 18,
    "start_time": "2023-01-11T13:56:42.142Z"
   },
   {
    "duration": 353,
    "start_time": "2023-01-11T13:56:48.525Z"
   },
   {
    "duration": 283,
    "start_time": "2023-01-11T13:58:11.469Z"
   },
   {
    "duration": 214,
    "start_time": "2023-01-11T13:58:16.197Z"
   },
   {
    "duration": 13,
    "start_time": "2023-01-11T13:59:23.692Z"
   },
   {
    "duration": 10,
    "start_time": "2023-01-11T13:59:28.580Z"
   },
   {
    "duration": 169,
    "start_time": "2023-01-11T13:59:31.372Z"
   },
   {
    "duration": 213,
    "start_time": "2023-01-11T13:59:56.728Z"
   },
   {
    "duration": 380,
    "start_time": "2023-01-11T14:00:12.535Z"
   },
   {
    "duration": 374,
    "start_time": "2023-01-11T14:00:20.684Z"
   },
   {
    "duration": 209,
    "start_time": "2023-01-11T14:00:24.520Z"
   },
   {
    "duration": 1323,
    "start_time": "2023-01-11T14:00:42.427Z"
   },
   {
    "duration": 1532,
    "start_time": "2023-01-11T14:01:02.012Z"
   },
   {
    "duration": 40,
    "start_time": "2023-01-11T14:01:54.085Z"
   },
   {
    "duration": 32,
    "start_time": "2023-01-11T14:01:57.159Z"
   },
   {
    "duration": 27,
    "start_time": "2023-01-11T14:01:58.963Z"
   },
   {
    "duration": 32,
    "start_time": "2023-01-11T14:02:03.039Z"
   },
   {
    "duration": 20,
    "start_time": "2023-01-11T14:02:32.861Z"
   },
   {
    "duration": 20,
    "start_time": "2023-01-11T14:02:35.267Z"
   },
   {
    "duration": 23,
    "start_time": "2023-01-11T14:02:36.782Z"
   },
   {
    "duration": 51,
    "start_time": "2023-01-11T14:02:38.812Z"
   },
   {
    "duration": 26,
    "start_time": "2023-01-11T14:02:40.383Z"
   },
   {
    "duration": 28,
    "start_time": "2023-01-11T14:02:42.327Z"
   },
   {
    "duration": 52,
    "start_time": "2023-01-11T14:04:43.215Z"
   },
   {
    "duration": 26,
    "start_time": "2023-01-11T14:04:44.835Z"
   },
   {
    "duration": 21,
    "start_time": "2023-01-11T14:06:15.166Z"
   },
   {
    "duration": 1185,
    "start_time": "2023-01-11T14:06:19.067Z"
   },
   {
    "duration": 21,
    "start_time": "2023-01-11T14:06:35.327Z"
   },
   {
    "duration": 22,
    "start_time": "2023-01-11T14:06:37.958Z"
   },
   {
    "duration": 240,
    "start_time": "2023-01-11T14:07:05.837Z"
   },
   {
    "duration": 4,
    "start_time": "2023-01-11T14:07:16.562Z"
   },
   {
    "duration": 8,
    "start_time": "2023-01-11T14:07:19.017Z"
   },
   {
    "duration": 9,
    "start_time": "2023-01-11T14:07:28.394Z"
   },
   {
    "duration": 6,
    "start_time": "2023-01-11T14:07:35.367Z"
   },
   {
    "duration": 6,
    "start_time": "2023-01-11T14:07:38.449Z"
   },
   {
    "duration": 10,
    "start_time": "2023-01-11T14:07:39.985Z"
   },
   {
    "duration": 8,
    "start_time": "2023-01-11T14:07:41.294Z"
   },
   {
    "duration": 225,
    "start_time": "2023-01-11T14:08:56.768Z"
   },
   {
    "duration": 559,
    "start_time": "2023-01-11T14:08:59.273Z"
   },
   {
    "duration": 623,
    "start_time": "2023-01-11T14:09:34.830Z"
   },
   {
    "duration": 578,
    "start_time": "2023-01-11T14:10:03.069Z"
   },
   {
    "duration": 517,
    "start_time": "2023-01-11T14:10:35.659Z"
   },
   {
    "duration": 544,
    "start_time": "2023-01-11T14:19:10.491Z"
   },
   {
    "duration": 573,
    "start_time": "2023-01-11T14:19:23.311Z"
   },
   {
    "duration": 544,
    "start_time": "2023-01-11T14:20:11.111Z"
   },
   {
    "duration": 521,
    "start_time": "2023-01-11T14:20:18.069Z"
   },
   {
    "duration": 530,
    "start_time": "2023-01-11T14:20:38.313Z"
   },
   {
    "duration": 529,
    "start_time": "2023-01-11T14:20:43.664Z"
   },
   {
    "duration": 572,
    "start_time": "2023-01-11T14:20:46.368Z"
   },
   {
    "duration": 12,
    "start_time": "2023-01-11T14:21:29.600Z"
   },
   {
    "duration": 5,
    "start_time": "2023-01-11T14:21:35.897Z"
   },
   {
    "duration": 659,
    "start_time": "2023-01-11T14:25:05.887Z"
   },
   {
    "duration": 24,
    "start_time": "2023-01-11T14:25:55.971Z"
   },
   {
    "duration": 585,
    "start_time": "2023-01-11T14:26:08.963Z"
   },
   {
    "duration": 262,
    "start_time": "2023-01-11T14:26:26.120Z"
   },
   {
    "duration": 259,
    "start_time": "2023-01-11T14:26:51.687Z"
   },
   {
    "duration": 603,
    "start_time": "2023-01-11T14:27:03.831Z"
   },
   {
    "duration": 251,
    "start_time": "2023-01-11T14:27:08.788Z"
   },
   {
    "duration": 2374,
    "start_time": "2023-01-11T14:28:42.915Z"
   },
   {
    "duration": 22,
    "start_time": "2023-01-11T14:29:05.980Z"
   },
   {
    "duration": 24,
    "start_time": "2023-01-11T14:29:28.472Z"
   },
   {
    "duration": 41,
    "start_time": "2023-01-11T14:29:40.271Z"
   },
   {
    "duration": 1261,
    "start_time": "2023-01-11T14:29:48.584Z"
   },
   {
    "duration": 244,
    "start_time": "2023-01-11T14:29:49.847Z"
   },
   {
    "duration": 17,
    "start_time": "2023-01-11T14:29:50.093Z"
   },
   {
    "duration": 43,
    "start_time": "2023-01-11T14:29:50.113Z"
   },
   {
    "duration": 1058,
    "start_time": "2023-01-11T14:29:50.157Z"
   },
   {
    "duration": 12,
    "start_time": "2023-01-11T14:29:51.218Z"
   },
   {
    "duration": 245,
    "start_time": "2023-01-11T14:29:51.232Z"
   },
   {
    "duration": 6,
    "start_time": "2023-01-11T14:29:51.479Z"
   },
   {
    "duration": 100,
    "start_time": "2023-01-11T14:29:51.487Z"
   },
   {
    "duration": 9,
    "start_time": "2023-01-11T14:29:51.597Z"
   },
   {
    "duration": 701,
    "start_time": "2023-01-11T14:29:51.608Z"
   },
   {
    "duration": 294,
    "start_time": "2023-01-11T14:29:52.311Z"
   },
   {
    "duration": 36,
    "start_time": "2023-01-11T14:29:52.607Z"
   },
   {
    "duration": 77,
    "start_time": "2023-01-11T14:29:52.645Z"
   },
   {
    "duration": 126,
    "start_time": "2023-01-11T14:29:52.725Z"
   },
   {
    "duration": 0,
    "start_time": "2023-01-11T14:29:52.853Z"
   },
   {
    "duration": 8,
    "start_time": "2023-01-11T14:31:11.371Z"
   },
   {
    "duration": 8,
    "start_time": "2023-01-11T14:31:14.340Z"
   },
   {
    "duration": 9,
    "start_time": "2023-01-11T14:31:15.474Z"
   },
   {
    "duration": 1190,
    "start_time": "2023-01-11T14:31:20.056Z"
   },
   {
    "duration": 189,
    "start_time": "2023-01-11T14:31:21.248Z"
   },
   {
    "duration": 11,
    "start_time": "2023-01-11T14:31:21.439Z"
   },
   {
    "duration": 24,
    "start_time": "2023-01-11T14:31:21.452Z"
   },
   {
    "duration": 1074,
    "start_time": "2023-01-11T14:31:21.478Z"
   },
   {
    "duration": 9,
    "start_time": "2023-01-11T14:31:22.554Z"
   },
   {
    "duration": 230,
    "start_time": "2023-01-11T14:31:22.564Z"
   },
   {
    "duration": 5,
    "start_time": "2023-01-11T14:31:22.798Z"
   },
   {
    "duration": 108,
    "start_time": "2023-01-11T14:31:22.805Z"
   },
   {
    "duration": 8,
    "start_time": "2023-01-11T14:31:22.916Z"
   },
   {
    "duration": 676,
    "start_time": "2023-01-11T14:31:22.926Z"
   },
   {
    "duration": 260,
    "start_time": "2023-01-11T14:31:23.605Z"
   },
   {
    "duration": 37,
    "start_time": "2023-01-11T14:31:23.866Z"
   },
   {
    "duration": 130,
    "start_time": "2023-01-11T14:31:23.905Z"
   },
   {
    "duration": 0,
    "start_time": "2023-01-11T14:31:24.036Z"
   },
   {
    "duration": 0,
    "start_time": "2023-01-11T14:31:24.037Z"
   },
   {
    "duration": 0,
    "start_time": "2023-01-11T14:31:24.038Z"
   },
   {
    "duration": 16,
    "start_time": "2023-01-11T14:32:22.213Z"
   },
   {
    "duration": 19,
    "start_time": "2023-01-11T14:32:41.091Z"
   },
   {
    "duration": 19,
    "start_time": "2023-01-11T14:32:44.816Z"
   },
   {
    "duration": 23,
    "start_time": "2023-01-11T14:33:09.571Z"
   },
   {
    "duration": 40,
    "start_time": "2023-01-11T14:33:45.988Z"
   },
   {
    "duration": 29,
    "start_time": "2023-01-11T14:34:11.512Z"
   },
   {
    "duration": 45,
    "start_time": "2023-01-11T14:34:18.091Z"
   },
   {
    "duration": 10,
    "start_time": "2023-01-11T14:40:06.331Z"
   },
   {
    "duration": 23,
    "start_time": "2023-01-11T14:40:11.227Z"
   },
   {
    "duration": 1047,
    "start_time": "2023-01-11T14:41:51.535Z"
   },
   {
    "duration": 12,
    "start_time": "2023-01-11T14:43:35.726Z"
   },
   {
    "duration": 73,
    "start_time": "2023-01-11T14:43:54.094Z"
   },
   {
    "duration": 72,
    "start_time": "2023-01-11T14:44:08.505Z"
   },
   {
    "duration": 34,
    "start_time": "2023-01-11T14:44:16.047Z"
   },
   {
    "duration": 69,
    "start_time": "2023-01-11T14:44:35.971Z"
   },
   {
    "duration": 43,
    "start_time": "2023-01-11T14:44:59.224Z"
   },
   {
    "duration": 15,
    "start_time": "2023-01-11T14:45:23.936Z"
   },
   {
    "duration": 46,
    "start_time": "2023-01-11T14:45:27.532Z"
   },
   {
    "duration": 16,
    "start_time": "2023-01-11T14:45:29.074Z"
   },
   {
    "duration": 4473,
    "start_time": "2023-01-11T14:50:08.620Z"
   },
   {
    "duration": 10153,
    "start_time": "2023-01-11T14:50:29.762Z"
   },
   {
    "duration": 14,
    "start_time": "2023-01-11T14:51:15.058Z"
   },
   {
    "duration": 9,
    "start_time": "2023-01-11T14:51:35.865Z"
   },
   {
    "duration": 16704,
    "start_time": "2023-01-11T14:51:47.042Z"
   },
   {
    "duration": 68,
    "start_time": "2023-01-11T14:53:15.424Z"
   },
   {
    "duration": 11,
    "start_time": "2023-01-11T14:53:50.524Z"
   },
   {
    "duration": 93,
    "start_time": "2023-01-11T14:53:56.974Z"
   },
   {
    "duration": 608,
    "start_time": "2023-01-11T14:53:59.666Z"
   },
   {
    "duration": 1330,
    "start_time": "2023-01-11T14:54:17.550Z"
   },
   {
    "duration": 28962,
    "start_time": "2023-01-11T14:54:20.822Z"
   },
   {
    "duration": 709,
    "start_time": "2023-01-11T14:55:50.144Z"
   },
   {
    "duration": 716,
    "start_time": "2023-01-11T14:56:14.715Z"
   },
   {
    "duration": 94,
    "start_time": "2023-01-11T14:56:29.584Z"
   },
   {
    "duration": 581,
    "start_time": "2023-01-11T14:56:38.176Z"
   },
   {
    "duration": 75,
    "start_time": "2023-01-11T14:57:06.361Z"
   },
   {
    "duration": 2474,
    "start_time": "2023-01-11T14:57:52.027Z"
   },
   {
    "duration": 25,
    "start_time": "2023-01-11T14:59:37.626Z"
   },
   {
    "duration": 17,
    "start_time": "2023-01-11T14:59:50.523Z"
   },
   {
    "duration": 1287,
    "start_time": "2023-01-11T14:59:55.217Z"
   },
   {
    "duration": 1176,
    "start_time": "2023-01-11T15:01:52.023Z"
   },
   {
    "duration": 49,
    "start_time": "2023-01-11T15:01:53.201Z"
   },
   {
    "duration": 192,
    "start_time": "2023-01-11T15:01:53.251Z"
   },
   {
    "duration": 10,
    "start_time": "2023-01-11T15:01:53.445Z"
   },
   {
    "duration": 22,
    "start_time": "2023-01-11T15:01:53.457Z"
   },
   {
    "duration": 1122,
    "start_time": "2023-01-11T15:01:53.481Z"
   },
   {
    "duration": 23,
    "start_time": "2023-01-11T15:01:54.605Z"
   },
   {
    "duration": 293,
    "start_time": "2023-01-11T15:01:54.633Z"
   },
   {
    "duration": 7,
    "start_time": "2023-01-11T15:01:54.931Z"
   },
   {
    "duration": 117,
    "start_time": "2023-01-11T15:01:54.941Z"
   },
   {
    "duration": 9,
    "start_time": "2023-01-11T15:01:55.060Z"
   },
   {
    "duration": 757,
    "start_time": "2023-01-11T15:01:55.071Z"
   },
   {
    "duration": 249,
    "start_time": "2023-01-11T15:01:55.833Z"
   },
   {
    "duration": 41,
    "start_time": "2023-01-11T15:01:56.086Z"
   },
   {
    "duration": 20,
    "start_time": "2023-01-11T15:01:56.131Z"
   },
   {
    "duration": 61,
    "start_time": "2023-01-11T15:01:56.153Z"
   },
   {
    "duration": 40,
    "start_time": "2023-01-11T15:01:56.221Z"
   },
   {
    "duration": 22,
    "start_time": "2023-01-11T15:01:56.263Z"
   },
   {
    "duration": 1432,
    "start_time": "2023-01-11T15:01:56.286Z"
   },
   {
    "duration": 1318,
    "start_time": "2023-01-11T15:03:38.738Z"
   },
   {
    "duration": 29,
    "start_time": "2023-01-11T15:03:40.059Z"
   },
   {
    "duration": 212,
    "start_time": "2023-01-11T15:03:40.090Z"
   },
   {
    "duration": 13,
    "start_time": "2023-01-11T15:03:40.305Z"
   },
   {
    "duration": 56,
    "start_time": "2023-01-11T15:03:40.320Z"
   },
   {
    "duration": 1210,
    "start_time": "2023-01-11T15:03:40.377Z"
   },
   {
    "duration": 18,
    "start_time": "2023-01-11T15:03:41.588Z"
   },
   {
    "duration": 272,
    "start_time": "2023-01-11T15:03:41.609Z"
   },
   {
    "duration": 3,
    "start_time": "2023-01-11T15:03:41.883Z"
   },
   {
    "duration": 107,
    "start_time": "2023-01-11T15:03:41.896Z"
   },
   {
    "duration": 9,
    "start_time": "2023-01-11T15:03:42.005Z"
   },
   {
    "duration": 784,
    "start_time": "2023-01-11T15:03:42.015Z"
   },
   {
    "duration": 286,
    "start_time": "2023-01-11T15:03:42.801Z"
   },
   {
    "duration": 46,
    "start_time": "2023-01-11T15:03:43.088Z"
   },
   {
    "duration": 21,
    "start_time": "2023-01-11T15:03:43.137Z"
   },
   {
    "duration": 38,
    "start_time": "2023-01-11T15:03:43.159Z"
   },
   {
    "duration": 61,
    "start_time": "2023-01-11T15:03:43.198Z"
   },
   {
    "duration": 21,
    "start_time": "2023-01-11T15:03:43.261Z"
   },
   {
    "duration": 160,
    "start_time": "2023-01-11T15:03:43.284Z"
   },
   {
    "duration": 72,
    "start_time": "2023-01-11T15:04:07.663Z"
   },
   {
    "duration": 69,
    "start_time": "2023-01-11T15:04:27.915Z"
   },
   {
    "duration": 1019,
    "start_time": "2023-01-11T15:06:06.231Z"
   },
   {
    "duration": 75,
    "start_time": "2023-01-11T15:06:12.442Z"
   },
   {
    "duration": 77,
    "start_time": "2023-01-11T15:06:45.352Z"
   },
   {
    "duration": 82,
    "start_time": "2023-01-11T15:09:45.584Z"
   },
   {
    "duration": 23,
    "start_time": "2023-01-11T15:10:37.921Z"
   },
   {
    "duration": 11,
    "start_time": "2023-01-11T15:15:30.366Z"
   },
   {
    "duration": 111,
    "start_time": "2023-01-11T15:15:35.614Z"
   },
   {
    "duration": 584,
    "start_time": "2023-01-11T15:15:40.622Z"
   },
   {
    "duration": 43,
    "start_time": "2023-01-11T15:16:13.654Z"
   },
   {
    "duration": 149,
    "start_time": "2023-01-11T15:17:46.010Z"
   },
   {
    "duration": 141,
    "start_time": "2023-01-11T15:17:58.386Z"
   },
   {
    "duration": 40,
    "start_time": "2023-01-11T15:18:02.874Z"
   },
   {
    "duration": 9,
    "start_time": "2023-01-11T15:23:00.668Z"
   },
   {
    "duration": 95,
    "start_time": "2023-01-11T15:24:02.475Z"
   },
   {
    "duration": 13,
    "start_time": "2023-01-11T15:24:10.594Z"
   },
   {
    "duration": 18,
    "start_time": "2023-01-11T15:24:31.762Z"
   },
   {
    "duration": 21,
    "start_time": "2023-01-11T15:25:03.883Z"
   },
   {
    "duration": 1184,
    "start_time": "2023-01-11T15:25:15.551Z"
   },
   {
    "duration": 23,
    "start_time": "2023-01-11T15:25:16.738Z"
   },
   {
    "duration": 156,
    "start_time": "2023-01-11T15:25:16.762Z"
   },
   {
    "duration": 10,
    "start_time": "2023-01-11T15:25:16.920Z"
   },
   {
    "duration": 21,
    "start_time": "2023-01-11T15:25:16.931Z"
   },
   {
    "duration": 937,
    "start_time": "2023-01-11T15:25:16.954Z"
   },
   {
    "duration": 9,
    "start_time": "2023-01-11T15:25:17.893Z"
   },
   {
    "duration": 210,
    "start_time": "2023-01-11T15:25:17.903Z"
   },
   {
    "duration": 4,
    "start_time": "2023-01-11T15:25:18.115Z"
   },
   {
    "duration": 88,
    "start_time": "2023-01-11T15:25:18.121Z"
   },
   {
    "duration": 8,
    "start_time": "2023-01-11T15:25:18.211Z"
   },
   {
    "duration": 603,
    "start_time": "2023-01-11T15:25:18.221Z"
   },
   {
    "duration": 246,
    "start_time": "2023-01-11T15:25:18.826Z"
   },
   {
    "duration": 39,
    "start_time": "2023-01-11T15:25:19.075Z"
   },
   {
    "duration": 20,
    "start_time": "2023-01-11T15:25:19.117Z"
   },
   {
    "duration": 34,
    "start_time": "2023-01-11T15:25:19.138Z"
   },
   {
    "duration": 66,
    "start_time": "2023-01-11T15:25:19.174Z"
   },
   {
    "duration": 33,
    "start_time": "2023-01-11T15:25:19.243Z"
   },
   {
    "duration": 74,
    "start_time": "2023-01-11T15:25:19.299Z"
   },
   {
    "duration": 458,
    "start_time": "2023-01-11T15:25:19.375Z"
   },
   {
    "duration": 11,
    "start_time": "2023-01-11T15:25:19.835Z"
   },
   {
    "duration": 21,
    "start_time": "2023-01-11T15:25:19.848Z"
   },
   {
    "duration": 22,
    "start_time": "2023-01-11T15:26:24.571Z"
   },
   {
    "duration": 149,
    "start_time": "2023-01-11T15:34:12.873Z"
   },
   {
    "duration": 51,
    "start_time": "2023-01-11T15:35:47.307Z"
   },
   {
    "duration": 45,
    "start_time": "2023-01-11T15:35:52.812Z"
   },
   {
    "duration": 9,
    "start_time": "2023-01-11T15:35:54.260Z"
   },
   {
    "duration": 888,
    "start_time": "2023-01-11T15:36:21.879Z"
   },
   {
    "duration": 45,
    "start_time": "2023-01-11T15:36:28.347Z"
   },
   {
    "duration": 79,
    "start_time": "2023-01-11T15:36:43.513Z"
   },
   {
    "duration": 78,
    "start_time": "2023-01-11T15:36:49.175Z"
   },
   {
    "duration": 1161,
    "start_time": "2023-01-11T15:37:10.610Z"
   },
   {
    "duration": 42,
    "start_time": "2023-01-11T15:37:11.773Z"
   },
   {
    "duration": 188,
    "start_time": "2023-01-11T15:37:11.816Z"
   },
   {
    "duration": 11,
    "start_time": "2023-01-11T15:37:12.006Z"
   },
   {
    "duration": 24,
    "start_time": "2023-01-11T15:37:12.019Z"
   },
   {
    "duration": 936,
    "start_time": "2023-01-11T15:37:12.045Z"
   },
   {
    "duration": 33,
    "start_time": "2023-01-11T15:37:12.982Z"
   },
   {
    "duration": 208,
    "start_time": "2023-01-11T15:37:13.016Z"
   },
   {
    "duration": 4,
    "start_time": "2023-01-11T15:37:13.226Z"
   },
   {
    "duration": 88,
    "start_time": "2023-01-11T15:37:13.231Z"
   },
   {
    "duration": 7,
    "start_time": "2023-01-11T15:37:13.324Z"
   },
   {
    "duration": 686,
    "start_time": "2023-01-11T15:37:13.333Z"
   },
   {
    "duration": 236,
    "start_time": "2023-01-11T15:37:14.022Z"
   },
   {
    "duration": 41,
    "start_time": "2023-01-11T15:37:14.261Z"
   },
   {
    "duration": 18,
    "start_time": "2023-01-11T15:37:14.303Z"
   },
   {
    "duration": 30,
    "start_time": "2023-01-11T15:37:14.322Z"
   },
   {
    "duration": 52,
    "start_time": "2023-01-11T15:37:14.354Z"
   },
   {
    "duration": 23,
    "start_time": "2023-01-11T15:37:14.408Z"
   },
   {
    "duration": 98,
    "start_time": "2023-01-11T15:37:14.433Z"
   },
   {
    "duration": 488,
    "start_time": "2023-01-11T15:37:14.532Z"
   },
   {
    "duration": 8,
    "start_time": "2023-01-11T15:37:15.022Z"
   },
   {
    "duration": 29,
    "start_time": "2023-01-11T15:37:15.032Z"
   },
   {
    "duration": 15,
    "start_time": "2023-01-11T15:37:15.099Z"
   },
   {
    "duration": 97,
    "start_time": "2023-01-11T15:37:15.117Z"
   },
   {
    "duration": 105,
    "start_time": "2023-01-11T15:37:15.216Z"
   },
   {
    "duration": 76,
    "start_time": "2023-01-11T15:37:27.451Z"
   },
   {
    "duration": 47,
    "start_time": "2023-01-11T15:37:31.731Z"
   },
   {
    "duration": 46,
    "start_time": "2023-01-11T15:37:32.871Z"
   },
   {
    "duration": 1193,
    "start_time": "2023-01-11T15:37:45.524Z"
   },
   {
    "duration": 27,
    "start_time": "2023-01-11T15:37:46.720Z"
   },
   {
    "duration": 173,
    "start_time": "2023-01-11T15:37:46.748Z"
   },
   {
    "duration": 9,
    "start_time": "2023-01-11T15:37:46.922Z"
   },
   {
    "duration": 27,
    "start_time": "2023-01-11T15:37:46.933Z"
   },
   {
    "duration": 1010,
    "start_time": "2023-01-11T15:37:46.962Z"
   },
   {
    "duration": 9,
    "start_time": "2023-01-11T15:37:47.973Z"
   },
   {
    "duration": 228,
    "start_time": "2023-01-11T15:37:47.984Z"
   },
   {
    "duration": 5,
    "start_time": "2023-01-11T15:37:48.214Z"
   },
   {
    "duration": 70,
    "start_time": "2023-01-11T15:37:48.221Z"
   },
   {
    "duration": 14,
    "start_time": "2023-01-11T15:37:48.297Z"
   },
   {
    "duration": 629,
    "start_time": "2023-01-11T15:37:48.312Z"
   },
   {
    "duration": 278,
    "start_time": "2023-01-11T15:37:48.943Z"
   },
   {
    "duration": 28,
    "start_time": "2023-01-11T15:37:49.224Z"
   },
   {
    "duration": 15,
    "start_time": "2023-01-11T15:37:49.254Z"
   },
   {
    "duration": 57,
    "start_time": "2023-01-11T15:37:49.271Z"
   },
   {
    "duration": 44,
    "start_time": "2023-01-11T15:37:49.330Z"
   },
   {
    "duration": 29,
    "start_time": "2023-01-11T15:37:49.375Z"
   },
   {
    "duration": 84,
    "start_time": "2023-01-11T15:37:49.406Z"
   },
   {
    "duration": 408,
    "start_time": "2023-01-11T15:37:49.492Z"
   },
   {
    "duration": 14,
    "start_time": "2023-01-11T15:37:49.901Z"
   },
   {
    "duration": 84,
    "start_time": "2023-01-11T15:37:49.916Z"
   },
   {
    "duration": 29,
    "start_time": "2023-01-11T15:37:50.002Z"
   },
   {
    "duration": 83,
    "start_time": "2023-01-11T15:37:50.033Z"
   },
   {
    "duration": 109,
    "start_time": "2023-01-11T15:37:50.119Z"
   },
   {
    "duration": 66,
    "start_time": "2023-01-11T15:38:27.455Z"
   },
   {
    "duration": 1150,
    "start_time": "2023-01-11T15:38:33.743Z"
   },
   {
    "duration": 33,
    "start_time": "2023-01-11T15:38:34.898Z"
   },
   {
    "duration": 172,
    "start_time": "2023-01-11T15:38:34.933Z"
   },
   {
    "duration": 11,
    "start_time": "2023-01-11T15:38:35.107Z"
   },
   {
    "duration": 25,
    "start_time": "2023-01-11T15:38:35.121Z"
   },
   {
    "duration": 1020,
    "start_time": "2023-01-11T15:38:35.147Z"
   },
   {
    "duration": 9,
    "start_time": "2023-01-11T15:38:36.168Z"
   },
   {
    "duration": 225,
    "start_time": "2023-01-11T15:38:36.178Z"
   },
   {
    "duration": 7,
    "start_time": "2023-01-11T15:38:36.407Z"
   },
   {
    "duration": 105,
    "start_time": "2023-01-11T15:38:36.416Z"
   },
   {
    "duration": 7,
    "start_time": "2023-01-11T15:38:36.523Z"
   },
   {
    "duration": 630,
    "start_time": "2023-01-11T15:38:36.532Z"
   },
   {
    "duration": 237,
    "start_time": "2023-01-11T15:38:37.163Z"
   },
   {
    "duration": 30,
    "start_time": "2023-01-11T15:38:37.404Z"
   },
   {
    "duration": 15,
    "start_time": "2023-01-11T15:38:37.435Z"
   },
   {
    "duration": 48,
    "start_time": "2023-01-11T15:38:37.452Z"
   },
   {
    "duration": 40,
    "start_time": "2023-01-11T15:38:37.507Z"
   },
   {
    "duration": 23,
    "start_time": "2023-01-11T15:38:37.549Z"
   },
   {
    "duration": 96,
    "start_time": "2023-01-11T15:38:37.574Z"
   },
   {
    "duration": 415,
    "start_time": "2023-01-11T15:38:37.672Z"
   },
   {
    "duration": 13,
    "start_time": "2023-01-11T15:38:38.089Z"
   },
   {
    "duration": 43,
    "start_time": "2023-01-11T15:38:38.104Z"
   },
   {
    "duration": 51,
    "start_time": "2023-01-11T15:38:38.149Z"
   },
   {
    "duration": 55,
    "start_time": "2023-01-11T15:38:38.206Z"
   },
   {
    "duration": 126,
    "start_time": "2023-01-11T15:38:38.263Z"
   },
   {
    "duration": 213,
    "start_time": "2023-01-11T15:56:44.191Z"
   },
   {
    "duration": 1191,
    "start_time": "2023-01-11T16:09:52.545Z"
   },
   {
    "duration": 30,
    "start_time": "2023-01-11T16:09:53.738Z"
   },
   {
    "duration": 176,
    "start_time": "2023-01-11T16:09:53.770Z"
   },
   {
    "duration": 10,
    "start_time": "2023-01-11T16:09:53.949Z"
   },
   {
    "duration": 20,
    "start_time": "2023-01-11T16:09:53.961Z"
   },
   {
    "duration": 1005,
    "start_time": "2023-01-11T16:09:53.983Z"
   },
   {
    "duration": 13,
    "start_time": "2023-01-11T16:09:54.990Z"
   },
   {
    "duration": 228,
    "start_time": "2023-01-11T16:09:55.006Z"
   },
   {
    "duration": 5,
    "start_time": "2023-01-11T16:09:55.235Z"
   },
   {
    "duration": 133,
    "start_time": "2023-01-11T16:09:55.242Z"
   },
   {
    "duration": 7,
    "start_time": "2023-01-11T16:09:55.376Z"
   },
   {
    "duration": 623,
    "start_time": "2023-01-11T16:09:55.385Z"
   },
   {
    "duration": 234,
    "start_time": "2023-01-11T16:09:56.010Z"
   },
   {
    "duration": 27,
    "start_time": "2023-01-11T16:09:56.246Z"
   },
   {
    "duration": 57,
    "start_time": "2023-01-11T16:09:56.275Z"
   },
   {
    "duration": 49,
    "start_time": "2023-01-11T16:09:56.334Z"
   },
   {
    "duration": 60,
    "start_time": "2023-01-11T16:09:56.384Z"
   },
   {
    "duration": 21,
    "start_time": "2023-01-11T16:09:56.446Z"
   },
   {
    "duration": 87,
    "start_time": "2023-01-11T16:09:56.468Z"
   },
   {
    "duration": 405,
    "start_time": "2023-01-11T16:09:56.557Z"
   },
   {
    "duration": 8,
    "start_time": "2023-01-11T16:09:56.964Z"
   },
   {
    "duration": 30,
    "start_time": "2023-01-11T16:09:56.974Z"
   },
   {
    "duration": 1210,
    "start_time": "2023-01-11T16:12:49.311Z"
   },
   {
    "duration": 26,
    "start_time": "2023-01-11T16:12:50.522Z"
   },
   {
    "duration": 168,
    "start_time": "2023-01-11T16:12:50.549Z"
   },
   {
    "duration": 9,
    "start_time": "2023-01-11T16:12:50.719Z"
   },
   {
    "duration": 32,
    "start_time": "2023-01-11T16:12:50.730Z"
   },
   {
    "duration": 889,
    "start_time": "2023-01-11T16:12:50.763Z"
   },
   {
    "duration": 8,
    "start_time": "2023-01-11T16:12:51.653Z"
   },
   {
    "duration": 111,
    "start_time": "2023-01-11T16:12:51.663Z"
   },
   {
    "duration": 0,
    "start_time": "2023-01-11T16:12:51.776Z"
   },
   {
    "duration": 0,
    "start_time": "2023-01-11T16:12:51.777Z"
   },
   {
    "duration": 0,
    "start_time": "2023-01-11T16:12:51.778Z"
   },
   {
    "duration": 0,
    "start_time": "2023-01-11T16:12:51.779Z"
   },
   {
    "duration": 0,
    "start_time": "2023-01-11T16:12:51.779Z"
   },
   {
    "duration": 0,
    "start_time": "2023-01-11T16:12:51.780Z"
   },
   {
    "duration": 0,
    "start_time": "2023-01-11T16:12:51.781Z"
   },
   {
    "duration": 0,
    "start_time": "2023-01-11T16:12:51.782Z"
   },
   {
    "duration": 0,
    "start_time": "2023-01-11T16:12:51.810Z"
   },
   {
    "duration": 0,
    "start_time": "2023-01-11T16:12:51.811Z"
   },
   {
    "duration": 0,
    "start_time": "2023-01-11T16:12:51.812Z"
   },
   {
    "duration": 0,
    "start_time": "2023-01-11T16:12:51.813Z"
   },
   {
    "duration": 0,
    "start_time": "2023-01-11T16:12:51.814Z"
   },
   {
    "duration": 0,
    "start_time": "2023-01-11T16:12:51.815Z"
   },
   {
    "duration": 0,
    "start_time": "2023-01-11T16:12:51.816Z"
   },
   {
    "duration": 67,
    "start_time": "2023-01-11T16:13:03.203Z"
   },
   {
    "duration": 4,
    "start_time": "2023-01-11T16:13:11.211Z"
   },
   {
    "duration": 4,
    "start_time": "2023-01-11T16:13:19.741Z"
   },
   {
    "duration": 192,
    "start_time": "2023-01-11T16:13:23.965Z"
   },
   {
    "duration": 51,
    "start_time": "2023-01-11T16:13:40.305Z"
   },
   {
    "duration": 69,
    "start_time": "2023-01-11T16:16:43.507Z"
   },
   {
    "duration": 11,
    "start_time": "2023-01-11T16:16:47.790Z"
   },
   {
    "duration": 657,
    "start_time": "2023-01-11T16:16:49.710Z"
   },
   {
    "duration": 271,
    "start_time": "2023-01-11T16:17:03.882Z"
   },
   {
    "duration": 45,
    "start_time": "2023-01-11T16:18:13.030Z"
   },
   {
    "duration": 27,
    "start_time": "2023-01-11T16:19:09.250Z"
   },
   {
    "duration": 19,
    "start_time": "2023-01-11T16:19:50.134Z"
   },
   {
    "duration": 44,
    "start_time": "2023-01-11T16:19:50.487Z"
   },
   {
    "duration": 14,
    "start_time": "2023-01-11T16:20:26.435Z"
   },
   {
    "duration": 49,
    "start_time": "2023-01-11T16:20:41.174Z"
   },
   {
    "duration": 36,
    "start_time": "2023-01-11T16:20:47.907Z"
   },
   {
    "duration": 13,
    "start_time": "2023-01-11T16:21:08.770Z"
   },
   {
    "duration": 17,
    "start_time": "2023-01-11T16:21:20.678Z"
   },
   {
    "duration": 20,
    "start_time": "2023-01-11T16:21:25.987Z"
   },
   {
    "duration": 1211,
    "start_time": "2023-01-11T16:21:31.514Z"
   },
   {
    "duration": 27,
    "start_time": "2023-01-11T16:21:32.726Z"
   },
   {
    "duration": 175,
    "start_time": "2023-01-11T16:21:32.754Z"
   },
   {
    "duration": 8,
    "start_time": "2023-01-11T16:21:32.931Z"
   },
   {
    "duration": 43,
    "start_time": "2023-01-11T16:21:32.941Z"
   },
   {
    "duration": 902,
    "start_time": "2023-01-11T16:21:32.986Z"
   },
   {
    "duration": 12,
    "start_time": "2023-01-11T16:21:33.889Z"
   },
   {
    "duration": 232,
    "start_time": "2023-01-11T16:21:33.903Z"
   },
   {
    "duration": 74,
    "start_time": "2023-01-11T16:21:34.137Z"
   },
   {
    "duration": 7,
    "start_time": "2023-01-11T16:21:34.214Z"
   },
   {
    "duration": 697,
    "start_time": "2023-01-11T16:21:34.223Z"
   },
   {
    "duration": 250,
    "start_time": "2023-01-11T16:21:34.922Z"
   },
   {
    "duration": 39,
    "start_time": "2023-01-11T16:21:35.174Z"
   },
   {
    "duration": 14,
    "start_time": "2023-01-11T16:21:35.215Z"
   },
   {
    "duration": 28,
    "start_time": "2023-01-11T16:21:35.231Z"
   },
   {
    "duration": 57,
    "start_time": "2023-01-11T16:21:35.261Z"
   },
   {
    "duration": 23,
    "start_time": "2023-01-11T16:21:35.319Z"
   },
   {
    "duration": 82,
    "start_time": "2023-01-11T16:21:35.344Z"
   },
   {
    "duration": 464,
    "start_time": "2023-01-11T16:21:35.428Z"
   },
   {
    "duration": 20,
    "start_time": "2023-01-11T16:21:35.893Z"
   },
   {
    "duration": 20,
    "start_time": "2023-01-11T16:21:35.915Z"
   },
   {
    "duration": 14,
    "start_time": "2023-01-11T16:21:41.688Z"
   },
   {
    "duration": 13,
    "start_time": "2023-01-11T16:21:58.458Z"
   },
   {
    "duration": 14,
    "start_time": "2023-01-11T16:22:08.581Z"
   },
   {
    "duration": 12,
    "start_time": "2023-01-11T16:22:23.159Z"
   },
   {
    "duration": 27,
    "start_time": "2023-01-11T16:22:29.867Z"
   },
   {
    "duration": 31,
    "start_time": "2023-01-11T16:22:53.430Z"
   },
   {
    "duration": 13,
    "start_time": "2023-01-11T16:23:17.359Z"
   },
   {
    "duration": 14,
    "start_time": "2023-01-11T16:23:20.258Z"
   },
   {
    "duration": 12,
    "start_time": "2023-01-11T16:23:21.767Z"
   },
   {
    "duration": 17,
    "start_time": "2023-01-11T16:23:23.815Z"
   },
   {
    "duration": 44,
    "start_time": "2023-01-11T16:23:52.215Z"
   },
   {
    "duration": 151,
    "start_time": "2023-01-11T16:24:28.615Z"
   },
   {
    "duration": 13,
    "start_time": "2023-01-11T16:24:31.547Z"
   },
   {
    "duration": 28,
    "start_time": "2023-01-11T16:24:34.035Z"
   },
   {
    "duration": 22,
    "start_time": "2023-01-11T16:26:25.507Z"
   },
   {
    "duration": 49,
    "start_time": "2023-01-11T16:26:49.042Z"
   },
   {
    "duration": 68,
    "start_time": "2023-01-11T16:27:58.050Z"
   },
   {
    "duration": 107,
    "start_time": "2023-01-11T16:41:48.782Z"
   },
   {
    "duration": 140,
    "start_time": "2023-01-11T16:42:00.378Z"
   },
   {
    "duration": 111,
    "start_time": "2023-01-11T16:42:05.498Z"
   },
   {
    "duration": 126,
    "start_time": "2023-01-11T16:44:29.441Z"
   },
   {
    "duration": 11,
    "start_time": "2023-01-11T16:44:35.837Z"
   },
   {
    "duration": 236,
    "start_time": "2023-01-11T16:44:54.829Z"
   },
   {
    "duration": 227,
    "start_time": "2023-01-11T16:45:07.825Z"
   },
   {
    "duration": 242,
    "start_time": "2023-01-11T16:45:10.240Z"
   },
   {
    "duration": 587,
    "start_time": "2023-01-11T16:45:15.611Z"
   },
   {
    "duration": 2,
    "start_time": "2023-01-11T16:45:55.269Z"
   },
   {
    "duration": 15,
    "start_time": "2023-01-11T16:47:47.312Z"
   },
   {
    "duration": 11,
    "start_time": "2023-01-11T16:48:08.260Z"
   },
   {
    "duration": 3,
    "start_time": "2023-01-11T16:49:01.337Z"
   },
   {
    "duration": 16,
    "start_time": "2023-01-11T16:49:06.290Z"
   },
   {
    "duration": 9,
    "start_time": "2023-01-11T16:49:24.122Z"
   },
   {
    "duration": 23,
    "start_time": "2023-01-11T16:56:54.560Z"
   },
   {
    "duration": 8,
    "start_time": "2023-01-11T16:57:54.416Z"
   },
   {
    "duration": 54,
    "start_time": "2023-01-11T17:06:55.271Z"
   },
   {
    "duration": 95,
    "start_time": "2023-01-11T17:07:01.169Z"
   },
   {
    "duration": 847,
    "start_time": "2023-01-11T17:07:54.767Z"
   },
   {
    "duration": 98,
    "start_time": "2023-01-11T17:08:13.054Z"
   },
   {
    "duration": 136,
    "start_time": "2023-01-11T17:09:47.498Z"
   },
   {
    "duration": 13,
    "start_time": "2023-01-11T17:10:39.075Z"
   },
   {
    "duration": 148,
    "start_time": "2023-01-11T17:10:48.363Z"
   },
   {
    "duration": 17,
    "start_time": "2023-01-11T17:13:31.120Z"
   },
   {
    "duration": 3,
    "start_time": "2023-01-11T17:13:59.648Z"
   },
   {
    "duration": 15,
    "start_time": "2023-01-11T17:14:04.933Z"
   },
   {
    "duration": 3,
    "start_time": "2023-01-11T17:14:23.453Z"
   },
   {
    "duration": 928,
    "start_time": "2023-01-11T17:14:30.885Z"
   },
   {
    "duration": 801,
    "start_time": "2023-01-11T17:15:27.677Z"
   },
   {
    "duration": 12,
    "start_time": "2023-01-11T17:15:43.061Z"
   },
   {
    "duration": 12,
    "start_time": "2023-01-11T17:17:20.837Z"
   },
   {
    "duration": 12,
    "start_time": "2023-01-11T17:18:23.186Z"
   },
   {
    "duration": 50,
    "start_time": "2023-01-11T17:18:32.226Z"
   },
   {
    "duration": 9,
    "start_time": "2023-01-11T17:20:08.411Z"
   },
   {
    "duration": 10,
    "start_time": "2023-01-11T17:20:24.910Z"
   },
   {
    "duration": 13,
    "start_time": "2023-01-11T17:23:12.883Z"
   },
   {
    "duration": 60,
    "start_time": "2023-01-11T17:39:31.556Z"
   },
   {
    "duration": 47,
    "start_time": "2023-01-11T17:39:32.045Z"
   },
   {
    "duration": 785,
    "start_time": "2023-01-11T17:42:03.942Z"
   },
   {
    "duration": 755,
    "start_time": "2023-01-11T17:42:43.713Z"
   },
   {
    "duration": 1153,
    "start_time": "2023-01-11T17:43:05.908Z"
   },
   {
    "duration": 27,
    "start_time": "2023-01-11T17:43:07.063Z"
   },
   {
    "duration": 168,
    "start_time": "2023-01-11T17:43:07.092Z"
   },
   {
    "duration": 9,
    "start_time": "2023-01-11T17:43:07.262Z"
   },
   {
    "duration": 39,
    "start_time": "2023-01-11T17:43:07.272Z"
   },
   {
    "duration": 895,
    "start_time": "2023-01-11T17:43:07.314Z"
   },
   {
    "duration": 10,
    "start_time": "2023-01-11T17:43:08.210Z"
   },
   {
    "duration": 190,
    "start_time": "2023-01-11T17:43:08.221Z"
   },
   {
    "duration": 65,
    "start_time": "2023-01-11T17:43:08.412Z"
   },
   {
    "duration": 28,
    "start_time": "2023-01-11T17:43:08.479Z"
   },
   {
    "duration": 641,
    "start_time": "2023-01-11T17:43:08.509Z"
   },
   {
    "duration": 234,
    "start_time": "2023-01-11T17:43:09.152Z"
   },
   {
    "duration": 28,
    "start_time": "2023-01-11T17:43:09.387Z"
   },
   {
    "duration": 12,
    "start_time": "2023-01-11T17:43:09.416Z"
   },
   {
    "duration": 27,
    "start_time": "2023-01-11T17:43:09.430Z"
   },
   {
    "duration": 59,
    "start_time": "2023-01-11T17:43:09.458Z"
   },
   {
    "duration": 27,
    "start_time": "2023-01-11T17:43:09.518Z"
   },
   {
    "duration": 22,
    "start_time": "2023-01-11T17:43:09.546Z"
   },
   {
    "duration": 91,
    "start_time": "2023-01-11T17:43:09.569Z"
   },
   {
    "duration": 2,
    "start_time": "2023-01-11T17:43:09.661Z"
   },
   {
    "duration": 12,
    "start_time": "2023-01-11T17:43:09.664Z"
   },
   {
    "duration": 234,
    "start_time": "2023-01-11T17:43:09.677Z"
   },
   {
    "duration": 16,
    "start_time": "2023-01-11T17:43:09.913Z"
   },
   {
    "duration": 90,
    "start_time": "2023-01-11T17:43:09.930Z"
   },
   {
    "duration": 129,
    "start_time": "2023-01-11T17:43:10.022Z"
   },
   {
    "duration": 232,
    "start_time": "2023-01-11T17:43:10.152Z"
   },
   {
    "duration": 0,
    "start_time": "2023-01-11T17:43:10.385Z"
   },
   {
    "duration": 0,
    "start_time": "2023-01-11T17:43:10.386Z"
   },
   {
    "duration": 0,
    "start_time": "2023-01-11T17:43:10.387Z"
   },
   {
    "duration": 0,
    "start_time": "2023-01-11T17:43:10.388Z"
   },
   {
    "duration": 131,
    "start_time": "2023-01-11T17:45:21.818Z"
   },
   {
    "duration": 131,
    "start_time": "2023-01-11T17:45:28.314Z"
   },
   {
    "duration": 138,
    "start_time": "2023-01-11T17:45:33.241Z"
   },
   {
    "duration": 211,
    "start_time": "2023-01-11T17:48:54.924Z"
   },
   {
    "duration": 15,
    "start_time": "2023-01-11T17:52:05.615Z"
   },
   {
    "duration": 131,
    "start_time": "2023-01-11T17:52:45.129Z"
   },
   {
    "duration": 137,
    "start_time": "2023-01-11T17:53:18.034Z"
   },
   {
    "duration": 12,
    "start_time": "2023-01-11T17:53:20.630Z"
   },
   {
    "duration": 15,
    "start_time": "2023-01-11T17:56:52.589Z"
   },
   {
    "duration": 9,
    "start_time": "2023-01-11T17:57:47.624Z"
   },
   {
    "duration": 10,
    "start_time": "2023-01-11T17:57:50.343Z"
   },
   {
    "duration": 148,
    "start_time": "2023-01-11T18:01:22.983Z"
   },
   {
    "duration": 29,
    "start_time": "2023-01-11T18:17:43.216Z"
   },
   {
    "duration": 14,
    "start_time": "2023-01-11T18:17:44.220Z"
   },
   {
    "duration": 29,
    "start_time": "2023-01-11T18:17:45.336Z"
   },
   {
    "duration": 43,
    "start_time": "2023-01-11T18:50:11.019Z"
   },
   {
    "duration": 10,
    "start_time": "2023-01-11T19:10:22.146Z"
   },
   {
    "duration": 36,
    "start_time": "2023-01-11T19:10:30.862Z"
   },
   {
    "duration": 79,
    "start_time": "2023-01-11T19:10:42.590Z"
   },
   {
    "duration": 6,
    "start_time": "2023-01-11T19:10:45.002Z"
   },
   {
    "duration": 10,
    "start_time": "2023-01-11T19:10:47.175Z"
   },
   {
    "duration": 10,
    "start_time": "2023-01-11T19:10:54.166Z"
   },
   {
    "duration": 8,
    "start_time": "2023-01-11T19:13:50.078Z"
   },
   {
    "duration": 20,
    "start_time": "2023-01-11T19:13:54.262Z"
   },
   {
    "duration": 8,
    "start_time": "2023-01-11T19:16:17.985Z"
   },
   {
    "duration": 13,
    "start_time": "2023-01-11T19:16:49.011Z"
   },
   {
    "duration": 8,
    "start_time": "2023-01-11T19:16:50.158Z"
   },
   {
    "duration": 8,
    "start_time": "2023-01-11T19:16:58.621Z"
   },
   {
    "duration": 12,
    "start_time": "2023-01-11T19:16:59.285Z"
   },
   {
    "duration": 14,
    "start_time": "2023-01-11T19:38:40.595Z"
   },
   {
    "duration": 580,
    "start_time": "2023-01-11T19:39:35.784Z"
   },
   {
    "duration": 1183,
    "start_time": "2023-01-11T19:39:50.400Z"
   },
   {
    "duration": 27,
    "start_time": "2023-01-11T19:39:51.585Z"
   },
   {
    "duration": 159,
    "start_time": "2023-01-11T19:39:51.614Z"
   },
   {
    "duration": 9,
    "start_time": "2023-01-11T19:39:51.775Z"
   },
   {
    "duration": 28,
    "start_time": "2023-01-11T19:39:51.785Z"
   },
   {
    "duration": 886,
    "start_time": "2023-01-11T19:39:51.814Z"
   },
   {
    "duration": 9,
    "start_time": "2023-01-11T19:39:52.702Z"
   },
   {
    "duration": 209,
    "start_time": "2023-01-11T19:39:52.712Z"
   },
   {
    "duration": 80,
    "start_time": "2023-01-11T19:39:52.923Z"
   },
   {
    "duration": 8,
    "start_time": "2023-01-11T19:39:53.006Z"
   },
   {
    "duration": 582,
    "start_time": "2023-01-11T19:39:53.015Z"
   },
   {
    "duration": 230,
    "start_time": "2023-01-11T19:39:53.598Z"
   },
   {
    "duration": 28,
    "start_time": "2023-01-11T19:39:53.830Z"
   },
   {
    "duration": 13,
    "start_time": "2023-01-11T19:39:53.860Z"
   },
   {
    "duration": 49,
    "start_time": "2023-01-11T19:39:53.875Z"
   },
   {
    "duration": 39,
    "start_time": "2023-01-11T19:39:53.926Z"
   },
   {
    "duration": 51,
    "start_time": "2023-01-11T19:39:53.967Z"
   },
   {
    "duration": 23,
    "start_time": "2023-01-11T19:39:54.020Z"
   },
   {
    "duration": 83,
    "start_time": "2023-01-11T19:39:54.044Z"
   },
   {
    "duration": 2,
    "start_time": "2023-01-11T19:39:54.129Z"
   },
   {
    "duration": 232,
    "start_time": "2023-01-11T19:39:54.132Z"
   },
   {
    "duration": 17,
    "start_time": "2023-01-11T19:39:54.365Z"
   },
   {
    "duration": 129,
    "start_time": "2023-01-11T19:39:54.383Z"
   },
   {
    "duration": 6,
    "start_time": "2023-01-11T19:39:54.515Z"
   },
   {
    "duration": 11,
    "start_time": "2023-01-11T19:39:54.523Z"
   },
   {
    "duration": 12,
    "start_time": "2023-01-11T19:39:54.536Z"
   },
   {
    "duration": 52,
    "start_time": "2023-01-11T19:39:54.549Z"
   },
   {
    "duration": 102,
    "start_time": "2023-01-11T19:39:54.604Z"
   },
   {
    "duration": 208,
    "start_time": "2023-01-11T19:39:54.708Z"
   },
   {
    "duration": 13,
    "start_time": "2023-01-11T19:39:54.918Z"
   },
   {
    "duration": 24,
    "start_time": "2023-01-11T19:39:54.933Z"
   },
   {
    "duration": 20,
    "start_time": "2023-01-11T19:39:54.959Z"
   },
   {
    "duration": 17,
    "start_time": "2023-01-11T19:39:54.980Z"
   },
   {
    "duration": 18,
    "start_time": "2023-01-11T19:39:54.999Z"
   },
   {
    "duration": 211,
    "start_time": "2023-01-11T19:40:19.992Z"
   },
   {
    "duration": 15,
    "start_time": "2023-01-11T19:40:23.152Z"
   },
   {
    "duration": 9,
    "start_time": "2023-01-11T19:40:27.548Z"
   },
   {
    "duration": 15,
    "start_time": "2023-01-11T19:48:18.351Z"
   },
   {
    "duration": 8,
    "start_time": "2023-01-11T20:01:41.029Z"
   },
   {
    "duration": 6,
    "start_time": "2023-01-11T20:01:51.298Z"
   },
   {
    "duration": 798,
    "start_time": "2023-01-11T20:36:14.411Z"
   },
   {
    "duration": 43,
    "start_time": "2023-01-11T20:36:26.727Z"
   },
   {
    "duration": 15,
    "start_time": "2023-01-11T20:36:48.883Z"
   },
   {
    "duration": 9,
    "start_time": "2023-01-11T20:36:54.298Z"
   },
   {
    "duration": 48,
    "start_time": "2023-01-11T21:07:34.620Z"
   },
   {
    "duration": 1194,
    "start_time": "2023-01-11T21:08:02.465Z"
   },
   {
    "duration": 32,
    "start_time": "2023-01-11T21:08:03.661Z"
   },
   {
    "duration": 158,
    "start_time": "2023-01-11T21:08:03.694Z"
   },
   {
    "duration": 11,
    "start_time": "2023-01-11T21:08:03.855Z"
   },
   {
    "duration": 39,
    "start_time": "2023-01-11T21:08:03.868Z"
   },
   {
    "duration": 912,
    "start_time": "2023-01-11T21:08:03.909Z"
   },
   {
    "duration": 8,
    "start_time": "2023-01-11T21:08:04.823Z"
   },
   {
    "duration": 210,
    "start_time": "2023-01-11T21:08:04.833Z"
   },
   {
    "duration": 85,
    "start_time": "2023-01-11T21:08:05.045Z"
   },
   {
    "duration": 7,
    "start_time": "2023-01-11T21:08:05.133Z"
   },
   {
    "duration": 1426,
    "start_time": "2023-01-11T21:32:28.834Z"
   },
   {
    "duration": 39,
    "start_time": "2023-01-11T21:32:30.262Z"
   },
   {
    "duration": 940,
    "start_time": "2023-01-11T21:32:30.302Z"
   },
   {
    "duration": 9,
    "start_time": "2023-01-11T21:32:31.245Z"
   },
   {
    "duration": 42,
    "start_time": "2023-01-11T21:32:31.255Z"
   },
   {
    "duration": 928,
    "start_time": "2023-01-11T21:32:31.298Z"
   },
   {
    "duration": 12,
    "start_time": "2023-01-11T21:32:32.228Z"
   },
   {
    "duration": 223,
    "start_time": "2023-01-11T21:32:32.242Z"
   },
   {
    "duration": 61,
    "start_time": "2023-01-11T21:32:32.466Z"
   },
   {
    "duration": 10,
    "start_time": "2023-01-11T21:32:32.530Z"
   },
   {
    "duration": 638,
    "start_time": "2023-01-11T21:32:32.542Z"
   },
   {
    "duration": 236,
    "start_time": "2023-01-11T21:32:33.182Z"
   },
   {
    "duration": 33,
    "start_time": "2023-01-11T21:32:33.425Z"
   },
   {
    "duration": 13,
    "start_time": "2023-01-11T21:32:33.460Z"
   },
   {
    "duration": 24,
    "start_time": "2023-01-11T21:32:33.474Z"
   },
   {
    "duration": 51,
    "start_time": "2023-01-11T21:32:33.500Z"
   },
   {
    "duration": 30,
    "start_time": "2023-01-11T21:32:33.553Z"
   },
   {
    "duration": 49,
    "start_time": "2023-01-11T21:32:33.584Z"
   },
   {
    "duration": 68,
    "start_time": "2023-01-11T21:32:33.635Z"
   },
   {
    "duration": 360,
    "start_time": "2023-01-11T21:32:33.704Z"
   },
   {
    "duration": 11,
    "start_time": "2023-01-11T21:32:34.066Z"
   },
   {
    "duration": 22,
    "start_time": "2023-01-11T21:32:34.079Z"
   },
   {
    "duration": 134,
    "start_time": "2023-01-11T21:32:34.129Z"
   },
   {
    "duration": 7,
    "start_time": "2023-01-11T21:32:34.265Z"
   },
   {
    "duration": 9,
    "start_time": "2023-01-11T21:32:34.274Z"
   },
   {
    "duration": 17,
    "start_time": "2023-01-11T21:32:34.285Z"
   },
   {
    "duration": 71,
    "start_time": "2023-01-11T21:32:34.305Z"
   },
   {
    "duration": 96,
    "start_time": "2023-01-11T21:32:34.379Z"
   },
   {
    "duration": 202,
    "start_time": "2023-01-11T21:32:34.477Z"
   },
   {
    "duration": 11,
    "start_time": "2023-01-11T21:32:34.681Z"
   },
   {
    "duration": 11,
    "start_time": "2023-01-11T21:32:34.694Z"
   },
   {
    "duration": 23,
    "start_time": "2023-01-11T21:32:34.706Z"
   },
   {
    "duration": 17,
    "start_time": "2023-01-11T21:32:34.734Z"
   },
   {
    "duration": 13,
    "start_time": "2023-01-11T21:32:34.752Z"
   },
   {
    "duration": 45,
    "start_time": "2023-01-12T08:28:28.354Z"
   },
   {
    "duration": 1477,
    "start_time": "2023-01-12T08:28:54.138Z"
   },
   {
    "duration": 27,
    "start_time": "2023-01-12T08:28:55.617Z"
   },
   {
    "duration": 287,
    "start_time": "2023-01-12T08:28:55.646Z"
   },
   {
    "duration": 9,
    "start_time": "2023-01-12T08:28:55.936Z"
   },
   {
    "duration": 21,
    "start_time": "2023-01-12T08:28:55.947Z"
   },
   {
    "duration": 874,
    "start_time": "2023-01-12T08:28:55.970Z"
   },
   {
    "duration": 9,
    "start_time": "2023-01-12T08:28:56.846Z"
   },
   {
    "duration": 198,
    "start_time": "2023-01-12T08:28:56.856Z"
   },
   {
    "duration": 70,
    "start_time": "2023-01-12T08:28:57.055Z"
   },
   {
    "duration": 6,
    "start_time": "2023-01-12T08:28:57.128Z"
   },
   {
    "duration": 648,
    "start_time": "2023-01-12T08:28:57.136Z"
   },
   {
    "duration": 235,
    "start_time": "2023-01-12T08:28:57.786Z"
   },
   {
    "duration": 25,
    "start_time": "2023-01-12T08:28:58.023Z"
   },
   {
    "duration": 26,
    "start_time": "2023-01-12T08:28:58.050Z"
   },
   {
    "duration": 30,
    "start_time": "2023-01-12T08:28:58.078Z"
   },
   {
    "duration": 32,
    "start_time": "2023-01-12T08:28:58.110Z"
   },
   {
    "duration": 55,
    "start_time": "2023-01-12T08:28:58.144Z"
   },
   {
    "duration": 22,
    "start_time": "2023-01-12T08:28:58.201Z"
   },
   {
    "duration": 82,
    "start_time": "2023-01-12T08:28:58.225Z"
   },
   {
    "duration": 260,
    "start_time": "2023-01-12T08:28:58.309Z"
   },
   {
    "duration": 10,
    "start_time": "2023-01-12T08:28:58.570Z"
   },
   {
    "duration": 17,
    "start_time": "2023-01-12T08:28:58.581Z"
   },
   {
    "duration": 129,
    "start_time": "2023-01-12T08:28:58.599Z"
   },
   {
    "duration": 5,
    "start_time": "2023-01-12T08:28:58.729Z"
   },
   {
    "duration": 7,
    "start_time": "2023-01-12T08:28:58.736Z"
   },
   {
    "duration": 41,
    "start_time": "2023-01-12T08:28:58.744Z"
   },
   {
    "duration": 37,
    "start_time": "2023-01-12T08:28:58.786Z"
   },
   {
    "duration": 93,
    "start_time": "2023-01-12T08:28:58.826Z"
   },
   {
    "duration": 156,
    "start_time": "2023-01-12T08:28:58.921Z"
   },
   {
    "duration": 182,
    "start_time": "2023-01-12T08:28:59.079Z"
   },
   {
    "duration": 15,
    "start_time": "2023-01-12T08:28:59.262Z"
   },
   {
    "duration": 10,
    "start_time": "2023-01-12T08:28:59.278Z"
   },
   {
    "duration": 11,
    "start_time": "2023-01-12T08:28:59.289Z"
   },
   {
    "duration": 7,
    "start_time": "2023-01-12T08:28:59.302Z"
   },
   {
    "duration": 13,
    "start_time": "2023-01-12T08:28:59.311Z"
   },
   {
    "duration": 173,
    "start_time": "2023-01-12T08:29:34.226Z"
   },
   {
    "duration": 159,
    "start_time": "2023-01-12T08:29:53.510Z"
   },
   {
    "duration": 63,
    "start_time": "2023-01-12T08:34:00.758Z"
   },
   {
    "duration": 22,
    "start_time": "2023-01-12T08:34:06.513Z"
   },
   {
    "duration": 8,
    "start_time": "2023-01-12T08:34:12.549Z"
   },
   {
    "duration": 10,
    "start_time": "2023-01-12T08:34:17.049Z"
   },
   {
    "duration": 10,
    "start_time": "2023-01-12T08:34:33.614Z"
   },
   {
    "duration": 9,
    "start_time": "2023-01-12T08:34:40.774Z"
   },
   {
    "duration": 11,
    "start_time": "2023-01-12T08:36:05.734Z"
   },
   {
    "duration": 10,
    "start_time": "2023-01-12T08:36:12.146Z"
   },
   {
    "duration": 41,
    "start_time": "2023-01-12T08:39:37.234Z"
   },
   {
    "duration": 10,
    "start_time": "2023-01-12T08:39:40.985Z"
   },
   {
    "duration": 11,
    "start_time": "2023-01-12T08:40:02.337Z"
   },
   {
    "duration": 10,
    "start_time": "2023-01-12T08:40:20.893Z"
   },
   {
    "duration": 11,
    "start_time": "2023-01-12T08:40:25.574Z"
   },
   {
    "duration": 10,
    "start_time": "2023-01-12T08:40:29.341Z"
   },
   {
    "duration": 9,
    "start_time": "2023-01-12T08:40:43.254Z"
   },
   {
    "duration": 11,
    "start_time": "2023-01-12T08:40:46.389Z"
   },
   {
    "duration": 12,
    "start_time": "2023-01-12T08:48:50.114Z"
   },
   {
    "duration": 9,
    "start_time": "2023-01-12T08:48:52.365Z"
   },
   {
    "duration": 11,
    "start_time": "2023-01-12T08:48:54.969Z"
   },
   {
    "duration": 10,
    "start_time": "2023-01-12T08:48:56.509Z"
   },
   {
    "duration": 9,
    "start_time": "2023-01-12T08:48:57.905Z"
   },
   {
    "duration": 162,
    "start_time": "2023-01-12T08:49:05.535Z"
   },
   {
    "duration": 6,
    "start_time": "2023-01-12T08:49:09.683Z"
   },
   {
    "duration": 2,
    "start_time": "2023-01-12T08:51:09.957Z"
   },
   {
    "duration": 5,
    "start_time": "2023-01-12T08:51:15.460Z"
   },
   {
    "duration": 20,
    "start_time": "2023-01-12T08:52:56.849Z"
   },
   {
    "duration": 1154,
    "start_time": "2023-01-12T08:53:10.997Z"
   },
   {
    "duration": 25,
    "start_time": "2023-01-12T08:53:12.153Z"
   },
   {
    "duration": 159,
    "start_time": "2023-01-12T08:53:12.180Z"
   },
   {
    "duration": 10,
    "start_time": "2023-01-12T08:53:12.341Z"
   },
   {
    "duration": 33,
    "start_time": "2023-01-12T08:53:12.353Z"
   },
   {
    "duration": 930,
    "start_time": "2023-01-12T08:53:12.387Z"
   },
   {
    "duration": 8,
    "start_time": "2023-01-12T08:53:13.319Z"
   },
   {
    "duration": 205,
    "start_time": "2023-01-12T08:53:13.329Z"
   },
   {
    "duration": 82,
    "start_time": "2023-01-12T08:53:13.536Z"
   },
   {
    "duration": 6,
    "start_time": "2023-01-12T08:53:13.621Z"
   },
   {
    "duration": 630,
    "start_time": "2023-01-12T08:53:13.629Z"
   },
   {
    "duration": 273,
    "start_time": "2023-01-12T08:53:14.261Z"
   },
   {
    "duration": 28,
    "start_time": "2023-01-12T08:53:14.535Z"
   },
   {
    "duration": 14,
    "start_time": "2023-01-12T08:53:14.575Z"
   },
   {
    "duration": 32,
    "start_time": "2023-01-12T08:53:14.591Z"
   },
   {
    "duration": 61,
    "start_time": "2023-01-12T08:53:14.624Z"
   },
   {
    "duration": 32,
    "start_time": "2023-01-12T08:53:14.686Z"
   },
   {
    "duration": 38,
    "start_time": "2023-01-12T08:53:14.720Z"
   },
   {
    "duration": 84,
    "start_time": "2023-01-12T08:53:14.760Z"
   },
   {
    "duration": 288,
    "start_time": "2023-01-12T08:53:14.846Z"
   },
   {
    "duration": 18,
    "start_time": "2023-01-12T08:53:15.135Z"
   },
   {
    "duration": 37,
    "start_time": "2023-01-12T08:53:15.155Z"
   },
   {
    "duration": 350,
    "start_time": "2023-01-12T08:53:15.194Z"
   },
   {
    "duration": 6,
    "start_time": "2023-01-12T08:53:15.547Z"
   },
   {
    "duration": 21,
    "start_time": "2023-01-12T08:53:15.557Z"
   },
   {
    "duration": 15,
    "start_time": "2023-01-12T08:53:15.580Z"
   },
   {
    "duration": 40,
    "start_time": "2023-01-12T08:53:15.598Z"
   },
   {
    "duration": 101,
    "start_time": "2023-01-12T08:53:15.641Z"
   },
   {
    "duration": 181,
    "start_time": "2023-01-12T08:53:15.744Z"
   },
   {
    "duration": 207,
    "start_time": "2023-01-12T08:53:15.927Z"
   },
   {
    "duration": 128,
    "start_time": "2023-01-12T08:53:16.136Z"
   },
   {
    "duration": 0,
    "start_time": "2023-01-12T08:53:16.265Z"
   },
   {
    "duration": 0,
    "start_time": "2023-01-12T08:53:16.277Z"
   },
   {
    "duration": 0,
    "start_time": "2023-01-12T08:53:16.278Z"
   },
   {
    "duration": 0,
    "start_time": "2023-01-12T08:53:16.279Z"
   },
   {
    "duration": 0,
    "start_time": "2023-01-12T08:53:16.280Z"
   },
   {
    "duration": 17,
    "start_time": "2023-01-12T08:54:06.390Z"
   },
   {
    "duration": 15,
    "start_time": "2023-01-12T08:55:11.522Z"
   },
   {
    "duration": 17,
    "start_time": "2023-01-12T08:55:38.222Z"
   },
   {
    "duration": 1191,
    "start_time": "2023-01-12T08:55:45.461Z"
   },
   {
    "duration": 21,
    "start_time": "2023-01-12T08:55:46.654Z"
   },
   {
    "duration": 162,
    "start_time": "2023-01-12T08:55:46.677Z"
   },
   {
    "duration": 9,
    "start_time": "2023-01-12T08:55:46.841Z"
   },
   {
    "duration": 36,
    "start_time": "2023-01-12T08:55:46.852Z"
   },
   {
    "duration": 920,
    "start_time": "2023-01-12T08:55:46.889Z"
   },
   {
    "duration": 9,
    "start_time": "2023-01-12T08:55:47.811Z"
   },
   {
    "duration": 206,
    "start_time": "2023-01-12T08:55:47.821Z"
   },
   {
    "duration": 78,
    "start_time": "2023-01-12T08:55:48.029Z"
   },
   {
    "duration": 7,
    "start_time": "2023-01-12T08:55:48.110Z"
   },
   {
    "duration": 647,
    "start_time": "2023-01-12T08:55:48.118Z"
   },
   {
    "duration": 230,
    "start_time": "2023-01-12T08:55:48.767Z"
   },
   {
    "duration": 25,
    "start_time": "2023-01-12T08:55:48.999Z"
   },
   {
    "duration": 15,
    "start_time": "2023-01-12T08:55:49.026Z"
   },
   {
    "duration": 52,
    "start_time": "2023-01-12T08:55:49.043Z"
   },
   {
    "duration": 34,
    "start_time": "2023-01-12T08:55:49.097Z"
   },
   {
    "duration": 52,
    "start_time": "2023-01-12T08:55:49.133Z"
   },
   {
    "duration": 26,
    "start_time": "2023-01-12T08:55:49.187Z"
   },
   {
    "duration": 79,
    "start_time": "2023-01-12T08:55:49.214Z"
   },
   {
    "duration": 258,
    "start_time": "2023-01-12T08:55:49.295Z"
   },
   {
    "duration": 12,
    "start_time": "2023-01-12T08:55:49.555Z"
   },
   {
    "duration": 20,
    "start_time": "2023-01-12T08:55:49.568Z"
   },
   {
    "duration": 126,
    "start_time": "2023-01-12T08:55:49.590Z"
   },
   {
    "duration": 5,
    "start_time": "2023-01-12T08:55:49.717Z"
   },
   {
    "duration": 18,
    "start_time": "2023-01-12T08:55:49.723Z"
   },
   {
    "duration": 13,
    "start_time": "2023-01-12T08:55:49.742Z"
   },
   {
    "duration": 44,
    "start_time": "2023-01-12T08:55:49.757Z"
   },
   {
    "duration": 83,
    "start_time": "2023-01-12T08:55:49.804Z"
   },
   {
    "duration": 159,
    "start_time": "2023-01-12T08:55:49.889Z"
   },
   {
    "duration": 185,
    "start_time": "2023-01-12T08:55:50.050Z"
   },
   {
    "duration": 119,
    "start_time": "2023-01-12T08:55:50.237Z"
   },
   {
    "duration": 0,
    "start_time": "2023-01-12T08:55:50.357Z"
   },
   {
    "duration": 0,
    "start_time": "2023-01-12T08:55:50.359Z"
   },
   {
    "duration": 0,
    "start_time": "2023-01-12T08:55:50.360Z"
   },
   {
    "duration": 0,
    "start_time": "2023-01-12T08:55:50.360Z"
   },
   {
    "duration": 0,
    "start_time": "2023-01-12T08:55:50.376Z"
   },
   {
    "duration": 11,
    "start_time": "2023-01-12T08:56:13.281Z"
   },
   {
    "duration": 8,
    "start_time": "2023-01-12T08:56:15.673Z"
   },
   {
    "duration": 8,
    "start_time": "2023-01-12T08:56:16.813Z"
   },
   {
    "duration": 8,
    "start_time": "2023-01-12T08:56:17.037Z"
   },
   {
    "duration": 10,
    "start_time": "2023-01-12T08:56:17.293Z"
   },
   {
    "duration": 13,
    "start_time": "2023-01-12T08:56:20.527Z"
   },
   {
    "duration": 5,
    "start_time": "2023-01-12T08:56:37.905Z"
   },
   {
    "duration": 5,
    "start_time": "2023-01-12T09:00:06.092Z"
   },
   {
    "duration": 5,
    "start_time": "2023-01-12T09:00:58.861Z"
   },
   {
    "duration": 6,
    "start_time": "2023-01-12T09:01:05.109Z"
   },
   {
    "duration": 7,
    "start_time": "2023-01-12T09:01:12.589Z"
   },
   {
    "duration": 6,
    "start_time": "2023-01-12T09:01:53.689Z"
   },
   {
    "duration": 9,
    "start_time": "2023-01-12T09:01:55.438Z"
   },
   {
    "duration": 1301,
    "start_time": "2023-01-12T09:02:01.950Z"
   },
   {
    "duration": 26,
    "start_time": "2023-01-12T09:02:03.253Z"
   },
   {
    "duration": 167,
    "start_time": "2023-01-12T09:02:03.282Z"
   },
   {
    "duration": 8,
    "start_time": "2023-01-12T09:02:03.451Z"
   },
   {
    "duration": 51,
    "start_time": "2023-01-12T09:02:03.461Z"
   },
   {
    "duration": 995,
    "start_time": "2023-01-12T09:02:03.514Z"
   },
   {
    "duration": 10,
    "start_time": "2023-01-12T09:02:04.510Z"
   },
   {
    "duration": 229,
    "start_time": "2023-01-12T09:02:04.522Z"
   },
   {
    "duration": 98,
    "start_time": "2023-01-12T09:02:04.753Z"
   },
   {
    "duration": 27,
    "start_time": "2023-01-12T09:02:04.854Z"
   },
   {
    "duration": 814,
    "start_time": "2023-01-12T09:02:04.884Z"
   },
   {
    "duration": 249,
    "start_time": "2023-01-12T09:02:05.699Z"
   },
   {
    "duration": 38,
    "start_time": "2023-01-12T09:02:05.950Z"
   },
   {
    "duration": 14,
    "start_time": "2023-01-12T09:02:05.991Z"
   },
   {
    "duration": 29,
    "start_time": "2023-01-12T09:02:06.007Z"
   },
   {
    "duration": 62,
    "start_time": "2023-01-12T09:02:06.037Z"
   },
   {
    "duration": 31,
    "start_time": "2023-01-12T09:02:06.100Z"
   },
   {
    "duration": 21,
    "start_time": "2023-01-12T09:02:06.133Z"
   },
   {
    "duration": 94,
    "start_time": "2023-01-12T09:02:06.155Z"
   },
   {
    "duration": 296,
    "start_time": "2023-01-12T09:02:06.250Z"
   },
   {
    "duration": 14,
    "start_time": "2023-01-12T09:02:06.547Z"
   },
   {
    "duration": 32,
    "start_time": "2023-01-12T09:02:06.563Z"
   },
   {
    "duration": 138,
    "start_time": "2023-01-12T09:02:06.596Z"
   },
   {
    "duration": 5,
    "start_time": "2023-01-12T09:02:06.736Z"
   },
   {
    "duration": 52,
    "start_time": "2023-01-12T09:02:06.743Z"
   },
   {
    "duration": 19,
    "start_time": "2023-01-12T09:02:06.796Z"
   },
   {
    "duration": 39,
    "start_time": "2023-01-12T09:02:06.816Z"
   },
   {
    "duration": 91,
    "start_time": "2023-01-12T09:02:06.858Z"
   },
   {
    "duration": 210,
    "start_time": "2023-01-12T09:02:06.950Z"
   },
   {
    "duration": 237,
    "start_time": "2023-01-12T09:02:07.162Z"
   },
   {
    "duration": 6,
    "start_time": "2023-01-12T09:02:07.401Z"
   },
   {
    "duration": 15,
    "start_time": "2023-01-12T09:02:07.409Z"
   },
   {
    "duration": 9,
    "start_time": "2023-01-12T09:02:07.425Z"
   },
   {
    "duration": 9,
    "start_time": "2023-01-12T09:02:07.436Z"
   },
   {
    "duration": 45,
    "start_time": "2023-01-12T09:02:07.447Z"
   },
   {
    "duration": 19,
    "start_time": "2023-01-12T09:02:07.494Z"
   },
   {
    "duration": 6,
    "start_time": "2023-01-12T09:02:52.918Z"
   },
   {
    "duration": 6,
    "start_time": "2023-01-12T09:03:04.602Z"
   },
   {
    "duration": 5,
    "start_time": "2023-01-12T09:03:10.114Z"
   },
   {
    "duration": 7,
    "start_time": "2023-01-12T09:03:24.750Z"
   },
   {
    "duration": 4,
    "start_time": "2023-01-12T09:03:45.810Z"
   },
   {
    "duration": 5,
    "start_time": "2023-01-12T09:03:48.896Z"
   },
   {
    "duration": 53,
    "start_time": "2023-01-12T09:04:12.374Z"
   },
   {
    "duration": 6,
    "start_time": "2023-01-12T09:04:16.290Z"
   },
   {
    "duration": 6,
    "start_time": "2023-01-12T09:04:20.591Z"
   },
   {
    "duration": 5,
    "start_time": "2023-01-12T09:04:40.206Z"
   },
   {
    "duration": 7,
    "start_time": "2023-01-12T09:05:37.946Z"
   },
   {
    "duration": 5,
    "start_time": "2023-01-12T09:07:26.182Z"
   },
   {
    "duration": 5,
    "start_time": "2023-01-12T09:07:31.947Z"
   },
   {
    "duration": 6,
    "start_time": "2023-01-12T09:09:10.822Z"
   },
   {
    "duration": 45,
    "start_time": "2023-01-12T09:09:45.070Z"
   },
   {
    "duration": 175,
    "start_time": "2023-01-12T09:09:48.742Z"
   },
   {
    "duration": 172,
    "start_time": "2023-01-12T09:09:57.582Z"
   },
   {
    "duration": 168,
    "start_time": "2023-01-12T09:10:03.646Z"
   },
   {
    "duration": 186,
    "start_time": "2023-01-12T09:10:14.823Z"
   },
   {
    "duration": 151,
    "start_time": "2023-01-12T09:10:20.850Z"
   },
   {
    "duration": 148,
    "start_time": "2023-01-12T09:10:31.034Z"
   },
   {
    "duration": 154,
    "start_time": "2023-01-12T09:10:39.484Z"
   },
   {
    "duration": 168,
    "start_time": "2023-01-12T09:10:42.914Z"
   },
   {
    "duration": 46,
    "start_time": "2023-01-12T09:10:57.406Z"
   },
   {
    "duration": 168,
    "start_time": "2023-01-12T09:11:06.566Z"
   }
  ],
  "celltoolbar": "Отсутствует",
  "kernelspec": {
   "display_name": "Python 3 (ipykernel)",
   "language": "python",
   "name": "python3"
  },
  "language_info": {
   "codemirror_mode": {
    "name": "ipython",
    "version": 3
   },
   "file_extension": ".py",
   "mimetype": "text/x-python",
   "name": "python",
   "nbconvert_exporter": "python",
   "pygments_lexer": "ipython3",
   "version": "3.9.12"
  },
  "toc": {
   "base_numbering": 1,
   "nav_menu": {},
   "number_sections": true,
   "sideBar": true,
   "skip_h1_title": true,
   "title_cell": "Table of Contents",
   "title_sidebar": "Contents",
   "toc_cell": false,
   "toc_position": {},
   "toc_section_display": true,
   "toc_window_display": false
  }
 },
 "nbformat": 4,
 "nbformat_minor": 2
}
