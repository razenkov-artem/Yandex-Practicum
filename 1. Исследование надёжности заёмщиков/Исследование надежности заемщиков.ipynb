{
 "cells": [
  {
   "cell_type": "markdown",
   "id": "64736b3f",
   "metadata": {
    "deletable": false,
    "editable": false,
    "id": "c81daeeb"
   },
   "source": [
    "# Исследование надежности заемщиков\n"
   ]
  },
  {
   "cell_type": "markdown",
   "id": "201f0c09",
   "metadata": {
    "deletable": false,
    "editable": false,
    "id": "744d7639"
   },
   "source": [
    "## Откройте таблицу и изучите общую информацию о данных"
   ]
  },
  {
   "cell_type": "markdown",
   "id": "6a32d34b",
   "metadata": {
    "deletable": false,
    "editable": false,
    "id": "e7a14c31"
   },
   "source": [
    "**Задание 1. Импортируйте библиотеку pandas. Считайте данные из csv-файла в датафрейм и сохраните в переменную `data`. Путь к файлу:**\n",
    "\n",
    "`/datasets/data.csv`"
   ]
  },
  {
   "cell_type": "code",
   "execution_count": 1,
   "id": "2c61d28c",
   "metadata": {
    "deletable": false,
    "id": "7bcf75c9"
   },
   "outputs": [],
   "source": [
    "import pandas as pd\n",
    "import seaborn as sns\n",
    "import numpy as np\n",
    "from sklearn.linear_model import LinearRegression\n",
    "import matplotlib.pyplot as plt\n",
    "import matplotlib as mpl\n",
    "from sklearn.linear_model import LogisticRegression\n",
    "from sklearn.metrics import classification_report, confusion_matrix\n",
    "import matplotlib.lines as lines\n",
    "import warnings\n",
    "warnings.filterwarnings(\"ignore\")\n",
    "\n",
    "data = pd.read_csv('/datasets/data.csv')\n",
    "\n",
    "\n",
    "null_data = data.copy()"
   ]
  },
  {
   "cell_type": "markdown",
   "id": "f89c874f",
   "metadata": {
    "deletable": false,
    "editable": false,
    "id": "b8038fe3"
   },
   "source": [
    "**Задание 2. Выведите первые 20 строчек датафрейма `data` на экран.**"
   ]
  },
  {
   "cell_type": "code",
   "execution_count": 42,
   "id": "3305f647",
   "metadata": {
    "deletable": false,
    "id": "2a7cab99",
    "outputId": "1a8f3ef2-d323-4ec2-ddf7-89670b5944c4"
   },
   "outputs": [
    {
     "data": {
      "text/html": [
       "<div>\n",
       "<style scoped>\n",
       "    .dataframe tbody tr th:only-of-type {\n",
       "        vertical-align: middle;\n",
       "    }\n",
       "\n",
       "    .dataframe tbody tr th {\n",
       "        vertical-align: top;\n",
       "    }\n",
       "\n",
       "    .dataframe thead th {\n",
       "        text-align: right;\n",
       "    }\n",
       "</style>\n",
       "<table border=\"1\" class=\"dataframe\">\n",
       "  <thead>\n",
       "    <tr style=\"text-align: right;\">\n",
       "      <th></th>\n",
       "      <th>children</th>\n",
       "      <th>days_employed</th>\n",
       "      <th>dob_years</th>\n",
       "      <th>education</th>\n",
       "      <th>education_id</th>\n",
       "      <th>family_status</th>\n",
       "      <th>family_status_id</th>\n",
       "      <th>gender</th>\n",
       "      <th>income_type</th>\n",
       "      <th>debt</th>\n",
       "      <th>total_income</th>\n",
       "      <th>purpose</th>\n",
       "      <th>total_income_category</th>\n",
       "      <th>purpose_category</th>\n",
       "      <th>sub_category</th>\n",
       "      <th>rate</th>\n",
       "    </tr>\n",
       "  </thead>\n",
       "  <tbody>\n",
       "    <tr>\n",
       "      <th>7866</th>\n",
       "      <td>5</td>\n",
       "      <td>773.12</td>\n",
       "      <td>36</td>\n",
       "      <td>среднее</td>\n",
       "      <td>1</td>\n",
       "      <td>женат / замужем</td>\n",
       "      <td>0</td>\n",
       "      <td>F</td>\n",
       "      <td>сотрудник</td>\n",
       "      <td>0</td>\n",
       "      <td>48772</td>\n",
       "      <td>операции с жильем</td>\n",
       "      <td>D</td>\n",
       "      <td>операции с недвижимостью</td>\n",
       "      <td>1</td>\n",
       "      <td>94.79</td>\n",
       "    </tr>\n",
       "    <tr>\n",
       "      <th>15916</th>\n",
       "      <td>5</td>\n",
       "      <td>2286.26</td>\n",
       "      <td>37</td>\n",
       "      <td>среднее</td>\n",
       "      <td>1</td>\n",
       "      <td>женат / замужем</td>\n",
       "      <td>0</td>\n",
       "      <td>F</td>\n",
       "      <td>сотрудник</td>\n",
       "      <td>0</td>\n",
       "      <td>256698</td>\n",
       "      <td>покупка недвижимости</td>\n",
       "      <td>B</td>\n",
       "      <td>операции с недвижимостью</td>\n",
       "      <td>87</td>\n",
       "      <td>94.53</td>\n",
       "    </tr>\n",
       "    <tr>\n",
       "      <th>21156</th>\n",
       "      <td>5</td>\n",
       "      <td>1690.02</td>\n",
       "      <td>59</td>\n",
       "      <td>среднее</td>\n",
       "      <td>1</td>\n",
       "      <td>женат / замужем</td>\n",
       "      <td>0</td>\n",
       "      <td>M</td>\n",
       "      <td>сотрудник</td>\n",
       "      <td>0</td>\n",
       "      <td>269068</td>\n",
       "      <td>операции со своей недвижимостью</td>\n",
       "      <td>B</td>\n",
       "      <td>операции с недвижимостью</td>\n",
       "      <td>89</td>\n",
       "      <td>94.53</td>\n",
       "    </tr>\n",
       "    <tr>\n",
       "      <th>20837</th>\n",
       "      <td>5</td>\n",
       "      <td>2386.60</td>\n",
       "      <td>35</td>\n",
       "      <td>среднее</td>\n",
       "      <td>1</td>\n",
       "      <td>женат / замужем</td>\n",
       "      <td>0</td>\n",
       "      <td>F</td>\n",
       "      <td>компаньон</td>\n",
       "      <td>0</td>\n",
       "      <td>204241</td>\n",
       "      <td>жилье</td>\n",
       "      <td>B</td>\n",
       "      <td>операции с недвижимостью</td>\n",
       "      <td>77</td>\n",
       "      <td>94.53</td>\n",
       "    </tr>\n",
       "    <tr>\n",
       "      <th>4397</th>\n",
       "      <td>5</td>\n",
       "      <td>3248.84</td>\n",
       "      <td>36</td>\n",
       "      <td>среднее</td>\n",
       "      <td>1</td>\n",
       "      <td>женат / замужем</td>\n",
       "      <td>0</td>\n",
       "      <td>F</td>\n",
       "      <td>компаньон</td>\n",
       "      <td>0</td>\n",
       "      <td>168460</td>\n",
       "      <td>операции с недвижимостью</td>\n",
       "      <td>C</td>\n",
       "      <td>операции с недвижимостью</td>\n",
       "      <td>63</td>\n",
       "      <td>94.17</td>\n",
       "    </tr>\n",
       "    <tr>\n",
       "      <th>20452</th>\n",
       "      <td>5</td>\n",
       "      <td>268.43</td>\n",
       "      <td>38</td>\n",
       "      <td>начальное</td>\n",
       "      <td>3</td>\n",
       "      <td>женат / замужем</td>\n",
       "      <td>0</td>\n",
       "      <td>F</td>\n",
       "      <td>сотрудник</td>\n",
       "      <td>0</td>\n",
       "      <td>212545</td>\n",
       "      <td>заняться высшим образованием</td>\n",
       "      <td>B</td>\n",
       "      <td>получение образования</td>\n",
       "      <td>79</td>\n",
       "      <td>94.03</td>\n",
       "    </tr>\n",
       "    <tr>\n",
       "      <th>15822</th>\n",
       "      <td>5</td>\n",
       "      <td>418.20</td>\n",
       "      <td>31</td>\n",
       "      <td>среднее</td>\n",
       "      <td>1</td>\n",
       "      <td>женат / замужем</td>\n",
       "      <td>0</td>\n",
       "      <td>F</td>\n",
       "      <td>сотрудник</td>\n",
       "      <td>0</td>\n",
       "      <td>77552</td>\n",
       "      <td>сделка с подержанным автомобилем</td>\n",
       "      <td>C</td>\n",
       "      <td>операции с автомобилем</td>\n",
       "      <td>9</td>\n",
       "      <td>93.65</td>\n",
       "    </tr>\n",
       "    <tr>\n",
       "      <th>16211</th>\n",
       "      <td>5</td>\n",
       "      <td>387.32</td>\n",
       "      <td>35</td>\n",
       "      <td>среднее</td>\n",
       "      <td>1</td>\n",
       "      <td>гражданский брак</td>\n",
       "      <td>1</td>\n",
       "      <td>F</td>\n",
       "      <td>госслужащий</td>\n",
       "      <td>0</td>\n",
       "      <td>126102</td>\n",
       "      <td>на проведение свадьбы</td>\n",
       "      <td>C</td>\n",
       "      <td>проведение свадьбы</td>\n",
       "      <td>36</td>\n",
       "      <td>93.57</td>\n",
       "    </tr>\n",
       "    <tr>\n",
       "      <th>3979</th>\n",
       "      <td>5</td>\n",
       "      <td>1572.33</td>\n",
       "      <td>42</td>\n",
       "      <td>среднее</td>\n",
       "      <td>1</td>\n",
       "      <td>гражданский брак</td>\n",
       "      <td>1</td>\n",
       "      <td>M</td>\n",
       "      <td>сотрудник</td>\n",
       "      <td>0</td>\n",
       "      <td>142594</td>\n",
       "      <td>на покупку своего автомобиля</td>\n",
       "      <td>C</td>\n",
       "      <td>операции с автомобилем</td>\n",
       "      <td>46</td>\n",
       "      <td>93.21</td>\n",
       "    </tr>\n",
       "    <tr>\n",
       "      <th>4727</th>\n",
       "      <td>0</td>\n",
       "      <td>334348.87</td>\n",
       "      <td>61</td>\n",
       "      <td>среднее</td>\n",
       "      <td>1</td>\n",
       "      <td>вдовец / вдова</td>\n",
       "      <td>2</td>\n",
       "      <td>F</td>\n",
       "      <td>пенсионер</td>\n",
       "      <td>0</td>\n",
       "      <td>47823</td>\n",
       "      <td>операции с жильем</td>\n",
       "      <td>D</td>\n",
       "      <td>операции с недвижимостью</td>\n",
       "      <td>1</td>\n",
       "      <td>93.14</td>\n",
       "    </tr>\n",
       "    <tr>\n",
       "      <th>12417</th>\n",
       "      <td>0</td>\n",
       "      <td>388408.98</td>\n",
       "      <td>64</td>\n",
       "      <td>высшее</td>\n",
       "      <td>0</td>\n",
       "      <td>вдовец / вдова</td>\n",
       "      <td>2</td>\n",
       "      <td>F</td>\n",
       "      <td>пенсионер</td>\n",
       "      <td>0</td>\n",
       "      <td>42319</td>\n",
       "      <td>покупка жилой недвижимости</td>\n",
       "      <td>D</td>\n",
       "      <td>операции с недвижимостью</td>\n",
       "      <td>0</td>\n",
       "      <td>93.14</td>\n",
       "    </tr>\n",
       "    <tr>\n",
       "      <th>11049</th>\n",
       "      <td>0</td>\n",
       "      <td>355035.10</td>\n",
       "      <td>51</td>\n",
       "      <td>среднее</td>\n",
       "      <td>1</td>\n",
       "      <td>вдовец / вдова</td>\n",
       "      <td>2</td>\n",
       "      <td>F</td>\n",
       "      <td>пенсионер</td>\n",
       "      <td>0</td>\n",
       "      <td>42091</td>\n",
       "      <td>покупка коммерческой недвижимости</td>\n",
       "      <td>D</td>\n",
       "      <td>операции с недвижимостью</td>\n",
       "      <td>0</td>\n",
       "      <td>93.14</td>\n",
       "    </tr>\n",
       "    <tr>\n",
       "      <th>1919</th>\n",
       "      <td>0</td>\n",
       "      <td>3031.21</td>\n",
       "      <td>44</td>\n",
       "      <td>среднее</td>\n",
       "      <td>1</td>\n",
       "      <td>вдовец / вдова</td>\n",
       "      <td>2</td>\n",
       "      <td>F</td>\n",
       "      <td>сотрудник</td>\n",
       "      <td>0</td>\n",
       "      <td>48925</td>\n",
       "      <td>строительство собственной недвижимости</td>\n",
       "      <td>D</td>\n",
       "      <td>операции с недвижимостью</td>\n",
       "      <td>1</td>\n",
       "      <td>93.14</td>\n",
       "    </tr>\n",
       "    <tr>\n",
       "      <th>3574</th>\n",
       "      <td>0</td>\n",
       "      <td>343627.91</td>\n",
       "      <td>64</td>\n",
       "      <td>среднее</td>\n",
       "      <td>1</td>\n",
       "      <td>вдовец / вдова</td>\n",
       "      <td>2</td>\n",
       "      <td>F</td>\n",
       "      <td>пенсионер</td>\n",
       "      <td>0</td>\n",
       "      <td>46279</td>\n",
       "      <td>жилье</td>\n",
       "      <td>D</td>\n",
       "      <td>операции с недвижимостью</td>\n",
       "      <td>1</td>\n",
       "      <td>93.14</td>\n",
       "    </tr>\n",
       "    <tr>\n",
       "      <th>11157</th>\n",
       "      <td>0</td>\n",
       "      <td>329416.87</td>\n",
       "      <td>71</td>\n",
       "      <td>среднее</td>\n",
       "      <td>1</td>\n",
       "      <td>вдовец / вдова</td>\n",
       "      <td>2</td>\n",
       "      <td>F</td>\n",
       "      <td>пенсионер</td>\n",
       "      <td>0</td>\n",
       "      <td>39406</td>\n",
       "      <td>покупка жилой недвижимости</td>\n",
       "      <td>D</td>\n",
       "      <td>операции с недвижимостью</td>\n",
       "      <td>0</td>\n",
       "      <td>93.14</td>\n",
       "    </tr>\n",
       "    <tr>\n",
       "      <th>4583</th>\n",
       "      <td>0</td>\n",
       "      <td>341443.39</td>\n",
       "      <td>63</td>\n",
       "      <td>среднее</td>\n",
       "      <td>1</td>\n",
       "      <td>вдовец / вдова</td>\n",
       "      <td>2</td>\n",
       "      <td>F</td>\n",
       "      <td>пенсионер</td>\n",
       "      <td>0</td>\n",
       "      <td>46473</td>\n",
       "      <td>жилье</td>\n",
       "      <td>D</td>\n",
       "      <td>операции с недвижимостью</td>\n",
       "      <td>1</td>\n",
       "      <td>93.14</td>\n",
       "    </tr>\n",
       "    <tr>\n",
       "      <th>4963</th>\n",
       "      <td>0</td>\n",
       "      <td>360639.91</td>\n",
       "      <td>72</td>\n",
       "      <td>начальное</td>\n",
       "      <td>3</td>\n",
       "      <td>вдовец / вдова</td>\n",
       "      <td>2</td>\n",
       "      <td>F</td>\n",
       "      <td>пенсионер</td>\n",
       "      <td>0</td>\n",
       "      <td>34024</td>\n",
       "      <td>операции со своей недвижимостью</td>\n",
       "      <td>D</td>\n",
       "      <td>операции с недвижимостью</td>\n",
       "      <td>0</td>\n",
       "      <td>93.14</td>\n",
       "    </tr>\n",
       "    <tr>\n",
       "      <th>14202</th>\n",
       "      <td>0</td>\n",
       "      <td>349012.16</td>\n",
       "      <td>54</td>\n",
       "      <td>среднее</td>\n",
       "      <td>1</td>\n",
       "      <td>вдовец / вдова</td>\n",
       "      <td>2</td>\n",
       "      <td>F</td>\n",
       "      <td>пенсионер</td>\n",
       "      <td>0</td>\n",
       "      <td>47378</td>\n",
       "      <td>строительство недвижимости</td>\n",
       "      <td>D</td>\n",
       "      <td>операции с недвижимостью</td>\n",
       "      <td>1</td>\n",
       "      <td>93.14</td>\n",
       "    </tr>\n",
       "    <tr>\n",
       "      <th>18134</th>\n",
       "      <td>0</td>\n",
       "      <td>391408.54</td>\n",
       "      <td>68</td>\n",
       "      <td>среднее</td>\n",
       "      <td>1</td>\n",
       "      <td>вдовец / вдова</td>\n",
       "      <td>2</td>\n",
       "      <td>F</td>\n",
       "      <td>пенсионер</td>\n",
       "      <td>0</td>\n",
       "      <td>41558</td>\n",
       "      <td>ремонт жилью</td>\n",
       "      <td>D</td>\n",
       "      <td>операции с недвижимостью</td>\n",
       "      <td>0</td>\n",
       "      <td>93.14</td>\n",
       "    </tr>\n",
       "    <tr>\n",
       "      <th>10944</th>\n",
       "      <td>0</td>\n",
       "      <td>361943.36</td>\n",
       "      <td>53</td>\n",
       "      <td>среднее</td>\n",
       "      <td>1</td>\n",
       "      <td>вдовец / вдова</td>\n",
       "      <td>2</td>\n",
       "      <td>F</td>\n",
       "      <td>пенсионер</td>\n",
       "      <td>0</td>\n",
       "      <td>39383</td>\n",
       "      <td>ремонт жилью</td>\n",
       "      <td>D</td>\n",
       "      <td>операции с недвижимостью</td>\n",
       "      <td>0</td>\n",
       "      <td>93.14</td>\n",
       "    </tr>\n",
       "  </tbody>\n",
       "</table>\n",
       "</div>"
      ],
      "text/plain": [
       "       children  days_employed  dob_years  education  education_id  \\\n",
       "7866   5        773.12          36         среднее    1              \n",
       "15916  5        2286.26         37         среднее    1              \n",
       "21156  5        1690.02         59         среднее    1              \n",
       "20837  5        2386.60         35         среднее    1              \n",
       "4397   5        3248.84         36         среднее    1              \n",
       "20452  5        268.43          38         начальное  3              \n",
       "15822  5        418.20          31         среднее    1              \n",
       "16211  5        387.32          35         среднее    1              \n",
       "3979   5        1572.33         42         среднее    1              \n",
       "4727   0        334348.87       61         среднее    1              \n",
       "12417  0        388408.98       64         высшее     0              \n",
       "11049  0        355035.10       51         среднее    1              \n",
       "1919   0        3031.21         44         среднее    1              \n",
       "3574   0        343627.91       64         среднее    1              \n",
       "11157  0        329416.87       71         среднее    1              \n",
       "4583   0        341443.39       63         среднее    1              \n",
       "4963   0        360639.91       72         начальное  3              \n",
       "14202  0        349012.16       54         среднее    1              \n",
       "18134  0        391408.54       68         среднее    1              \n",
       "10944  0        361943.36       53         среднее    1              \n",
       "\n",
       "          family_status  family_status_id gender  income_type  debt  \\\n",
       "7866   женат / замужем   0                 F      сотрудник    0      \n",
       "15916  женат / замужем   0                 F      сотрудник    0      \n",
       "21156  женат / замужем   0                 M      сотрудник    0      \n",
       "20837  женат / замужем   0                 F      компаньон    0      \n",
       "4397   женат / замужем   0                 F      компаньон    0      \n",
       "20452  женат / замужем   0                 F      сотрудник    0      \n",
       "15822  женат / замужем   0                 F      сотрудник    0      \n",
       "16211  гражданский брак  1                 F      госслужащий  0      \n",
       "3979   гражданский брак  1                 M      сотрудник    0      \n",
       "4727   вдовец / вдова    2                 F      пенсионер    0      \n",
       "12417  вдовец / вдова    2                 F      пенсионер    0      \n",
       "11049  вдовец / вдова    2                 F      пенсионер    0      \n",
       "1919   вдовец / вдова    2                 F      сотрудник    0      \n",
       "3574   вдовец / вдова    2                 F      пенсионер    0      \n",
       "11157  вдовец / вдова    2                 F      пенсионер    0      \n",
       "4583   вдовец / вдова    2                 F      пенсионер    0      \n",
       "4963   вдовец / вдова    2                 F      пенсионер    0      \n",
       "14202  вдовец / вдова    2                 F      пенсионер    0      \n",
       "18134  вдовец / вдова    2                 F      пенсионер    0      \n",
       "10944  вдовец / вдова    2                 F      пенсионер    0      \n",
       "\n",
       "       total_income                                 purpose  \\\n",
       "7866   48772         операции с жильем                        \n",
       "15916  256698        покупка недвижимости                     \n",
       "21156  269068        операции со своей недвижимостью          \n",
       "20837  204241        жилье                                    \n",
       "4397   168460        операции с недвижимостью                 \n",
       "20452  212545        заняться высшим образованием             \n",
       "15822  77552         сделка с подержанным автомобилем         \n",
       "16211  126102        на проведение свадьбы                    \n",
       "3979   142594        на покупку своего автомобиля             \n",
       "4727   47823         операции с жильем                        \n",
       "12417  42319         покупка жилой недвижимости               \n",
       "11049  42091         покупка коммерческой недвижимости        \n",
       "1919   48925         строительство собственной недвижимости   \n",
       "3574   46279         жилье                                    \n",
       "11157  39406         покупка жилой недвижимости               \n",
       "4583   46473         жилье                                    \n",
       "4963   34024         операции со своей недвижимостью          \n",
       "14202  47378         строительство недвижимости               \n",
       "18134  41558         ремонт жилью                             \n",
       "10944  39383         ремонт жилью                             \n",
       "\n",
       "      total_income_category          purpose_category  sub_category  rate  \n",
       "7866   D                     операции с недвижимостью  1            94.79  \n",
       "15916  B                     операции с недвижимостью  87           94.53  \n",
       "21156  B                     операции с недвижимостью  89           94.53  \n",
       "20837  B                     операции с недвижимостью  77           94.53  \n",
       "4397   C                     операции с недвижимостью  63           94.17  \n",
       "20452  B                     получение образования     79           94.03  \n",
       "15822  C                     операции с автомобилем    9            93.65  \n",
       "16211  C                     проведение свадьбы        36           93.57  \n",
       "3979   C                     операции с автомобилем    46           93.21  \n",
       "4727   D                     операции с недвижимостью  1            93.14  \n",
       "12417  D                     операции с недвижимостью  0            93.14  \n",
       "11049  D                     операции с недвижимостью  0            93.14  \n",
       "1919   D                     операции с недвижимостью  1            93.14  \n",
       "3574   D                     операции с недвижимостью  1            93.14  \n",
       "11157  D                     операции с недвижимостью  0            93.14  \n",
       "4583   D                     операции с недвижимостью  1            93.14  \n",
       "4963   D                     операции с недвижимостью  0            93.14  \n",
       "14202  D                     операции с недвижимостью  1            93.14  \n",
       "18134  D                     операции с недвижимостью  0            93.14  \n",
       "10944  D                     операции с недвижимостью  0            93.14  "
      ]
     },
     "execution_count": 42,
     "metadata": {},
     "output_type": "execute_result"
    }
   ],
   "source": [
    "data.head(20)"
   ]
  },
  {
   "cell_type": "markdown",
   "id": "bb111f4c",
   "metadata": {
    "deletable": false,
    "editable": false,
    "id": "1c12e233"
   },
   "source": [
    "**Задание 3. Выведите основную информацию о датафрейме с помощью метода `info()`.**"
   ]
  },
  {
   "cell_type": "code",
   "execution_count": 3,
   "id": "11298a65",
   "metadata": {
    "deletable": false,
    "id": "2b757bca",
    "outputId": "15376089-8dad-46c9-b520-c05248d43158"
   },
   "outputs": [
    {
     "name": "stdout",
     "output_type": "stream",
     "text": [
      "<class 'pandas.core.frame.DataFrame'>\n",
      "RangeIndex: 21525 entries, 0 to 21524\n",
      "Data columns (total 12 columns):\n",
      " #   Column            Non-Null Count  Dtype  \n",
      "---  ------            --------------  -----  \n",
      " 0   children          21525 non-null  int64  \n",
      " 1   days_employed     19351 non-null  float64\n",
      " 2   dob_years         21525 non-null  int64  \n",
      " 3   education         21525 non-null  object \n",
      " 4   education_id      21525 non-null  int64  \n",
      " 5   family_status     21525 non-null  object \n",
      " 6   family_status_id  21525 non-null  int64  \n",
      " 7   gender            21525 non-null  object \n",
      " 8   income_type       21525 non-null  object \n",
      " 9   debt              21525 non-null  int64  \n",
      " 10  total_income      19351 non-null  float64\n",
      " 11  purpose           21525 non-null  object \n",
      "dtypes: float64(2), int64(5), object(5)\n",
      "memory usage: 2.0+ MB\n"
     ]
    }
   ],
   "source": [
    "data.info()"
   ]
  },
  {
   "cell_type": "markdown",
   "id": "a023f3ea",
   "metadata": {
    "deletable": false,
    "editable": false,
    "id": "333ec665"
   },
   "source": [
    "## Предобработка данных"
   ]
  },
  {
   "cell_type": "markdown",
   "id": "5285f2f0",
   "metadata": {
    "deletable": false,
    "editable": false,
    "id": "02d92d53"
   },
   "source": [
    "### Удаление пропусков"
   ]
  },
  {
   "cell_type": "markdown",
   "id": "ba39333b",
   "metadata": {
    "deletable": false,
    "editable": false,
    "id": "cd84967c"
   },
   "source": [
    "**Задание 4. Выведите количество пропущенных значений для каждого столбца. Используйте комбинацию двух методов.**"
   ]
  },
  {
   "cell_type": "code",
   "execution_count": 4,
   "id": "7d657d0d",
   "metadata": {
    "deletable": false,
    "id": "7f9b2309",
    "outputId": "81f4d817-781c-465c-ed15-91ce4446810d"
   },
   "outputs": [
    {
     "data": {
      "text/plain": [
       "children               0\n",
       "days_employed       2174\n",
       "dob_years              0\n",
       "education              0\n",
       "education_id           0\n",
       "family_status          0\n",
       "family_status_id       0\n",
       "gender                 0\n",
       "income_type            0\n",
       "debt                   0\n",
       "total_income        2174\n",
       "purpose                0\n",
       "dtype: int64"
      ]
     },
     "execution_count": 4,
     "metadata": {},
     "output_type": "execute_result"
    }
   ],
   "source": [
    "data.isna().sum()"
   ]
  },
  {
   "cell_type": "markdown",
   "id": "782ef79f",
   "metadata": {
    "deletable": false,
    "editable": false,
    "id": "db86e27b"
   },
   "source": [
    "**Задание 5. В двух столбцах есть пропущенные значения. Один из них — `days_employed`. Пропуски в этом столбце вы обработаете на следующем этапе. Другой столбец с пропущенными значениями — `total_income` — хранит данные о доходах. На сумму дохода сильнее всего влияет тип занятости, поэтому заполнить пропуски в этом столбце нужно медианным значением по каждому типу из столбца `income_type`. Например, у человека с типом занятости `сотрудник` пропуск в столбце `total_income` должен быть заполнен медианным доходом среди всех записей с тем же типом.**"
   ]
  },
  {
   "cell_type": "code",
   "execution_count": 5,
   "id": "1c997974",
   "metadata": {
    "deletable": false,
    "id": "42006a93"
   },
   "outputs": [],
   "source": [
    "for t in data['income_type'].unique():\n",
    "    data.loc[(data['income_type'] == t) & (data['total_income'].isna()), 'total_income'] = \\\n",
    "    data.loc[(data['income_type'] == t), 'total_income'].median()"
   ]
  },
  {
   "cell_type": "markdown",
   "id": "ef3b9f6b",
   "metadata": {
    "deletable": false,
    "editable": false,
    "id": "89da5ece"
   },
   "source": [
    "### Обработка аномальных значений"
   ]
  },
  {
   "cell_type": "markdown",
   "id": "6ba261a7",
   "metadata": {
    "deletable": false,
    "editable": false,
    "id": "57964554"
   },
   "source": [
    "**Задание 6. В данных могут встречаться артефакты (аномалии) — значения, которые не отражают действительность и появились по какой-то ошибке. таким артефактом будет отрицательное количество дней трудового стажа в столбце `days_employed`. Для реальных данных это нормально. Обработайте значения в этом столбце: замените все отрицательные значения положительными с помощью метода `abs()`.**"
   ]
  },
  {
   "cell_type": "code",
   "execution_count": 6,
   "id": "aa030547",
   "metadata": {
    "deletable": false,
    "id": "f6f055bf"
   },
   "outputs": [],
   "source": [
    "data['days_employed'] = data['days_employed'].abs()"
   ]
  },
  {
   "cell_type": "markdown",
   "id": "f345ce1a",
   "metadata": {
    "deletable": false,
    "editable": false,
    "id": "6107dd2f"
   },
   "source": [
    "**Задание 7. Для каждого типа занятости выведите медианное значение трудового стажа `days_employed` в днях.**"
   ]
  },
  {
   "cell_type": "code",
   "execution_count": 7,
   "id": "b3d8be62",
   "metadata": {
    "deletable": false,
    "id": "85a5faf6",
    "outputId": "801ef80e-522b-4668-f34e-565af7432bcf"
   },
   "outputs": [
    {
     "data": {
      "text/plain": [
       "income_type\n",
       "безработный        366413.652744\n",
       "в декрете            3296.759962\n",
       "госслужащий          2689.368353\n",
       "компаньон            1547.382223\n",
       "пенсионер          365213.306266\n",
       "предприниматель       520.848083\n",
       "сотрудник            1574.202821\n",
       "студент               578.751554\n",
       "Name: days_employed, dtype: float64"
      ]
     },
     "execution_count": 7,
     "metadata": {},
     "output_type": "execute_result"
    }
   ],
   "source": [
    "data.groupby('income_type')['days_employed'].agg('median')"
   ]
  },
  {
   "cell_type": "markdown",
   "id": "918c1183",
   "metadata": {
    "deletable": false,
    "editable": false,
    "id": "38d1a030"
   },
   "source": [
    "У двух типов (безработные и пенсионеры) получатся аномально большие значения. Исправить такие значения сложно, поэтому оставьте их как есть. Тем более этот столбец не понадобится вам для исследования."
   ]
  },
  {
   "cell_type": "markdown",
   "id": "d4d520d4",
   "metadata": {
    "deletable": false,
    "editable": false,
    "id": "d8a9f147"
   },
   "source": [
    "**Задание 8. Выведите перечень уникальных значений столбца `children`.**"
   ]
  },
  {
   "cell_type": "code",
   "execution_count": 8,
   "id": "7bc1d90c",
   "metadata": {
    "deletable": false,
    "id": "ef5056eb",
    "outputId": "6975b15c-7f95-4697-d16d-a0c79b657b03"
   },
   "outputs": [
    {
     "data": {
      "text/plain": [
       "array([ 1,  0,  3,  2, -1,  4, 20,  5], dtype=int64)"
      ]
     },
     "execution_count": 8,
     "metadata": {},
     "output_type": "execute_result"
    }
   ],
   "source": [
    "data['children'].unique()"
   ]
  },
  {
   "cell_type": "markdown",
   "id": "44dd8e9f",
   "metadata": {
    "deletable": false,
    "editable": false,
    "id": "40b9ebf2"
   },
   "source": [
    "**Задание 9. В столбце `children` есть два аномальных значения. Удалите строки, в которых встречаются такие аномальные значения из датафрейма `data`.**"
   ]
  },
  {
   "cell_type": "code",
   "execution_count": 9,
   "id": "b67dc1c6",
   "metadata": {
    "deletable": false,
    "id": "3ff9801d"
   },
   "outputs": [],
   "source": [
    "data = data[(data['children'] != -1) & (data['children'] != 20)]"
   ]
  },
  {
   "cell_type": "markdown",
   "id": "bcc62a7c",
   "metadata": {
    "deletable": false,
    "editable": false,
    "id": "bbc4d0ce"
   },
   "source": [
    "**Задание 10. Ещё раз выведите перечень уникальных значений столбца `children`, чтобы убедиться, что артефакты удалены.**"
   ]
  },
  {
   "cell_type": "code",
   "execution_count": 10,
   "id": "cccc4ed3",
   "metadata": {
    "deletable": false,
    "id": "ad4fa8b7",
    "outputId": "b2097101-d49d-44d9-901b-32a65c9463d1"
   },
   "outputs": [
    {
     "data": {
      "text/plain": [
       "array([1, 0, 3, 2, 4, 5], dtype=int64)"
      ]
     },
     "execution_count": 10,
     "metadata": {},
     "output_type": "execute_result"
    }
   ],
   "source": [
    "data['children'].unique()"
   ]
  },
  {
   "cell_type": "markdown",
   "id": "ad662bc3",
   "metadata": {
    "deletable": false,
    "editable": false,
    "id": "75440b63"
   },
   "source": [
    "### Удаление пропусков (продолжение)"
   ]
  },
  {
   "cell_type": "markdown",
   "id": "71cd4f6d",
   "metadata": {
    "deletable": false,
    "editable": false,
    "id": "f4ea573f"
   },
   "source": [
    "**Задание 11. Заполните пропуски в столбце `days_employed` медианными значениями по каждого типа занятости `income_type`.**"
   ]
  },
  {
   "cell_type": "code",
   "execution_count": 11,
   "id": "dea4f514",
   "metadata": {
    "deletable": false,
    "id": "af6b1a7e"
   },
   "outputs": [],
   "source": [
    "for t in data['income_type'].unique():\n",
    "    data.loc[(data['income_type'] == t) & (data['days_employed'].isna()), 'days_employed'] = \\\n",
    "    data.loc[(data['income_type'] == t), 'days_employed'].median()"
   ]
  },
  {
   "cell_type": "markdown",
   "id": "ae8a248b",
   "metadata": {
    "deletable": false,
    "editable": false,
    "id": "2753f40d"
   },
   "source": [
    "**Задание 12. Убедитесь, что все пропуски заполнены. Проверьте себя и ещё раз выведите количество пропущенных значений для каждого столбца с помощью двух методов.**"
   ]
  },
  {
   "cell_type": "code",
   "execution_count": 12,
   "id": "34e9cfb0",
   "metadata": {
    "deletable": false,
    "id": "55f78bc2",
    "outputId": "8da1e4e1-358e-4e87-98c9-f261bce0a7b2"
   },
   "outputs": [
    {
     "data": {
      "text/plain": [
       "children            0\n",
       "days_employed       0\n",
       "dob_years           0\n",
       "education           0\n",
       "education_id        0\n",
       "family_status       0\n",
       "family_status_id    0\n",
       "gender              0\n",
       "income_type         0\n",
       "debt                0\n",
       "total_income        0\n",
       "purpose             0\n",
       "dtype: int64"
      ]
     },
     "execution_count": 12,
     "metadata": {},
     "output_type": "execute_result"
    }
   ],
   "source": [
    "data.isna().sum()"
   ]
  },
  {
   "cell_type": "markdown",
   "id": "0c3dd53b",
   "metadata": {
    "deletable": false,
    "editable": false,
    "id": "ddc81e43"
   },
   "source": [
    "### Изменение типов данных"
   ]
  },
  {
   "cell_type": "markdown",
   "id": "256ab9f6",
   "metadata": {
    "deletable": false,
    "editable": false,
    "id": "42d19d24"
   },
   "source": [
    "**Задание 13. Замените вещественный тип данных в столбце `total_income` на целочисленный с помощью метода `astype()`.**"
   ]
  },
  {
   "cell_type": "code",
   "execution_count": 13,
   "id": "04a9e198",
   "metadata": {
    "deletable": false,
    "id": "920b65ad"
   },
   "outputs": [],
   "source": [
    "data['total_income'] = data['total_income'].astype(int)"
   ]
  },
  {
   "cell_type": "markdown",
   "id": "06d1fa39",
   "metadata": {
    "deletable": false,
    "editable": false,
    "id": "80c420ba"
   },
   "source": [
    "### Обработка дубликатов"
   ]
  },
  {
   "cell_type": "markdown",
   "id": "2e3446a4",
   "metadata": {
    "deletable": false,
    "editable": false
   },
   "source": [
    "**Задание 14. Обработайте неявные дубликаты в столбце `education`. В этом столбце есть одни и те же значения, но записанные по-разному: с использованием заглавных и строчных букв. Приведите их к нижнему регистру. Проверьте остальные столбцы.**"
   ]
  },
  {
   "cell_type": "code",
   "execution_count": 14,
   "id": "d58b46eb",
   "metadata": {
    "deletable": false
   },
   "outputs": [],
   "source": [
    "data['education'] = data['education'].str.lower()"
   ]
  },
  {
   "cell_type": "markdown",
   "id": "e46d27ec",
   "metadata": {
    "deletable": false,
    "editable": false,
    "id": "dc587695"
   },
   "source": [
    "**Задание 15. Выведите на экран количество строк-дубликатов в данных. Если такие строки присутствуют, удалите их.**"
   ]
  },
  {
   "cell_type": "code",
   "execution_count": 15,
   "id": "8891e636",
   "metadata": {
    "deletable": false,
    "id": "3ee445e4",
    "outputId": "9684deba-1934-42d1-99e1-cda61740f822"
   },
   "outputs": [
    {
     "data": {
      "text/plain": [
       "71"
      ]
     },
     "execution_count": 15,
     "metadata": {},
     "output_type": "execute_result"
    }
   ],
   "source": [
    "data.duplicated().sum()"
   ]
  },
  {
   "cell_type": "code",
   "execution_count": 16,
   "id": "04ca26ad",
   "metadata": {
    "deletable": false,
    "id": "8575fe05"
   },
   "outputs": [],
   "source": [
    "data = data.drop_duplicates()"
   ]
  },
  {
   "cell_type": "markdown",
   "id": "8d94f36a",
   "metadata": {
    "deletable": false,
    "editable": false,
    "id": "9904cf55"
   },
   "source": [
    "### Категоризация данных"
   ]
  },
  {
   "cell_type": "markdown",
   "id": "3552301a",
   "metadata": {
    "deletable": false,
    "editable": false,
    "id": "72fcc8a2"
   },
   "source": [
    "**Задание 16. На основании диапазонов, указанных ниже, создайте в датафрейме `data` столбец `total_income_category` с категориями:**\n",
    "\n",
    "- 0–30000 — `'E'`;\n",
    "- 30001–50000 — `'D'`;\n",
    "- 50001–200000 — `'C'`;\n",
    "- 200001–1000000 — `'B'`;\n",
    "- 1000001 и выше — `'A'`.\n",
    "\n",
    "\n",
    "**Например, кредитополучателю с доходом 25000 нужно назначить категорию `'E'`, а клиенту, получающему 235000, — `'B'`. Используйте собственную функцию с именем `categorize_income()` и метод `apply()`.**"
   ]
  },
  {
   "cell_type": "code",
   "execution_count": 17,
   "id": "51369344",
   "metadata": {
    "deletable": false,
    "id": "e1771346"
   },
   "outputs": [],
   "source": [
    "def categorize_income(income):\n",
    "    try:\n",
    "        if 0 <= income <= 30000:\n",
    "            return 'E'\n",
    "        elif 30001 <= income <= 50000:\n",
    "            return 'D'\n",
    "        elif 50001 <= income <= 200000:\n",
    "            return 'C'\n",
    "        elif 200001 <= income <= 1000000:\n",
    "            return 'B'\n",
    "        elif income >= 1000001:\n",
    "            return 'A'\n",
    "    except:\n",
    "        pass"
   ]
  },
  {
   "cell_type": "code",
   "execution_count": 18,
   "id": "08c7e3d0",
   "metadata": {
    "deletable": false,
    "id": "d5f3586d"
   },
   "outputs": [],
   "source": [
    "data['total_income_category'] = data['total_income'].apply(categorize_income)"
   ]
  },
  {
   "cell_type": "markdown",
   "id": "82468291",
   "metadata": {
    "deletable": false,
    "editable": false,
    "id": "dde49b5c"
   },
   "source": [
    "**Задание 17. Выведите на экран перечень уникальных целей взятия кредита из столбца `purpose`.**"
   ]
  },
  {
   "cell_type": "code",
   "execution_count": 45,
   "id": "5acdc7af",
   "metadata": {
    "deletable": false,
    "id": "f67ce9b3",
    "outputId": "673c12d9-7d7e-4ae0-9812-c622c89dd244"
   },
   "outputs": [
    {
     "name": "stdout",
     "output_type": "stream",
     "text": [
      "операции с жильем, покупка недвижимости, операции со своей недвижимостью, жилье, операции с недвижимостью, заняться высшим образованием, сделка с подержанным автомобилем, на проведение свадьбы, на покупку своего автомобиля, покупка жилой недвижимости, покупка коммерческой недвижимости, строительство собственной недвижимости, строительство недвижимости, ремонт жилью, покупка жилья для сдачи, покупка жилья, операции с коммерческой недвижимостью, строительство жилой недвижимости, покупка жилья для семьи, покупка своего жилья, недвижимость, образование, профильное образование, приобретение автомобиля, на покупку подержанного автомобиля, на покупку автомобиля, автомобиль, получение дополнительного образования, получение образования, дополнительное образование, свой автомобиль, высшее образование, заняться образованием, получение высшего образования, сделка с автомобилем, автомобили, свадьба, сыграть свадьбу\n"
     ]
    }
   ],
   "source": [
    "print(*data['purpose'].unique(), sep=', ')"
   ]
  },
  {
   "cell_type": "markdown",
   "id": "92454094",
   "metadata": {
    "deletable": false,
    "editable": false,
    "id": "85d0aef0"
   },
   "source": [
    "**Задание 18. Создайте функцию, которая на основании данных из столбца `purpose` сформирует новый столбец `purpose_category`, в который войдут следующие категории:**\n",
    "\n",
    "- `'операции с автомобилем'`,\n",
    "- `'операции с недвижимостью'`,\n",
    "- `'проведение свадьбы'`,\n",
    "- `'получение образования'`.\n",
    "\n",
    "**Например, если в столбце `purpose` находится подстрока `'на покупку автомобиля'`, то в столбце `purpose_category` должна появиться строка `'операции с автомобилем'`.**\n",
    "\n",
    "**Используйте собственную функцию с именем `categorize_purpose()` и метод `apply()`. Изучите данные в столбце `purpose` и определите, какие подстроки помогут вам правильно определить категорию.**"
   ]
  },
  {
   "cell_type": "code",
   "execution_count": 20,
   "id": "b668a89e",
   "metadata": {
    "deletable": false,
    "id": "e149fab4"
   },
   "outputs": [],
   "source": [
    "def categorize_purpose(row):\n",
    "    try:\n",
    "        if 'автом' in row:\n",
    "            return 'операции с автомобилем'\n",
    "        elif 'жил' in row or 'недвиж' in row:\n",
    "            return 'операции с недвижимостью'\n",
    "        elif 'свад' in row:\n",
    "            return 'проведение свадьбы'\n",
    "        elif 'образов' in row:\n",
    "            return 'получение образования'\n",
    "    except:\n",
    "        return 'нет категории'"
   ]
  },
  {
   "cell_type": "code",
   "execution_count": 21,
   "id": "09332052",
   "metadata": {
    "deletable": false,
    "id": "bf36e69b"
   },
   "outputs": [],
   "source": [
    "data['purpose_category'] = data['purpose'].apply(categorize_purpose)"
   ]
  },
  {
   "cell_type": "markdown",
   "id": "c4520e64",
   "metadata": {
    "deletable": false,
    "editable": false,
    "id": "09b242bf"
   },
   "source": [
    "### Шаг 3. Исследуйте данные и ответьте на вопросы"
   ]
  },
  {
   "cell_type": "markdown",
   "id": "8e46d8f2",
   "metadata": {
    "deletable": false,
    "editable": false,
    "id": "c5d66278"
   },
   "source": [
    "#### 3.1 Есть ли зависимость между количеством детей и возвратом кредита в срок?"
   ]
  },
  {
   "cell_type": "markdown",
   "id": "85b03776",
   "metadata": {},
   "source": [
    "Так как вопросы заданий однотипен, имеет смысл составить функцию, возвращающую удобный для анализа датафрейм:\n"
   ]
  },
  {
   "cell_type": "code",
   "execution_count": 22,
   "id": "fbe77b1a",
   "metadata": {
    "deletable": false,
    "id": "2cacfc4a",
    "scrolled": true
   },
   "outputs": [],
   "source": [
    "def debtors_share(col):\n",
    "    data_debt = pd.pivot_table(data, values=['debt'], index=col)\n",
    "    data_debt['debt'] = data_debt['debt'] * 100\n",
    "    data_debt.insert(0, col, data_debt.index)\n",
    "    data_debt.insert(1, 'all_debtors', data[col].value_counts())\n",
    "    data_debt.insert(2, 'in_debt', data.groupby(col)['debt'].sum())\n",
    "    data_debt = data_debt.reset_index(drop=True)\n",
    "    return(data_debt)"
   ]
  },
  {
   "cell_type": "markdown",
   "id": "ad9aea02",
   "metadata": {},
   "source": [
    "Применим функцию для столбца 'children':"
   ]
  },
  {
   "cell_type": "code",
   "execution_count": 46,
   "id": "f7f15feb",
   "metadata": {},
   "outputs": [
    {
     "data": {
      "text/html": [
       "<style type=\"text/css\">\n",
       "</style>\n",
       "<table id=\"T_18239\">\n",
       "  <thead>\n",
       "    <tr>\n",
       "      <th id=\"T_18239_level0_col0\" class=\"col_heading level0 col0\" >children</th>\n",
       "      <th id=\"T_18239_level0_col1\" class=\"col_heading level0 col1\" >all_debtors</th>\n",
       "      <th id=\"T_18239_level0_col2\" class=\"col_heading level0 col2\" >in_debt</th>\n",
       "      <th id=\"T_18239_level0_col3\" class=\"col_heading level0 col3\" >debt</th>\n",
       "    </tr>\n",
       "  </thead>\n",
       "  <tbody>\n",
       "    <tr>\n",
       "      <td id=\"T_18239_row0_col0\" class=\"data row0 col0\" >0</td>\n",
       "      <td id=\"T_18239_row0_col1\" class=\"data row0 col1\" >14091</td>\n",
       "      <td id=\"T_18239_row0_col2\" class=\"data row0 col2\" >1063</td>\n",
       "      <td id=\"T_18239_row0_col3\" class=\"data row0 col3\" >7.54%</td>\n",
       "    </tr>\n",
       "    <tr>\n",
       "      <td id=\"T_18239_row1_col0\" class=\"data row1 col0\" >1</td>\n",
       "      <td id=\"T_18239_row1_col1\" class=\"data row1 col1\" >4808</td>\n",
       "      <td id=\"T_18239_row1_col2\" class=\"data row1 col2\" >444</td>\n",
       "      <td id=\"T_18239_row1_col3\" class=\"data row1 col3\" >9.23%</td>\n",
       "    </tr>\n",
       "    <tr>\n",
       "      <td id=\"T_18239_row2_col0\" class=\"data row2 col0\" >2</td>\n",
       "      <td id=\"T_18239_row2_col1\" class=\"data row2 col1\" >2052</td>\n",
       "      <td id=\"T_18239_row2_col2\" class=\"data row2 col2\" >194</td>\n",
       "      <td id=\"T_18239_row2_col3\" class=\"data row2 col3\" >9.45%</td>\n",
       "    </tr>\n",
       "    <tr>\n",
       "      <td id=\"T_18239_row3_col0\" class=\"data row3 col0\" >3</td>\n",
       "      <td id=\"T_18239_row3_col1\" class=\"data row3 col1\" >330</td>\n",
       "      <td id=\"T_18239_row3_col2\" class=\"data row3 col2\" >27</td>\n",
       "      <td id=\"T_18239_row3_col3\" class=\"data row3 col3\" >8.18%</td>\n",
       "    </tr>\n",
       "    <tr>\n",
       "      <td id=\"T_18239_row4_col0\" class=\"data row4 col0\" >4</td>\n",
       "      <td id=\"T_18239_row4_col1\" class=\"data row4 col1\" >41</td>\n",
       "      <td id=\"T_18239_row4_col2\" class=\"data row4 col2\" >4</td>\n",
       "      <td id=\"T_18239_row4_col3\" class=\"data row4 col3\" >9.76%</td>\n",
       "    </tr>\n",
       "    <tr>\n",
       "      <td id=\"T_18239_row5_col0\" class=\"data row5 col0\" >5</td>\n",
       "      <td id=\"T_18239_row5_col1\" class=\"data row5 col1\" >9</td>\n",
       "      <td id=\"T_18239_row5_col2\" class=\"data row5 col2\" >0</td>\n",
       "      <td id=\"T_18239_row5_col3\" class=\"data row5 col3\" >0.00%</td>\n",
       "    </tr>\n",
       "  </tbody>\n",
       "</table>\n"
      ],
      "text/plain": [
       "<pandas.io.formats.style.Styler at 0x21b84082790>"
      ]
     },
     "execution_count": 46,
     "metadata": {},
     "output_type": "execute_result"
    }
   ],
   "source": [
    "debt_children = debtors_share('children')\n",
    "\n",
    "(debt_children\n",
    ".style\n",
    ".format({'debt': '{:.2f}%'})\n",
    ".hide_index()\n",
    ")"
   ]
  },
  {
   "cell_type": "markdown",
   "id": "ab539ac5",
   "metadata": {},
   "source": [
    "Можно заметить, что заёмщиков с 5 детьми доволно мало, и все они выплатили кредит в срок. Чтобы показать, что эта категория статистически не значима, посчитаем разницу средних арифметических взвешенных и построим диаграмму размах:"
   ]
  },
  {
   "cell_type": "code",
   "execution_count": 47,
   "id": "bf842aec",
   "metadata": {
    "scrolled": true
   },
   "outputs": [
    {
     "name": "stdout",
     "output_type": "stream",
     "text": [
      "Разница между значениями составляет: 0.0004%\n"
     ]
    }
   ],
   "source": [
    "weighted_average = np.average(\n",
    "    a=debt_children['debt'], weights=debt_children['all_debtors'])\n",
    "weighted_average_new = np.average(\n",
    "    a=debt_children['debt'].drop(index = 5),\n",
    "    weights=debt_children['all_debtors'].drop(index = 5))\n",
    "\n",
    "weights_ratio = weighted_average_new / weighted_average - 1\n",
    "print('Разница между значениями составляет: {:.4f}%'.format(weights_ratio))"
   ]
  },
  {
   "cell_type": "markdown",
   "id": "4a829f7d",
   "metadata": {},
   "source": [
    "Удалим последнюю строку датафрейма:"
   ]
  },
  {
   "cell_type": "code",
   "execution_count": 26,
   "id": "03af923b",
   "metadata": {},
   "outputs": [],
   "source": [
    "debt_children = debt_children.drop(index = 5)"
   ]
  },
  {
   "cell_type": "markdown",
   "id": "beb2232d",
   "metadata": {},
   "source": [
    "Теперь построим точечный график:"
   ]
  },
  {
   "cell_type": "code",
   "execution_count": 62,
   "id": "1d24c947",
   "metadata": {
    "scrolled": false
   },
   "outputs": [
    {
     "data": {
      "image/png": "[encoded data removed]",
      "text/plain": [
       "<Figure size 900x600 with 1 Axes>"
      ]
     },
     "metadata": {},
     "output_type": "display_data"
    }
   ],
   "source": [
    "sns.set_context(\"notebook\")\n",
    "plt.figure(figsize=(9, 6))\n",
    "sns.scatterplot(data=debt_children, x=\"children\", y=\"debt\", s=90)\n",
    "plt.gca().set(xlim=(-0.3, 4.3), ylim=(5, 11),\n",
    "              xlabel='Количество детей', \n",
    "              ylabel='Процент просроченных кредитов')\n",
    "\n",
    "plt.title('Количество детей и возврат кредита в срок')\n",
    "plt.show() "
   ]
  },
  {
   "cell_type": "markdown",
   "id": "bbae82d6",
   "metadata": {
    "deletable": false,
    "id": "3a6b99ec"
   },
   "source": [
    "**Вывод:** Из графика можно заметить, что процент невыплаченных в срок кредитов очень слабо увеличивается с повышением количества детей у заемщика, следовательно, зависимость есть. Только в случае с тремя детьми процент меньше, чем у соседних значений, но все еще больше, чем у заемщиков без детей. Возможно, играет роль внешний фактор- например, субсидирование многодетных детей государством. Возможно, стоит запросить дополнительную информацию и провести дополнительный анализ."
   ]
  },
  {
   "cell_type": "markdown",
   "id": "34a9a430",
   "metadata": {
    "deletable": false,
    "editable": false,
    "id": "97be82ca"
   },
   "source": [
    "#### 3.2 Есть ли зависимость между семейным положением и возвратом кредита в срок?"
   ]
  },
  {
   "cell_type": "markdown",
   "id": "a625caf5",
   "metadata": {},
   "source": [
    "Применим функцию для столбца 'children':"
   ]
  },
  {
   "cell_type": "code",
   "execution_count": 28,
   "id": "391be4f0",
   "metadata": {
    "deletable": false,
    "id": "dc3f7ee8",
    "scrolled": false
   },
   "outputs": [
    {
     "data": {
      "text/html": [
       "<style type=\"text/css\">\n",
       "</style>\n",
       "<table id=\"T_5df0f\">\n",
       "  <thead>\n",
       "    <tr>\n",
       "      <th id=\"T_5df0f_level0_col0\" class=\"col_heading level0 col0\" >family_status</th>\n",
       "      <th id=\"T_5df0f_level0_col1\" class=\"col_heading level0 col1\" >all_debtors</th>\n",
       "      <th id=\"T_5df0f_level0_col2\" class=\"col_heading level0 col2\" >in_debt</th>\n",
       "      <th id=\"T_5df0f_level0_col3\" class=\"col_heading level0 col3\" >debt</th>\n",
       "    </tr>\n",
       "  </thead>\n",
       "  <tbody>\n",
       "    <tr>\n",
       "      <td id=\"T_5df0f_row0_col0\" class=\"data row0 col0\" >Не женат / не замужем</td>\n",
       "      <td id=\"T_5df0f_row0_col1\" class=\"data row0 col1\" >2796</td>\n",
       "      <td id=\"T_5df0f_row0_col2\" class=\"data row0 col2\" >273</td>\n",
       "      <td id=\"T_5df0f_row0_col3\" class=\"data row0 col3\" >9.76%</td>\n",
       "    </tr>\n",
       "    <tr>\n",
       "      <td id=\"T_5df0f_row1_col0\" class=\"data row1 col0\" >в разводе</td>\n",
       "      <td id=\"T_5df0f_row1_col1\" class=\"data row1 col1\" >1189</td>\n",
       "      <td id=\"T_5df0f_row1_col2\" class=\"data row1 col2\" >84</td>\n",
       "      <td id=\"T_5df0f_row1_col3\" class=\"data row1 col3\" >7.06%</td>\n",
       "    </tr>\n",
       "    <tr>\n",
       "      <td id=\"T_5df0f_row2_col0\" class=\"data row2 col0\" >вдовец / вдова</td>\n",
       "      <td id=\"T_5df0f_row2_col1\" class=\"data row2 col1\" >951</td>\n",
       "      <td id=\"T_5df0f_row2_col2\" class=\"data row2 col2\" >63</td>\n",
       "      <td id=\"T_5df0f_row2_col3\" class=\"data row2 col3\" >6.62%</td>\n",
       "    </tr>\n",
       "    <tr>\n",
       "      <td id=\"T_5df0f_row3_col0\" class=\"data row3 col0\" >гражданский брак</td>\n",
       "      <td id=\"T_5df0f_row3_col1\" class=\"data row3 col1\" >4134</td>\n",
       "      <td id=\"T_5df0f_row3_col2\" class=\"data row3 col2\" >385</td>\n",
       "      <td id=\"T_5df0f_row3_col3\" class=\"data row3 col3\" >9.31%</td>\n",
       "    </tr>\n",
       "    <tr>\n",
       "      <td id=\"T_5df0f_row4_col0\" class=\"data row4 col0\" >женат / замужем</td>\n",
       "      <td id=\"T_5df0f_row4_col1\" class=\"data row4 col1\" >12261</td>\n",
       "      <td id=\"T_5df0f_row4_col2\" class=\"data row4 col2\" >927</td>\n",
       "      <td id=\"T_5df0f_row4_col3\" class=\"data row4 col3\" >7.56%</td>\n",
       "    </tr>\n",
       "  </tbody>\n",
       "</table>\n"
      ],
      "text/plain": [
       "<pandas.io.formats.style.Styler at 0x21b8396fc40>"
      ]
     },
     "execution_count": 28,
     "metadata": {},
     "output_type": "execute_result"
    }
   ],
   "source": [
    "debt_family = debtors_share('family_status')\n",
    "(debt_family\n",
    ".style\n",
    ".format({'debt': '{:.2f}%'})\n",
    ".hide_index()\n",
    ")"
   ]
  },
  {
   "cell_type": "markdown",
   "id": "e0ea2987",
   "metadata": {},
   "source": [
    "Узнаем среднее значение доли невыплаченных кредитов:"
   ]
  },
  {
   "cell_type": "code",
   "execution_count": 29,
   "id": "4bd7f713",
   "metadata": {},
   "outputs": [
    {
     "name": "stdout",
     "output_type": "stream",
     "text": [
      "Среднее значение составляет: 8.07%\n"
     ]
    }
   ],
   "source": [
    "mean_family = debt_family['debt'].mean()\n",
    "print('Среднее значение составляет: {:.2f}%'\n",
    "      .format(mean_family))"
   ]
  },
  {
   "cell_type": "markdown",
   "id": "d296f371",
   "metadata": {},
   "source": [
    "Для наглядности, построим гистограмму:"
   ]
  },
  {
   "cell_type": "code",
   "execution_count": 61,
   "id": "e04a19ff",
   "metadata": {},
   "outputs": [
    {
     "data": {
      "image/png": "[encoded data removed]",
      "text/plain": [
       "<Figure size 1600x600 with 1 Axes>"
      ]
     },
     "metadata": {},
     "output_type": "display_data"
    }
   ],
   "source": [
    "sns.set_context(\"notebook\", font_scale=1.3)\n",
    "\n",
    "plt.figure(figsize=(16, 6))\n",
    "\n",
    "sns.barplot(data=debt_family, x= 'family_status', y = 'debt',\n",
    "            linewidth=2, edgecolor=\".2\",\n",
    "            order=debt_family.sort_values('debt')['family_status']).axhline(\n",
    "            mean_family, ls = '--', color='0')\n",
    "\n",
    "plt.gca().set(ylim=(0, 11),\n",
    "              xlabel='Cемейное положение', \n",
    "              ylabel='Процент просроченных кредитов')\n",
    "\n",
    "plt.title('Семейное положение и возврат кредита в срок')\n",
    "plt.show()"
   ]
  },
  {
   "cell_type": "markdown",
   "id": "1acd691e",
   "metadata": {
    "deletable": false,
    "id": "1cef7837"
   },
   "source": [
    "**Вывод:** Как видно из гистограммы, неженатые (незамужние) заемщики и заемщики в гражданском браке имеют просрочку по кредиту  чаще, чем остальные категории (хотя заемщики в браки и отличаются от среднего значения всего на 51 пункт). Заемщики в разводе и вдовцы (вдовы) отличаются уже больше, чем в 1% от среднего значения. Зависимость от категории присутствует."
   ]
  },
  {
   "cell_type": "markdown",
   "id": "2986a015",
   "metadata": {
    "deletable": false,
    "editable": false,
    "id": "1e8b2fca"
   },
   "source": [
    "#### 3.3 Есть ли зависимость между уровнем дохода и возвратом кредита в срок?"
   ]
  },
  {
   "cell_type": "markdown",
   "id": "f6a59662",
   "metadata": {},
   "source": [
    "Применим функцию для столбца 'total_income_category':"
   ]
  },
  {
   "cell_type": "code",
   "execution_count": 52,
   "id": "51797538",
   "metadata": {
    "deletable": false,
    "id": "cd7e3720"
   },
   "outputs": [
    {
     "data": {
      "text/html": [
       "<style type=\"text/css\">\n",
       "</style>\n",
       "<table id=\"T_0f6d7\">\n",
       "  <thead>\n",
       "    <tr>\n",
       "      <th id=\"T_0f6d7_level0_col0\" class=\"col_heading level0 col0\" >total_income_category</th>\n",
       "      <th id=\"T_0f6d7_level0_col1\" class=\"col_heading level0 col1\" >all_debtors</th>\n",
       "      <th id=\"T_0f6d7_level0_col2\" class=\"col_heading level0 col2\" >in_debt</th>\n",
       "      <th id=\"T_0f6d7_level0_col3\" class=\"col_heading level0 col3\" >debt</th>\n",
       "    </tr>\n",
       "  </thead>\n",
       "  <tbody>\n",
       "    <tr>\n",
       "      <td id=\"T_0f6d7_row0_col0\" class=\"data row0 col0\" >A</td>\n",
       "      <td id=\"T_0f6d7_row0_col1\" class=\"data row0 col1\" >25</td>\n",
       "      <td id=\"T_0f6d7_row0_col2\" class=\"data row0 col2\" >2</td>\n",
       "      <td id=\"T_0f6d7_row0_col3\" class=\"data row0 col3\" >8.00%</td>\n",
       "    </tr>\n",
       "    <tr>\n",
       "      <td id=\"T_0f6d7_row1_col0\" class=\"data row1 col0\" >B</td>\n",
       "      <td id=\"T_0f6d7_row1_col1\" class=\"data row1 col1\" >5014</td>\n",
       "      <td id=\"T_0f6d7_row1_col2\" class=\"data row1 col2\" >354</td>\n",
       "      <td id=\"T_0f6d7_row1_col3\" class=\"data row1 col3\" >7.06%</td>\n",
       "    </tr>\n",
       "    <tr>\n",
       "      <td id=\"T_0f6d7_row2_col0\" class=\"data row2 col0\" >C</td>\n",
       "      <td id=\"T_0f6d7_row2_col1\" class=\"data row2 col1\" >15921</td>\n",
       "      <td id=\"T_0f6d7_row2_col2\" class=\"data row2 col2\" >1353</td>\n",
       "      <td id=\"T_0f6d7_row2_col3\" class=\"data row2 col3\" >8.50%</td>\n",
       "    </tr>\n",
       "    <tr>\n",
       "      <td id=\"T_0f6d7_row3_col0\" class=\"data row3 col0\" >D</td>\n",
       "      <td id=\"T_0f6d7_row3_col1\" class=\"data row3 col1\" >349</td>\n",
       "      <td id=\"T_0f6d7_row3_col2\" class=\"data row3 col2\" >21</td>\n",
       "      <td id=\"T_0f6d7_row3_col3\" class=\"data row3 col3\" >6.02%</td>\n",
       "    </tr>\n",
       "    <tr>\n",
       "      <td id=\"T_0f6d7_row4_col0\" class=\"data row4 col0\" >E</td>\n",
       "      <td id=\"T_0f6d7_row4_col1\" class=\"data row4 col1\" >22</td>\n",
       "      <td id=\"T_0f6d7_row4_col2\" class=\"data row4 col2\" >2</td>\n",
       "      <td id=\"T_0f6d7_row4_col3\" class=\"data row4 col3\" >9.09%</td>\n",
       "    </tr>\n",
       "  </tbody>\n",
       "</table>\n"
      ],
      "text/plain": [
       "<pandas.io.formats.style.Styler at 0x21b84173a90>"
      ]
     },
     "execution_count": 52,
     "metadata": {},
     "output_type": "execute_result"
    }
   ],
   "source": [
    "debt_income = debtors_share('total_income_category')\n",
    "pd.set_option('display.max_colwidth', 1)\n",
    "(debt_income\n",
    ".style\n",
    ".format({'debt': '{:.2f}%'})\n",
    ".hide_index()\n",
    ")"
   ]
  },
  {
   "cell_type": "markdown",
   "id": "894aafe2",
   "metadata": {},
   "source": [
    "Узнаем среднее значение доли невыплаченных кредитов:"
   ]
  },
  {
   "cell_type": "code",
   "execution_count": 32,
   "id": "f12eb87c",
   "metadata": {},
   "outputs": [
    {
     "name": "stdout",
     "output_type": "stream",
     "text": [
      "Среднее значение составляет: 7.73%\n"
     ]
    }
   ],
   "source": [
    "mean_income = debt_income['debt'].mean()\n",
    "print('Среднее значение составляет: {:.2f}%'.format(mean_income))"
   ]
  },
  {
   "cell_type": "code",
   "execution_count": 60,
   "id": "2ddfcc8d",
   "metadata": {
    "scrolled": false
   },
   "outputs": [
    {
     "data": {
      "image/png": "[encoded data removed]",
      "text/plain": [
       "<Figure size 1400x600 with 1 Axes>"
      ]
     },
     "metadata": {},
     "output_type": "display_data"
    }
   ],
   "source": [
    "sns.set_context(\"notebook\", font_scale=1.3)\n",
    "\n",
    "plt.figure(figsize=(14, 6))\n",
    "\n",
    "sns.barplot(data=debt_income, x='total_income_category', y=\"debt\",\n",
    "            linewidth=2, edgecolor=\".2\",\n",
    "            order=debt_income.sort_values('debt')['total_income_category']).axhline(\n",
    "            mean_income, ls = '--', color='0')\n",
    "\n",
    "plt.gca().set(ylim=(0, 11),\n",
    "              xlabel='Категория дохода', \n",
    "              ylabel='Процент просроченных кредитов')\n",
    "\n",
    "plt.title('Категория дохода и возврат кредита в срок')\n",
    "plt.show()"
   ]
  },
  {
   "cell_type": "markdown",
   "id": "53c35bca",
   "metadata": {},
   "source": [
    "Как видно из гистограммы, категории A, C и E не выплачивают кредит чаще среднего, тогда как категории D и B выплачивают кредит без задержек чаще (причем заемщики из категории D отличаются от среднего значения почти на 2%)"
   ]
  },
  {
   "cell_type": "markdown",
   "id": "79758b7e",
   "metadata": {},
   "source": [
    "Диапазоны являются категориальной величиной, как и факт просрочки по кредиту. Проверим зависимость между доходом как таковым и процентом просроченных кредитов. Для этого разобьем доход на субкатегории, близкие по значениям дохода, и проверим связь на графике:"
   ]
  },
  {
   "cell_type": "code",
   "execution_count": 54,
   "id": "4bce92da",
   "metadata": {
    "scrolled": true
   },
   "outputs": [],
   "source": [
    "data['sub_category'] = pd.qcut(data['total_income']\\\n",
    "                               .rank(method='first'), 100, labels=False)\n",
    "debt_sub = debtors_share('sub_category')"
   ]
  },
  {
   "cell_type": "code",
   "execution_count": 59,
   "id": "a349e257",
   "metadata": {
    "scrolled": false
   },
   "outputs": [
    {
     "data": {
      "image/png": "[encoded data removed]",
      "text/plain": [
       "<Figure size 700x500 with 1 Axes>"
      ]
     },
     "metadata": {},
     "output_type": "display_data"
    }
   ],
   "source": [
    "sns.set_context(\"notebook\")\n",
    "\n",
    "plt.figure(figsize=(7, 5))\n",
    "\n",
    "sns.scatterplot(data=debt_sub, x=\"sub_category\", y=\"debt\", s=10)\n",
    "\n",
    "\n",
    "plt.gca().set(xlim=(0, 99), ylim=(0, 15),\n",
    "              xlabel='Количество детей', \n",
    "              ylabel='Процент просроченных кредитов')\n",
    "sns.regplot(x=debt_sub['sub_category'], \n",
    "            y=debt_sub[\"debt\"], fit_reg=True, order=1)\n",
    "\n",
    "plt.title('Множество субкатегорий и возврат кредита в срок')\n",
    "plt.show()"
   ]
  },
  {
   "cell_type": "markdown",
   "id": "446404ba",
   "metadata": {},
   "source": [
    "Из точечного графика видно, что субкатегории и процент просроченных кредитов независимы."
   ]
  },
  {
   "cell_type": "markdown",
   "id": "10c6993b",
   "metadata": {
    "deletable": false,
    "id": "e8593def"
   },
   "source": [
    "**Вывод:** Между самим доходом и возратом кредита в срок связи нет. Проанализировав ранее установленные категории дохода, было выяснено, от установленных категорий зависимость есть, и что категории D и B возвращают кредит чаще среднего."
   ]
  },
  {
   "cell_type": "markdown",
   "id": "0e37dc32",
   "metadata": {
    "deletable": false,
    "editable": false,
    "id": "99ecbd1f"
   },
   "source": [
    "#### 3.4 Как разные цели кредита влияют на его возврат в срок?"
   ]
  },
  {
   "cell_type": "markdown",
   "id": "8c82a3ec",
   "metadata": {},
   "source": [
    "Применим функцию для столбца 'purpose_category':"
   ]
  },
  {
   "cell_type": "code",
   "execution_count": 36,
   "id": "5220e901",
   "metadata": {
    "deletable": false,
    "id": "2b687290"
   },
   "outputs": [
    {
     "data": {
      "text/html": [
       "<style type=\"text/css\">\n",
       "</style>\n",
       "<table id=\"T_0d271\">\n",
       "  <thead>\n",
       "    <tr>\n",
       "      <th id=\"T_0d271_level0_col0\" class=\"col_heading level0 col0\" >purpose_category</th>\n",
       "      <th id=\"T_0d271_level0_col1\" class=\"col_heading level0 col1\" >all_debtors</th>\n",
       "      <th id=\"T_0d271_level0_col2\" class=\"col_heading level0 col2\" >in_debt</th>\n",
       "      <th id=\"T_0d271_level0_col3\" class=\"col_heading level0 col3\" >debt</th>\n",
       "    </tr>\n",
       "  </thead>\n",
       "  <tbody>\n",
       "    <tr>\n",
       "      <td id=\"T_0d271_row0_col0\" class=\"data row0 col0\" >операции с автомобилем</td>\n",
       "      <td id=\"T_0d271_row0_col1\" class=\"data row0 col1\" >4279</td>\n",
       "      <td id=\"T_0d271_row0_col2\" class=\"data row0 col2\" >400</td>\n",
       "      <td id=\"T_0d271_row0_col3\" class=\"data row0 col3\" >9.35%</td>\n",
       "    </tr>\n",
       "    <tr>\n",
       "      <td id=\"T_0d271_row1_col0\" class=\"data row1 col0\" >операции с недвижимостью</td>\n",
       "      <td id=\"T_0d271_row1_col1\" class=\"data row1 col1\" >10751</td>\n",
       "      <td id=\"T_0d271_row1_col2\" class=\"data row1 col2\" >780</td>\n",
       "      <td id=\"T_0d271_row1_col3\" class=\"data row1 col3\" >7.26%</td>\n",
       "    </tr>\n",
       "    <tr>\n",
       "      <td id=\"T_0d271_row2_col0\" class=\"data row2 col0\" >получение образования</td>\n",
       "      <td id=\"T_0d271_row2_col1\" class=\"data row2 col1\" >3988</td>\n",
       "      <td id=\"T_0d271_row2_col2\" class=\"data row2 col2\" >369</td>\n",
       "      <td id=\"T_0d271_row2_col3\" class=\"data row2 col3\" >9.25%</td>\n",
       "    </tr>\n",
       "    <tr>\n",
       "      <td id=\"T_0d271_row3_col0\" class=\"data row3 col0\" >проведение свадьбы</td>\n",
       "      <td id=\"T_0d271_row3_col1\" class=\"data row3 col1\" >2313</td>\n",
       "      <td id=\"T_0d271_row3_col2\" class=\"data row3 col2\" >183</td>\n",
       "      <td id=\"T_0d271_row3_col3\" class=\"data row3 col3\" >7.91%</td>\n",
       "    </tr>\n",
       "  </tbody>\n",
       "</table>\n"
      ],
      "text/plain": [
       "<pandas.io.formats.style.Styler at 0x21b84173a60>"
      ]
     },
     "execution_count": 36,
     "metadata": {},
     "output_type": "execute_result"
    }
   ],
   "source": [
    "debt_purpose = debtors_share('purpose_category')\n",
    "(debt_purpose\n",
    ".style\n",
    ".format({'debt': '{:.2f}%'})\n",
    ".hide_index()\n",
    ")"
   ]
  },
  {
   "cell_type": "code",
   "execution_count": 37,
   "id": "390aef60",
   "metadata": {},
   "outputs": [
    {
     "name": "stdout",
     "output_type": "stream",
     "text": [
      "Среднее значение составляет: 8.44%\n"
     ]
    }
   ],
   "source": [
    "mean_purpose = debt_purpose['debt'].mean()\n",
    "print('Среднее значение составляет: {:.2f}%'\n",
    "      .format(mean_purpose))"
   ]
  },
  {
   "cell_type": "code",
   "execution_count": 58,
   "id": "f0923c2d",
   "metadata": {},
   "outputs": [
    {
     "data": {
      "image/png": "[encoded data removed]",
      "text/plain": [
       "<Figure size 1400x600 with 1 Axes>"
      ]
     },
     "metadata": {},
     "output_type": "display_data"
    }
   ],
   "source": [
    "sns.set_context(\"notebook\", font_scale=1.3)\n",
    "plt.figure(figsize=(14, 6))\n",
    "\n",
    "sns.barplot(data=debt_purpose, x='purpose_category', y=\"debt\",\n",
    "            linewidth=2, edgecolor=\".2\",\n",
    "            order=debt_purpose.sort_values('debt')['purpose_category']).axhline(\n",
    "            mean_purpose, ls = '--', color='0')\n",
    "\n",
    "plt.gca().set(ylim=(0, 11),\n",
    "              xlabel='Цели кредита', \n",
    "              ylabel='Процент просроченных кредитов')\n",
    "\n",
    "plt.title('Цели кредита и возврат кредита в срок')\n",
    "plt.show()"
   ]
  },
  {
   "cell_type": "markdown",
   "id": "5ed73a4c",
   "metadata": {
    "deletable": false,
    "id": "b4bb2ce6"
   },
   "source": [
    "**Вывод:** Зависимость от цели есть - кредит для операций с недвижимостью и проведения свадьбы возвращают вовремя чаще, чем для получения образования и операций с автомобилем."
   ]
  },
  {
   "cell_type": "markdown",
   "id": "3e8b6e76",
   "metadata": {
    "deletable": false,
    "editable": false,
    "id": "09c3ac4c"
   },
   "source": [
    "#### 3.5 Приведите возможные причины появления пропусков в исходных данных."
   ]
  },
  {
   "cell_type": "markdown",
   "id": "f8490ad1",
   "metadata": {
    "deletable": false,
    "id": "9da2ceda"
   },
   "source": [
    "*Ответ:* В задании 3 мы заметили, что пропущенные значения появляются в двух столбцах, и их число одинаковое. Проверим, в скольких строках пропущено сразу два значения:"
   ]
  },
  {
   "cell_type": "code",
   "execution_count": 39,
   "id": "5d222a86",
   "metadata": {},
   "outputs": [
    {
     "name": "stdout",
     "output_type": "stream",
     "text": [
      "<class 'pandas.core.frame.DataFrame'>\n",
      "Int64Index: 2174 entries, 12 to 21510\n",
      "Data columns (total 12 columns):\n",
      " #   Column            Non-Null Count  Dtype  \n",
      "---  ------            --------------  -----  \n",
      " 0   children          2174 non-null   int64  \n",
      " 1   days_employed     0 non-null      float64\n",
      " 2   dob_years         2174 non-null   int64  \n",
      " 3   education         2174 non-null   object \n",
      " 4   education_id      2174 non-null   int64  \n",
      " 5   family_status     2174 non-null   object \n",
      " 6   family_status_id  2174 non-null   int64  \n",
      " 7   gender            2174 non-null   object \n",
      " 8   income_type       2174 non-null   object \n",
      " 9   debt              2174 non-null   int64  \n",
      " 10  total_income      0 non-null      float64\n",
      " 11  purpose           2174 non-null   object \n",
      "dtypes: float64(2), int64(5), object(5)\n",
      "memory usage: 220.8+ KB\n"
     ]
    }
   ],
   "source": [
    "second_df = null_data[null_data['days_employed'].isnull() &\n",
    "               null_data['total_income'].isnull()]\n",
    "second_df.info()"
   ]
  },
  {
   "cell_type": "markdown",
   "id": "7ed638a4",
   "metadata": {},
   "source": [
    "Все пропуски в исходных данных шли в паре. Предположительно, при формировании датасета эти величины были связаны, поэтому при пропуске в одном столбце, был пропуск во втором. Возможно, не всегда заёмщик может предоставить данные о трудовом стаже. Также стоит уточнить у сотрудников банка, могут ли они давать займы без предоставления сведений о доходах."
   ]
  },
  {
   "cell_type": "markdown",
   "id": "7753a395",
   "metadata": {
    "deletable": false,
    "editable": false,
    "id": "7b0487d6"
   },
   "source": [
    "#### 3.6 Объясните, почему заполнить пропуски медианным значением — лучшее решение для количественных переменных."
   ]
  },
  {
   "cell_type": "markdown",
   "id": "8c2511bd",
   "metadata": {
    "deletable": false,
    "id": "7ecf2b8e"
   },
   "source": [
    "*Ответ:* В наших данных могут быть выбросы - они сильно повлияют на среднее арифметическое значение, к тому же, данные могут иметь сильный разброс по величинам (малая часть значений может быть гораздо больше остальных) . Конечно, для каждого анализа необходим свой метод заполнения, но среди простых решений медиана - самое надежное."
   ]
  },
  {
   "cell_type": "markdown",
   "id": "45025881",
   "metadata": {
    "deletable": false,
    "editable": false,
    "id": "6db5255a"
   },
   "source": [
    "### Шаг 4: общий вывод."
   ]
  },
  {
   "cell_type": "markdown",
   "id": "3f08e9d1",
   "metadata": {
    "deletable": false,
    "id": "bad65432"
   },
   "source": [
    "На основе полученной информации, можно разработать \"кредитный рейтинг\" потенциального покупателя, который показывает среднюю вероятность отдать кредит вовремя:"
   ]
  },
  {
   "cell_type": "code",
   "execution_count": 40,
   "id": "f9f1d421",
   "metadata": {
    "scrolled": true
   },
   "outputs": [],
   "source": [
    "debt_children = debtors_share('children')\n",
    "\n",
    "a = pd.Series(debt_children['debt'].values,\n",
    "              index=debt_children['children']).to_dict()\n",
    "b = pd.Series(debt_family['debt'].values,\n",
    "              index=debt_family['family_status']).to_dict()\n",
    "c = pd.Series(debt_income['debt'].values,\n",
    "              index=debt_income['total_income_category']).to_dict()\n",
    "d = pd.Series(debt_purpose['debt'].values,\n",
    "              index=debt_purpose['purpose_category']).to_dict()\n",
    "\n",
    "def rate(row):\n",
    "    children = row['children']\n",
    "    family_status = row['family_status']\n",
    "    total_income_category = row['total_income_category']\n",
    "    purpose_category = row['purpose_category']\n",
    "    rating = a.get(children) + b.get(family_status) + \\\n",
    "    c.get(total_income_category) + d.get(purpose_category)\n",
    "    return 100 - rating / 4"
   ]
  },
  {
   "cell_type": "markdown",
   "id": "0e7ce343",
   "metadata": {},
   "source": [
    "Теперь применим нашу функцию к датафрейму:"
   ]
  },
  {
   "cell_type": "code",
   "execution_count": 41,
   "id": "475e66e6",
   "metadata": {
    "scrolled": false
   },
   "outputs": [
    {
     "data": {
      "text/html": [
       "<div>\n",
       "<style scoped>\n",
       "    .dataframe tbody tr th:only-of-type {\n",
       "        vertical-align: middle;\n",
       "    }\n",
       "\n",
       "    .dataframe tbody tr th {\n",
       "        vertical-align: top;\n",
       "    }\n",
       "\n",
       "    .dataframe thead th {\n",
       "        text-align: right;\n",
       "    }\n",
       "</style>\n",
       "<table border=\"1\" class=\"dataframe\">\n",
       "  <thead>\n",
       "    <tr style=\"text-align: right;\">\n",
       "      <th></th>\n",
       "      <th>children</th>\n",
       "      <th>days_employed</th>\n",
       "      <th>dob_years</th>\n",
       "      <th>education</th>\n",
       "      <th>education_id</th>\n",
       "      <th>family_status</th>\n",
       "      <th>family_status_id</th>\n",
       "      <th>gender</th>\n",
       "      <th>income_type</th>\n",
       "      <th>debt</th>\n",
       "      <th>total_income</th>\n",
       "      <th>purpose</th>\n",
       "      <th>total_income_category</th>\n",
       "      <th>purpose_category</th>\n",
       "      <th>sub_category</th>\n",
       "      <th>rate</th>\n",
       "    </tr>\n",
       "  </thead>\n",
       "  <tbody>\n",
       "    <tr>\n",
       "      <th>7866</th>\n",
       "      <td>5</td>\n",
       "      <td>773.12</td>\n",
       "      <td>36</td>\n",
       "      <td>среднее</td>\n",
       "      <td>1</td>\n",
       "      <td>женат / замужем</td>\n",
       "      <td>0</td>\n",
       "      <td>F</td>\n",
       "      <td>сотрудник</td>\n",
       "      <td>0</td>\n",
       "      <td>48772</td>\n",
       "      <td>операции с жильем</td>\n",
       "      <td>D</td>\n",
       "      <td>операции с недвижимостью</td>\n",
       "      <td>1</td>\n",
       "      <td>94.79</td>\n",
       "    </tr>\n",
       "    <tr>\n",
       "      <th>15916</th>\n",
       "      <td>5</td>\n",
       "      <td>2286.26</td>\n",
       "      <td>37</td>\n",
       "      <td>среднее</td>\n",
       "      <td>1</td>\n",
       "      <td>женат / замужем</td>\n",
       "      <td>0</td>\n",
       "      <td>F</td>\n",
       "      <td>сотрудник</td>\n",
       "      <td>0</td>\n",
       "      <td>256698</td>\n",
       "      <td>покупка недвижимости</td>\n",
       "      <td>B</td>\n",
       "      <td>операции с недвижимостью</td>\n",
       "      <td>87</td>\n",
       "      <td>94.53</td>\n",
       "    </tr>\n",
       "    <tr>\n",
       "      <th>21156</th>\n",
       "      <td>5</td>\n",
       "      <td>1690.02</td>\n",
       "      <td>59</td>\n",
       "      <td>среднее</td>\n",
       "      <td>1</td>\n",
       "      <td>женат / замужем</td>\n",
       "      <td>0</td>\n",
       "      <td>M</td>\n",
       "      <td>сотрудник</td>\n",
       "      <td>0</td>\n",
       "      <td>269068</td>\n",
       "      <td>операции со своей недвижимостью</td>\n",
       "      <td>B</td>\n",
       "      <td>операции с недвижимостью</td>\n",
       "      <td>89</td>\n",
       "      <td>94.53</td>\n",
       "    </tr>\n",
       "    <tr>\n",
       "      <th>20837</th>\n",
       "      <td>5</td>\n",
       "      <td>2386.60</td>\n",
       "      <td>35</td>\n",
       "      <td>среднее</td>\n",
       "      <td>1</td>\n",
       "      <td>женат / замужем</td>\n",
       "      <td>0</td>\n",
       "      <td>F</td>\n",
       "      <td>компаньон</td>\n",
       "      <td>0</td>\n",
       "      <td>204241</td>\n",
       "      <td>жилье</td>\n",
       "      <td>B</td>\n",
       "      <td>операции с недвижимостью</td>\n",
       "      <td>77</td>\n",
       "      <td>94.53</td>\n",
       "    </tr>\n",
       "    <tr>\n",
       "      <th>4397</th>\n",
       "      <td>5</td>\n",
       "      <td>3248.84</td>\n",
       "      <td>36</td>\n",
       "      <td>среднее</td>\n",
       "      <td>1</td>\n",
       "      <td>женат / замужем</td>\n",
       "      <td>0</td>\n",
       "      <td>F</td>\n",
       "      <td>компаньон</td>\n",
       "      <td>0</td>\n",
       "      <td>168460</td>\n",
       "      <td>операции с недвижимостью</td>\n",
       "      <td>C</td>\n",
       "      <td>операции с недвижимостью</td>\n",
       "      <td>63</td>\n",
       "      <td>94.17</td>\n",
       "    </tr>\n",
       "  </tbody>\n",
       "</table>\n",
       "</div>"
      ],
      "text/plain": [
       "       children  days_employed  dob_years education  education_id  \\\n",
       "7866   5        773.12          36         среднее   1              \n",
       "15916  5        2286.26         37         среднее   1              \n",
       "21156  5        1690.02         59         среднее   1              \n",
       "20837  5        2386.60         35         среднее   1              \n",
       "4397   5        3248.84         36         среднее   1              \n",
       "\n",
       "         family_status  family_status_id gender income_type  debt  \\\n",
       "7866   женат / замужем  0                 F      сотрудник   0      \n",
       "15916  женат / замужем  0                 F      сотрудник   0      \n",
       "21156  женат / замужем  0                 M      сотрудник   0      \n",
       "20837  женат / замужем  0                 F      компаньон   0      \n",
       "4397   женат / замужем  0                 F      компаньон   0      \n",
       "\n",
       "       total_income                          purpose total_income_category  \\\n",
       "7866   48772         операции с жильем                D                      \n",
       "15916  256698        покупка недвижимости             B                      \n",
       "21156  269068        операции со своей недвижимостью  B                      \n",
       "20837  204241        жилье                            B                      \n",
       "4397   168460        операции с недвижимостью         C                      \n",
       "\n",
       "               purpose_category  sub_category  rate  \n",
       "7866   операции с недвижимостью  1            94.79  \n",
       "15916  операции с недвижимостью  87           94.53  \n",
       "21156  операции с недвижимостью  89           94.53  \n",
       "20837  операции с недвижимостью  77           94.53  \n",
       "4397   операции с недвижимостью  63           94.17  "
      ]
     },
     "execution_count": 41,
     "metadata": {},
     "output_type": "execute_result"
    }
   ],
   "source": [
    "data['rate'] = data.apply(rate, axis = 1)\n",
    "data = data.sort_values(by = 'rate', ascending = False)\n",
    "pd.set_option('display.float_format', '{:.2f}'.format)\n",
    "data.head()"
   ]
  },
  {
   "cell_type": "markdown",
   "id": "4016731e",
   "metadata": {},
   "source": [
    "**Вывод:** \n",
    "    Мы разобрали разные случаи зависимости процента невовремя выплаченых кредитов от разных категорий заёмщиков. Эта информация может быть полезна банку при выдаче новых кредитов - например, можно привлечь целевую аудиторию из категорий с высоким процентом возврата в срок, или повысить требования к залогу у категорий с низким процентом. Возможен дополнительный анализ для изучения зависимости процента просроченных кредитов у многодетных семей, также можно проанализировать другие категории - пол, образование, должность, стаж работы.<br> \n",
    "Для практического использования полученной информации мы составили рейтинг получателей займов, отражающий вероятность возврата кредита в срок на основании их принадлежности к рассматриваемым категориям. Например, самый \"плохой\" заемщик с индексом 14947 имеет щанс не выплатить кредит вовремя около 10.3%, а самый \"хороший\" с индексом 7866 - около 5.2%."
   ]
  }
 ],
 "metadata": {
  "ExecuteTimeLog": [
   {
    "duration": 560,
    "start_time": "2022-09-10T17:46:43.613Z"
   },
   {
    "duration": 1421,
    "start_time": "2022-09-10T17:47:14.513Z"
   },
   {
    "duration": 68,
    "start_time": "2022-09-10T17:52:10.127Z"
   },
   {
    "duration": 1012,
    "start_time": "2022-09-10T18:16:57.960Z"
   },
   {
    "duration": 71,
    "start_time": "2022-09-10T18:17:02.824Z"
   },
   {
    "duration": 45,
    "start_time": "2022-09-10T18:17:57.542Z"
   },
   {
    "duration": 380,
    "start_time": "2022-09-10T18:18:03.624Z"
   },
   {
    "duration": 378,
    "start_time": "2022-09-10T18:18:45.549Z"
   },
   {
    "duration": 9,
    "start_time": "2022-09-10T18:19:12.841Z"
   },
   {
    "duration": 8,
    "start_time": "2022-09-10T18:19:17.049Z"
   },
   {
    "duration": 370,
    "start_time": "2022-09-10T18:19:32.186Z"
   },
   {
    "duration": 9,
    "start_time": "2022-09-10T18:19:55.013Z"
   },
   {
    "duration": 364,
    "start_time": "2022-09-10T18:20:00.487Z"
   },
   {
    "duration": 338,
    "start_time": "2022-09-10T19:04:07.875Z"
   },
   {
    "duration": 15,
    "start_time": "2022-09-10T19:06:46.957Z"
   },
   {
    "duration": 322,
    "start_time": "2022-09-10T19:08:08.001Z"
   },
   {
    "duration": 830,
    "start_time": "2022-09-10T19:09:00.215Z"
   },
   {
    "duration": 868,
    "start_time": "2022-09-10T19:09:23.154Z"
   },
   {
    "duration": 469,
    "start_time": "2022-09-10T19:09:27.778Z"
   },
   {
    "duration": 813,
    "start_time": "2022-09-10T19:10:23.890Z"
   },
   {
    "duration": 864,
    "start_time": "2022-09-10T19:10:51.547Z"
   },
   {
    "duration": 865,
    "start_time": "2022-09-10T19:11:06.550Z"
   },
   {
    "duration": 715,
    "start_time": "2022-09-10T19:11:09.638Z"
   },
   {
    "duration": 4,
    "start_time": "2022-09-10T19:11:18.400Z"
   },
   {
    "duration": 7,
    "start_time": "2022-09-10T19:11:26.816Z"
   },
   {
    "duration": 8,
    "start_time": "2022-09-10T19:12:00.086Z"
   },
   {
    "duration": 315,
    "start_time": "2022-09-10T19:13:02.269Z"
   },
   {
    "duration": 149,
    "start_time": "2022-09-10T19:15:44.643Z"
   },
   {
    "duration": 252,
    "start_time": "2022-09-10T19:16:29.976Z"
   },
   {
    "duration": 6,
    "start_time": "2022-09-10T19:16:46.090Z"
   },
   {
    "duration": 35,
    "start_time": "2022-09-10T19:16:49.979Z"
   },
   {
    "duration": 32,
    "start_time": "2022-09-10T19:18:17.936Z"
   },
   {
    "duration": 57,
    "start_time": "2022-09-10T19:18:22.255Z"
   },
   {
    "duration": 10,
    "start_time": "2022-09-10T19:18:34.772Z"
   },
   {
    "duration": 9,
    "start_time": "2022-09-10T19:24:49.079Z"
   },
   {
    "duration": 46,
    "start_time": "2022-09-10T19:25:02.657Z"
   },
   {
    "duration": 46,
    "start_time": "2022-09-10T19:25:39.558Z"
   },
   {
    "duration": 18,
    "start_time": "2022-09-10T19:25:48.486Z"
   },
   {
    "duration": 125,
    "start_time": "2022-09-10T19:35:52.299Z"
   },
   {
    "duration": 123,
    "start_time": "2022-09-10T19:36:10.640Z"
   },
   {
    "duration": 127,
    "start_time": "2022-09-10T19:36:14.054Z"
   },
   {
    "duration": 10,
    "start_time": "2022-09-10T19:37:51.858Z"
   },
   {
    "duration": 55,
    "start_time": "2022-09-10T19:38:02.742Z"
   },
   {
    "duration": 6,
    "start_time": "2022-09-10T19:38:06.024Z"
   },
   {
    "duration": 10,
    "start_time": "2022-09-10T19:40:14.476Z"
   },
   {
    "duration": 4,
    "start_time": "2022-09-10T19:40:47.591Z"
   },
   {
    "duration": 4,
    "start_time": "2022-09-10T19:41:15.378Z"
   },
   {
    "duration": 5,
    "start_time": "2022-09-10T19:41:17.932Z"
   },
   {
    "duration": 6,
    "start_time": "2022-09-10T19:41:44.687Z"
   },
   {
    "duration": 6,
    "start_time": "2022-09-10T19:41:52.256Z"
   },
   {
    "duration": 6,
    "start_time": "2022-09-10T19:42:00.858Z"
   },
   {
    "duration": 8,
    "start_time": "2022-09-10T19:42:10.866Z"
   },
   {
    "duration": 3,
    "start_time": "2022-09-10T19:43:29.246Z"
   },
   {
    "duration": 5,
    "start_time": "2022-09-10T19:43:33.052Z"
   },
   {
    "duration": 8,
    "start_time": "2022-09-10T19:43:50.766Z"
   },
   {
    "duration": 10,
    "start_time": "2022-09-10T19:45:25.386Z"
   },
   {
    "duration": 7,
    "start_time": "2022-09-10T19:47:03.593Z"
   },
   {
    "duration": 8,
    "start_time": "2022-09-10T19:48:37.937Z"
   },
   {
    "duration": 15,
    "start_time": "2022-09-10T19:48:57.085Z"
   },
   {
    "duration": 21,
    "start_time": "2022-09-10T19:49:15.944Z"
   },
   {
    "duration": 9,
    "start_time": "2022-09-10T19:49:50.333Z"
   },
   {
    "duration": 112,
    "start_time": "2022-09-10T19:51:03.358Z"
   },
   {
    "duration": 13,
    "start_time": "2022-09-10T19:51:28.481Z"
   },
   {
    "duration": 122,
    "start_time": "2022-09-10T19:52:03.230Z"
   },
   {
    "duration": 8,
    "start_time": "2022-09-10T19:52:40.107Z"
   },
   {
    "duration": 16,
    "start_time": "2022-09-10T19:57:22.392Z"
   },
   {
    "duration": 11,
    "start_time": "2022-09-10T19:58:17.191Z"
   },
   {
    "duration": 11,
    "start_time": "2022-09-10T19:59:41.800Z"
   },
   {
    "duration": 11,
    "start_time": "2022-09-10T19:59:53.930Z"
   },
   {
    "duration": 9,
    "start_time": "2022-09-10T20:00:18.334Z"
   },
   {
    "duration": 12,
    "start_time": "2022-09-10T20:04:01.132Z"
   },
   {
    "duration": 16,
    "start_time": "2022-09-10T20:04:15.444Z"
   },
   {
    "duration": 18,
    "start_time": "2022-09-10T20:04:37.513Z"
   },
   {
    "duration": 13,
    "start_time": "2022-09-10T20:04:58.265Z"
   },
   {
    "duration": 19,
    "start_time": "2022-09-10T20:06:09.674Z"
   },
   {
    "duration": 18,
    "start_time": "2022-09-10T20:06:22.116Z"
   },
   {
    "duration": 22,
    "start_time": "2022-09-10T20:06:25.693Z"
   },
   {
    "duration": 11,
    "start_time": "2022-09-10T20:07:38.382Z"
   },
   {
    "duration": 12,
    "start_time": "2022-09-10T20:09:37.029Z"
   },
   {
    "duration": 10,
    "start_time": "2022-09-10T20:09:47.142Z"
   },
   {
    "duration": 18,
    "start_time": "2022-09-10T20:10:23.418Z"
   },
   {
    "duration": 18,
    "start_time": "2022-09-10T20:10:55.453Z"
   },
   {
    "duration": 17,
    "start_time": "2022-09-10T20:10:58.015Z"
   },
   {
    "duration": 20,
    "start_time": "2022-09-10T20:11:56.119Z"
   },
   {
    "duration": 18,
    "start_time": "2022-09-10T20:12:05.102Z"
   },
   {
    "duration": 12,
    "start_time": "2022-09-10T20:12:08.953Z"
   },
   {
    "duration": 12,
    "start_time": "2022-09-10T20:12:16.729Z"
   },
   {
    "duration": 18,
    "start_time": "2022-09-10T20:12:21.331Z"
   },
   {
    "duration": 18,
    "start_time": "2022-09-10T20:12:55.775Z"
   },
   {
    "duration": 17,
    "start_time": "2022-09-10T20:12:58.127Z"
   },
   {
    "duration": 17,
    "start_time": "2022-09-10T20:13:00.182Z"
   },
   {
    "duration": 8,
    "start_time": "2022-09-10T20:13:13.144Z"
   },
   {
    "duration": 7,
    "start_time": "2022-09-10T20:13:20.177Z"
   },
   {
    "duration": 17,
    "start_time": "2022-09-10T20:13:30.306Z"
   },
   {
    "duration": 11,
    "start_time": "2022-09-10T20:13:53.405Z"
   },
   {
    "duration": 17,
    "start_time": "2022-09-10T20:14:01.477Z"
   },
   {
    "duration": 11,
    "start_time": "2022-09-10T20:14:10.719Z"
   },
   {
    "duration": 13,
    "start_time": "2022-09-10T20:14:19.600Z"
   },
   {
    "duration": 4,
    "start_time": "2022-09-10T20:15:36.011Z"
   },
   {
    "duration": 12,
    "start_time": "2022-09-10T20:15:41.987Z"
   },
   {
    "duration": 15,
    "start_time": "2022-09-10T20:15:49.652Z"
   },
   {
    "duration": 11,
    "start_time": "2022-09-10T20:15:53.156Z"
   },
   {
    "duration": 18,
    "start_time": "2022-09-10T20:17:13.695Z"
   },
   {
    "duration": 7,
    "start_time": "2022-09-10T20:17:18.415Z"
   },
   {
    "duration": 10,
    "start_time": "2022-09-10T20:17:24.544Z"
   },
   {
    "duration": 10,
    "start_time": "2022-09-10T20:17:42.818Z"
   },
   {
    "duration": 13,
    "start_time": "2022-09-10T20:18:08.846Z"
   },
   {
    "duration": 40,
    "start_time": "2022-09-10T20:18:46.970Z"
   },
   {
    "duration": 69,
    "start_time": "2022-09-10T20:19:12.453Z"
   },
   {
    "duration": 9,
    "start_time": "2022-09-10T20:19:17.319Z"
   },
   {
    "duration": 13,
    "start_time": "2022-09-10T20:22:01.044Z"
   },
   {
    "duration": 11,
    "start_time": "2022-09-10T20:22:14.116Z"
   },
   {
    "duration": 9,
    "start_time": "2022-09-10T20:23:52.466Z"
   },
   {
    "duration": 14,
    "start_time": "2022-09-10T20:26:49.151Z"
   },
   {
    "duration": 10,
    "start_time": "2022-09-10T20:27:06.907Z"
   },
   {
    "duration": 14,
    "start_time": "2022-09-10T20:27:24.892Z"
   },
   {
    "duration": 17,
    "start_time": "2022-09-10T20:27:28.846Z"
   },
   {
    "duration": 13,
    "start_time": "2022-09-10T20:28:11.725Z"
   },
   {
    "duration": 13,
    "start_time": "2022-09-10T20:29:07.656Z"
   },
   {
    "duration": 12,
    "start_time": "2022-09-10T20:29:16.225Z"
   },
   {
    "duration": 10,
    "start_time": "2022-09-10T20:31:26.387Z"
   },
   {
    "duration": 12,
    "start_time": "2022-09-10T20:31:33.003Z"
   },
   {
    "duration": 10,
    "start_time": "2022-09-10T20:34:27.696Z"
   },
   {
    "duration": 13,
    "start_time": "2022-09-10T20:34:55.532Z"
   },
   {
    "duration": 10,
    "start_time": "2022-09-10T20:35:09.821Z"
   },
   {
    "duration": 54,
    "start_time": "2022-09-10T20:37:25.552Z"
   },
   {
    "duration": 44,
    "start_time": "2022-09-10T20:37:34.023Z"
   },
   {
    "duration": 52,
    "start_time": "2022-09-10T20:37:38.911Z"
   },
   {
    "duration": 55,
    "start_time": "2022-09-10T20:37:45.944Z"
   },
   {
    "duration": 50,
    "start_time": "2022-09-10T20:37:57.052Z"
   },
   {
    "duration": 11,
    "start_time": "2022-09-10T20:38:03.796Z"
   },
   {
    "duration": 10,
    "start_time": "2022-09-10T20:38:07.965Z"
   },
   {
    "duration": 15,
    "start_time": "2022-09-10T20:39:41.095Z"
   },
   {
    "duration": 10,
    "start_time": "2022-09-10T20:39:53.434Z"
   },
   {
    "duration": 10,
    "start_time": "2022-09-10T20:40:00.084Z"
   },
   {
    "duration": 10,
    "start_time": "2022-09-10T20:40:08.822Z"
   },
   {
    "duration": 3,
    "start_time": "2022-09-10T20:40:09.580Z"
   },
   {
    "duration": 11,
    "start_time": "2022-09-10T20:40:11.404Z"
   },
   {
    "duration": 11,
    "start_time": "2022-09-10T20:40:17.123Z"
   },
   {
    "duration": 13,
    "start_time": "2022-09-10T20:42:03.434Z"
   },
   {
    "duration": 10,
    "start_time": "2022-09-10T20:42:06.882Z"
   },
   {
    "duration": 10,
    "start_time": "2022-09-10T20:42:13.219Z"
   },
   {
    "duration": 11,
    "start_time": "2022-09-10T20:42:17.772Z"
   },
   {
    "duration": 13,
    "start_time": "2022-09-10T20:42:22.409Z"
   },
   {
    "duration": 42,
    "start_time": "2022-09-10T20:43:09.228Z"
   },
   {
    "duration": 10,
    "start_time": "2022-09-10T20:43:14.163Z"
   },
   {
    "duration": 11,
    "start_time": "2022-09-10T20:43:18.460Z"
   },
   {
    "duration": 11,
    "start_time": "2022-09-10T20:43:36.014Z"
   },
   {
    "duration": 10,
    "start_time": "2022-09-10T20:43:41.088Z"
   },
   {
    "duration": 10,
    "start_time": "2022-09-10T20:43:44.071Z"
   },
   {
    "duration": 3,
    "start_time": "2022-09-10T20:43:44.807Z"
   },
   {
    "duration": 11,
    "start_time": "2022-09-10T20:44:08.531Z"
   },
   {
    "duration": 5,
    "start_time": "2022-09-10T20:45:06.010Z"
   },
   {
    "duration": 677,
    "start_time": "2022-09-10T20:45:12.073Z"
   },
   {
    "duration": 327,
    "start_time": "2022-09-10T20:45:31.741Z"
   },
   {
    "duration": 654,
    "start_time": "2022-09-10T20:46:10.002Z"
   },
   {
    "duration": 676,
    "start_time": "2022-09-10T20:46:32.637Z"
   },
   {
    "duration": 656,
    "start_time": "2022-09-10T20:46:47.823Z"
   },
   {
    "duration": 11,
    "start_time": "2022-09-10T20:47:15.738Z"
   },
   {
    "duration": 9,
    "start_time": "2022-09-10T20:48:39.966Z"
   },
   {
    "duration": 9,
    "start_time": "2022-09-10T20:48:44.397Z"
   },
   {
    "duration": 22,
    "start_time": "2022-09-10T20:48:55.774Z"
   },
   {
    "duration": 18,
    "start_time": "2022-09-10T20:49:12.306Z"
   },
   {
    "duration": 12,
    "start_time": "2022-09-10T20:49:14.306Z"
   },
   {
    "duration": 17,
    "start_time": "2022-09-10T20:49:16.401Z"
   },
   {
    "duration": 15,
    "start_time": "2022-09-10T20:51:16.899Z"
   },
   {
    "duration": 11,
    "start_time": "2022-09-10T20:51:29.538Z"
   },
   {
    "duration": 10,
    "start_time": "2022-09-10T20:51:32.923Z"
   },
   {
    "duration": 12,
    "start_time": "2022-09-10T20:51:35.716Z"
   },
   {
    "duration": 10,
    "start_time": "2022-09-10T20:51:38.100Z"
   },
   {
    "duration": 54,
    "start_time": "2022-09-11T09:47:39.363Z"
   },
   {
    "duration": 1641,
    "start_time": "2022-09-11T09:47:49.910Z"
   },
   {
    "duration": 18,
    "start_time": "2022-09-11T09:47:51.553Z"
   },
   {
    "duration": 19,
    "start_time": "2022-09-11T09:47:51.572Z"
   },
   {
    "duration": 10,
    "start_time": "2022-09-11T09:47:51.593Z"
   },
   {
    "duration": 34,
    "start_time": "2022-09-11T09:47:51.604Z"
   },
   {
    "duration": 2,
    "start_time": "2022-09-11T09:47:51.640Z"
   },
   {
    "duration": 22,
    "start_time": "2022-09-11T09:47:51.644Z"
   },
   {
    "duration": 13,
    "start_time": "2022-09-11T09:47:51.667Z"
   },
   {
    "duration": 22,
    "start_time": "2022-09-11T09:47:51.681Z"
   },
   {
    "duration": 20,
    "start_time": "2022-09-11T09:47:51.705Z"
   },
   {
    "duration": 48,
    "start_time": "2022-09-11T09:47:51.727Z"
   },
   {
    "duration": 8,
    "start_time": "2022-09-11T09:47:51.776Z"
   },
   {
    "duration": 20,
    "start_time": "2022-09-11T09:47:51.785Z"
   },
   {
    "duration": 36,
    "start_time": "2022-09-11T09:47:51.806Z"
   },
   {
    "duration": 30,
    "start_time": "2022-09-11T09:47:51.844Z"
   },
   {
    "duration": 21,
    "start_time": "2022-09-11T09:47:51.875Z"
   },
   {
    "duration": 4,
    "start_time": "2022-09-11T09:47:51.897Z"
   },
   {
    "duration": 28,
    "start_time": "2022-09-11T09:47:51.903Z"
   },
   {
    "duration": 8,
    "start_time": "2022-09-11T09:47:51.933Z"
   },
   {
    "duration": 12,
    "start_time": "2022-09-11T09:47:51.943Z"
   },
   {
    "duration": 30,
    "start_time": "2022-09-11T09:47:51.956Z"
   },
   {
    "duration": 53,
    "start_time": "2022-09-11T09:47:51.988Z"
   },
   {
    "duration": 3,
    "start_time": "2022-09-11T09:47:52.042Z"
   },
   {
    "duration": 17,
    "start_time": "2022-09-11T09:47:52.046Z"
   },
   {
    "duration": 11,
    "start_time": "2022-09-11T09:47:52.064Z"
   },
   {
    "duration": 10,
    "start_time": "2022-09-11T09:47:55.665Z"
   },
   {
    "duration": 929,
    "start_time": "2022-09-11T09:49:11.306Z"
   },
   {
    "duration": 8,
    "start_time": "2022-09-11T09:49:22.171Z"
   },
   {
    "duration": 7,
    "start_time": "2022-09-11T09:49:25.004Z"
   },
   {
    "duration": 10,
    "start_time": "2022-09-11T09:49:27.467Z"
   },
   {
    "duration": 10,
    "start_time": "2022-09-11T09:49:33.701Z"
   },
   {
    "duration": 12,
    "start_time": "2022-09-11T09:49:36.837Z"
   },
   {
    "duration": 12,
    "start_time": "2022-09-11T09:51:30.444Z"
   },
   {
    "duration": 22,
    "start_time": "2022-09-11T09:51:47.213Z"
   },
   {
    "duration": 418,
    "start_time": "2022-09-11T09:52:18.803Z"
   },
   {
    "duration": 370,
    "start_time": "2022-09-11T09:52:23.058Z"
   },
   {
    "duration": 359,
    "start_time": "2022-09-11T09:52:28.684Z"
   },
   {
    "duration": 18,
    "start_time": "2022-09-11T09:53:37.117Z"
   },
   {
    "duration": 17,
    "start_time": "2022-09-11T09:53:41.210Z"
   },
   {
    "duration": 17,
    "start_time": "2022-09-11T09:53:48.622Z"
   },
   {
    "duration": 16,
    "start_time": "2022-09-11T09:53:53.677Z"
   },
   {
    "duration": 10,
    "start_time": "2022-09-11T09:54:43.892Z"
   },
   {
    "duration": 14,
    "start_time": "2022-09-11T09:54:48.525Z"
   },
   {
    "duration": 12,
    "start_time": "2022-09-11T09:55:07.464Z"
   },
   {
    "duration": 5,
    "start_time": "2022-09-11T10:04:51.242Z"
   },
   {
    "duration": 6,
    "start_time": "2022-09-11T10:05:25.038Z"
   },
   {
    "duration": 5,
    "start_time": "2022-09-11T10:05:46.201Z"
   },
   {
    "duration": 7,
    "start_time": "2022-09-11T10:05:57.130Z"
   },
   {
    "duration": 6,
    "start_time": "2022-09-11T10:06:31.127Z"
   },
   {
    "duration": 18,
    "start_time": "2022-09-11T10:07:04.820Z"
   },
   {
    "duration": 44,
    "start_time": "2022-09-11T18:35:23.320Z"
   },
   {
    "duration": 1680,
    "start_time": "2022-09-11T18:35:31.417Z"
   },
   {
    "duration": 61,
    "start_time": "2022-09-11T18:35:41.595Z"
   },
   {
    "duration": 1268,
    "start_time": "2022-09-11T18:35:49.352Z"
   },
   {
    "duration": 24,
    "start_time": "2022-09-11T18:35:50.622Z"
   },
   {
    "duration": 15,
    "start_time": "2022-09-11T18:35:50.648Z"
   },
   {
    "duration": 14,
    "start_time": "2022-09-11T18:35:50.665Z"
   },
   {
    "duration": 86,
    "start_time": "2022-09-11T18:35:50.682Z"
   },
   {
    "duration": 3,
    "start_time": "2022-09-11T18:35:50.770Z"
   },
   {
    "duration": 16,
    "start_time": "2022-09-11T18:35:50.775Z"
   },
   {
    "duration": 5,
    "start_time": "2022-09-11T18:35:50.793Z"
   },
   {
    "duration": 29,
    "start_time": "2022-09-11T18:35:50.799Z"
   },
   {
    "duration": 5,
    "start_time": "2022-09-11T18:35:50.829Z"
   },
   {
    "duration": 38,
    "start_time": "2022-09-11T18:35:50.836Z"
   },
   {
    "duration": 9,
    "start_time": "2022-09-11T18:35:50.875Z"
   },
   {
    "duration": 37,
    "start_time": "2022-09-11T18:35:50.885Z"
   },
   {
    "duration": 10,
    "start_time": "2022-09-11T18:35:50.925Z"
   },
   {
    "duration": 20,
    "start_time": "2022-09-11T18:35:50.936Z"
   },
   {
    "duration": 15,
    "start_time": "2022-09-11T18:35:50.958Z"
   },
   {
    "duration": 4,
    "start_time": "2022-09-11T18:35:50.975Z"
   },
   {
    "duration": 43,
    "start_time": "2022-09-11T18:35:50.980Z"
   },
   {
    "duration": 8,
    "start_time": "2022-09-11T18:35:51.025Z"
   },
   {
    "duration": 5,
    "start_time": "2022-09-11T18:35:51.034Z"
   },
   {
    "duration": 11,
    "start_time": "2022-09-11T18:35:51.041Z"
   },
   {
    "duration": 82,
    "start_time": "2022-09-11T18:35:51.054Z"
   },
   {
    "duration": 109,
    "start_time": "2022-09-11T18:35:51.137Z"
   },
   {
    "duration": 15,
    "start_time": "2022-09-11T18:35:51.247Z"
   },
   {
    "duration": 2,
    "start_time": "2022-09-11T18:35:51.264Z"
   },
   {
    "duration": 4,
    "start_time": "2022-09-11T18:35:51.267Z"
   },
   {
    "duration": 5,
    "start_time": "2022-09-11T18:35:51.273Z"
   },
   {
    "duration": 141,
    "start_time": "2022-09-11T18:54:12.293Z"
   },
   {
    "duration": 24,
    "start_time": "2022-09-11T18:59:22.647Z"
   },
   {
    "duration": 28,
    "start_time": "2022-09-11T18:59:46.103Z"
   },
   {
    "duration": 8,
    "start_time": "2022-09-11T19:01:37.043Z"
   },
   {
    "duration": 334,
    "start_time": "2022-09-11T19:02:17.306Z"
   },
   {
    "duration": 10,
    "start_time": "2022-09-11T19:02:30.932Z"
   },
   {
    "duration": 21,
    "start_time": "2022-09-11T19:02:59.160Z"
   },
   {
    "duration": 16,
    "start_time": "2022-09-11T19:03:01.392Z"
   },
   {
    "duration": 15,
    "start_time": "2022-09-11T19:03:05.545Z"
   },
   {
    "duration": 9,
    "start_time": "2022-09-11T19:03:10.937Z"
   },
   {
    "duration": 9,
    "start_time": "2022-09-11T19:03:13.778Z"
   },
   {
    "duration": 8,
    "start_time": "2022-09-11T19:03:18.032Z"
   },
   {
    "duration": 8,
    "start_time": "2022-09-11T19:03:21.194Z"
   },
   {
    "duration": 8,
    "start_time": "2022-09-11T19:03:23.955Z"
   },
   {
    "duration": 8,
    "start_time": "2022-09-11T19:03:27.659Z"
   },
   {
    "duration": 8,
    "start_time": "2022-09-11T19:03:30.060Z"
   },
   {
    "duration": 9,
    "start_time": "2022-09-11T19:03:32.843Z"
   },
   {
    "duration": 8,
    "start_time": "2022-09-11T19:03:36.165Z"
   },
   {
    "duration": 8,
    "start_time": "2022-09-11T19:03:44.181Z"
   },
   {
    "duration": 12,
    "start_time": "2022-09-11T19:03:47.729Z"
   },
   {
    "duration": 8,
    "start_time": "2022-09-11T19:04:00.760Z"
   },
   {
    "duration": 47,
    "start_time": "2022-09-11T19:04:03.007Z"
   },
   {
    "duration": 9,
    "start_time": "2022-09-11T19:04:05.696Z"
   },
   {
    "duration": 8,
    "start_time": "2022-09-11T19:04:07.833Z"
   },
   {
    "duration": 8,
    "start_time": "2022-09-11T19:04:09.785Z"
   },
   {
    "duration": 10,
    "start_time": "2022-09-11T19:04:11.881Z"
   },
   {
    "duration": 11,
    "start_time": "2022-09-11T19:04:14.418Z"
   },
   {
    "duration": 7,
    "start_time": "2022-09-11T19:05:14.705Z"
   },
   {
    "duration": 8,
    "start_time": "2022-09-11T19:05:17.842Z"
   },
   {
    "duration": 8,
    "start_time": "2022-09-11T19:05:19.626Z"
   },
   {
    "duration": 7,
    "start_time": "2022-09-11T19:05:22.268Z"
   },
   {
    "duration": 8,
    "start_time": "2022-09-11T19:05:24.418Z"
   },
   {
    "duration": 8,
    "start_time": "2022-09-11T19:05:27.275Z"
   },
   {
    "duration": 8,
    "start_time": "2022-09-11T19:05:32.164Z"
   },
   {
    "duration": 9,
    "start_time": "2022-09-11T19:20:26.055Z"
   },
   {
    "duration": 10,
    "start_time": "2022-09-11T19:20:48.192Z"
   },
   {
    "duration": 259,
    "start_time": "2022-09-11T19:20:58.700Z"
   },
   {
    "duration": 94,
    "start_time": "2022-09-11T19:21:38.399Z"
   },
   {
    "duration": 14,
    "start_time": "2022-09-11T19:21:46.240Z"
   },
   {
    "duration": 4,
    "start_time": "2022-09-11T19:23:25.735Z"
   },
   {
    "duration": 17,
    "start_time": "2022-09-11T19:23:43.486Z"
   },
   {
    "duration": 47,
    "start_time": "2022-09-11T19:25:21.900Z"
   },
   {
    "duration": 85,
    "start_time": "2022-09-11T19:35:05.302Z"
   },
   {
    "duration": 81,
    "start_time": "2022-09-11T19:35:10.306Z"
   },
   {
    "duration": 10,
    "start_time": "2022-09-11T19:37:14.270Z"
   },
   {
    "duration": 1002,
    "start_time": "2022-09-11T19:37:45.683Z"
   },
   {
    "duration": 119,
    "start_time": "2022-09-11T19:37:58.405Z"
   },
   {
    "duration": 111,
    "start_time": "2022-09-11T19:38:37.497Z"
   },
   {
    "duration": 114,
    "start_time": "2022-09-11T19:39:42.229Z"
   },
   {
    "duration": 112,
    "start_time": "2022-09-11T19:40:40.857Z"
   },
   {
    "duration": 117,
    "start_time": "2022-09-11T19:40:57.853Z"
   },
   {
    "duration": 128,
    "start_time": "2022-09-11T19:41:03.709Z"
   },
   {
    "duration": 2,
    "start_time": "2022-09-11T19:42:59.259Z"
   },
   {
    "duration": 8,
    "start_time": "2022-09-11T19:43:26.680Z"
   },
   {
    "duration": 4,
    "start_time": "2022-09-11T19:43:43.928Z"
   },
   {
    "duration": 14,
    "start_time": "2022-09-11T19:44:24.407Z"
   },
   {
    "duration": 116,
    "start_time": "2022-09-11T19:44:29.665Z"
   },
   {
    "duration": 3,
    "start_time": "2022-09-11T19:45:22.637Z"
   },
   {
    "duration": 9,
    "start_time": "2022-09-11T19:45:24.326Z"
   },
   {
    "duration": 15,
    "start_time": "2022-09-11T19:45:30.751Z"
   },
   {
    "duration": 5,
    "start_time": "2022-09-11T19:46:16.157Z"
   },
   {
    "duration": 13,
    "start_time": "2022-09-11T19:47:24.782Z"
   },
   {
    "duration": 9,
    "start_time": "2022-09-11T19:48:28.751Z"
   },
   {
    "duration": 10,
    "start_time": "2022-09-11T19:48:36.246Z"
   },
   {
    "duration": 3,
    "start_time": "2022-09-11T19:49:17.629Z"
   },
   {
    "duration": 19,
    "start_time": "2022-09-11T19:49:19.365Z"
   },
   {
    "duration": 4,
    "start_time": "2022-09-11T19:49:40.839Z"
   },
   {
    "duration": 5,
    "start_time": "2022-09-11T19:49:42.751Z"
   },
   {
    "duration": 9,
    "start_time": "2022-09-11T19:50:04.626Z"
   },
   {
    "duration": 4,
    "start_time": "2022-09-11T19:50:18.491Z"
   },
   {
    "duration": 4,
    "start_time": "2022-09-11T19:50:55.033Z"
   },
   {
    "duration": 143,
    "start_time": "2022-09-11T19:51:33.765Z"
   },
   {
    "duration": 129,
    "start_time": "2022-09-11T19:52:20.494Z"
   },
   {
    "duration": 139,
    "start_time": "2022-09-11T19:53:01.922Z"
   },
   {
    "duration": 129,
    "start_time": "2022-09-11T19:53:30.917Z"
   },
   {
    "duration": 9,
    "start_time": "2022-09-11T19:54:15.794Z"
   },
   {
    "duration": 5,
    "start_time": "2022-09-11T19:54:20.804Z"
   },
   {
    "duration": 17,
    "start_time": "2022-09-11T20:05:31.874Z"
   },
   {
    "duration": 133,
    "start_time": "2022-09-11T20:05:34.017Z"
   },
   {
    "duration": 3,
    "start_time": "2022-09-11T20:05:38.584Z"
   },
   {
    "duration": 4,
    "start_time": "2022-09-11T20:05:40.112Z"
   },
   {
    "duration": 5,
    "start_time": "2022-09-11T20:05:42.323Z"
   },
   {
    "duration": 4,
    "start_time": "2022-09-11T20:05:44.033Z"
   },
   {
    "duration": 4,
    "start_time": "2022-09-11T20:05:46.105Z"
   },
   {
    "duration": 261,
    "start_time": "2022-09-11T20:05:48.188Z"
   },
   {
    "duration": 107,
    "start_time": "2022-09-11T20:07:42.042Z"
   },
   {
    "duration": 113,
    "start_time": "2022-09-11T20:07:59.867Z"
   },
   {
    "duration": 106,
    "start_time": "2022-09-11T20:08:52.123Z"
   },
   {
    "duration": 119,
    "start_time": "2022-09-11T20:09:16.679Z"
   },
   {
    "duration": 107,
    "start_time": "2022-09-11T20:11:52.937Z"
   },
   {
    "duration": 11,
    "start_time": "2022-09-11T20:12:43.416Z"
   },
   {
    "duration": 14,
    "start_time": "2022-09-11T20:13:10.675Z"
   },
   {
    "duration": 4,
    "start_time": "2022-09-11T20:13:14.003Z"
   },
   {
    "duration": 4,
    "start_time": "2022-09-11T20:13:37.062Z"
   },
   {
    "duration": 9,
    "start_time": "2022-09-11T20:13:42.007Z"
   },
   {
    "duration": 70,
    "start_time": "2022-09-11T20:13:51.640Z"
   },
   {
    "duration": 5,
    "start_time": "2022-09-11T20:14:02.914Z"
   },
   {
    "duration": 53,
    "start_time": "2022-09-11T20:14:14.894Z"
   },
   {
    "duration": 3,
    "start_time": "2022-09-11T20:14:18.028Z"
   },
   {
    "duration": 12,
    "start_time": "2022-09-11T20:14:28.213Z"
   },
   {
    "duration": 4,
    "start_time": "2022-09-11T20:15:21.644Z"
   },
   {
    "duration": 6,
    "start_time": "2022-09-11T20:15:28.885Z"
   },
   {
    "duration": 4,
    "start_time": "2022-09-11T20:15:31.541Z"
   },
   {
    "duration": 4,
    "start_time": "2022-09-11T20:15:33.677Z"
   },
   {
    "duration": 118,
    "start_time": "2022-09-11T20:15:35.695Z"
   },
   {
    "duration": 107,
    "start_time": "2022-09-11T20:15:47.286Z"
   },
   {
    "duration": 110,
    "start_time": "2022-09-11T20:15:51.689Z"
   },
   {
    "duration": 107,
    "start_time": "2022-09-11T20:15:54.928Z"
   },
   {
    "duration": 10,
    "start_time": "2022-09-11T20:19:52.278Z"
   },
   {
    "duration": 15,
    "start_time": "2022-09-11T20:20:01.000Z"
   },
   {
    "duration": 8,
    "start_time": "2022-09-11T20:20:03.761Z"
   },
   {
    "duration": 5,
    "start_time": "2022-09-11T20:20:06.048Z"
   },
   {
    "duration": 13,
    "start_time": "2022-09-11T20:24:32.387Z"
   },
   {
    "duration": 121,
    "start_time": "2022-09-11T20:24:34.331Z"
   },
   {
    "duration": 2,
    "start_time": "2022-09-11T20:24:37.409Z"
   },
   {
    "duration": 4,
    "start_time": "2022-09-11T20:24:38.369Z"
   },
   {
    "duration": 5,
    "start_time": "2022-09-11T20:24:39.523Z"
   },
   {
    "duration": 5,
    "start_time": "2022-09-11T20:24:39.994Z"
   },
   {
    "duration": 4,
    "start_time": "2022-09-11T20:24:40.498Z"
   },
   {
    "duration": 123,
    "start_time": "2022-09-11T20:24:42.869Z"
   },
   {
    "duration": 112,
    "start_time": "2022-09-11T20:24:56.461Z"
   },
   {
    "duration": 5,
    "start_time": "2022-09-11T20:25:35.753Z"
   },
   {
    "duration": 4,
    "start_time": "2022-09-11T20:25:36.884Z"
   },
   {
    "duration": 5,
    "start_time": "2022-09-11T20:25:37.057Z"
   },
   {
    "duration": 120,
    "start_time": "2022-09-11T20:25:37.266Z"
   },
   {
    "duration": 115,
    "start_time": "2022-09-11T20:25:46.099Z"
   },
   {
    "duration": 1861,
    "start_time": "2022-09-12T11:14:40.559Z"
   },
   {
    "duration": 21,
    "start_time": "2022-09-12T11:14:42.422Z"
   },
   {
    "duration": 37,
    "start_time": "2022-09-12T11:14:42.445Z"
   },
   {
    "duration": 9,
    "start_time": "2022-09-12T11:14:42.484Z"
   },
   {
    "duration": 33,
    "start_time": "2022-09-12T11:14:42.496Z"
   },
   {
    "duration": 4,
    "start_time": "2022-09-12T11:14:42.530Z"
   },
   {
    "duration": 23,
    "start_time": "2022-09-12T11:14:42.535Z"
   },
   {
    "duration": 8,
    "start_time": "2022-09-12T11:14:42.562Z"
   },
   {
    "duration": 16,
    "start_time": "2022-09-12T11:14:42.571Z"
   },
   {
    "duration": 12,
    "start_time": "2022-09-12T11:14:42.589Z"
   },
   {
    "duration": 34,
    "start_time": "2022-09-12T11:14:42.603Z"
   },
   {
    "duration": 26,
    "start_time": "2022-09-12T11:14:42.639Z"
   },
   {
    "duration": 5,
    "start_time": "2022-09-12T11:14:42.667Z"
   },
   {
    "duration": 33,
    "start_time": "2022-09-12T11:14:42.675Z"
   },
   {
    "duration": 22,
    "start_time": "2022-09-12T11:14:42.710Z"
   },
   {
    "duration": 25,
    "start_time": "2022-09-12T11:14:42.734Z"
   },
   {
    "duration": 5,
    "start_time": "2022-09-12T11:14:42.761Z"
   },
   {
    "duration": 16,
    "start_time": "2022-09-12T11:14:42.768Z"
   },
   {
    "duration": 5,
    "start_time": "2022-09-12T11:14:42.786Z"
   },
   {
    "duration": 6,
    "start_time": "2022-09-12T11:14:42.792Z"
   },
   {
    "duration": 30,
    "start_time": "2022-09-12T11:14:42.800Z"
   },
   {
    "duration": 56,
    "start_time": "2022-09-12T11:14:42.831Z"
   },
   {
    "duration": 154,
    "start_time": "2022-09-12T11:14:42.888Z"
   },
   {
    "duration": 8,
    "start_time": "2022-09-12T11:14:43.044Z"
   },
   {
    "duration": 14,
    "start_time": "2022-09-12T11:14:43.059Z"
   },
   {
    "duration": 15,
    "start_time": "2022-09-12T11:14:43.074Z"
   },
   {
    "duration": 4,
    "start_time": "2022-09-12T11:14:43.090Z"
   },
   {
    "duration": 12,
    "start_time": "2022-09-12T11:14:43.096Z"
   },
   {
    "duration": 161,
    "start_time": "2022-09-12T11:14:43.109Z"
   },
   {
    "duration": 153,
    "start_time": "2022-09-12T11:14:43.272Z"
   },
   {
    "duration": 4,
    "start_time": "2022-09-12T11:14:43.427Z"
   },
   {
    "duration": 17,
    "start_time": "2022-09-12T11:14:43.448Z"
   },
   {
    "duration": 42,
    "start_time": "2022-09-12T11:14:43.467Z"
   },
   {
    "duration": 9,
    "start_time": "2022-09-12T11:14:43.511Z"
   },
   {
    "duration": 9,
    "start_time": "2022-09-12T11:14:43.522Z"
   },
   {
    "duration": 114,
    "start_time": "2022-09-12T11:19:38.274Z"
   },
   {
    "duration": 13,
    "start_time": "2022-09-12T11:19:47.011Z"
   },
   {
    "duration": 23,
    "start_time": "2022-09-12T11:20:01.117Z"
   },
   {
    "duration": 12,
    "start_time": "2022-09-12T11:20:20.584Z"
   },
   {
    "duration": 49,
    "start_time": "2022-09-12T11:22:53.283Z"
   },
   {
    "duration": 4,
    "start_time": "2022-09-12T11:23:06.300Z"
   },
   {
    "duration": 15,
    "start_time": "2022-09-12T11:23:07.995Z"
   },
   {
    "duration": 26,
    "start_time": "2022-09-12T11:25:10.707Z"
   },
   {
    "duration": 26,
    "start_time": "2022-09-12T11:25:48.088Z"
   },
   {
    "duration": 4,
    "start_time": "2022-09-12T11:26:22.700Z"
   },
   {
    "duration": 21,
    "start_time": "2022-09-12T11:26:24.599Z"
   },
   {
    "duration": 89,
    "start_time": "2022-09-12T11:26:33.894Z"
   },
   {
    "duration": 92,
    "start_time": "2022-09-12T11:26:48.559Z"
   },
   {
    "duration": 87,
    "start_time": "2022-09-12T11:27:24.066Z"
   },
   {
    "duration": 5,
    "start_time": "2022-09-12T11:27:47.098Z"
   },
   {
    "duration": 20,
    "start_time": "2022-09-12T11:27:48.998Z"
   },
   {
    "duration": 5,
    "start_time": "2022-09-12T11:27:59.864Z"
   },
   {
    "duration": 14,
    "start_time": "2022-09-12T11:28:01.681Z"
   },
   {
    "duration": 15,
    "start_time": "2022-09-12T11:28:14.699Z"
   },
   {
    "duration": 32,
    "start_time": "2022-09-12T11:28:20.523Z"
   },
   {
    "duration": 19,
    "start_time": "2022-09-12T11:28:24.595Z"
   },
   {
    "duration": 20,
    "start_time": "2022-09-12T11:31:23.891Z"
   },
   {
    "duration": 18,
    "start_time": "2022-09-12T11:31:33.308Z"
   },
   {
    "duration": 19,
    "start_time": "2022-09-12T11:33:42.573Z"
   },
   {
    "duration": 22,
    "start_time": "2022-09-12T11:33:53.838Z"
   },
   {
    "duration": 35,
    "start_time": "2022-09-12T11:34:19.729Z"
   },
   {
    "duration": 28,
    "start_time": "2022-09-12T11:34:27.178Z"
   },
   {
    "duration": 1589,
    "start_time": "2022-09-12T18:14:48.089Z"
   },
   {
    "duration": 19,
    "start_time": "2022-09-12T18:14:49.680Z"
   },
   {
    "duration": 15,
    "start_time": "2022-09-12T18:14:49.700Z"
   },
   {
    "duration": 26,
    "start_time": "2022-09-12T18:14:49.717Z"
   },
   {
    "duration": 40,
    "start_time": "2022-09-12T18:14:49.745Z"
   },
   {
    "duration": 3,
    "start_time": "2022-09-12T18:14:49.787Z"
   },
   {
    "duration": 21,
    "start_time": "2022-09-12T18:14:49.792Z"
   },
   {
    "duration": 18,
    "start_time": "2022-09-12T18:14:49.814Z"
   },
   {
    "duration": 18,
    "start_time": "2022-09-12T18:14:49.834Z"
   },
   {
    "duration": 14,
    "start_time": "2022-09-12T18:14:49.854Z"
   },
   {
    "duration": 45,
    "start_time": "2022-09-12T18:14:49.870Z"
   },
   {
    "duration": 7,
    "start_time": "2022-09-12T18:14:49.917Z"
   },
   {
    "duration": 21,
    "start_time": "2022-09-12T18:14:49.925Z"
   },
   {
    "duration": 19,
    "start_time": "2022-09-12T18:14:49.948Z"
   },
   {
    "duration": 29,
    "start_time": "2022-09-12T18:14:49.968Z"
   },
   {
    "duration": 15,
    "start_time": "2022-09-12T18:14:49.999Z"
   },
   {
    "duration": 13,
    "start_time": "2022-09-12T18:14:50.015Z"
   },
   {
    "duration": 22,
    "start_time": "2022-09-12T18:14:50.029Z"
   },
   {
    "duration": 21,
    "start_time": "2022-09-12T18:14:50.053Z"
   },
   {
    "duration": 30,
    "start_time": "2022-09-12T18:14:50.075Z"
   },
   {
    "duration": 33,
    "start_time": "2022-09-12T18:14:50.107Z"
   },
   {
    "duration": 24,
    "start_time": "2022-09-12T18:14:50.141Z"
   },
   {
    "duration": 26,
    "start_time": "2022-09-12T18:14:50.166Z"
   },
   {
    "duration": 98,
    "start_time": "2022-09-12T18:14:50.193Z"
   },
   {
    "duration": 0,
    "start_time": "2022-09-12T18:14:50.292Z"
   },
   {
    "duration": 0,
    "start_time": "2022-09-12T18:14:50.293Z"
   },
   {
    "duration": 0,
    "start_time": "2022-09-12T18:14:50.294Z"
   },
   {
    "duration": 0,
    "start_time": "2022-09-12T18:14:50.295Z"
   },
   {
    "duration": 0,
    "start_time": "2022-09-12T18:14:50.296Z"
   },
   {
    "duration": 0,
    "start_time": "2022-09-12T18:14:50.297Z"
   },
   {
    "duration": 0,
    "start_time": "2022-09-12T18:14:50.298Z"
   },
   {
    "duration": 0,
    "start_time": "2022-09-12T18:14:50.299Z"
   },
   {
    "duration": 0,
    "start_time": "2022-09-12T18:14:50.300Z"
   },
   {
    "duration": 0,
    "start_time": "2022-09-12T18:14:50.300Z"
   },
   {
    "duration": 0,
    "start_time": "2022-09-12T18:14:50.301Z"
   },
   {
    "duration": 0,
    "start_time": "2022-09-12T18:14:50.302Z"
   },
   {
    "duration": 17,
    "start_time": "2022-09-12T18:15:50.688Z"
   },
   {
    "duration": 4,
    "start_time": "2022-09-12T18:16:15.171Z"
   },
   {
    "duration": 23,
    "start_time": "2022-09-12T18:16:17.833Z"
   },
   {
    "duration": 103,
    "start_time": "2022-09-12T18:26:14.913Z"
   },
   {
    "duration": 3,
    "start_time": "2022-09-12T18:26:20.090Z"
   },
   {
    "duration": 6,
    "start_time": "2022-09-12T18:26:22.434Z"
   },
   {
    "duration": 5,
    "start_time": "2022-09-12T18:26:42.500Z"
   },
   {
    "duration": 4,
    "start_time": "2022-09-12T18:26:44.579Z"
   },
   {
    "duration": 3,
    "start_time": "2022-09-12T18:26:46.492Z"
   },
   {
    "duration": 9,
    "start_time": "2022-09-12T18:26:46.684Z"
   },
   {
    "duration": 2,
    "start_time": "2022-09-12T18:26:46.860Z"
   },
   {
    "duration": 13,
    "start_time": "2022-09-12T18:26:47.027Z"
   },
   {
    "duration": 3,
    "start_time": "2022-09-12T18:26:52.677Z"
   },
   {
    "duration": 7,
    "start_time": "2022-09-12T18:26:53.836Z"
   },
   {
    "duration": 3,
    "start_time": "2022-09-12T18:30:59.669Z"
   },
   {
    "duration": 25,
    "start_time": "2022-09-12T18:31:01.485Z"
   },
   {
    "duration": 4,
    "start_time": "2022-09-12T18:41:06.993Z"
   },
   {
    "duration": 11,
    "start_time": "2022-09-12T18:41:08.986Z"
   },
   {
    "duration": 3,
    "start_time": "2022-09-12T18:41:15.075Z"
   },
   {
    "duration": 11,
    "start_time": "2022-09-12T18:41:15.803Z"
   },
   {
    "duration": 3,
    "start_time": "2022-09-12T18:41:42.789Z"
   },
   {
    "duration": 12,
    "start_time": "2022-09-12T18:41:43.991Z"
   },
   {
    "duration": 3,
    "start_time": "2022-09-12T18:41:51.360Z"
   },
   {
    "duration": 12,
    "start_time": "2022-09-12T18:41:52.005Z"
   },
   {
    "duration": 1416,
    "start_time": "2022-09-12T18:42:25.662Z"
   },
   {
    "duration": 18,
    "start_time": "2022-09-12T18:42:27.080Z"
   },
   {
    "duration": 15,
    "start_time": "2022-09-12T18:42:27.099Z"
   },
   {
    "duration": 9,
    "start_time": "2022-09-12T18:42:27.117Z"
   },
   {
    "duration": 54,
    "start_time": "2022-09-12T18:42:27.128Z"
   },
   {
    "duration": 4,
    "start_time": "2022-09-12T18:42:27.183Z"
   },
   {
    "duration": 15,
    "start_time": "2022-09-12T18:42:27.188Z"
   },
   {
    "duration": 4,
    "start_time": "2022-09-12T18:42:27.205Z"
   },
   {
    "duration": 11,
    "start_time": "2022-09-12T18:42:27.210Z"
   },
   {
    "duration": 5,
    "start_time": "2022-09-12T18:42:27.223Z"
   },
   {
    "duration": 47,
    "start_time": "2022-09-12T18:42:27.230Z"
   },
   {
    "duration": 8,
    "start_time": "2022-09-12T18:42:27.279Z"
   },
   {
    "duration": 4,
    "start_time": "2022-09-12T18:42:27.288Z"
   },
   {
    "duration": 14,
    "start_time": "2022-09-12T18:42:27.293Z"
   },
   {
    "duration": 21,
    "start_time": "2022-09-12T18:42:27.309Z"
   },
   {
    "duration": 16,
    "start_time": "2022-09-12T18:42:27.331Z"
   },
   {
    "duration": 3,
    "start_time": "2022-09-12T18:42:27.348Z"
   },
   {
    "duration": 31,
    "start_time": "2022-09-12T18:42:27.353Z"
   },
   {
    "duration": 11,
    "start_time": "2022-09-12T18:42:27.386Z"
   },
   {
    "duration": 5,
    "start_time": "2022-09-12T18:42:27.398Z"
   },
   {
    "duration": 11,
    "start_time": "2022-09-12T18:42:27.404Z"
   },
   {
    "duration": 6,
    "start_time": "2022-09-12T18:42:27.417Z"
   },
   {
    "duration": 21,
    "start_time": "2022-09-12T18:42:27.424Z"
   },
   {
    "duration": 109,
    "start_time": "2022-09-12T18:42:27.446Z"
   },
   {
    "duration": 0,
    "start_time": "2022-09-12T18:42:27.557Z"
   },
   {
    "duration": 0,
    "start_time": "2022-09-12T18:42:27.558Z"
   },
   {
    "duration": 0,
    "start_time": "2022-09-12T18:42:27.559Z"
   },
   {
    "duration": 0,
    "start_time": "2022-09-12T18:42:27.560Z"
   },
   {
    "duration": 0,
    "start_time": "2022-09-12T18:42:27.561Z"
   },
   {
    "duration": 0,
    "start_time": "2022-09-12T18:42:27.562Z"
   },
   {
    "duration": 0,
    "start_time": "2022-09-12T18:42:27.563Z"
   },
   {
    "duration": 0,
    "start_time": "2022-09-12T18:42:27.577Z"
   },
   {
    "duration": 0,
    "start_time": "2022-09-12T18:42:27.578Z"
   },
   {
    "duration": 0,
    "start_time": "2022-09-12T18:42:27.579Z"
   },
   {
    "duration": 0,
    "start_time": "2022-09-12T18:42:27.580Z"
   },
   {
    "duration": 0,
    "start_time": "2022-09-12T18:42:27.581Z"
   },
   {
    "duration": 3,
    "start_time": "2022-09-12T18:43:17.330Z"
   },
   {
    "duration": 13,
    "start_time": "2022-09-12T18:43:18.579Z"
   },
   {
    "duration": 15,
    "start_time": "2022-09-12T18:50:25.849Z"
   },
   {
    "duration": 16,
    "start_time": "2022-09-12T18:51:18.839Z"
   },
   {
    "duration": 18,
    "start_time": "2022-09-12T18:51:48.916Z"
   },
   {
    "duration": 3,
    "start_time": "2022-09-12T18:52:20.007Z"
   },
   {
    "duration": 13,
    "start_time": "2022-09-12T18:52:21.655Z"
   },
   {
    "duration": 11,
    "start_time": "2022-09-12T18:53:02.028Z"
   },
   {
    "duration": 4,
    "start_time": "2022-09-12T18:53:26.464Z"
   },
   {
    "duration": 12,
    "start_time": "2022-09-12T18:53:27.287Z"
   },
   {
    "duration": 15,
    "start_time": "2022-09-12T18:53:46.594Z"
   },
   {
    "duration": 22,
    "start_time": "2022-09-12T18:53:53.785Z"
   },
   {
    "duration": 4,
    "start_time": "2022-09-12T19:01:44.640Z"
   },
   {
    "duration": 26,
    "start_time": "2022-09-12T19:01:45.486Z"
   },
   {
    "duration": 5,
    "start_time": "2022-09-12T19:02:08.873Z"
   },
   {
    "duration": 21,
    "start_time": "2022-09-12T19:02:09.490Z"
   },
   {
    "duration": 5,
    "start_time": "2022-09-12T19:02:19.947Z"
   },
   {
    "duration": 30,
    "start_time": "2022-09-12T19:02:21.812Z"
   },
   {
    "duration": 2,
    "start_time": "2022-09-12T19:06:55.382Z"
   },
   {
    "duration": 20,
    "start_time": "2022-09-12T19:07:53.789Z"
   },
   {
    "duration": 19,
    "start_time": "2022-09-12T19:08:08.471Z"
   },
   {
    "duration": 11,
    "start_time": "2022-09-12T19:08:17.585Z"
   },
   {
    "duration": 12,
    "start_time": "2022-09-12T19:08:45.452Z"
   },
   {
    "duration": 20,
    "start_time": "2022-09-12T19:08:49.541Z"
   },
   {
    "duration": 18,
    "start_time": "2022-09-12T19:09:31.394Z"
   },
   {
    "duration": 18,
    "start_time": "2022-09-12T19:09:41.124Z"
   },
   {
    "duration": 17,
    "start_time": "2022-09-12T19:09:48.653Z"
   },
   {
    "duration": 94,
    "start_time": "2022-09-12T19:17:02.099Z"
   },
   {
    "duration": 4,
    "start_time": "2022-09-12T19:17:06.219Z"
   },
   {
    "duration": 31,
    "start_time": "2022-09-12T19:17:12.717Z"
   },
   {
    "duration": 5,
    "start_time": "2022-09-12T19:19:28.605Z"
   },
   {
    "duration": 15,
    "start_time": "2022-09-12T19:19:31.934Z"
   },
   {
    "duration": 6,
    "start_time": "2022-09-12T19:20:35.341Z"
   },
   {
    "duration": 13,
    "start_time": "2022-09-12T19:20:35.998Z"
   },
   {
    "duration": 6,
    "start_time": "2022-09-12T19:21:14.395Z"
   },
   {
    "duration": 16,
    "start_time": "2022-09-12T19:21:15.163Z"
   },
   {
    "duration": 6,
    "start_time": "2022-09-12T19:25:30.690Z"
   },
   {
    "duration": 19,
    "start_time": "2022-09-12T19:25:31.404Z"
   },
   {
    "duration": 5,
    "start_time": "2022-09-12T19:28:44.964Z"
   },
   {
    "duration": 13,
    "start_time": "2022-09-12T19:28:45.663Z"
   },
   {
    "duration": 4,
    "start_time": "2022-09-12T19:29:23.152Z"
   },
   {
    "duration": 19,
    "start_time": "2022-09-12T19:29:23.904Z"
   },
   {
    "duration": 12,
    "start_time": "2022-09-12T19:29:30.642Z"
   },
   {
    "duration": 25,
    "start_time": "2022-09-12T19:30:28.688Z"
   },
   {
    "duration": 6,
    "start_time": "2022-09-12T19:30:41.713Z"
   },
   {
    "duration": 15,
    "start_time": "2022-09-12T19:30:42.307Z"
   },
   {
    "duration": 18,
    "start_time": "2022-09-12T19:30:44.818Z"
   },
   {
    "duration": 18,
    "start_time": "2022-09-12T19:30:49.747Z"
   },
   {
    "duration": 9,
    "start_time": "2022-09-12T19:31:07.852Z"
   },
   {
    "duration": 12,
    "start_time": "2022-09-12T19:31:08.718Z"
   },
   {
    "duration": 7,
    "start_time": "2022-09-12T19:31:12.853Z"
   },
   {
    "duration": 19,
    "start_time": "2022-09-12T19:31:13.374Z"
   },
   {
    "duration": 4,
    "start_time": "2022-09-12T19:31:23.203Z"
   },
   {
    "duration": 20,
    "start_time": "2022-09-12T19:31:24.071Z"
   },
   {
    "duration": 4,
    "start_time": "2022-09-12T19:31:40.921Z"
   },
   {
    "duration": 21,
    "start_time": "2022-09-12T19:31:41.993Z"
   },
   {
    "duration": 8,
    "start_time": "2022-09-12T19:31:48.691Z"
   },
   {
    "duration": 15,
    "start_time": "2022-09-12T19:31:50.523Z"
   },
   {
    "duration": 4,
    "start_time": "2022-09-12T19:32:01.212Z"
   },
   {
    "duration": 12,
    "start_time": "2022-09-12T19:32:01.709Z"
   },
   {
    "duration": 4,
    "start_time": "2022-09-12T19:32:19.334Z"
   },
   {
    "duration": 15,
    "start_time": "2022-09-12T19:32:19.621Z"
   },
   {
    "duration": 22,
    "start_time": "2022-09-12T19:32:19.863Z"
   },
   {
    "duration": 18,
    "start_time": "2022-09-12T19:32:45.146Z"
   },
   {
    "duration": 4,
    "start_time": "2022-09-12T19:36:00.181Z"
   },
   {
    "duration": 16,
    "start_time": "2022-09-12T19:36:00.898Z"
   },
   {
    "duration": 4,
    "start_time": "2022-09-12T19:41:15.433Z"
   },
   {
    "duration": 1505,
    "start_time": "2022-09-12T19:41:16.154Z"
   },
   {
    "duration": 4,
    "start_time": "2022-09-12T19:42:13.289Z"
   },
   {
    "duration": 17,
    "start_time": "2022-09-12T19:42:13.944Z"
   },
   {
    "duration": 20,
    "start_time": "2022-09-12T19:42:37.443Z"
   },
   {
    "duration": 10,
    "start_time": "2022-09-12T19:44:24.850Z"
   },
   {
    "duration": 22,
    "start_time": "2022-09-12T19:44:39.852Z"
   },
   {
    "duration": 17,
    "start_time": "2022-09-12T19:46:17.032Z"
   },
   {
    "duration": 18,
    "start_time": "2022-09-12T19:46:19.520Z"
   },
   {
    "duration": 33,
    "start_time": "2022-09-12T19:46:29.593Z"
   },
   {
    "duration": 4,
    "start_time": "2022-09-12T19:46:33.862Z"
   },
   {
    "duration": 15,
    "start_time": "2022-09-12T19:46:34.426Z"
   },
   {
    "duration": 19,
    "start_time": "2022-09-12T19:46:37.154Z"
   },
   {
    "duration": 16,
    "start_time": "2022-09-12T19:46:40.051Z"
   },
   {
    "duration": 31,
    "start_time": "2022-09-12T19:46:43.163Z"
   },
   {
    "duration": 47,
    "start_time": "2022-09-12T19:46:48.789Z"
   },
   {
    "duration": 22,
    "start_time": "2022-09-12T19:46:54.253Z"
   },
   {
    "duration": 131,
    "start_time": "2022-09-12T19:52:14.652Z"
   },
   {
    "duration": 4,
    "start_time": "2022-09-12T19:52:47.581Z"
   },
   {
    "duration": 18,
    "start_time": "2022-09-12T19:52:57.493Z"
   },
   {
    "duration": 4,
    "start_time": "2022-09-12T19:53:02.030Z"
   },
   {
    "duration": 21,
    "start_time": "2022-09-12T19:53:02.734Z"
   },
   {
    "duration": 19,
    "start_time": "2022-09-12T19:53:10.494Z"
   },
   {
    "duration": 1572,
    "start_time": "2022-09-12T19:53:17.648Z"
   },
   {
    "duration": 18,
    "start_time": "2022-09-12T19:53:19.222Z"
   },
   {
    "duration": 13,
    "start_time": "2022-09-12T19:53:19.241Z"
   },
   {
    "duration": 24,
    "start_time": "2022-09-12T19:53:19.256Z"
   },
   {
    "duration": 40,
    "start_time": "2022-09-12T19:53:19.281Z"
   },
   {
    "duration": 4,
    "start_time": "2022-09-12T19:53:19.323Z"
   },
   {
    "duration": 15,
    "start_time": "2022-09-12T19:53:19.329Z"
   },
   {
    "duration": 5,
    "start_time": "2022-09-12T19:53:19.346Z"
   },
   {
    "duration": 31,
    "start_time": "2022-09-12T19:53:19.352Z"
   },
   {
    "duration": 12,
    "start_time": "2022-09-12T19:53:19.386Z"
   },
   {
    "duration": 35,
    "start_time": "2022-09-12T19:53:19.400Z"
   },
   {
    "duration": 8,
    "start_time": "2022-09-12T19:53:19.437Z"
   },
   {
    "duration": 6,
    "start_time": "2022-09-12T19:53:19.447Z"
   },
   {
    "duration": 13,
    "start_time": "2022-09-12T19:53:19.455Z"
   },
   {
    "duration": 36,
    "start_time": "2022-09-12T19:53:19.470Z"
   },
   {
    "duration": 15,
    "start_time": "2022-09-12T19:53:19.508Z"
   },
   {
    "duration": 3,
    "start_time": "2022-09-12T19:53:19.525Z"
   },
   {
    "duration": 13,
    "start_time": "2022-09-12T19:53:19.529Z"
   },
   {
    "duration": 9,
    "start_time": "2022-09-12T19:53:19.544Z"
   },
   {
    "duration": 3,
    "start_time": "2022-09-12T19:53:19.554Z"
   },
   {
    "duration": 28,
    "start_time": "2022-09-12T19:53:19.559Z"
   },
   {
    "duration": 6,
    "start_time": "2022-09-12T19:53:19.590Z"
   },
   {
    "duration": 26,
    "start_time": "2022-09-12T19:53:19.598Z"
   },
   {
    "duration": 1384,
    "start_time": "2022-09-12T19:53:19.625Z"
   },
   {
    "duration": 20,
    "start_time": "2022-09-12T19:53:21.011Z"
   },
   {
    "duration": 18,
    "start_time": "2022-09-12T19:53:21.032Z"
   },
   {
    "duration": 2,
    "start_time": "2022-09-12T19:53:21.051Z"
   },
   {
    "duration": 21,
    "start_time": "2022-09-12T19:53:21.077Z"
   },
   {
    "duration": 16,
    "start_time": "2022-09-12T19:53:31.304Z"
   },
   {
    "duration": 15,
    "start_time": "2022-09-12T19:53:44.081Z"
   },
   {
    "duration": 20,
    "start_time": "2022-09-12T19:53:55.092Z"
   },
   {
    "duration": 958,
    "start_time": "2022-09-12T19:54:08.573Z"
   },
   {
    "duration": 69,
    "start_time": "2022-09-12T19:55:42.986Z"
   },
   {
    "duration": 20,
    "start_time": "2022-09-12T19:56:02.669Z"
   },
   {
    "duration": 125,
    "start_time": "2022-09-12T19:56:14.414Z"
   },
   {
    "duration": 19,
    "start_time": "2022-09-12T19:57:02.075Z"
   },
   {
    "duration": 111,
    "start_time": "2022-09-12T19:57:06.156Z"
   },
   {
    "duration": 35,
    "start_time": "2022-09-12T19:57:08.973Z"
   },
   {
    "duration": 109,
    "start_time": "2022-09-12T19:57:36.641Z"
   },
   {
    "duration": 172,
    "start_time": "2022-09-12T19:57:43.386Z"
   },
   {
    "duration": 113,
    "start_time": "2022-09-12T19:57:47.306Z"
   },
   {
    "duration": 118,
    "start_time": "2022-09-12T19:57:53.915Z"
   },
   {
    "duration": 111,
    "start_time": "2022-09-12T19:58:01.732Z"
   },
   {
    "duration": 9,
    "start_time": "2022-09-12T19:59:01.771Z"
   },
   {
    "duration": 116,
    "start_time": "2022-09-12T19:59:08.179Z"
   },
   {
    "duration": 120,
    "start_time": "2022-09-12T19:59:14.276Z"
   },
   {
    "duration": 82,
    "start_time": "2022-09-12T19:59:28.513Z"
   },
   {
    "duration": 91,
    "start_time": "2022-09-12T20:00:46.865Z"
   },
   {
    "duration": 81,
    "start_time": "2022-09-12T20:00:49.665Z"
   },
   {
    "duration": 111,
    "start_time": "2022-09-12T20:00:57.594Z"
   },
   {
    "duration": 84,
    "start_time": "2022-09-12T20:01:01.147Z"
   },
   {
    "duration": 101,
    "start_time": "2022-09-12T20:01:03.611Z"
   },
   {
    "duration": 91,
    "start_time": "2022-09-12T20:01:06.219Z"
   },
   {
    "duration": 81,
    "start_time": "2022-09-12T20:01:31.607Z"
   },
   {
    "duration": 80,
    "start_time": "2022-09-12T20:01:37.287Z"
   },
   {
    "duration": 193,
    "start_time": "2022-09-12T20:01:57.538Z"
   },
   {
    "duration": 105,
    "start_time": "2022-09-12T20:02:16.252Z"
   },
   {
    "duration": 85,
    "start_time": "2022-09-12T20:02:22.117Z"
   },
   {
    "duration": 83,
    "start_time": "2022-09-12T20:02:24.558Z"
   },
   {
    "duration": 117,
    "start_time": "2022-09-12T20:02:27.607Z"
   },
   {
    "duration": 5,
    "start_time": "2022-09-12T20:02:54.026Z"
   },
   {
    "duration": 17,
    "start_time": "2022-09-12T20:02:54.721Z"
   },
   {
    "duration": 1460,
    "start_time": "2022-09-12T20:03:02.961Z"
   },
   {
    "duration": 19,
    "start_time": "2022-09-12T20:03:04.423Z"
   },
   {
    "duration": 14,
    "start_time": "2022-09-12T20:03:04.443Z"
   },
   {
    "duration": 19,
    "start_time": "2022-09-12T20:03:04.459Z"
   },
   {
    "duration": 30,
    "start_time": "2022-09-12T20:03:04.479Z"
   },
   {
    "duration": 4,
    "start_time": "2022-09-12T20:03:04.511Z"
   },
   {
    "duration": 10,
    "start_time": "2022-09-12T20:03:04.516Z"
   },
   {
    "duration": 4,
    "start_time": "2022-09-12T20:03:04.528Z"
   },
   {
    "duration": 7,
    "start_time": "2022-09-12T20:03:04.534Z"
   },
   {
    "duration": 35,
    "start_time": "2022-09-12T20:03:04.544Z"
   },
   {
    "duration": 30,
    "start_time": "2022-09-12T20:03:04.581Z"
   },
   {
    "duration": 10,
    "start_time": "2022-09-12T20:03:04.613Z"
   },
   {
    "duration": 4,
    "start_time": "2022-09-12T20:03:04.625Z"
   },
   {
    "duration": 12,
    "start_time": "2022-09-12T20:03:04.630Z"
   },
   {
    "duration": 45,
    "start_time": "2022-09-12T20:03:04.643Z"
   },
   {
    "duration": 17,
    "start_time": "2022-09-12T20:03:04.690Z"
   },
   {
    "duration": 4,
    "start_time": "2022-09-12T20:03:04.708Z"
   },
   {
    "duration": 13,
    "start_time": "2022-09-12T20:03:04.714Z"
   },
   {
    "duration": 6,
    "start_time": "2022-09-12T20:03:04.729Z"
   },
   {
    "duration": 3,
    "start_time": "2022-09-12T20:03:04.737Z"
   },
   {
    "duration": 41,
    "start_time": "2022-09-12T20:03:04.742Z"
   },
   {
    "duration": 6,
    "start_time": "2022-09-12T20:03:04.785Z"
   },
   {
    "duration": 26,
    "start_time": "2022-09-12T20:03:04.792Z"
   },
   {
    "duration": 107,
    "start_time": "2022-09-12T20:03:04.820Z"
   },
   {
    "duration": 19,
    "start_time": "2022-09-12T20:03:04.929Z"
   },
   {
    "duration": 28,
    "start_time": "2022-09-12T20:03:04.950Z"
   },
   {
    "duration": 2,
    "start_time": "2022-09-12T20:03:04.979Z"
   },
   {
    "duration": 23,
    "start_time": "2022-09-12T20:03:04.984Z"
   },
   {
    "duration": 16,
    "start_time": "2022-09-12T20:03:10.373Z"
   },
   {
    "duration": 3,
    "start_time": "2022-09-12T20:03:11.910Z"
   },
   {
    "duration": 17,
    "start_time": "2022-09-12T20:03:12.470Z"
   },
   {
    "duration": 3,
    "start_time": "2022-09-12T20:03:19.879Z"
   },
   {
    "duration": 80,
    "start_time": "2022-09-12T20:03:20.535Z"
   },
   {
    "duration": 3,
    "start_time": "2022-09-12T20:03:26.064Z"
   },
   {
    "duration": 15,
    "start_time": "2022-09-12T20:03:26.440Z"
   },
   {
    "duration": 4,
    "start_time": "2022-09-12T20:03:30.784Z"
   },
   {
    "duration": 105,
    "start_time": "2022-09-12T20:03:31.441Z"
   },
   {
    "duration": 16,
    "start_time": "2022-09-12T20:03:40.531Z"
   },
   {
    "duration": 5,
    "start_time": "2022-09-12T20:03:43.154Z"
   },
   {
    "duration": 17,
    "start_time": "2022-09-12T20:03:43.524Z"
   },
   {
    "duration": 5,
    "start_time": "2022-09-12T20:04:07.534Z"
   },
   {
    "duration": 24,
    "start_time": "2022-09-12T20:04:08.704Z"
   },
   {
    "duration": 88,
    "start_time": "2022-09-12T20:04:18.511Z"
   },
   {
    "duration": 95,
    "start_time": "2022-09-12T20:04:22.560Z"
   },
   {
    "duration": 82,
    "start_time": "2022-09-12T20:04:27.593Z"
   },
   {
    "duration": 169,
    "start_time": "2022-09-12T20:05:28.048Z"
   },
   {
    "duration": 79,
    "start_time": "2022-09-12T20:06:15.751Z"
   },
   {
    "duration": 75,
    "start_time": "2022-09-12T20:06:20.775Z"
   },
   {
    "duration": 91,
    "start_time": "2022-09-12T20:06:29.937Z"
   },
   {
    "duration": 84,
    "start_time": "2022-09-12T20:06:33.601Z"
   },
   {
    "duration": 84,
    "start_time": "2022-09-12T20:07:00.036Z"
   },
   {
    "duration": 22,
    "start_time": "2022-09-12T20:16:18.948Z"
   },
   {
    "duration": 18,
    "start_time": "2022-09-12T20:16:35.920Z"
   },
   {
    "duration": 21,
    "start_time": "2022-09-12T20:17:00.370Z"
   },
   {
    "duration": 22,
    "start_time": "2022-09-12T20:18:47.889Z"
   },
   {
    "duration": 18,
    "start_time": "2022-09-12T20:18:54.976Z"
   },
   {
    "duration": 86,
    "start_time": "2022-09-12T20:19:02.891Z"
   },
   {
    "duration": 79,
    "start_time": "2022-09-12T20:20:05.160Z"
   },
   {
    "duration": 114,
    "start_time": "2022-09-12T20:22:27.138Z"
   },
   {
    "duration": 129,
    "start_time": "2022-09-12T20:23:08.280Z"
   },
   {
    "duration": 120,
    "start_time": "2022-09-12T20:23:12.280Z"
   },
   {
    "duration": 70,
    "start_time": "2022-09-12T20:24:08.527Z"
   },
   {
    "duration": 64,
    "start_time": "2022-09-12T20:24:11.232Z"
   },
   {
    "duration": 110,
    "start_time": "2022-09-12T20:25:18.912Z"
   },
   {
    "duration": 147,
    "start_time": "2022-09-12T20:25:26.394Z"
   },
   {
    "duration": 161,
    "start_time": "2022-09-12T20:27:21.841Z"
   },
   {
    "duration": 134,
    "start_time": "2022-09-12T20:28:19.248Z"
   },
   {
    "duration": 224,
    "start_time": "2022-09-12T20:28:29.425Z"
   },
   {
    "duration": 133,
    "start_time": "2022-09-12T20:29:58.356Z"
   },
   {
    "duration": 10,
    "start_time": "2022-09-12T20:30:13.733Z"
   },
   {
    "duration": 141,
    "start_time": "2022-09-12T20:30:24.087Z"
   },
   {
    "duration": 164,
    "start_time": "2022-09-12T20:31:13.277Z"
   },
   {
    "duration": 112,
    "start_time": "2022-09-12T20:31:16.639Z"
   },
   {
    "duration": 149,
    "start_time": "2022-09-12T20:31:50.442Z"
   },
   {
    "duration": 184,
    "start_time": "2022-09-12T20:33:42.049Z"
   },
   {
    "duration": 184,
    "start_time": "2022-09-12T20:33:46.010Z"
   },
   {
    "duration": 177,
    "start_time": "2022-09-12T20:34:02.219Z"
   },
   {
    "duration": 175,
    "start_time": "2022-09-12T20:34:08.395Z"
   },
   {
    "duration": 144,
    "start_time": "2022-09-12T20:34:28.896Z"
   },
   {
    "duration": 95,
    "start_time": "2022-09-12T20:34:35.535Z"
   },
   {
    "duration": 93,
    "start_time": "2022-09-12T20:34:42.024Z"
   },
   {
    "duration": 129,
    "start_time": "2022-09-12T20:34:50.538Z"
   },
   {
    "duration": 19,
    "start_time": "2022-09-12T20:35:15.435Z"
   },
   {
    "duration": 91,
    "start_time": "2022-09-12T20:35:17.436Z"
   },
   {
    "duration": 84,
    "start_time": "2022-09-12T20:35:41.456Z"
   },
   {
    "duration": 99,
    "start_time": "2022-09-12T20:35:45.456Z"
   },
   {
    "duration": 188,
    "start_time": "2022-09-12T20:35:47.836Z"
   },
   {
    "duration": 190,
    "start_time": "2022-09-12T20:35:50.008Z"
   },
   {
    "duration": 240,
    "start_time": "2022-09-12T20:35:53.561Z"
   },
   {
    "duration": 163,
    "start_time": "2022-09-12T20:36:01.871Z"
   },
   {
    "duration": 101,
    "start_time": "2022-09-12T20:36:51.969Z"
   },
   {
    "duration": 92,
    "start_time": "2022-09-12T20:36:58.417Z"
   },
   {
    "duration": 85,
    "start_time": "2022-09-12T20:37:02.354Z"
   },
   {
    "duration": 85,
    "start_time": "2022-09-12T20:37:08.354Z"
   },
   {
    "duration": 99,
    "start_time": "2022-09-12T20:37:24.357Z"
   },
   {
    "duration": 92,
    "start_time": "2022-09-12T20:37:30.253Z"
   },
   {
    "duration": 88,
    "start_time": "2022-09-12T20:37:35.134Z"
   },
   {
    "duration": 89,
    "start_time": "2022-09-12T20:37:38.014Z"
   },
   {
    "duration": 144,
    "start_time": "2022-09-12T20:37:58.720Z"
   },
   {
    "duration": 125,
    "start_time": "2022-09-12T20:38:06.522Z"
   },
   {
    "duration": 136,
    "start_time": "2022-09-12T20:38:11.003Z"
   },
   {
    "duration": 157,
    "start_time": "2022-09-12T20:38:23.388Z"
   },
   {
    "duration": 186,
    "start_time": "2022-09-12T20:38:28.156Z"
   },
   {
    "duration": 84,
    "start_time": "2022-09-12T20:38:36.311Z"
   },
   {
    "duration": 85,
    "start_time": "2022-09-12T20:38:38.526Z"
   },
   {
    "duration": 79,
    "start_time": "2022-09-12T20:38:49.389Z"
   },
   {
    "duration": 86,
    "start_time": "2022-09-12T20:38:55.312Z"
   },
   {
    "duration": 76,
    "start_time": "2022-09-12T20:38:57.496Z"
   },
   {
    "duration": 85,
    "start_time": "2022-09-12T20:39:00.017Z"
   },
   {
    "duration": 85,
    "start_time": "2022-09-12T20:39:03.105Z"
   },
   {
    "duration": 206,
    "start_time": "2022-09-12T20:39:05.163Z"
   },
   {
    "duration": 85,
    "start_time": "2022-09-12T20:39:07.410Z"
   },
   {
    "duration": 79,
    "start_time": "2022-09-12T20:39:10.378Z"
   },
   {
    "duration": 28,
    "start_time": "2022-09-12T20:40:41.461Z"
   },
   {
    "duration": 17,
    "start_time": "2022-09-12T20:40:51.910Z"
   },
   {
    "duration": 17,
    "start_time": "2022-09-12T20:41:01.624Z"
   },
   {
    "duration": 1419,
    "start_time": "2022-09-12T20:41:15.228Z"
   },
   {
    "duration": 20,
    "start_time": "2022-09-12T20:41:16.649Z"
   },
   {
    "duration": 20,
    "start_time": "2022-09-12T20:41:16.670Z"
   },
   {
    "duration": 11,
    "start_time": "2022-09-12T20:41:16.694Z"
   },
   {
    "duration": 34,
    "start_time": "2022-09-12T20:41:16.706Z"
   },
   {
    "duration": 4,
    "start_time": "2022-09-12T20:41:16.741Z"
   },
   {
    "duration": 13,
    "start_time": "2022-09-12T20:41:16.746Z"
   },
   {
    "duration": 4,
    "start_time": "2022-09-12T20:41:16.761Z"
   },
   {
    "duration": 20,
    "start_time": "2022-09-12T20:41:16.766Z"
   },
   {
    "duration": 8,
    "start_time": "2022-09-12T20:41:16.794Z"
   },
   {
    "duration": 35,
    "start_time": "2022-09-12T20:41:16.803Z"
   },
   {
    "duration": 10,
    "start_time": "2022-09-12T20:41:16.839Z"
   },
   {
    "duration": 12,
    "start_time": "2022-09-12T20:41:16.850Z"
   },
   {
    "duration": 17,
    "start_time": "2022-09-12T20:41:16.863Z"
   },
   {
    "duration": 24,
    "start_time": "2022-09-12T20:41:16.893Z"
   },
   {
    "duration": 15,
    "start_time": "2022-09-12T20:41:16.919Z"
   },
   {
    "duration": 4,
    "start_time": "2022-09-12T20:41:16.936Z"
   },
   {
    "duration": 14,
    "start_time": "2022-09-12T20:41:16.941Z"
   },
   {
    "duration": 5,
    "start_time": "2022-09-12T20:41:16.957Z"
   },
   {
    "duration": 5,
    "start_time": "2022-09-12T20:41:16.964Z"
   },
   {
    "duration": 17,
    "start_time": "2022-09-12T20:41:16.971Z"
   },
   {
    "duration": 13,
    "start_time": "2022-09-12T20:41:16.990Z"
   },
   {
    "duration": 24,
    "start_time": "2022-09-12T20:41:17.006Z"
   },
   {
    "duration": 99,
    "start_time": "2022-09-12T20:41:17.031Z"
   },
   {
    "duration": 21,
    "start_time": "2022-09-12T20:41:17.131Z"
   },
   {
    "duration": 35,
    "start_time": "2022-09-12T20:41:17.154Z"
   },
   {
    "duration": 20,
    "start_time": "2022-09-12T20:41:17.190Z"
   },
   {
    "duration": 104,
    "start_time": "2022-09-12T20:41:17.213Z"
   },
   {
    "duration": 151,
    "start_time": "2022-09-12T20:41:17.319Z"
   },
   {
    "duration": 214,
    "start_time": "2022-09-12T20:41:17.478Z"
   },
   {
    "duration": 20,
    "start_time": "2022-09-12T20:41:17.694Z"
   },
   {
    "duration": 188,
    "start_time": "2022-09-12T20:41:17.716Z"
   },
   {
    "duration": 22,
    "start_time": "2022-09-12T20:41:28.097Z"
   },
   {
    "duration": 28,
    "start_time": "2022-09-12T20:41:49.495Z"
   },
   {
    "duration": 109,
    "start_time": "2022-09-12T20:42:09.422Z"
   },
   {
    "duration": 224,
    "start_time": "2022-09-12T20:42:13.498Z"
   },
   {
    "duration": 149,
    "start_time": "2022-09-12T20:43:25.919Z"
   },
   {
    "duration": 672,
    "start_time": "2022-09-12T20:44:38.241Z"
   },
   {
    "duration": 12,
    "start_time": "2022-09-12T20:45:22.700Z"
   },
   {
    "duration": 4,
    "start_time": "2022-09-12T20:45:32.145Z"
   },
   {
    "duration": 81,
    "start_time": "2022-09-12T20:45:46.305Z"
   },
   {
    "duration": 89,
    "start_time": "2022-09-12T20:46:39.512Z"
   },
   {
    "duration": 239,
    "start_time": "2022-09-12T20:46:45.343Z"
   },
   {
    "duration": 84,
    "start_time": "2022-09-12T20:46:47.250Z"
   },
   {
    "duration": 4,
    "start_time": "2022-09-12T20:47:23.294Z"
   },
   {
    "duration": 5,
    "start_time": "2022-09-12T20:47:40.953Z"
   },
   {
    "duration": 12,
    "start_time": "2022-09-12T20:48:31.408Z"
   },
   {
    "duration": 29,
    "start_time": "2022-09-12T20:49:01.059Z"
   },
   {
    "duration": 23,
    "start_time": "2022-09-12T20:49:35.328Z"
   },
   {
    "duration": 96,
    "start_time": "2022-09-12T20:50:24.029Z"
   },
   {
    "duration": 85,
    "start_time": "2022-09-12T20:50:46.663Z"
   },
   {
    "duration": 112,
    "start_time": "2022-09-12T20:50:57.591Z"
   },
   {
    "duration": 88,
    "start_time": "2022-09-12T20:52:12.827Z"
   },
   {
    "duration": 1875,
    "start_time": "2022-09-13T06:47:29.119Z"
   },
   {
    "duration": 21,
    "start_time": "2022-09-13T06:47:30.996Z"
   },
   {
    "duration": 38,
    "start_time": "2022-09-13T06:47:31.019Z"
   },
   {
    "duration": 25,
    "start_time": "2022-09-13T06:47:31.059Z"
   },
   {
    "duration": 69,
    "start_time": "2022-09-13T06:47:31.086Z"
   },
   {
    "duration": 3,
    "start_time": "2022-09-13T06:47:31.158Z"
   },
   {
    "duration": 35,
    "start_time": "2022-09-13T06:47:31.163Z"
   },
   {
    "duration": 29,
    "start_time": "2022-09-13T06:47:31.200Z"
   },
   {
    "duration": 21,
    "start_time": "2022-09-13T06:47:31.231Z"
   },
   {
    "duration": 20,
    "start_time": "2022-09-13T06:47:31.255Z"
   },
   {
    "duration": 56,
    "start_time": "2022-09-13T06:47:31.276Z"
   },
   {
    "duration": 10,
    "start_time": "2022-09-13T06:47:31.333Z"
   },
   {
    "duration": 27,
    "start_time": "2022-09-13T06:47:31.344Z"
   },
   {
    "duration": 28,
    "start_time": "2022-09-13T06:47:31.373Z"
   },
   {
    "duration": 48,
    "start_time": "2022-09-13T06:47:31.403Z"
   },
   {
    "duration": 22,
    "start_time": "2022-09-13T06:47:31.452Z"
   },
   {
    "duration": 21,
    "start_time": "2022-09-13T06:47:31.476Z"
   },
   {
    "duration": 34,
    "start_time": "2022-09-13T06:47:31.499Z"
   },
   {
    "duration": 29,
    "start_time": "2022-09-13T06:47:31.535Z"
   },
   {
    "duration": 32,
    "start_time": "2022-09-13T06:47:31.566Z"
   },
   {
    "duration": 56,
    "start_time": "2022-09-13T06:47:31.600Z"
   },
   {
    "duration": 40,
    "start_time": "2022-09-13T06:47:31.658Z"
   },
   {
    "duration": 57,
    "start_time": "2022-09-13T06:47:31.699Z"
   },
   {
    "duration": 129,
    "start_time": "2022-09-13T06:47:31.758Z"
   },
   {
    "duration": 164,
    "start_time": "2022-09-13T06:47:31.888Z"
   },
   {
    "duration": 39,
    "start_time": "2022-09-13T06:47:32.053Z"
   },
   {
    "duration": 70,
    "start_time": "2022-09-13T06:47:32.094Z"
   },
   {
    "duration": 43,
    "start_time": "2022-09-13T06:47:32.168Z"
   },
   {
    "duration": 102,
    "start_time": "2022-09-13T06:47:32.212Z"
   },
   {
    "duration": 170,
    "start_time": "2022-09-13T06:47:32.316Z"
   },
   {
    "duration": 223,
    "start_time": "2022-09-13T06:47:32.488Z"
   },
   {
    "duration": 130,
    "start_time": "2022-09-13T06:47:32.713Z"
   },
   {
    "duration": 25,
    "start_time": "2022-09-13T06:47:32.845Z"
   },
   {
    "duration": 22,
    "start_time": "2022-09-13T06:47:32.873Z"
   },
   {
    "duration": 181,
    "start_time": "2022-09-13T06:47:32.897Z"
   },
   {
    "duration": 92,
    "start_time": "2022-09-13T06:47:44.568Z"
   },
   {
    "duration": 173,
    "start_time": "2022-09-13T06:47:46.832Z"
   },
   {
    "duration": 22,
    "start_time": "2022-09-13T06:47:49.560Z"
   },
   {
    "duration": 17,
    "start_time": "2022-09-13T06:47:52.304Z"
   },
   {
    "duration": 21,
    "start_time": "2022-09-13T06:47:59.274Z"
   },
   {
    "duration": 96,
    "start_time": "2022-09-13T06:48:01.257Z"
   },
   {
    "duration": 160,
    "start_time": "2022-09-13T06:48:03.200Z"
   },
   {
    "duration": 201,
    "start_time": "2022-09-13T06:48:05.545Z"
   },
   {
    "duration": 44,
    "start_time": "2022-09-13T06:48:27.188Z"
   },
   {
    "duration": 242,
    "start_time": "2022-09-13T06:48:39.073Z"
   },
   {
    "duration": 26,
    "start_time": "2022-09-13T06:48:49.448Z"
   },
   {
    "duration": 149,
    "start_time": "2022-09-13T06:49:42.726Z"
   },
   {
    "duration": 88,
    "start_time": "2022-09-13T07:09:52.045Z"
   },
   {
    "duration": 4,
    "start_time": "2022-09-13T07:11:03.779Z"
   },
   {
    "duration": 115,
    "start_time": "2022-09-13T07:11:39.938Z"
   },
   {
    "duration": 22,
    "start_time": "2022-09-13T07:12:00.316Z"
   },
   {
    "duration": 88,
    "start_time": "2022-09-13T07:12:44.200Z"
   },
   {
    "duration": 14,
    "start_time": "2022-09-13T07:12:53.427Z"
   },
   {
    "duration": 20,
    "start_time": "2022-09-13T07:12:56.762Z"
   },
   {
    "duration": 14,
    "start_time": "2022-09-13T07:15:05.379Z"
   },
   {
    "duration": 75,
    "start_time": "2022-09-13T07:17:28.766Z"
   },
   {
    "duration": 13,
    "start_time": "2022-09-13T07:18:01.418Z"
   },
   {
    "duration": 11,
    "start_time": "2022-09-13T07:19:14.403Z"
   },
   {
    "duration": 25,
    "start_time": "2022-09-13T07:19:26.748Z"
   },
   {
    "duration": 10,
    "start_time": "2022-09-13T07:26:03.791Z"
   },
   {
    "duration": 423,
    "start_time": "2022-09-13T07:26:28.578Z"
   },
   {
    "duration": 44,
    "start_time": "2022-09-13T07:26:36.515Z"
   },
   {
    "duration": 32,
    "start_time": "2022-09-13T07:26:54.125Z"
   },
   {
    "duration": 18,
    "start_time": "2022-09-13T07:27:25.908Z"
   },
   {
    "duration": 24,
    "start_time": "2022-09-13T07:27:29.126Z"
   },
   {
    "duration": 16,
    "start_time": "2022-09-13T07:27:30.498Z"
   },
   {
    "duration": 11,
    "start_time": "2022-09-13T07:27:31.459Z"
   },
   {
    "duration": 39,
    "start_time": "2022-09-13T07:27:31.818Z"
   },
   {
    "duration": 4,
    "start_time": "2022-09-13T07:27:32.388Z"
   },
   {
    "duration": 11,
    "start_time": "2022-09-13T07:27:32.764Z"
   },
   {
    "duration": 7,
    "start_time": "2022-09-13T07:27:33.355Z"
   },
   {
    "duration": 8,
    "start_time": "2022-09-13T07:27:33.739Z"
   },
   {
    "duration": 8,
    "start_time": "2022-09-13T07:27:34.131Z"
   },
   {
    "duration": 39,
    "start_time": "2022-09-13T07:27:34.763Z"
   },
   {
    "duration": 12,
    "start_time": "2022-09-13T07:27:35.164Z"
   },
   {
    "duration": 5,
    "start_time": "2022-09-13T07:27:35.795Z"
   },
   {
    "duration": 11,
    "start_time": "2022-09-13T07:27:36.476Z"
   },
   {
    "duration": 24,
    "start_time": "2022-09-13T07:27:36.908Z"
   },
   {
    "duration": 27,
    "start_time": "2022-09-13T07:27:37.149Z"
   },
   {
    "duration": 4,
    "start_time": "2022-09-13T07:27:37.981Z"
   },
   {
    "duration": 13,
    "start_time": "2022-09-13T07:27:38.211Z"
   },
   {
    "duration": 7,
    "start_time": "2022-09-13T07:27:38.691Z"
   },
   {
    "duration": 4,
    "start_time": "2022-09-13T07:27:39.191Z"
   },
   {
    "duration": 10,
    "start_time": "2022-09-13T07:27:39.420Z"
   },
   {
    "duration": 5,
    "start_time": "2022-09-13T07:27:40.331Z"
   },
   {
    "duration": 26,
    "start_time": "2022-09-13T07:27:40.804Z"
   },
   {
    "duration": 130,
    "start_time": "2022-09-13T07:27:41.349Z"
   },
   {
    "duration": 237,
    "start_time": "2022-09-13T07:27:41.613Z"
   },
   {
    "duration": 25,
    "start_time": "2022-09-13T07:27:42.364Z"
   },
   {
    "duration": 18,
    "start_time": "2022-09-13T07:27:42.614Z"
   },
   {
    "duration": 23,
    "start_time": "2022-09-13T07:27:43.374Z"
   },
   {
    "duration": 126,
    "start_time": "2022-09-13T07:27:43.645Z"
   },
   {
    "duration": 198,
    "start_time": "2022-09-13T07:27:43.892Z"
   },
   {
    "duration": 221,
    "start_time": "2022-09-13T07:27:44.236Z"
   },
   {
    "duration": 13,
    "start_time": "2022-09-13T07:28:43.629Z"
   },
   {
    "duration": 6,
    "start_time": "2022-09-13T07:28:55.501Z"
   },
   {
    "duration": 7,
    "start_time": "2022-09-13T07:28:57.310Z"
   },
   {
    "duration": 16,
    "start_time": "2022-09-13T07:29:21.578Z"
   },
   {
    "duration": 260,
    "start_time": "2022-09-13T07:29:37.779Z"
   },
   {
    "duration": 286,
    "start_time": "2022-09-13T07:30:12.747Z"
   },
   {
    "duration": 511,
    "start_time": "2022-09-13T07:30:15.912Z"
   },
   {
    "duration": 21,
    "start_time": "2022-09-13T07:30:27.402Z"
   },
   {
    "duration": 20,
    "start_time": "2022-09-13T07:30:30.271Z"
   },
   {
    "duration": 117,
    "start_time": "2022-09-13T07:31:05.606Z"
   },
   {
    "duration": 50,
    "start_time": "2022-09-13T07:31:08.783Z"
   },
   {
    "duration": 82,
    "start_time": "2022-09-13T07:31:12.753Z"
   },
   {
    "duration": 154,
    "start_time": "2022-09-13T07:32:09.073Z"
   },
   {
    "duration": 15,
    "start_time": "2022-09-13T07:33:18.977Z"
   },
   {
    "duration": 90,
    "start_time": "2022-09-13T07:33:21.231Z"
   },
   {
    "duration": 339,
    "start_time": "2022-09-13T07:33:49.781Z"
   },
   {
    "duration": 80,
    "start_time": "2022-09-13T07:33:58.246Z"
   },
   {
    "duration": 39,
    "start_time": "2022-09-13T07:35:46.898Z"
   },
   {
    "duration": 11,
    "start_time": "2022-09-13T07:46:53.993Z"
   },
   {
    "duration": 925,
    "start_time": "2022-09-13T07:47:04.698Z"
   },
   {
    "duration": 3,
    "start_time": "2022-09-13T07:52:31.418Z"
   },
   {
    "duration": 2,
    "start_time": "2022-09-13T07:52:31.610Z"
   },
   {
    "duration": 22,
    "start_time": "2022-09-13T07:53:11.049Z"
   },
   {
    "duration": 13,
    "start_time": "2022-09-13T07:53:36.259Z"
   },
   {
    "duration": 21,
    "start_time": "2022-09-13T07:53:39.779Z"
   },
   {
    "duration": 1138,
    "start_time": "2022-09-13T07:54:56.902Z"
   },
   {
    "duration": 1331,
    "start_time": "2022-09-13T07:55:14.105Z"
   },
   {
    "duration": 1024,
    "start_time": "2022-09-13T07:56:11.959Z"
   },
   {
    "duration": 1153,
    "start_time": "2022-09-13T07:56:27.145Z"
   },
   {
    "duration": 17,
    "start_time": "2022-09-13T08:11:31.696Z"
   },
   {
    "duration": 24,
    "start_time": "2022-09-13T08:11:34.248Z"
   },
   {
    "duration": 28,
    "start_time": "2022-09-13T08:13:41.623Z"
   },
   {
    "duration": 217,
    "start_time": "2022-09-13T08:14:31.606Z"
   },
   {
    "duration": 63,
    "start_time": "2022-09-13T08:14:52.833Z"
   },
   {
    "duration": 154,
    "start_time": "2022-09-13T08:14:56.298Z"
   },
   {
    "duration": 161,
    "start_time": "2022-09-13T08:15:06.522Z"
   },
   {
    "duration": 170,
    "start_time": "2022-09-13T08:15:26.110Z"
   },
   {
    "duration": 221,
    "start_time": "2022-09-13T08:15:38.751Z"
   },
   {
    "duration": 176,
    "start_time": "2022-09-13T08:15:54.264Z"
   },
   {
    "duration": 172,
    "start_time": "2022-09-13T08:16:10.394Z"
   },
   {
    "duration": 178,
    "start_time": "2022-09-13T08:16:14.266Z"
   },
   {
    "duration": 225,
    "start_time": "2022-09-13T08:16:16.811Z"
   },
   {
    "duration": 179,
    "start_time": "2022-09-13T08:16:21.837Z"
   },
   {
    "duration": 189,
    "start_time": "2022-09-13T08:16:34.092Z"
   },
   {
    "duration": 181,
    "start_time": "2022-09-13T08:17:45.159Z"
   },
   {
    "duration": 23,
    "start_time": "2022-09-13T08:18:03.296Z"
   },
   {
    "duration": 299,
    "start_time": "2022-09-13T08:18:03.847Z"
   },
   {
    "duration": 185,
    "start_time": "2022-09-13T08:18:27.300Z"
   },
   {
    "duration": 192,
    "start_time": "2022-09-13T08:18:29.620Z"
   },
   {
    "duration": 173,
    "start_time": "2022-09-13T08:18:39.277Z"
   },
   {
    "duration": 581,
    "start_time": "2022-09-13T08:19:01.048Z"
   },
   {
    "duration": 198,
    "start_time": "2022-09-13T08:19:31.396Z"
   },
   {
    "duration": 184,
    "start_time": "2022-09-13T08:19:40.516Z"
   },
   {
    "duration": 18,
    "start_time": "2022-09-13T08:20:23.601Z"
   },
   {
    "duration": 16,
    "start_time": "2022-09-13T08:20:28.731Z"
   },
   {
    "duration": 17,
    "start_time": "2022-09-13T08:20:31.788Z"
   },
   {
    "duration": 16,
    "start_time": "2022-09-13T08:20:36.243Z"
   },
   {
    "duration": 24,
    "start_time": "2022-09-13T08:20:42.109Z"
   },
   {
    "duration": 15,
    "start_time": "2022-09-13T08:20:42.180Z"
   },
   {
    "duration": 1759,
    "start_time": "2022-09-13T08:21:02.690Z"
   },
   {
    "duration": 20,
    "start_time": "2022-09-13T08:21:04.451Z"
   },
   {
    "duration": 18,
    "start_time": "2022-09-13T08:21:04.473Z"
   },
   {
    "duration": 31,
    "start_time": "2022-09-13T08:21:04.494Z"
   },
   {
    "duration": 37,
    "start_time": "2022-09-13T08:21:04.527Z"
   },
   {
    "duration": 4,
    "start_time": "2022-09-13T08:21:04.565Z"
   },
   {
    "duration": 45,
    "start_time": "2022-09-13T08:21:04.571Z"
   },
   {
    "duration": 25,
    "start_time": "2022-09-13T08:21:04.618Z"
   },
   {
    "duration": 38,
    "start_time": "2022-09-13T08:21:04.645Z"
   },
   {
    "duration": 33,
    "start_time": "2022-09-13T08:21:04.686Z"
   },
   {
    "duration": 64,
    "start_time": "2022-09-13T08:21:04.721Z"
   },
   {
    "duration": 13,
    "start_time": "2022-09-13T08:21:04.786Z"
   },
   {
    "duration": 31,
    "start_time": "2022-09-13T08:21:04.801Z"
   },
   {
    "duration": 48,
    "start_time": "2022-09-13T08:21:04.834Z"
   },
   {
    "duration": 56,
    "start_time": "2022-09-13T08:21:04.883Z"
   },
   {
    "duration": 22,
    "start_time": "2022-09-13T08:21:04.941Z"
   },
   {
    "duration": 9,
    "start_time": "2022-09-13T08:21:04.965Z"
   },
   {
    "duration": 22,
    "start_time": "2022-09-13T08:21:04.976Z"
   },
   {
    "duration": 24,
    "start_time": "2022-09-13T08:21:05.000Z"
   },
   {
    "duration": 38,
    "start_time": "2022-09-13T08:21:05.026Z"
   },
   {
    "duration": 63,
    "start_time": "2022-09-13T08:21:05.066Z"
   },
   {
    "duration": 27,
    "start_time": "2022-09-13T08:21:05.132Z"
   },
   {
    "duration": 48,
    "start_time": "2022-09-13T08:21:05.161Z"
   },
   {
    "duration": 128,
    "start_time": "2022-09-13T08:21:05.210Z"
   },
   {
    "duration": 241,
    "start_time": "2022-09-13T08:21:05.339Z"
   },
   {
    "duration": 22,
    "start_time": "2022-09-13T08:21:05.582Z"
   },
   {
    "duration": 152,
    "start_time": "2022-09-13T08:21:05.620Z"
   },
   {
    "duration": 0,
    "start_time": "2022-09-13T08:21:05.774Z"
   },
   {
    "duration": 0,
    "start_time": "2022-09-13T08:21:05.775Z"
   },
   {
    "duration": 0,
    "start_time": "2022-09-13T08:21:05.777Z"
   },
   {
    "duration": 0,
    "start_time": "2022-09-13T08:21:05.778Z"
   },
   {
    "duration": 0,
    "start_time": "2022-09-13T08:21:05.779Z"
   },
   {
    "duration": 0,
    "start_time": "2022-09-13T08:21:05.781Z"
   },
   {
    "duration": 0,
    "start_time": "2022-09-13T08:21:05.782Z"
   },
   {
    "duration": 0,
    "start_time": "2022-09-13T08:21:05.783Z"
   },
   {
    "duration": 1,
    "start_time": "2022-09-13T08:21:05.784Z"
   },
   {
    "duration": 0,
    "start_time": "2022-09-13T08:21:05.786Z"
   },
   {
    "duration": 22,
    "start_time": "2022-09-13T08:21:38.186Z"
   },
   {
    "duration": 17,
    "start_time": "2022-09-13T08:21:38.665Z"
   },
   {
    "duration": 147,
    "start_time": "2022-09-13T08:22:15.998Z"
   },
   {
    "duration": 10,
    "start_time": "2022-09-13T08:23:37.136Z"
   },
   {
    "duration": 16,
    "start_time": "2022-09-13T08:24:23.238Z"
   },
   {
    "duration": 15,
    "start_time": "2022-09-13T08:24:30.878Z"
   },
   {
    "duration": 4228,
    "start_time": "2022-09-13T08:24:52.498Z"
   },
   {
    "duration": 21,
    "start_time": "2022-09-13T08:25:03.892Z"
   },
   {
    "duration": 15,
    "start_time": "2022-09-13T08:25:27.223Z"
   },
   {
    "duration": 29,
    "start_time": "2022-09-13T08:25:39.128Z"
   },
   {
    "duration": 23,
    "start_time": "2022-09-13T08:25:42.416Z"
   },
   {
    "duration": 151,
    "start_time": "2022-09-13T08:26:01.418Z"
   },
   {
    "duration": 18,
    "start_time": "2022-09-13T08:26:16.004Z"
   },
   {
    "duration": 100,
    "start_time": "2022-09-13T08:26:20.324Z"
   },
   {
    "duration": 151,
    "start_time": "2022-09-13T08:26:22.301Z"
   },
   {
    "duration": 24,
    "start_time": "2022-09-13T08:26:24.855Z"
   },
   {
    "duration": 14,
    "start_time": "2022-09-13T08:26:25.885Z"
   },
   {
    "duration": 14,
    "start_time": "2022-09-13T08:26:33.294Z"
   },
   {
    "duration": 123,
    "start_time": "2022-09-13T08:26:42.040Z"
   },
   {
    "duration": 15,
    "start_time": "2022-09-13T08:26:52.888Z"
   },
   {
    "duration": 22,
    "start_time": "2022-09-13T08:27:05.530Z"
   },
   {
    "duration": 158,
    "start_time": "2022-09-13T08:27:05.811Z"
   },
   {
    "duration": 18,
    "start_time": "2022-09-13T08:27:16.755Z"
   },
   {
    "duration": 16,
    "start_time": "2022-09-13T08:27:22.869Z"
   },
   {
    "duration": 180,
    "start_time": "2022-09-13T08:27:35.403Z"
   },
   {
    "duration": 18,
    "start_time": "2022-09-13T08:28:09.931Z"
   },
   {
    "duration": 182,
    "start_time": "2022-09-13T08:28:12.115Z"
   },
   {
    "duration": 141,
    "start_time": "2022-09-13T08:28:51.648Z"
   },
   {
    "duration": 12,
    "start_time": "2022-09-13T08:30:11.138Z"
   },
   {
    "duration": 36,
    "start_time": "2022-09-13T08:30:47.934Z"
   },
   {
    "duration": 34,
    "start_time": "2022-09-13T08:30:50.272Z"
   },
   {
    "duration": 24,
    "start_time": "2022-09-13T08:30:57.272Z"
   },
   {
    "duration": 16,
    "start_time": "2022-09-13T08:31:05.530Z"
   },
   {
    "duration": 207,
    "start_time": "2022-09-13T08:31:12.273Z"
   },
   {
    "duration": 141,
    "start_time": "2022-09-13T08:31:15.282Z"
   },
   {
    "duration": 177,
    "start_time": "2022-09-13T08:32:09.242Z"
   },
   {
    "duration": 203,
    "start_time": "2022-09-13T08:33:11.369Z"
   },
   {
    "duration": 176,
    "start_time": "2022-09-13T08:33:14.410Z"
   },
   {
    "duration": 167,
    "start_time": "2022-09-13T08:33:18.146Z"
   },
   {
    "duration": 47,
    "start_time": "2022-09-13T08:33:42.612Z"
   },
   {
    "duration": 266,
    "start_time": "2022-09-13T08:33:49.337Z"
   },
   {
    "duration": 24,
    "start_time": "2022-09-13T08:33:52.446Z"
   },
   {
    "duration": 176,
    "start_time": "2022-09-13T08:33:54.933Z"
   },
   {
    "duration": 28,
    "start_time": "2022-09-13T08:33:58.495Z"
   },
   {
    "duration": 174,
    "start_time": "2022-09-13T08:34:04.391Z"
   },
   {
    "duration": 213,
    "start_time": "2022-09-13T08:34:49.164Z"
   },
   {
    "duration": 166,
    "start_time": "2022-09-13T08:35:53.636Z"
   },
   {
    "duration": 516,
    "start_time": "2022-09-13T08:37:11.567Z"
   },
   {
    "duration": 330,
    "start_time": "2022-09-13T08:37:21.576Z"
   },
   {
    "duration": 179,
    "start_time": "2022-09-13T08:37:33.778Z"
   },
   {
    "duration": 15,
    "start_time": "2022-09-13T08:46:04.179Z"
   },
   {
    "duration": 14,
    "start_time": "2022-09-13T08:46:08.309Z"
   },
   {
    "duration": 14,
    "start_time": "2022-09-13T08:46:13.965Z"
   },
   {
    "duration": 9,
    "start_time": "2022-09-13T08:46:32.647Z"
   },
   {
    "duration": 188,
    "start_time": "2022-09-13T08:46:38.091Z"
   },
   {
    "duration": 177,
    "start_time": "2022-09-13T08:46:41.688Z"
   },
   {
    "duration": 8,
    "start_time": "2022-09-13T08:46:45.607Z"
   },
   {
    "duration": 5,
    "start_time": "2022-09-13T08:46:50.431Z"
   },
   {
    "duration": 204,
    "start_time": "2022-09-13T08:46:52.090Z"
   },
   {
    "duration": 229,
    "start_time": "2022-09-13T08:48:27.124Z"
   },
   {
    "duration": 252,
    "start_time": "2022-09-13T08:48:38.757Z"
   },
   {
    "duration": 198,
    "start_time": "2022-09-13T08:50:26.028Z"
   },
   {
    "duration": 200,
    "start_time": "2022-09-13T08:50:29.868Z"
   },
   {
    "duration": 212,
    "start_time": "2022-09-13T08:51:05.087Z"
   },
   {
    "duration": 201,
    "start_time": "2022-09-13T08:53:45.372Z"
   },
   {
    "duration": 24,
    "start_time": "2022-09-13T08:53:47.588Z"
   },
   {
    "duration": 189,
    "start_time": "2022-09-13T08:53:49.685Z"
   },
   {
    "duration": 23,
    "start_time": "2022-09-13T08:53:52.037Z"
   },
   {
    "duration": 222,
    "start_time": "2022-09-13T08:53:52.253Z"
   },
   {
    "duration": 182,
    "start_time": "2022-09-13T08:53:52.478Z"
   },
   {
    "duration": 230,
    "start_time": "2022-09-13T08:53:52.809Z"
   },
   {
    "duration": 3,
    "start_time": "2022-09-13T08:53:53.197Z"
   },
   {
    "duration": 3,
    "start_time": "2022-09-13T08:53:55.982Z"
   },
   {
    "duration": 28,
    "start_time": "2022-09-13T08:53:56.529Z"
   },
   {
    "duration": 23,
    "start_time": "2022-09-13T08:53:59.239Z"
   },
   {
    "duration": 145,
    "start_time": "2022-09-13T08:54:21.698Z"
   },
   {
    "duration": 153,
    "start_time": "2022-09-13T08:54:28.226Z"
   },
   {
    "duration": 168,
    "start_time": "2022-09-13T08:54:53.437Z"
   },
   {
    "duration": 89,
    "start_time": "2022-09-13T08:56:03.423Z"
   },
   {
    "duration": 24,
    "start_time": "2022-09-13T08:56:12.055Z"
   },
   {
    "duration": 97,
    "start_time": "2022-09-13T08:56:13.025Z"
   },
   {
    "duration": 5,
    "start_time": "2022-09-13T08:56:16.432Z"
   },
   {
    "duration": 167,
    "start_time": "2022-09-13T08:56:16.833Z"
   },
   {
    "duration": 93,
    "start_time": "2022-09-13T08:56:39.659Z"
   },
   {
    "duration": 16,
    "start_time": "2022-09-13T08:56:50.860Z"
   },
   {
    "duration": 92,
    "start_time": "2022-09-13T08:56:56.582Z"
   },
   {
    "duration": 19,
    "start_time": "2022-09-13T08:57:00.638Z"
   },
   {
    "duration": 96,
    "start_time": "2022-09-13T08:57:01.373Z"
   },
   {
    "duration": 4,
    "start_time": "2022-09-13T08:57:16.039Z"
   },
   {
    "duration": 193,
    "start_time": "2022-09-13T08:57:16.330Z"
   },
   {
    "duration": 91,
    "start_time": "2022-09-13T08:58:16.330Z"
   },
   {
    "duration": 19,
    "start_time": "2022-09-13T08:58:21.031Z"
   },
   {
    "duration": 92,
    "start_time": "2022-09-13T08:58:21.664Z"
   },
   {
    "duration": 4,
    "start_time": "2022-09-13T08:58:27.864Z"
   },
   {
    "duration": 192,
    "start_time": "2022-09-13T08:58:28.200Z"
   },
   {
    "duration": 94,
    "start_time": "2022-09-13T08:58:47.899Z"
   },
   {
    "duration": 14,
    "start_time": "2022-09-13T08:58:48.803Z"
   },
   {
    "duration": 243,
    "start_time": "2022-09-13T08:58:49.052Z"
   },
   {
    "duration": 15,
    "start_time": "2022-09-13T08:58:52.109Z"
   },
   {
    "duration": 20,
    "start_time": "2022-09-13T08:58:54.444Z"
   },
   {
    "duration": 98,
    "start_time": "2022-09-13T08:58:54.868Z"
   },
   {
    "duration": 4,
    "start_time": "2022-09-13T08:58:55.076Z"
   },
   {
    "duration": 199,
    "start_time": "2022-09-13T08:58:57.164Z"
   },
   {
    "duration": 197,
    "start_time": "2022-09-13T08:59:07.901Z"
   },
   {
    "duration": 97,
    "start_time": "2022-09-13T09:01:20.631Z"
   },
   {
    "duration": 21,
    "start_time": "2022-09-13T09:01:24.831Z"
   },
   {
    "duration": 103,
    "start_time": "2022-09-13T09:01:25.840Z"
   },
   {
    "duration": 262,
    "start_time": "2022-09-13T09:01:42.525Z"
   },
   {
    "duration": 206,
    "start_time": "2022-09-13T09:01:49.651Z"
   },
   {
    "duration": 172,
    "start_time": "2022-09-13T09:01:54.283Z"
   },
   {
    "duration": 138,
    "start_time": "2022-09-13T09:01:58.859Z"
   },
   {
    "duration": 21,
    "start_time": "2022-09-13T09:02:05.030Z"
   },
   {
    "duration": 103,
    "start_time": "2022-09-13T09:02:05.486Z"
   },
   {
    "duration": 190,
    "start_time": "2022-09-13T09:02:11.519Z"
   },
   {
    "duration": 20,
    "start_time": "2022-09-13T09:02:43.034Z"
   },
   {
    "duration": 151,
    "start_time": "2022-09-13T09:03:04.060Z"
   },
   {
    "duration": 284,
    "start_time": "2022-09-13T09:03:30.959Z"
   },
   {
    "duration": 263,
    "start_time": "2022-09-13T09:03:37.552Z"
   },
   {
    "duration": 147,
    "start_time": "2022-09-13T09:03:52.025Z"
   },
   {
    "duration": 135,
    "start_time": "2022-09-13T09:04:08.500Z"
   },
   {
    "duration": 149,
    "start_time": "2022-09-13T09:04:12.861Z"
   },
   {
    "duration": 201,
    "start_time": "2022-09-13T09:05:29.625Z"
   },
   {
    "duration": 190,
    "start_time": "2022-09-13T09:05:33.967Z"
   },
   {
    "duration": 196,
    "start_time": "2022-09-13T09:05:37.575Z"
   },
   {
    "duration": 198,
    "start_time": "2022-09-13T09:05:44.000Z"
   },
   {
    "duration": 245,
    "start_time": "2022-09-13T09:05:49.050Z"
   },
   {
    "duration": 206,
    "start_time": "2022-09-13T09:05:53.697Z"
   },
   {
    "duration": 208,
    "start_time": "2022-09-13T09:06:10.140Z"
   },
   {
    "duration": 178,
    "start_time": "2022-09-13T09:06:28.670Z"
   },
   {
    "duration": 183,
    "start_time": "2022-09-13T09:06:57.025Z"
   },
   {
    "duration": 181,
    "start_time": "2022-09-13T09:07:09.344Z"
   },
   {
    "duration": 171,
    "start_time": "2022-09-13T09:07:14.112Z"
   },
   {
    "duration": 1629,
    "start_time": "2022-09-13T09:16:06.952Z"
   },
   {
    "duration": 21,
    "start_time": "2022-09-13T09:16:08.583Z"
   },
   {
    "duration": 19,
    "start_time": "2022-09-13T09:16:08.607Z"
   },
   {
    "duration": 9,
    "start_time": "2022-09-13T09:16:08.629Z"
   },
   {
    "duration": 36,
    "start_time": "2022-09-13T09:16:08.640Z"
   },
   {
    "duration": 4,
    "start_time": "2022-09-13T09:16:08.678Z"
   },
   {
    "duration": 6,
    "start_time": "2022-09-13T09:16:08.720Z"
   },
   {
    "duration": 11,
    "start_time": "2022-09-13T09:16:08.728Z"
   },
   {
    "duration": 5,
    "start_time": "2022-09-13T09:16:08.742Z"
   },
   {
    "duration": 43,
    "start_time": "2022-09-13T09:16:08.748Z"
   },
   {
    "duration": 10,
    "start_time": "2022-09-13T09:16:08.792Z"
   },
   {
    "duration": 4,
    "start_time": "2022-09-13T09:16:08.820Z"
   },
   {
    "duration": 22,
    "start_time": "2022-09-13T09:16:08.827Z"
   },
   {
    "duration": 42,
    "start_time": "2022-09-13T09:16:08.851Z"
   },
   {
    "duration": 41,
    "start_time": "2022-09-13T09:16:08.899Z"
   },
   {
    "duration": 5,
    "start_time": "2022-09-13T09:16:08.942Z"
   },
   {
    "duration": 26,
    "start_time": "2022-09-13T09:16:08.950Z"
   },
   {
    "duration": 20,
    "start_time": "2022-09-13T09:16:08.978Z"
   },
   {
    "duration": 7,
    "start_time": "2022-09-13T09:16:09.000Z"
   },
   {
    "duration": 19,
    "start_time": "2022-09-13T09:16:09.009Z"
   },
   {
    "duration": 11,
    "start_time": "2022-09-13T09:16:09.031Z"
   },
   {
    "duration": 44,
    "start_time": "2022-09-13T09:16:09.044Z"
   },
   {
    "duration": 138,
    "start_time": "2022-09-13T09:16:09.090Z"
   },
   {
    "duration": 3,
    "start_time": "2022-09-13T09:16:09.230Z"
   },
   {
    "duration": 306,
    "start_time": "2022-09-13T09:16:09.235Z"
   },
   {
    "duration": 24,
    "start_time": "2022-09-13T09:16:09.543Z"
   },
   {
    "duration": 200,
    "start_time": "2022-09-13T09:16:09.570Z"
   },
   {
    "duration": 22,
    "start_time": "2022-09-13T09:16:09.772Z"
   },
   {
    "duration": 135,
    "start_time": "2022-09-13T09:16:09.796Z"
   },
   {
    "duration": 188,
    "start_time": "2022-09-13T09:16:09.933Z"
   },
   {
    "duration": 218,
    "start_time": "2022-09-13T09:16:10.123Z"
   },
   {
    "duration": 3,
    "start_time": "2022-09-13T09:16:10.343Z"
   },
   {
    "duration": 6,
    "start_time": "2022-09-13T09:16:10.347Z"
   },
   {
    "duration": 33,
    "start_time": "2022-09-13T09:16:10.354Z"
   },
   {
    "duration": 42,
    "start_time": "2022-09-13T09:16:10.389Z"
   },
   {
    "duration": 199,
    "start_time": "2022-09-13T09:16:10.433Z"
   },
   {
    "duration": 1185,
    "start_time": "2022-09-13T09:16:10.634Z"
   },
   {
    "duration": 204,
    "start_time": "2022-09-13T09:16:15.184Z"
   },
   {
    "duration": 196,
    "start_time": "2022-09-13T09:16:37.378Z"
   },
   {
    "duration": 215,
    "start_time": "2022-09-13T09:18:13.624Z"
   },
   {
    "duration": 233,
    "start_time": "2022-09-13T09:18:40.556Z"
   },
   {
    "duration": 209,
    "start_time": "2022-09-13T09:18:45.652Z"
   },
   {
    "duration": 216,
    "start_time": "2022-09-13T09:18:49.244Z"
   },
   {
    "duration": 192,
    "start_time": "2022-09-13T09:18:54.725Z"
   },
   {
    "duration": 106,
    "start_time": "2022-09-13T09:19:43.623Z"
   },
   {
    "duration": 20,
    "start_time": "2022-09-13T09:19:47.413Z"
   },
   {
    "duration": 106,
    "start_time": "2022-09-13T09:19:48.092Z"
   },
   {
    "duration": 4,
    "start_time": "2022-09-13T09:19:54.012Z"
   },
   {
    "duration": 286,
    "start_time": "2022-09-13T09:19:54.565Z"
   },
   {
    "duration": 196,
    "start_time": "2022-09-13T09:21:24.920Z"
   },
   {
    "duration": 153,
    "start_time": "2022-09-13T09:24:06.948Z"
   },
   {
    "duration": 183,
    "start_time": "2022-09-13T09:25:31.303Z"
   },
   {
    "duration": 192,
    "start_time": "2022-09-13T09:25:52.794Z"
   },
   {
    "duration": 178,
    "start_time": "2022-09-13T09:25:59.659Z"
   },
   {
    "duration": 176,
    "start_time": "2022-09-13T09:26:03.507Z"
   },
   {
    "duration": 183,
    "start_time": "2022-09-13T09:26:11.357Z"
   },
   {
    "duration": 182,
    "start_time": "2022-09-13T09:26:15.916Z"
   },
   {
    "duration": 184,
    "start_time": "2022-09-13T09:26:21.846Z"
   },
   {
    "duration": 183,
    "start_time": "2022-09-13T09:28:52.882Z"
   },
   {
    "duration": 1684,
    "start_time": "2022-09-13T09:29:01.830Z"
   },
   {
    "duration": 20,
    "start_time": "2022-09-13T09:29:03.516Z"
   },
   {
    "duration": 18,
    "start_time": "2022-09-13T09:29:03.538Z"
   },
   {
    "duration": 11,
    "start_time": "2022-09-13T09:29:03.558Z"
   },
   {
    "duration": 59,
    "start_time": "2022-09-13T09:29:03.570Z"
   },
   {
    "duration": 3,
    "start_time": "2022-09-13T09:29:03.631Z"
   },
   {
    "duration": 14,
    "start_time": "2022-09-13T09:29:03.636Z"
   },
   {
    "duration": 5,
    "start_time": "2022-09-13T09:29:03.651Z"
   },
   {
    "duration": 8,
    "start_time": "2022-09-13T09:29:03.657Z"
   },
   {
    "duration": 5,
    "start_time": "2022-09-13T09:29:03.668Z"
   },
   {
    "duration": 60,
    "start_time": "2022-09-13T09:29:03.674Z"
   },
   {
    "duration": 10,
    "start_time": "2022-09-13T09:29:03.736Z"
   },
   {
    "duration": 5,
    "start_time": "2022-09-13T09:29:03.747Z"
   },
   {
    "duration": 25,
    "start_time": "2022-09-13T09:29:03.753Z"
   },
   {
    "duration": 28,
    "start_time": "2022-09-13T09:29:03.780Z"
   },
   {
    "duration": 27,
    "start_time": "2022-09-13T09:29:03.810Z"
   },
   {
    "duration": 4,
    "start_time": "2022-09-13T09:29:03.839Z"
   },
   {
    "duration": 45,
    "start_time": "2022-09-13T09:29:03.845Z"
   },
   {
    "duration": 48,
    "start_time": "2022-09-13T09:29:03.892Z"
   },
   {
    "duration": 30,
    "start_time": "2022-09-13T09:29:03.942Z"
   },
   {
    "duration": 25,
    "start_time": "2022-09-13T09:29:03.973Z"
   },
   {
    "duration": 38,
    "start_time": "2022-09-13T09:29:04.000Z"
   },
   {
    "duration": 46,
    "start_time": "2022-09-13T09:29:04.039Z"
   },
   {
    "duration": 121,
    "start_time": "2022-09-13T09:29:04.087Z"
   },
   {
    "duration": 12,
    "start_time": "2022-09-13T09:29:04.210Z"
   },
   {
    "duration": 312,
    "start_time": "2022-09-13T09:29:04.224Z"
   },
   {
    "duration": 24,
    "start_time": "2022-09-13T09:29:04.538Z"
   },
   {
    "duration": 187,
    "start_time": "2022-09-13T09:29:04.566Z"
   },
   {
    "duration": 21,
    "start_time": "2022-09-13T09:29:04.755Z"
   },
   {
    "duration": 120,
    "start_time": "2022-09-13T09:29:04.778Z"
   },
   {
    "duration": 168,
    "start_time": "2022-09-13T09:29:04.900Z"
   },
   {
    "duration": 227,
    "start_time": "2022-09-13T09:29:05.071Z"
   },
   {
    "duration": 2,
    "start_time": "2022-09-13T09:29:05.301Z"
   },
   {
    "duration": 15,
    "start_time": "2022-09-13T09:29:05.305Z"
   },
   {
    "duration": 46,
    "start_time": "2022-09-13T09:29:05.322Z"
   },
   {
    "duration": 27,
    "start_time": "2022-09-13T09:29:05.370Z"
   },
   {
    "duration": 191,
    "start_time": "2022-09-13T09:29:05.399Z"
   },
   {
    "duration": 1241,
    "start_time": "2022-09-13T09:29:05.592Z"
   },
   {
    "duration": 163,
    "start_time": "2022-09-13T09:30:46.542Z"
   },
   {
    "duration": 182,
    "start_time": "2022-09-13T09:31:59.480Z"
   },
   {
    "duration": 205,
    "start_time": "2022-09-13T09:32:16.707Z"
   },
   {
    "duration": 189,
    "start_time": "2022-09-13T09:32:50.853Z"
   },
   {
    "duration": 48,
    "start_time": "2022-09-13T09:35:33.890Z"
   },
   {
    "duration": 18,
    "start_time": "2022-09-13T09:35:36.764Z"
   },
   {
    "duration": 46,
    "start_time": "2022-09-13T09:35:44.580Z"
   },
   {
    "duration": 17,
    "start_time": "2022-09-13T09:35:47.718Z"
   },
   {
    "duration": 67,
    "start_time": "2022-09-13T09:39:13.423Z"
   },
   {
    "duration": 18,
    "start_time": "2022-09-13T09:39:28.041Z"
   },
   {
    "duration": 19,
    "start_time": "2022-09-13T09:39:33.186Z"
   },
   {
    "duration": 25,
    "start_time": "2022-09-13T09:39:37.226Z"
   },
   {
    "duration": 16,
    "start_time": "2022-09-13T09:39:40.802Z"
   },
   {
    "duration": 26,
    "start_time": "2022-09-13T09:42:52.723Z"
   },
   {
    "duration": 21,
    "start_time": "2022-09-13T09:42:58.172Z"
   },
   {
    "duration": 23,
    "start_time": "2022-09-13T09:43:04.515Z"
   },
   {
    "duration": 22,
    "start_time": "2022-09-13T09:43:10.069Z"
   },
   {
    "duration": 25,
    "start_time": "2022-09-13T09:52:41.362Z"
   },
   {
    "duration": 22,
    "start_time": "2022-09-13T09:52:54.311Z"
   },
   {
    "duration": 23,
    "start_time": "2022-09-13T09:53:05.281Z"
   },
   {
    "duration": 34,
    "start_time": "2022-09-13T09:53:19.092Z"
   },
   {
    "duration": 24,
    "start_time": "2022-09-13T09:57:01.879Z"
   },
   {
    "duration": 4,
    "start_time": "2022-09-13T09:57:04.814Z"
   },
   {
    "duration": 48,
    "start_time": "2022-09-13T09:57:05.526Z"
   },
   {
    "duration": 156,
    "start_time": "2022-09-13T09:57:34.834Z"
   },
   {
    "duration": 68,
    "start_time": "2022-09-13T09:57:39.699Z"
   },
   {
    "duration": 5,
    "start_time": "2022-09-13T09:57:42.460Z"
   },
   {
    "duration": 40,
    "start_time": "2022-09-13T09:57:43.165Z"
   },
   {
    "duration": 5,
    "start_time": "2022-09-13T09:58:22.536Z"
   },
   {
    "duration": 34,
    "start_time": "2022-09-13T09:58:23.193Z"
   },
   {
    "duration": 4,
    "start_time": "2022-09-13T09:58:49.260Z"
   },
   {
    "duration": 30,
    "start_time": "2022-09-13T09:58:49.708Z"
   },
   {
    "duration": 4,
    "start_time": "2022-09-13T09:58:58.661Z"
   },
   {
    "duration": 31,
    "start_time": "2022-09-13T09:58:59.214Z"
   },
   {
    "duration": 6,
    "start_time": "2022-09-13T09:59:12.399Z"
   },
   {
    "duration": 16,
    "start_time": "2022-09-13T09:59:12.880Z"
   },
   {
    "duration": 4,
    "start_time": "2022-09-13T09:59:16.216Z"
   },
   {
    "duration": 29,
    "start_time": "2022-09-13T09:59:16.695Z"
   },
   {
    "duration": 5,
    "start_time": "2022-09-13T09:59:47.675Z"
   },
   {
    "duration": 31,
    "start_time": "2022-09-13T09:59:48.180Z"
   },
   {
    "duration": 5,
    "start_time": "2022-09-13T10:00:05.790Z"
   },
   {
    "duration": 19,
    "start_time": "2022-09-13T10:00:06.742Z"
   },
   {
    "duration": 10,
    "start_time": "2022-09-13T10:00:19.076Z"
   },
   {
    "duration": 21,
    "start_time": "2022-09-13T10:00:20.376Z"
   },
   {
    "duration": 6,
    "start_time": "2022-09-13T10:01:18.886Z"
   },
   {
    "duration": 18,
    "start_time": "2022-09-13T10:01:19.391Z"
   },
   {
    "duration": 6,
    "start_time": "2022-09-13T10:02:54.436Z"
   },
   {
    "duration": 28,
    "start_time": "2022-09-13T10:02:54.908Z"
   },
   {
    "duration": 5,
    "start_time": "2022-09-13T10:03:05.045Z"
   },
   {
    "duration": 20,
    "start_time": "2022-09-13T10:03:05.414Z"
   },
   {
    "duration": 5,
    "start_time": "2022-09-13T10:04:35.648Z"
   },
   {
    "duration": 29,
    "start_time": "2022-09-13T10:04:36.386Z"
   },
   {
    "duration": 6,
    "start_time": "2022-09-13T10:04:43.610Z"
   },
   {
    "duration": 27,
    "start_time": "2022-09-13T10:04:44.115Z"
   },
   {
    "duration": 4,
    "start_time": "2022-09-13T10:04:50.779Z"
   },
   {
    "duration": 20,
    "start_time": "2022-09-13T10:04:51.322Z"
   },
   {
    "duration": 5,
    "start_time": "2022-09-13T10:04:54.483Z"
   },
   {
    "duration": 20,
    "start_time": "2022-09-13T10:04:54.852Z"
   },
   {
    "duration": 30,
    "start_time": "2022-09-13T10:04:57.716Z"
   },
   {
    "duration": 27,
    "start_time": "2022-09-13T10:05:21.192Z"
   },
   {
    "duration": 19,
    "start_time": "2022-09-13T10:05:35.345Z"
   },
   {
    "duration": 25,
    "start_time": "2022-09-13T10:05:40.874Z"
   },
   {
    "duration": 20,
    "start_time": "2022-09-13T10:05:44.257Z"
   },
   {
    "duration": 19,
    "start_time": "2022-09-13T10:05:56.403Z"
   },
   {
    "duration": 17,
    "start_time": "2022-09-13T10:06:04.100Z"
   },
   {
    "duration": 17,
    "start_time": "2022-09-13T10:06:10.845Z"
   },
   {
    "duration": 18,
    "start_time": "2022-09-13T10:07:28.695Z"
   },
   {
    "duration": 22,
    "start_time": "2022-09-13T10:09:15.836Z"
   },
   {
    "duration": 32,
    "start_time": "2022-09-13T10:10:04.235Z"
   },
   {
    "duration": 27,
    "start_time": "2022-09-13T10:10:12.116Z"
   },
   {
    "duration": 4,
    "start_time": "2022-09-13T10:10:18.109Z"
   },
   {
    "duration": 27,
    "start_time": "2022-09-13T10:10:18.709Z"
   },
   {
    "duration": 25,
    "start_time": "2022-09-13T10:10:34.688Z"
   },
   {
    "duration": 5,
    "start_time": "2022-09-13T10:10:39.598Z"
   },
   {
    "duration": 27,
    "start_time": "2022-09-13T10:10:40.353Z"
   },
   {
    "duration": 19,
    "start_time": "2022-09-13T10:10:52.890Z"
   },
   {
    "duration": 26,
    "start_time": "2022-09-13T10:11:00.634Z"
   },
   {
    "duration": 18,
    "start_time": "2022-09-13T10:11:03.428Z"
   },
   {
    "duration": 28,
    "start_time": "2022-09-13T10:13:09.763Z"
   },
   {
    "duration": 1120,
    "start_time": "2022-09-13T10:13:23.829Z"
   },
   {
    "duration": 25,
    "start_time": "2022-09-13T10:13:58.418Z"
   },
   {
    "duration": 26,
    "start_time": "2022-09-13T10:14:00.362Z"
   },
   {
    "duration": 26,
    "start_time": "2022-09-13T10:14:16.243Z"
   },
   {
    "duration": 58,
    "start_time": "2022-09-13T10:14:26.141Z"
   },
   {
    "duration": 26,
    "start_time": "2022-09-13T10:14:29.358Z"
   },
   {
    "duration": 20,
    "start_time": "2022-09-13T10:16:03.610Z"
   },
   {
    "duration": 20,
    "start_time": "2022-09-13T10:16:16.619Z"
   },
   {
    "duration": 23,
    "start_time": "2022-09-13T10:16:24.939Z"
   },
   {
    "duration": 27,
    "start_time": "2022-09-13T10:16:35.278Z"
   },
   {
    "duration": 24,
    "start_time": "2022-09-13T10:16:37.423Z"
   },
   {
    "duration": 23,
    "start_time": "2022-09-13T10:16:48.704Z"
   },
   {
    "duration": 21,
    "start_time": "2022-09-13T10:17:28.173Z"
   },
   {
    "duration": 22,
    "start_time": "2022-09-13T10:17:34.798Z"
   },
   {
    "duration": 21,
    "start_time": "2022-09-13T10:17:36.934Z"
   },
   {
    "duration": 22,
    "start_time": "2022-09-13T10:17:39.960Z"
   },
   {
    "duration": 5,
    "start_time": "2022-09-13T10:18:37.204Z"
   },
   {
    "duration": 24,
    "start_time": "2022-09-13T10:18:38.110Z"
   },
   {
    "duration": 5,
    "start_time": "2022-09-13T10:19:50.158Z"
   },
   {
    "duration": 25,
    "start_time": "2022-09-13T10:19:50.760Z"
   },
   {
    "duration": 4,
    "start_time": "2022-09-13T10:19:59.680Z"
   },
   {
    "duration": 20,
    "start_time": "2022-09-13T10:20:00.088Z"
   },
   {
    "duration": 103,
    "start_time": "2022-09-13T10:30:25.790Z"
   },
   {
    "duration": 4,
    "start_time": "2022-09-13T10:30:35.599Z"
   },
   {
    "duration": 25,
    "start_time": "2022-09-13T10:30:36.574Z"
   },
   {
    "duration": 4,
    "start_time": "2022-09-13T10:30:59.161Z"
   },
   {
    "duration": 19,
    "start_time": "2022-09-13T10:31:07.561Z"
   },
   {
    "duration": 19,
    "start_time": "2022-09-13T10:31:11.067Z"
   },
   {
    "duration": 21,
    "start_time": "2022-09-13T10:32:11.643Z"
   },
   {
    "duration": 24,
    "start_time": "2022-09-13T10:32:17.260Z"
   },
   {
    "duration": 18,
    "start_time": "2022-09-13T10:32:57.289Z"
   },
   {
    "duration": 28,
    "start_time": "2022-09-13T10:33:22.240Z"
   },
   {
    "duration": 6,
    "start_time": "2022-09-13T10:34:30.044Z"
   },
   {
    "duration": 31,
    "start_time": "2022-09-13T10:34:30.853Z"
   },
   {
    "duration": 8,
    "start_time": "2022-09-13T10:34:49.310Z"
   },
   {
    "duration": 39,
    "start_time": "2022-09-13T10:34:49.902Z"
   },
   {
    "duration": 6,
    "start_time": "2022-09-13T10:35:04.121Z"
   },
   {
    "duration": 27,
    "start_time": "2022-09-13T10:35:04.642Z"
   },
   {
    "duration": 5,
    "start_time": "2022-09-13T10:35:11.456Z"
   },
   {
    "duration": 35,
    "start_time": "2022-09-13T10:35:11.941Z"
   },
   {
    "duration": 6,
    "start_time": "2022-09-13T10:35:35.740Z"
   },
   {
    "duration": 41,
    "start_time": "2022-09-13T10:35:36.316Z"
   },
   {
    "duration": 7,
    "start_time": "2022-09-13T10:35:58.649Z"
   },
   {
    "duration": 24,
    "start_time": "2022-09-13T10:35:59.191Z"
   },
   {
    "duration": 5,
    "start_time": "2022-09-13T10:36:24.690Z"
   },
   {
    "duration": 24,
    "start_time": "2022-09-13T10:36:25.267Z"
   },
   {
    "duration": 23,
    "start_time": "2022-09-13T10:36:56.342Z"
   },
   {
    "duration": 19,
    "start_time": "2022-09-13T10:37:10.599Z"
   },
   {
    "duration": 26,
    "start_time": "2022-09-13T10:37:16.874Z"
   },
   {
    "duration": 5,
    "start_time": "2022-09-13T10:37:54.949Z"
   },
   {
    "duration": 24,
    "start_time": "2022-09-13T10:37:55.540Z"
   },
   {
    "duration": 19,
    "start_time": "2022-09-13T10:38:19.490Z"
   },
   {
    "duration": 169,
    "start_time": "2022-09-13T10:39:05.016Z"
   },
   {
    "duration": 6,
    "start_time": "2022-09-13T10:39:08.680Z"
   },
   {
    "duration": 44,
    "start_time": "2022-09-13T10:39:09.225Z"
   },
   {
    "duration": 142,
    "start_time": "2022-09-13T10:39:52.950Z"
   },
   {
    "duration": 6,
    "start_time": "2022-09-13T10:39:55.655Z"
   },
   {
    "duration": 374,
    "start_time": "2022-09-13T10:39:55.997Z"
   },
   {
    "duration": 6,
    "start_time": "2022-09-13T10:41:05.398Z"
   },
   {
    "duration": 19,
    "start_time": "2022-09-13T10:41:05.990Z"
   },
   {
    "duration": 23,
    "start_time": "2022-09-13T10:45:05.580Z"
   },
   {
    "duration": 24,
    "start_time": "2022-09-13T10:45:19.781Z"
   },
   {
    "duration": 33,
    "start_time": "2022-09-13T10:47:17.554Z"
   },
   {
    "duration": 273,
    "start_time": "2022-09-13T11:03:14.298Z"
   },
   {
    "duration": 140,
    "start_time": "2022-09-13T11:03:40.108Z"
   },
   {
    "duration": 215,
    "start_time": "2022-09-13T11:03:45.973Z"
   },
   {
    "duration": 237,
    "start_time": "2022-09-13T11:03:53.856Z"
   },
   {
    "duration": 2039,
    "start_time": "2022-09-13T11:04:03.494Z"
   },
   {
    "duration": 25,
    "start_time": "2022-09-13T11:04:05.547Z"
   },
   {
    "duration": 24,
    "start_time": "2022-09-13T11:04:05.575Z"
   },
   {
    "duration": 12,
    "start_time": "2022-09-13T11:04:05.601Z"
   },
   {
    "duration": 55,
    "start_time": "2022-09-13T11:04:05.615Z"
   },
   {
    "duration": 4,
    "start_time": "2022-09-13T11:04:05.672Z"
   },
   {
    "duration": 13,
    "start_time": "2022-09-13T11:04:05.678Z"
   },
   {
    "duration": 21,
    "start_time": "2022-09-13T11:04:05.692Z"
   },
   {
    "duration": 52,
    "start_time": "2022-09-13T11:04:05.715Z"
   },
   {
    "duration": 28,
    "start_time": "2022-09-13T11:04:05.771Z"
   },
   {
    "duration": 96,
    "start_time": "2022-09-13T11:04:05.801Z"
   },
   {
    "duration": 12,
    "start_time": "2022-09-13T11:04:05.900Z"
   },
   {
    "duration": 62,
    "start_time": "2022-09-13T11:04:05.914Z"
   },
   {
    "duration": 51,
    "start_time": "2022-09-13T11:04:05.978Z"
   },
   {
    "duration": 61,
    "start_time": "2022-09-13T11:04:06.031Z"
   },
   {
    "duration": 20,
    "start_time": "2022-09-13T11:04:06.094Z"
   },
   {
    "duration": 56,
    "start_time": "2022-09-13T11:04:06.116Z"
   },
   {
    "duration": 21,
    "start_time": "2022-09-13T11:04:06.175Z"
   },
   {
    "duration": 9,
    "start_time": "2022-09-13T11:04:06.198Z"
   },
   {
    "duration": 56,
    "start_time": "2022-09-13T11:04:06.209Z"
   },
   {
    "duration": 26,
    "start_time": "2022-09-13T11:04:06.266Z"
   },
   {
    "duration": 20,
    "start_time": "2022-09-13T11:04:06.295Z"
   },
   {
    "duration": 247,
    "start_time": "2022-09-13T11:04:06.317Z"
   },
   {
    "duration": 144,
    "start_time": "2022-09-13T11:04:06.567Z"
   },
   {
    "duration": 31,
    "start_time": "2022-09-13T11:04:06.714Z"
   },
   {
    "duration": 241,
    "start_time": "2022-09-13T11:04:06.748Z"
   },
   {
    "duration": 35,
    "start_time": "2022-09-13T11:04:06.992Z"
   },
   {
    "duration": 233,
    "start_time": "2022-09-13T11:04:07.030Z"
   },
   {
    "duration": 22,
    "start_time": "2022-09-13T11:04:07.266Z"
   },
   {
    "duration": 146,
    "start_time": "2022-09-13T11:04:07.291Z"
   },
   {
    "duration": 207,
    "start_time": "2022-09-13T11:04:07.439Z"
   },
   {
    "duration": 274,
    "start_time": "2022-09-13T11:04:07.647Z"
   },
   {
    "duration": 10,
    "start_time": "2022-09-13T11:04:07.934Z"
   },
   {
    "duration": 13,
    "start_time": "2022-09-13T11:04:07.956Z"
   },
   {
    "duration": 35,
    "start_time": "2022-09-13T11:04:07.971Z"
   },
   {
    "duration": 184,
    "start_time": "2022-09-13T11:04:08.007Z"
   },
   {
    "duration": 0,
    "start_time": "2022-09-13T11:04:08.192Z"
   },
   {
    "duration": 259,
    "start_time": "2022-09-13T11:04:17.298Z"
   },
   {
    "duration": 104,
    "start_time": "2022-09-13T11:04:38.558Z"
   },
   {
    "duration": 103,
    "start_time": "2022-09-13T11:04:41.878Z"
   },
   {
    "duration": 807,
    "start_time": "2022-09-13T11:04:51.664Z"
   },
   {
    "duration": 6,
    "start_time": "2022-09-13T11:04:59.552Z"
   },
   {
    "duration": 233,
    "start_time": "2022-09-13T11:05:01.559Z"
   },
   {
    "duration": 28,
    "start_time": "2022-09-13T11:05:53.261Z"
   },
   {
    "duration": 254,
    "start_time": "2022-09-13T11:05:56.463Z"
   },
   {
    "duration": 204,
    "start_time": "2022-09-13T11:06:49.869Z"
   },
   {
    "duration": 242,
    "start_time": "2022-09-13T11:07:00.719Z"
   },
   {
    "duration": 232,
    "start_time": "2022-09-13T11:07:12.303Z"
   },
   {
    "duration": 232,
    "start_time": "2022-09-13T11:07:26.739Z"
   },
   {
    "duration": 127,
    "start_time": "2022-09-13T11:09:02.846Z"
   },
   {
    "duration": 162,
    "start_time": "2022-09-13T11:09:08.151Z"
   },
   {
    "duration": 45,
    "start_time": "2022-09-13T11:09:14.768Z"
   },
   {
    "duration": 224,
    "start_time": "2022-09-13T11:09:26.953Z"
   },
   {
    "duration": 310,
    "start_time": "2022-09-13T11:09:36.411Z"
   },
   {
    "duration": 54,
    "start_time": "2022-09-13T11:10:09.911Z"
   },
   {
    "duration": 1041,
    "start_time": "2022-09-13T11:10:12.330Z"
   },
   {
    "duration": 209,
    "start_time": "2022-09-13T11:10:14.671Z"
   },
   {
    "duration": 227,
    "start_time": "2022-09-13T11:10:25.992Z"
   },
   {
    "duration": 226,
    "start_time": "2022-09-13T11:16:03.085Z"
   },
   {
    "duration": 216,
    "start_time": "2022-09-13T11:16:21.888Z"
   },
   {
    "duration": 233,
    "start_time": "2022-09-13T11:17:04.371Z"
   },
   {
    "duration": 236,
    "start_time": "2022-09-13T11:17:17.151Z"
   },
   {
    "duration": 13,
    "start_time": "2022-09-13T11:17:52.106Z"
   },
   {
    "duration": 96,
    "start_time": "2022-09-13T11:18:21.901Z"
   },
   {
    "duration": 238,
    "start_time": "2022-09-13T11:18:28.984Z"
   },
   {
    "duration": 205,
    "start_time": "2022-09-13T11:18:36.503Z"
   },
   {
    "duration": 232,
    "start_time": "2022-09-13T11:19:55.557Z"
   },
   {
    "duration": 226,
    "start_time": "2022-09-13T11:20:01.557Z"
   },
   {
    "duration": 1465,
    "start_time": "2022-09-13T11:20:12.910Z"
   },
   {
    "duration": 207,
    "start_time": "2022-09-13T11:20:40.272Z"
   },
   {
    "duration": 233,
    "start_time": "2022-09-13T11:21:21.782Z"
   },
   {
    "duration": 231,
    "start_time": "2022-09-13T11:21:31.875Z"
   },
   {
    "duration": 255,
    "start_time": "2022-09-13T11:21:46.000Z"
   },
   {
    "duration": 269,
    "start_time": "2022-09-13T11:21:57.682Z"
   },
   {
    "duration": 219,
    "start_time": "2022-09-13T11:22:00.954Z"
   },
   {
    "duration": 353,
    "start_time": "2022-09-13T11:23:31.658Z"
   },
   {
    "duration": 877,
    "start_time": "2022-09-13T11:25:00.412Z"
   },
   {
    "duration": 212,
    "start_time": "2022-09-13T11:25:06.289Z"
   },
   {
    "duration": 209,
    "start_time": "2022-09-13T11:25:12.483Z"
   },
   {
    "duration": 215,
    "start_time": "2022-09-13T11:25:16.868Z"
   },
   {
    "duration": 206,
    "start_time": "2022-09-13T11:25:22.292Z"
   },
   {
    "duration": 281,
    "start_time": "2022-09-13T11:25:25.390Z"
   },
   {
    "duration": 214,
    "start_time": "2022-09-13T11:25:30.269Z"
   },
   {
    "duration": 209,
    "start_time": "2022-09-13T11:25:33.564Z"
   },
   {
    "duration": 209,
    "start_time": "2022-09-13T11:25:36.764Z"
   },
   {
    "duration": 90,
    "start_time": "2022-09-13T11:26:18.011Z"
   },
   {
    "duration": 218,
    "start_time": "2022-09-13T11:26:23.477Z"
   },
   {
    "duration": 197,
    "start_time": "2022-09-13T11:30:32.469Z"
   },
   {
    "duration": 198,
    "start_time": "2022-09-13T11:30:38.461Z"
   },
   {
    "duration": 198,
    "start_time": "2022-09-13T11:30:48.399Z"
   },
   {
    "duration": 245,
    "start_time": "2022-09-13T11:30:58.992Z"
   },
   {
    "duration": 220,
    "start_time": "2022-09-13T11:31:07.749Z"
   },
   {
    "duration": 210,
    "start_time": "2022-09-13T11:31:12.994Z"
   },
   {
    "duration": 240,
    "start_time": "2022-09-13T11:31:26.810Z"
   },
   {
    "duration": 205,
    "start_time": "2022-09-13T11:31:45.589Z"
   },
   {
    "duration": 200,
    "start_time": "2022-09-13T11:32:13.569Z"
   },
   {
    "duration": 211,
    "start_time": "2022-09-13T11:32:21.150Z"
   },
   {
    "duration": 35,
    "start_time": "2022-09-13T11:39:43.275Z"
   },
   {
    "duration": 23,
    "start_time": "2022-09-13T11:39:50.395Z"
   },
   {
    "duration": 26,
    "start_time": "2022-09-13T11:39:55.899Z"
   },
   {
    "duration": 38,
    "start_time": "2022-09-13T11:40:59.863Z"
   },
   {
    "duration": 37,
    "start_time": "2022-09-13T11:45:04.475Z"
   },
   {
    "duration": 27,
    "start_time": "2022-09-13T11:45:11.169Z"
   },
   {
    "duration": 25,
    "start_time": "2022-09-13T11:46:21.085Z"
   },
   {
    "duration": 20,
    "start_time": "2022-09-13T11:46:30.473Z"
   },
   {
    "duration": 22,
    "start_time": "2022-09-13T11:46:35.582Z"
   },
   {
    "duration": 22,
    "start_time": "2022-09-13T11:46:40.370Z"
   },
   {
    "duration": 21,
    "start_time": "2022-09-13T11:47:03.373Z"
   },
   {
    "duration": 22,
    "start_time": "2022-09-13T11:47:07.075Z"
   },
   {
    "duration": 33,
    "start_time": "2022-09-13T11:47:10.258Z"
   },
   {
    "duration": 246,
    "start_time": "2022-09-13T11:47:10.507Z"
   },
   {
    "duration": 21,
    "start_time": "2022-09-13T11:47:14.072Z"
   },
   {
    "duration": 24,
    "start_time": "2022-09-13T11:47:41.470Z"
   },
   {
    "duration": 23,
    "start_time": "2022-09-13T11:47:43.671Z"
   },
   {
    "duration": 22,
    "start_time": "2022-09-13T11:47:45.976Z"
   },
   {
    "duration": 11,
    "start_time": "2022-09-13T12:04:29.665Z"
   },
   {
    "duration": 23888,
    "start_time": "2022-09-13T12:04:42.802Z"
   },
   {
    "duration": 24073,
    "start_time": "2022-09-13T12:05:28.997Z"
   },
   {
    "duration": 7,
    "start_time": "2022-09-13T12:08:22.969Z"
   },
   {
    "duration": 6,
    "start_time": "2022-09-13T12:08:58.285Z"
   },
   {
    "duration": 7419,
    "start_time": "2022-09-13T12:09:06.253Z"
   },
   {
    "duration": 24,
    "start_time": "2022-09-13T12:29:22.965Z"
   },
   {
    "duration": 4895,
    "start_time": "2022-09-13T12:31:01.959Z"
   },
   {
    "duration": 246,
    "start_time": "2022-09-13T12:31:16.365Z"
   },
   {
    "duration": 8264,
    "start_time": "2022-09-13T12:31:19.805Z"
   },
   {
    "duration": 95,
    "start_time": "2022-09-13T12:38:15.994Z"
   },
   {
    "duration": 325,
    "start_time": "2022-09-13T12:38:19.476Z"
   },
   {
    "duration": 277,
    "start_time": "2022-09-13T12:38:23.377Z"
   },
   {
    "duration": 299,
    "start_time": "2022-09-13T12:38:27.187Z"
   },
   {
    "duration": 1203,
    "start_time": "2022-09-13T12:51:36.889Z"
   },
   {
    "duration": 16,
    "start_time": "2022-09-13T13:01:36.459Z"
   },
   {
    "duration": 146,
    "start_time": "2022-09-13T13:02:12.855Z"
   },
   {
    "duration": 2218,
    "start_time": "2022-09-13T13:02:19.202Z"
   },
   {
    "duration": 3443,
    "start_time": "2022-09-13T13:02:27.362Z"
   },
   {
    "duration": 35,
    "start_time": "2022-09-13T13:02:34.464Z"
   },
   {
    "duration": 258,
    "start_time": "2022-09-13T13:02:35.761Z"
   },
   {
    "duration": 303,
    "start_time": "2022-09-13T13:02:36.602Z"
   },
   {
    "duration": 2506,
    "start_time": "2022-09-13T13:05:28.659Z"
   },
   {
    "duration": 7604,
    "start_time": "2022-09-13T13:05:53.091Z"
   },
   {
    "duration": 7851,
    "start_time": "2022-09-13T13:06:10.054Z"
   },
   {
    "duration": 2644,
    "start_time": "2022-09-13T13:06:32.060Z"
   },
   {
    "duration": 29,
    "start_time": "2022-09-13T13:06:34.706Z"
   },
   {
    "duration": 35,
    "start_time": "2022-09-13T13:06:34.737Z"
   },
   {
    "duration": 40,
    "start_time": "2022-09-13T13:06:34.774Z"
   },
   {
    "duration": 63,
    "start_time": "2022-09-13T13:06:34.818Z"
   },
   {
    "duration": 16,
    "start_time": "2022-09-13T13:06:34.883Z"
   },
   {
    "duration": 66,
    "start_time": "2022-09-13T13:06:34.901Z"
   },
   {
    "duration": 17,
    "start_time": "2022-09-13T13:06:34.969Z"
   },
   {
    "duration": 101,
    "start_time": "2022-09-13T13:06:34.989Z"
   },
   {
    "duration": 79,
    "start_time": "2022-09-13T13:06:35.092Z"
   },
   {
    "duration": 47,
    "start_time": "2022-09-13T13:06:35.173Z"
   },
   {
    "duration": 17,
    "start_time": "2022-09-13T13:06:35.222Z"
   },
   {
    "duration": 42,
    "start_time": "2022-09-13T13:06:35.241Z"
   },
   {
    "duration": 21,
    "start_time": "2022-09-13T13:06:35.287Z"
   },
   {
    "duration": 49,
    "start_time": "2022-09-13T13:06:35.311Z"
   },
   {
    "duration": 30,
    "start_time": "2022-09-13T13:06:35.362Z"
   },
   {
    "duration": 5,
    "start_time": "2022-09-13T13:06:35.395Z"
   },
   {
    "duration": 40,
    "start_time": "2022-09-13T13:06:35.402Z"
   },
   {
    "duration": 44,
    "start_time": "2022-09-13T13:06:35.444Z"
   },
   {
    "duration": 5,
    "start_time": "2022-09-13T13:06:35.490Z"
   },
   {
    "duration": 16,
    "start_time": "2022-09-13T13:06:35.497Z"
   },
   {
    "duration": 57,
    "start_time": "2022-09-13T13:06:35.515Z"
   },
   {
    "duration": 174,
    "start_time": "2022-09-13T13:06:35.574Z"
   },
   {
    "duration": 152,
    "start_time": "2022-09-13T13:06:35.763Z"
   },
   {
    "duration": 11,
    "start_time": "2022-09-13T13:06:35.922Z"
   },
   {
    "duration": 326,
    "start_time": "2022-09-13T13:06:35.935Z"
   },
   {
    "duration": 33,
    "start_time": "2022-09-13T13:06:36.264Z"
   },
   {
    "duration": 274,
    "start_time": "2022-09-13T13:06:36.300Z"
   },
   {
    "duration": 47,
    "start_time": "2022-09-13T13:06:36.577Z"
   },
   {
    "duration": 281,
    "start_time": "2022-09-13T13:06:36.627Z"
   },
   {
    "duration": 355,
    "start_time": "2022-09-13T13:06:36.911Z"
   },
   {
    "duration": 8572,
    "start_time": "2022-09-13T13:06:37.272Z"
   },
   {
    "duration": 0,
    "start_time": "2022-09-13T13:06:45.849Z"
   },
   {
    "duration": 0,
    "start_time": "2022-09-13T13:06:45.854Z"
   },
   {
    "duration": 0,
    "start_time": "2022-09-13T13:06:45.857Z"
   },
   {
    "duration": 0,
    "start_time": "2022-09-13T13:06:45.862Z"
   },
   {
    "duration": 0,
    "start_time": "2022-09-13T13:06:45.864Z"
   },
   {
    "duration": 1758,
    "start_time": "2022-09-13T13:07:31.178Z"
   },
   {
    "duration": 24,
    "start_time": "2022-09-13T13:23:29.465Z"
   },
   {
    "duration": 213,
    "start_time": "2022-09-13T13:23:29.992Z"
   },
   {
    "duration": 6,
    "start_time": "2022-09-13T13:28:02.574Z"
   },
   {
    "duration": 19,
    "start_time": "2022-09-13T13:28:15.774Z"
   },
   {
    "duration": 29,
    "start_time": "2022-09-13T13:28:19.004Z"
   },
   {
    "duration": 16,
    "start_time": "2022-09-13T13:32:49.495Z"
   },
   {
    "duration": 31,
    "start_time": "2022-09-13T13:33:03.896Z"
   },
   {
    "duration": 6,
    "start_time": "2022-09-13T13:33:25.460Z"
   },
   {
    "duration": 7,
    "start_time": "2022-09-13T13:33:27.707Z"
   },
   {
    "duration": 35,
    "start_time": "2022-09-13T13:33:32.774Z"
   },
   {
    "duration": 27,
    "start_time": "2022-09-13T13:34:27.172Z"
   },
   {
    "duration": 10,
    "start_time": "2022-09-13T13:34:32.152Z"
   },
   {
    "duration": 51,
    "start_time": "2022-09-13T13:34:41.316Z"
   },
   {
    "duration": 16,
    "start_time": "2022-09-13T13:34:54.554Z"
   },
   {
    "duration": 9,
    "start_time": "2022-09-13T13:34:58.263Z"
   },
   {
    "duration": 33,
    "start_time": "2022-09-13T13:35:48.518Z"
   },
   {
    "duration": 21,
    "start_time": "2022-09-13T13:35:56.953Z"
   },
   {
    "duration": 4,
    "start_time": "2022-09-13T13:36:11.158Z"
   },
   {
    "duration": 1648,
    "start_time": "2022-09-13T13:36:16.054Z"
   },
   {
    "duration": 15,
    "start_time": "2022-09-13T13:36:32.091Z"
   },
   {
    "duration": 17,
    "start_time": "2022-09-13T13:37:11.456Z"
   },
   {
    "duration": 92,
    "start_time": "2022-09-13T13:48:07.863Z"
   },
   {
    "duration": 231,
    "start_time": "2022-09-13T13:48:10.850Z"
   },
   {
    "duration": 224,
    "start_time": "2022-09-13T13:49:01.678Z"
   },
   {
    "duration": 316,
    "start_time": "2022-09-13T13:49:57.090Z"
   },
   {
    "duration": 239,
    "start_time": "2022-09-13T13:50:16.407Z"
   },
   {
    "duration": 327,
    "start_time": "2022-09-13T13:50:22.426Z"
   },
   {
    "duration": 17,
    "start_time": "2022-09-13T13:57:18.171Z"
   },
   {
    "duration": 73,
    "start_time": "2022-09-13T14:02:17.656Z"
   },
   {
    "duration": 69,
    "start_time": "2022-09-13T14:02:21.455Z"
   },
   {
    "duration": 158,
    "start_time": "2022-09-13T14:02:25.053Z"
   },
   {
    "duration": 37,
    "start_time": "2022-09-13T14:02:45.605Z"
   },
   {
    "duration": 2519,
    "start_time": "2022-09-13T14:02:59.349Z"
   },
   {
    "duration": 25,
    "start_time": "2022-09-13T14:03:01.871Z"
   },
   {
    "duration": 34,
    "start_time": "2022-09-13T14:03:01.898Z"
   },
   {
    "duration": 18,
    "start_time": "2022-09-13T14:03:01.933Z"
   },
   {
    "duration": 58,
    "start_time": "2022-09-13T14:03:01.955Z"
   },
   {
    "duration": 5,
    "start_time": "2022-09-13T14:03:02.015Z"
   },
   {
    "duration": 46,
    "start_time": "2022-09-13T14:03:02.025Z"
   },
   {
    "duration": 31,
    "start_time": "2022-09-13T14:03:02.073Z"
   },
   {
    "duration": 50,
    "start_time": "2022-09-13T14:03:02.106Z"
   },
   {
    "duration": 112,
    "start_time": "2022-09-13T14:03:02.158Z"
   },
   {
    "duration": 125,
    "start_time": "2022-09-13T14:03:02.272Z"
   },
   {
    "duration": 110,
    "start_time": "2022-09-13T14:03:02.399Z"
   },
   {
    "duration": 52,
    "start_time": "2022-09-13T14:03:02.511Z"
   },
   {
    "duration": 49,
    "start_time": "2022-09-13T14:03:02.568Z"
   },
   {
    "duration": 85,
    "start_time": "2022-09-13T14:03:02.618Z"
   },
   {
    "duration": 40,
    "start_time": "2022-09-13T14:03:02.705Z"
   },
   {
    "duration": 28,
    "start_time": "2022-09-13T14:03:02.747Z"
   },
   {
    "duration": 30,
    "start_time": "2022-09-13T14:03:02.777Z"
   },
   {
    "duration": 9,
    "start_time": "2022-09-13T14:03:02.809Z"
   },
   {
    "duration": 47,
    "start_time": "2022-09-13T14:03:02.820Z"
   },
   {
    "duration": 18,
    "start_time": "2022-09-13T14:03:02.869Z"
   },
   {
    "duration": 5,
    "start_time": "2022-09-13T14:03:02.889Z"
   },
   {
    "duration": 168,
    "start_time": "2022-09-13T14:03:02.896Z"
   },
   {
    "duration": 135,
    "start_time": "2022-09-13T14:03:03.070Z"
   },
   {
    "duration": 23,
    "start_time": "2022-09-13T14:03:03.207Z"
   },
   {
    "duration": 331,
    "start_time": "2022-09-13T14:03:03.240Z"
   },
   {
    "duration": 17,
    "start_time": "2022-09-13T14:03:03.575Z"
   },
   {
    "duration": 32,
    "start_time": "2022-09-13T14:03:03.594Z"
   },
   {
    "duration": 33,
    "start_time": "2022-09-13T14:03:03.628Z"
   },
   {
    "duration": 234,
    "start_time": "2022-09-13T14:03:03.663Z"
   },
   {
    "duration": 40,
    "start_time": "2022-09-13T14:03:03.899Z"
   },
   {
    "duration": 236,
    "start_time": "2022-09-13T14:03:03.941Z"
   },
   {
    "duration": 270,
    "start_time": "2022-09-13T14:03:04.179Z"
   },
   {
    "duration": 0,
    "start_time": "2022-09-13T14:03:04.457Z"
   },
   {
    "duration": 0,
    "start_time": "2022-09-13T14:03:04.458Z"
   },
   {
    "duration": 0,
    "start_time": "2022-09-13T14:03:04.460Z"
   },
   {
    "duration": 0,
    "start_time": "2022-09-13T14:03:04.462Z"
   },
   {
    "duration": 0,
    "start_time": "2022-09-13T14:03:04.464Z"
   },
   {
    "duration": 37,
    "start_time": "2022-09-13T14:03:14.265Z"
   },
   {
    "duration": 55,
    "start_time": "2022-09-13T14:04:12.689Z"
   },
   {
    "duration": 23,
    "start_time": "2022-09-13T14:04:38.676Z"
   },
   {
    "duration": 15,
    "start_time": "2022-09-13T14:07:25.776Z"
   },
   {
    "duration": 25,
    "start_time": "2022-09-13T14:14:46.017Z"
   },
   {
    "duration": 17,
    "start_time": "2022-09-13T14:14:49.601Z"
   },
   {
    "duration": 3,
    "start_time": "2022-09-13T14:16:43.743Z"
   },
   {
    "duration": 4,
    "start_time": "2022-09-13T14:16:52.713Z"
   },
   {
    "duration": 4,
    "start_time": "2022-09-13T14:17:01.987Z"
   },
   {
    "duration": 4,
    "start_time": "2022-09-13T14:17:03.602Z"
   },
   {
    "duration": 86,
    "start_time": "2022-09-13T14:17:14.115Z"
   },
   {
    "duration": 18,
    "start_time": "2022-09-13T14:17:17.022Z"
   },
   {
    "duration": 13,
    "start_time": "2022-09-13T14:17:19.981Z"
   },
   {
    "duration": 4,
    "start_time": "2022-09-13T14:17:25.094Z"
   },
   {
    "duration": 4,
    "start_time": "2022-09-13T14:17:47.616Z"
   },
   {
    "duration": 86,
    "start_time": "2022-09-13T14:19:32.150Z"
   },
   {
    "duration": 86,
    "start_time": "2022-09-13T14:19:37.557Z"
   },
   {
    "duration": 85,
    "start_time": "2022-09-13T14:19:40.653Z"
   },
   {
    "duration": 12,
    "start_time": "2022-09-13T14:24:11.103Z"
   },
   {
    "duration": 19,
    "start_time": "2022-09-13T14:24:43.133Z"
   },
   {
    "duration": 27,
    "start_time": "2022-09-13T14:25:20.472Z"
   },
   {
    "duration": 26,
    "start_time": "2022-09-13T14:25:40.803Z"
   },
   {
    "duration": 13,
    "start_time": "2022-09-13T14:25:54.580Z"
   },
   {
    "duration": 13,
    "start_time": "2022-09-13T14:26:04.604Z"
   },
   {
    "duration": 15,
    "start_time": "2022-09-13T14:27:08.597Z"
   },
   {
    "duration": 21,
    "start_time": "2022-09-13T14:27:16.518Z"
   },
   {
    "duration": 16,
    "start_time": "2022-09-13T14:27:23.087Z"
   },
   {
    "duration": 24,
    "start_time": "2022-09-13T14:27:27.319Z"
   },
   {
    "duration": 16,
    "start_time": "2022-09-13T14:27:46.154Z"
   },
   {
    "duration": 18,
    "start_time": "2022-09-13T14:28:07.461Z"
   },
   {
    "duration": 16,
    "start_time": "2022-09-13T14:29:28.471Z"
   },
   {
    "duration": 18,
    "start_time": "2022-09-13T14:29:33.799Z"
   },
   {
    "duration": 123,
    "start_time": "2022-09-13T14:30:11.140Z"
   },
   {
    "duration": 12,
    "start_time": "2022-09-13T14:30:22.965Z"
   },
   {
    "duration": 18,
    "start_time": "2022-09-13T14:32:23.908Z"
   },
   {
    "duration": 17,
    "start_time": "2022-09-13T14:32:36.942Z"
   },
   {
    "duration": 19,
    "start_time": "2022-09-13T14:32:39.807Z"
   },
   {
    "duration": 15,
    "start_time": "2022-09-13T14:33:24.157Z"
   },
   {
    "duration": 30,
    "start_time": "2022-09-13T14:33:27.846Z"
   },
   {
    "duration": 31,
    "start_time": "2022-09-13T14:33:33.190Z"
   },
   {
    "duration": 45,
    "start_time": "2022-09-13T14:33:40.118Z"
   },
   {
    "duration": 31,
    "start_time": "2022-09-13T14:33:48.880Z"
   },
   {
    "duration": 24,
    "start_time": "2022-09-13T14:34:09.811Z"
   },
   {
    "duration": 49,
    "start_time": "2022-09-13T14:34:22.998Z"
   },
   {
    "duration": 43,
    "start_time": "2022-09-13T14:35:24.846Z"
   },
   {
    "duration": 23,
    "start_time": "2022-09-13T14:35:34.734Z"
   },
   {
    "duration": 36,
    "start_time": "2022-09-13T14:35:38.782Z"
   },
   {
    "duration": 1730,
    "start_time": "2022-09-13T14:36:22.411Z"
   },
   {
    "duration": 220,
    "start_time": "2022-09-13T14:36:31.374Z"
   },
   {
    "duration": 11,
    "start_time": "2022-09-13T14:36:36.356Z"
   },
   {
    "duration": 45,
    "start_time": "2022-09-13T14:36:36.614Z"
   },
   {
    "duration": 484,
    "start_time": "2022-09-13T14:37:02.097Z"
   },
   {
    "duration": 343,
    "start_time": "2022-09-13T14:37:15.697Z"
   },
   {
    "duration": 350,
    "start_time": "2022-09-13T14:37:28.659Z"
   },
   {
    "duration": 394,
    "start_time": "2022-09-13T14:37:50.984Z"
   },
   {
    "duration": 20,
    "start_time": "2022-09-13T14:40:36.412Z"
   },
   {
    "duration": 22,
    "start_time": "2022-09-13T14:40:36.716Z"
   },
   {
    "duration": 395,
    "start_time": "2022-09-13T14:40:40.372Z"
   },
   {
    "duration": 14,
    "start_time": "2022-09-13T14:42:26.368Z"
   },
   {
    "duration": 20,
    "start_time": "2022-09-13T14:42:26.690Z"
   },
   {
    "duration": 408,
    "start_time": "2022-09-13T14:42:27.065Z"
   },
   {
    "duration": 13,
    "start_time": "2022-09-13T14:45:01.492Z"
   },
   {
    "duration": 23,
    "start_time": "2022-09-13T14:45:01.916Z"
   },
   {
    "duration": 487,
    "start_time": "2022-09-13T14:45:02.262Z"
   },
   {
    "duration": 519,
    "start_time": "2022-09-13T14:45:11.518Z"
   },
   {
    "duration": 13,
    "start_time": "2022-09-13T14:46:15.396Z"
   },
   {
    "duration": 15,
    "start_time": "2022-09-13T14:46:17.175Z"
   },
   {
    "duration": 435,
    "start_time": "2022-09-13T14:46:17.879Z"
   },
   {
    "duration": 55,
    "start_time": "2022-09-13T14:47:33.277Z"
   },
   {
    "duration": 19,
    "start_time": "2022-09-13T14:49:02.451Z"
   },
   {
    "duration": 86,
    "start_time": "2022-09-13T14:49:50.776Z"
   },
   {
    "duration": 19,
    "start_time": "2022-09-13T14:49:50.969Z"
   },
   {
    "duration": 15,
    "start_time": "2022-09-13T14:49:54.289Z"
   },
   {
    "duration": 25,
    "start_time": "2022-09-13T14:49:54.809Z"
   },
   {
    "duration": 504,
    "start_time": "2022-09-13T14:49:55.273Z"
   },
   {
    "duration": 10,
    "start_time": "2022-09-13T14:50:34.799Z"
   },
   {
    "duration": 20,
    "start_time": "2022-09-13T14:50:35.438Z"
   },
   {
    "duration": 404,
    "start_time": "2022-09-13T14:50:35.975Z"
   },
   {
    "duration": 11,
    "start_time": "2022-09-13T14:51:11.354Z"
   },
   {
    "duration": 21,
    "start_time": "2022-09-13T14:51:11.771Z"
   },
   {
    "duration": 11,
    "start_time": "2022-09-13T14:51:52.999Z"
   },
   {
    "duration": 19,
    "start_time": "2022-09-13T14:51:54.498Z"
   },
   {
    "duration": 398,
    "start_time": "2022-09-13T14:51:55.401Z"
   },
   {
    "duration": 31,
    "start_time": "2022-09-13T14:53:04.410Z"
   },
   {
    "duration": 197,
    "start_time": "2022-09-13T14:53:04.840Z"
   },
   {
    "duration": 10,
    "start_time": "2022-09-13T14:54:38.558Z"
   },
   {
    "duration": 20,
    "start_time": "2022-09-13T14:54:38.877Z"
   },
   {
    "duration": 432,
    "start_time": "2022-09-13T14:54:39.221Z"
   },
   {
    "duration": 464,
    "start_time": "2022-09-13T14:54:59.265Z"
   },
   {
    "duration": 498,
    "start_time": "2022-09-13T14:55:24.890Z"
   },
   {
    "duration": 65,
    "start_time": "2022-09-13T14:55:59.383Z"
   },
   {
    "duration": 967,
    "start_time": "2022-09-13T14:56:02.848Z"
   },
   {
    "duration": 688,
    "start_time": "2022-09-13T14:56:10.680Z"
   },
   {
    "duration": 839,
    "start_time": "2022-09-13T14:56:24.955Z"
   },
   {
    "duration": 819,
    "start_time": "2022-09-13T14:56:31.003Z"
   },
   {
    "duration": 30,
    "start_time": "2022-09-13T14:56:50.303Z"
   },
   {
    "duration": 34,
    "start_time": "2022-09-13T14:57:02.967Z"
   },
   {
    "duration": 33,
    "start_time": "2022-09-13T14:57:13.369Z"
   },
   {
    "duration": 32,
    "start_time": "2022-09-13T14:57:20.278Z"
   },
   {
    "duration": 49,
    "start_time": "2022-09-13T14:57:26.787Z"
   },
   {
    "duration": 11,
    "start_time": "2022-09-13T14:59:55.199Z"
   },
   {
    "duration": 24,
    "start_time": "2022-09-13T14:59:55.790Z"
   },
   {
    "duration": 13,
    "start_time": "2022-09-13T15:00:10.663Z"
   },
   {
    "duration": 29,
    "start_time": "2022-09-13T15:00:10.842Z"
   },
   {
    "duration": 708,
    "start_time": "2022-09-13T15:00:11.046Z"
   },
   {
    "duration": 772,
    "start_time": "2022-09-13T15:00:13.281Z"
   },
   {
    "duration": 53,
    "start_time": "2022-09-13T15:00:19.497Z"
   },
   {
    "duration": 13,
    "start_time": "2022-09-13T15:00:21.250Z"
   },
   {
    "duration": 31,
    "start_time": "2022-09-13T15:00:21.905Z"
   },
   {
    "duration": 50,
    "start_time": "2022-09-13T15:00:30.066Z"
   },
   {
    "duration": 591,
    "start_time": "2022-09-13T15:00:32.022Z"
   },
   {
    "duration": 11,
    "start_time": "2022-09-13T15:00:39.995Z"
   },
   {
    "duration": 51,
    "start_time": "2022-09-13T15:00:40.250Z"
   },
   {
    "duration": 799,
    "start_time": "2022-09-13T15:00:40.970Z"
   },
   {
    "duration": 2600,
    "start_time": "2022-09-13T15:01:08.551Z"
   },
   {
    "duration": 31,
    "start_time": "2022-09-13T15:01:11.157Z"
   },
   {
    "duration": 85,
    "start_time": "2022-09-13T15:01:11.195Z"
   },
   {
    "duration": 46,
    "start_time": "2022-09-13T15:01:11.282Z"
   },
   {
    "duration": 119,
    "start_time": "2022-09-13T15:01:11.331Z"
   },
   {
    "duration": 36,
    "start_time": "2022-09-13T15:01:11.453Z"
   },
   {
    "duration": 39,
    "start_time": "2022-09-13T15:01:11.492Z"
   },
   {
    "duration": 45,
    "start_time": "2022-09-13T15:01:11.537Z"
   },
   {
    "duration": 34,
    "start_time": "2022-09-13T15:01:11.584Z"
   },
   {
    "duration": 59,
    "start_time": "2022-09-13T15:01:11.620Z"
   },
   {
    "duration": 70,
    "start_time": "2022-09-13T15:01:11.682Z"
   },
   {
    "duration": 13,
    "start_time": "2022-09-13T15:01:11.758Z"
   },
   {
    "duration": 61,
    "start_time": "2022-09-13T15:01:11.774Z"
   },
   {
    "duration": 92,
    "start_time": "2022-09-13T15:01:11.840Z"
   },
   {
    "duration": 52,
    "start_time": "2022-09-13T15:01:11.935Z"
   },
   {
    "duration": 56,
    "start_time": "2022-09-13T15:01:11.989Z"
   },
   {
    "duration": 28,
    "start_time": "2022-09-13T15:01:12.047Z"
   },
   {
    "duration": 42,
    "start_time": "2022-09-13T15:01:12.077Z"
   },
   {
    "duration": 28,
    "start_time": "2022-09-13T15:01:12.122Z"
   },
   {
    "duration": 20,
    "start_time": "2022-09-13T15:01:12.153Z"
   },
   {
    "duration": 41,
    "start_time": "2022-09-13T15:01:12.175Z"
   },
   {
    "duration": 32,
    "start_time": "2022-09-13T15:01:12.218Z"
   },
   {
    "duration": 226,
    "start_time": "2022-09-13T15:01:12.252Z"
   },
   {
    "duration": 149,
    "start_time": "2022-09-13T15:01:12.480Z"
   },
   {
    "duration": 13,
    "start_time": "2022-09-13T15:01:12.631Z"
   },
   {
    "duration": 398,
    "start_time": "2022-09-13T15:01:12.647Z"
   },
   {
    "duration": 20,
    "start_time": "2022-09-13T15:01:13.047Z"
   },
   {
    "duration": 24,
    "start_time": "2022-09-13T15:01:13.069Z"
   },
   {
    "duration": 46,
    "start_time": "2022-09-13T15:01:13.095Z"
   },
   {
    "duration": 271,
    "start_time": "2022-09-13T15:01:13.143Z"
   },
   {
    "duration": 37,
    "start_time": "2022-09-13T15:01:13.416Z"
   },
   {
    "duration": 213,
    "start_time": "2022-09-13T15:01:13.455Z"
   },
   {
    "duration": 10,
    "start_time": "2022-09-13T15:01:13.670Z"
   },
   {
    "duration": 28,
    "start_time": "2022-09-13T15:01:13.683Z"
   },
   {
    "duration": 79,
    "start_time": "2022-09-13T15:01:13.713Z"
   },
   {
    "duration": 619,
    "start_time": "2022-09-13T15:01:13.794Z"
   },
   {
    "duration": 41,
    "start_time": "2022-09-13T15:01:14.415Z"
   },
   {
    "duration": 231,
    "start_time": "2022-09-13T15:01:14.459Z"
   },
   {
    "duration": 1685,
    "start_time": "2022-09-13T15:01:14.692Z"
   },
   {
    "duration": 0,
    "start_time": "2022-09-13T15:01:16.380Z"
   },
   {
    "duration": 0,
    "start_time": "2022-09-13T15:01:16.382Z"
   },
   {
    "duration": 12,
    "start_time": "2022-09-13T15:01:25.162Z"
   },
   {
    "duration": 13,
    "start_time": "2022-09-13T15:01:28.451Z"
   },
   {
    "duration": 11,
    "start_time": "2022-09-13T15:01:31.955Z"
   },
   {
    "duration": 46,
    "start_time": "2022-09-13T15:01:32.156Z"
   },
   {
    "duration": 486,
    "start_time": "2022-09-13T15:01:42.461Z"
   },
   {
    "duration": 658,
    "start_time": "2022-09-13T15:01:47.287Z"
   },
   {
    "duration": 567,
    "start_time": "2022-09-13T15:02:44.686Z"
   },
   {
    "duration": 524,
    "start_time": "2022-09-13T15:02:57.358Z"
   },
   {
    "duration": 557,
    "start_time": "2022-09-13T15:03:11.696Z"
   },
   {
    "duration": 30,
    "start_time": "2022-09-13T15:06:35.002Z"
   },
   {
    "duration": 13,
    "start_time": "2022-09-13T15:06:40.403Z"
   },
   {
    "duration": 14,
    "start_time": "2022-09-13T15:06:51.851Z"
   },
   {
    "duration": 18,
    "start_time": "2022-09-13T15:07:14.844Z"
   },
   {
    "duration": 17,
    "start_time": "2022-09-13T15:07:16.480Z"
   },
   {
    "duration": 551,
    "start_time": "2022-09-13T15:09:22.750Z"
   },
   {
    "duration": 34,
    "start_time": "2022-09-13T15:13:01.752Z"
   },
   {
    "duration": 22,
    "start_time": "2022-09-13T15:13:05.269Z"
   },
   {
    "duration": 17,
    "start_time": "2022-09-13T15:13:17.205Z"
   },
   {
    "duration": 25,
    "start_time": "2022-09-13T15:13:29.862Z"
   },
   {
    "duration": 423,
    "start_time": "2022-09-13T15:13:30.265Z"
   },
   {
    "duration": 574,
    "start_time": "2022-09-13T15:13:39.713Z"
   },
   {
    "duration": 18,
    "start_time": "2022-09-13T15:15:11.316Z"
   },
   {
    "duration": 21,
    "start_time": "2022-09-13T15:15:11.996Z"
   },
   {
    "duration": 492,
    "start_time": "2022-09-13T15:15:12.413Z"
   },
   {
    "duration": 22,
    "start_time": "2022-09-13T15:16:55.045Z"
   },
   {
    "duration": 30,
    "start_time": "2022-09-13T15:16:55.457Z"
   },
   {
    "duration": 1151,
    "start_time": "2022-09-13T15:16:55.755Z"
   },
   {
    "duration": 27,
    "start_time": "2022-09-13T15:17:39.118Z"
   },
   {
    "duration": 52,
    "start_time": "2022-09-13T15:17:39.512Z"
   },
   {
    "duration": 30,
    "start_time": "2022-09-13T15:17:51.322Z"
   },
   {
    "duration": 32,
    "start_time": "2022-09-13T15:18:23.397Z"
   },
   {
    "duration": 12,
    "start_time": "2022-09-13T15:19:22.484Z"
   },
   {
    "duration": 21,
    "start_time": "2022-09-13T15:19:22.949Z"
   },
   {
    "duration": 7,
    "start_time": "2022-09-13T15:19:39.358Z"
   },
   {
    "duration": 15,
    "start_time": "2022-09-13T15:19:54.408Z"
   },
   {
    "duration": 25,
    "start_time": "2022-09-13T15:19:54.873Z"
   },
   {
    "duration": 471,
    "start_time": "2022-09-13T15:19:55.209Z"
   },
   {
    "duration": 385,
    "start_time": "2022-09-13T15:20:25.799Z"
   },
   {
    "duration": 403,
    "start_time": "2022-09-13T15:20:39.597Z"
   },
   {
    "duration": 426,
    "start_time": "2022-09-13T15:20:54.271Z"
   },
   {
    "duration": 451,
    "start_time": "2022-09-13T15:21:31.812Z"
   },
   {
    "duration": 489,
    "start_time": "2022-09-13T15:22:25.379Z"
   },
   {
    "duration": 80,
    "start_time": "2022-09-13T15:24:11.808Z"
   },
   {
    "duration": 460,
    "start_time": "2022-09-13T15:24:33.851Z"
   },
   {
    "duration": 560,
    "start_time": "2022-09-13T15:24:38.777Z"
   },
   {
    "duration": 546,
    "start_time": "2022-09-13T15:24:49.199Z"
   },
   {
    "duration": 476,
    "start_time": "2022-09-13T15:25:07.101Z"
   },
   {
    "duration": 459,
    "start_time": "2022-09-13T15:25:12.566Z"
   },
   {
    "duration": 3539,
    "start_time": "2022-09-13T15:25:38.673Z"
   },
   {
    "duration": 3475,
    "start_time": "2022-09-13T15:25:47.156Z"
   },
   {
    "duration": 3581,
    "start_time": "2022-09-13T15:25:58.594Z"
   },
   {
    "duration": 2082,
    "start_time": "2022-09-13T15:27:09.398Z"
   },
   {
    "duration": 39,
    "start_time": "2022-09-13T15:27:11.482Z"
   },
   {
    "duration": 25,
    "start_time": "2022-09-13T15:27:11.528Z"
   },
   {
    "duration": 23,
    "start_time": "2022-09-13T15:27:11.561Z"
   },
   {
    "duration": 56,
    "start_time": "2022-09-13T15:27:11.586Z"
   },
   {
    "duration": 9,
    "start_time": "2022-09-13T15:27:11.657Z"
   },
   {
    "duration": 27,
    "start_time": "2022-09-13T15:27:11.668Z"
   },
   {
    "duration": 14,
    "start_time": "2022-09-13T15:27:11.697Z"
   },
   {
    "duration": 18,
    "start_time": "2022-09-13T15:27:11.713Z"
   },
   {
    "duration": 35,
    "start_time": "2022-09-13T15:27:11.735Z"
   },
   {
    "duration": 78,
    "start_time": "2022-09-13T15:27:11.772Z"
   },
   {
    "duration": 19,
    "start_time": "2022-09-13T15:27:11.856Z"
   },
   {
    "duration": 22,
    "start_time": "2022-09-13T15:27:11.877Z"
   },
   {
    "duration": 19,
    "start_time": "2022-09-13T15:27:11.902Z"
   },
   {
    "duration": 36,
    "start_time": "2022-09-13T15:27:11.928Z"
   },
   {
    "duration": 27,
    "start_time": "2022-09-13T15:27:11.966Z"
   },
   {
    "duration": 4,
    "start_time": "2022-09-13T15:27:11.995Z"
   },
   {
    "duration": 59,
    "start_time": "2022-09-13T15:27:12.001Z"
   },
   {
    "duration": 27,
    "start_time": "2022-09-13T15:27:12.062Z"
   },
   {
    "duration": 7,
    "start_time": "2022-09-13T15:27:12.091Z"
   },
   {
    "duration": 22,
    "start_time": "2022-09-13T15:27:12.100Z"
   },
   {
    "duration": 42,
    "start_time": "2022-09-13T15:27:12.126Z"
   },
   {
    "duration": 208,
    "start_time": "2022-09-13T15:27:12.171Z"
   },
   {
    "duration": 137,
    "start_time": "2022-09-13T15:27:12.381Z"
   },
   {
    "duration": 6,
    "start_time": "2022-09-13T15:27:12.520Z"
   },
   {
    "duration": 370,
    "start_time": "2022-09-13T15:27:12.528Z"
   },
   {
    "duration": 38,
    "start_time": "2022-09-13T15:27:12.900Z"
   },
   {
    "duration": 31,
    "start_time": "2022-09-13T15:27:12.946Z"
   },
   {
    "duration": 24,
    "start_time": "2022-09-13T15:27:12.979Z"
   },
   {
    "duration": 230,
    "start_time": "2022-09-13T15:27:13.005Z"
   },
   {
    "duration": 29,
    "start_time": "2022-09-13T15:27:13.236Z"
   },
   {
    "duration": 239,
    "start_time": "2022-09-13T15:27:13.267Z"
   },
   {
    "duration": 8,
    "start_time": "2022-09-13T15:27:13.508Z"
   },
   {
    "duration": 51,
    "start_time": "2022-09-13T15:27:13.520Z"
   },
   {
    "duration": 20,
    "start_time": "2022-09-13T15:27:13.573Z"
   },
   {
    "duration": 396,
    "start_time": "2022-09-13T15:27:13.595Z"
   },
   {
    "duration": 159904,
    "start_time": "2022-09-13T15:27:13.993Z"
   },
   {
    "duration": 0,
    "start_time": "2022-09-13T15:29:53.899Z"
   },
   {
    "duration": 0,
    "start_time": "2022-09-13T15:29:53.902Z"
   },
   {
    "duration": 0,
    "start_time": "2022-09-13T15:29:53.903Z"
   },
   {
    "duration": 0,
    "start_time": "2022-09-13T15:29:53.904Z"
   },
   {
    "duration": 0,
    "start_time": "2022-09-13T15:29:53.905Z"
   },
   {
    "duration": 706,
    "start_time": "2022-09-13T15:30:04.547Z"
   },
   {
    "duration": 637,
    "start_time": "2022-09-13T15:31:07.152Z"
   },
   {
    "duration": 731,
    "start_time": "2022-09-13T15:31:12.848Z"
   },
   {
    "duration": 41,
    "start_time": "2022-09-13T15:33:39.796Z"
   },
   {
    "duration": 747,
    "start_time": "2022-09-13T15:34:14.849Z"
   },
   {
    "duration": 23,
    "start_time": "2022-09-13T15:34:27.676Z"
   },
   {
    "duration": 32,
    "start_time": "2022-09-13T15:34:50.584Z"
   },
   {
    "duration": 511,
    "start_time": "2022-09-13T15:35:03.865Z"
   },
   {
    "duration": 670,
    "start_time": "2022-09-13T15:35:11.499Z"
   },
   {
    "duration": 665,
    "start_time": "2022-09-13T15:35:23.988Z"
   },
   {
    "duration": 698,
    "start_time": "2022-09-13T15:35:30.460Z"
   },
   {
    "duration": 214,
    "start_time": "2022-09-13T15:35:54.088Z"
   },
   {
    "duration": 318,
    "start_time": "2022-09-13T15:36:02.151Z"
   },
   {
    "duration": 222,
    "start_time": "2022-09-13T15:36:10.724Z"
   },
   {
    "duration": 254,
    "start_time": "2022-09-13T15:36:16.707Z"
   },
   {
    "duration": 233,
    "start_time": "2022-09-13T15:36:26.749Z"
   },
   {
    "duration": 335,
    "start_time": "2022-09-13T15:37:43.894Z"
   },
   {
    "duration": 253,
    "start_time": "2022-09-13T15:38:38.450Z"
   },
   {
    "duration": 5792,
    "start_time": "2022-09-13T15:38:43.950Z"
   },
   {
    "duration": 237,
    "start_time": "2022-09-13T16:22:39.866Z"
   },
   {
    "duration": 461,
    "start_time": "2022-09-13T16:22:42.947Z"
   },
   {
    "duration": 370,
    "start_time": "2022-09-13T16:23:11.637Z"
   },
   {
    "duration": 335,
    "start_time": "2022-09-13T16:23:15.299Z"
   },
   {
    "duration": 333,
    "start_time": "2022-09-13T16:23:18.440Z"
   },
   {
    "duration": 295,
    "start_time": "2022-09-13T16:23:24.251Z"
   },
   {
    "duration": 4,
    "start_time": "2022-09-13T16:34:32.477Z"
   },
   {
    "duration": 4,
    "start_time": "2022-09-13T16:34:42.551Z"
   },
   {
    "duration": 99,
    "start_time": "2022-09-13T16:35:43.392Z"
   },
   {
    "duration": 28,
    "start_time": "2022-09-13T16:35:52.386Z"
   },
   {
    "duration": 6,
    "start_time": "2022-09-13T16:36:05.950Z"
   },
   {
    "duration": 77,
    "start_time": "2022-09-13T16:36:23.558Z"
   },
   {
    "duration": 35,
    "start_time": "2022-09-13T16:36:24.006Z"
   },
   {
    "duration": 18,
    "start_time": "2022-09-13T16:36:24.359Z"
   },
   {
    "duration": 16,
    "start_time": "2022-09-13T16:36:25.086Z"
   },
   {
    "duration": 43,
    "start_time": "2022-09-13T16:36:25.443Z"
   },
   {
    "duration": 5,
    "start_time": "2022-09-13T16:36:26.014Z"
   },
   {
    "duration": 19,
    "start_time": "2022-09-13T16:36:26.414Z"
   },
   {
    "duration": 6,
    "start_time": "2022-09-13T16:36:28.868Z"
   },
   {
    "duration": 7,
    "start_time": "2022-09-13T16:36:29.366Z"
   },
   {
    "duration": 11,
    "start_time": "2022-09-13T16:36:29.735Z"
   },
   {
    "duration": 42,
    "start_time": "2022-09-13T16:36:30.495Z"
   },
   {
    "duration": 11,
    "start_time": "2022-09-13T16:36:48.697Z"
   },
   {
    "duration": 1859,
    "start_time": "2022-09-13T16:37:06.690Z"
   },
   {
    "duration": 28,
    "start_time": "2022-09-13T16:37:08.552Z"
   },
   {
    "duration": 17,
    "start_time": "2022-09-13T16:37:08.582Z"
   },
   {
    "duration": 21,
    "start_time": "2022-09-13T16:37:08.601Z"
   },
   {
    "duration": 62,
    "start_time": "2022-09-13T16:37:08.624Z"
   },
   {
    "duration": 4,
    "start_time": "2022-09-13T16:37:08.687Z"
   },
   {
    "duration": 21,
    "start_time": "2022-09-13T16:37:08.693Z"
   },
   {
    "duration": 48,
    "start_time": "2022-09-13T16:37:08.715Z"
   },
   {
    "duration": 20,
    "start_time": "2022-09-13T16:37:08.765Z"
   },
   {
    "duration": 9,
    "start_time": "2022-09-13T16:37:08.788Z"
   },
   {
    "duration": 50,
    "start_time": "2022-09-13T16:37:08.799Z"
   },
   {
    "duration": 14,
    "start_time": "2022-09-13T16:37:08.863Z"
   },
   {
    "duration": 36,
    "start_time": "2022-09-13T16:37:08.879Z"
   },
   {
    "duration": 72,
    "start_time": "2022-09-13T16:37:08.917Z"
   },
   {
    "duration": 45,
    "start_time": "2022-09-13T16:37:08.992Z"
   },
   {
    "duration": 85,
    "start_time": "2022-09-13T16:37:09.039Z"
   },
   {
    "duration": 5,
    "start_time": "2022-09-13T16:37:09.127Z"
   },
   {
    "duration": 39,
    "start_time": "2022-09-13T16:37:09.134Z"
   },
   {
    "duration": 22,
    "start_time": "2022-09-13T16:37:09.175Z"
   },
   {
    "duration": 13,
    "start_time": "2022-09-13T16:37:09.199Z"
   },
   {
    "duration": 46,
    "start_time": "2022-09-13T16:37:09.215Z"
   },
   {
    "duration": 25,
    "start_time": "2022-09-13T16:37:09.263Z"
   },
   {
    "duration": 161,
    "start_time": "2022-09-13T16:37:09.291Z"
   },
   {
    "duration": 6,
    "start_time": "2022-09-13T16:37:09.454Z"
   },
   {
    "duration": 132,
    "start_time": "2022-09-13T16:37:09.461Z"
   },
   {
    "duration": 4,
    "start_time": "2022-09-13T16:37:09.595Z"
   },
   {
    "duration": 316,
    "start_time": "2022-09-13T16:37:09.601Z"
   },
   {
    "duration": 30,
    "start_time": "2022-09-13T16:37:09.921Z"
   },
   {
    "duration": 31,
    "start_time": "2022-09-13T16:37:09.952Z"
   },
   {
    "duration": 24,
    "start_time": "2022-09-13T16:37:09.984Z"
   },
   {
    "duration": 253,
    "start_time": "2022-09-13T16:37:10.009Z"
   },
   {
    "duration": 21,
    "start_time": "2022-09-13T16:37:10.264Z"
   },
   {
    "duration": 208,
    "start_time": "2022-09-13T16:37:10.287Z"
   },
   {
    "duration": 7,
    "start_time": "2022-09-13T16:37:10.496Z"
   },
   {
    "duration": 39,
    "start_time": "2022-09-13T16:37:10.505Z"
   },
   {
    "duration": 20,
    "start_time": "2022-09-13T16:37:10.548Z"
   },
   {
    "duration": 318,
    "start_time": "2022-09-13T16:37:10.570Z"
   },
   {
    "duration": 6075,
    "start_time": "2022-09-13T16:37:10.890Z"
   },
   {
    "duration": 0,
    "start_time": "2022-09-13T16:37:16.967Z"
   },
   {
    "duration": 0,
    "start_time": "2022-09-13T16:37:16.969Z"
   },
   {
    "duration": 0,
    "start_time": "2022-09-13T16:37:16.970Z"
   },
   {
    "duration": 0,
    "start_time": "2022-09-13T16:37:16.971Z"
   },
   {
    "duration": 0,
    "start_time": "2022-09-13T16:37:16.973Z"
   },
   {
    "duration": 1886,
    "start_time": "2022-09-13T16:38:28.168Z"
   },
   {
    "duration": 29,
    "start_time": "2022-09-13T16:38:30.056Z"
   },
   {
    "duration": 17,
    "start_time": "2022-09-13T16:38:30.086Z"
   },
   {
    "duration": 55,
    "start_time": "2022-09-13T16:38:30.105Z"
   },
   {
    "duration": 75,
    "start_time": "2022-09-13T16:38:30.162Z"
   },
   {
    "duration": 11,
    "start_time": "2022-09-13T16:38:30.242Z"
   },
   {
    "duration": 45,
    "start_time": "2022-09-13T16:38:30.255Z"
   },
   {
    "duration": 42,
    "start_time": "2022-09-13T16:38:30.303Z"
   },
   {
    "duration": 43,
    "start_time": "2022-09-13T16:38:30.347Z"
   },
   {
    "duration": 22,
    "start_time": "2022-09-13T16:38:30.392Z"
   },
   {
    "duration": 86,
    "start_time": "2022-09-13T16:38:30.416Z"
   },
   {
    "duration": 45,
    "start_time": "2022-09-13T16:38:30.504Z"
   },
   {
    "duration": 44,
    "start_time": "2022-09-13T16:38:30.551Z"
   },
   {
    "duration": 79,
    "start_time": "2022-09-13T16:38:30.599Z"
   },
   {
    "duration": 36,
    "start_time": "2022-09-13T16:38:30.679Z"
   },
   {
    "duration": 39,
    "start_time": "2022-09-13T16:38:30.717Z"
   },
   {
    "duration": 10,
    "start_time": "2022-09-13T16:38:30.758Z"
   },
   {
    "duration": 34,
    "start_time": "2022-09-13T16:38:30.770Z"
   },
   {
    "duration": 42,
    "start_time": "2022-09-13T16:38:30.806Z"
   },
   {
    "duration": 34,
    "start_time": "2022-09-13T16:38:30.849Z"
   },
   {
    "duration": 32,
    "start_time": "2022-09-13T16:38:30.885Z"
   },
   {
    "duration": 55,
    "start_time": "2022-09-13T16:38:30.919Z"
   },
   {
    "duration": 172,
    "start_time": "2022-09-13T16:38:30.976Z"
   },
   {
    "duration": 7,
    "start_time": "2022-09-13T16:38:31.152Z"
   },
   {
    "duration": 178,
    "start_time": "2022-09-13T16:38:31.161Z"
   },
   {
    "duration": 4,
    "start_time": "2022-09-13T16:38:31.347Z"
   },
   {
    "duration": 329,
    "start_time": "2022-09-13T16:38:31.353Z"
   },
   {
    "duration": 14,
    "start_time": "2022-09-13T16:38:31.683Z"
   },
   {
    "duration": 56,
    "start_time": "2022-09-13T16:38:31.699Z"
   },
   {
    "duration": 45,
    "start_time": "2022-09-13T16:38:31.756Z"
   },
   {
    "duration": 248,
    "start_time": "2022-09-13T16:38:31.803Z"
   },
   {
    "duration": 24,
    "start_time": "2022-09-13T16:38:32.052Z"
   },
   {
    "duration": 203,
    "start_time": "2022-09-13T16:38:32.078Z"
   },
   {
    "duration": 6,
    "start_time": "2022-09-13T16:38:32.283Z"
   },
   {
    "duration": 40,
    "start_time": "2022-09-13T16:38:32.291Z"
   },
   {
    "duration": 26,
    "start_time": "2022-09-13T16:38:32.335Z"
   },
   {
    "duration": 311,
    "start_time": "2022-09-13T16:38:32.362Z"
   },
   {
    "duration": 5640,
    "start_time": "2022-09-13T16:38:32.675Z"
   },
   {
    "duration": 0,
    "start_time": "2022-09-13T16:38:38.320Z"
   },
   {
    "duration": 0,
    "start_time": "2022-09-13T16:38:38.321Z"
   },
   {
    "duration": 0,
    "start_time": "2022-09-13T16:38:38.322Z"
   },
   {
    "duration": 0,
    "start_time": "2022-09-13T16:38:38.322Z"
   },
   {
    "duration": 0,
    "start_time": "2022-09-13T16:38:38.323Z"
   },
   {
    "duration": 21,
    "start_time": "2022-09-13T16:38:52.096Z"
   },
   {
    "duration": 1758,
    "start_time": "2022-09-13T16:39:03.651Z"
   },
   {
    "duration": 31,
    "start_time": "2022-09-13T16:39:05.411Z"
   },
   {
    "duration": 17,
    "start_time": "2022-09-13T16:39:05.444Z"
   },
   {
    "duration": 9,
    "start_time": "2022-09-13T16:39:05.463Z"
   },
   {
    "duration": 65,
    "start_time": "2022-09-13T16:39:05.474Z"
   },
   {
    "duration": 6,
    "start_time": "2022-09-13T16:39:05.542Z"
   },
   {
    "duration": 18,
    "start_time": "2022-09-13T16:39:05.550Z"
   },
   {
    "duration": 10,
    "start_time": "2022-09-13T16:39:05.569Z"
   },
   {
    "duration": 29,
    "start_time": "2022-09-13T16:39:05.582Z"
   },
   {
    "duration": 30,
    "start_time": "2022-09-13T16:39:05.615Z"
   },
   {
    "duration": 46,
    "start_time": "2022-09-13T16:39:05.647Z"
   },
   {
    "duration": 38,
    "start_time": "2022-09-13T16:39:05.695Z"
   },
   {
    "duration": 9,
    "start_time": "2022-09-13T16:39:05.735Z"
   },
   {
    "duration": 24,
    "start_time": "2022-09-13T16:39:05.746Z"
   },
   {
    "duration": 56,
    "start_time": "2022-09-13T16:39:05.772Z"
   },
   {
    "duration": 23,
    "start_time": "2022-09-13T16:39:05.838Z"
   },
   {
    "duration": 14,
    "start_time": "2022-09-13T16:39:05.863Z"
   },
   {
    "duration": 23,
    "start_time": "2022-09-13T16:39:05.879Z"
   },
   {
    "duration": 13,
    "start_time": "2022-09-13T16:39:05.904Z"
   },
   {
    "duration": 16,
    "start_time": "2022-09-13T16:39:05.919Z"
   },
   {
    "duration": 25,
    "start_time": "2022-09-13T16:39:05.937Z"
   },
   {
    "duration": 19,
    "start_time": "2022-09-13T16:39:05.964Z"
   },
   {
    "duration": 174,
    "start_time": "2022-09-13T16:39:05.985Z"
   },
   {
    "duration": 7,
    "start_time": "2022-09-13T16:39:06.160Z"
   },
   {
    "duration": 131,
    "start_time": "2022-09-13T16:39:06.168Z"
   },
   {
    "duration": 4,
    "start_time": "2022-09-13T16:39:06.301Z"
   },
   {
    "duration": 330,
    "start_time": "2022-09-13T16:39:06.306Z"
   },
   {
    "duration": 15,
    "start_time": "2022-09-13T16:39:06.639Z"
   },
   {
    "duration": 14,
    "start_time": "2022-09-13T16:39:06.656Z"
   },
   {
    "duration": 21,
    "start_time": "2022-09-13T16:39:06.672Z"
   },
   {
    "duration": 242,
    "start_time": "2022-09-13T16:39:06.695Z"
   },
   {
    "duration": 22,
    "start_time": "2022-09-13T16:39:06.939Z"
   },
   {
    "duration": 200,
    "start_time": "2022-09-13T16:39:06.962Z"
   },
   {
    "duration": 8,
    "start_time": "2022-09-13T16:39:07.164Z"
   },
   {
    "duration": 26,
    "start_time": "2022-09-13T16:39:07.174Z"
   },
   {
    "duration": 39,
    "start_time": "2022-09-13T16:39:07.202Z"
   },
   {
    "duration": 302,
    "start_time": "2022-09-13T16:39:07.243Z"
   },
   {
    "duration": 5701,
    "start_time": "2022-09-13T16:39:07.547Z"
   },
   {
    "duration": 0,
    "start_time": "2022-09-13T16:39:13.250Z"
   },
   {
    "duration": 0,
    "start_time": "2022-09-13T16:39:13.251Z"
   },
   {
    "duration": 0,
    "start_time": "2022-09-13T16:39:13.253Z"
   },
   {
    "duration": 0,
    "start_time": "2022-09-13T16:39:13.254Z"
   },
   {
    "duration": 0,
    "start_time": "2022-09-13T16:39:13.255Z"
   },
   {
    "duration": 1814,
    "start_time": "2022-09-13T16:39:27.450Z"
   },
   {
    "duration": 37,
    "start_time": "2022-09-13T16:39:29.267Z"
   },
   {
    "duration": 35,
    "start_time": "2022-09-13T16:39:29.306Z"
   },
   {
    "duration": 40,
    "start_time": "2022-09-13T16:39:29.344Z"
   },
   {
    "duration": 64,
    "start_time": "2022-09-13T16:39:29.387Z"
   },
   {
    "duration": 11,
    "start_time": "2022-09-13T16:39:29.454Z"
   },
   {
    "duration": 42,
    "start_time": "2022-09-13T16:39:29.467Z"
   },
   {
    "duration": 27,
    "start_time": "2022-09-13T16:39:29.512Z"
   },
   {
    "duration": 25,
    "start_time": "2022-09-13T16:39:29.541Z"
   },
   {
    "duration": 19,
    "start_time": "2022-09-13T16:39:29.570Z"
   },
   {
    "duration": 55,
    "start_time": "2022-09-13T16:39:29.591Z"
   },
   {
    "duration": 10,
    "start_time": "2022-09-13T16:39:29.648Z"
   },
   {
    "duration": 33,
    "start_time": "2022-09-13T16:39:29.659Z"
   },
   {
    "duration": 34,
    "start_time": "2022-09-13T16:39:29.694Z"
   },
   {
    "duration": 52,
    "start_time": "2022-09-13T16:39:29.731Z"
   },
   {
    "duration": 24,
    "start_time": "2022-09-13T16:39:29.785Z"
   },
   {
    "duration": 4,
    "start_time": "2022-09-13T16:39:29.811Z"
   },
   {
    "duration": 46,
    "start_time": "2022-09-13T16:39:29.817Z"
   },
   {
    "duration": 42,
    "start_time": "2022-09-13T16:39:29.865Z"
   },
   {
    "duration": 45,
    "start_time": "2022-09-13T16:39:29.908Z"
   },
   {
    "duration": 29,
    "start_time": "2022-09-13T16:39:29.955Z"
   },
   {
    "duration": 26,
    "start_time": "2022-09-13T16:39:29.986Z"
   },
   {
    "duration": 172,
    "start_time": "2022-09-13T16:39:30.013Z"
   },
   {
    "duration": 6,
    "start_time": "2022-09-13T16:39:30.187Z"
   },
   {
    "duration": 158,
    "start_time": "2022-09-13T16:39:30.195Z"
   },
   {
    "duration": 4,
    "start_time": "2022-09-13T16:39:30.355Z"
   },
   {
    "duration": 331,
    "start_time": "2022-09-13T16:39:30.361Z"
   },
   {
    "duration": 14,
    "start_time": "2022-09-13T16:39:30.696Z"
   },
   {
    "duration": 32,
    "start_time": "2022-09-13T16:39:30.723Z"
   },
   {
    "duration": 46,
    "start_time": "2022-09-13T16:39:30.757Z"
   },
   {
    "duration": 205,
    "start_time": "2022-09-13T16:39:30.804Z"
   },
   {
    "duration": 30,
    "start_time": "2022-09-13T16:39:31.011Z"
   },
   {
    "duration": 208,
    "start_time": "2022-09-13T16:39:31.043Z"
   },
   {
    "duration": 7,
    "start_time": "2022-09-13T16:39:31.253Z"
   },
   {
    "duration": 37,
    "start_time": "2022-09-13T16:39:31.262Z"
   },
   {
    "duration": 63,
    "start_time": "2022-09-13T16:39:31.301Z"
   },
   {
    "duration": 283,
    "start_time": "2022-09-13T16:39:31.366Z"
   },
   {
    "duration": 5545,
    "start_time": "2022-09-13T16:39:31.651Z"
   },
   {
    "duration": 0,
    "start_time": "2022-09-13T16:39:37.198Z"
   },
   {
    "duration": 0,
    "start_time": "2022-09-13T16:39:37.199Z"
   },
   {
    "duration": 0,
    "start_time": "2022-09-13T16:39:37.200Z"
   },
   {
    "duration": 0,
    "start_time": "2022-09-13T16:39:37.201Z"
   },
   {
    "duration": 0,
    "start_time": "2022-09-13T16:39:37.202Z"
   },
   {
    "duration": 4,
    "start_time": "2022-09-13T16:42:46.410Z"
   },
   {
    "duration": 5,
    "start_time": "2022-09-13T16:42:56.844Z"
   },
   {
    "duration": 5,
    "start_time": "2022-09-13T16:42:59.652Z"
   },
   {
    "duration": 5,
    "start_time": "2022-09-13T16:43:04.957Z"
   },
   {
    "duration": 64,
    "start_time": "2022-09-13T16:43:09.845Z"
   },
   {
    "duration": 54,
    "start_time": "2022-09-13T16:43:21.655Z"
   },
   {
    "duration": 66,
    "start_time": "2022-09-13T16:44:20.902Z"
   },
   {
    "duration": 398,
    "start_time": "2022-09-13T16:45:51.515Z"
   },
   {
    "duration": 20,
    "start_time": "2022-09-13T16:45:55.475Z"
   },
   {
    "duration": 2479,
    "start_time": "2022-09-13T16:46:06.820Z"
   },
   {
    "duration": 35,
    "start_time": "2022-09-13T16:46:09.302Z"
   },
   {
    "duration": 16,
    "start_time": "2022-09-13T16:46:09.339Z"
   },
   {
    "duration": 15,
    "start_time": "2022-09-13T16:46:09.357Z"
   },
   {
    "duration": 52,
    "start_time": "2022-09-13T16:46:09.374Z"
   },
   {
    "duration": 4,
    "start_time": "2022-09-13T16:46:09.428Z"
   },
   {
    "duration": 20,
    "start_time": "2022-09-13T16:46:09.433Z"
   },
   {
    "duration": 6,
    "start_time": "2022-09-13T16:46:09.455Z"
   },
   {
    "duration": 18,
    "start_time": "2022-09-13T16:46:09.462Z"
   },
   {
    "duration": 5,
    "start_time": "2022-09-13T16:46:09.482Z"
   },
   {
    "duration": 61,
    "start_time": "2022-09-13T16:46:09.488Z"
   },
   {
    "duration": 10,
    "start_time": "2022-09-13T16:46:09.550Z"
   },
   {
    "duration": 4,
    "start_time": "2022-09-13T16:46:09.561Z"
   },
   {
    "duration": 15,
    "start_time": "2022-09-13T16:46:09.567Z"
   },
   {
    "duration": 40,
    "start_time": "2022-09-13T16:46:09.584Z"
   },
   {
    "duration": 22,
    "start_time": "2022-09-13T16:46:09.626Z"
   },
   {
    "duration": 5,
    "start_time": "2022-09-13T16:46:09.650Z"
   },
   {
    "duration": 31,
    "start_time": "2022-09-13T16:46:09.656Z"
   },
   {
    "duration": 7,
    "start_time": "2022-09-13T16:46:09.689Z"
   },
   {
    "duration": 4,
    "start_time": "2022-09-13T16:46:09.698Z"
   },
   {
    "duration": 28,
    "start_time": "2022-09-13T16:46:09.704Z"
   },
   {
    "duration": 14,
    "start_time": "2022-09-13T16:46:09.734Z"
   },
   {
    "duration": 155,
    "start_time": "2022-09-13T16:46:09.750Z"
   },
   {
    "duration": 15,
    "start_time": "2022-09-13T16:46:09.907Z"
   },
   {
    "duration": 136,
    "start_time": "2022-09-13T16:46:09.924Z"
   },
   {
    "duration": 5,
    "start_time": "2022-09-13T16:46:10.062Z"
   },
   {
    "duration": 316,
    "start_time": "2022-09-13T16:46:10.069Z"
   },
   {
    "duration": 15,
    "start_time": "2022-09-13T16:46:10.389Z"
   },
   {
    "duration": 42,
    "start_time": "2022-09-13T16:46:10.406Z"
   },
   {
    "duration": 23,
    "start_time": "2022-09-13T16:46:10.450Z"
   },
   {
    "duration": 219,
    "start_time": "2022-09-13T16:46:10.475Z"
   },
   {
    "duration": 32,
    "start_time": "2022-09-13T16:46:10.696Z"
   },
   {
    "duration": 194,
    "start_time": "2022-09-13T16:46:10.730Z"
   },
   {
    "duration": 10,
    "start_time": "2022-09-13T16:46:10.926Z"
   },
   {
    "duration": 27,
    "start_time": "2022-09-13T16:46:10.938Z"
   },
   {
    "duration": 22,
    "start_time": "2022-09-13T16:46:10.967Z"
   },
   {
    "duration": 329,
    "start_time": "2022-09-13T16:46:10.991Z"
   },
   {
    "duration": 5674,
    "start_time": "2022-09-13T16:46:11.323Z"
   },
   {
    "duration": 0,
    "start_time": "2022-09-13T16:46:16.999Z"
   },
   {
    "duration": 0,
    "start_time": "2022-09-13T16:46:17.001Z"
   },
   {
    "duration": 0,
    "start_time": "2022-09-13T16:46:17.002Z"
   },
   {
    "duration": 0,
    "start_time": "2022-09-13T16:46:17.003Z"
   },
   {
    "duration": 0,
    "start_time": "2022-09-13T16:46:17.005Z"
   },
   {
    "duration": 21,
    "start_time": "2022-09-13T16:47:24.468Z"
   },
   {
    "duration": 1699,
    "start_time": "2022-09-13T16:47:36.685Z"
   },
   {
    "duration": 28,
    "start_time": "2022-09-13T16:47:38.388Z"
   },
   {
    "duration": 17,
    "start_time": "2022-09-13T16:47:38.418Z"
   },
   {
    "duration": 27,
    "start_time": "2022-09-13T16:47:38.436Z"
   },
   {
    "duration": 43,
    "start_time": "2022-09-13T16:47:38.465Z"
   },
   {
    "duration": 6,
    "start_time": "2022-09-13T16:47:38.510Z"
   },
   {
    "duration": 48,
    "start_time": "2022-09-13T16:47:38.518Z"
   },
   {
    "duration": 24,
    "start_time": "2022-09-13T16:47:38.568Z"
   },
   {
    "duration": 28,
    "start_time": "2022-09-13T16:47:38.594Z"
   },
   {
    "duration": 21,
    "start_time": "2022-09-13T16:47:38.624Z"
   },
   {
    "duration": 59,
    "start_time": "2022-09-13T16:47:38.646Z"
   },
   {
    "duration": 9,
    "start_time": "2022-09-13T16:47:38.707Z"
   },
   {
    "duration": 19,
    "start_time": "2022-09-13T16:47:38.718Z"
   },
   {
    "duration": 30,
    "start_time": "2022-09-13T16:47:38.739Z"
   },
   {
    "duration": 34,
    "start_time": "2022-09-13T16:47:38.771Z"
   },
   {
    "duration": 25,
    "start_time": "2022-09-13T16:47:38.807Z"
   },
   {
    "duration": 8,
    "start_time": "2022-09-13T16:47:38.834Z"
   },
   {
    "duration": 45,
    "start_time": "2022-09-13T16:47:38.844Z"
   },
   {
    "duration": 38,
    "start_time": "2022-09-13T16:47:38.891Z"
   },
   {
    "duration": 47,
    "start_time": "2022-09-13T16:47:38.931Z"
   },
   {
    "duration": 44,
    "start_time": "2022-09-13T16:47:38.982Z"
   },
   {
    "duration": 36,
    "start_time": "2022-09-13T16:47:39.029Z"
   },
   {
    "duration": 206,
    "start_time": "2022-09-13T16:47:39.068Z"
   },
   {
    "duration": 142,
    "start_time": "2022-09-13T16:47:39.275Z"
   },
   {
    "duration": 0,
    "start_time": "2022-09-13T16:47:39.420Z"
   },
   {
    "duration": 0,
    "start_time": "2022-09-13T16:47:39.422Z"
   },
   {
    "duration": 0,
    "start_time": "2022-09-13T16:47:39.423Z"
   },
   {
    "duration": 0,
    "start_time": "2022-09-13T16:47:39.424Z"
   },
   {
    "duration": 0,
    "start_time": "2022-09-13T16:47:39.426Z"
   },
   {
    "duration": 0,
    "start_time": "2022-09-13T16:47:39.427Z"
   },
   {
    "duration": 0,
    "start_time": "2022-09-13T16:47:39.428Z"
   },
   {
    "duration": 0,
    "start_time": "2022-09-13T16:47:39.430Z"
   },
   {
    "duration": 0,
    "start_time": "2022-09-13T16:47:39.431Z"
   },
   {
    "duration": 0,
    "start_time": "2022-09-13T16:47:39.432Z"
   },
   {
    "duration": 0,
    "start_time": "2022-09-13T16:47:39.433Z"
   },
   {
    "duration": 0,
    "start_time": "2022-09-13T16:47:39.434Z"
   },
   {
    "duration": 0,
    "start_time": "2022-09-13T16:47:39.435Z"
   },
   {
    "duration": 0,
    "start_time": "2022-09-13T16:47:39.436Z"
   },
   {
    "duration": 0,
    "start_time": "2022-09-13T16:47:39.437Z"
   },
   {
    "duration": 0,
    "start_time": "2022-09-13T16:47:39.438Z"
   },
   {
    "duration": 0,
    "start_time": "2022-09-13T16:47:39.439Z"
   },
   {
    "duration": 0,
    "start_time": "2022-09-13T16:47:39.440Z"
   },
   {
    "duration": 0,
    "start_time": "2022-09-13T16:47:39.441Z"
   },
   {
    "duration": 1769,
    "start_time": "2022-09-13T16:48:01.149Z"
   },
   {
    "duration": 29,
    "start_time": "2022-09-13T16:48:02.920Z"
   },
   {
    "duration": 15,
    "start_time": "2022-09-13T16:48:02.951Z"
   },
   {
    "duration": 10,
    "start_time": "2022-09-13T16:48:02.968Z"
   },
   {
    "duration": 68,
    "start_time": "2022-09-13T16:48:02.980Z"
   },
   {
    "duration": 3,
    "start_time": "2022-09-13T16:48:03.050Z"
   },
   {
    "duration": 23,
    "start_time": "2022-09-13T16:48:03.055Z"
   },
   {
    "duration": 7,
    "start_time": "2022-09-13T16:48:03.080Z"
   },
   {
    "duration": 13,
    "start_time": "2022-09-13T16:48:03.088Z"
   },
   {
    "duration": 22,
    "start_time": "2022-09-13T16:48:03.104Z"
   },
   {
    "duration": 39,
    "start_time": "2022-09-13T16:48:03.128Z"
   },
   {
    "duration": 10,
    "start_time": "2022-09-13T16:48:03.168Z"
   },
   {
    "duration": 5,
    "start_time": "2022-09-13T16:48:03.180Z"
   },
   {
    "duration": 35,
    "start_time": "2022-09-13T16:48:03.187Z"
   },
   {
    "duration": 21,
    "start_time": "2022-09-13T16:48:03.224Z"
   },
   {
    "duration": 20,
    "start_time": "2022-09-13T16:48:03.247Z"
   },
   {
    "duration": 3,
    "start_time": "2022-09-13T16:48:03.269Z"
   },
   {
    "duration": 26,
    "start_time": "2022-09-13T16:48:03.274Z"
   },
   {
    "duration": 28,
    "start_time": "2022-09-13T16:48:03.302Z"
   },
   {
    "duration": 17,
    "start_time": "2022-09-13T16:48:03.332Z"
   },
   {
    "duration": 16,
    "start_time": "2022-09-13T16:48:03.351Z"
   },
   {
    "duration": 12,
    "start_time": "2022-09-13T16:48:03.368Z"
   },
   {
    "duration": 149,
    "start_time": "2022-09-13T16:48:03.382Z"
   },
   {
    "duration": 6,
    "start_time": "2022-09-13T16:48:03.533Z"
   },
   {
    "duration": 133,
    "start_time": "2022-09-13T16:48:03.541Z"
   },
   {
    "duration": 4,
    "start_time": "2022-09-13T16:48:03.676Z"
   },
   {
    "duration": 318,
    "start_time": "2022-09-13T16:48:03.682Z"
   },
   {
    "duration": 24,
    "start_time": "2022-09-13T16:48:04.004Z"
   },
   {
    "duration": 15,
    "start_time": "2022-09-13T16:48:04.030Z"
   },
   {
    "duration": 27,
    "start_time": "2022-09-13T16:48:04.047Z"
   },
   {
    "duration": 227,
    "start_time": "2022-09-13T16:48:04.076Z"
   },
   {
    "duration": 31,
    "start_time": "2022-09-13T16:48:04.304Z"
   },
   {
    "duration": 193,
    "start_time": "2022-09-13T16:48:04.337Z"
   },
   {
    "duration": 7,
    "start_time": "2022-09-13T16:48:04.532Z"
   },
   {
    "duration": 19,
    "start_time": "2022-09-13T16:48:04.541Z"
   },
   {
    "duration": 19,
    "start_time": "2022-09-13T16:48:04.562Z"
   },
   {
    "duration": 351,
    "start_time": "2022-09-13T16:48:04.583Z"
   },
   {
    "duration": 5511,
    "start_time": "2022-09-13T16:48:04.936Z"
   },
   {
    "duration": 0,
    "start_time": "2022-09-13T16:48:10.450Z"
   },
   {
    "duration": 0,
    "start_time": "2022-09-13T16:48:10.451Z"
   },
   {
    "duration": 0,
    "start_time": "2022-09-13T16:48:10.452Z"
   },
   {
    "duration": 0,
    "start_time": "2022-09-13T16:48:10.453Z"
   },
   {
    "duration": 0,
    "start_time": "2022-09-13T16:48:10.454Z"
   },
   {
    "duration": 1695,
    "start_time": "2022-09-13T16:48:41.693Z"
   },
   {
    "duration": 29,
    "start_time": "2022-09-13T16:48:43.390Z"
   },
   {
    "duration": 15,
    "start_time": "2022-09-13T16:48:43.421Z"
   },
   {
    "duration": 10,
    "start_time": "2022-09-13T16:48:43.438Z"
   },
   {
    "duration": 41,
    "start_time": "2022-09-13T16:48:43.450Z"
   },
   {
    "duration": 4,
    "start_time": "2022-09-13T16:48:43.493Z"
   },
   {
    "duration": 28,
    "start_time": "2022-09-13T16:48:43.499Z"
   },
   {
    "duration": 4,
    "start_time": "2022-09-13T16:48:43.529Z"
   },
   {
    "duration": 10,
    "start_time": "2022-09-13T16:48:43.535Z"
   },
   {
    "duration": 4,
    "start_time": "2022-09-13T16:48:43.548Z"
   },
   {
    "duration": 39,
    "start_time": "2022-09-13T16:48:43.553Z"
   },
   {
    "duration": 34,
    "start_time": "2022-09-13T16:48:43.594Z"
   },
   {
    "duration": 4,
    "start_time": "2022-09-13T16:48:43.630Z"
   },
   {
    "duration": 14,
    "start_time": "2022-09-13T16:48:43.636Z"
   },
   {
    "duration": 19,
    "start_time": "2022-09-13T16:48:43.652Z"
   },
   {
    "duration": 18,
    "start_time": "2022-09-13T16:48:43.673Z"
   },
   {
    "duration": 29,
    "start_time": "2022-09-13T16:48:43.693Z"
   },
   {
    "duration": 12,
    "start_time": "2022-09-13T16:48:43.724Z"
   },
   {
    "duration": 6,
    "start_time": "2022-09-13T16:48:43.738Z"
   },
   {
    "duration": 4,
    "start_time": "2022-09-13T16:48:43.746Z"
   },
   {
    "duration": 12,
    "start_time": "2022-09-13T16:48:43.751Z"
   },
   {
    "duration": 3,
    "start_time": "2022-09-13T16:48:43.765Z"
   },
   {
    "duration": 173,
    "start_time": "2022-09-13T16:48:43.770Z"
   },
   {
    "duration": 7,
    "start_time": "2022-09-13T16:48:43.945Z"
   },
   {
    "duration": 129,
    "start_time": "2022-09-13T16:48:43.953Z"
   },
   {
    "duration": 5,
    "start_time": "2022-09-13T16:48:44.083Z"
   },
   {
    "duration": 293,
    "start_time": "2022-09-13T16:48:44.089Z"
   },
   {
    "duration": 14,
    "start_time": "2022-09-13T16:48:44.387Z"
   },
   {
    "duration": 26,
    "start_time": "2022-09-13T16:48:44.403Z"
   },
   {
    "duration": 26,
    "start_time": "2022-09-13T16:48:44.431Z"
   },
   {
    "duration": 216,
    "start_time": "2022-09-13T16:48:44.459Z"
   },
   {
    "duration": 21,
    "start_time": "2022-09-13T16:48:44.677Z"
   },
   {
    "duration": 191,
    "start_time": "2022-09-13T16:48:44.700Z"
   },
   {
    "duration": 7,
    "start_time": "2022-09-13T16:48:44.892Z"
   },
   {
    "duration": 23,
    "start_time": "2022-09-13T16:48:44.901Z"
   },
   {
    "duration": 20,
    "start_time": "2022-09-13T16:48:44.925Z"
   },
   {
    "duration": 300,
    "start_time": "2022-09-13T16:48:44.947Z"
   },
   {
    "duration": 5726,
    "start_time": "2022-09-13T16:48:45.249Z"
   },
   {
    "duration": 0,
    "start_time": "2022-09-13T16:48:50.977Z"
   },
   {
    "duration": 0,
    "start_time": "2022-09-13T16:48:50.979Z"
   },
   {
    "duration": 0,
    "start_time": "2022-09-13T16:48:50.980Z"
   },
   {
    "duration": 0,
    "start_time": "2022-09-13T16:48:50.982Z"
   },
   {
    "duration": 0,
    "start_time": "2022-09-13T16:48:50.983Z"
   },
   {
    "duration": 301,
    "start_time": "2022-09-13T16:54:40.098Z"
   },
   {
    "duration": 306,
    "start_time": "2022-09-13T16:54:55.251Z"
   },
   {
    "duration": 349,
    "start_time": "2022-09-13T16:55:06.317Z"
   },
   {
    "duration": 127,
    "start_time": "2022-09-13T16:57:05.417Z"
   },
   {
    "duration": 113,
    "start_time": "2022-09-13T16:57:19.947Z"
   },
   {
    "duration": 117,
    "start_time": "2022-09-13T16:57:23.595Z"
   },
   {
    "duration": 112,
    "start_time": "2022-09-13T16:57:28.246Z"
   },
   {
    "duration": 116,
    "start_time": "2022-09-13T16:57:31.344Z"
   },
   {
    "duration": 218,
    "start_time": "2022-09-13T16:57:34.746Z"
   },
   {
    "duration": 176,
    "start_time": "2022-09-13T16:57:59.080Z"
   },
   {
    "duration": 121,
    "start_time": "2022-09-13T16:58:02.930Z"
   },
   {
    "duration": 147,
    "start_time": "2022-09-13T16:58:18.915Z"
   },
   {
    "duration": 117,
    "start_time": "2022-09-13T16:58:29.283Z"
   },
   {
    "duration": 146,
    "start_time": "2022-09-13T16:58:35.717Z"
   },
   {
    "duration": 1923,
    "start_time": "2022-09-13T16:58:51.614Z"
   },
   {
    "duration": 34,
    "start_time": "2022-09-13T16:58:53.540Z"
   },
   {
    "duration": 18,
    "start_time": "2022-09-13T16:58:53.575Z"
   },
   {
    "duration": 66,
    "start_time": "2022-09-13T16:58:53.595Z"
   },
   {
    "duration": 46,
    "start_time": "2022-09-13T16:58:53.663Z"
   },
   {
    "duration": 4,
    "start_time": "2022-09-13T16:58:53.711Z"
   },
   {
    "duration": 54,
    "start_time": "2022-09-13T16:58:53.716Z"
   },
   {
    "duration": 18,
    "start_time": "2022-09-13T16:58:53.771Z"
   },
   {
    "duration": 61,
    "start_time": "2022-09-13T16:58:53.791Z"
   },
   {
    "duration": 26,
    "start_time": "2022-09-13T16:58:53.855Z"
   },
   {
    "duration": 55,
    "start_time": "2022-09-13T16:58:53.882Z"
   },
   {
    "duration": 14,
    "start_time": "2022-09-13T16:58:53.940Z"
   },
   {
    "duration": 19,
    "start_time": "2022-09-13T16:58:53.955Z"
   },
   {
    "duration": 32,
    "start_time": "2022-09-13T16:58:53.976Z"
   },
   {
    "duration": 54,
    "start_time": "2022-09-13T16:58:54.010Z"
   },
   {
    "duration": 31,
    "start_time": "2022-09-13T16:58:54.066Z"
   },
   {
    "duration": 4,
    "start_time": "2022-09-13T16:58:54.099Z"
   },
   {
    "duration": 78,
    "start_time": "2022-09-13T16:58:54.105Z"
   },
   {
    "duration": 9,
    "start_time": "2022-09-13T16:58:54.184Z"
   },
   {
    "duration": 27,
    "start_time": "2022-09-13T16:58:54.195Z"
   },
   {
    "duration": 45,
    "start_time": "2022-09-13T16:58:54.224Z"
   },
   {
    "duration": 22,
    "start_time": "2022-09-13T16:58:54.271Z"
   },
   {
    "duration": 198,
    "start_time": "2022-09-13T16:58:54.295Z"
   },
   {
    "duration": 6,
    "start_time": "2022-09-13T16:58:54.495Z"
   },
   {
    "duration": 192,
    "start_time": "2022-09-13T16:58:54.503Z"
   },
   {
    "duration": 5,
    "start_time": "2022-09-13T16:58:54.697Z"
   },
   {
    "duration": 343,
    "start_time": "2022-09-13T16:58:54.704Z"
   },
   {
    "duration": 14,
    "start_time": "2022-09-13T16:58:55.052Z"
   },
   {
    "duration": 18,
    "start_time": "2022-09-13T16:58:55.067Z"
   },
   {
    "duration": 46,
    "start_time": "2022-09-13T16:58:55.087Z"
   },
   {
    "duration": 230,
    "start_time": "2022-09-13T16:58:55.135Z"
   },
   {
    "duration": 23,
    "start_time": "2022-09-13T16:58:55.366Z"
   },
   {
    "duration": 234,
    "start_time": "2022-09-13T16:58:55.391Z"
   },
   {
    "duration": 14,
    "start_time": "2022-09-13T16:58:55.628Z"
   },
   {
    "duration": 28,
    "start_time": "2022-09-13T16:58:55.647Z"
   },
   {
    "duration": 22,
    "start_time": "2022-09-13T16:58:55.678Z"
   },
   {
    "duration": 339,
    "start_time": "2022-09-13T16:58:55.701Z"
   },
   {
    "duration": 6155,
    "start_time": "2022-09-13T16:58:56.043Z"
   },
   {
    "duration": 0,
    "start_time": "2022-09-13T16:59:02.200Z"
   },
   {
    "duration": 0,
    "start_time": "2022-09-13T16:59:02.202Z"
   },
   {
    "duration": 0,
    "start_time": "2022-09-13T16:59:02.204Z"
   },
   {
    "duration": 0,
    "start_time": "2022-09-13T16:59:02.205Z"
   },
   {
    "duration": 0,
    "start_time": "2022-09-13T16:59:02.227Z"
   },
   {
    "duration": 1936,
    "start_time": "2022-09-13T16:59:30.147Z"
   },
   {
    "duration": 45,
    "start_time": "2022-09-13T16:59:32.084Z"
   },
   {
    "duration": 49,
    "start_time": "2022-09-13T16:59:32.131Z"
   },
   {
    "duration": 20,
    "start_time": "2022-09-13T16:59:32.182Z"
   },
   {
    "duration": 85,
    "start_time": "2022-09-13T16:59:32.205Z"
   },
   {
    "duration": 4,
    "start_time": "2022-09-13T16:59:32.292Z"
   },
   {
    "duration": 48,
    "start_time": "2022-09-13T16:59:32.299Z"
   },
   {
    "duration": 22,
    "start_time": "2022-09-13T16:59:32.350Z"
   },
   {
    "duration": 32,
    "start_time": "2022-09-13T16:59:32.374Z"
   },
   {
    "duration": 64,
    "start_time": "2022-09-13T16:59:32.408Z"
   },
   {
    "duration": 87,
    "start_time": "2022-09-13T16:59:32.474Z"
   },
   {
    "duration": 10,
    "start_time": "2022-09-13T16:59:32.563Z"
   },
   {
    "duration": 20,
    "start_time": "2022-09-13T16:59:32.574Z"
   },
   {
    "duration": 27,
    "start_time": "2022-09-13T16:59:32.598Z"
   },
   {
    "duration": 54,
    "start_time": "2022-09-13T16:59:32.628Z"
   },
   {
    "duration": 23,
    "start_time": "2022-09-13T16:59:32.684Z"
   },
   {
    "duration": 55,
    "start_time": "2022-09-13T16:59:32.708Z"
   },
   {
    "duration": 35,
    "start_time": "2022-09-13T16:59:32.765Z"
   },
   {
    "duration": 30,
    "start_time": "2022-09-13T16:59:32.801Z"
   },
   {
    "duration": 34,
    "start_time": "2022-09-13T16:59:32.833Z"
   },
   {
    "duration": 30,
    "start_time": "2022-09-13T16:59:32.868Z"
   },
   {
    "duration": 19,
    "start_time": "2022-09-13T16:59:32.900Z"
   },
   {
    "duration": 224,
    "start_time": "2022-09-13T16:59:32.922Z"
   },
   {
    "duration": 8,
    "start_time": "2022-09-13T16:59:33.149Z"
   },
   {
    "duration": 158,
    "start_time": "2022-09-13T16:59:33.159Z"
   },
   {
    "duration": 6,
    "start_time": "2022-09-13T16:59:33.319Z"
   },
   {
    "duration": 391,
    "start_time": "2022-09-13T16:59:33.328Z"
   },
   {
    "duration": 21,
    "start_time": "2022-09-13T16:59:33.721Z"
   },
   {
    "duration": 28,
    "start_time": "2022-09-13T16:59:33.744Z"
   },
   {
    "duration": 23,
    "start_time": "2022-09-13T16:59:33.774Z"
   },
   {
    "duration": 262,
    "start_time": "2022-09-13T16:59:33.799Z"
   },
   {
    "duration": 21,
    "start_time": "2022-09-13T16:59:34.063Z"
   },
   {
    "duration": 216,
    "start_time": "2022-09-13T16:59:34.086Z"
   },
   {
    "duration": 6,
    "start_time": "2022-09-13T16:59:34.304Z"
   },
   {
    "duration": 54,
    "start_time": "2022-09-13T16:59:34.312Z"
   },
   {
    "duration": 31,
    "start_time": "2022-09-13T16:59:34.367Z"
   },
   {
    "duration": 364,
    "start_time": "2022-09-13T16:59:34.400Z"
   },
   {
    "duration": 6334,
    "start_time": "2022-09-13T16:59:34.767Z"
   },
   {
    "duration": 0,
    "start_time": "2022-09-13T16:59:41.104Z"
   },
   {
    "duration": 0,
    "start_time": "2022-09-13T16:59:41.105Z"
   },
   {
    "duration": 0,
    "start_time": "2022-09-13T16:59:41.106Z"
   },
   {
    "duration": 0,
    "start_time": "2022-09-13T16:59:41.108Z"
   },
   {
    "duration": 0,
    "start_time": "2022-09-13T16:59:41.109Z"
   },
   {
    "duration": 1891,
    "start_time": "2022-09-13T16:59:53.380Z"
   },
   {
    "duration": 30,
    "start_time": "2022-09-13T16:59:55.273Z"
   },
   {
    "duration": 28,
    "start_time": "2022-09-13T16:59:55.305Z"
   },
   {
    "duration": 24,
    "start_time": "2022-09-13T16:59:55.338Z"
   },
   {
    "duration": 36,
    "start_time": "2022-09-13T16:59:55.363Z"
   },
   {
    "duration": 3,
    "start_time": "2022-09-13T16:59:55.401Z"
   },
   {
    "duration": 25,
    "start_time": "2022-09-13T16:59:55.405Z"
   },
   {
    "duration": 21,
    "start_time": "2022-09-13T16:59:55.433Z"
   },
   {
    "duration": 16,
    "start_time": "2022-09-13T16:59:55.455Z"
   },
   {
    "duration": 4,
    "start_time": "2022-09-13T16:59:55.474Z"
   },
   {
    "duration": 41,
    "start_time": "2022-09-13T16:59:55.479Z"
   },
   {
    "duration": 16,
    "start_time": "2022-09-13T16:59:55.523Z"
   },
   {
    "duration": 25,
    "start_time": "2022-09-13T16:59:55.542Z"
   },
   {
    "duration": 19,
    "start_time": "2022-09-13T16:59:55.568Z"
   },
   {
    "duration": 27,
    "start_time": "2022-09-13T16:59:55.589Z"
   },
   {
    "duration": 38,
    "start_time": "2022-09-13T16:59:55.618Z"
   },
   {
    "duration": 7,
    "start_time": "2022-09-13T16:59:55.658Z"
   },
   {
    "duration": 13,
    "start_time": "2022-09-13T16:59:55.667Z"
   },
   {
    "duration": 6,
    "start_time": "2022-09-13T16:59:55.682Z"
   },
   {
    "duration": 6,
    "start_time": "2022-09-13T16:59:55.690Z"
   },
   {
    "duration": 34,
    "start_time": "2022-09-13T16:59:55.698Z"
   },
   {
    "duration": 23,
    "start_time": "2022-09-13T16:59:55.734Z"
   },
   {
    "duration": 162,
    "start_time": "2022-09-13T16:59:55.759Z"
   },
   {
    "duration": 17,
    "start_time": "2022-09-13T16:59:55.925Z"
   },
   {
    "duration": 141,
    "start_time": "2022-09-13T16:59:55.944Z"
   },
   {
    "duration": 5,
    "start_time": "2022-09-13T16:59:56.087Z"
   },
   {
    "duration": 352,
    "start_time": "2022-09-13T16:59:56.094Z"
   },
   {
    "duration": 14,
    "start_time": "2022-09-13T16:59:56.450Z"
   },
   {
    "duration": 18,
    "start_time": "2022-09-13T16:59:56.466Z"
   },
   {
    "duration": 38,
    "start_time": "2022-09-13T16:59:56.485Z"
   },
   {
    "duration": 222,
    "start_time": "2022-09-13T16:59:56.525Z"
   },
   {
    "duration": 21,
    "start_time": "2022-09-13T16:59:56.749Z"
   },
   {
    "duration": 219,
    "start_time": "2022-09-13T16:59:56.772Z"
   },
   {
    "duration": 6,
    "start_time": "2022-09-13T16:59:56.993Z"
   },
   {
    "duration": 26,
    "start_time": "2022-09-13T16:59:57.001Z"
   },
   {
    "duration": 24,
    "start_time": "2022-09-13T16:59:57.030Z"
   },
   {
    "duration": 338,
    "start_time": "2022-09-13T16:59:57.056Z"
   },
   {
    "duration": 6195,
    "start_time": "2022-09-13T16:59:57.396Z"
   },
   {
    "duration": 0,
    "start_time": "2022-09-13T17:00:03.593Z"
   },
   {
    "duration": 0,
    "start_time": "2022-09-13T17:00:03.595Z"
   },
   {
    "duration": 0,
    "start_time": "2022-09-13T17:00:03.596Z"
   },
   {
    "duration": 0,
    "start_time": "2022-09-13T17:00:03.598Z"
   },
   {
    "duration": 0,
    "start_time": "2022-09-13T17:00:03.599Z"
   },
   {
    "duration": 113,
    "start_time": "2022-09-13T17:00:41.457Z"
   },
   {
    "duration": 20,
    "start_time": "2022-09-13T17:00:48.203Z"
   },
   {
    "duration": 248,
    "start_time": "2022-09-13T17:01:00.973Z"
   },
   {
    "duration": 283,
    "start_time": "2022-09-13T17:01:06.141Z"
   },
   {
    "duration": 193,
    "start_time": "2022-09-13T17:04:14.485Z"
   },
   {
    "duration": 58,
    "start_time": "2022-09-13T17:11:08.745Z"
   },
   {
    "duration": 81,
    "start_time": "2022-09-13T17:14:15.144Z"
   },
   {
    "duration": 1891,
    "start_time": "2022-09-13T17:14:37.328Z"
   },
   {
    "duration": 45,
    "start_time": "2022-09-13T17:14:39.222Z"
   },
   {
    "duration": 23,
    "start_time": "2022-09-13T17:14:39.269Z"
   },
   {
    "duration": 30,
    "start_time": "2022-09-13T17:14:39.295Z"
   },
   {
    "duration": 41,
    "start_time": "2022-09-13T17:14:39.327Z"
   },
   {
    "duration": 3,
    "start_time": "2022-09-13T17:14:39.370Z"
   },
   {
    "duration": 16,
    "start_time": "2022-09-13T17:14:39.375Z"
   },
   {
    "duration": 9,
    "start_time": "2022-09-13T17:14:39.393Z"
   },
   {
    "duration": 14,
    "start_time": "2022-09-13T17:14:39.421Z"
   },
   {
    "duration": 6,
    "start_time": "2022-09-13T17:14:39.438Z"
   },
   {
    "duration": 46,
    "start_time": "2022-09-13T17:14:39.445Z"
   },
   {
    "duration": 11,
    "start_time": "2022-09-13T17:14:39.494Z"
   },
   {
    "duration": 20,
    "start_time": "2022-09-13T17:14:39.507Z"
   },
   {
    "duration": 25,
    "start_time": "2022-09-13T17:14:39.529Z"
   },
   {
    "duration": 23,
    "start_time": "2022-09-13T17:14:39.556Z"
   },
   {
    "duration": 19,
    "start_time": "2022-09-13T17:14:39.581Z"
   },
   {
    "duration": 19,
    "start_time": "2022-09-13T17:14:39.602Z"
   },
   {
    "duration": 15,
    "start_time": "2022-09-13T17:14:39.623Z"
   },
   {
    "duration": 12,
    "start_time": "2022-09-13T17:14:39.640Z"
   },
   {
    "duration": 5,
    "start_time": "2022-09-13T17:14:39.654Z"
   },
   {
    "duration": 26,
    "start_time": "2022-09-13T17:14:39.661Z"
   },
   {
    "duration": 10,
    "start_time": "2022-09-13T17:14:39.689Z"
   },
   {
    "duration": 181,
    "start_time": "2022-09-13T17:14:39.701Z"
   },
   {
    "duration": 7,
    "start_time": "2022-09-13T17:14:39.884Z"
   },
   {
    "duration": 133,
    "start_time": "2022-09-13T17:14:39.894Z"
   },
   {
    "duration": 5,
    "start_time": "2022-09-13T17:14:40.029Z"
   },
   {
    "duration": 314,
    "start_time": "2022-09-13T17:14:40.036Z"
   },
   {
    "duration": 13,
    "start_time": "2022-09-13T17:14:40.354Z"
   },
   {
    "duration": 15,
    "start_time": "2022-09-13T17:14:40.369Z"
   },
   {
    "duration": 63,
    "start_time": "2022-09-13T17:14:40.386Z"
   },
   {
    "duration": 234,
    "start_time": "2022-09-13T17:14:40.451Z"
   },
   {
    "duration": 34,
    "start_time": "2022-09-13T17:14:40.687Z"
   },
   {
    "duration": 187,
    "start_time": "2022-09-13T17:14:40.724Z"
   },
   {
    "duration": 12,
    "start_time": "2022-09-13T17:14:40.913Z"
   },
   {
    "duration": 20,
    "start_time": "2022-09-13T17:14:40.927Z"
   },
   {
    "duration": 30,
    "start_time": "2022-09-13T17:14:40.949Z"
   },
   {
    "duration": 311,
    "start_time": "2022-09-13T17:14:40.981Z"
   },
   {
    "duration": 5515,
    "start_time": "2022-09-13T17:14:41.294Z"
   },
   {
    "duration": 0,
    "start_time": "2022-09-13T17:14:46.811Z"
   },
   {
    "duration": 0,
    "start_time": "2022-09-13T17:14:46.812Z"
   },
   {
    "duration": 0,
    "start_time": "2022-09-13T17:14:46.813Z"
   },
   {
    "duration": 0,
    "start_time": "2022-09-13T17:14:46.814Z"
   },
   {
    "duration": 0,
    "start_time": "2022-09-13T17:14:46.820Z"
   },
   {
    "duration": 4,
    "start_time": "2022-09-13T17:20:23.875Z"
   },
   {
    "duration": 4,
    "start_time": "2022-09-13T17:20:55.119Z"
   },
   {
    "duration": 214,
    "start_time": "2022-09-13T17:25:23.113Z"
   },
   {
    "duration": 200,
    "start_time": "2022-09-13T17:25:34.780Z"
   },
   {
    "duration": 213,
    "start_time": "2022-09-13T17:26:27.858Z"
   },
   {
    "duration": 182,
    "start_time": "2022-09-13T17:27:20.256Z"
   },
   {
    "duration": 88,
    "start_time": "2022-09-13T17:28:14.279Z"
   },
   {
    "duration": 102,
    "start_time": "2022-09-13T17:28:20.536Z"
   },
   {
    "duration": 210,
    "start_time": "2022-09-13T17:28:26.280Z"
   },
   {
    "duration": 192,
    "start_time": "2022-09-13T17:28:35.474Z"
   },
   {
    "duration": 221,
    "start_time": "2022-09-13T17:28:44.810Z"
   },
   {
    "duration": 391,
    "start_time": "2022-09-13T17:29:28.992Z"
   },
   {
    "duration": 249,
    "start_time": "2022-09-13T17:30:45.419Z"
   },
   {
    "duration": 194,
    "start_time": "2022-09-13T17:31:07.285Z"
   },
   {
    "duration": 5,
    "start_time": "2022-09-13T17:31:40.953Z"
   },
   {
    "duration": 200,
    "start_time": "2022-09-13T17:31:44.146Z"
   },
   {
    "duration": 217,
    "start_time": "2022-09-13T17:32:12.662Z"
   },
   {
    "duration": 54,
    "start_time": "2022-09-13T17:32:46.145Z"
   },
   {
    "duration": 201,
    "start_time": "2022-09-13T17:32:49.939Z"
   },
   {
    "duration": 226,
    "start_time": "2022-09-13T17:33:05.212Z"
   },
   {
    "duration": 63,
    "start_time": "2022-09-13T17:33:47.113Z"
   },
   {
    "duration": 240,
    "start_time": "2022-09-13T17:33:52.438Z"
   },
   {
    "duration": 235,
    "start_time": "2022-09-13T17:34:46.610Z"
   },
   {
    "duration": 205,
    "start_time": "2022-09-13T17:36:01.475Z"
   },
   {
    "duration": 195,
    "start_time": "2022-09-13T17:36:16.045Z"
   },
   {
    "duration": 203,
    "start_time": "2022-09-13T17:36:18.694Z"
   },
   {
    "duration": 200,
    "start_time": "2022-09-13T17:36:22.862Z"
   },
   {
    "duration": 226,
    "start_time": "2022-09-13T17:36:29.855Z"
   },
   {
    "duration": 243,
    "start_time": "2022-09-13T17:36:52.793Z"
   },
   {
    "duration": 371,
    "start_time": "2022-09-13T17:36:58.438Z"
   },
   {
    "duration": 306,
    "start_time": "2022-09-13T17:38:03.747Z"
   },
   {
    "duration": 193,
    "start_time": "2022-09-13T17:38:12.380Z"
   },
   {
    "duration": 1550,
    "start_time": "2022-09-13T17:40:36.205Z"
   },
   {
    "duration": 30,
    "start_time": "2022-09-13T17:40:37.757Z"
   },
   {
    "duration": 15,
    "start_time": "2022-09-13T17:40:37.790Z"
   },
   {
    "duration": 16,
    "start_time": "2022-09-13T17:40:37.822Z"
   },
   {
    "duration": 51,
    "start_time": "2022-09-13T17:40:37.840Z"
   },
   {
    "duration": 4,
    "start_time": "2022-09-13T17:40:37.894Z"
   },
   {
    "duration": 27,
    "start_time": "2022-09-13T17:40:37.899Z"
   },
   {
    "duration": 16,
    "start_time": "2022-09-13T17:40:37.927Z"
   },
   {
    "duration": 10,
    "start_time": "2022-09-13T17:40:37.945Z"
   },
   {
    "duration": 5,
    "start_time": "2022-09-13T17:40:37.958Z"
   },
   {
    "duration": 40,
    "start_time": "2022-09-13T17:40:37.965Z"
   },
   {
    "duration": 24,
    "start_time": "2022-09-13T17:40:38.007Z"
   },
   {
    "duration": 7,
    "start_time": "2022-09-13T17:40:38.033Z"
   },
   {
    "duration": 15,
    "start_time": "2022-09-13T17:40:38.042Z"
   },
   {
    "duration": 19,
    "start_time": "2022-09-13T17:40:38.059Z"
   },
   {
    "duration": 19,
    "start_time": "2022-09-13T17:40:38.079Z"
   },
   {
    "duration": 3,
    "start_time": "2022-09-13T17:40:38.100Z"
   },
   {
    "duration": 33,
    "start_time": "2022-09-13T17:40:38.105Z"
   },
   {
    "duration": 16,
    "start_time": "2022-09-13T17:40:38.139Z"
   },
   {
    "duration": 4,
    "start_time": "2022-09-13T17:40:38.156Z"
   },
   {
    "duration": 13,
    "start_time": "2022-09-13T17:40:38.162Z"
   },
   {
    "duration": 6,
    "start_time": "2022-09-13T17:40:38.177Z"
   },
   {
    "duration": 77,
    "start_time": "2022-09-13T17:40:38.184Z"
   },
   {
    "duration": 6,
    "start_time": "2022-09-13T17:40:38.263Z"
   },
   {
    "duration": 130,
    "start_time": "2022-09-13T17:40:38.271Z"
   },
   {
    "duration": 5,
    "start_time": "2022-09-13T17:40:38.402Z"
   },
   {
    "duration": 322,
    "start_time": "2022-09-13T17:40:38.408Z"
   },
   {
    "duration": 14,
    "start_time": "2022-09-13T17:40:38.734Z"
   },
   {
    "duration": 17,
    "start_time": "2022-09-13T17:40:38.750Z"
   },
   {
    "duration": 22,
    "start_time": "2022-09-13T17:40:38.769Z"
   },
   {
    "duration": 4,
    "start_time": "2022-09-13T17:40:38.792Z"
   },
   {
    "duration": 377,
    "start_time": "2022-09-13T17:40:38.797Z"
   },
   {
    "duration": 27,
    "start_time": "2022-09-13T17:40:39.176Z"
   },
   {
    "duration": 188,
    "start_time": "2022-09-13T17:40:39.226Z"
   },
   {
    "duration": 16,
    "start_time": "2022-09-13T17:40:39.416Z"
   },
   {
    "duration": 19,
    "start_time": "2022-09-13T17:40:39.434Z"
   },
   {
    "duration": 20,
    "start_time": "2022-09-13T17:40:39.455Z"
   },
   {
    "duration": 305,
    "start_time": "2022-09-13T17:40:39.477Z"
   },
   {
    "duration": 5867,
    "start_time": "2022-09-13T17:40:39.784Z"
   },
   {
    "duration": 0,
    "start_time": "2022-09-13T17:40:45.653Z"
   },
   {
    "duration": 0,
    "start_time": "2022-09-13T17:40:45.654Z"
   },
   {
    "duration": 1,
    "start_time": "2022-09-13T17:40:45.655Z"
   },
   {
    "duration": 0,
    "start_time": "2022-09-13T17:40:45.656Z"
   },
   {
    "duration": 0,
    "start_time": "2022-09-13T17:40:45.658Z"
   },
   {
    "duration": 241,
    "start_time": "2022-09-13T17:40:58.937Z"
   },
   {
    "duration": 448,
    "start_time": "2022-09-13T17:41:18.958Z"
   },
   {
    "duration": 243,
    "start_time": "2022-09-13T17:41:33.112Z"
   },
   {
    "duration": 201,
    "start_time": "2022-09-13T17:41:37.601Z"
   },
   {
    "duration": 197,
    "start_time": "2022-09-13T17:42:50.579Z"
   },
   {
    "duration": 266,
    "start_time": "2022-09-13T17:43:28.871Z"
   },
   {
    "duration": 200,
    "start_time": "2022-09-13T17:43:33.191Z"
   },
   {
    "duration": 220,
    "start_time": "2022-09-13T17:44:55.010Z"
   },
   {
    "duration": 207,
    "start_time": "2022-09-13T17:45:22.597Z"
   },
   {
    "duration": 464,
    "start_time": "2022-09-13T17:45:41.775Z"
   },
   {
    "duration": 347,
    "start_time": "2022-09-13T17:45:46.304Z"
   },
   {
    "duration": 12,
    "start_time": "2022-09-13T17:46:15.482Z"
   },
   {
    "duration": 4,
    "start_time": "2022-09-13T17:46:28.780Z"
   },
   {
    "duration": 351,
    "start_time": "2022-09-13T17:46:36.685Z"
   },
   {
    "duration": 253,
    "start_time": "2022-09-13T17:48:05.018Z"
   },
   {
    "duration": 441,
    "start_time": "2022-09-13T17:48:08.131Z"
   },
   {
    "duration": 348,
    "start_time": "2022-09-13T17:49:34.284Z"
   },
   {
    "duration": 336,
    "start_time": "2022-09-13T17:58:15.086Z"
   },
   {
    "duration": 119,
    "start_time": "2022-09-13T17:58:39.984Z"
   },
   {
    "duration": 23,
    "start_time": "2022-09-13T17:58:49.232Z"
   },
   {
    "duration": 101,
    "start_time": "2022-09-13T17:59:13.885Z"
   },
   {
    "duration": 9,
    "start_time": "2022-09-13T17:59:38.721Z"
   },
   {
    "duration": 299,
    "start_time": "2022-09-13T18:01:44.240Z"
   },
   {
    "duration": 8,
    "start_time": "2022-09-13T18:01:56.610Z"
   },
   {
    "duration": 12,
    "start_time": "2022-09-13T18:02:16.700Z"
   },
   {
    "duration": 30,
    "start_time": "2022-09-13T18:02:19.145Z"
   },
   {
    "duration": 21,
    "start_time": "2022-09-13T18:02:28.920Z"
   },
   {
    "duration": 20,
    "start_time": "2022-09-13T18:02:29.435Z"
   },
   {
    "duration": 963,
    "start_time": "2022-09-13T18:03:16.045Z"
   },
   {
    "duration": 12,
    "start_time": "2022-09-13T18:03:20.764Z"
   },
   {
    "duration": 22,
    "start_time": "2022-09-13T18:03:24.373Z"
   },
   {
    "duration": 61,
    "start_time": "2022-09-13T18:10:01.335Z"
   },
   {
    "duration": 34,
    "start_time": "2022-09-13T18:10:07.399Z"
   },
   {
    "duration": 67,
    "start_time": "2022-09-13T18:10:25.803Z"
   },
   {
    "duration": 4,
    "start_time": "2022-09-13T18:11:24.538Z"
   },
   {
    "duration": 181,
    "start_time": "2022-09-13T18:11:24.771Z"
   },
   {
    "duration": 24,
    "start_time": "2022-09-13T18:11:45.861Z"
   },
   {
    "duration": 5,
    "start_time": "2022-09-13T18:11:46.936Z"
   },
   {
    "duration": 189,
    "start_time": "2022-09-13T18:11:47.117Z"
   },
   {
    "duration": 242,
    "start_time": "2022-09-13T18:12:28.707Z"
   },
   {
    "duration": 191,
    "start_time": "2022-09-13T18:12:36.936Z"
   },
   {
    "duration": 183,
    "start_time": "2022-09-13T18:15:36.588Z"
   },
   {
    "duration": 1600,
    "start_time": "2022-09-13T18:15:46.740Z"
   },
   {
    "duration": 33,
    "start_time": "2022-09-13T18:15:48.343Z"
   },
   {
    "duration": 15,
    "start_time": "2022-09-13T18:15:48.378Z"
   },
   {
    "duration": 40,
    "start_time": "2022-09-13T18:15:48.395Z"
   },
   {
    "duration": 38,
    "start_time": "2022-09-13T18:15:48.439Z"
   },
   {
    "duration": 3,
    "start_time": "2022-09-13T18:15:48.479Z"
   },
   {
    "duration": 15,
    "start_time": "2022-09-13T18:15:48.484Z"
   },
   {
    "duration": 14,
    "start_time": "2022-09-13T18:15:48.501Z"
   },
   {
    "duration": 25,
    "start_time": "2022-09-13T18:15:48.519Z"
   },
   {
    "duration": 7,
    "start_time": "2022-09-13T18:15:48.548Z"
   },
   {
    "duration": 40,
    "start_time": "2022-09-13T18:15:48.556Z"
   },
   {
    "duration": 10,
    "start_time": "2022-09-13T18:15:48.597Z"
   },
   {
    "duration": 4,
    "start_time": "2022-09-13T18:15:48.609Z"
   },
   {
    "duration": 33,
    "start_time": "2022-09-13T18:15:48.614Z"
   },
   {
    "duration": 29,
    "start_time": "2022-09-13T18:15:48.649Z"
   },
   {
    "duration": 18,
    "start_time": "2022-09-13T18:15:48.680Z"
   },
   {
    "duration": 26,
    "start_time": "2022-09-13T18:15:48.700Z"
   },
   {
    "duration": 27,
    "start_time": "2022-09-13T18:15:48.732Z"
   },
   {
    "duration": 12,
    "start_time": "2022-09-13T18:15:48.760Z"
   },
   {
    "duration": 6,
    "start_time": "2022-09-13T18:15:48.773Z"
   },
   {
    "duration": 19,
    "start_time": "2022-09-13T18:15:48.781Z"
   },
   {
    "duration": 11,
    "start_time": "2022-09-13T18:15:48.802Z"
   },
   {
    "duration": 91,
    "start_time": "2022-09-13T18:15:48.815Z"
   },
   {
    "duration": 7,
    "start_time": "2022-09-13T18:15:48.908Z"
   },
   {
    "duration": 161,
    "start_time": "2022-09-13T18:15:48.916Z"
   },
   {
    "duration": 7,
    "start_time": "2022-09-13T18:15:49.079Z"
   },
   {
    "duration": 406,
    "start_time": "2022-09-13T18:15:49.088Z"
   },
   {
    "duration": 28,
    "start_time": "2022-09-13T18:15:49.497Z"
   },
   {
    "duration": 19,
    "start_time": "2022-09-13T18:15:49.527Z"
   },
   {
    "duration": 23,
    "start_time": "2022-09-13T18:15:49.548Z"
   },
   {
    "duration": 142,
    "start_time": "2022-09-13T18:15:49.573Z"
   },
   {
    "duration": 0,
    "start_time": "2022-09-13T18:15:49.717Z"
   },
   {
    "duration": 0,
    "start_time": "2022-09-13T18:15:49.725Z"
   },
   {
    "duration": 0,
    "start_time": "2022-09-13T18:15:49.726Z"
   },
   {
    "duration": 0,
    "start_time": "2022-09-13T18:15:49.727Z"
   },
   {
    "duration": 0,
    "start_time": "2022-09-13T18:15:49.728Z"
   },
   {
    "duration": 0,
    "start_time": "2022-09-13T18:15:49.733Z"
   },
   {
    "duration": 0,
    "start_time": "2022-09-13T18:15:49.734Z"
   },
   {
    "duration": 0,
    "start_time": "2022-09-13T18:15:49.735Z"
   },
   {
    "duration": 0,
    "start_time": "2022-09-13T18:15:49.737Z"
   },
   {
    "duration": 0,
    "start_time": "2022-09-13T18:15:49.738Z"
   },
   {
    "duration": 0,
    "start_time": "2022-09-13T18:15:49.739Z"
   },
   {
    "duration": 0,
    "start_time": "2022-09-13T18:15:49.740Z"
   },
   {
    "duration": 0,
    "start_time": "2022-09-13T18:15:49.742Z"
   },
   {
    "duration": 0,
    "start_time": "2022-09-13T18:15:49.743Z"
   },
   {
    "duration": 4,
    "start_time": "2022-09-13T18:16:48.644Z"
   },
   {
    "duration": 62,
    "start_time": "2022-09-13T18:16:59.709Z"
   },
   {
    "duration": 296,
    "start_time": "2022-09-13T18:17:07.958Z"
   },
   {
    "duration": 22,
    "start_time": "2022-09-13T18:20:08.767Z"
   },
   {
    "duration": 12,
    "start_time": "2022-09-13T18:20:15.213Z"
   },
   {
    "duration": 4,
    "start_time": "2022-09-13T18:20:21.079Z"
   },
   {
    "duration": 4,
    "start_time": "2022-09-13T18:20:55.737Z"
   },
   {
    "duration": 4,
    "start_time": "2022-09-13T18:21:19.486Z"
   },
   {
    "duration": 23,
    "start_time": "2022-09-13T18:21:25.767Z"
   },
   {
    "duration": 5,
    "start_time": "2022-09-13T18:21:59.989Z"
   },
   {
    "duration": 11,
    "start_time": "2022-09-13T18:22:26.111Z"
   },
   {
    "duration": 23,
    "start_time": "2022-09-13T18:22:28.350Z"
   },
   {
    "duration": 8,
    "start_time": "2022-09-13T18:22:28.841Z"
   },
   {
    "duration": 195,
    "start_time": "2022-09-13T18:23:05.260Z"
   },
   {
    "duration": 305,
    "start_time": "2022-09-13T18:23:08.756Z"
   },
   {
    "duration": 415,
    "start_time": "2022-09-13T18:23:22.640Z"
   },
   {
    "duration": 286,
    "start_time": "2022-09-13T18:23:55.754Z"
   },
   {
    "duration": 4,
    "start_time": "2022-09-13T18:25:12.756Z"
   },
   {
    "duration": 12,
    "start_time": "2022-09-13T18:25:31.390Z"
   },
   {
    "duration": 29,
    "start_time": "2022-09-13T18:25:31.955Z"
   },
   {
    "duration": 21,
    "start_time": "2022-09-13T18:25:32.355Z"
   },
   {
    "duration": 15,
    "start_time": "2022-09-13T18:25:36.751Z"
   },
   {
    "duration": 5929,
    "start_time": "2022-09-13T18:25:38.649Z"
   },
   {
    "duration": 297,
    "start_time": "2022-09-13T18:25:45.970Z"
   },
   {
    "duration": 242,
    "start_time": "2022-09-13T18:26:50.228Z"
   },
   {
    "duration": 16,
    "start_time": "2022-09-13T18:30:54.520Z"
   },
   {
    "duration": 123,
    "start_time": "2022-09-13T18:31:05.960Z"
   },
   {
    "duration": 27,
    "start_time": "2022-09-13T18:31:10.401Z"
   },
   {
    "duration": 24,
    "start_time": "2022-09-13T18:31:16.651Z"
   },
   {
    "duration": 211,
    "start_time": "2022-09-13T18:31:24.994Z"
   },
   {
    "duration": 310,
    "start_time": "2022-09-13T18:31:38.339Z"
   },
   {
    "duration": 359,
    "start_time": "2022-09-13T18:32:05.761Z"
   },
   {
    "duration": 309,
    "start_time": "2022-09-13T18:32:10.740Z"
   },
   {
    "duration": 311,
    "start_time": "2022-09-13T18:32:32.839Z"
   },
   {
    "duration": 31,
    "start_time": "2022-09-13T18:32:43.848Z"
   },
   {
    "duration": 309,
    "start_time": "2022-09-13T18:32:44.138Z"
   },
   {
    "duration": 12,
    "start_time": "2022-09-13T18:32:56.796Z"
   },
   {
    "duration": 30,
    "start_time": "2022-09-13T18:32:57.315Z"
   },
   {
    "duration": 469,
    "start_time": "2022-09-13T18:32:57.651Z"
   },
   {
    "duration": 399,
    "start_time": "2022-09-13T18:33:49.355Z"
   },
   {
    "duration": 1273,
    "start_time": "2022-09-13T18:37:26.686Z"
   },
   {
    "duration": 0,
    "start_time": "2022-09-13T18:37:27.962Z"
   },
   {
    "duration": 0,
    "start_time": "2022-09-13T18:37:27.963Z"
   },
   {
    "duration": 96,
    "start_time": "2022-09-13T18:42:59.801Z"
   },
   {
    "duration": 54,
    "start_time": "2022-09-13T18:43:09.940Z"
   },
   {
    "duration": 21,
    "start_time": "2022-09-13T18:43:16.889Z"
   },
   {
    "duration": 439,
    "start_time": "2022-09-13T18:43:17.539Z"
   },
   {
    "duration": 132,
    "start_time": "2022-09-13T18:44:08.846Z"
   },
   {
    "duration": 24,
    "start_time": "2022-09-13T18:47:31.339Z"
   },
   {
    "duration": 354,
    "start_time": "2022-09-13T18:47:31.755Z"
   },
   {
    "duration": 22,
    "start_time": "2022-09-13T18:48:06.094Z"
   },
   {
    "duration": 23,
    "start_time": "2022-09-13T18:50:10.132Z"
   },
   {
    "duration": 315,
    "start_time": "2022-09-13T18:50:10.694Z"
   },
   {
    "duration": 309,
    "start_time": "2022-09-13T19:07:51.406Z"
   },
   {
    "duration": 335,
    "start_time": "2022-09-13T19:08:01.191Z"
   },
   {
    "duration": 6,
    "start_time": "2022-09-13T19:10:38.371Z"
   },
   {
    "duration": 5,
    "start_time": "2022-09-13T19:10:58.597Z"
   },
   {
    "duration": 13,
    "start_time": "2022-09-13T19:21:33.136Z"
   },
   {
    "duration": 18,
    "start_time": "2022-09-13T19:21:43.056Z"
   },
   {
    "duration": 1918,
    "start_time": "2022-09-13T21:04:32.336Z"
   },
   {
    "duration": 30,
    "start_time": "2022-09-13T21:04:34.256Z"
   },
   {
    "duration": 17,
    "start_time": "2022-09-13T21:04:34.288Z"
   },
   {
    "duration": 17,
    "start_time": "2022-09-13T21:04:34.320Z"
   },
   {
    "duration": 37,
    "start_time": "2022-09-13T21:04:34.340Z"
   },
   {
    "duration": 3,
    "start_time": "2022-09-13T21:04:34.379Z"
   },
   {
    "duration": 10,
    "start_time": "2022-09-13T21:04:34.384Z"
   },
   {
    "duration": 39,
    "start_time": "2022-09-13T21:04:34.396Z"
   },
   {
    "duration": 16,
    "start_time": "2022-09-13T21:04:34.437Z"
   },
   {
    "duration": 11,
    "start_time": "2022-09-13T21:04:34.455Z"
   },
   {
    "duration": 42,
    "start_time": "2022-09-13T21:04:34.468Z"
   },
   {
    "duration": 17,
    "start_time": "2022-09-13T21:04:34.512Z"
   },
   {
    "duration": 14,
    "start_time": "2022-09-13T21:04:34.530Z"
   },
   {
    "duration": 15,
    "start_time": "2022-09-13T21:04:34.547Z"
   },
   {
    "duration": 24,
    "start_time": "2022-09-13T21:04:34.564Z"
   },
   {
    "duration": 24,
    "start_time": "2022-09-13T21:04:34.590Z"
   },
   {
    "duration": 12,
    "start_time": "2022-09-13T21:04:34.616Z"
   },
   {
    "duration": 12,
    "start_time": "2022-09-13T21:04:34.637Z"
   },
   {
    "duration": 10,
    "start_time": "2022-09-13T21:04:34.650Z"
   },
   {
    "duration": 5,
    "start_time": "2022-09-13T21:04:34.661Z"
   },
   {
    "duration": 18,
    "start_time": "2022-09-13T21:04:34.667Z"
   },
   {
    "duration": 6,
    "start_time": "2022-09-13T21:04:34.687Z"
   },
   {
    "duration": 72,
    "start_time": "2022-09-13T21:04:34.695Z"
   },
   {
    "duration": 6,
    "start_time": "2022-09-13T21:04:34.770Z"
   },
   {
    "duration": 131,
    "start_time": "2022-09-13T21:04:34.778Z"
   },
   {
    "duration": 14,
    "start_time": "2022-09-13T21:04:34.911Z"
   },
   {
    "duration": 320,
    "start_time": "2022-09-13T21:04:34.937Z"
   },
   {
    "duration": 25,
    "start_time": "2022-09-13T21:04:35.259Z"
   },
   {
    "duration": 4,
    "start_time": "2022-09-13T21:04:35.287Z"
   },
   {
    "duration": 349,
    "start_time": "2022-09-13T21:04:35.293Z"
   },
   {
    "duration": 23,
    "start_time": "2022-09-13T21:04:35.644Z"
   },
   {
    "duration": 5,
    "start_time": "2022-09-13T21:04:35.668Z"
   },
   {
    "duration": 332,
    "start_time": "2022-09-13T21:04:35.675Z"
   },
   {
    "duration": 42,
    "start_time": "2022-09-13T21:04:36.009Z"
   },
   {
    "duration": 318,
    "start_time": "2022-09-13T21:04:36.053Z"
   },
   {
    "duration": 23,
    "start_time": "2022-09-13T21:04:36.372Z"
   },
   {
    "duration": 3,
    "start_time": "2022-09-13T21:04:36.397Z"
   },
   {
    "duration": 405,
    "start_time": "2022-09-13T21:04:36.424Z"
   },
   {
    "duration": 51,
    "start_time": "2022-09-13T21:16:55.460Z"
   },
   {
    "duration": 7,
    "start_time": "2022-09-13T21:17:01.166Z"
   },
   {
    "duration": 1749,
    "start_time": "2022-09-13T21:17:33.453Z"
   },
   {
    "duration": 35,
    "start_time": "2022-09-13T21:17:35.205Z"
   },
   {
    "duration": 38,
    "start_time": "2022-09-13T21:17:35.247Z"
   },
   {
    "duration": 12,
    "start_time": "2022-09-13T21:17:35.287Z"
   },
   {
    "duration": 47,
    "start_time": "2022-09-13T21:17:35.302Z"
   },
   {
    "duration": 5,
    "start_time": "2022-09-13T21:17:35.351Z"
   },
   {
    "duration": 21,
    "start_time": "2022-09-13T21:17:35.358Z"
   },
   {
    "duration": 9,
    "start_time": "2022-09-13T21:17:35.382Z"
   },
   {
    "duration": 10,
    "start_time": "2022-09-13T21:17:35.393Z"
   },
   {
    "duration": 23,
    "start_time": "2022-09-13T21:17:35.405Z"
   },
   {
    "duration": 55,
    "start_time": "2022-09-13T21:17:35.429Z"
   },
   {
    "duration": 11,
    "start_time": "2022-09-13T21:17:35.486Z"
   },
   {
    "duration": 9,
    "start_time": "2022-09-13T21:17:35.498Z"
   },
   {
    "duration": 32,
    "start_time": "2022-09-13T21:17:35.511Z"
   },
   {
    "duration": 25,
    "start_time": "2022-09-13T21:17:35.547Z"
   },
   {
    "duration": 29,
    "start_time": "2022-09-13T21:17:35.574Z"
   },
   {
    "duration": 21,
    "start_time": "2022-09-13T21:17:35.606Z"
   },
   {
    "duration": 22,
    "start_time": "2022-09-13T21:17:35.633Z"
   },
   {
    "duration": 8,
    "start_time": "2022-09-13T21:17:35.657Z"
   },
   {
    "duration": 9,
    "start_time": "2022-09-13T21:17:35.667Z"
   },
   {
    "duration": 20,
    "start_time": "2022-09-13T21:17:35.679Z"
   },
   {
    "duration": 28,
    "start_time": "2022-09-13T21:17:35.701Z"
   },
   {
    "duration": 76,
    "start_time": "2022-09-13T21:17:35.736Z"
   },
   {
    "duration": 8,
    "start_time": "2022-09-13T21:17:35.815Z"
   },
   {
    "duration": 186,
    "start_time": "2022-09-13T21:17:35.827Z"
   },
   {
    "duration": 17,
    "start_time": "2022-09-13T21:17:36.015Z"
   },
   {
    "duration": 420,
    "start_time": "2022-09-13T21:17:36.034Z"
   },
   {
    "duration": 25,
    "start_time": "2022-09-13T21:17:36.456Z"
   },
   {
    "duration": 4,
    "start_time": "2022-09-13T21:17:36.483Z"
   },
   {
    "duration": 357,
    "start_time": "2022-09-13T21:17:36.493Z"
   },
   {
    "duration": 33,
    "start_time": "2022-09-13T21:17:36.853Z"
   },
   {
    "duration": 5,
    "start_time": "2022-09-13T21:17:36.888Z"
   },
   {
    "duration": 340,
    "start_time": "2022-09-13T21:17:36.895Z"
   },
   {
    "duration": 28,
    "start_time": "2022-09-13T21:17:37.237Z"
   },
   {
    "duration": 334,
    "start_time": "2022-09-13T21:17:37.267Z"
   },
   {
    "duration": 44,
    "start_time": "2022-09-13T21:17:37.603Z"
   },
   {
    "duration": 10,
    "start_time": "2022-09-13T21:17:37.649Z"
   },
   {
    "duration": 413,
    "start_time": "2022-09-13T21:17:37.661Z"
   },
   {
    "duration": 92,
    "start_time": "2022-09-13T21:17:38.076Z"
   },
   {
    "duration": 92,
    "start_time": "2022-09-13T21:17:42.553Z"
   },
   {
    "duration": 84,
    "start_time": "2022-09-13T21:18:08.940Z"
   },
   {
    "duration": 73,
    "start_time": "2022-09-13T21:18:25.320Z"
   },
   {
    "duration": 102,
    "start_time": "2022-09-13T21:18:47.763Z"
   },
   {
    "duration": 52,
    "start_time": "2022-09-13T21:19:53.955Z"
   },
   {
    "duration": 399,
    "start_time": "2022-09-13T21:34:17.282Z"
   },
   {
    "duration": 1222,
    "start_time": "2022-09-13T21:34:48.984Z"
   },
   {
    "duration": 39,
    "start_time": "2022-09-13T21:35:03.251Z"
   },
   {
    "duration": 941,
    "start_time": "2022-09-13T21:35:35.069Z"
   },
   {
    "duration": 8,
    "start_time": "2022-09-13T21:35:40.574Z"
   },
   {
    "duration": 18,
    "start_time": "2022-09-13T21:35:51.566Z"
   },
   {
    "duration": 18,
    "start_time": "2022-09-13T21:36:52.964Z"
   },
   {
    "duration": 17,
    "start_time": "2022-09-13T21:36:59.877Z"
   },
   {
    "duration": 15,
    "start_time": "2022-09-13T21:39:41.776Z"
   },
   {
    "duration": 12,
    "start_time": "2022-09-13T21:39:49.656Z"
   },
   {
    "duration": 19,
    "start_time": "2022-09-13T21:40:00.865Z"
   },
   {
    "duration": 14,
    "start_time": "2022-09-13T21:40:27.909Z"
   },
   {
    "duration": 95,
    "start_time": "2022-09-13T21:40:35.277Z"
   },
   {
    "duration": 12,
    "start_time": "2022-09-13T21:40:38.694Z"
   },
   {
    "duration": 22,
    "start_time": "2022-09-13T21:40:50.817Z"
   },
   {
    "duration": 15,
    "start_time": "2022-09-13T21:40:54.871Z"
   },
   {
    "duration": 13,
    "start_time": "2022-09-13T21:40:56.896Z"
   },
   {
    "duration": 14,
    "start_time": "2022-09-13T21:41:18.147Z"
   },
   {
    "duration": 14,
    "start_time": "2022-09-13T21:41:42.942Z"
   },
   {
    "duration": 18,
    "start_time": "2022-09-13T21:42:01.672Z"
   },
   {
    "duration": 12,
    "start_time": "2022-09-13T21:42:15.359Z"
   },
   {
    "duration": 14,
    "start_time": "2022-09-13T21:42:20.989Z"
   },
   {
    "duration": 17,
    "start_time": "2022-09-13T21:42:23.419Z"
   },
   {
    "duration": 15,
    "start_time": "2022-09-13T21:42:26.460Z"
   },
   {
    "duration": 17,
    "start_time": "2022-09-13T21:42:30.562Z"
   },
   {
    "duration": 13,
    "start_time": "2022-09-13T21:42:41.014Z"
   },
   {
    "duration": 5,
    "start_time": "2022-09-13T21:55:58.910Z"
   },
   {
    "duration": 4,
    "start_time": "2022-09-13T21:56:15.484Z"
   },
   {
    "duration": 12,
    "start_time": "2022-09-13T21:56:26.464Z"
   },
   {
    "duration": 17,
    "start_time": "2022-09-13T21:56:32.567Z"
   },
   {
    "duration": 114,
    "start_time": "2022-09-13T21:57:33.450Z"
   },
   {
    "duration": 5,
    "start_time": "2022-09-13T21:58:19.067Z"
   },
   {
    "duration": 11,
    "start_time": "2022-09-13T21:58:20.832Z"
   },
   {
    "duration": 98,
    "start_time": "2022-09-13T21:59:47.455Z"
   },
   {
    "duration": 4,
    "start_time": "2022-09-13T21:59:50.210Z"
   },
   {
    "duration": 8,
    "start_time": "2022-09-13T21:59:52.386Z"
   },
   {
    "duration": 4,
    "start_time": "2022-09-13T22:00:08.388Z"
   },
   {
    "duration": 10,
    "start_time": "2022-09-13T22:00:10.050Z"
   },
   {
    "duration": 3,
    "start_time": "2022-09-13T22:00:34.781Z"
   },
   {
    "duration": 7,
    "start_time": "2022-09-13T22:00:35.400Z"
   },
   {
    "duration": 4,
    "start_time": "2022-09-13T22:01:27.588Z"
   },
   {
    "duration": 9,
    "start_time": "2022-09-13T22:01:28.207Z"
   },
   {
    "duration": 5,
    "start_time": "2022-09-13T22:01:52.677Z"
   },
   {
    "duration": 8,
    "start_time": "2022-09-13T22:01:53.307Z"
   },
   {
    "duration": 98,
    "start_time": "2022-09-13T22:02:40.503Z"
   },
   {
    "duration": 11,
    "start_time": "2022-09-13T22:02:41.575Z"
   },
   {
    "duration": 4,
    "start_time": "2022-09-13T22:02:44.779Z"
   },
   {
    "duration": 1809,
    "start_time": "2022-09-13T22:02:45.713Z"
   },
   {
    "duration": 4,
    "start_time": "2022-09-13T22:03:08.595Z"
   },
   {
    "duration": 13,
    "start_time": "2022-09-13T22:03:09.788Z"
   },
   {
    "duration": 5,
    "start_time": "2022-09-13T22:03:20.867Z"
   },
   {
    "duration": 9,
    "start_time": "2022-09-13T22:03:21.880Z"
   },
   {
    "duration": 15,
    "start_time": "2022-09-13T22:03:37.583Z"
   },
   {
    "duration": 6,
    "start_time": "2022-09-13T22:05:40.422Z"
   },
   {
    "duration": 26,
    "start_time": "2022-09-13T22:05:41.255Z"
   },
   {
    "duration": 18,
    "start_time": "2022-09-13T22:07:13.374Z"
   },
   {
    "duration": 20,
    "start_time": "2022-09-13T22:08:40.865Z"
   },
   {
    "duration": 26,
    "start_time": "2022-09-13T22:10:12.572Z"
   },
   {
    "duration": 4,
    "start_time": "2022-09-13T22:10:34.213Z"
   },
   {
    "duration": 35,
    "start_time": "2022-09-13T22:10:35.087Z"
   },
   {
    "duration": 6,
    "start_time": "2022-09-13T22:10:44.461Z"
   },
   {
    "duration": 15,
    "start_time": "2022-09-13T22:10:45.363Z"
   },
   {
    "duration": 4,
    "start_time": "2022-09-13T22:10:58.664Z"
   },
   {
    "duration": 33,
    "start_time": "2022-09-13T22:10:59.323Z"
   },
   {
    "duration": 4,
    "start_time": "2022-09-13T22:11:02.781Z"
   },
   {
    "duration": 14,
    "start_time": "2022-09-13T22:11:02.864Z"
   },
   {
    "duration": 4,
    "start_time": "2022-09-13T22:11:09.564Z"
   },
   {
    "duration": 13,
    "start_time": "2022-09-13T22:11:09.907Z"
   },
   {
    "duration": 4,
    "start_time": "2022-09-13T22:11:12.464Z"
   },
   {
    "duration": 15,
    "start_time": "2022-09-13T22:11:12.899Z"
   },
   {
    "duration": 10,
    "start_time": "2022-09-13T22:11:23.362Z"
   },
   {
    "duration": 22,
    "start_time": "2022-09-13T22:11:23.878Z"
   },
   {
    "duration": 6,
    "start_time": "2022-09-13T22:13:13.763Z"
   },
   {
    "duration": 13,
    "start_time": "2022-09-13T22:13:14.386Z"
   },
   {
    "duration": 4,
    "start_time": "2022-09-13T22:15:17.264Z"
   },
   {
    "duration": 12,
    "start_time": "2022-09-13T22:15:17.806Z"
   },
   {
    "duration": 5,
    "start_time": "2022-09-13T22:15:24.986Z"
   },
   {
    "duration": 34,
    "start_time": "2022-09-13T22:15:25.619Z"
   },
   {
    "duration": 7,
    "start_time": "2022-09-13T22:15:38.256Z"
   },
   {
    "duration": 31,
    "start_time": "2022-09-13T22:15:38.797Z"
   },
   {
    "duration": 22,
    "start_time": "2022-09-13T22:15:46.567Z"
   },
   {
    "duration": 3,
    "start_time": "2022-09-13T22:16:10.200Z"
   },
   {
    "duration": 19,
    "start_time": "2022-09-13T22:16:10.851Z"
   },
   {
    "duration": 4,
    "start_time": "2022-09-13T22:16:18.164Z"
   },
   {
    "duration": 4,
    "start_time": "2022-09-13T22:18:12.118Z"
   },
   {
    "duration": 607,
    "start_time": "2022-09-13T22:18:12.711Z"
   },
   {
    "duration": 8,
    "start_time": "2022-09-13T22:19:28.518Z"
   },
   {
    "duration": 45,
    "start_time": "2022-09-13T22:19:29.148Z"
   },
   {
    "duration": 6,
    "start_time": "2022-09-13T22:20:29.073Z"
   },
   {
    "duration": 673,
    "start_time": "2022-09-13T22:20:29.608Z"
   },
   {
    "duration": 5,
    "start_time": "2022-09-13T22:20:33.562Z"
   },
   {
    "duration": 640,
    "start_time": "2022-09-13T22:20:34.065Z"
   },
   {
    "duration": 4,
    "start_time": "2022-09-13T22:20:38.480Z"
   },
   {
    "duration": 30,
    "start_time": "2022-09-13T22:20:39.267Z"
   },
   {
    "duration": 5,
    "start_time": "2022-09-13T22:20:42.963Z"
   },
   {
    "duration": 35,
    "start_time": "2022-09-13T22:20:43.351Z"
   },
   {
    "duration": 8,
    "start_time": "2022-09-13T22:20:47.417Z"
   },
   {
    "duration": 48,
    "start_time": "2022-09-13T22:20:48.119Z"
   },
   {
    "duration": 5,
    "start_time": "2022-09-13T22:20:52.507Z"
   },
   {
    "duration": 28,
    "start_time": "2022-09-13T22:20:52.707Z"
   },
   {
    "duration": 5,
    "start_time": "2022-09-13T22:21:27.748Z"
   },
   {
    "duration": 24,
    "start_time": "2022-09-13T22:21:28.247Z"
   },
   {
    "duration": 5,
    "start_time": "2022-09-13T22:21:42.191Z"
   },
   {
    "duration": 21,
    "start_time": "2022-09-13T22:21:42.889Z"
   },
   {
    "duration": 4,
    "start_time": "2022-09-13T22:22:25.998Z"
   },
   {
    "duration": 23,
    "start_time": "2022-09-13T22:22:26.592Z"
   },
   {
    "duration": 4,
    "start_time": "2022-09-13T22:22:33.413Z"
   },
   {
    "duration": 22,
    "start_time": "2022-09-13T22:22:33.880Z"
   },
   {
    "duration": 33,
    "start_time": "2022-09-13T22:23:12.914Z"
   },
   {
    "duration": 14,
    "start_time": "2022-09-13T22:23:21.050Z"
   },
   {
    "duration": 1568,
    "start_time": "2022-09-13T22:23:32.193Z"
   },
   {
    "duration": 27,
    "start_time": "2022-09-13T22:23:33.763Z"
   },
   {
    "duration": 14,
    "start_time": "2022-09-13T22:23:33.792Z"
   },
   {
    "duration": 21,
    "start_time": "2022-09-13T22:23:33.831Z"
   },
   {
    "duration": 63,
    "start_time": "2022-09-13T22:23:33.855Z"
   },
   {
    "duration": 3,
    "start_time": "2022-09-13T22:23:33.922Z"
   },
   {
    "duration": 38,
    "start_time": "2022-09-13T22:23:33.927Z"
   },
   {
    "duration": 5,
    "start_time": "2022-09-13T22:23:33.967Z"
   },
   {
    "duration": 14,
    "start_time": "2022-09-13T22:23:33.973Z"
   },
   {
    "duration": 8,
    "start_time": "2022-09-13T22:23:33.990Z"
   },
   {
    "duration": 50,
    "start_time": "2022-09-13T22:23:33.999Z"
   },
   {
    "duration": 12,
    "start_time": "2022-09-13T22:23:34.051Z"
   },
   {
    "duration": 4,
    "start_time": "2022-09-13T22:23:34.065Z"
   },
   {
    "duration": 21,
    "start_time": "2022-09-13T22:23:34.071Z"
   },
   {
    "duration": 34,
    "start_time": "2022-09-13T22:23:34.094Z"
   },
   {
    "duration": 25,
    "start_time": "2022-09-13T22:23:34.131Z"
   },
   {
    "duration": 4,
    "start_time": "2022-09-13T22:23:34.158Z"
   },
   {
    "duration": 12,
    "start_time": "2022-09-13T22:23:34.165Z"
   },
   {
    "duration": 9,
    "start_time": "2022-09-13T22:23:34.179Z"
   },
   {
    "duration": 8,
    "start_time": "2022-09-13T22:23:34.190Z"
   },
   {
    "duration": 56,
    "start_time": "2022-09-13T22:23:34.199Z"
   },
   {
    "duration": 8,
    "start_time": "2022-09-13T22:23:34.257Z"
   },
   {
    "duration": 66,
    "start_time": "2022-09-13T22:23:34.266Z"
   },
   {
    "duration": 12,
    "start_time": "2022-09-13T22:23:34.337Z"
   },
   {
    "duration": 125,
    "start_time": "2022-09-13T22:23:34.355Z"
   },
   {
    "duration": 4,
    "start_time": "2022-09-13T22:23:34.482Z"
   },
   {
    "duration": 340,
    "start_time": "2022-09-13T22:23:34.488Z"
   },
   {
    "duration": 39,
    "start_time": "2022-09-13T22:23:34.832Z"
   },
   {
    "duration": 9,
    "start_time": "2022-09-13T22:23:34.873Z"
   },
   {
    "duration": 372,
    "start_time": "2022-09-13T22:23:34.884Z"
   },
   {
    "duration": 20,
    "start_time": "2022-09-13T22:23:35.261Z"
   },
   {
    "duration": 18,
    "start_time": "2022-09-13T22:23:35.283Z"
   },
   {
    "duration": 376,
    "start_time": "2022-09-13T22:23:35.302Z"
   },
   {
    "duration": 21,
    "start_time": "2022-09-13T22:23:35.680Z"
   },
   {
    "duration": 420,
    "start_time": "2022-09-13T22:23:35.703Z"
   },
   {
    "duration": 30,
    "start_time": "2022-09-13T22:23:36.127Z"
   },
   {
    "duration": 4,
    "start_time": "2022-09-13T22:23:36.158Z"
   },
   {
    "duration": 376,
    "start_time": "2022-09-13T22:23:36.164Z"
   },
   {
    "duration": 103,
    "start_time": "2022-09-13T22:23:36.544Z"
   },
   {
    "duration": 7,
    "start_time": "2022-09-13T22:23:36.654Z"
   },
   {
    "duration": 638,
    "start_time": "2022-09-13T22:23:36.663Z"
   },
   {
    "duration": 5,
    "start_time": "2022-09-13T22:24:07.212Z"
   },
   {
    "duration": 14,
    "start_time": "2022-09-13T22:24:07.966Z"
   },
   {
    "duration": 15,
    "start_time": "2022-09-13T22:24:23.751Z"
   },
   {
    "duration": 13,
    "start_time": "2022-09-13T22:24:24.711Z"
   },
   {
    "duration": 23,
    "start_time": "2022-09-13T22:24:33.808Z"
   },
   {
    "duration": 14,
    "start_time": "2022-09-13T22:24:34.496Z"
   },
   {
    "duration": 15,
    "start_time": "2022-09-13T22:24:36.567Z"
   },
   {
    "duration": 15,
    "start_time": "2022-09-13T22:24:37.351Z"
   },
   {
    "duration": 2670,
    "start_time": "2022-09-13T22:24:54.049Z"
   },
   {
    "duration": 36,
    "start_time": "2022-09-13T22:24:56.721Z"
   },
   {
    "duration": 16,
    "start_time": "2022-09-13T22:24:56.759Z"
   },
   {
    "duration": 10,
    "start_time": "2022-09-13T22:24:56.777Z"
   },
   {
    "duration": 69,
    "start_time": "2022-09-13T22:24:56.789Z"
   },
   {
    "duration": 4,
    "start_time": "2022-09-13T22:24:56.860Z"
   },
   {
    "duration": 29,
    "start_time": "2022-09-13T22:24:56.866Z"
   },
   {
    "duration": 6,
    "start_time": "2022-09-13T22:24:56.897Z"
   },
   {
    "duration": 19,
    "start_time": "2022-09-13T22:24:56.905Z"
   },
   {
    "duration": 56,
    "start_time": "2022-09-13T22:24:56.927Z"
   },
   {
    "duration": 60,
    "start_time": "2022-09-13T22:24:56.985Z"
   },
   {
    "duration": 13,
    "start_time": "2022-09-13T22:24:57.047Z"
   },
   {
    "duration": 4,
    "start_time": "2022-09-13T22:24:57.062Z"
   },
   {
    "duration": 13,
    "start_time": "2022-09-13T22:24:57.068Z"
   },
   {
    "duration": 43,
    "start_time": "2022-09-13T22:24:57.083Z"
   },
   {
    "duration": 27,
    "start_time": "2022-09-13T22:24:57.131Z"
   },
   {
    "duration": 5,
    "start_time": "2022-09-13T22:24:57.160Z"
   },
   {
    "duration": 18,
    "start_time": "2022-09-13T22:24:57.166Z"
   },
   {
    "duration": 7,
    "start_time": "2022-09-13T22:24:57.186Z"
   },
   {
    "duration": 28,
    "start_time": "2022-09-13T22:24:57.195Z"
   },
   {
    "duration": 39,
    "start_time": "2022-09-13T22:24:57.225Z"
   },
   {
    "duration": 6,
    "start_time": "2022-09-13T22:24:57.266Z"
   },
   {
    "duration": 76,
    "start_time": "2022-09-13T22:24:57.274Z"
   },
   {
    "duration": 8,
    "start_time": "2022-09-13T22:24:57.352Z"
   },
   {
    "duration": 137,
    "start_time": "2022-09-13T22:24:57.362Z"
   },
   {
    "duration": 5,
    "start_time": "2022-09-13T22:24:57.500Z"
   },
   {
    "duration": 363,
    "start_time": "2022-09-13T22:24:57.507Z"
   },
   {
    "duration": 24,
    "start_time": "2022-09-13T22:24:57.873Z"
   },
   {
    "duration": 4,
    "start_time": "2022-09-13T22:24:57.899Z"
   },
   {
    "duration": 333,
    "start_time": "2022-09-13T22:24:57.920Z"
   },
   {
    "duration": 21,
    "start_time": "2022-09-13T22:24:58.255Z"
   },
   {
    "duration": 7,
    "start_time": "2022-09-13T22:24:58.277Z"
   },
   {
    "duration": 329,
    "start_time": "2022-09-13T22:24:58.286Z"
   },
   {
    "duration": 32,
    "start_time": "2022-09-13T22:24:58.616Z"
   },
   {
    "duration": 365,
    "start_time": "2022-09-13T22:24:58.650Z"
   },
   {
    "duration": 55,
    "start_time": "2022-09-13T22:24:59.017Z"
   },
   {
    "duration": 15,
    "start_time": "2022-09-13T22:24:59.074Z"
   },
   {
    "duration": 425,
    "start_time": "2022-09-13T22:24:59.092Z"
   },
   {
    "duration": 89,
    "start_time": "2022-09-13T22:24:59.523Z"
   },
   {
    "duration": 5,
    "start_time": "2022-09-13T22:24:59.614Z"
   },
   {
    "duration": 53,
    "start_time": "2022-09-13T22:24:59.626Z"
   },
   {
    "duration": 70,
    "start_time": "2022-09-13T22:26:05.810Z"
   },
   {
    "duration": 1829,
    "start_time": "2022-09-13T22:26:27.912Z"
   },
   {
    "duration": 35,
    "start_time": "2022-09-13T22:26:29.743Z"
   },
   {
    "duration": 17,
    "start_time": "2022-09-13T22:26:29.779Z"
   },
   {
    "duration": 36,
    "start_time": "2022-09-13T22:26:29.799Z"
   },
   {
    "duration": 47,
    "start_time": "2022-09-13T22:26:29.836Z"
   },
   {
    "duration": 3,
    "start_time": "2022-09-13T22:26:29.885Z"
   },
   {
    "duration": 11,
    "start_time": "2022-09-13T22:26:29.890Z"
   },
   {
    "duration": 24,
    "start_time": "2022-09-13T22:26:29.902Z"
   },
   {
    "duration": 14,
    "start_time": "2022-09-13T22:26:29.932Z"
   },
   {
    "duration": 21,
    "start_time": "2022-09-13T22:26:29.950Z"
   },
   {
    "duration": 38,
    "start_time": "2022-09-13T22:26:29.973Z"
   },
   {
    "duration": 12,
    "start_time": "2022-09-13T22:26:30.013Z"
   },
   {
    "duration": 49,
    "start_time": "2022-09-13T22:26:30.027Z"
   },
   {
    "duration": 23,
    "start_time": "2022-09-13T22:26:30.078Z"
   },
   {
    "duration": 37,
    "start_time": "2022-09-13T22:26:30.103Z"
   },
   {
    "duration": 52,
    "start_time": "2022-09-13T22:26:30.142Z"
   },
   {
    "duration": 3,
    "start_time": "2022-09-13T22:26:30.196Z"
   },
   {
    "duration": 75,
    "start_time": "2022-09-13T22:26:30.201Z"
   },
   {
    "duration": 26,
    "start_time": "2022-09-13T22:26:30.278Z"
   },
   {
    "duration": 14,
    "start_time": "2022-09-13T22:26:30.305Z"
   },
   {
    "duration": 66,
    "start_time": "2022-09-13T22:26:30.323Z"
   },
   {
    "duration": 26,
    "start_time": "2022-09-13T22:26:30.392Z"
   },
   {
    "duration": 113,
    "start_time": "2022-09-13T22:26:30.419Z"
   },
   {
    "duration": 12,
    "start_time": "2022-09-13T22:26:30.534Z"
   },
   {
    "duration": 147,
    "start_time": "2022-09-13T22:26:30.548Z"
   },
   {
    "duration": 5,
    "start_time": "2022-09-13T22:26:30.697Z"
   },
   {
    "duration": 319,
    "start_time": "2022-09-13T22:26:30.703Z"
   },
   {
    "duration": 31,
    "start_time": "2022-09-13T22:26:31.026Z"
   },
   {
    "duration": 17,
    "start_time": "2022-09-13T22:26:31.059Z"
   },
   {
    "duration": 341,
    "start_time": "2022-09-13T22:26:31.077Z"
   },
   {
    "duration": 27,
    "start_time": "2022-09-13T22:26:31.425Z"
   },
   {
    "duration": 24,
    "start_time": "2022-09-13T22:26:31.453Z"
   },
   {
    "duration": 319,
    "start_time": "2022-09-13T22:26:31.479Z"
   },
   {
    "duration": 46,
    "start_time": "2022-09-13T22:26:31.800Z"
   },
   {
    "duration": 323,
    "start_time": "2022-09-13T22:26:31.848Z"
   },
   {
    "duration": 24,
    "start_time": "2022-09-13T22:26:32.172Z"
   },
   {
    "duration": 4,
    "start_time": "2022-09-13T22:26:32.198Z"
   },
   {
    "duration": 451,
    "start_time": "2022-09-13T22:26:32.204Z"
   },
   {
    "duration": 97,
    "start_time": "2022-09-13T22:26:32.657Z"
   },
   {
    "duration": 50,
    "start_time": "2022-09-13T22:26:32.758Z"
   },
   {
    "duration": 0,
    "start_time": "2022-09-13T22:26:32.810Z"
   },
   {
    "duration": 54,
    "start_time": "2022-09-13T22:27:02.245Z"
   },
   {
    "duration": 7,
    "start_time": "2022-09-13T22:27:12.504Z"
   },
   {
    "duration": 1066,
    "start_time": "2022-09-13T22:27:14.120Z"
   },
   {
    "duration": 8,
    "start_time": "2022-09-13T22:27:23.949Z"
   },
   {
    "duration": 11,
    "start_time": "2022-09-13T22:27:24.349Z"
   },
   {
    "duration": 7,
    "start_time": "2022-09-13T22:27:28.074Z"
   },
   {
    "duration": 11,
    "start_time": "2022-09-13T22:27:28.654Z"
   },
   {
    "duration": 7,
    "start_time": "2022-09-13T22:27:38.411Z"
   },
   {
    "duration": 13,
    "start_time": "2022-09-13T22:27:39.357Z"
   },
   {
    "duration": 12,
    "start_time": "2022-09-13T22:27:50.493Z"
   },
   {
    "duration": 28,
    "start_time": "2022-09-13T22:27:51.087Z"
   },
   {
    "duration": 8,
    "start_time": "2022-09-13T22:28:00.487Z"
   },
   {
    "duration": 24,
    "start_time": "2022-09-13T22:28:00.968Z"
   },
   {
    "duration": 1669,
    "start_time": "2022-09-13T22:28:09.811Z"
   },
   {
    "duration": 44,
    "start_time": "2022-09-13T22:28:11.483Z"
   },
   {
    "duration": 26,
    "start_time": "2022-09-13T22:28:11.539Z"
   },
   {
    "duration": 13,
    "start_time": "2022-09-13T22:28:11.568Z"
   },
   {
    "duration": 61,
    "start_time": "2022-09-13T22:28:11.583Z"
   },
   {
    "duration": 4,
    "start_time": "2022-09-13T22:28:11.647Z"
   },
   {
    "duration": 28,
    "start_time": "2022-09-13T22:28:11.653Z"
   },
   {
    "duration": 5,
    "start_time": "2022-09-13T22:28:11.684Z"
   },
   {
    "duration": 13,
    "start_time": "2022-09-13T22:28:11.692Z"
   },
   {
    "duration": 22,
    "start_time": "2022-09-13T22:28:11.708Z"
   },
   {
    "duration": 73,
    "start_time": "2022-09-13T22:28:11.732Z"
   },
   {
    "duration": 14,
    "start_time": "2022-09-13T22:28:11.807Z"
   },
   {
    "duration": 47,
    "start_time": "2022-09-13T22:28:11.823Z"
   },
   {
    "duration": 16,
    "start_time": "2022-09-13T22:28:11.872Z"
   },
   {
    "duration": 40,
    "start_time": "2022-09-13T22:28:11.890Z"
   },
   {
    "duration": 26,
    "start_time": "2022-09-13T22:28:11.931Z"
   },
   {
    "duration": 4,
    "start_time": "2022-09-13T22:28:11.959Z"
   },
   {
    "duration": 12,
    "start_time": "2022-09-13T22:28:11.964Z"
   },
   {
    "duration": 9,
    "start_time": "2022-09-13T22:28:11.978Z"
   },
   {
    "duration": 5,
    "start_time": "2022-09-13T22:28:11.989Z"
   },
   {
    "duration": 27,
    "start_time": "2022-09-13T22:28:11.996Z"
   },
   {
    "duration": 32,
    "start_time": "2022-09-13T22:28:12.030Z"
   },
   {
    "duration": 77,
    "start_time": "2022-09-13T22:28:12.064Z"
   },
   {
    "duration": 10,
    "start_time": "2022-09-13T22:28:12.143Z"
   },
   {
    "duration": 152,
    "start_time": "2022-09-13T22:28:12.155Z"
   },
   {
    "duration": 12,
    "start_time": "2022-09-13T22:28:12.309Z"
   },
   {
    "duration": 371,
    "start_time": "2022-09-13T22:28:12.323Z"
   },
   {
    "duration": 43,
    "start_time": "2022-09-13T22:28:12.698Z"
   },
   {
    "duration": 30,
    "start_time": "2022-09-13T22:28:12.743Z"
   },
   {
    "duration": 342,
    "start_time": "2022-09-13T22:28:12.775Z"
   },
   {
    "duration": 39,
    "start_time": "2022-09-13T22:28:13.122Z"
   },
   {
    "duration": 20,
    "start_time": "2022-09-13T22:28:13.165Z"
   },
   {
    "duration": 393,
    "start_time": "2022-09-13T22:28:13.187Z"
   },
   {
    "duration": 23,
    "start_time": "2022-09-13T22:28:13.582Z"
   },
   {
    "duration": 411,
    "start_time": "2022-09-13T22:28:13.607Z"
   },
   {
    "duration": 34,
    "start_time": "2022-09-13T22:28:14.021Z"
   },
   {
    "duration": 34,
    "start_time": "2022-09-13T22:28:14.057Z"
   },
   {
    "duration": 499,
    "start_time": "2022-09-13T22:28:14.093Z"
   },
   {
    "duration": 108,
    "start_time": "2022-09-13T22:28:14.595Z"
   },
   {
    "duration": 8,
    "start_time": "2022-09-13T22:28:14.705Z"
   },
   {
    "duration": 193,
    "start_time": "2022-09-13T22:28:14.715Z"
   },
   {
    "duration": 8,
    "start_time": "2022-09-13T22:28:35.787Z"
   },
   {
    "duration": 31,
    "start_time": "2022-09-13T22:28:36.215Z"
   },
   {
    "duration": 8,
    "start_time": "2022-09-13T22:28:51.251Z"
   },
   {
    "duration": 12,
    "start_time": "2022-09-13T22:28:51.673Z"
   },
   {
    "duration": 8,
    "start_time": "2022-09-13T22:29:20.565Z"
   },
   {
    "duration": 15,
    "start_time": "2022-09-13T22:29:21.100Z"
   },
   {
    "duration": 30,
    "start_time": "2022-09-13T22:29:37.696Z"
   },
   {
    "duration": 10,
    "start_time": "2022-09-13T22:29:52.760Z"
   },
   {
    "duration": 24,
    "start_time": "2022-09-13T22:29:53.044Z"
   },
   {
    "duration": 46,
    "start_time": "2022-09-13T22:30:03.705Z"
   },
   {
    "duration": 1644,
    "start_time": "2022-09-13T22:30:43.500Z"
   },
   {
    "duration": 33,
    "start_time": "2022-09-13T22:30:45.148Z"
   },
   {
    "duration": 16,
    "start_time": "2022-09-13T22:30:45.183Z"
   },
   {
    "duration": 33,
    "start_time": "2022-09-13T22:30:45.201Z"
   },
   {
    "duration": 72,
    "start_time": "2022-09-13T22:30:45.236Z"
   },
   {
    "duration": 4,
    "start_time": "2022-09-13T22:30:45.309Z"
   },
   {
    "duration": 51,
    "start_time": "2022-09-13T22:30:45.315Z"
   },
   {
    "duration": 19,
    "start_time": "2022-09-13T22:30:45.367Z"
   },
   {
    "duration": 28,
    "start_time": "2022-09-13T22:30:45.387Z"
   },
   {
    "duration": 50,
    "start_time": "2022-09-13T22:30:45.418Z"
   },
   {
    "duration": 75,
    "start_time": "2022-09-13T22:30:45.470Z"
   },
   {
    "duration": 13,
    "start_time": "2022-09-13T22:30:45.549Z"
   },
   {
    "duration": 20,
    "start_time": "2022-09-13T22:30:45.564Z"
   },
   {
    "duration": 31,
    "start_time": "2022-09-13T22:30:45.586Z"
   },
   {
    "duration": 64,
    "start_time": "2022-09-13T22:30:45.619Z"
   },
   {
    "duration": 26,
    "start_time": "2022-09-13T22:30:45.685Z"
   },
   {
    "duration": 26,
    "start_time": "2022-09-13T22:30:45.713Z"
   },
   {
    "duration": 37,
    "start_time": "2022-09-13T22:30:45.741Z"
   },
   {
    "duration": 10,
    "start_time": "2022-09-13T22:30:45.779Z"
   },
   {
    "duration": 23,
    "start_time": "2022-09-13T22:30:45.790Z"
   },
   {
    "duration": 63,
    "start_time": "2022-09-13T22:30:45.815Z"
   },
   {
    "duration": 23,
    "start_time": "2022-09-13T22:30:45.880Z"
   },
   {
    "duration": 98,
    "start_time": "2022-09-13T22:30:45.904Z"
   },
   {
    "duration": 6,
    "start_time": "2022-09-13T22:30:46.003Z"
   },
   {
    "duration": 157,
    "start_time": "2022-09-13T22:30:46.011Z"
   },
   {
    "duration": 5,
    "start_time": "2022-09-13T22:30:46.170Z"
   },
   {
    "duration": 363,
    "start_time": "2022-09-13T22:30:46.177Z"
   },
   {
    "duration": 26,
    "start_time": "2022-09-13T22:30:46.544Z"
   },
   {
    "duration": 4,
    "start_time": "2022-09-13T22:30:46.572Z"
   },
   {
    "duration": 404,
    "start_time": "2022-09-13T22:30:46.578Z"
   },
   {
    "duration": 22,
    "start_time": "2022-09-13T22:30:46.984Z"
   },
   {
    "duration": 4,
    "start_time": "2022-09-13T22:30:47.023Z"
   },
   {
    "duration": 330,
    "start_time": "2022-09-13T22:30:47.029Z"
   },
   {
    "duration": 22,
    "start_time": "2022-09-13T22:30:47.362Z"
   },
   {
    "duration": 360,
    "start_time": "2022-09-13T22:30:47.385Z"
   },
   {
    "duration": 24,
    "start_time": "2022-09-13T22:30:47.747Z"
   },
   {
    "duration": 4,
    "start_time": "2022-09-13T22:30:47.773Z"
   },
   {
    "duration": 399,
    "start_time": "2022-09-13T22:30:47.779Z"
   },
   {
    "duration": 93,
    "start_time": "2022-09-13T22:30:48.180Z"
   },
   {
    "duration": 7,
    "start_time": "2022-09-13T22:30:48.275Z"
   },
   {
    "duration": 172,
    "start_time": "2022-09-13T22:30:48.284Z"
   },
   {
    "duration": 24,
    "start_time": "2022-09-13T22:31:00.602Z"
   },
   {
    "duration": 12,
    "start_time": "2022-09-13T22:31:03.657Z"
   },
   {
    "duration": 12,
    "start_time": "2022-09-13T22:31:06.411Z"
   },
   {
    "duration": 15,
    "start_time": "2022-09-13T22:31:11.046Z"
   },
   {
    "duration": 9,
    "start_time": "2022-09-13T22:32:25.857Z"
   },
   {
    "duration": 1327,
    "start_time": "2022-09-13T22:34:03.923Z"
   },
   {
    "duration": 34,
    "start_time": "2022-09-13T22:35:18.377Z"
   },
   {
    "duration": 11,
    "start_time": "2022-09-13T22:35:25.315Z"
   },
   {
    "duration": 10,
    "start_time": "2022-09-13T22:35:25.778Z"
   },
   {
    "duration": 29,
    "start_time": "2022-09-13T22:35:26.453Z"
   },
   {
    "duration": 43,
    "start_time": "2022-09-13T22:36:02.761Z"
   },
   {
    "duration": 14,
    "start_time": "2022-09-13T22:37:13.255Z"
   },
   {
    "duration": 11,
    "start_time": "2022-09-13T22:37:13.864Z"
   },
   {
    "duration": 13633,
    "start_time": "2022-09-13T22:37:14.557Z"
   },
   {
    "duration": 5,
    "start_time": "2022-09-13T22:38:32.700Z"
   },
   {
    "duration": 5,
    "start_time": "2022-09-13T22:38:44.655Z"
   },
   {
    "duration": 5,
    "start_time": "2022-09-13T22:38:52.389Z"
   },
   {
    "duration": 3372,
    "start_time": "2022-09-13T22:38:57.885Z"
   },
   {
    "duration": 1742,
    "start_time": "2022-09-13T22:39:12.954Z"
   },
   {
    "duration": 56,
    "start_time": "2022-09-13T22:39:14.699Z"
   },
   {
    "duration": 23,
    "start_time": "2022-09-13T22:39:14.757Z"
   },
   {
    "duration": 18,
    "start_time": "2022-09-13T22:39:14.783Z"
   },
   {
    "duration": 54,
    "start_time": "2022-09-13T22:39:14.803Z"
   },
   {
    "duration": 5,
    "start_time": "2022-09-13T22:39:14.859Z"
   },
   {
    "duration": 10,
    "start_time": "2022-09-13T22:39:14.867Z"
   },
   {
    "duration": 7,
    "start_time": "2022-09-13T22:39:14.880Z"
   },
   {
    "duration": 33,
    "start_time": "2022-09-13T22:39:14.890Z"
   },
   {
    "duration": 9,
    "start_time": "2022-09-13T22:39:14.928Z"
   },
   {
    "duration": 76,
    "start_time": "2022-09-13T22:39:14.940Z"
   },
   {
    "duration": 22,
    "start_time": "2022-09-13T22:39:15.018Z"
   },
   {
    "duration": 19,
    "start_time": "2022-09-13T22:39:15.050Z"
   },
   {
    "duration": 21,
    "start_time": "2022-09-13T22:39:15.071Z"
   },
   {
    "duration": 29,
    "start_time": "2022-09-13T22:39:15.095Z"
   },
   {
    "duration": 27,
    "start_time": "2022-09-13T22:39:15.126Z"
   },
   {
    "duration": 15,
    "start_time": "2022-09-13T22:39:15.156Z"
   },
   {
    "duration": 20,
    "start_time": "2022-09-13T22:39:15.174Z"
   },
   {
    "duration": 8,
    "start_time": "2022-09-13T22:39:15.197Z"
   },
   {
    "duration": 14,
    "start_time": "2022-09-13T22:39:15.207Z"
   },
   {
    "duration": 52,
    "start_time": "2022-09-13T22:39:15.223Z"
   },
   {
    "duration": 17,
    "start_time": "2022-09-13T22:39:15.277Z"
   },
   {
    "duration": 89,
    "start_time": "2022-09-13T22:39:15.296Z"
   },
   {
    "duration": 7,
    "start_time": "2022-09-13T22:39:15.387Z"
   },
   {
    "duration": 141,
    "start_time": "2022-09-13T22:39:15.396Z"
   },
   {
    "duration": 14,
    "start_time": "2022-09-13T22:39:15.539Z"
   },
   {
    "duration": 341,
    "start_time": "2022-09-13T22:39:15.555Z"
   },
   {
    "duration": 49,
    "start_time": "2022-09-13T22:39:15.900Z"
   },
   {
    "duration": 5,
    "start_time": "2022-09-13T22:39:15.953Z"
   },
   {
    "duration": 322,
    "start_time": "2022-09-13T22:39:15.959Z"
   },
   {
    "duration": 23,
    "start_time": "2022-09-13T22:39:16.283Z"
   },
   {
    "duration": 18,
    "start_time": "2022-09-13T22:39:16.308Z"
   },
   {
    "duration": 315,
    "start_time": "2022-09-13T22:39:16.328Z"
   },
   {
    "duration": 26,
    "start_time": "2022-09-13T22:39:16.645Z"
   },
   {
    "duration": 356,
    "start_time": "2022-09-13T22:39:16.673Z"
   },
   {
    "duration": 31,
    "start_time": "2022-09-13T22:39:17.035Z"
   },
   {
    "duration": 5,
    "start_time": "2022-09-13T22:39:17.068Z"
   },
   {
    "duration": 425,
    "start_time": "2022-09-13T22:39:17.075Z"
   },
   {
    "duration": 105,
    "start_time": "2022-09-13T22:39:17.502Z"
   },
   {
    "duration": 8,
    "start_time": "2022-09-13T22:39:17.609Z"
   },
   {
    "duration": 52,
    "start_time": "2022-09-13T22:39:17.620Z"
   },
   {
    "duration": 3386,
    "start_time": "2022-09-13T22:39:17.675Z"
   },
   {
    "duration": 12,
    "start_time": "2022-09-13T22:39:35.691Z"
   },
   {
    "duration": 14,
    "start_time": "2022-09-13T22:39:36.256Z"
   },
   {
    "duration": 3434,
    "start_time": "2022-09-13T22:39:37.264Z"
   },
   {
    "duration": 2224,
    "start_time": "2022-09-13T22:40:05.554Z"
   },
   {
    "duration": 46,
    "start_time": "2022-09-13T22:40:07.780Z"
   },
   {
    "duration": 22,
    "start_time": "2022-09-13T22:40:07.828Z"
   },
   {
    "duration": 45,
    "start_time": "2022-09-13T22:40:07.853Z"
   },
   {
    "duration": 78,
    "start_time": "2022-09-13T22:40:07.901Z"
   },
   {
    "duration": 6,
    "start_time": "2022-09-13T22:40:07.981Z"
   },
   {
    "duration": 16,
    "start_time": "2022-09-13T22:40:07.990Z"
   },
   {
    "duration": 7,
    "start_time": "2022-09-13T22:40:08.009Z"
   },
   {
    "duration": 75,
    "start_time": "2022-09-13T22:40:08.022Z"
   },
   {
    "duration": 8,
    "start_time": "2022-09-13T22:40:08.103Z"
   },
   {
    "duration": 61,
    "start_time": "2022-09-13T22:40:08.113Z"
   },
   {
    "duration": 18,
    "start_time": "2022-09-13T22:40:08.177Z"
   },
   {
    "duration": 6,
    "start_time": "2022-09-13T22:40:08.197Z"
   },
   {
    "duration": 23,
    "start_time": "2022-09-13T22:40:08.205Z"
   },
   {
    "duration": 65,
    "start_time": "2022-09-13T22:40:08.231Z"
   },
   {
    "duration": 30,
    "start_time": "2022-09-13T22:40:08.299Z"
   },
   {
    "duration": 18,
    "start_time": "2022-09-13T22:40:08.336Z"
   },
   {
    "duration": 36,
    "start_time": "2022-09-13T22:40:08.364Z"
   },
   {
    "duration": 12,
    "start_time": "2022-09-13T22:40:08.402Z"
   },
   {
    "duration": 42,
    "start_time": "2022-09-13T22:40:08.416Z"
   },
   {
    "duration": 22,
    "start_time": "2022-09-13T22:40:08.461Z"
   },
   {
    "duration": 6,
    "start_time": "2022-09-13T22:40:08.486Z"
   },
   {
    "duration": 92,
    "start_time": "2022-09-13T22:40:08.494Z"
   },
   {
    "duration": 7,
    "start_time": "2022-09-13T22:40:08.588Z"
   },
   {
    "duration": 146,
    "start_time": "2022-09-13T22:40:08.597Z"
   },
   {
    "duration": 4,
    "start_time": "2022-09-13T22:40:08.745Z"
   },
   {
    "duration": 461,
    "start_time": "2022-09-13T22:40:08.751Z"
   },
   {
    "duration": 35,
    "start_time": "2022-09-13T22:40:09.217Z"
   },
   {
    "duration": 25,
    "start_time": "2022-09-13T22:40:09.254Z"
   },
   {
    "duration": 409,
    "start_time": "2022-09-13T22:40:09.281Z"
   },
   {
    "duration": 29,
    "start_time": "2022-09-13T22:40:09.692Z"
   },
   {
    "duration": 4,
    "start_time": "2022-09-13T22:40:09.723Z"
   },
   {
    "duration": 329,
    "start_time": "2022-09-13T22:40:09.730Z"
   },
   {
    "duration": 25,
    "start_time": "2022-09-13T22:40:10.061Z"
   },
   {
    "duration": 375,
    "start_time": "2022-09-13T22:40:10.088Z"
   },
   {
    "duration": 34,
    "start_time": "2022-09-13T22:40:10.464Z"
   },
   {
    "duration": 22,
    "start_time": "2022-09-13T22:40:10.500Z"
   },
   {
    "duration": 463,
    "start_time": "2022-09-13T22:40:10.525Z"
   },
   {
    "duration": 117,
    "start_time": "2022-09-13T22:40:10.991Z"
   },
   {
    "duration": 23,
    "start_time": "2022-09-13T22:40:11.110Z"
   },
   {
    "duration": 52,
    "start_time": "2022-09-13T22:40:11.139Z"
   },
   {
    "duration": 3531,
    "start_time": "2022-09-13T22:40:11.194Z"
   },
   {
    "duration": 3684,
    "start_time": "2022-09-13T22:40:44.970Z"
   },
   {
    "duration": 5,
    "start_time": "2022-09-13T22:41:46.781Z"
   },
   {
    "duration": 8,
    "start_time": "2022-09-13T22:41:53.093Z"
   },
   {
    "duration": 12,
    "start_time": "2022-09-13T22:41:53.871Z"
   },
   {
    "duration": 194,
    "start_time": "2022-09-13T22:41:54.515Z"
   },
   {
    "duration": 94,
    "start_time": "2022-09-13T22:42:09.414Z"
   },
   {
    "duration": 2005,
    "start_time": "2022-09-13T22:42:39.160Z"
   },
   {
    "duration": 1636,
    "start_time": "2022-09-13T22:42:53.063Z"
   },
   {
    "duration": 43,
    "start_time": "2022-09-13T22:43:07.058Z"
   },
   {
    "duration": 45,
    "start_time": "2022-09-13T22:43:46.869Z"
   },
   {
    "duration": 45,
    "start_time": "2022-09-13T22:45:31.160Z"
   },
   {
    "duration": 715,
    "start_time": "2022-09-13T22:45:45.453Z"
   },
   {
    "duration": 69,
    "start_time": "2022-09-13T22:45:50.514Z"
   },
   {
    "duration": 332,
    "start_time": "2022-09-13T22:46:46.754Z"
   },
   {
    "duration": 28,
    "start_time": "2022-09-13T22:47:23.455Z"
   },
   {
    "duration": 1750,
    "start_time": "2022-09-13T22:47:33.027Z"
   },
   {
    "duration": 5,
    "start_time": "2022-09-13T22:49:01.753Z"
   },
   {
    "duration": 44,
    "start_time": "2022-09-13T22:49:15.717Z"
   },
   {
    "duration": 51,
    "start_time": "2022-09-13T22:49:53.859Z"
   },
   {
    "duration": 42,
    "start_time": "2022-09-13T22:50:05.262Z"
   },
   {
    "duration": 50,
    "start_time": "2022-09-13T22:51:06.980Z"
   },
   {
    "duration": 24,
    "start_time": "2022-09-13T22:52:28.783Z"
   },
   {
    "duration": 23,
    "start_time": "2022-09-13T22:52:33.251Z"
   },
   {
    "duration": 976,
    "start_time": "2022-09-13T22:52:40.458Z"
   },
   {
    "duration": 999,
    "start_time": "2022-09-13T22:52:52.792Z"
   },
   {
    "duration": 25,
    "start_time": "2022-09-13T22:53:07.987Z"
   },
   {
    "duration": 18,
    "start_time": "2022-09-13T22:54:06.401Z"
   },
   {
    "duration": 61,
    "start_time": "2022-09-13T22:54:20.658Z"
   },
   {
    "duration": 24,
    "start_time": "2022-09-13T22:54:50.289Z"
   },
   {
    "duration": 544,
    "start_time": "2022-09-13T22:55:15.249Z"
   },
   {
    "duration": 636,
    "start_time": "2022-09-13T22:55:20.363Z"
   },
   {
    "duration": 43,
    "start_time": "2022-09-13T22:59:18.256Z"
   },
   {
    "duration": 7,
    "start_time": "2022-09-13T23:00:24.577Z"
   },
   {
    "duration": 16,
    "start_time": "2022-09-13T23:00:25.193Z"
   },
   {
    "duration": 41,
    "start_time": "2022-09-13T23:00:25.467Z"
   },
   {
    "duration": 1667,
    "start_time": "2022-09-13T23:00:57.450Z"
   },
   {
    "duration": 43,
    "start_time": "2022-09-13T23:00:59.119Z"
   },
   {
    "duration": 24,
    "start_time": "2022-09-13T23:00:59.168Z"
   },
   {
    "duration": 13,
    "start_time": "2022-09-13T23:00:59.195Z"
   },
   {
    "duration": 90,
    "start_time": "2022-09-13T23:00:59.210Z"
   },
   {
    "duration": 3,
    "start_time": "2022-09-13T23:00:59.302Z"
   },
   {
    "duration": 11,
    "start_time": "2022-09-13T23:00:59.307Z"
   },
   {
    "duration": 29,
    "start_time": "2022-09-13T23:00:59.320Z"
   },
   {
    "duration": 22,
    "start_time": "2022-09-13T23:00:59.351Z"
   },
   {
    "duration": 7,
    "start_time": "2022-09-13T23:00:59.376Z"
   },
   {
    "duration": 37,
    "start_time": "2022-09-13T23:00:59.384Z"
   },
   {
    "duration": 13,
    "start_time": "2022-09-13T23:00:59.423Z"
   },
   {
    "duration": 23,
    "start_time": "2022-09-13T23:00:59.438Z"
   },
   {
    "duration": 13,
    "start_time": "2022-09-13T23:00:59.463Z"
   },
   {
    "duration": 22,
    "start_time": "2022-09-13T23:00:59.478Z"
   },
   {
    "duration": 32,
    "start_time": "2022-09-13T23:00:59.501Z"
   },
   {
    "duration": 5,
    "start_time": "2022-09-13T23:00:59.535Z"
   },
   {
    "duration": 27,
    "start_time": "2022-09-13T23:00:59.541Z"
   },
   {
    "duration": 9,
    "start_time": "2022-09-13T23:00:59.570Z"
   },
   {
    "duration": 6,
    "start_time": "2022-09-13T23:00:59.582Z"
   },
   {
    "duration": 12,
    "start_time": "2022-09-13T23:00:59.589Z"
   },
   {
    "duration": 18,
    "start_time": "2022-09-13T23:00:59.602Z"
   },
   {
    "duration": 83,
    "start_time": "2022-09-13T23:00:59.621Z"
   },
   {
    "duration": 7,
    "start_time": "2022-09-13T23:00:59.705Z"
   },
   {
    "duration": 162,
    "start_time": "2022-09-13T23:00:59.714Z"
   },
   {
    "duration": 4,
    "start_time": "2022-09-13T23:00:59.878Z"
   },
   {
    "duration": 324,
    "start_time": "2022-09-13T23:00:59.884Z"
   },
   {
    "duration": 36,
    "start_time": "2022-09-13T23:01:00.212Z"
   },
   {
    "duration": 21,
    "start_time": "2022-09-13T23:01:00.250Z"
   },
   {
    "duration": 380,
    "start_time": "2022-09-13T23:01:00.273Z"
   },
   {
    "duration": 22,
    "start_time": "2022-09-13T23:01:00.657Z"
   },
   {
    "duration": 4,
    "start_time": "2022-09-13T23:01:00.681Z"
   },
   {
    "duration": 359,
    "start_time": "2022-09-13T23:01:00.687Z"
   },
   {
    "duration": 23,
    "start_time": "2022-09-13T23:01:01.049Z"
   },
   {
    "duration": 338,
    "start_time": "2022-09-13T23:01:01.074Z"
   },
   {
    "duration": 34,
    "start_time": "2022-09-13T23:01:01.414Z"
   },
   {
    "duration": 10,
    "start_time": "2022-09-13T23:01:01.450Z"
   },
   {
    "duration": 389,
    "start_time": "2022-09-13T23:01:01.462Z"
   },
   {
    "duration": 98,
    "start_time": "2022-09-13T23:01:01.853Z"
   },
   {
    "duration": 9,
    "start_time": "2022-09-13T23:01:01.952Z"
   },
   {
    "duration": 149,
    "start_time": "2022-09-13T23:01:01.962Z"
   },
   {
    "duration": 0,
    "start_time": "2022-09-13T23:01:02.112Z"
   },
   {
    "duration": 9,
    "start_time": "2022-09-13T23:02:23.586Z"
   },
   {
    "duration": 17,
    "start_time": "2022-09-13T23:02:24.098Z"
   },
   {
    "duration": 11,
    "start_time": "2022-09-13T23:02:30.947Z"
   },
   {
    "duration": 17,
    "start_time": "2022-09-13T23:02:31.659Z"
   },
   {
    "duration": 9,
    "start_time": "2022-09-13T23:02:51.084Z"
   },
   {
    "duration": 9,
    "start_time": "2022-09-13T23:02:51.566Z"
   },
   {
    "duration": 48,
    "start_time": "2022-09-13T23:02:52.149Z"
   },
   {
    "duration": 45,
    "start_time": "2022-09-13T23:04:05.558Z"
   },
   {
    "duration": 68,
    "start_time": "2022-09-13T23:04:31.188Z"
   },
   {
    "duration": 10,
    "start_time": "2022-09-13T23:05:21.448Z"
   },
   {
    "duration": 43,
    "start_time": "2022-09-13T23:08:38.771Z"
   },
   {
    "duration": 49,
    "start_time": "2022-09-13T23:09:02.502Z"
   },
   {
    "duration": 41,
    "start_time": "2022-09-13T23:09:22.336Z"
   },
   {
    "duration": 10,
    "start_time": "2022-09-13T23:10:01.534Z"
   },
   {
    "duration": 10,
    "start_time": "2022-09-13T23:10:35.900Z"
   },
   {
    "duration": 10,
    "start_time": "2022-09-13T23:10:47.338Z"
   },
   {
    "duration": 14,
    "start_time": "2022-09-13T23:11:09.074Z"
   },
   {
    "duration": 50,
    "start_time": "2022-09-13T23:11:15.155Z"
   },
   {
    "duration": 21,
    "start_time": "2022-09-13T23:11:22.108Z"
   },
   {
    "duration": 53,
    "start_time": "2022-09-13T23:11:56.887Z"
   },
   {
    "duration": 57,
    "start_time": "2022-09-13T23:12:01.585Z"
   },
   {
    "duration": 71,
    "start_time": "2022-09-13T23:12:10.506Z"
   },
   {
    "duration": 21,
    "start_time": "2022-09-13T23:12:15.275Z"
   },
   {
    "duration": 1836,
    "start_time": "2022-09-14T08:11:01.477Z"
   },
   {
    "duration": 39,
    "start_time": "2022-09-14T08:11:03.316Z"
   },
   {
    "duration": 17,
    "start_time": "2022-09-14T08:11:03.357Z"
   },
   {
    "duration": 10,
    "start_time": "2022-09-14T08:11:03.376Z"
   },
   {
    "duration": 55,
    "start_time": "2022-09-14T08:11:03.388Z"
   },
   {
    "duration": 4,
    "start_time": "2022-09-14T08:11:03.445Z"
   },
   {
    "duration": 29,
    "start_time": "2022-09-14T08:11:03.451Z"
   },
   {
    "duration": 5,
    "start_time": "2022-09-14T08:11:03.481Z"
   },
   {
    "duration": 11,
    "start_time": "2022-09-14T08:11:03.487Z"
   },
   {
    "duration": 5,
    "start_time": "2022-09-14T08:11:03.501Z"
   },
   {
    "duration": 72,
    "start_time": "2022-09-14T08:11:03.507Z"
   },
   {
    "duration": 9,
    "start_time": "2022-09-14T08:11:03.580Z"
   },
   {
    "duration": 5,
    "start_time": "2022-09-14T08:11:03.591Z"
   },
   {
    "duration": 14,
    "start_time": "2022-09-14T08:11:03.597Z"
   },
   {
    "duration": 23,
    "start_time": "2022-09-14T08:11:03.613Z"
   },
   {
    "duration": 48,
    "start_time": "2022-09-14T08:11:03.637Z"
   },
   {
    "duration": 4,
    "start_time": "2022-09-14T08:11:03.686Z"
   },
   {
    "duration": 14,
    "start_time": "2022-09-14T08:11:03.692Z"
   },
   {
    "duration": 8,
    "start_time": "2022-09-14T08:11:03.708Z"
   },
   {
    "duration": 6,
    "start_time": "2022-09-14T08:11:03.717Z"
   },
   {
    "duration": 22,
    "start_time": "2022-09-14T08:11:03.724Z"
   },
   {
    "duration": 19,
    "start_time": "2022-09-14T08:11:03.748Z"
   },
   {
    "duration": 65,
    "start_time": "2022-09-14T08:11:03.769Z"
   },
   {
    "duration": 13,
    "start_time": "2022-09-14T08:11:03.837Z"
   },
   {
    "duration": 129,
    "start_time": "2022-09-14T08:11:03.852Z"
   },
   {
    "duration": 4,
    "start_time": "2022-09-14T08:11:03.983Z"
   },
   {
    "duration": 303,
    "start_time": "2022-09-14T08:11:03.989Z"
   },
   {
    "duration": 21,
    "start_time": "2022-09-14T08:11:04.295Z"
   },
   {
    "duration": 4,
    "start_time": "2022-09-14T08:11:04.318Z"
   },
   {
    "duration": 386,
    "start_time": "2022-09-14T08:11:04.323Z"
   },
   {
    "duration": 21,
    "start_time": "2022-09-14T08:11:04.711Z"
   },
   {
    "duration": 3,
    "start_time": "2022-09-14T08:11:04.734Z"
   },
   {
    "duration": 327,
    "start_time": "2022-09-14T08:11:04.739Z"
   },
   {
    "duration": 22,
    "start_time": "2022-09-14T08:11:05.077Z"
   },
   {
    "duration": 351,
    "start_time": "2022-09-14T08:11:05.101Z"
   },
   {
    "duration": 26,
    "start_time": "2022-09-14T08:11:05.454Z"
   },
   {
    "duration": 3,
    "start_time": "2022-09-14T08:11:05.482Z"
   },
   {
    "duration": 388,
    "start_time": "2022-09-14T08:11:05.488Z"
   },
   {
    "duration": 82,
    "start_time": "2022-09-14T08:11:05.878Z"
   },
   {
    "duration": 7,
    "start_time": "2022-09-14T08:11:05.962Z"
   },
   {
    "duration": 17,
    "start_time": "2022-09-14T08:11:05.970Z"
   },
   {
    "duration": 23,
    "start_time": "2022-09-14T08:11:05.989Z"
   },
   {
    "duration": 78,
    "start_time": "2022-09-14T08:11:28.633Z"
   },
   {
    "duration": 76,
    "start_time": "2022-09-14T08:11:47.140Z"
   },
   {
    "duration": 84,
    "start_time": "2022-09-14T08:11:51.036Z"
   },
   {
    "duration": 75,
    "start_time": "2022-09-14T08:11:57.430Z"
   },
   {
    "duration": 11,
    "start_time": "2022-09-14T08:15:39.514Z"
   },
   {
    "duration": 9,
    "start_time": "2022-09-14T08:15:45.438Z"
   },
   {
    "duration": 263,
    "start_time": "2022-09-14T08:15:54.892Z"
   },
   {
    "duration": 2725,
    "start_time": "2022-09-14T08:17:08.373Z"
   },
   {
    "duration": 1835,
    "start_time": "2022-09-14T08:17:36.768Z"
   },
   {
    "duration": 131,
    "start_time": "2022-09-14T08:18:32.632Z"
   },
   {
    "duration": 9,
    "start_time": "2022-09-14T08:19:01.789Z"
   },
   {
    "duration": 2153,
    "start_time": "2022-09-14T08:20:02.540Z"
   },
   {
    "duration": 1455,
    "start_time": "2022-09-14T08:20:39.192Z"
   },
   {
    "duration": 30,
    "start_time": "2022-09-14T08:20:40.649Z"
   },
   {
    "duration": 16,
    "start_time": "2022-09-14T08:20:40.688Z"
   },
   {
    "duration": 9,
    "start_time": "2022-09-14T08:20:40.706Z"
   },
   {
    "duration": 34,
    "start_time": "2022-09-14T08:20:40.716Z"
   },
   {
    "duration": 4,
    "start_time": "2022-09-14T08:20:40.751Z"
   },
   {
    "duration": 32,
    "start_time": "2022-09-14T08:20:40.757Z"
   },
   {
    "duration": 5,
    "start_time": "2022-09-14T08:20:40.791Z"
   },
   {
    "duration": 8,
    "start_time": "2022-09-14T08:20:40.797Z"
   },
   {
    "duration": 4,
    "start_time": "2022-09-14T08:20:40.809Z"
   },
   {
    "duration": 34,
    "start_time": "2022-09-14T08:20:40.815Z"
   },
   {
    "duration": 38,
    "start_time": "2022-09-14T08:20:40.851Z"
   },
   {
    "duration": 6,
    "start_time": "2022-09-14T08:20:40.891Z"
   },
   {
    "duration": 12,
    "start_time": "2022-09-14T08:20:40.899Z"
   },
   {
    "duration": 19,
    "start_time": "2022-09-14T08:20:40.912Z"
   },
   {
    "duration": 16,
    "start_time": "2022-09-14T08:20:40.933Z"
   },
   {
    "duration": 4,
    "start_time": "2022-09-14T08:20:40.951Z"
   },
   {
    "duration": 34,
    "start_time": "2022-09-14T08:20:40.957Z"
   },
   {
    "duration": 11,
    "start_time": "2022-09-14T08:20:40.992Z"
   },
   {
    "duration": 4,
    "start_time": "2022-09-14T08:20:41.004Z"
   },
   {
    "duration": 11,
    "start_time": "2022-09-14T08:20:41.009Z"
   },
   {
    "duration": 4,
    "start_time": "2022-09-14T08:20:41.022Z"
   },
   {
    "duration": 81,
    "start_time": "2022-09-14T08:20:41.028Z"
   },
   {
    "duration": 6,
    "start_time": "2022-09-14T08:20:41.110Z"
   },
   {
    "duration": 116,
    "start_time": "2022-09-14T08:20:41.117Z"
   },
   {
    "duration": 4,
    "start_time": "2022-09-14T08:20:41.234Z"
   },
   {
    "duration": 278,
    "start_time": "2022-09-14T08:20:41.239Z"
   },
   {
    "duration": 23,
    "start_time": "2022-09-14T08:20:41.520Z"
   },
   {
    "duration": 4,
    "start_time": "2022-09-14T08:20:41.544Z"
   },
   {
    "duration": 340,
    "start_time": "2022-09-14T08:20:41.550Z"
   },
   {
    "duration": 19,
    "start_time": "2022-09-14T08:20:41.892Z"
   },
   {
    "duration": 3,
    "start_time": "2022-09-14T08:20:41.912Z"
   },
   {
    "duration": 281,
    "start_time": "2022-09-14T08:20:41.917Z"
   },
   {
    "duration": 20,
    "start_time": "2022-09-14T08:20:42.199Z"
   },
   {
    "duration": 291,
    "start_time": "2022-09-14T08:20:42.220Z"
   },
   {
    "duration": 21,
    "start_time": "2022-09-14T08:20:42.513Z"
   },
   {
    "duration": 4,
    "start_time": "2022-09-14T08:20:42.536Z"
   },
   {
    "duration": 371,
    "start_time": "2022-09-14T08:20:42.542Z"
   },
   {
    "duration": 87,
    "start_time": "2022-09-14T08:20:42.914Z"
   },
   {
    "duration": 7,
    "start_time": "2022-09-14T08:20:43.002Z"
   },
   {
    "duration": 22,
    "start_time": "2022-09-14T08:20:43.010Z"
   },
   {
    "duration": 1869,
    "start_time": "2022-09-14T08:20:43.034Z"
   },
   {
    "duration": 1195,
    "start_time": "2022-09-14T08:22:25.020Z"
   },
   {
    "duration": 1512,
    "start_time": "2022-09-14T08:22:31.044Z"
   },
   {
    "duration": 16,
    "start_time": "2022-09-14T08:22:40.733Z"
   },
   {
    "duration": 857,
    "start_time": "2022-09-14T08:22:47.070Z"
   },
   {
    "duration": 2544,
    "start_time": "2022-09-14T08:24:00.399Z"
   },
   {
    "duration": 31,
    "start_time": "2022-09-14T08:24:28.562Z"
   },
   {
    "duration": 30,
    "start_time": "2022-09-14T08:24:40.460Z"
   },
   {
    "duration": 1544,
    "start_time": "2022-09-14T08:24:54.774Z"
   },
   {
    "duration": 6406,
    "start_time": "2022-09-14T08:25:41.005Z"
   },
   {
    "duration": 34,
    "start_time": "2022-09-14T08:25:50.557Z"
   },
   {
    "duration": 45,
    "start_time": "2022-09-14T08:25:59.174Z"
   },
   {
    "duration": 22,
    "start_time": "2022-09-14T08:26:04.503Z"
   },
   {
    "duration": 40,
    "start_time": "2022-09-14T08:26:26.465Z"
   },
   {
    "duration": 24,
    "start_time": "2022-09-14T08:26:29.314Z"
   },
   {
    "duration": 43046,
    "start_time": "2022-09-14T08:27:52.289Z"
   },
   {
    "duration": 23,
    "start_time": "2022-09-14T08:29:24.545Z"
   },
   {
    "duration": 11,
    "start_time": "2022-09-14T08:30:04.549Z"
   },
   {
    "duration": 23,
    "start_time": "2022-09-14T08:30:20.015Z"
   },
   {
    "duration": 16,
    "start_time": "2022-09-14T08:30:27.336Z"
   },
   {
    "duration": 23,
    "start_time": "2022-09-14T08:30:45.234Z"
   },
   {
    "duration": 32,
    "start_time": "2022-09-14T08:31:18.943Z"
   },
   {
    "duration": 41,
    "start_time": "2022-09-14T08:31:22.911Z"
   },
   {
    "duration": 46,
    "start_time": "2022-09-14T08:31:31.456Z"
   },
   {
    "duration": 18,
    "start_time": "2022-09-14T08:31:31.633Z"
   },
   {
    "duration": 23,
    "start_time": "2022-09-14T08:31:42.035Z"
   },
   {
    "duration": 14,
    "start_time": "2022-09-14T08:31:58.605Z"
   },
   {
    "duration": 20,
    "start_time": "2022-09-14T08:33:39.073Z"
   },
   {
    "duration": 13,
    "start_time": "2022-09-14T08:33:47.425Z"
   },
   {
    "duration": 9,
    "start_time": "2022-09-14T08:34:03.413Z"
   },
   {
    "duration": 16,
    "start_time": "2022-09-14T08:34:45.009Z"
   },
   {
    "duration": 17,
    "start_time": "2022-09-14T08:34:52.394Z"
   },
   {
    "duration": 15,
    "start_time": "2022-09-14T08:35:07.972Z"
   },
   {
    "duration": 23,
    "start_time": "2022-09-14T08:35:24.688Z"
   },
   {
    "duration": 210,
    "start_time": "2022-09-14T08:35:34.393Z"
   },
   {
    "duration": 25,
    "start_time": "2022-09-14T08:35:41.184Z"
   },
   {
    "duration": 30,
    "start_time": "2022-09-14T08:35:49.561Z"
   },
   {
    "duration": 1629,
    "start_time": "2022-09-14T08:36:59.159Z"
   },
   {
    "duration": 28,
    "start_time": "2022-09-14T08:37:00.790Z"
   },
   {
    "duration": 17,
    "start_time": "2022-09-14T08:37:00.820Z"
   },
   {
    "duration": 34,
    "start_time": "2022-09-14T08:37:00.839Z"
   },
   {
    "duration": 53,
    "start_time": "2022-09-14T08:37:00.875Z"
   },
   {
    "duration": 3,
    "start_time": "2022-09-14T08:37:00.930Z"
   },
   {
    "duration": 29,
    "start_time": "2022-09-14T08:37:00.935Z"
   },
   {
    "duration": 35,
    "start_time": "2022-09-14T08:37:00.965Z"
   },
   {
    "duration": 35,
    "start_time": "2022-09-14T08:37:01.001Z"
   },
   {
    "duration": 20,
    "start_time": "2022-09-14T08:37:01.039Z"
   },
   {
    "duration": 83,
    "start_time": "2022-09-14T08:37:01.061Z"
   },
   {
    "duration": 17,
    "start_time": "2022-09-14T08:37:01.147Z"
   },
   {
    "duration": 37,
    "start_time": "2022-09-14T08:37:01.166Z"
   },
   {
    "duration": 25,
    "start_time": "2022-09-14T08:37:01.205Z"
   },
   {
    "duration": 42,
    "start_time": "2022-09-14T08:37:01.231Z"
   },
   {
    "duration": 25,
    "start_time": "2022-09-14T08:37:01.274Z"
   },
   {
    "duration": 21,
    "start_time": "2022-09-14T08:37:01.300Z"
   },
   {
    "duration": 32,
    "start_time": "2022-09-14T08:37:01.322Z"
   },
   {
    "duration": 19,
    "start_time": "2022-09-14T08:37:01.356Z"
   },
   {
    "duration": 10,
    "start_time": "2022-09-14T08:37:01.384Z"
   },
   {
    "duration": 17,
    "start_time": "2022-09-14T08:37:01.395Z"
   },
   {
    "duration": 17,
    "start_time": "2022-09-14T08:37:01.413Z"
   },
   {
    "duration": 65,
    "start_time": "2022-09-14T08:37:01.432Z"
   },
   {
    "duration": 5,
    "start_time": "2022-09-14T08:37:01.499Z"
   },
   {
    "duration": 122,
    "start_time": "2022-09-14T08:37:01.506Z"
   },
   {
    "duration": 4,
    "start_time": "2022-09-14T08:37:01.629Z"
   },
   {
    "duration": 287,
    "start_time": "2022-09-14T08:37:01.635Z"
   },
   {
    "duration": 21,
    "start_time": "2022-09-14T08:37:01.925Z"
   },
   {
    "duration": 3,
    "start_time": "2022-09-14T08:37:01.948Z"
   },
   {
    "duration": 330,
    "start_time": "2022-09-14T08:37:01.953Z"
   },
   {
    "duration": 21,
    "start_time": "2022-09-14T08:37:02.285Z"
   },
   {
    "duration": 3,
    "start_time": "2022-09-14T08:37:02.308Z"
   },
   {
    "duration": 281,
    "start_time": "2022-09-14T08:37:02.313Z"
   },
   {
    "duration": 21,
    "start_time": "2022-09-14T08:37:02.596Z"
   },
   {
    "duration": 303,
    "start_time": "2022-09-14T08:37:02.619Z"
   },
   {
    "duration": 23,
    "start_time": "2022-09-14T08:37:02.924Z"
   },
   {
    "duration": 4,
    "start_time": "2022-09-14T08:37:02.949Z"
   },
   {
    "duration": 436,
    "start_time": "2022-09-14T08:37:02.954Z"
   },
   {
    "duration": 81,
    "start_time": "2022-09-14T08:37:03.392Z"
   },
   {
    "duration": 19,
    "start_time": "2022-09-14T08:37:03.475Z"
   },
   {
    "duration": 30,
    "start_time": "2022-09-14T08:37:03.496Z"
   },
   {
    "duration": 7759,
    "start_time": "2022-09-14T08:37:03.528Z"
   },
   {
    "duration": 0,
    "start_time": "2022-09-14T08:37:11.289Z"
   },
   {
    "duration": 196,
    "start_time": "2022-09-14T08:52:40.561Z"
   },
   {
    "duration": 510,
    "start_time": "2022-09-14T08:52:54.723Z"
   },
   {
    "duration": 529,
    "start_time": "2022-09-14T08:53:11.877Z"
   },
   {
    "duration": 600,
    "start_time": "2022-09-14T08:53:20.198Z"
   },
   {
    "duration": 18,
    "start_time": "2022-09-14T08:53:30.127Z"
   },
   {
    "duration": 1013,
    "start_time": "2022-09-14T08:53:38.431Z"
   },
   {
    "duration": 15,
    "start_time": "2022-09-14T08:53:59.003Z"
   },
   {
    "duration": 15,
    "start_time": "2022-09-14T08:54:16.141Z"
   },
   {
    "duration": 16,
    "start_time": "2022-09-14T08:54:26.886Z"
   },
   {
    "duration": 3,
    "start_time": "2022-09-14T08:57:33.710Z"
   },
   {
    "duration": 354,
    "start_time": "2022-09-14T08:57:34.542Z"
   },
   {
    "duration": 4,
    "start_time": "2022-09-14T08:57:48.751Z"
   },
   {
    "duration": 350,
    "start_time": "2022-09-14T08:57:49.215Z"
   },
   {
    "duration": 4,
    "start_time": "2022-09-14T08:57:56.791Z"
   },
   {
    "duration": 7,
    "start_time": "2022-09-14T08:57:57.345Z"
   },
   {
    "duration": 5,
    "start_time": "2022-09-14T08:58:45.351Z"
   },
   {
    "duration": 17,
    "start_time": "2022-09-14T08:58:45.734Z"
   },
   {
    "duration": 4,
    "start_time": "2022-09-14T08:58:49.431Z"
   },
   {
    "duration": 20,
    "start_time": "2022-09-14T08:58:50.072Z"
   },
   {
    "duration": 3,
    "start_time": "2022-09-14T08:58:58.097Z"
   },
   {
    "duration": 24,
    "start_time": "2022-09-14T08:58:58.576Z"
   },
   {
    "duration": 1458,
    "start_time": "2022-09-14T08:59:40.604Z"
   },
   {
    "duration": 32,
    "start_time": "2022-09-14T08:59:42.064Z"
   },
   {
    "duration": 15,
    "start_time": "2022-09-14T08:59:42.099Z"
   },
   {
    "duration": 8,
    "start_time": "2022-09-14T08:59:42.116Z"
   },
   {
    "duration": 36,
    "start_time": "2022-09-14T08:59:42.126Z"
   },
   {
    "duration": 5,
    "start_time": "2022-09-14T08:59:42.179Z"
   },
   {
    "duration": 16,
    "start_time": "2022-09-14T08:59:42.185Z"
   },
   {
    "duration": 5,
    "start_time": "2022-09-14T08:59:42.203Z"
   },
   {
    "duration": 10,
    "start_time": "2022-09-14T08:59:42.209Z"
   },
   {
    "duration": 4,
    "start_time": "2022-09-14T08:59:42.221Z"
   },
   {
    "duration": 50,
    "start_time": "2022-09-14T08:59:42.227Z"
   },
   {
    "duration": 13,
    "start_time": "2022-09-14T08:59:42.279Z"
   },
   {
    "duration": 15,
    "start_time": "2022-09-14T08:59:42.294Z"
   },
   {
    "duration": 13,
    "start_time": "2022-09-14T08:59:42.311Z"
   },
   {
    "duration": 20,
    "start_time": "2022-09-14T08:59:42.325Z"
   },
   {
    "duration": 33,
    "start_time": "2022-09-14T08:59:42.347Z"
   },
   {
    "duration": 4,
    "start_time": "2022-09-14T08:59:42.382Z"
   },
   {
    "duration": 24,
    "start_time": "2022-09-14T08:59:42.388Z"
   },
   {
    "duration": 6,
    "start_time": "2022-09-14T08:59:42.413Z"
   },
   {
    "duration": 4,
    "start_time": "2022-09-14T08:59:42.420Z"
   },
   {
    "duration": 11,
    "start_time": "2022-09-14T08:59:42.426Z"
   },
   {
    "duration": 4,
    "start_time": "2022-09-14T08:59:42.438Z"
   },
   {
    "duration": 71,
    "start_time": "2022-09-14T08:59:42.444Z"
   },
   {
    "duration": 6,
    "start_time": "2022-09-14T08:59:42.516Z"
   },
   {
    "duration": 128,
    "start_time": "2022-09-14T08:59:42.523Z"
   },
   {
    "duration": 5,
    "start_time": "2022-09-14T08:59:42.652Z"
   },
   {
    "duration": 308,
    "start_time": "2022-09-14T08:59:42.658Z"
   },
   {
    "duration": 31,
    "start_time": "2022-09-14T08:59:42.969Z"
   },
   {
    "duration": 4,
    "start_time": "2022-09-14T08:59:43.001Z"
   },
   {
    "duration": 300,
    "start_time": "2022-09-14T08:59:43.007Z"
   },
   {
    "duration": 19,
    "start_time": "2022-09-14T08:59:43.308Z"
   },
   {
    "duration": 3,
    "start_time": "2022-09-14T08:59:43.329Z"
   },
   {
    "duration": 316,
    "start_time": "2022-09-14T08:59:43.334Z"
   },
   {
    "duration": 46,
    "start_time": "2022-09-14T08:59:43.653Z"
   },
   {
    "duration": 319,
    "start_time": "2022-09-14T08:59:43.701Z"
   },
   {
    "duration": 22,
    "start_time": "2022-09-14T08:59:44.022Z"
   },
   {
    "duration": 4,
    "start_time": "2022-09-14T08:59:44.045Z"
   },
   {
    "duration": 384,
    "start_time": "2022-09-14T08:59:44.050Z"
   },
   {
    "duration": 85,
    "start_time": "2022-09-14T08:59:44.436Z"
   },
   {
    "duration": 4,
    "start_time": "2022-09-14T08:59:44.523Z"
   },
   {
    "duration": 24,
    "start_time": "2022-09-14T08:59:44.528Z"
   },
   {
    "duration": 148,
    "start_time": "2022-09-14T08:59:44.554Z"
   },
   {
    "duration": 0,
    "start_time": "2022-09-14T08:59:44.703Z"
   },
   {
    "duration": 4,
    "start_time": "2022-09-14T09:00:16.979Z"
   },
   {
    "duration": 8,
    "start_time": "2022-09-14T09:00:17.579Z"
   },
   {
    "duration": 4,
    "start_time": "2022-09-14T09:00:20.395Z"
   },
   {
    "duration": 10,
    "start_time": "2022-09-14T09:00:20.819Z"
   },
   {
    "duration": 4,
    "start_time": "2022-09-14T09:00:23.932Z"
   },
   {
    "duration": 15,
    "start_time": "2022-09-14T09:00:24.389Z"
   },
   {
    "duration": 25,
    "start_time": "2022-09-14T09:00:41.064Z"
   },
   {
    "duration": 13,
    "start_time": "2022-09-14T09:00:57.361Z"
   },
   {
    "duration": 15,
    "start_time": "2022-09-14T09:01:01.467Z"
   },
   {
    "duration": 29,
    "start_time": "2022-09-14T09:01:51.615Z"
   },
   {
    "duration": 3,
    "start_time": "2022-09-14T09:02:16.731Z"
   },
   {
    "duration": 13,
    "start_time": "2022-09-14T09:02:23.611Z"
   },
   {
    "duration": 4,
    "start_time": "2022-09-14T09:02:46.422Z"
   },
   {
    "duration": 12,
    "start_time": "2022-09-14T09:02:47.215Z"
   },
   {
    "duration": 4,
    "start_time": "2022-09-14T09:02:49.599Z"
   },
   {
    "duration": 17,
    "start_time": "2022-09-14T09:02:51.911Z"
   },
   {
    "duration": 6,
    "start_time": "2022-09-14T09:03:12.292Z"
   },
   {
    "duration": 13,
    "start_time": "2022-09-14T09:03:12.751Z"
   },
   {
    "duration": 10,
    "start_time": "2022-09-14T09:03:27.619Z"
   },
   {
    "duration": 16,
    "start_time": "2022-09-14T09:03:46.223Z"
   },
   {
    "duration": 22,
    "start_time": "2022-09-14T09:04:24.588Z"
   },
   {
    "duration": 18,
    "start_time": "2022-09-14T09:04:42.446Z"
   },
   {
    "duration": 15,
    "start_time": "2022-09-14T09:04:42.745Z"
   },
   {
    "duration": 23,
    "start_time": "2022-09-14T09:05:04.385Z"
   },
   {
    "duration": 13,
    "start_time": "2022-09-14T09:05:04.847Z"
   },
   {
    "duration": 19,
    "start_time": "2022-09-14T09:07:00.208Z"
   },
   {
    "duration": 19,
    "start_time": "2022-09-14T09:08:20.826Z"
   },
   {
    "duration": 12,
    "start_time": "2022-09-14T09:08:21.962Z"
   },
   {
    "duration": 20,
    "start_time": "2022-09-14T09:09:00.216Z"
   },
   {
    "duration": 17,
    "start_time": "2022-09-14T09:09:01.224Z"
   },
   {
    "duration": 24,
    "start_time": "2022-09-14T09:09:47.021Z"
   },
   {
    "duration": 18,
    "start_time": "2022-09-14T09:09:48.781Z"
   },
   {
    "duration": 22,
    "start_time": "2022-09-14T09:12:24.857Z"
   },
   {
    "duration": 24,
    "start_time": "2022-09-14T09:12:25.482Z"
   },
   {
    "duration": 10,
    "start_time": "2022-09-14T09:13:06.774Z"
   },
   {
    "duration": 8,
    "start_time": "2022-09-14T09:13:23.664Z"
   },
   {
    "duration": 7,
    "start_time": "2022-09-14T09:13:26.748Z"
   },
   {
    "duration": 9,
    "start_time": "2022-09-14T09:14:57.508Z"
   },
   {
    "duration": 1297,
    "start_time": "2022-09-14T09:14:59.188Z"
   },
   {
    "duration": 12,
    "start_time": "2022-09-14T09:15:10.990Z"
   },
   {
    "duration": 16,
    "start_time": "2022-09-14T09:15:11.630Z"
   },
   {
    "duration": 10,
    "start_time": "2022-09-14T09:15:17.800Z"
   },
   {
    "duration": 7,
    "start_time": "2022-09-14T09:15:18.358Z"
   },
   {
    "duration": 9,
    "start_time": "2022-09-14T09:15:22.166Z"
   },
   {
    "duration": 8,
    "start_time": "2022-09-14T09:15:32.048Z"
   },
   {
    "duration": 8,
    "start_time": "2022-09-14T09:15:32.856Z"
   },
   {
    "duration": 11,
    "start_time": "2022-09-14T09:18:35.023Z"
   },
   {
    "duration": 8,
    "start_time": "2022-09-14T09:18:41.650Z"
   },
   {
    "duration": 10,
    "start_time": "2022-09-14T09:18:47.033Z"
   },
   {
    "duration": 8,
    "start_time": "2022-09-14T09:19:14.372Z"
   },
   {
    "duration": 19,
    "start_time": "2022-09-14T09:19:15.182Z"
   },
   {
    "duration": 10,
    "start_time": "2022-09-14T09:19:51.794Z"
   },
   {
    "duration": 21,
    "start_time": "2022-09-14T09:19:52.498Z"
   },
   {
    "duration": 19,
    "start_time": "2022-09-14T09:19:52.786Z"
   },
   {
    "duration": 10,
    "start_time": "2022-09-14T09:20:01.722Z"
   },
   {
    "duration": 14,
    "start_time": "2022-09-14T09:20:03.745Z"
   },
   {
    "duration": 8,
    "start_time": "2022-09-14T09:20:09.859Z"
   },
   {
    "duration": 14,
    "start_time": "2022-09-14T09:20:10.355Z"
   },
   {
    "duration": 11,
    "start_time": "2022-09-14T09:20:16.133Z"
   },
   {
    "duration": 11,
    "start_time": "2022-09-14T09:20:17.493Z"
   },
   {
    "duration": 7,
    "start_time": "2022-09-14T09:20:22.006Z"
   },
   {
    "duration": 10,
    "start_time": "2022-09-14T09:20:22.294Z"
   },
   {
    "duration": 9,
    "start_time": "2022-09-14T09:20:25.583Z"
   },
   {
    "duration": 12,
    "start_time": "2022-09-14T09:20:26.247Z"
   },
   {
    "duration": 7,
    "start_time": "2022-09-14T09:24:29.301Z"
   },
   {
    "duration": 555,
    "start_time": "2022-09-14T09:24:29.549Z"
   },
   {
    "duration": 10,
    "start_time": "2022-09-14T09:24:39.374Z"
   },
   {
    "duration": 8,
    "start_time": "2022-09-14T09:24:40.054Z"
   },
   {
    "duration": 8,
    "start_time": "2022-09-14T09:24:58.274Z"
   },
   {
    "duration": 9,
    "start_time": "2022-09-14T09:24:58.808Z"
   },
   {
    "duration": 7,
    "start_time": "2022-09-14T09:25:17.315Z"
   },
   {
    "duration": 6,
    "start_time": "2022-09-14T09:25:18.115Z"
   },
   {
    "duration": 10,
    "start_time": "2022-09-14T09:25:25.277Z"
   },
   {
    "duration": 5,
    "start_time": "2022-09-14T09:25:26.228Z"
   },
   {
    "duration": 8,
    "start_time": "2022-09-14T09:25:38.102Z"
   },
   {
    "duration": 9,
    "start_time": "2022-09-14T09:25:39.359Z"
   },
   {
    "duration": 7,
    "start_time": "2022-09-14T09:25:58.193Z"
   },
   {
    "duration": 78,
    "start_time": "2022-09-14T09:31:30.516Z"
   },
   {
    "duration": 5,
    "start_time": "2022-09-14T09:31:36.548Z"
   },
   {
    "duration": 16,
    "start_time": "2022-09-14T09:33:33.371Z"
   },
   {
    "duration": 19,
    "start_time": "2022-09-14T09:33:46.758Z"
   },
   {
    "duration": 18,
    "start_time": "2022-09-14T09:34:20.569Z"
   },
   {
    "duration": 7,
    "start_time": "2022-09-14T09:35:22.849Z"
   },
   {
    "duration": 14,
    "start_time": "2022-09-14T09:35:31.090Z"
   },
   {
    "duration": 6,
    "start_time": "2022-09-14T09:36:01.248Z"
   },
   {
    "duration": 12,
    "start_time": "2022-09-14T09:43:13.068Z"
   },
   {
    "duration": 87,
    "start_time": "2022-09-14T09:43:15.428Z"
   },
   {
    "duration": 12,
    "start_time": "2022-09-14T09:43:16.285Z"
   },
   {
    "duration": 7,
    "start_time": "2022-09-14T09:43:34.984Z"
   },
   {
    "duration": 6,
    "start_time": "2022-09-14T09:43:37.221Z"
   },
   {
    "duration": 3,
    "start_time": "2022-09-14T09:43:37.807Z"
   },
   {
    "duration": 24,
    "start_time": "2022-09-14T09:43:57.666Z"
   },
   {
    "duration": 4,
    "start_time": "2022-09-14T09:44:19.270Z"
   },
   {
    "duration": 140,
    "start_time": "2022-09-14T09:44:47.889Z"
   },
   {
    "duration": 98,
    "start_time": "2022-09-14T09:44:53.450Z"
   },
   {
    "duration": 34,
    "start_time": "2022-09-14T09:44:58.547Z"
   },
   {
    "duration": 36,
    "start_time": "2022-09-14T09:50:31.493Z"
   },
   {
    "duration": 8,
    "start_time": "2022-09-14T09:50:45.285Z"
   },
   {
    "duration": 4,
    "start_time": "2022-09-14T09:50:45.840Z"
   },
   {
    "duration": 37,
    "start_time": "2022-09-14T09:50:46.784Z"
   },
   {
    "duration": 39,
    "start_time": "2022-09-14T09:51:01.993Z"
   },
   {
    "duration": 86,
    "start_time": "2022-09-14T10:19:07.214Z"
   },
   {
    "duration": 76,
    "start_time": "2022-09-14T10:19:58.103Z"
   },
   {
    "duration": 395,
    "start_time": "2022-09-14T10:20:06.361Z"
   },
   {
    "duration": 608,
    "start_time": "2022-09-14T10:20:16.346Z"
   },
   {
    "duration": 675,
    "start_time": "2022-09-14T10:20:25.085Z"
   },
   {
    "duration": 5,
    "start_time": "2022-09-14T10:20:33.892Z"
   },
   {
    "duration": 98,
    "start_time": "2022-09-14T10:20:37.694Z"
   },
   {
    "duration": 97,
    "start_time": "2022-09-14T10:20:42.516Z"
   },
   {
    "duration": 70,
    "start_time": "2022-09-14T10:20:52.681Z"
   },
   {
    "duration": 7,
    "start_time": "2022-09-14T10:21:32.075Z"
   },
   {
    "duration": 71,
    "start_time": "2022-09-14T10:21:33.269Z"
   },
   {
    "duration": 457,
    "start_time": "2022-09-14T10:22:21.954Z"
   },
   {
    "duration": 0,
    "start_time": "2022-09-14T10:22:22.413Z"
   },
   {
    "duration": 6,
    "start_time": "2022-09-14T10:22:26.116Z"
   },
   {
    "duration": 322,
    "start_time": "2022-09-14T10:22:26.842Z"
   },
   {
    "duration": 301,
    "start_time": "2022-09-14T10:22:31.268Z"
   },
   {
    "duration": 319,
    "start_time": "2022-09-14T10:22:49.583Z"
   },
   {
    "duration": 1479,
    "start_time": "2022-09-14T10:23:05.801Z"
   },
   {
    "duration": 27,
    "start_time": "2022-09-14T10:23:07.282Z"
   },
   {
    "duration": 14,
    "start_time": "2022-09-14T10:23:07.310Z"
   },
   {
    "duration": 9,
    "start_time": "2022-09-14T10:23:07.325Z"
   },
   {
    "duration": 47,
    "start_time": "2022-09-14T10:23:07.335Z"
   },
   {
    "duration": 4,
    "start_time": "2022-09-14T10:23:07.384Z"
   },
   {
    "duration": 15,
    "start_time": "2022-09-14T10:23:07.389Z"
   },
   {
    "duration": 7,
    "start_time": "2022-09-14T10:23:07.406Z"
   },
   {
    "duration": 10,
    "start_time": "2022-09-14T10:23:07.414Z"
   },
   {
    "duration": 8,
    "start_time": "2022-09-14T10:23:07.426Z"
   },
   {
    "duration": 50,
    "start_time": "2022-09-14T10:23:07.436Z"
   },
   {
    "duration": 9,
    "start_time": "2022-09-14T10:23:07.487Z"
   },
   {
    "duration": 11,
    "start_time": "2022-09-14T10:23:07.497Z"
   },
   {
    "duration": 12,
    "start_time": "2022-09-14T10:23:07.509Z"
   },
   {
    "duration": 17,
    "start_time": "2022-09-14T10:23:07.523Z"
   },
   {
    "duration": 36,
    "start_time": "2022-09-14T10:23:07.542Z"
   },
   {
    "duration": 4,
    "start_time": "2022-09-14T10:23:07.580Z"
   },
   {
    "duration": 15,
    "start_time": "2022-09-14T10:23:07.585Z"
   },
   {
    "duration": 5,
    "start_time": "2022-09-14T10:23:07.601Z"
   },
   {
    "duration": 7,
    "start_time": "2022-09-14T10:23:07.607Z"
   },
   {
    "duration": 11,
    "start_time": "2022-09-14T10:23:07.615Z"
   },
   {
    "duration": 10,
    "start_time": "2022-09-14T10:23:07.627Z"
   },
   {
    "duration": 68,
    "start_time": "2022-09-14T10:23:07.640Z"
   },
   {
    "duration": 6,
    "start_time": "2022-09-14T10:23:07.710Z"
   },
   {
    "duration": 119,
    "start_time": "2022-09-14T10:23:07.717Z"
   },
   {
    "duration": 4,
    "start_time": "2022-09-14T10:23:07.838Z"
   },
   {
    "duration": 285,
    "start_time": "2022-09-14T10:23:07.844Z"
   },
   {
    "duration": 21,
    "start_time": "2022-09-14T10:23:08.134Z"
   },
   {
    "duration": 4,
    "start_time": "2022-09-14T10:23:08.156Z"
   },
   {
    "duration": 289,
    "start_time": "2022-09-14T10:23:08.176Z"
   },
   {
    "duration": 26,
    "start_time": "2022-09-14T10:23:08.466Z"
   },
   {
    "duration": 4,
    "start_time": "2022-09-14T10:23:08.493Z"
   },
   {
    "duration": 263,
    "start_time": "2022-09-14T10:23:08.499Z"
   },
   {
    "duration": 26,
    "start_time": "2022-09-14T10:23:08.763Z"
   },
   {
    "duration": 286,
    "start_time": "2022-09-14T10:23:08.790Z"
   },
   {
    "duration": 20,
    "start_time": "2022-09-14T10:23:09.078Z"
   },
   {
    "duration": 3,
    "start_time": "2022-09-14T10:23:09.099Z"
   },
   {
    "duration": 383,
    "start_time": "2022-09-14T10:23:09.104Z"
   },
   {
    "duration": 78,
    "start_time": "2022-09-14T10:23:09.489Z"
   },
   {
    "duration": 7,
    "start_time": "2022-09-14T10:23:09.569Z"
   },
   {
    "duration": 328,
    "start_time": "2022-09-14T10:23:09.577Z"
   },
   {
    "duration": 15,
    "start_time": "2022-09-14T10:23:09.906Z"
   },
   {
    "duration": 8,
    "start_time": "2022-09-14T10:23:50.126Z"
   },
   {
    "duration": 307,
    "start_time": "2022-09-14T10:23:50.703Z"
   },
   {
    "duration": 143,
    "start_time": "2022-09-14T10:24:01.440Z"
   },
   {
    "duration": 117,
    "start_time": "2022-09-14T10:24:20.851Z"
   },
   {
    "duration": 305,
    "start_time": "2022-09-14T10:24:21.482Z"
   },
   {
    "duration": 341,
    "start_time": "2022-09-14T10:24:44.662Z"
   },
   {
    "duration": 17,
    "start_time": "2022-09-14T10:24:45.005Z"
   },
   {
    "duration": 324,
    "start_time": "2022-09-14T10:25:28.021Z"
   },
   {
    "duration": 131,
    "start_time": "2022-09-14T10:25:37.803Z"
   },
   {
    "duration": 95,
    "start_time": "2022-09-14T10:25:41.012Z"
   },
   {
    "duration": 6,
    "start_time": "2022-09-14T10:25:51.318Z"
   },
   {
    "duration": 315,
    "start_time": "2022-09-14T10:25:52.407Z"
   },
   {
    "duration": 328,
    "start_time": "2022-09-14T10:26:00.952Z"
   },
   {
    "duration": 6,
    "start_time": "2022-09-14T10:26:19.016Z"
   },
   {
    "duration": 320,
    "start_time": "2022-09-14T10:26:19.777Z"
   },
   {
    "duration": 6,
    "start_time": "2022-09-14T10:27:11.280Z"
   },
   {
    "duration": 336,
    "start_time": "2022-09-14T10:27:12.008Z"
   },
   {
    "duration": 6,
    "start_time": "2022-09-14T10:27:48.500Z"
   },
   {
    "duration": 329,
    "start_time": "2022-09-14T10:27:49.095Z"
   },
   {
    "duration": 6,
    "start_time": "2022-09-14T10:29:33.818Z"
   },
   {
    "duration": 169,
    "start_time": "2022-09-14T10:29:34.715Z"
   },
   {
    "duration": 10,
    "start_time": "2022-09-14T10:29:39.778Z"
   },
   {
    "duration": 78,
    "start_time": "2022-09-14T10:29:40.252Z"
   },
   {
    "duration": 6,
    "start_time": "2022-09-14T10:29:44.978Z"
   },
   {
    "duration": 94,
    "start_time": "2022-09-14T10:29:45.483Z"
   },
   {
    "duration": 9,
    "start_time": "2022-09-14T10:29:53.172Z"
   },
   {
    "duration": 335,
    "start_time": "2022-09-14T10:29:53.636Z"
   },
   {
    "duration": 20,
    "start_time": "2022-09-14T10:30:55.213Z"
   },
   {
    "duration": 309,
    "start_time": "2022-09-14T10:30:56.124Z"
   },
   {
    "duration": 16,
    "start_time": "2022-09-14T10:31:07.701Z"
   },
   {
    "duration": 332,
    "start_time": "2022-09-14T10:31:08.374Z"
   },
   {
    "duration": 15,
    "start_time": "2022-09-14T10:31:21.761Z"
   },
   {
    "duration": 26,
    "start_time": "2022-09-14T10:31:22.473Z"
   },
   {
    "duration": 20,
    "start_time": "2022-09-14T10:31:46.395Z"
   },
   {
    "duration": 341,
    "start_time": "2022-09-14T10:31:46.700Z"
   },
   {
    "duration": 17,
    "start_time": "2022-09-14T10:32:51.412Z"
   },
   {
    "duration": 346,
    "start_time": "2022-09-14T10:32:51.988Z"
   },
   {
    "duration": 19,
    "start_time": "2022-09-14T10:33:03.395Z"
   },
   {
    "duration": 321,
    "start_time": "2022-09-14T10:33:03.997Z"
   },
   {
    "duration": 18,
    "start_time": "2022-09-14T10:41:48.583Z"
   },
   {
    "duration": 311,
    "start_time": "2022-09-14T10:41:49.033Z"
   },
   {
    "duration": 18,
    "start_time": "2022-09-14T10:43:05.098Z"
   },
   {
    "duration": 312,
    "start_time": "2022-09-14T10:43:05.507Z"
   },
   {
    "duration": 1804,
    "start_time": "2022-09-15T09:38:12.569Z"
   },
   {
    "duration": 35,
    "start_time": "2022-09-15T09:38:14.375Z"
   },
   {
    "duration": 19,
    "start_time": "2022-09-15T09:38:14.412Z"
   },
   {
    "duration": 25,
    "start_time": "2022-09-15T09:38:14.434Z"
   },
   {
    "duration": 52,
    "start_time": "2022-09-15T09:38:14.461Z"
   },
   {
    "duration": 4,
    "start_time": "2022-09-15T09:38:14.515Z"
   },
   {
    "duration": 26,
    "start_time": "2022-09-15T09:38:14.520Z"
   },
   {
    "duration": 33,
    "start_time": "2022-09-15T09:38:14.548Z"
   },
   {
    "duration": 34,
    "start_time": "2022-09-15T09:38:14.582Z"
   },
   {
    "duration": 12,
    "start_time": "2022-09-15T09:38:14.618Z"
   },
   {
    "duration": 52,
    "start_time": "2022-09-15T09:38:14.632Z"
   },
   {
    "duration": 8,
    "start_time": "2022-09-15T09:38:14.685Z"
   },
   {
    "duration": 5,
    "start_time": "2022-09-15T09:38:14.694Z"
   },
   {
    "duration": 11,
    "start_time": "2022-09-15T09:38:14.700Z"
   },
   {
    "duration": 18,
    "start_time": "2022-09-15T09:38:14.713Z"
   },
   {
    "duration": 14,
    "start_time": "2022-09-15T09:38:14.733Z"
   },
   {
    "duration": 9,
    "start_time": "2022-09-15T09:38:14.748Z"
   },
   {
    "duration": 12,
    "start_time": "2022-09-15T09:38:14.758Z"
   },
   {
    "duration": 23,
    "start_time": "2022-09-15T09:38:14.772Z"
   },
   {
    "duration": 19,
    "start_time": "2022-09-15T09:38:14.796Z"
   },
   {
    "duration": 27,
    "start_time": "2022-09-15T09:38:14.816Z"
   },
   {
    "duration": 19,
    "start_time": "2022-09-15T09:38:14.845Z"
   },
   {
    "duration": 49,
    "start_time": "2022-09-15T09:38:14.865Z"
   },
   {
    "duration": 5,
    "start_time": "2022-09-15T09:38:14.916Z"
   },
   {
    "duration": 107,
    "start_time": "2022-09-15T09:38:14.922Z"
   },
   {
    "duration": 4,
    "start_time": "2022-09-15T09:38:15.030Z"
   },
   {
    "duration": 259,
    "start_time": "2022-09-15T09:38:15.035Z"
   },
   {
    "duration": 20,
    "start_time": "2022-09-15T09:38:15.300Z"
   },
   {
    "duration": 5,
    "start_time": "2022-09-15T09:38:15.322Z"
   },
   {
    "duration": 276,
    "start_time": "2022-09-15T09:38:15.328Z"
   },
   {
    "duration": 21,
    "start_time": "2022-09-15T09:38:15.605Z"
   },
   {
    "duration": 3,
    "start_time": "2022-09-15T09:38:15.627Z"
   },
   {
    "duration": 274,
    "start_time": "2022-09-15T09:38:15.632Z"
   },
   {
    "duration": 22,
    "start_time": "2022-09-15T09:38:15.908Z"
   },
   {
    "duration": 289,
    "start_time": "2022-09-15T09:38:15.932Z"
   },
   {
    "duration": 18,
    "start_time": "2022-09-15T09:38:16.223Z"
   },
   {
    "duration": 3,
    "start_time": "2022-09-15T09:38:16.242Z"
   },
   {
    "duration": 355,
    "start_time": "2022-09-15T09:38:16.246Z"
   },
   {
    "duration": 73,
    "start_time": "2022-09-15T09:38:16.602Z"
   },
   {
    "duration": 15,
    "start_time": "2022-09-15T09:38:16.677Z"
   },
   {
    "duration": 176,
    "start_time": "2022-09-15T09:38:16.694Z"
   },
   {
    "duration": 61,
    "start_time": "2022-09-15T10:21:48.431Z"
   },
   {
    "duration": 1722,
    "start_time": "2022-09-15T10:21:58.818Z"
   },
   {
    "duration": 98,
    "start_time": "2022-09-15T10:22:10.768Z"
   },
   {
    "duration": 1459,
    "start_time": "2022-09-15T10:22:19.691Z"
   },
   {
    "duration": 33,
    "start_time": "2022-09-15T10:22:21.152Z"
   },
   {
    "duration": 16,
    "start_time": "2022-09-15T10:22:21.187Z"
   },
   {
    "duration": 10,
    "start_time": "2022-09-15T10:22:21.206Z"
   },
   {
    "duration": 32,
    "start_time": "2022-09-15T10:22:21.217Z"
   },
   {
    "duration": 3,
    "start_time": "2022-09-15T10:22:21.251Z"
   },
   {
    "duration": 43,
    "start_time": "2022-09-15T10:22:21.256Z"
   },
   {
    "duration": 6,
    "start_time": "2022-09-15T10:22:21.300Z"
   },
   {
    "duration": 8,
    "start_time": "2022-09-15T10:22:21.307Z"
   },
   {
    "duration": 5,
    "start_time": "2022-09-15T10:22:21.318Z"
   },
   {
    "duration": 39,
    "start_time": "2022-09-15T10:22:21.325Z"
   },
   {
    "duration": 16,
    "start_time": "2022-09-15T10:22:21.366Z"
   },
   {
    "duration": 10,
    "start_time": "2022-09-15T10:22:21.386Z"
   },
   {
    "duration": 13,
    "start_time": "2022-09-15T10:22:21.398Z"
   },
   {
    "duration": 21,
    "start_time": "2022-09-15T10:22:21.413Z"
   },
   {
    "duration": 17,
    "start_time": "2022-09-15T10:22:21.435Z"
   },
   {
    "duration": 3,
    "start_time": "2022-09-15T10:22:21.454Z"
   },
   {
    "duration": 32,
    "start_time": "2022-09-15T10:22:21.459Z"
   },
   {
    "duration": 9,
    "start_time": "2022-09-15T10:22:21.493Z"
   },
   {
    "duration": 4,
    "start_time": "2022-09-15T10:22:21.503Z"
   },
   {
    "duration": 11,
    "start_time": "2022-09-15T10:22:21.508Z"
   },
   {
    "duration": 6,
    "start_time": "2022-09-15T10:22:21.520Z"
   },
   {
    "duration": 72,
    "start_time": "2022-09-15T10:22:21.528Z"
   },
   {
    "duration": 6,
    "start_time": "2022-09-15T10:22:21.602Z"
   },
   {
    "duration": 124,
    "start_time": "2022-09-15T10:22:21.609Z"
   },
   {
    "duration": 5,
    "start_time": "2022-09-15T10:22:21.735Z"
   },
   {
    "duration": 297,
    "start_time": "2022-09-15T10:22:21.741Z"
   },
   {
    "duration": 19,
    "start_time": "2022-09-15T10:22:22.041Z"
   },
   {
    "duration": 20,
    "start_time": "2022-09-15T10:22:22.062Z"
   },
   {
    "duration": 278,
    "start_time": "2022-09-15T10:22:22.091Z"
   },
   {
    "duration": 24,
    "start_time": "2022-09-15T10:22:22.379Z"
   },
   {
    "duration": 12,
    "start_time": "2022-09-15T10:22:22.405Z"
   },
   {
    "duration": 301,
    "start_time": "2022-09-15T10:22:22.419Z"
   },
   {
    "duration": 26,
    "start_time": "2022-09-15T10:22:22.722Z"
   },
   {
    "duration": 302,
    "start_time": "2022-09-15T10:22:22.750Z"
   },
   {
    "duration": 40,
    "start_time": "2022-09-15T10:22:23.054Z"
   },
   {
    "duration": 4,
    "start_time": "2022-09-15T10:22:23.095Z"
   },
   {
    "duration": 358,
    "start_time": "2022-09-15T10:22:23.100Z"
   },
   {
    "duration": 78,
    "start_time": "2022-09-15T10:22:23.460Z"
   },
   {
    "duration": 15,
    "start_time": "2022-09-15T10:22:23.540Z"
   },
   {
    "duration": 181,
    "start_time": "2022-09-15T10:22:23.557Z"
   },
   {
    "duration": 17,
    "start_time": "2022-09-15T10:22:33.266Z"
   },
   {
    "duration": 313,
    "start_time": "2022-09-15T10:22:36.692Z"
   },
   {
    "duration": 1466,
    "start_time": "2022-09-15T10:23:08.688Z"
   },
   {
    "duration": 30,
    "start_time": "2022-09-15T10:23:10.156Z"
   },
   {
    "duration": 19,
    "start_time": "2022-09-15T10:23:10.188Z"
   },
   {
    "duration": 12,
    "start_time": "2022-09-15T10:23:10.209Z"
   },
   {
    "duration": 31,
    "start_time": "2022-09-15T10:23:10.223Z"
   },
   {
    "duration": 34,
    "start_time": "2022-09-15T10:23:10.256Z"
   },
   {
    "duration": 10,
    "start_time": "2022-09-15T10:23:10.296Z"
   },
   {
    "duration": 6,
    "start_time": "2022-09-15T10:23:10.307Z"
   },
   {
    "duration": 8,
    "start_time": "2022-09-15T10:23:10.315Z"
   },
   {
    "duration": 5,
    "start_time": "2022-09-15T10:23:10.324Z"
   },
   {
    "duration": 50,
    "start_time": "2022-09-15T10:23:10.330Z"
   },
   {
    "duration": 13,
    "start_time": "2022-09-15T10:23:10.382Z"
   },
   {
    "duration": 6,
    "start_time": "2022-09-15T10:23:10.396Z"
   },
   {
    "duration": 14,
    "start_time": "2022-09-15T10:23:10.404Z"
   },
   {
    "duration": 19,
    "start_time": "2022-09-15T10:23:10.420Z"
   },
   {
    "duration": 16,
    "start_time": "2022-09-15T10:23:10.440Z"
   },
   {
    "duration": 26,
    "start_time": "2022-09-15T10:23:10.457Z"
   },
   {
    "duration": 24,
    "start_time": "2022-09-15T10:23:10.487Z"
   },
   {
    "duration": 6,
    "start_time": "2022-09-15T10:23:10.512Z"
   },
   {
    "duration": 5,
    "start_time": "2022-09-15T10:23:10.519Z"
   },
   {
    "duration": 10,
    "start_time": "2022-09-15T10:23:10.525Z"
   },
   {
    "duration": 6,
    "start_time": "2022-09-15T10:23:10.536Z"
   },
   {
    "duration": 67,
    "start_time": "2022-09-15T10:23:10.544Z"
   },
   {
    "duration": 6,
    "start_time": "2022-09-15T10:23:10.612Z"
   },
   {
    "duration": 116,
    "start_time": "2022-09-15T10:23:10.619Z"
   },
   {
    "duration": 4,
    "start_time": "2022-09-15T10:23:10.737Z"
   },
   {
    "duration": 279,
    "start_time": "2022-09-15T10:23:10.742Z"
   },
   {
    "duration": 19,
    "start_time": "2022-09-15T10:23:11.023Z"
   },
   {
    "duration": 3,
    "start_time": "2022-09-15T10:23:11.044Z"
   },
   {
    "duration": 319,
    "start_time": "2022-09-15T10:23:11.049Z"
   },
   {
    "duration": 25,
    "start_time": "2022-09-15T10:23:11.370Z"
   },
   {
    "duration": 6,
    "start_time": "2022-09-15T10:23:11.396Z"
   },
   {
    "duration": 289,
    "start_time": "2022-09-15T10:23:11.403Z"
   },
   {
    "duration": 19,
    "start_time": "2022-09-15T10:23:11.695Z"
   },
   {
    "duration": 280,
    "start_time": "2022-09-15T10:23:11.716Z"
   },
   {
    "duration": 19,
    "start_time": "2022-09-15T10:23:11.997Z"
   },
   {
    "duration": 4,
    "start_time": "2022-09-15T10:23:12.017Z"
   },
   {
    "duration": 386,
    "start_time": "2022-09-15T10:23:12.022Z"
   },
   {
    "duration": 80,
    "start_time": "2022-09-15T10:23:12.410Z"
   },
   {
    "duration": 15,
    "start_time": "2022-09-15T10:23:12.492Z"
   },
   {
    "duration": 189,
    "start_time": "2022-09-15T10:23:12.510Z"
   },
   {
    "duration": 78,
    "start_time": "2022-09-15T10:23:26.318Z"
   },
   {
    "duration": 15,
    "start_time": "2022-09-15T10:23:28.941Z"
   },
   {
    "duration": 330,
    "start_time": "2022-09-15T10:23:29.893Z"
   },
   {
    "duration": 1458,
    "start_time": "2022-09-15T10:23:40.745Z"
   },
   {
    "duration": 27,
    "start_time": "2022-09-15T10:23:42.205Z"
   },
   {
    "duration": 18,
    "start_time": "2022-09-15T10:23:42.234Z"
   },
   {
    "duration": 8,
    "start_time": "2022-09-15T10:23:42.254Z"
   },
   {
    "duration": 39,
    "start_time": "2022-09-15T10:23:42.277Z"
   },
   {
    "duration": 5,
    "start_time": "2022-09-15T10:23:42.317Z"
   },
   {
    "duration": 12,
    "start_time": "2022-09-15T10:23:42.323Z"
   },
   {
    "duration": 6,
    "start_time": "2022-09-15T10:23:42.337Z"
   },
   {
    "duration": 8,
    "start_time": "2022-09-15T10:23:42.344Z"
   },
   {
    "duration": 29,
    "start_time": "2022-09-15T10:23:42.355Z"
   },
   {
    "duration": 39,
    "start_time": "2022-09-15T10:23:42.390Z"
   },
   {
    "duration": 8,
    "start_time": "2022-09-15T10:23:42.431Z"
   },
   {
    "duration": 4,
    "start_time": "2022-09-15T10:23:42.441Z"
   },
   {
    "duration": 12,
    "start_time": "2022-09-15T10:23:42.446Z"
   },
   {
    "duration": 35,
    "start_time": "2022-09-15T10:23:42.459Z"
   },
   {
    "duration": 15,
    "start_time": "2022-09-15T10:23:42.496Z"
   },
   {
    "duration": 4,
    "start_time": "2022-09-15T10:23:42.514Z"
   },
   {
    "duration": 15,
    "start_time": "2022-09-15T10:23:42.520Z"
   },
   {
    "duration": 6,
    "start_time": "2022-09-15T10:23:42.537Z"
   },
   {
    "duration": 4,
    "start_time": "2022-09-15T10:23:42.544Z"
   },
   {
    "duration": 28,
    "start_time": "2022-09-15T10:23:42.550Z"
   },
   {
    "duration": 5,
    "start_time": "2022-09-15T10:23:42.580Z"
   },
   {
    "duration": 72,
    "start_time": "2022-09-15T10:23:42.594Z"
   },
   {
    "duration": 6,
    "start_time": "2022-09-15T10:23:42.668Z"
   },
   {
    "duration": 143,
    "start_time": "2022-09-15T10:23:42.676Z"
   },
   {
    "duration": 5,
    "start_time": "2022-09-15T10:23:42.822Z"
   },
   {
    "duration": 276,
    "start_time": "2022-09-15T10:23:42.828Z"
   },
   {
    "duration": 21,
    "start_time": "2022-09-15T10:23:43.106Z"
   },
   {
    "duration": 6,
    "start_time": "2022-09-15T10:23:43.128Z"
   },
   {
    "duration": 341,
    "start_time": "2022-09-15T10:23:43.136Z"
   },
   {
    "duration": 30,
    "start_time": "2022-09-15T10:23:43.478Z"
   },
   {
    "duration": 3,
    "start_time": "2022-09-15T10:23:43.509Z"
   },
   {
    "duration": 279,
    "start_time": "2022-09-15T10:23:43.514Z"
   },
   {
    "duration": 22,
    "start_time": "2022-09-15T10:23:43.794Z"
   },
   {
    "duration": 274,
    "start_time": "2022-09-15T10:23:43.817Z"
   },
   {
    "duration": 19,
    "start_time": "2022-09-15T10:23:44.093Z"
   },
   {
    "duration": 3,
    "start_time": "2022-09-15T10:23:44.114Z"
   },
   {
    "duration": 347,
    "start_time": "2022-09-15T10:23:44.119Z"
   },
   {
    "duration": 90,
    "start_time": "2022-09-15T10:23:44.477Z"
   },
   {
    "duration": 17,
    "start_time": "2022-09-15T10:23:44.570Z"
   },
   {
    "duration": 175,
    "start_time": "2022-09-15T10:23:44.588Z"
   },
   {
    "duration": 4,
    "start_time": "2022-09-15T10:25:10.455Z"
   },
   {
    "duration": 111,
    "start_time": "2022-09-15T10:25:13.755Z"
   },
   {
    "duration": 1502,
    "start_time": "2022-09-15T10:25:32.174Z"
   },
   {
    "duration": 29,
    "start_time": "2022-09-15T10:25:33.682Z"
   },
   {
    "duration": 13,
    "start_time": "2022-09-15T10:25:33.712Z"
   },
   {
    "duration": 8,
    "start_time": "2022-09-15T10:25:33.727Z"
   },
   {
    "duration": 42,
    "start_time": "2022-09-15T10:25:33.736Z"
   },
   {
    "duration": 6,
    "start_time": "2022-09-15T10:25:33.782Z"
   },
   {
    "duration": 15,
    "start_time": "2022-09-15T10:25:33.790Z"
   },
   {
    "duration": 5,
    "start_time": "2022-09-15T10:25:33.807Z"
   },
   {
    "duration": 9,
    "start_time": "2022-09-15T10:25:33.813Z"
   },
   {
    "duration": 4,
    "start_time": "2022-09-15T10:25:33.825Z"
   },
   {
    "duration": 55,
    "start_time": "2022-09-15T10:25:33.830Z"
   },
   {
    "duration": 9,
    "start_time": "2022-09-15T10:25:33.893Z"
   },
   {
    "duration": 7,
    "start_time": "2022-09-15T10:25:33.904Z"
   },
   {
    "duration": 17,
    "start_time": "2022-09-15T10:25:33.912Z"
   },
   {
    "duration": 21,
    "start_time": "2022-09-15T10:25:33.931Z"
   },
   {
    "duration": 27,
    "start_time": "2022-09-15T10:25:33.953Z"
   },
   {
    "duration": 5,
    "start_time": "2022-09-15T10:25:33.982Z"
   },
   {
    "duration": 16,
    "start_time": "2022-09-15T10:25:33.990Z"
   },
   {
    "duration": 8,
    "start_time": "2022-09-15T10:25:34.007Z"
   },
   {
    "duration": 4,
    "start_time": "2022-09-15T10:25:34.017Z"
   },
   {
    "duration": 13,
    "start_time": "2022-09-15T10:25:34.023Z"
   },
   {
    "duration": 6,
    "start_time": "2022-09-15T10:25:34.037Z"
   },
   {
    "duration": 78,
    "start_time": "2022-09-15T10:25:34.044Z"
   },
   {
    "duration": 6,
    "start_time": "2022-09-15T10:25:34.124Z"
   },
   {
    "duration": 113,
    "start_time": "2022-09-15T10:25:34.132Z"
   },
   {
    "duration": 4,
    "start_time": "2022-09-15T10:25:34.247Z"
   },
   {
    "duration": 275,
    "start_time": "2022-09-15T10:25:34.252Z"
   },
   {
    "duration": 20,
    "start_time": "2022-09-15T10:25:34.530Z"
   },
   {
    "duration": 3,
    "start_time": "2022-09-15T10:25:34.551Z"
   },
   {
    "duration": 342,
    "start_time": "2022-09-15T10:25:34.556Z"
   },
   {
    "duration": 18,
    "start_time": "2022-09-15T10:25:34.900Z"
   },
   {
    "duration": 3,
    "start_time": "2022-09-15T10:25:34.920Z"
   },
   {
    "duration": 281,
    "start_time": "2022-09-15T10:25:34.924Z"
   },
   {
    "duration": 19,
    "start_time": "2022-09-15T10:25:35.207Z"
   },
   {
    "duration": 282,
    "start_time": "2022-09-15T10:25:35.227Z"
   },
   {
    "duration": 20,
    "start_time": "2022-09-15T10:25:35.510Z"
   },
   {
    "duration": 4,
    "start_time": "2022-09-15T10:25:35.531Z"
   },
   {
    "duration": 370,
    "start_time": "2022-09-15T10:25:35.537Z"
   },
   {
    "duration": 86,
    "start_time": "2022-09-15T10:25:35.908Z"
   },
   {
    "duration": 19,
    "start_time": "2022-09-15T10:25:35.997Z"
   },
   {
    "duration": 176,
    "start_time": "2022-09-15T10:25:36.017Z"
   },
   {
    "duration": 19,
    "start_time": "2022-09-15T10:25:47.736Z"
   },
   {
    "duration": 340,
    "start_time": "2022-09-15T10:25:48.625Z"
   },
   {
    "duration": 20,
    "start_time": "2022-09-15T10:27:48.731Z"
   },
   {
    "duration": 324,
    "start_time": "2022-09-15T10:27:49.392Z"
   },
   {
    "duration": 1357,
    "start_time": "2022-09-15T10:27:54.642Z"
   },
   {
    "duration": 27,
    "start_time": "2022-09-15T10:27:56.001Z"
   },
   {
    "duration": 15,
    "start_time": "2022-09-15T10:27:56.030Z"
   },
   {
    "duration": 9,
    "start_time": "2022-09-15T10:27:56.048Z"
   },
   {
    "duration": 63,
    "start_time": "2022-09-15T10:27:56.059Z"
   },
   {
    "duration": 4,
    "start_time": "2022-09-15T10:27:56.124Z"
   },
   {
    "duration": 13,
    "start_time": "2022-09-15T10:27:56.130Z"
   },
   {
    "duration": 4,
    "start_time": "2022-09-15T10:27:56.144Z"
   },
   {
    "duration": 10,
    "start_time": "2022-09-15T10:27:56.149Z"
   },
   {
    "duration": 30,
    "start_time": "2022-09-15T10:27:56.162Z"
   },
   {
    "duration": 35,
    "start_time": "2022-09-15T10:27:56.193Z"
   },
   {
    "duration": 8,
    "start_time": "2022-09-15T10:27:56.230Z"
   },
   {
    "duration": 5,
    "start_time": "2022-09-15T10:27:56.239Z"
   },
   {
    "duration": 12,
    "start_time": "2022-09-15T10:27:56.245Z"
   },
   {
    "duration": 37,
    "start_time": "2022-09-15T10:27:56.258Z"
   },
   {
    "duration": 16,
    "start_time": "2022-09-15T10:27:56.297Z"
   },
   {
    "duration": 3,
    "start_time": "2022-09-15T10:27:56.315Z"
   },
   {
    "duration": 17,
    "start_time": "2022-09-15T10:27:56.320Z"
   },
   {
    "duration": 9,
    "start_time": "2022-09-15T10:27:56.338Z"
   },
   {
    "duration": 6,
    "start_time": "2022-09-15T10:27:56.349Z"
   },
   {
    "duration": 28,
    "start_time": "2022-09-15T10:27:56.357Z"
   },
   {
    "duration": 18,
    "start_time": "2022-09-15T10:27:56.386Z"
   },
   {
    "duration": 57,
    "start_time": "2022-09-15T10:27:56.406Z"
   },
   {
    "duration": 5,
    "start_time": "2022-09-15T10:27:56.464Z"
   },
   {
    "duration": 106,
    "start_time": "2022-09-15T10:27:56.471Z"
   },
   {
    "duration": 4,
    "start_time": "2022-09-15T10:27:56.582Z"
   },
   {
    "duration": 260,
    "start_time": "2022-09-15T10:27:56.591Z"
   },
   {
    "duration": 27,
    "start_time": "2022-09-15T10:27:56.854Z"
   },
   {
    "duration": 6,
    "start_time": "2022-09-15T10:27:56.883Z"
   },
   {
    "duration": 270,
    "start_time": "2022-09-15T10:27:56.894Z"
   },
   {
    "duration": 34,
    "start_time": "2022-09-15T10:27:57.166Z"
   },
   {
    "duration": 4,
    "start_time": "2022-09-15T10:27:57.202Z"
   },
   {
    "duration": 264,
    "start_time": "2022-09-15T10:27:57.207Z"
   },
   {
    "duration": 34,
    "start_time": "2022-09-15T10:27:57.473Z"
   },
   {
    "duration": 302,
    "start_time": "2022-09-15T10:27:57.509Z"
   },
   {
    "duration": 27,
    "start_time": "2022-09-15T10:27:57.813Z"
   },
   {
    "duration": 4,
    "start_time": "2022-09-15T10:27:57.842Z"
   },
   {
    "duration": 404,
    "start_time": "2022-09-15T10:27:57.848Z"
   },
   {
    "duration": 91,
    "start_time": "2022-09-15T10:27:58.253Z"
   },
   {
    "duration": 16,
    "start_time": "2022-09-15T10:27:58.345Z"
   },
   {
    "duration": 182,
    "start_time": "2022-09-15T10:27:58.363Z"
   },
   {
    "duration": 16,
    "start_time": "2022-09-15T10:28:49.443Z"
   },
   {
    "duration": 41,
    "start_time": "2022-09-15T17:27:40.635Z"
   },
   {
    "duration": 1810,
    "start_time": "2022-09-15T17:27:50.932Z"
   },
   {
    "duration": 91,
    "start_time": "2022-09-15T17:28:07.341Z"
   },
   {
    "duration": 1469,
    "start_time": "2022-09-15T17:28:15.033Z"
   },
   {
    "duration": 33,
    "start_time": "2022-09-15T17:28:16.504Z"
   },
   {
    "duration": 15,
    "start_time": "2022-09-15T17:28:16.539Z"
   },
   {
    "duration": 8,
    "start_time": "2022-09-15T17:28:16.555Z"
   },
   {
    "duration": 54,
    "start_time": "2022-09-15T17:28:16.565Z"
   },
   {
    "duration": 4,
    "start_time": "2022-09-15T17:28:16.620Z"
   },
   {
    "duration": 23,
    "start_time": "2022-09-15T17:28:16.626Z"
   },
   {
    "duration": 4,
    "start_time": "2022-09-15T17:28:16.651Z"
   },
   {
    "duration": 7,
    "start_time": "2022-09-15T17:28:16.656Z"
   },
   {
    "duration": 5,
    "start_time": "2022-09-15T17:28:16.664Z"
   },
   {
    "duration": 48,
    "start_time": "2022-09-15T17:28:16.670Z"
   },
   {
    "duration": 14,
    "start_time": "2022-09-15T17:28:16.719Z"
   },
   {
    "duration": 8,
    "start_time": "2022-09-15T17:28:16.737Z"
   },
   {
    "duration": 12,
    "start_time": "2022-09-15T17:28:16.748Z"
   },
   {
    "duration": 19,
    "start_time": "2022-09-15T17:28:16.762Z"
   },
   {
    "duration": 34,
    "start_time": "2022-09-15T17:28:16.783Z"
   },
   {
    "duration": 19,
    "start_time": "2022-09-15T17:28:16.818Z"
   },
   {
    "duration": 14,
    "start_time": "2022-09-15T17:28:16.838Z"
   },
   {
    "duration": 6,
    "start_time": "2022-09-15T17:28:16.854Z"
   },
   {
    "duration": 4,
    "start_time": "2022-09-15T17:28:16.861Z"
   },
   {
    "duration": 10,
    "start_time": "2022-09-15T17:28:16.866Z"
   },
   {
    "duration": 3,
    "start_time": "2022-09-15T17:28:16.878Z"
   },
   {
    "duration": 73,
    "start_time": "2022-09-15T17:28:16.883Z"
   },
   {
    "duration": 6,
    "start_time": "2022-09-15T17:28:16.957Z"
   },
   {
    "duration": 124,
    "start_time": "2022-09-15T17:28:16.964Z"
   },
   {
    "duration": 3,
    "start_time": "2022-09-15T17:28:17.090Z"
   },
   {
    "duration": 308,
    "start_time": "2022-09-15T17:28:17.095Z"
   },
   {
    "duration": 26,
    "start_time": "2022-09-15T17:28:17.407Z"
   },
   {
    "duration": 22,
    "start_time": "2022-09-15T17:28:17.436Z"
   },
   {
    "duration": 309,
    "start_time": "2022-09-15T17:28:17.460Z"
   },
   {
    "duration": 24,
    "start_time": "2022-09-15T17:28:17.771Z"
   },
   {
    "duration": 10,
    "start_time": "2022-09-15T17:28:17.805Z"
   },
   {
    "duration": 288,
    "start_time": "2022-09-15T17:28:17.817Z"
   },
   {
    "duration": 22,
    "start_time": "2022-09-15T17:28:18.107Z"
   },
   {
    "duration": 287,
    "start_time": "2022-09-15T17:28:18.134Z"
   },
   {
    "duration": 20,
    "start_time": "2022-09-15T17:28:18.432Z"
   },
   {
    "duration": 4,
    "start_time": "2022-09-15T17:28:18.453Z"
   },
   {
    "duration": 329,
    "start_time": "2022-09-15T17:28:18.458Z"
   },
   {
    "duration": 94,
    "start_time": "2022-09-15T17:28:18.788Z"
   },
   {
    "duration": 15,
    "start_time": "2022-09-15T17:28:18.884Z"
   },
   {
    "duration": 436,
    "start_time": "2022-09-15T17:28:18.902Z"
   },
   {
    "duration": 322,
    "start_time": "2022-09-15T17:28:30.952Z"
   },
   {
    "duration": 321,
    "start_time": "2022-09-15T17:28:32.752Z"
   },
   {
    "duration": 16,
    "start_time": "2022-09-15T17:28:53.287Z"
   },
   {
    "duration": 337,
    "start_time": "2022-09-15T17:28:54.279Z"
   },
   {
    "duration": 333,
    "start_time": "2022-09-15T17:29:06.952Z"
   },
   {
    "duration": 1403,
    "start_time": "2022-09-15T17:29:13.364Z"
   },
   {
    "duration": 24,
    "start_time": "2022-09-15T17:29:14.768Z"
   },
   {
    "duration": 22,
    "start_time": "2022-09-15T17:29:14.793Z"
   },
   {
    "duration": 16,
    "start_time": "2022-09-15T17:29:14.822Z"
   },
   {
    "duration": 32,
    "start_time": "2022-09-15T17:29:14.839Z"
   },
   {
    "duration": 4,
    "start_time": "2022-09-15T17:29:14.872Z"
   },
   {
    "duration": 10,
    "start_time": "2022-09-15T17:29:14.877Z"
   },
   {
    "duration": 4,
    "start_time": "2022-09-15T17:29:14.888Z"
   },
   {
    "duration": 12,
    "start_time": "2022-09-15T17:29:14.893Z"
   },
   {
    "duration": 17,
    "start_time": "2022-09-15T17:29:14.913Z"
   },
   {
    "duration": 35,
    "start_time": "2022-09-15T17:29:14.931Z"
   },
   {
    "duration": 8,
    "start_time": "2022-09-15T17:29:14.968Z"
   },
   {
    "duration": 6,
    "start_time": "2022-09-15T17:29:14.977Z"
   },
   {
    "duration": 13,
    "start_time": "2022-09-15T17:29:14.985Z"
   },
   {
    "duration": 22,
    "start_time": "2022-09-15T17:29:14.999Z"
   },
   {
    "duration": 20,
    "start_time": "2022-09-15T17:29:15.023Z"
   },
   {
    "duration": 3,
    "start_time": "2022-09-15T17:29:15.045Z"
   },
   {
    "duration": 12,
    "start_time": "2022-09-15T17:29:15.050Z"
   },
   {
    "duration": 9,
    "start_time": "2022-09-15T17:29:15.063Z"
   },
   {
    "duration": 8,
    "start_time": "2022-09-15T17:29:15.073Z"
   },
   {
    "duration": 29,
    "start_time": "2022-09-15T17:29:15.083Z"
   },
   {
    "duration": 29,
    "start_time": "2022-09-15T17:29:15.114Z"
   },
   {
    "duration": 83,
    "start_time": "2022-09-15T17:29:15.145Z"
   },
   {
    "duration": 7,
    "start_time": "2022-09-15T17:29:15.233Z"
   },
   {
    "duration": 105,
    "start_time": "2022-09-15T17:29:15.242Z"
   },
   {
    "duration": 4,
    "start_time": "2022-09-15T17:29:15.348Z"
   },
   {
    "duration": 279,
    "start_time": "2022-09-15T17:29:15.353Z"
   },
   {
    "duration": 19,
    "start_time": "2022-09-15T17:29:15.639Z"
   },
   {
    "duration": 4,
    "start_time": "2022-09-15T17:29:15.659Z"
   },
   {
    "duration": 318,
    "start_time": "2022-09-15T17:29:15.665Z"
   },
   {
    "duration": 27,
    "start_time": "2022-09-15T17:29:15.984Z"
   },
   {
    "duration": 4,
    "start_time": "2022-09-15T17:29:16.013Z"
   },
   {
    "duration": 325,
    "start_time": "2022-09-15T17:29:16.018Z"
   },
   {
    "duration": 19,
    "start_time": "2022-09-15T17:29:16.345Z"
   },
   {
    "duration": 281,
    "start_time": "2022-09-15T17:29:16.365Z"
   },
   {
    "duration": 20,
    "start_time": "2022-09-15T17:29:16.647Z"
   },
   {
    "duration": 3,
    "start_time": "2022-09-15T17:29:16.669Z"
   },
   {
    "duration": 379,
    "start_time": "2022-09-15T17:29:16.674Z"
   },
   {
    "duration": 79,
    "start_time": "2022-09-15T17:29:17.054Z"
   },
   {
    "duration": 16,
    "start_time": "2022-09-15T17:29:17.139Z"
   },
   {
    "duration": 392,
    "start_time": "2022-09-15T17:29:17.156Z"
   },
   {
    "duration": 355,
    "start_time": "2022-09-15T17:30:23.001Z"
   },
   {
    "duration": 1529,
    "start_time": "2022-09-15T17:30:30.622Z"
   },
   {
    "duration": 24,
    "start_time": "2022-09-15T17:30:32.153Z"
   },
   {
    "duration": 12,
    "start_time": "2022-09-15T17:30:32.179Z"
   },
   {
    "duration": 14,
    "start_time": "2022-09-15T17:30:32.210Z"
   },
   {
    "duration": 39,
    "start_time": "2022-09-15T17:30:32.225Z"
   },
   {
    "duration": 4,
    "start_time": "2022-09-15T17:30:32.265Z"
   },
   {
    "duration": 12,
    "start_time": "2022-09-15T17:30:32.271Z"
   },
   {
    "duration": 6,
    "start_time": "2022-09-15T17:30:32.284Z"
   },
   {
    "duration": 20,
    "start_time": "2022-09-15T17:30:32.292Z"
   },
   {
    "duration": 14,
    "start_time": "2022-09-15T17:30:32.318Z"
   },
   {
    "duration": 30,
    "start_time": "2022-09-15T17:30:32.333Z"
   },
   {
    "duration": 7,
    "start_time": "2022-09-15T17:30:32.364Z"
   },
   {
    "duration": 4,
    "start_time": "2022-09-15T17:30:32.372Z"
   },
   {
    "duration": 15,
    "start_time": "2022-09-15T17:30:32.377Z"
   },
   {
    "duration": 25,
    "start_time": "2022-09-15T17:30:32.394Z"
   },
   {
    "duration": 14,
    "start_time": "2022-09-15T17:30:32.423Z"
   },
   {
    "duration": 2,
    "start_time": "2022-09-15T17:30:32.439Z"
   },
   {
    "duration": 15,
    "start_time": "2022-09-15T17:30:32.442Z"
   },
   {
    "duration": 11,
    "start_time": "2022-09-15T17:30:32.458Z"
   },
   {
    "duration": 8,
    "start_time": "2022-09-15T17:30:32.470Z"
   },
   {
    "duration": 18,
    "start_time": "2022-09-15T17:30:32.479Z"
   },
   {
    "duration": 24,
    "start_time": "2022-09-15T17:30:32.498Z"
   },
   {
    "duration": 54,
    "start_time": "2022-09-15T17:30:32.523Z"
   },
   {
    "duration": 5,
    "start_time": "2022-09-15T17:30:32.579Z"
   },
   {
    "duration": 105,
    "start_time": "2022-09-15T17:30:32.586Z"
   },
   {
    "duration": 5,
    "start_time": "2022-09-15T17:30:32.693Z"
   },
   {
    "duration": 275,
    "start_time": "2022-09-15T17:30:32.705Z"
   },
   {
    "duration": 32,
    "start_time": "2022-09-15T17:30:32.983Z"
   },
   {
    "duration": 4,
    "start_time": "2022-09-15T17:30:33.019Z"
   },
   {
    "duration": 283,
    "start_time": "2022-09-15T17:30:33.024Z"
   },
   {
    "duration": 22,
    "start_time": "2022-09-15T17:30:33.308Z"
   },
   {
    "duration": 3,
    "start_time": "2022-09-15T17:30:33.331Z"
   },
   {
    "duration": 270,
    "start_time": "2022-09-15T17:30:33.336Z"
   },
   {
    "duration": 25,
    "start_time": "2022-09-15T17:30:33.612Z"
   },
   {
    "duration": 283,
    "start_time": "2022-09-15T17:30:33.639Z"
   },
   {
    "duration": 19,
    "start_time": "2022-09-15T17:30:33.923Z"
   },
   {
    "duration": 3,
    "start_time": "2022-09-15T17:30:33.943Z"
   },
   {
    "duration": 343,
    "start_time": "2022-09-15T17:30:33.948Z"
   },
   {
    "duration": 77,
    "start_time": "2022-09-15T17:30:34.292Z"
   },
   {
    "duration": 26,
    "start_time": "2022-09-15T17:30:34.371Z"
   },
   {
    "duration": 322,
    "start_time": "2022-09-15T17:30:34.404Z"
   },
   {
    "duration": 300,
    "start_time": "2022-09-15T17:30:50.745Z"
   },
   {
    "duration": 404,
    "start_time": "2022-09-15T17:31:19.073Z"
   },
   {
    "duration": 296,
    "start_time": "2022-09-15T17:31:33.488Z"
   },
   {
    "duration": 377,
    "start_time": "2022-09-15T17:31:51.483Z"
   },
   {
    "duration": 288,
    "start_time": "2022-09-15T17:32:06.095Z"
   },
   {
    "duration": 279,
    "start_time": "2022-09-15T17:32:15.272Z"
   },
   {
    "duration": 5,
    "start_time": "2022-09-15T17:32:58.503Z"
   },
   {
    "duration": 280,
    "start_time": "2022-09-15T17:33:01.437Z"
   },
   {
    "duration": 297,
    "start_time": "2022-09-15T17:33:04.886Z"
   },
   {
    "duration": 275,
    "start_time": "2022-09-15T17:34:46.819Z"
   },
   {
    "duration": 300,
    "start_time": "2022-09-15T17:34:58.010Z"
   },
   {
    "duration": 275,
    "start_time": "2022-09-15T17:35:10.333Z"
   },
   {
    "duration": 308,
    "start_time": "2022-09-15T17:35:17.762Z"
   },
   {
    "duration": 21,
    "start_time": "2022-09-15T17:36:17.009Z"
   },
   {
    "duration": 265,
    "start_time": "2022-09-15T17:36:19.168Z"
   },
   {
    "duration": 291,
    "start_time": "2022-09-15T17:36:30.768Z"
   },
   {
    "duration": 1639,
    "start_time": "2022-09-15T17:36:39.496Z"
   },
   {
    "duration": 28,
    "start_time": "2022-09-15T17:36:41.137Z"
   },
   {
    "duration": 15,
    "start_time": "2022-09-15T17:36:41.166Z"
   },
   {
    "duration": 28,
    "start_time": "2022-09-15T17:36:41.183Z"
   },
   {
    "duration": 36,
    "start_time": "2022-09-15T17:36:41.213Z"
   },
   {
    "duration": 4,
    "start_time": "2022-09-15T17:36:41.250Z"
   },
   {
    "duration": 14,
    "start_time": "2022-09-15T17:36:41.255Z"
   },
   {
    "duration": 6,
    "start_time": "2022-09-15T17:36:41.270Z"
   },
   {
    "duration": 8,
    "start_time": "2022-09-15T17:36:41.305Z"
   },
   {
    "duration": 5,
    "start_time": "2022-09-15T17:36:41.315Z"
   },
   {
    "duration": 32,
    "start_time": "2022-09-15T17:36:41.321Z"
   },
   {
    "duration": 9,
    "start_time": "2022-09-15T17:36:41.354Z"
   },
   {
    "duration": 4,
    "start_time": "2022-09-15T17:36:41.364Z"
   },
   {
    "duration": 42,
    "start_time": "2022-09-15T17:36:41.370Z"
   },
   {
    "duration": 16,
    "start_time": "2022-09-15T17:36:41.413Z"
   },
   {
    "duration": 15,
    "start_time": "2022-09-15T17:36:41.431Z"
   },
   {
    "duration": 3,
    "start_time": "2022-09-15T17:36:41.447Z"
   },
   {
    "duration": 13,
    "start_time": "2022-09-15T17:36:41.452Z"
   },
   {
    "duration": 10,
    "start_time": "2022-09-15T17:36:41.467Z"
   },
   {
    "duration": 4,
    "start_time": "2022-09-15T17:36:41.504Z"
   },
   {
    "duration": 12,
    "start_time": "2022-09-15T17:36:41.510Z"
   },
   {
    "duration": 6,
    "start_time": "2022-09-15T17:36:41.524Z"
   },
   {
    "duration": 59,
    "start_time": "2022-09-15T17:36:41.532Z"
   },
   {
    "duration": 7,
    "start_time": "2022-09-15T17:36:41.606Z"
   },
   {
    "duration": 119,
    "start_time": "2022-09-15T17:36:41.615Z"
   },
   {
    "duration": 4,
    "start_time": "2022-09-15T17:36:41.735Z"
   },
   {
    "duration": 287,
    "start_time": "2022-09-15T17:36:41.740Z"
   },
   {
    "duration": 19,
    "start_time": "2022-09-15T17:36:42.030Z"
   },
   {
    "duration": 4,
    "start_time": "2022-09-15T17:36:42.050Z"
   },
   {
    "duration": 285,
    "start_time": "2022-09-15T17:36:42.055Z"
   },
   {
    "duration": 21,
    "start_time": "2022-09-15T17:36:42.342Z"
   },
   {
    "duration": 4,
    "start_time": "2022-09-15T17:36:42.364Z"
   },
   {
    "duration": 366,
    "start_time": "2022-09-15T17:36:42.369Z"
   },
   {
    "duration": 20,
    "start_time": "2022-09-15T17:36:42.737Z"
   },
   {
    "duration": 333,
    "start_time": "2022-09-15T17:36:42.759Z"
   },
   {
    "duration": 23,
    "start_time": "2022-09-15T17:36:43.093Z"
   },
   {
    "duration": 4,
    "start_time": "2022-09-15T17:36:43.117Z"
   },
   {
    "duration": 350,
    "start_time": "2022-09-15T17:36:43.122Z"
   },
   {
    "duration": 76,
    "start_time": "2022-09-15T17:36:43.473Z"
   },
   {
    "duration": 16,
    "start_time": "2022-09-15T17:36:43.550Z"
   },
   {
    "duration": 164,
    "start_time": "2022-09-15T17:36:43.567Z"
   },
   {
    "duration": 29,
    "start_time": "2022-09-15T18:32:22.698Z"
   },
   {
    "duration": 24,
    "start_time": "2022-09-15T18:32:30.084Z"
   },
   {
    "duration": 18,
    "start_time": "2022-09-15T18:32:50.919Z"
   },
   {
    "duration": 18,
    "start_time": "2022-09-15T18:33:07.663Z"
   },
   {
    "duration": 21,
    "start_time": "2022-09-15T18:33:23.721Z"
   },
   {
    "duration": 7,
    "start_time": "2022-09-15T18:33:30.579Z"
   },
   {
    "duration": 33,
    "start_time": "2022-09-15T18:33:35.388Z"
   },
   {
    "duration": 31,
    "start_time": "2022-09-15T18:33:42.428Z"
   },
   {
    "duration": 27,
    "start_time": "2022-09-15T18:33:51.900Z"
   },
   {
    "duration": 16,
    "start_time": "2022-09-15T18:33:54.181Z"
   },
   {
    "duration": 22,
    "start_time": "2022-09-15T18:33:57.117Z"
   },
   {
    "duration": 21,
    "start_time": "2022-09-15T18:34:40.939Z"
   },
   {
    "duration": 21,
    "start_time": "2022-09-15T18:34:45.820Z"
   },
   {
    "duration": 389,
    "start_time": "2022-09-15T18:35:02.077Z"
   },
   {
    "duration": 16,
    "start_time": "2022-09-15T18:35:06.620Z"
   },
   {
    "duration": 347,
    "start_time": "2022-09-15T18:35:07.630Z"
   },
   {
    "duration": 2387,
    "start_time": "2022-09-15T18:35:22.741Z"
   },
   {
    "duration": 29,
    "start_time": "2022-09-15T18:35:25.130Z"
   },
   {
    "duration": 15,
    "start_time": "2022-09-15T18:35:25.161Z"
   },
   {
    "duration": 10,
    "start_time": "2022-09-15T18:35:25.177Z"
   },
   {
    "duration": 40,
    "start_time": "2022-09-15T18:35:25.211Z"
   },
   {
    "duration": 4,
    "start_time": "2022-09-15T18:35:25.252Z"
   },
   {
    "duration": 13,
    "start_time": "2022-09-15T18:35:25.257Z"
   },
   {
    "duration": 4,
    "start_time": "2022-09-15T18:35:25.272Z"
   },
   {
    "duration": 9,
    "start_time": "2022-09-15T18:35:25.277Z"
   },
   {
    "duration": 4,
    "start_time": "2022-09-15T18:35:25.288Z"
   },
   {
    "duration": 49,
    "start_time": "2022-09-15T18:35:25.294Z"
   },
   {
    "duration": 10,
    "start_time": "2022-09-15T18:35:25.344Z"
   },
   {
    "duration": 5,
    "start_time": "2022-09-15T18:35:25.355Z"
   },
   {
    "duration": 14,
    "start_time": "2022-09-15T18:35:25.361Z"
   },
   {
    "duration": 51,
    "start_time": "2022-09-15T18:35:25.376Z"
   },
   {
    "duration": 18,
    "start_time": "2022-09-15T18:35:25.429Z"
   },
   {
    "duration": 4,
    "start_time": "2022-09-15T18:35:25.449Z"
   },
   {
    "duration": 15,
    "start_time": "2022-09-15T18:35:25.454Z"
   },
   {
    "duration": 11,
    "start_time": "2022-09-15T18:35:25.471Z"
   },
   {
    "duration": 20,
    "start_time": "2022-09-15T18:35:25.505Z"
   },
   {
    "duration": 13,
    "start_time": "2022-09-15T18:35:25.528Z"
   },
   {
    "duration": 25,
    "start_time": "2022-09-15T18:35:25.543Z"
   },
   {
    "duration": 66,
    "start_time": "2022-09-15T18:35:25.570Z"
   },
   {
    "duration": 7,
    "start_time": "2022-09-15T18:35:25.637Z"
   },
   {
    "duration": 124,
    "start_time": "2022-09-15T18:35:25.646Z"
   },
   {
    "duration": 4,
    "start_time": "2022-09-15T18:35:25.772Z"
   },
   {
    "duration": 299,
    "start_time": "2022-09-15T18:35:25.777Z"
   },
   {
    "duration": 40,
    "start_time": "2022-09-15T18:35:26.081Z"
   },
   {
    "duration": 3,
    "start_time": "2022-09-15T18:35:26.123Z"
   },
   {
    "duration": 295,
    "start_time": "2022-09-15T18:35:26.127Z"
   },
   {
    "duration": 19,
    "start_time": "2022-09-15T18:35:26.424Z"
   },
   {
    "duration": 11,
    "start_time": "2022-09-15T18:35:26.444Z"
   },
   {
    "duration": 305,
    "start_time": "2022-09-15T18:35:26.456Z"
   },
   {
    "duration": 20,
    "start_time": "2022-09-15T18:35:26.763Z"
   },
   {
    "duration": 271,
    "start_time": "2022-09-15T18:35:26.784Z"
   },
   {
    "duration": 20,
    "start_time": "2022-09-15T18:35:27.057Z"
   },
   {
    "duration": 3,
    "start_time": "2022-09-15T18:35:27.079Z"
   },
   {
    "duration": 407,
    "start_time": "2022-09-15T18:35:27.084Z"
   },
   {
    "duration": 90,
    "start_time": "2022-09-15T18:35:27.493Z"
   },
   {
    "duration": 17,
    "start_time": "2022-09-15T18:35:27.585Z"
   },
   {
    "duration": 213,
    "start_time": "2022-09-15T18:35:27.604Z"
   },
   {
    "duration": 21,
    "start_time": "2022-09-15T18:36:26.302Z"
   },
   {
    "duration": 16,
    "start_time": "2022-09-15T18:36:29.135Z"
   },
   {
    "duration": 143,
    "start_time": "2022-09-15T18:36:35.256Z"
   },
   {
    "duration": 20,
    "start_time": "2022-09-15T18:36:38.751Z"
   },
   {
    "duration": 19,
    "start_time": "2022-09-15T18:36:41.144Z"
   },
   {
    "duration": 17,
    "start_time": "2022-09-15T18:36:45.057Z"
   },
   {
    "duration": 17,
    "start_time": "2022-09-15T18:36:47.872Z"
   },
   {
    "duration": 16,
    "start_time": "2022-09-15T18:36:50.132Z"
   },
   {
    "duration": 179,
    "start_time": "2022-09-15T18:37:35.951Z"
   },
   {
    "duration": 99,
    "start_time": "2022-09-15T18:37:39.620Z"
   },
   {
    "duration": 1414,
    "start_time": "2022-09-15T18:39:22.022Z"
   },
   {
    "duration": 25,
    "start_time": "2022-09-15T18:39:23.438Z"
   },
   {
    "duration": 14,
    "start_time": "2022-09-15T18:39:23.464Z"
   },
   {
    "duration": 37,
    "start_time": "2022-09-15T18:39:23.481Z"
   },
   {
    "duration": 34,
    "start_time": "2022-09-15T18:39:23.520Z"
   },
   {
    "duration": 3,
    "start_time": "2022-09-15T18:39:23.556Z"
   },
   {
    "duration": 12,
    "start_time": "2022-09-15T18:39:23.560Z"
   },
   {
    "duration": 4,
    "start_time": "2022-09-15T18:39:23.573Z"
   },
   {
    "duration": 9,
    "start_time": "2022-09-15T18:39:23.578Z"
   },
   {
    "duration": 20,
    "start_time": "2022-09-15T18:39:23.589Z"
   },
   {
    "duration": 33,
    "start_time": "2022-09-15T18:39:23.610Z"
   },
   {
    "duration": 7,
    "start_time": "2022-09-15T18:39:23.645Z"
   },
   {
    "duration": 5,
    "start_time": "2022-09-15T18:39:23.654Z"
   },
   {
    "duration": 13,
    "start_time": "2022-09-15T18:39:23.660Z"
   },
   {
    "duration": 44,
    "start_time": "2022-09-15T18:39:23.675Z"
   },
   {
    "duration": 17,
    "start_time": "2022-09-15T18:39:23.720Z"
   },
   {
    "duration": 3,
    "start_time": "2022-09-15T18:39:23.738Z"
   },
   {
    "duration": 10,
    "start_time": "2022-09-15T18:39:23.743Z"
   },
   {
    "duration": 5,
    "start_time": "2022-09-15T18:39:23.754Z"
   },
   {
    "duration": 3,
    "start_time": "2022-09-15T18:39:23.760Z"
   },
   {
    "duration": 18,
    "start_time": "2022-09-15T18:39:23.764Z"
   },
   {
    "duration": 27,
    "start_time": "2022-09-15T18:39:23.783Z"
   },
   {
    "duration": 63,
    "start_time": "2022-09-15T18:39:23.811Z"
   },
   {
    "duration": 5,
    "start_time": "2022-09-15T18:39:23.876Z"
   },
   {
    "duration": 112,
    "start_time": "2022-09-15T18:39:23.883Z"
   },
   {
    "duration": 4,
    "start_time": "2022-09-15T18:39:23.996Z"
   },
   {
    "duration": 318,
    "start_time": "2022-09-15T18:39:24.004Z"
   },
   {
    "duration": 23,
    "start_time": "2022-09-15T18:39:24.327Z"
   },
   {
    "duration": 4,
    "start_time": "2022-09-15T18:39:24.351Z"
   },
   {
    "duration": 369,
    "start_time": "2022-09-15T18:39:24.356Z"
   },
   {
    "duration": 19,
    "start_time": "2022-09-15T18:39:24.727Z"
   },
   {
    "duration": 3,
    "start_time": "2022-09-15T18:39:24.747Z"
   },
   {
    "duration": 332,
    "start_time": "2022-09-15T18:39:24.752Z"
   },
   {
    "duration": 32,
    "start_time": "2022-09-15T18:39:25.085Z"
   },
   {
    "duration": 287,
    "start_time": "2022-09-15T18:39:25.118Z"
   },
   {
    "duration": 33,
    "start_time": "2022-09-15T18:39:25.407Z"
   },
   {
    "duration": 4,
    "start_time": "2022-09-15T18:39:25.442Z"
   },
   {
    "duration": 366,
    "start_time": "2022-09-15T18:39:25.447Z"
   },
   {
    "duration": 83,
    "start_time": "2022-09-15T18:39:25.815Z"
   },
   {
    "duration": 24,
    "start_time": "2022-09-15T18:39:25.900Z"
   },
   {
    "duration": 186,
    "start_time": "2022-09-15T18:39:25.926Z"
   },
   {
    "duration": 19,
    "start_time": "2022-09-15T18:39:41.059Z"
   },
   {
    "duration": 24,
    "start_time": "2022-09-15T18:39:44.435Z"
   },
   {
    "duration": 25,
    "start_time": "2022-09-15T18:39:47.299Z"
   },
   {
    "duration": 18,
    "start_time": "2022-09-15T18:39:50.628Z"
   },
   {
    "duration": 19,
    "start_time": "2022-09-15T18:41:38.179Z"
   },
   {
    "duration": 21,
    "start_time": "2022-09-15T18:41:48.957Z"
   },
   {
    "duration": 2070,
    "start_time": "2022-09-15T18:47:43.969Z"
   },
   {
    "duration": 28,
    "start_time": "2022-09-15T18:48:06.303Z"
   },
   {
    "duration": 1458,
    "start_time": "2022-09-15T18:50:05.642Z"
   },
   {
    "duration": 1273,
    "start_time": "2022-09-15T18:50:25.613Z"
   },
   {
    "duration": 18,
    "start_time": "2022-09-15T18:50:47.975Z"
   },
   {
    "duration": 297,
    "start_time": "2022-09-15T18:50:50.351Z"
   },
   {
    "duration": 1437,
    "start_time": "2022-09-15T18:50:59.381Z"
   },
   {
    "duration": 24,
    "start_time": "2022-09-15T18:51:00.820Z"
   },
   {
    "duration": 15,
    "start_time": "2022-09-15T18:51:00.845Z"
   },
   {
    "duration": 10,
    "start_time": "2022-09-15T18:51:00.862Z"
   },
   {
    "duration": 52,
    "start_time": "2022-09-15T18:51:00.874Z"
   },
   {
    "duration": 4,
    "start_time": "2022-09-15T18:51:00.927Z"
   },
   {
    "duration": 17,
    "start_time": "2022-09-15T18:51:00.932Z"
   },
   {
    "duration": 9,
    "start_time": "2022-09-15T18:51:00.951Z"
   },
   {
    "duration": 13,
    "start_time": "2022-09-15T18:51:00.962Z"
   },
   {
    "duration": 4,
    "start_time": "2022-09-15T18:51:00.978Z"
   },
   {
    "duration": 45,
    "start_time": "2022-09-15T18:51:00.983Z"
   },
   {
    "duration": 8,
    "start_time": "2022-09-15T18:51:01.030Z"
   },
   {
    "duration": 7,
    "start_time": "2022-09-15T18:51:01.039Z"
   },
   {
    "duration": 16,
    "start_time": "2022-09-15T18:51:01.047Z"
   },
   {
    "duration": 35,
    "start_time": "2022-09-15T18:51:01.064Z"
   },
   {
    "duration": 18,
    "start_time": "2022-09-15T18:51:01.100Z"
   },
   {
    "duration": 9,
    "start_time": "2022-09-15T18:51:01.119Z"
   },
   {
    "duration": 23,
    "start_time": "2022-09-15T18:51:01.129Z"
   },
   {
    "duration": 7,
    "start_time": "2022-09-15T18:51:01.154Z"
   },
   {
    "duration": 13,
    "start_time": "2022-09-15T18:51:01.162Z"
   },
   {
    "duration": 17,
    "start_time": "2022-09-15T18:51:01.176Z"
   },
   {
    "duration": 7,
    "start_time": "2022-09-15T18:51:01.194Z"
   },
   {
    "duration": 57,
    "start_time": "2022-09-15T18:51:01.203Z"
   },
   {
    "duration": 5,
    "start_time": "2022-09-15T18:51:01.262Z"
   },
   {
    "duration": 100,
    "start_time": "2022-09-15T18:51:01.268Z"
   },
   {
    "duration": 4,
    "start_time": "2022-09-15T18:51:01.369Z"
   },
   {
    "duration": 266,
    "start_time": "2022-09-15T18:51:01.374Z"
   },
   {
    "duration": 20,
    "start_time": "2022-09-15T18:51:01.643Z"
   },
   {
    "duration": 3,
    "start_time": "2022-09-15T18:51:01.665Z"
   },
   {
    "duration": 301,
    "start_time": "2022-09-15T18:51:01.670Z"
   },
   {
    "duration": 18,
    "start_time": "2022-09-15T18:51:01.972Z"
   },
   {
    "duration": 15,
    "start_time": "2022-09-15T18:51:01.991Z"
   },
   {
    "duration": 270,
    "start_time": "2022-09-15T18:51:02.007Z"
   },
   {
    "duration": 30,
    "start_time": "2022-09-15T18:51:02.278Z"
   },
   {
    "duration": 252,
    "start_time": "2022-09-15T18:51:02.310Z"
   },
   {
    "duration": 20,
    "start_time": "2022-09-15T18:51:02.563Z"
   },
   {
    "duration": 4,
    "start_time": "2022-09-15T18:51:02.584Z"
   },
   {
    "duration": 373,
    "start_time": "2022-09-15T18:51:02.589Z"
   },
   {
    "duration": 72,
    "start_time": "2022-09-15T18:51:02.964Z"
   },
   {
    "duration": 14,
    "start_time": "2022-09-15T18:51:03.037Z"
   },
   {
    "duration": 302,
    "start_time": "2022-09-15T18:51:03.052Z"
   },
   {
    "duration": 292,
    "start_time": "2022-09-15T18:51:12.209Z"
   },
   {
    "duration": 15,
    "start_time": "2022-09-15T18:52:35.379Z"
   },
   {
    "duration": 298,
    "start_time": "2022-09-15T18:52:38.212Z"
   },
   {
    "duration": 1323,
    "start_time": "2022-09-15T18:52:50.255Z"
   },
   {
    "duration": 26,
    "start_time": "2022-09-15T18:52:51.580Z"
   },
   {
    "duration": 13,
    "start_time": "2022-09-15T18:52:51.608Z"
   },
   {
    "duration": 10,
    "start_time": "2022-09-15T18:52:51.623Z"
   },
   {
    "duration": 29,
    "start_time": "2022-09-15T18:52:51.634Z"
   },
   {
    "duration": 3,
    "start_time": "2022-09-15T18:52:51.665Z"
   },
   {
    "duration": 36,
    "start_time": "2022-09-15T18:52:51.669Z"
   },
   {
    "duration": 4,
    "start_time": "2022-09-15T18:52:51.707Z"
   },
   {
    "duration": 21,
    "start_time": "2022-09-15T18:52:51.713Z"
   },
   {
    "duration": 10,
    "start_time": "2022-09-15T18:52:51.737Z"
   },
   {
    "duration": 47,
    "start_time": "2022-09-15T18:52:51.748Z"
   },
   {
    "duration": 8,
    "start_time": "2022-09-15T18:52:51.797Z"
   },
   {
    "duration": 3,
    "start_time": "2022-09-15T18:52:51.807Z"
   },
   {
    "duration": 12,
    "start_time": "2022-09-15T18:52:51.811Z"
   },
   {
    "duration": 22,
    "start_time": "2022-09-15T18:52:51.825Z"
   },
   {
    "duration": 17,
    "start_time": "2022-09-15T18:52:51.848Z"
   },
   {
    "duration": 3,
    "start_time": "2022-09-15T18:52:51.866Z"
   },
   {
    "duration": 38,
    "start_time": "2022-09-15T18:52:51.871Z"
   },
   {
    "duration": 5,
    "start_time": "2022-09-15T18:52:51.910Z"
   },
   {
    "duration": 4,
    "start_time": "2022-09-15T18:52:51.916Z"
   },
   {
    "duration": 12,
    "start_time": "2022-09-15T18:52:51.921Z"
   },
   {
    "duration": 3,
    "start_time": "2022-09-15T18:52:51.935Z"
   },
   {
    "duration": 68,
    "start_time": "2022-09-15T18:52:51.940Z"
   },
   {
    "duration": 6,
    "start_time": "2022-09-15T18:52:52.010Z"
   },
   {
    "duration": 117,
    "start_time": "2022-09-15T18:52:52.018Z"
   },
   {
    "duration": 5,
    "start_time": "2022-09-15T18:52:52.136Z"
   },
   {
    "duration": 278,
    "start_time": "2022-09-15T18:52:52.142Z"
   },
   {
    "duration": 21,
    "start_time": "2022-09-15T18:52:52.423Z"
   },
   {
    "duration": 4,
    "start_time": "2022-09-15T18:52:52.446Z"
   },
   {
    "duration": 337,
    "start_time": "2022-09-15T18:52:52.451Z"
   },
   {
    "duration": 26,
    "start_time": "2022-09-15T18:52:52.789Z"
   },
   {
    "duration": 4,
    "start_time": "2022-09-15T18:52:52.816Z"
   },
   {
    "duration": 274,
    "start_time": "2022-09-15T18:52:52.821Z"
   },
   {
    "duration": 19,
    "start_time": "2022-09-15T18:52:53.105Z"
   },
   {
    "duration": 256,
    "start_time": "2022-09-15T18:52:53.126Z"
   },
   {
    "duration": 27,
    "start_time": "2022-09-15T18:52:53.384Z"
   },
   {
    "duration": 3,
    "start_time": "2022-09-15T18:52:53.412Z"
   },
   {
    "duration": 349,
    "start_time": "2022-09-15T18:52:53.417Z"
   },
   {
    "duration": 74,
    "start_time": "2022-09-15T18:52:53.768Z"
   },
   {
    "duration": 18,
    "start_time": "2022-09-15T18:52:53.843Z"
   },
   {
    "duration": 327,
    "start_time": "2022-09-15T18:52:53.863Z"
   },
   {
    "duration": 16,
    "start_time": "2022-09-15T18:53:43.393Z"
   },
   {
    "duration": 292,
    "start_time": "2022-09-15T18:53:44.259Z"
   },
   {
    "duration": 90,
    "start_time": "2022-09-15T18:54:38.133Z"
   },
   {
    "duration": 15,
    "start_time": "2022-09-15T18:55:16.343Z"
   },
   {
    "duration": 315,
    "start_time": "2022-09-15T18:55:19.358Z"
   },
   {
    "duration": 163,
    "start_time": "2022-09-15T18:55:38.624Z"
   },
   {
    "duration": 76,
    "start_time": "2022-09-15T18:56:14.556Z"
   },
   {
    "duration": 26,
    "start_time": "2022-09-15T18:56:37.497Z"
   },
   {
    "duration": 291,
    "start_time": "2022-09-15T18:56:41.433Z"
   },
   {
    "duration": 17,
    "start_time": "2022-09-15T18:57:42.184Z"
   },
   {
    "duration": 343,
    "start_time": "2022-09-15T18:57:43.392Z"
   },
   {
    "duration": 1562,
    "start_time": "2022-09-15T18:57:48.902Z"
   },
   {
    "duration": 27,
    "start_time": "2022-09-15T18:57:50.466Z"
   },
   {
    "duration": 14,
    "start_time": "2022-09-15T18:57:50.494Z"
   },
   {
    "duration": 10,
    "start_time": "2022-09-15T18:57:50.510Z"
   },
   {
    "duration": 30,
    "start_time": "2022-09-15T18:57:50.523Z"
   },
   {
    "duration": 3,
    "start_time": "2022-09-15T18:57:50.555Z"
   },
   {
    "duration": 10,
    "start_time": "2022-09-15T18:57:50.559Z"
   },
   {
    "duration": 4,
    "start_time": "2022-09-15T18:57:50.570Z"
   },
   {
    "duration": 7,
    "start_time": "2022-09-15T18:57:50.606Z"
   },
   {
    "duration": 5,
    "start_time": "2022-09-15T18:57:50.614Z"
   },
   {
    "duration": 30,
    "start_time": "2022-09-15T18:57:50.620Z"
   },
   {
    "duration": 7,
    "start_time": "2022-09-15T18:57:50.652Z"
   },
   {
    "duration": 5,
    "start_time": "2022-09-15T18:57:50.661Z"
   },
   {
    "duration": 43,
    "start_time": "2022-09-15T18:57:50.668Z"
   },
   {
    "duration": 17,
    "start_time": "2022-09-15T18:57:50.713Z"
   },
   {
    "duration": 15,
    "start_time": "2022-09-15T18:57:50.731Z"
   },
   {
    "duration": 3,
    "start_time": "2022-09-15T18:57:50.748Z"
   },
   {
    "duration": 18,
    "start_time": "2022-09-15T18:57:50.752Z"
   },
   {
    "duration": 9,
    "start_time": "2022-09-15T18:57:50.772Z"
   },
   {
    "duration": 3,
    "start_time": "2022-09-15T18:57:50.806Z"
   },
   {
    "duration": 19,
    "start_time": "2022-09-15T18:57:50.810Z"
   },
   {
    "duration": 3,
    "start_time": "2022-09-15T18:57:50.831Z"
   },
   {
    "duration": 54,
    "start_time": "2022-09-15T18:57:50.835Z"
   },
   {
    "duration": 16,
    "start_time": "2022-09-15T18:57:50.891Z"
   },
   {
    "duration": 122,
    "start_time": "2022-09-15T18:57:50.908Z"
   },
   {
    "duration": 5,
    "start_time": "2022-09-15T18:57:51.032Z"
   },
   {
    "duration": 270,
    "start_time": "2022-09-15T18:57:51.039Z"
   },
   {
    "duration": 20,
    "start_time": "2022-09-15T18:57:51.311Z"
   },
   {
    "duration": 4,
    "start_time": "2022-09-15T18:57:51.332Z"
   },
   {
    "duration": 286,
    "start_time": "2022-09-15T18:57:51.337Z"
   },
   {
    "duration": 21,
    "start_time": "2022-09-15T18:57:51.625Z"
   },
   {
    "duration": 4,
    "start_time": "2022-09-15T18:57:51.647Z"
   },
   {
    "duration": 324,
    "start_time": "2022-09-15T18:57:51.653Z"
   },
   {
    "duration": 30,
    "start_time": "2022-09-15T18:57:51.980Z"
   },
   {
    "duration": 323,
    "start_time": "2022-09-15T18:57:52.012Z"
   },
   {
    "duration": 30,
    "start_time": "2022-09-15T18:57:52.337Z"
   },
   {
    "duration": 4,
    "start_time": "2022-09-15T18:57:52.369Z"
   },
   {
    "duration": 380,
    "start_time": "2022-09-15T18:57:52.375Z"
   },
   {
    "duration": 87,
    "start_time": "2022-09-15T18:57:52.757Z"
   },
   {
    "duration": 18,
    "start_time": "2022-09-15T18:57:52.847Z"
   },
   {
    "duration": 317,
    "start_time": "2022-09-15T18:57:52.870Z"
   },
   {
    "duration": 329,
    "start_time": "2022-09-15T18:57:57.838Z"
   },
   {
    "duration": 87,
    "start_time": "2022-09-15T19:01:38.214Z"
   },
   {
    "duration": 22,
    "start_time": "2022-09-15T19:02:37.448Z"
   },
   {
    "duration": 126,
    "start_time": "2022-09-15T19:06:15.398Z"
   },
   {
    "duration": 16,
    "start_time": "2022-09-15T19:06:18.862Z"
   },
   {
    "duration": 17,
    "start_time": "2022-09-15T19:06:53.569Z"
   },
   {
    "duration": 321,
    "start_time": "2022-09-15T19:06:54.763Z"
   },
   {
    "duration": 6,
    "start_time": "2022-09-15T19:13:46.479Z"
   },
   {
    "duration": 6,
    "start_time": "2022-09-15T19:14:21.876Z"
   },
   {
    "duration": 18,
    "start_time": "2022-09-15T19:14:24.500Z"
   },
   {
    "duration": 104,
    "start_time": "2022-09-15T19:14:25.372Z"
   },
   {
    "duration": 5,
    "start_time": "2022-09-15T19:14:29.740Z"
   },
   {
    "duration": 5,
    "start_time": "2022-09-15T19:17:52.923Z"
   },
   {
    "duration": 6,
    "start_time": "2022-09-15T19:18:11.682Z"
   },
   {
    "duration": 5,
    "start_time": "2022-09-15T19:18:20.155Z"
   },
   {
    "duration": 343,
    "start_time": "2022-09-15T19:22:41.645Z"
   },
   {
    "duration": 18,
    "start_time": "2022-09-15T19:25:03.844Z"
   },
   {
    "duration": 40,
    "start_time": "2022-09-15T19:25:25.272Z"
   },
   {
    "duration": 20,
    "start_time": "2022-09-15T19:25:50.516Z"
   },
   {
    "duration": 21,
    "start_time": "2022-09-15T19:26:10.389Z"
   },
   {
    "duration": 19,
    "start_time": "2022-09-15T19:26:22.519Z"
   },
   {
    "duration": 19,
    "start_time": "2022-09-15T19:33:20.380Z"
   },
   {
    "duration": 334,
    "start_time": "2022-09-15T19:40:32.780Z"
   },
   {
    "duration": 343,
    "start_time": "2022-09-15T19:40:41.287Z"
   },
   {
    "duration": 300,
    "start_time": "2022-09-15T19:40:52.648Z"
   },
   {
    "duration": 88,
    "start_time": "2022-09-15T19:41:09.305Z"
   },
   {
    "duration": 12355,
    "start_time": "2022-09-15T19:41:12.386Z"
   },
   {
    "duration": 85,
    "start_time": "2022-09-15T19:41:36.172Z"
   },
   {
    "duration": 85,
    "start_time": "2022-09-15T19:41:42.390Z"
   },
   {
    "duration": 13034,
    "start_time": "2022-09-15T19:42:09.978Z"
   },
   {
    "duration": 312,
    "start_time": "2022-09-15T19:45:14.078Z"
   },
   {
    "duration": 1494,
    "start_time": "2022-09-15T20:00:56.594Z"
   },
   {
    "duration": 36,
    "start_time": "2022-09-15T20:00:58.090Z"
   },
   {
    "duration": 22,
    "start_time": "2022-09-15T20:00:58.129Z"
   },
   {
    "duration": 9,
    "start_time": "2022-09-15T20:00:58.153Z"
   },
   {
    "duration": 31,
    "start_time": "2022-09-15T20:00:58.164Z"
   },
   {
    "duration": 18,
    "start_time": "2022-09-15T20:00:58.197Z"
   },
   {
    "duration": 14,
    "start_time": "2022-09-15T20:00:58.217Z"
   },
   {
    "duration": 5,
    "start_time": "2022-09-15T20:00:58.232Z"
   },
   {
    "duration": 11,
    "start_time": "2022-09-15T20:00:58.238Z"
   },
   {
    "duration": 5,
    "start_time": "2022-09-15T20:00:58.251Z"
   },
   {
    "duration": 55,
    "start_time": "2022-09-15T20:00:58.257Z"
   },
   {
    "duration": 10,
    "start_time": "2022-09-15T20:00:58.319Z"
   },
   {
    "duration": 3,
    "start_time": "2022-09-15T20:00:58.331Z"
   },
   {
    "duration": 11,
    "start_time": "2022-09-15T20:00:58.336Z"
   },
   {
    "duration": 16,
    "start_time": "2022-09-15T20:00:58.349Z"
   },
   {
    "duration": 15,
    "start_time": "2022-09-15T20:00:58.367Z"
   },
   {
    "duration": 29,
    "start_time": "2022-09-15T20:00:58.383Z"
   },
   {
    "duration": 23,
    "start_time": "2022-09-15T20:00:58.413Z"
   },
   {
    "duration": 5,
    "start_time": "2022-09-15T20:00:58.437Z"
   },
   {
    "duration": 3,
    "start_time": "2022-09-15T20:00:58.443Z"
   },
   {
    "duration": 9,
    "start_time": "2022-09-15T20:00:58.448Z"
   },
   {
    "duration": 6,
    "start_time": "2022-09-15T20:00:58.458Z"
   },
   {
    "duration": 59,
    "start_time": "2022-09-15T20:00:58.465Z"
   },
   {
    "duration": 5,
    "start_time": "2022-09-15T20:00:58.526Z"
   },
   {
    "duration": 116,
    "start_time": "2022-09-15T20:00:58.532Z"
   },
   {
    "duration": 4,
    "start_time": "2022-09-15T20:00:58.649Z"
   },
   {
    "duration": 270,
    "start_time": "2022-09-15T20:00:58.654Z"
   },
   {
    "duration": 18,
    "start_time": "2022-09-15T20:00:58.927Z"
   },
   {
    "duration": 3,
    "start_time": "2022-09-15T20:00:58.947Z"
   },
   {
    "duration": 282,
    "start_time": "2022-09-15T20:00:58.952Z"
   },
   {
    "duration": 19,
    "start_time": "2022-09-15T20:00:59.236Z"
   },
   {
    "duration": 3,
    "start_time": "2022-09-15T20:00:59.257Z"
   },
   {
    "duration": 321,
    "start_time": "2022-09-15T20:00:59.262Z"
   },
   {
    "duration": 34,
    "start_time": "2022-09-15T20:00:59.585Z"
   },
   {
    "duration": 263,
    "start_time": "2022-09-15T20:00:59.621Z"
   },
   {
    "duration": 35,
    "start_time": "2022-09-15T20:00:59.886Z"
   },
   {
    "duration": 5,
    "start_time": "2022-09-15T20:00:59.923Z"
   },
   {
    "duration": 364,
    "start_time": "2022-09-15T20:00:59.930Z"
   },
   {
    "duration": 83,
    "start_time": "2022-09-15T20:01:00.296Z"
   },
   {
    "duration": 17,
    "start_time": "2022-09-15T20:01:00.381Z"
   },
   {
    "duration": 323,
    "start_time": "2022-09-15T20:01:00.399Z"
   },
   {
    "duration": 83,
    "start_time": "2022-09-15T20:02:34.357Z"
   },
   {
    "duration": 265,
    "start_time": "2022-09-15T20:02:55.663Z"
   },
   {
    "duration": 1437,
    "start_time": "2022-09-15T20:03:27.365Z"
   },
   {
    "duration": 28,
    "start_time": "2022-09-15T20:03:28.804Z"
   },
   {
    "duration": 13,
    "start_time": "2022-09-15T20:03:28.833Z"
   },
   {
    "duration": 8,
    "start_time": "2022-09-15T20:03:28.848Z"
   },
   {
    "duration": 52,
    "start_time": "2022-09-15T20:03:28.858Z"
   },
   {
    "duration": 4,
    "start_time": "2022-09-15T20:03:28.911Z"
   },
   {
    "duration": 12,
    "start_time": "2022-09-15T20:03:28.920Z"
   },
   {
    "duration": 5,
    "start_time": "2022-09-15T20:03:28.934Z"
   },
   {
    "duration": 9,
    "start_time": "2022-09-15T20:03:28.940Z"
   },
   {
    "duration": 4,
    "start_time": "2022-09-15T20:03:28.953Z"
   },
   {
    "duration": 32,
    "start_time": "2022-09-15T20:03:28.958Z"
   },
   {
    "duration": 22,
    "start_time": "2022-09-15T20:03:28.991Z"
   },
   {
    "duration": 12,
    "start_time": "2022-09-15T20:03:29.015Z"
   },
   {
    "duration": 15,
    "start_time": "2022-09-15T20:03:29.028Z"
   },
   {
    "duration": 22,
    "start_time": "2022-09-15T20:03:29.044Z"
   },
   {
    "duration": 15,
    "start_time": "2022-09-15T20:03:29.068Z"
   },
   {
    "duration": 3,
    "start_time": "2022-09-15T20:03:29.084Z"
   },
   {
    "duration": 23,
    "start_time": "2022-09-15T20:03:29.089Z"
   },
   {
    "duration": 14,
    "start_time": "2022-09-15T20:03:29.113Z"
   },
   {
    "duration": 3,
    "start_time": "2022-09-15T20:03:29.128Z"
   },
   {
    "duration": 10,
    "start_time": "2022-09-15T20:03:29.132Z"
   },
   {
    "duration": 4,
    "start_time": "2022-09-15T20:03:29.143Z"
   },
   {
    "duration": 68,
    "start_time": "2022-09-15T20:03:29.148Z"
   },
   {
    "duration": 5,
    "start_time": "2022-09-15T20:03:29.220Z"
   },
   {
    "duration": 106,
    "start_time": "2022-09-15T20:03:29.227Z"
   },
   {
    "duration": 4,
    "start_time": "2022-09-15T20:03:29.335Z"
   },
   {
    "duration": 263,
    "start_time": "2022-09-15T20:03:29.340Z"
   },
   {
    "duration": 29,
    "start_time": "2022-09-15T20:03:29.613Z"
   },
   {
    "duration": 4,
    "start_time": "2022-09-15T20:03:29.644Z"
   },
   {
    "duration": 327,
    "start_time": "2022-09-15T20:03:29.650Z"
   },
   {
    "duration": 30,
    "start_time": "2022-09-15T20:03:29.978Z"
   },
   {
    "duration": 11,
    "start_time": "2022-09-15T20:03:30.012Z"
   },
   {
    "duration": 270,
    "start_time": "2022-09-15T20:03:30.024Z"
   },
   {
    "duration": 26,
    "start_time": "2022-09-15T20:03:30.295Z"
   },
   {
    "duration": 273,
    "start_time": "2022-09-15T20:03:30.322Z"
   },
   {
    "duration": 29,
    "start_time": "2022-09-15T20:03:30.597Z"
   },
   {
    "duration": 8,
    "start_time": "2022-09-15T20:03:30.627Z"
   },
   {
    "duration": 352,
    "start_time": "2022-09-15T20:03:30.637Z"
   },
   {
    "duration": 87,
    "start_time": "2022-09-15T20:03:30.991Z"
   },
   {
    "duration": 14,
    "start_time": "2022-09-15T20:03:31.079Z"
   },
   {
    "duration": 339,
    "start_time": "2022-09-15T20:03:31.095Z"
   },
   {
    "duration": 1889,
    "start_time": "2022-09-15T20:56:47.166Z"
   },
   {
    "duration": 27,
    "start_time": "2022-09-15T20:56:49.057Z"
   },
   {
    "duration": 20,
    "start_time": "2022-09-15T20:56:49.086Z"
   },
   {
    "duration": 11,
    "start_time": "2022-09-15T20:56:49.110Z"
   },
   {
    "duration": 32,
    "start_time": "2022-09-15T20:56:49.123Z"
   },
   {
    "duration": 3,
    "start_time": "2022-09-15T20:56:49.157Z"
   },
   {
    "duration": 38,
    "start_time": "2022-09-15T20:56:49.162Z"
   },
   {
    "duration": 6,
    "start_time": "2022-09-15T20:56:49.202Z"
   },
   {
    "duration": 15,
    "start_time": "2022-09-15T20:56:49.210Z"
   },
   {
    "duration": 5,
    "start_time": "2022-09-15T20:56:49.226Z"
   },
   {
    "duration": 31,
    "start_time": "2022-09-15T20:56:49.233Z"
   },
   {
    "duration": 34,
    "start_time": "2022-09-15T20:56:49.266Z"
   },
   {
    "duration": 5,
    "start_time": "2022-09-15T20:56:49.304Z"
   },
   {
    "duration": 23,
    "start_time": "2022-09-15T20:56:49.313Z"
   },
   {
    "duration": 22,
    "start_time": "2022-09-15T20:56:49.338Z"
   },
   {
    "duration": 18,
    "start_time": "2022-09-15T20:56:49.361Z"
   },
   {
    "duration": 18,
    "start_time": "2022-09-15T20:56:49.381Z"
   },
   {
    "duration": 19,
    "start_time": "2022-09-15T20:56:49.402Z"
   },
   {
    "duration": 5,
    "start_time": "2022-09-15T20:56:49.423Z"
   },
   {
    "duration": 3,
    "start_time": "2022-09-15T20:56:49.430Z"
   },
   {
    "duration": 10,
    "start_time": "2022-09-15T20:56:49.435Z"
   },
   {
    "duration": 4,
    "start_time": "2022-09-15T20:56:49.446Z"
   },
   {
    "duration": 93,
    "start_time": "2022-09-15T20:56:49.451Z"
   },
   {
    "duration": 6,
    "start_time": "2022-09-15T20:56:49.545Z"
   },
   {
    "duration": 125,
    "start_time": "2022-09-15T20:56:49.552Z"
   },
   {
    "duration": 4,
    "start_time": "2022-09-15T20:56:49.679Z"
   },
   {
    "duration": 280,
    "start_time": "2022-09-15T20:56:49.696Z"
   },
   {
    "duration": 39,
    "start_time": "2022-09-15T20:56:49.977Z"
   },
   {
    "duration": 4,
    "start_time": "2022-09-15T20:56:50.019Z"
   },
   {
    "duration": 491,
    "start_time": "2022-09-15T20:56:50.025Z"
   },
   {
    "duration": 20,
    "start_time": "2022-09-15T20:56:50.518Z"
   },
   {
    "duration": 5,
    "start_time": "2022-09-15T20:56:50.595Z"
   },
   {
    "duration": 413,
    "start_time": "2022-09-15T20:56:50.602Z"
   },
   {
    "duration": 79,
    "start_time": "2022-09-15T20:56:51.017Z"
   },
   {
    "duration": 607,
    "start_time": "2022-09-15T20:56:51.098Z"
   },
   {
    "duration": 25,
    "start_time": "2022-09-15T20:56:51.708Z"
   },
   {
    "duration": 3,
    "start_time": "2022-09-15T20:56:51.735Z"
   },
   {
    "duration": 568,
    "start_time": "2022-09-15T20:56:51.739Z"
   },
   {
    "duration": 306,
    "start_time": "2022-09-15T20:56:52.308Z"
   },
   {
    "duration": 18,
    "start_time": "2022-09-15T20:56:52.616Z"
   },
   {
    "duration": 842,
    "start_time": "2022-09-15T20:56:52.695Z"
   }
  ],
  "celltoolbar": "Отсутствует",
  "colab": {
   "name": "dpp_template_part2.ipynb",
   "provenance": []
  },
  "kernelspec": {
   "display_name": "Python 3 (ipykernel)",
   "language": "python",
   "name": "python3"
  },
  "language_info": {
   "codemirror_mode": {
    "name": "ipython",
    "version": 3
   },
   "file_extension": ".py",
   "mimetype": "text/x-python",
   "name": "python",
   "nbconvert_exporter": "python",
   "pygments_lexer": "ipython3",
   "version": "3.9.13"
  },
  "toc": {
   "base_numbering": 1,
   "nav_menu": {},
   "number_sections": true,
   "sideBar": true,
   "skip_h1_title": true,
   "title_cell": "Table of Contents",
   "title_sidebar": "Contents",
   "toc_cell": false,
   "toc_position": {},
   "toc_section_display": true,
   "toc_window_display": false
  }
 },
 "nbformat": 4,
 "nbformat_minor": 5
}
